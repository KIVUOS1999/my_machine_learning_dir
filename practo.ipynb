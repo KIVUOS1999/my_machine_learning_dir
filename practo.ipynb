{
 "cells": [
  {
   "cell_type": "code",
   "execution_count": 1,
   "id": "pregnant-bristol",
   "metadata": {},
   "outputs": [],
   "source": [
    "from bs4 import *\n",
    "import requests as rp\n",
    "import os\n",
    "from msedge.selenium_tools import *\n",
    "import time\n",
    "from tqdm import tqdm\n",
    "import pickle\n",
    "import numpy as np\n",
    "import psycopg2 as ps\n",
    "import random\n",
    "from selenium.webdriver.common.by import *\n",
    "import selenium\n",
    "import ast\n",
    "import concurrent.futures\n",
    "import threading\n",
    "import tensorflow as tf\n",
    "import json\n",
    "\n",
    "options = EdgeOptions()\n",
    "options.use_chromium = True\n",
    "options.add_argument(\"headless\")\n",
    "options.add_argument(\"disable-gpu\")"
   ]
  },
  {
   "cell_type": "code",
   "execution_count": 7,
   "id": "lesser-crossing",
   "metadata": {},
   "outputs": [],
   "source": [
    "def push_to_table(fname, lname, gender, npi, speciality, email,country,state,city,verify,password,degree,university,year,fee,bio,experience):\n",
    "    conn = ps.connect(\n",
    "        host = '127.0.0.1',\n",
    "        database = 'zocdoc',\n",
    "        user = 'postgres',\n",
    "        password = 'ss123546',\n",
    "    )\n",
    "    cur = conn.cursor()\n",
    "    cur.execute('insert into \"Practo\" values (%s,%s,%s,%s,%s,%s,%s,%s,%s,%s,%s,%s,%s,%s,%s,%s,%s)', (fname, lname, gender, npi, speciality, email,country,state,city,verify,password,degree,university,year,fee,bio,experience))\n",
    "    conn.commit()\n",
    "    conn.close() "
   ]
  },
  {
   "cell_type": "code",
   "execution_count": 5,
   "id": "unauthorized-strap",
   "metadata": {},
   "outputs": [],
   "source": [
    "#data = []\n",
    "def get_urls(url):\n",
    "    driver = Edge(options = options)\n",
    "    driver.get(url)\n",
    "    soup = BeautifulSoup(driver.page_source, 'html.parser')\n",
    "    page_urls = []\n",
    "    out = soup.find_all('div', {'class':'info-section'})\n",
    "    for i in out:\n",
    "        links = i.find('a')['href']\n",
    "        data.append(links)\n",
    "        \n",
    "    driver.close()\n",
    "    threadLimiter.release()"
   ]
  },
  {
   "cell_type": "code",
   "execution_count": 4,
   "id": "small-ultimate",
   "metadata": {},
   "outputs": [],
   "source": [
    "threadLimiter = threading.BoundedSemaphore(50)\n",
    "def url_collector(city = 'delhi'):\n",
    "    for i in tqdm(range(100,852)):#851\n",
    "        url = \"https://www.practo.com/search?results_type=doctor&q=%5B%7B%22word%22%3A%22doctor%22%2C%22autocompleted%22%3Atrue%2C%22category%22%3A%22type%22%7D%5D&city=\"+city+\"&page=\"+str(i)\n",
    "        t= threading.Thread(target = get_urls, args = [url])\n",
    "        threadLimiter.acquire()\n",
    "        try:\n",
    "            t.start()\n",
    "        except:\n",
    "            pass"
   ]
  },
  {
   "cell_type": "code",
   "execution_count": 6,
   "id": "possible-lingerie",
   "metadata": {},
   "outputs": [
    {
     "name": "stderr",
     "output_type": "stream",
     "text": [
      " 61%|█████████████████████████████████████████████████                               | 461/752 [05:10<00:51,  5.60it/s]Exception in thread Thread-420:\n",
      "Traceback (most recent call last):\n",
      "  File \"E:\\software\\anaconda\\envs\\gputest\\lib\\threading.py\", line 926, in _bootstrap_inner\n",
      "    self.run()\n",
      "  File \"E:\\software\\anaconda\\envs\\gputest\\lib\\threading.py\", line 870, in run\n",
      "    self._target(*self._args, **self._kwargs)\n",
      "  File \"<ipython-input-5-1b586a6f15a1>\", line 4, in get_urls\n",
      "    driver.get(url)\n",
      "  File \"E:\\software\\anaconda\\envs\\gputest\\lib\\site-packages\\selenium\\webdriver\\remote\\webdriver.py\", line 333, in get\n",
      "    self.execute(Command.GET, {'url': url})\n",
      "  File \"E:\\software\\anaconda\\envs\\gputest\\lib\\site-packages\\selenium\\webdriver\\remote\\webdriver.py\", line 321, in execute\n",
      "    self.error_handler.check_response(response)\n",
      "  File \"E:\\software\\anaconda\\envs\\gputest\\lib\\site-packages\\selenium\\webdriver\\remote\\errorhandler.py\", line 242, in check_response\n",
      "    raise exception_class(message, screen, stacktrace)\n",
      "selenium.common.exceptions.WebDriverException: Message: unknown error: net::ERR_CONNECTION_CLOSED\n",
      "  (Session info: headless MicrosoftEdge=89.0.774.45)\n",
      "\n",
      "Exception in thread Thread-415:\n",
      "Traceback (most recent call last):\n",
      "  File \"E:\\software\\anaconda\\envs\\gputest\\lib\\threading.py\", line 926, in _bootstrap_inner\n",
      "    self.run()\n",
      "  File \"E:\\software\\anaconda\\envs\\gputest\\lib\\threading.py\", line 870, in run\n",
      "    self._target(*self._args, **self._kwargs)\n",
      "  File \"<ipython-input-5-1b586a6f15a1>\", line 4, in get_urls\n",
      "    driver.get(url)\n",
      "  File \"E:\\software\\anaconda\\envs\\gputest\\lib\\site-packages\\selenium\\webdriver\\remote\\webdriver.py\", line 333, in get\n",
      "    self.execute(Command.GET, {'url': url})\n",
      "  File \"E:\\software\\anaconda\\envs\\gputest\\lib\\site-packages\\selenium\\webdriver\\remote\\webdriver.py\", line 321, in execute\n",
      "    self.error_handler.check_response(response)\n",
      "  File \"E:\\software\\anaconda\\envs\\gputest\\lib\\site-packages\\selenium\\webdriver\\remote\\errorhandler.py\", line 242, in check_response\n",
      "    raise exception_class(message, screen, stacktrace)\n",
      "selenium.common.exceptions.WebDriverException: Message: unknown error: net::ERR_CONNECTION_CLOSED\n",
      "  (Session info: headless MicrosoftEdge=89.0.774.45)\n",
      "\n",
      "\n",
      "\n",
      "100%|████████████████████████████████████████████████████████████████████████████████| 752/752 [10:16<00:00,  1.22it/s]\n"
     ]
    }
   ],
   "source": [
    "get_urls = url_collector()\n",
    "pickle_out = open('checkpoint_practo_url_delhi.pickle','wb')#change for another checkpoint\n",
    "pickle.dump(data, pickle_out)\n",
    "pickle_out.close()"
   ]
  },
  {
   "cell_type": "code",
   "execution_count": 8,
   "id": "infectious-medicare",
   "metadata": {},
   "outputs": [],
   "source": [
    "errors = []\n",
    "def get_profile(url):\n",
    "    driver = Edge(options = options)\n",
    "    driver.get(url)\n",
    "    soup = BeautifulSoup(driver.page_source, 'html.parser')\n",
    "    out = {}\n",
    "    try:\n",
    "        name = soup.find('h1', {'data-qa-id':'doctor-name'}).text\n",
    "\n",
    "        #first and last name\n",
    "        name = name.split(' ')\n",
    "        if len(name) == 2 and name[0] == 'Dr.':\n",
    "            fname = name[1]\n",
    "            lname = ''\n",
    "        elif name[0] != 'Dr.':\n",
    "            if len(name) == 1:\n",
    "                fname = name[0]\n",
    "                lname = ''\n",
    "            else:\n",
    "                fname = name[0]\n",
    "                lname = ' '.join(name[1:])\n",
    "        else:\n",
    "            fname = name[1]\n",
    "            lname = ' '.join(name[2:])\n",
    "\n",
    "        #gender\n",
    "        gender = get_gender(fname)\n",
    "\n",
    "        #npi\n",
    "        reg_details = soup.find('div', {'data-qa-id':'registrations-item'}).text\n",
    "        \n",
    "\n",
    "        #specility\n",
    "        speciality = soup.find('div', {'data-qa-id':'specializations-item'}).text\n",
    "\n",
    "        #email\n",
    "        email = ('.'.join(name[1:])+'@gmail.com').lower()\n",
    "\n",
    "        #country,state,city\n",
    "        country = 'India'\n",
    "        State = \"Delhi\"\n",
    "        city = \"Delhi\"\n",
    "\n",
    "        #password verify\n",
    "        password = 'DemoDoc@1234'\n",
    "        verify = 'True'\n",
    "\n",
    "        #fee,bio,experience\n",
    "        try:\n",
    "            fee = soup.find('span', {'data-qa-id':'consultation_fee'}).text[1:]\n",
    "        except:\n",
    "            fee = random.choice([100,150, 200,400,250])  \n",
    "        \n",
    "        driver.find_element_by_class_name(\"u-t-link\").click()\n",
    "        bio = ' '.join([i.text for i in driver.find_elements_by_class_name('c-profile__description')])[:-8]\n",
    "        experience = soup.find('div', {'data-qa-id':'doctor-specializations'}).find_all('h2')[-1].text.split(\"\\xa0\")[0]\n",
    "        \n",
    "            \n",
    "        #degree, university,year\n",
    "        education = []\n",
    "        dat = [i.text for i in soup.find_all('div', {'data-qa-id':'educations-item'})]\n",
    "        for i in dat:\n",
    "            m = i.split(', ')\n",
    "            education.append(\n",
    "                {\n",
    "                    'year':m[1],\n",
    "                    'degree':m[0].split(' - ')[0],\n",
    "                    'university':' '.join(m[0].split(' - ')[1:])\n",
    "                }            \n",
    "            )\n",
    "        push_to_table(fname, lname, gender, str(reg_details), speciality, email,country,State,city,verify,password,str(education),str(education),url,str(fee),bio,str(experience))\n",
    "    except:\n",
    "        errors.append(url)\n",
    "    finally:\n",
    "        driver.close()\n",
    "        threadLimiter.release()"
   ]
  },
  {
   "cell_type": "code",
   "execution_count": null,
   "id": "changing-favor",
   "metadata": {
    "scrolled": true
   },
   "outputs": [
    {
     "name": "stderr",
     "output_type": "stream",
     "text": [
      " 87%|████████████████████████████████████████████████████████████████████▏         | 1014/1159 [19:25<19:28,  8.06s/it]Exception in thread Thread-1149:\n",
      "Traceback (most recent call last):\n",
      "  File \"E:\\software\\anaconda\\envs\\gputest\\lib\\threading.py\", line 926, in _bootstrap_inner\n",
      "    self.run()\n",
      "  File \"E:\\software\\anaconda\\envs\\gputest\\lib\\threading.py\", line 870, in run\n",
      "    self._target(*self._args, **self._kwargs)\n",
      "  File \"<ipython-input-8-4ce93f29013c>\", line 75, in get_profile\n",
      "    driver.close()\n",
      "  File \"E:\\software\\anaconda\\envs\\gputest\\lib\\site-packages\\selenium\\webdriver\\remote\\webdriver.py\", line 688, in close\n",
      "    self.execute(Command.CLOSE)\n",
      "  File \"E:\\software\\anaconda\\envs\\gputest\\lib\\site-packages\\selenium\\webdriver\\remote\\webdriver.py\", line 321, in execute\n",
      "    self.error_handler.check_response(response)\n",
      "  File \"E:\\software\\anaconda\\envs\\gputest\\lib\\site-packages\\selenium\\webdriver\\remote\\errorhandler.py\", line 242, in check_response\n",
      "    raise exception_class(message, screen, stacktrace)\n",
      "selenium.common.exceptions.WebDriverException: Message: chrome not reachable\n",
      "  (Session info: headless MicrosoftEdge=89.0.774.45)\n",
      "\n",
      "Exception in thread Thread-1209:\n",
      "Traceback (most recent call last):\n",
      "  File \"E:\\software\\anaconda\\envs\\gputest\\lib\\threading.py\", line 926, in _bootstrap_inner\n",
      "    self.run()\n",
      "  File \"E:\\software\\anaconda\\envs\\gputest\\lib\\threading.py\", line 870, in run\n",
      "    self._target(*self._args, **self._kwargs)\n",
      "  File \"<ipython-input-8-4ce93f29013c>\", line 4, in get_profile\n",
      "    driver.get(url)\n",
      "  File \"E:\\software\\anaconda\\envs\\gputest\\lib\\site-packages\\selenium\\webdriver\\remote\\webdriver.py\", line 333, in get\n",
      "    self.execute(Command.GET, {'url': url})\n",
      "  File \"E:\\software\\anaconda\\envs\\gputest\\lib\\site-packages\\selenium\\webdriver\\remote\\webdriver.py\", line 321, in execute\n",
      "    self.error_handler.check_response(response)\n",
      "  File \"E:\\software\\anaconda\\envs\\gputest\\lib\\site-packages\\selenium\\webdriver\\remote\\errorhandler.py\", line 242, in check_response\n",
      "    raise exception_class(message, screen, stacktrace)\n",
      "selenium.common.exceptions.WebDriverException: Message: unknown error: net::ERR_CONNECTION_CLOSED\n",
      "  (Session info: headless MicrosoftEdge=89.0.774.45)\n",
      "\n",
      "\n",
      "\n",
      " 95%|█████████████████████████████████████████████████████████████████████████▉    | 1099/1159 [22:10<05:27,  5.45s/it]Exception in thread Thread-1292:\n",
      "Traceback (most recent call last):\n",
      "  File \"E:\\software\\anaconda\\envs\\gputest\\lib\\threading.py\", line 926, in _bootstrap_inner\n",
      "    self.run()\n",
      "  File \"E:\\software\\anaconda\\envs\\gputest\\lib\\threading.py\", line 870, in run\n",
      "    self._target(*self._args, **self._kwargs)\n",
      "  File \"<ipython-input-8-4ce93f29013c>\", line 75, in get_profile\n",
      "    driver.close()\n",
      "  File \"E:\\software\\anaconda\\envs\\gputest\\lib\\site-packages\\selenium\\webdriver\\remote\\webdriver.py\", line 688, in close\n",
      "    self.execute(Command.CLOSE)\n",
      "  File \"E:\\software\\anaconda\\envs\\gputest\\lib\\site-packages\\selenium\\webdriver\\remote\\webdriver.py\", line 321, in execute\n",
      "    self.error_handler.check_response(response)\n",
      "  File \"E:\\software\\anaconda\\envs\\gputest\\lib\\site-packages\\selenium\\webdriver\\remote\\errorhandler.py\", line 242, in check_response\n",
      "    raise exception_class(message, screen, stacktrace)\n",
      "selenium.common.exceptions.WebDriverException: Message: chrome not reachable\n",
      "  (Session info: headless MicrosoftEdge=89.0.774.45)\n",
      "\n",
      "Exception in thread Thread-1282:\n",
      "Traceback (most recent call last):\n",
      "  File \"E:\\software\\anaconda\\envs\\gputest\\lib\\threading.py\", line 926, in _bootstrap_inner\n",
      "    self.run()\n",
      "  File \"E:\\software\\anaconda\\envs\\gputest\\lib\\threading.py\", line 870, in run\n",
      "    self._target(*self._args, **self._kwargs)\n",
      "  File \"<ipython-input-8-4ce93f29013c>\", line 75, in get_profile\n",
      "    driver.close()\n",
      "  File \"E:\\software\\anaconda\\envs\\gputest\\lib\\site-packages\\selenium\\webdriver\\remote\\webdriver.py\", line 688, in close\n",
      "    self.execute(Command.CLOSE)\n",
      "  File \"E:\\software\\anaconda\\envs\\gputest\\lib\\site-packages\\selenium\\webdriver\\remote\\webdriver.py\", line 321, in execute\n",
      "    self.error_handler.check_response(response)\n",
      "  File \"E:\\software\\anaconda\\envs\\gputest\\lib\\site-packages\\selenium\\webdriver\\remote\\errorhandler.py\", line 242, in check_response\n",
      "    raise exception_class(message, screen, stacktrace)\n",
      "selenium.common.exceptions.WebDriverException: Message: chrome not reachable\n",
      "  (Session info: headless MicrosoftEdge=89.0.774.45)\n",
      "\n",
      "Exception in thread Thread-1286:\n",
      "Traceback (most recent call last):\n",
      "  File \"E:\\software\\anaconda\\envs\\gputest\\lib\\threading.py\", line 926, in _bootstrap_inner\n",
      "    self.run()\n",
      "  File \"E:\\software\\anaconda\\envs\\gputest\\lib\\threading.py\", line 870, in run\n",
      "    self._target(*self._args, **self._kwargs)\n",
      "  File \"<ipython-input-8-4ce93f29013c>\", line 75, in get_profile\n",
      "    driver.close()\n",
      "  File \"E:\\software\\anaconda\\envs\\gputest\\lib\\site-packages\\selenium\\webdriver\\remote\\webdriver.py\", line 688, in close\n",
      "    self.execute(Command.CLOSE)\n",
      "  File \"E:\\software\\anaconda\\envs\\gputest\\lib\\site-packages\\selenium\\webdriver\\remote\\webdriver.py\", line 321, in execute\n",
      "    self.error_handler.check_response(response)\n",
      "  File \"E:\\software\\anaconda\\envs\\gputest\\lib\\site-packages\\selenium\\webdriver\\remote\\errorhandler.py\", line 242, in check_response\n",
      "    raise exception_class(message, screen, stacktrace)\n",
      "selenium.common.exceptions.WebDriverException: Message: chrome not reachable\n",
      "  (Session info: headless MicrosoftEdge=89.0.774.45)\n",
      "\n",
      "\n",
      "\n"
     ]
    }
   ],
   "source": [
    "threadLimiter = threading.BoundedSemaphore(50)\n",
    "future = []\n",
    "count = 0\n",
    "for i in tqdm(urls[7311:]):\n",
    "    count+=1\n",
    "    t= threading.Thread(target = get_profile, args = [str('https://www.practo.com'+i)])\n",
    "    threadLimiter.acquire()\n",
    "    t.start()\n",
    "    '''future.append(t)\n",
    "    if((count)%1000 == 0):\n",
    "        for thread in future:\n",
    "            thread.join()\n",
    "        future = []\n",
    "for thread in future:\n",
    "    thread.join()\n",
    "    future = []'''"
   ]
  },
  {
   "cell_type": "code",
   "execution_count": 21,
   "id": "spectacular-jaguar",
   "metadata": {},
   "outputs": [
    {
     "ename": "NameError",
     "evalue": "name 'error' is not defined",
     "output_type": "error",
     "traceback": [
      "\u001b[1;31m---------------------------------------------------------------------------\u001b[0m",
      "\u001b[1;31mNameError\u001b[0m                                 Traceback (most recent call last)",
      "\u001b[1;32m<ipython-input-21-e4692d454d59>\u001b[0m in \u001b[0;36m<module>\u001b[1;34m\u001b[0m\n\u001b[0;32m      1\u001b[0m \u001b[0mpickle_out\u001b[0m \u001b[1;33m=\u001b[0m \u001b[0mopen\u001b[0m\u001b[1;33m(\u001b[0m\u001b[1;34m'checkpoint_practo_url_delhi_error.pickle'\u001b[0m\u001b[1;33m,\u001b[0m\u001b[1;34m'wb'\u001b[0m\u001b[1;33m)\u001b[0m\u001b[1;31m#change for another checkpoint\u001b[0m\u001b[1;33m\u001b[0m\u001b[1;33m\u001b[0m\u001b[0m\n\u001b[1;32m----> 2\u001b[1;33m \u001b[0mpickle\u001b[0m\u001b[1;33m.\u001b[0m\u001b[0mdump\u001b[0m\u001b[1;33m(\u001b[0m\u001b[0merror\u001b[0m\u001b[1;33m,\u001b[0m \u001b[0mpickle_out\u001b[0m\u001b[1;33m)\u001b[0m\u001b[1;33m\u001b[0m\u001b[1;33m\u001b[0m\u001b[0m\n\u001b[0m\u001b[0;32m      3\u001b[0m \u001b[0mpickle_out\u001b[0m\u001b[1;33m.\u001b[0m\u001b[0mclose\u001b[0m\u001b[1;33m(\u001b[0m\u001b[1;33m)\u001b[0m\u001b[1;33m\u001b[0m\u001b[1;33m\u001b[0m\u001b[0m\n",
      "\u001b[1;31mNameError\u001b[0m: name 'error' is not defined"
     ]
    }
   ],
   "source": [
    "pickle_out = open('checkpoint_practo_url_delhi.pickle','wb')#change for another checkpoint\n",
    "pickle.dump(data, pickle_out)\n",
    "pickle_out.close()"
   ]
  },
  {
   "cell_type": "code",
   "execution_count": 10,
   "id": "unavailable-mississippi",
   "metadata": {},
   "outputs": [],
   "source": [
    "pickle_in = open('checkpoint_practo_url_delhi.pickle','rb')\n",
    "data = pickle.load(pickle_in)"
   ]
  },
  {
   "cell_type": "code",
   "execution_count": 11,
   "id": "exempt-railway",
   "metadata": {},
   "outputs": [
    {
     "data": {
      "text/plain": [
       "8470"
      ]
     },
     "execution_count": 11,
     "metadata": {},
     "output_type": "execute_result"
    }
   ],
   "source": [
    "len(data)"
   ]
  },
  {
   "cell_type": "code",
   "execution_count": 12,
   "id": "accessible-accent",
   "metadata": {},
   "outputs": [],
   "source": [
    "urls = data "
   ]
  },
  {
   "cell_type": "code",
   "execution_count": 10,
   "id": "literary-distinction",
   "metadata": {},
   "outputs": [],
   "source": [
    "urls += k"
   ]
  },
  {
   "cell_type": "code",
   "execution_count": 22,
   "id": "indoor-roots",
   "metadata": {},
   "outputs": [],
   "source": [
    "#clearing error\n",
    "\n",
    "pickle_out = open('checkpoint_practo_url_delhi_error.pickle','wb')#change for another checkpoint\n",
    "pickle.dump(errors, pickle_out)\n",
    "pickle_out.close()"
   ]
  },
  {
   "cell_type": "code",
   "execution_count": null,
   "id": "mineral-blend",
   "metadata": {},
   "outputs": [],
   "source": [
    "import os\n",
    "os.system('shutdown /s /t 1')"
   ]
  },
  {
   "cell_type": "code",
   "execution_count": 9,
   "id": "everyday-question",
   "metadata": {},
   "outputs": [
    {
     "data": {
      "text/plain": [
       "121"
      ]
     },
     "execution_count": 9,
     "metadata": {},
     "output_type": "execute_result"
    }
   ],
   "source": [
    "pickle_in = open('checkpoint_practo_url_delhi_error.pickle','rb')\n",
    "k = pickle.load(pickle_in)\n",
    "len(k)"
   ]
  },
  {
   "cell_type": "code",
   "execution_count": null,
   "id": "concrete-strand",
   "metadata": {},
   "outputs": [],
   "source": []
  },
  {
   "cell_type": "code",
   "execution_count": null,
   "id": "innocent-pixel",
   "metadata": {},
   "outputs": [],
   "source": []
  },
  {
   "cell_type": "code",
   "execution_count": 9,
   "id": "destroyed-springfield",
   "metadata": {},
   "outputs": [],
   "source": [
    "model = tf.keras.models.load_model('gender_prediction_name.model')\n",
    "token_table = {}\n",
    "j = 0\n",
    "for i in 'abcdefghijklmnopqrstuvwxyz':\n",
    "    token_table[i] = j/25\n",
    "    j+=1\n",
    "def get_gender(name):\n",
    "    name = [token_table[i.lower()] for i in list(name)]\n",
    "    curr_len = len(name)\n",
    "    padd_len = 15 - curr_len\n",
    "    name += [-1.0]*padd_len\n",
    "    if np.argmax(model.predict([name])) == 0:\n",
    "        return('Female')\n",
    "    else:\n",
    "        return('Male')"
   ]
  },
  {
   "cell_type": "code",
   "execution_count": null,
   "id": "excessive-narrow",
   "metadata": {},
   "outputs": [],
   "source": []
  },
  {
   "cell_type": "code",
   "execution_count": null,
   "id": "representative-society",
   "metadata": {},
   "outputs": [],
   "source": []
  },
  {
   "cell_type": "code",
   "execution_count": 15,
   "id": "sapphire-movement",
   "metadata": {},
   "outputs": [
    {
     "data": {
      "text/plain": [
       "'https://v2.namsor.com/NamSorAPIv2/api2/json/country/souvik -H accept: application/json -H X-API-KEY: e1a21678aea7c569bb0059523e41fbf6'"
      ]
     },
     "execution_count": 15,
     "metadata": {},
     "output_type": "execute_result"
    }
   ],
   "source": [
    "\"https://v2.namsor.com/NamSorAPIv2/api2/json/country/souvik -H accept: application/json -H X-API-KEY: e1a21678aea7c569bb0059523e41fbf6\""
   ]
  },
  {
   "cell_type": "code",
   "execution_count": 4,
   "id": "concerned-composition",
   "metadata": {},
   "outputs": [],
   "source": []
  },
  {
   "cell_type": "code",
   "execution_count": 12,
   "id": "renewable-processing",
   "metadata": {},
   "outputs": [
    {
     "data": {
      "text/plain": [
       "'Male'"
      ]
     },
     "execution_count": 12,
     "metadata": {},
     "output_type": "execute_result"
    }
   ],
   "source": [
    "get_gender('souvik')"
   ]
  },
  {
   "cell_type": "markdown",
   "id": "palestinian-disease",
   "metadata": {},
   "source": [
    "# POSTMAN"
   ]
  },
  {
   "cell_type": "code",
   "execution_count": 3,
   "id": "american-institution",
   "metadata": {},
   "outputs": [
    {
     "data": {
      "text/plain": [
       "208"
      ]
     },
     "execution_count": 3,
     "metadata": {},
     "output_type": "execute_result"
    }
   ],
   "source": [
    "import pickle\n",
    "pickle_in = open('inserted_practo_postman.pickle','rb')\n",
    "m = pickle.load(pickle_in)\n",
    "len(m)"
   ]
  },
  {
   "cell_type": "code",
   "execution_count": 22,
   "id": "american-strip",
   "metadata": {},
   "outputs": [],
   "source": [
    "r = rp.get('https://server.docplus.online/doctors/getDoc/603745067fcc6c59ed6631ee')"
   ]
  },
  {
   "cell_type": "code",
   "execution_count": 3,
   "id": "central-reproduction",
   "metadata": {},
   "outputs": [],
   "source": [
    "def retrive_data():\n",
    "    conn = ps.connect(\n",
    "        host = '127.0.0.1',\n",
    "        database = 'zocdoc',\n",
    "        user = 'postgres',\n",
    "        password = 'ss123546',\n",
    "    )\n",
    "    cur = conn.cursor()\n",
    "    cur.execute('select * from \"Practo\"')\n",
    "    data = cur.fetchall()\n",
    "    return data"
   ]
  },
  {
   "cell_type": "code",
   "execution_count": 4,
   "id": "forbidden-trance",
   "metadata": {},
   "outputs": [],
   "source": [
    "pushed_data = retrive_data()"
   ]
  },
  {
   "cell_type": "code",
   "execution_count": 43,
   "id": "finite-smith",
   "metadata": {},
   "outputs": [
    {
     "data": {
      "text/plain": [
       "\"except:\\nsomething_wrong.append(out)\\nprint('something wrong', r.text)\\nreturn -1\\nexcept:\\nprint('error')\\nwrong.append(out)\""
      ]
     },
     "execution_count": 43,
     "metadata": {},
     "output_type": "execute_result"
    }
   ],
   "source": [
    "wrong = []\n",
    "something_wrong = []\n",
    "m = 0\n",
    "def send_data(out):\n",
    "    #inserting name\n",
    "    first_name = out[0]\n",
    "    last_name = out[1]\n",
    "\n",
    "\n",
    "    #inserting gender\n",
    "    gender = out[2]\n",
    "\n",
    "    #inserting npi\n",
    "    npi = out[3].split(' ')[0]\n",
    "\n",
    "    #inserting speciality\n",
    "    speciality = out[4]\n",
    "\n",
    "    #inserting about\n",
    "    about = out[15]\n",
    "\n",
    "    #inserting email\n",
    "    email = out[5]\n",
    "\n",
    "    #inserting address\n",
    "    country = out[6]\n",
    "    city = out[7]\n",
    "    state = out[8]\n",
    "\n",
    "    #inserting password\n",
    "    password = out[10]\n",
    "    verify = out[9]\n",
    "\n",
    "    #inserting fees\n",
    "    fee = out[14]\n",
    "\n",
    "    #education\n",
    "    edu = ast.literal_eval(out[11])\n",
    "\n",
    "    #register doctors\n",
    "    payload = {'firstName':first_name,\n",
    "              'lastName':last_name,\n",
    "              'email':email,\n",
    "              'country':country,\n",
    "              'state':state,\n",
    "              'city':city,\n",
    "              'password':password,\n",
    "              'basic':{},\n",
    "              'specialty':speciality,\n",
    "              'registration_number':npi}\n",
    "\n",
    "    r = rp.post('https://server.docplus.online/doctors/register', json = payload)\n",
    "    get_id = r.json()['data']['_id'] #id of created\n",
    "    datas[email] = get_id\n",
    "\n",
    "    if(len(datas.keys()) % 100 == 0):\n",
    "        pickle_out = open('inserted_practo_postman1.pickle','wb')#change for another checkpoint\n",
    "        pickle.dump(datas, pickle_out)\n",
    "        pickle_out.close()\n",
    "\n",
    "\n",
    "    #update_doctors\n",
    "    payload = {\n",
    "        'gender':gender,\n",
    "        'id':get_id,\n",
    "        'bio':about,\n",
    "        'education': edu,\n",
    "        'fee':fee,\n",
    "        'verify':'true',\n",
    "    }\n",
    "    r = rp.post('https://server.docplus.online/doctors/profile/update', json = payload)\n",
    "\n",
    "'''except:\n",
    "something_wrong.append(out)\n",
    "print('something wrong', r.text)\n",
    "return -1\n",
    "except:\n",
    "print('error')\n",
    "wrong.append(out)'''"
   ]
  },
  {
   "cell_type": "code",
   "execution_count": 44,
   "id": "charged-commerce",
   "metadata": {},
   "outputs": [
    {
     "name": "stderr",
     "output_type": "stream",
     "text": [
      "  0%|                                                                                            | 0/1 [00:00<?, ?it/s]\n"
     ]
    },
    {
     "ename": "KeyError",
     "evalue": "'data'",
     "output_type": "error",
     "traceback": [
      "\u001b[1;31m---------------------------------------------------------------------------\u001b[0m",
      "\u001b[1;31mKeyError\u001b[0m                                  Traceback (most recent call last)",
      "\u001b[1;32m<ipython-input-44-9a32e84d1cbb>\u001b[0m in \u001b[0;36m<module>\u001b[1;34m\u001b[0m\n\u001b[0;32m      1\u001b[0m \u001b[1;32mfor\u001b[0m \u001b[0mi\u001b[0m \u001b[1;32min\u001b[0m \u001b[0mtqdm\u001b[0m\u001b[1;33m(\u001b[0m\u001b[0mpushed_data\u001b[0m\u001b[1;33m[\u001b[0m\u001b[1;36m7\u001b[0m\u001b[1;33m:\u001b[0m\u001b[1;36m8\u001b[0m\u001b[1;33m]\u001b[0m\u001b[1;33m)\u001b[0m\u001b[1;33m:\u001b[0m\u001b[1;33m\u001b[0m\u001b[1;33m\u001b[0m\u001b[0m\n\u001b[1;32m----> 2\u001b[1;33m     \u001b[0mm\u001b[0m \u001b[1;33m=\u001b[0m \u001b[0msend_data\u001b[0m\u001b[1;33m(\u001b[0m\u001b[0mi\u001b[0m\u001b[1;33m)\u001b[0m\u001b[1;33m\u001b[0m\u001b[1;33m\u001b[0m\u001b[0m\n\u001b[0m\u001b[0;32m      3\u001b[0m     \u001b[1;32mif\u001b[0m \u001b[0mm\u001b[0m \u001b[1;33m==\u001b[0m \u001b[1;33m-\u001b[0m\u001b[1;36m1\u001b[0m\u001b[1;33m:\u001b[0m\u001b[1;33m\u001b[0m\u001b[1;33m\u001b[0m\u001b[0m\n\u001b[0;32m      4\u001b[0m         \u001b[1;32mbreak\u001b[0m\u001b[1;33m\u001b[0m\u001b[1;33m\u001b[0m\u001b[0m\n",
      "\u001b[1;32m<ipython-input-43-002c46621ea5>\u001b[0m in \u001b[0;36msend_data\u001b[1;34m(out)\u001b[0m\n\u001b[0;32m     51\u001b[0m \u001b[1;33m\u001b[0m\u001b[0m\n\u001b[0;32m     52\u001b[0m     \u001b[0mr\u001b[0m \u001b[1;33m=\u001b[0m \u001b[0mrp\u001b[0m\u001b[1;33m.\u001b[0m\u001b[0mpost\u001b[0m\u001b[1;33m(\u001b[0m\u001b[1;34m'https://server.docplus.online/doctors/register'\u001b[0m\u001b[1;33m,\u001b[0m \u001b[0mjson\u001b[0m \u001b[1;33m=\u001b[0m \u001b[0mpayload\u001b[0m\u001b[1;33m)\u001b[0m\u001b[1;33m\u001b[0m\u001b[1;33m\u001b[0m\u001b[0m\n\u001b[1;32m---> 53\u001b[1;33m     \u001b[0mget_id\u001b[0m \u001b[1;33m=\u001b[0m \u001b[0mr\u001b[0m\u001b[1;33m.\u001b[0m\u001b[0mjson\u001b[0m\u001b[1;33m(\u001b[0m\u001b[1;33m)\u001b[0m\u001b[1;33m[\u001b[0m\u001b[1;34m'data'\u001b[0m\u001b[1;33m]\u001b[0m\u001b[1;33m[\u001b[0m\u001b[1;34m'_id'\u001b[0m\u001b[1;33m]\u001b[0m \u001b[1;31m#id of created\u001b[0m\u001b[1;33m\u001b[0m\u001b[1;33m\u001b[0m\u001b[0m\n\u001b[0m\u001b[0;32m     54\u001b[0m     \u001b[0mdatas\u001b[0m\u001b[1;33m[\u001b[0m\u001b[0memail\u001b[0m\u001b[1;33m]\u001b[0m \u001b[1;33m=\u001b[0m \u001b[0mget_id\u001b[0m\u001b[1;33m\u001b[0m\u001b[1;33m\u001b[0m\u001b[0m\n\u001b[0;32m     55\u001b[0m \u001b[1;33m\u001b[0m\u001b[0m\n",
      "\u001b[1;31mKeyError\u001b[0m: 'data'"
     ]
    }
   ],
   "source": [
    "for i in tqdm(pushed_data[7:8]):\n",
    "    m = send_data(i)\n",
    "    if m == -1:\n",
    "        break"
   ]
  },
  {
   "cell_type": "code",
   "execution_count": 3,
   "id": "statewide-stationery",
   "metadata": {},
   "outputs": [
    {
     "ename": "NameError",
     "evalue": "name 'datas' is not defined",
     "output_type": "error",
     "traceback": [
      "\u001b[1;31m---------------------------------------------------------------------------\u001b[0m",
      "\u001b[1;31mNameError\u001b[0m                                 Traceback (most recent call last)",
      "\u001b[1;32m<ipython-input-3-35039c314d07>\u001b[0m in \u001b[0;36m<module>\u001b[1;34m\u001b[0m\n\u001b[0;32m      1\u001b[0m \u001b[0mpickle_out\u001b[0m \u001b[1;33m=\u001b[0m \u001b[0mopen\u001b[0m\u001b[1;33m(\u001b[0m\u001b[1;34m'inserted_practo_postman1.pickle'\u001b[0m\u001b[1;33m,\u001b[0m\u001b[1;34m'wb'\u001b[0m\u001b[1;33m)\u001b[0m\u001b[1;31m#change for another checkpoint\u001b[0m\u001b[1;33m\u001b[0m\u001b[1;33m\u001b[0m\u001b[0m\n\u001b[1;32m----> 2\u001b[1;33m \u001b[0mpickle\u001b[0m\u001b[1;33m.\u001b[0m\u001b[0mdump\u001b[0m\u001b[1;33m(\u001b[0m\u001b[0mdatas\u001b[0m\u001b[1;33m,\u001b[0m \u001b[0mpickle_out\u001b[0m\u001b[1;33m)\u001b[0m\u001b[1;33m\u001b[0m\u001b[1;33m\u001b[0m\u001b[0m\n\u001b[0m",
      "\u001b[1;31mNameError\u001b[0m: name 'datas' is not defined"
     ]
    }
   ],
   "source": [
    "pickle_out = open('inserted_practo_postman2.pickle','wb')#change for another checkpoint\n",
    "pickle.dump(datas, pickle_out)"
   ]
  },
  {
   "cell_type": "code",
   "execution_count": 3,
   "id": "municipal-upgrade",
   "metadata": {},
   "outputs": [],
   "source": [
    "r = rp.get('https://server.docplus.online/doctors/getDoc/60423c5d2198a1f6905f5e77')"
   ]
  },
  {
   "cell_type": "code",
   "execution_count": 34,
   "id": "mineral-attention",
   "metadata": {},
   "outputs": [
    {
     "name": "stdout",
     "output_type": "stream",
     "text": [
      "_id 60423c5d2198a1f6905f5e77\n",
      "npi 22644\n",
      "email arun.sarkar@gmail.com\n",
      "password 985c201c0983d138a856ffb0c8d53890\n",
      "specialty General Physician\n",
      "customerProfile cus_J3lwcdQEzmgKxS\n",
      "city Jharkhand\n",
      "state Ranchi\n",
      "country India\n",
      "firstName Arun\n",
      "lastName Sarkar\n",
      "referralId ArunXdp2N_d\n",
      "createdOn 2021-03-05T14:12:45.315Z\n",
      "education [{'_id': '604241022198a1f6905f5ec1', 'year': 1985, 'degree': 'MBBS', 'university': 'Ranchi University'}, {'_id': '604241022198a1f6905f5ec2', 'year': 1998, 'degree': 'MD', 'university': 'General Medicine Ranchi University'}]\n"
     ]
    }
   ],
   "source": [
    "b = ['_id', 'npi', 'email', 'password', 'specialty', 'customerProfile', 'city', 'state', 'country', 'firstName', 'lastName', 'referralId', 'createdOn', 'education']\n",
    "for i in b: print(i, r.json()['data'][i])"
   ]
  },
  {
   "cell_type": "code",
   "execution_count": 9,
   "id": "uniform-finding",
   "metadata": {},
   "outputs": [],
   "source": [
    "folder_path = \"E:/Youtube game/works/Ranchi/Ranchi/\"\n",
    "dic = {}\n",
    "for i in os.listdir(folder_path):\n",
    "    dic[\" \".join(i.split()[1:]).split(\".\")[0]] = folder_path + i"
   ]
  },
  {
   "cell_type": "code",
   "execution_count": 23,
   "id": "double-saskatchewan",
   "metadata": {},
   "outputs": [],
   "source": [
    "jaipur = pushed_data[207:2864]"
   ]
  },
  {
   "cell_type": "code",
   "execution_count": 6,
   "id": "mounted-arthritis",
   "metadata": {},
   "outputs": [],
   "source": [
    "jaipur_filter = []\n",
    "for i in ranchi:\n",
    "    if(i[8] == 'Ranchi'):\n",
    "        ja_filter.append(i)"
   ]
  },
  {
   "cell_type": "code",
   "execution_count": null,
   "id": "successful-vegetable",
   "metadata": {},
   "outputs": [],
   "source": [
    "for i in ranchi_filter:\n",
    "    name = i[0]+\" \"+i[1]\n",
    "    try: print(dic[name])\n",
    "    except: print(\"image_not_available\" +\" \"+i[-4])"
   ]
  },
  {
   "cell_type": "code",
   "execution_count": null,
   "id": "graduate-conditioning",
   "metadata": {},
   "outputs": [],
   "source": []
  },
  {
   "cell_type": "code",
   "execution_count": 10,
   "id": "personalized-agent",
   "metadata": {},
   "outputs": [
    {
     "name": "stderr",
     "output_type": "stream",
     "text": [
      "\r\n",
      "  0%|                                                                                          | 0/171 [00:00<?, ?it/s]"
     ]
    },
    {
     "name": "stdout",
     "output_type": "stream",
     "text": [
      "606ad4a60030edda327b7a6f rakesh.mishra@gmail.com\n",
      "{\"status\":true,\"message\":\"Profile successfully updated\",\"data\":{\"basic\":{\"organization_name\":\"not found\",\"organizational_subpart\":\"not found\",\"enumeration_date\":\"not found\",\"last_updated\":\"not found\",\"status\":\"not found\",\"telephone_number\":\"not found\",\"title_or_position\":\"not found\",\"name_prefix\":\"not found\",\"name_suffix\":\"not found\",\"sole_proprietor\":\"not found\",\"gender\":\"not found\",\"name\":\"Rakesh Mishra\"},\"document\":{\"idProof\":false,\"registrationProof\":false,\"establishment\":false},\"address\":[],\"taxonomies\":[],\"practiceLocation\":[],\"diseases\":[],\"description\":\"NA\",\"steps\":[0,0,0,0],\"is_in_network\":true,\"is_superDoc\":false,\"location_ids\":[],\"isActive\":true,\"isApproved\":false,\"availability\":[],\"appointments\":[],\"picture\":[],\"profileStatus\":true,\"question\":[],\"appointmentsString\":\"{\\\"duration\\\":\\\"15\\\",\\\"id\\\":\\\"\\\",\\\"weekdaysArr\\\":[{\\\"days\\\":[\\\"wednesday\\\",\\\"thursday\\\",\\\"friday\\\"],\\\"startTime\\\":\\\"02:30\\\",\\\"endTime\\\":\\\"11:30\\\",\\\"lunchStart\\\":\\\"06:30\\\",\\\"lunchEnd\\\":\\\"07:30\\\"},{\\\"days\\\":[\\\"monday\\\",\\\"tuesday\\\"],\\\"startTime\\\":\\\"03:30\\\",\\\"endTime\\\":\\\"12:30\\\",\\\"lunchStart\\\":\\\"06:30\\\",\\\"lunchEnd\\\":\\\"07:30\\\"}]}\",\"onBoarding\":false,\"referrals\":[],\"latestAppointment\":[],\"payment\":true,\"isAssistant\":false,\"rights\":[],\"assistants\":[],\"charity\":false,\"clinic\":[],\"block\":false,\"deviceToken\":[],\"online\":false,\"socket\":[],\"conversations\":[],\"WaitingRoomSocket\":[],\"verify\":true,\"_id\":\"606ad4a60030edda327b7a6f\",\"npi\":\"31868\",\"email\":\"rakesh.mishra@gmail.com\",\"password\":\"985c201c0983d138a856ffb0c8d53890\",\"specialty\":\"General Physician\",\"customerProfile\":\"cus_JFJ6QPRfL32ah3\",\"city\":\"Jharkhand\",\"state\":\"Ranchi\",\"country\":\"India\",\"firstName\":\"Rakesh\",\"lastName\":\"Mishra\",\"referralId\":\"RakeshyBuSR_d\",\"createdOn\":\"2021-04-05T09:13:10.417Z\",\"education\":[{\"_id\":\"606ad4a90030edda327b7a8c\",\"year\":null,\"degree\":\"MBBS\",\"university\":\"Maharashtra Universtity of Health Sciences\"},{\"_id\":\"606ad4a90030edda327b7a8d\",\"year\":2020,\"degree\":\"MD\",\"university\":\"General Medicine West Bengal State University\"}],\"PatientsWaiting\":[],\"__v\":0,\"meta\":\"606ad4a60030edda327b7a70\",\"bio\":\"Dr. Rakesh Mishra is a General Physician and General Practitioner in Kanke Road, Ranchi and has an experience of 14 years in these fields. Dr. Rakesh Mishra practices at Maatrichhaya Mahila Hospital in Kanke Road, Ranchi. He completed MBBS from Maharashtra Universtity of Health Sciences, Nashik in 2007 and MD - General Medicine from West Bengal State University in 2020. Some of the services provided by the doctor are: Lower/Upper Respiratory Tract Infection Treatment,Fever Treatment,Bronchial Asthma Treatment,Diabetes Management and Hypertension Treatment etc. \",\"fee\":300,\"gender\":\"male\"}}\n"
     ]
    },
    {
     "name": "stderr",
     "output_type": "stream",
     "text": [
      "\r\n",
      "  1%|▍                                                                                 | 1/171 [00:12<34:59, 12.35s/it]"
     ]
    },
    {
     "name": "stdout",
     "output_type": "stream",
     "text": [
      "{'status': True, 'message': 'Image uploaded successfully'}\n",
      "606ad4b40030edda327b7a8e sathi.rani.sarkar@gmail.com\n",
      "{\"status\":true,\"message\":\"Profile successfully updated\",\"data\":{\"basic\":{\"organization_name\":\"not found\",\"organizational_subpart\":\"not found\",\"enumeration_date\":\"not found\",\"last_updated\":\"not found\",\"status\":\"not found\",\"telephone_number\":\"not found\",\"title_or_position\":\"not found\",\"name_prefix\":\"not found\",\"name_suffix\":\"not found\",\"sole_proprietor\":\"not found\",\"gender\":\"not found\",\"name\":\"Sathi Rani Sarkar\"},\"document\":{\"idProof\":false,\"registrationProof\":false,\"establishment\":false},\"address\":[],\"taxonomies\":[],\"practiceLocation\":[],\"diseases\":[],\"description\":\"NA\",\"steps\":[0,0,0,0],\"is_in_network\":true,\"is_superDoc\":false,\"location_ids\":[],\"isActive\":true,\"isApproved\":false,\"availability\":[],\"appointments\":[],\"picture\":[],\"profileStatus\":true,\"question\":[],\"appointmentsString\":\"{\\\"duration\\\":\\\"15\\\",\\\"id\\\":\\\"\\\",\\\"weekdaysArr\\\":[{\\\"days\\\":[\\\"wednesday\\\",\\\"thursday\\\",\\\"friday\\\"],\\\"startTime\\\":\\\"02:30\\\",\\\"endTime\\\":\\\"11:30\\\",\\\"lunchStart\\\":\\\"06:30\\\",\\\"lunchEnd\\\":\\\"07:30\\\"},{\\\"days\\\":[\\\"monday\\\",\\\"tuesday\\\"],\\\"startTime\\\":\\\"03:30\\\",\\\"endTime\\\":\\\"12:30\\\",\\\"lunchStart\\\":\\\"06:30\\\",\\\"lunchEnd\\\":\\\"07:30\\\"}]}\",\"onBoarding\":false,\"referrals\":[],\"latestAppointment\":[],\"payment\":true,\"isAssistant\":false,\"rights\":[],\"assistants\":[],\"charity\":false,\"clinic\":[],\"block\":false,\"deviceToken\":[],\"online\":false,\"socket\":[],\"conversations\":[],\"WaitingRoomSocket\":[],\"verify\":true,\"_id\":\"606ad4b40030edda327b7a8e\",\"npi\":\"20403\",\"email\":\"sathi.rani.sarkar@gmail.com\",\"password\":\"985c201c0983d138a856ffb0c8d53890\",\"specialty\":\"Gynecologist\",\"customerProfile\":\"cus_JFJ75mAgPJI5JA\",\"city\":\"Jharkhand\",\"state\":\"Ranchi\",\"country\":\"India\",\"firstName\":\"Sathi\",\"lastName\":\"Rani Sarkar\",\"referralId\":\"SathiCR92g_d\",\"createdOn\":\"2021-04-05T09:13:24.956Z\",\"education\":[{\"_id\":\"606ad4b90030edda327b7aab\",\"year\":null,\"degree\":\"DGO\",\"university\":\"Rajendra Institute of Medical Sciences\"}],\"PatientsWaiting\":[],\"__v\":0,\"meta\":\"606ad4b50030edda327b7a8f\",\"bio\":\"Dr. Sathi Rani Sarkar says \\\"I ve done my MBBS from DMCH Darbhanga and did my post grad from Rims Ranchi. I specialise in the field of obstetrics and gynaecology\\\". Our slogan \\\" We treat you professionally but take care of you personally\\\". \",\"fee\":300,\"gender\":\"male\"}}\n"
     ]
    },
    {
     "name": "stderr",
     "output_type": "stream",
     "text": [
      "\r\n",
      "  1%|▉                                                                                 | 2/171 [00:25<36:47, 13.06s/it]"
     ]
    },
    {
     "name": "stdout",
     "output_type": "stream",
     "text": [
      "{'status': True, 'message': 'Image uploaded successfully'}\n",
      "606ad4bf0030edda327b7aac priyanka.kumari@gmail.com\n",
      "{\"status\":true,\"message\":\"Profile successfully updated\",\"data\":{\"basic\":{\"organization_name\":\"not found\",\"organizational_subpart\":\"not found\",\"enumeration_date\":\"not found\",\"last_updated\":\"not found\",\"status\":\"not found\",\"telephone_number\":\"not found\",\"title_or_position\":\"not found\",\"name_prefix\":\"not found\",\"name_suffix\":\"not found\",\"sole_proprietor\":\"not found\",\"gender\":\"not found\",\"name\":\"Priyanka Kumari\"},\"document\":{\"idProof\":false,\"registrationProof\":false,\"establishment\":false},\"address\":[],\"taxonomies\":[],\"practiceLocation\":[],\"diseases\":[],\"description\":\"NA\",\"steps\":[0,0,0,0],\"is_in_network\":true,\"is_superDoc\":false,\"location_ids\":[],\"isActive\":true,\"isApproved\":false,\"availability\":[],\"appointments\":[],\"picture\":[],\"profileStatus\":true,\"question\":[],\"appointmentsString\":\"{\\\"duration\\\":\\\"15\\\",\\\"id\\\":\\\"\\\",\\\"weekdaysArr\\\":[{\\\"days\\\":[\\\"wednesday\\\",\\\"thursday\\\",\\\"friday\\\"],\\\"startTime\\\":\\\"02:30\\\",\\\"endTime\\\":\\\"11:30\\\",\\\"lunchStart\\\":\\\"06:30\\\",\\\"lunchEnd\\\":\\\"07:30\\\"},{\\\"days\\\":[\\\"monday\\\",\\\"tuesday\\\"],\\\"startTime\\\":\\\"03:30\\\",\\\"endTime\\\":\\\"12:30\\\",\\\"lunchStart\\\":\\\"06:30\\\",\\\"lunchEnd\\\":\\\"07:30\\\"}]}\",\"onBoarding\":false,\"referrals\":[],\"latestAppointment\":[],\"payment\":true,\"isAssistant\":false,\"rights\":[],\"assistants\":[],\"charity\":false,\"clinic\":[],\"block\":false,\"deviceToken\":[],\"online\":false,\"socket\":[],\"conversations\":[],\"WaitingRoomSocket\":[],\"verify\":true,\"_id\":\"606ad4bf0030edda327b7aac\",\"npi\":\"J-M-C\",\"email\":\"priyanka.kumari@gmail.com\",\"password\":\"985c201c0983d138a856ffb0c8d53890\",\"specialty\":\"General Physician\",\"customerProfile\":\"cus_JFJ7XCOBKm2v5w\",\"city\":\"Jharkhand\",\"state\":\"Ranchi\",\"country\":\"India\",\"firstName\":\"Priyanka\",\"lastName\":\"Kumari\",\"referralId\":\"PriyankaUkEJ0_d\",\"createdOn\":\"2021-04-05T09:13:35.642Z\",\"education\":[{\"_id\":\"606ad4c10030edda327b7aaf\",\"year\":null,\"degree\":\"MBBS\",\"university\":\"Government Dental College  Hospital\"}],\"PatientsWaiting\":[],\"__v\":0,\"meta\":\"606ad4bf0030edda327b7aad\",\"bio\":\"Dr. Priyanka Kumari is a Gynecologist and General Physician in Dhurwa, Ranchi and has an experience of 15 years in these fields. Dr. Priyanka Kumari practices at Madhuri Medical Hall in Dhurwa, Ranchi and Juhi Matri Sishu Mangal Clinic in Hinoo, Ranchi. She completed MBBS from Government Dental College Hospital, RIMS Kadapa in 2006. She is a member of Indian Medical Association (IMA). Some of the services provided by the doctor are: DNC,Caesarean Section (C Section),Hysterectomy (Abdominal/Vaginal),Family Planning and Normal Vaginal Delivery (NVD) etc. \",\"fee\":200,\"gender\":\"female\"}}\n"
     ]
    },
    {
     "name": "stderr",
     "output_type": "stream",
     "text": [
      "\r\n",
      "  2%|█▍                                                                                | 3/171 [00:34<30:14, 10.80s/it]"
     ]
    },
    {
     "name": "stdout",
     "output_type": "stream",
     "text": [
      "{'status': True, 'message': 'Image uploaded successfully'}\n",
      "606ad4c80030edda327b7aca avinash.kumar@gmail.com\n",
      "{\"status\":true,\"message\":\"Profile successfully updated\",\"data\":{\"basic\":{\"organization_name\":\"not found\",\"organizational_subpart\":\"not found\",\"enumeration_date\":\"not found\",\"last_updated\":\"not found\",\"status\":\"not found\",\"telephone_number\":\"not found\",\"title_or_position\":\"not found\",\"name_prefix\":\"not found\",\"name_suffix\":\"not found\",\"sole_proprietor\":\"not found\",\"gender\":\"not found\",\"name\":\"Avinash Kumar\"},\"document\":{\"idProof\":false,\"registrationProof\":false,\"establishment\":false},\"address\":[],\"taxonomies\":[],\"practiceLocation\":[],\"diseases\":[],\"description\":\"NA\",\"steps\":[0,0,0,0],\"is_in_network\":true,\"is_superDoc\":false,\"location_ids\":[],\"isActive\":true,\"isApproved\":false,\"availability\":[],\"appointments\":[],\"picture\":[],\"profileStatus\":true,\"question\":[],\"appointmentsString\":\"{\\\"duration\\\":\\\"15\\\",\\\"id\\\":\\\"\\\",\\\"weekdaysArr\\\":[{\\\"days\\\":[\\\"wednesday\\\",\\\"thursday\\\",\\\"friday\\\"],\\\"startTime\\\":\\\"02:30\\\",\\\"endTime\\\":\\\"11:30\\\",\\\"lunchStart\\\":\\\"06:30\\\",\\\"lunchEnd\\\":\\\"07:30\\\"},{\\\"days\\\":[\\\"monday\\\",\\\"tuesday\\\"],\\\"startTime\\\":\\\"03:30\\\",\\\"endTime\\\":\\\"12:30\\\",\\\"lunchStart\\\":\\\"06:30\\\",\\\"lunchEnd\\\":\\\"07:30\\\"}]}\",\"onBoarding\":false,\"referrals\":[],\"latestAppointment\":[],\"payment\":true,\"isAssistant\":false,\"rights\":[],\"assistants\":[],\"charity\":false,\"clinic\":[],\"block\":false,\"deviceToken\":[],\"online\":false,\"socket\":[],\"conversations\":[],\"WaitingRoomSocket\":[],\"verify\":true,\"_id\":\"606ad4c80030edda327b7aca\",\"npi\":\"18091\",\"email\":\"avinash.kumar@gmail.com\",\"password\":\"985c201c0983d138a856ffb0c8d53890\",\"specialty\":\"General Physician\",\"customerProfile\":\"cus_JFJ7oUlpra5kPw\",\"city\":\"Jharkhand\",\"state\":\"Ranchi\",\"country\":\"India\",\"firstName\":\"Avinash\",\"lastName\":\"Kumar\",\"referralId\":\"AvinashWXNDo_d\",\"createdOn\":\"2021-04-05T09:13:44.313Z\",\"education\":[{\"_id\":\"606ad4ca0030edda327b7acd\",\"year\":null,\"degree\":\"Master of Family Medicine\",\"university\":\"Christian Medical College & Hospital\"},{\"_id\":\"606ad4ca0030edda327b7ace\",\"year\":2007,\"degree\":\"MBBS\",\"university\":\"Assam University\"}],\"PatientsWaiting\":[],\"__v\":0,\"meta\":\"606ad4c80030edda327b7acb\",\"bio\":\"Dr. Avinash Kumar is a General Physician,Family Physician and Diabetologist in Morabadi, Ranchi and has an experience of 13 years in these fields. Dr. Avinash Kumar practices at Avishka HealthCare - Medical, Dental And Diabetes Centre in Morabadi, Ranchi. He completed PG Certificate Course In Diabetes Education(PGDCE) from APOLLO HOSPITALS HYDERABAD in 2014,Fellowship in Diabetology from APOLLO HOSPITALS HYDERABAD in 2015 and Master of Family Medicine from Christian Medical College & Hospital, Vellore in 2015. He is a member of Indian Society of Critical Care Medicine (ISCCM). Some of the services provided by the doctor are: Consultant,Diabetic Ulcer Treatment,Filaria Treatment,Anemia Treatment and Insulin Free Treatment etc. \",\"fee\":400,\"gender\":\"male\"}}\n"
     ]
    },
    {
     "name": "stderr",
     "output_type": "stream",
     "text": [
      "\r\n",
      "  2%|█▉                                                                                | 4/171 [00:43<28:53, 10.38s/it]"
     ]
    },
    {
     "name": "stdout",
     "output_type": "stream",
     "text": [
      "{'status': True, 'message': 'Image uploaded successfully'}\n",
      "606ad4d20030edda327b7ae9 uma.shankar.verma@gmail.com\n",
      "{\"status\":true,\"message\":\"Profile successfully updated\",\"data\":{\"basic\":{\"organization_name\":\"not found\",\"organizational_subpart\":\"not found\",\"enumeration_date\":\"not found\",\"last_updated\":\"not found\",\"status\":\"not found\",\"telephone_number\":\"not found\",\"title_or_position\":\"not found\",\"name_prefix\":\"not found\",\"name_suffix\":\"not found\",\"sole_proprietor\":\"not found\",\"gender\":\"not found\",\"name\":\"Uma Shankar Verma\"},\"document\":{\"idProof\":false,\"registrationProof\":false,\"establishment\":false},\"address\":[],\"taxonomies\":[],\"practiceLocation\":[],\"diseases\":[],\"description\":\"NA\",\"steps\":[0,0,0,0],\"is_in_network\":true,\"is_superDoc\":false,\"location_ids\":[],\"isActive\":true,\"isApproved\":false,\"availability\":[],\"appointments\":[],\"picture\":[],\"profileStatus\":true,\"question\":[],\"appointmentsString\":\"{\\\"duration\\\":\\\"15\\\",\\\"id\\\":\\\"\\\",\\\"weekdaysArr\\\":[{\\\"days\\\":[\\\"wednesday\\\",\\\"thursday\\\",\\\"friday\\\"],\\\"startTime\\\":\\\"02:30\\\",\\\"endTime\\\":\\\"11:30\\\",\\\"lunchStart\\\":\\\"06:30\\\",\\\"lunchEnd\\\":\\\"07:30\\\"},{\\\"days\\\":[\\\"monday\\\",\\\"tuesday\\\"],\\\"startTime\\\":\\\"03:30\\\",\\\"endTime\\\":\\\"12:30\\\",\\\"lunchStart\\\":\\\"06:30\\\",\\\"lunchEnd\\\":\\\"07:30\\\"}]}\",\"onBoarding\":false,\"referrals\":[],\"latestAppointment\":[],\"payment\":true,\"isAssistant\":false,\"rights\":[],\"assistants\":[],\"charity\":false,\"clinic\":[],\"block\":false,\"deviceToken\":[],\"online\":false,\"socket\":[],\"conversations\":[],\"WaitingRoomSocket\":[],\"verify\":true,\"_id\":\"606ad4d20030edda327b7ae9\",\"npi\":\"14315\",\"email\":\"uma.shankar.verma@gmail.com\",\"password\":\"985c201c0983d138a856ffb0c8d53890\",\"specialty\":\"General Physician\",\"customerProfile\":\"cus_JFJ7jdrLXpzcng\",\"city\":\"Jharkhand\",\"state\":\"Ranchi\",\"country\":\"India\",\"firstName\":\"Uma\",\"lastName\":\"Shankar Verma\",\"referralId\":\"UmarbmgO_d\",\"createdOn\":\"2021-04-05T09:13:54.646Z\",\"education\":[{\"_id\":\"606ad4d40030edda327b7aec\",\"year\":null,\"degree\":\"MBBS\",\"university\":\"Rajendra Institute of Medical Sciences\"}],\"PatientsWaiting\":[],\"__v\":0,\"meta\":\"606ad4d20030edda327b7aea\",\"bio\":\"Dr. Uma Shankar Verma is a Doctor in Kutchery Road, Ranchi and has an experience of 45 years in this field. Dr. Uma Shankar Verma practices at U.S.Polyclinic in Kutchery Road, Ranchi. He completed MBBS from Rajendra Institute of Medical Sciences, Ranchi in 1976. He is a member of Bihar Medical Council and Indian Medical Association (IMA). Some of the services provided by the doctor are: Vaccination/ Immunization,Heart and Chest,Kidney problem,hormones and Tumor etc. \",\"fee\":400,\"gender\":\"female\"}}\n"
     ]
    },
    {
     "name": "stderr",
     "output_type": "stream",
     "text": [
      "\r\n",
      "  3%|██▍                                                                               | 5/171 [00:52<27:27,  9.93s/it]"
     ]
    },
    {
     "name": "stdout",
     "output_type": "stream",
     "text": [
      "{'status': True, 'message': 'Image uploaded successfully'}\n",
      "606ad4da0030edda327b7b07 sukhen.samanta@gmail.com\n",
      "{\"status\":true,\"message\":\"Profile successfully updated\",\"data\":{\"basic\":{\"organization_name\":\"not found\",\"organizational_subpart\":\"not found\",\"enumeration_date\":\"not found\",\"last_updated\":\"not found\",\"status\":\"not found\",\"telephone_number\":\"not found\",\"title_or_position\":\"not found\",\"name_prefix\":\"not found\",\"name_suffix\":\"not found\",\"sole_proprietor\":\"not found\",\"gender\":\"not found\",\"name\":\"Sukhen Samanta\"},\"document\":{\"idProof\":false,\"registrationProof\":false,\"establishment\":false},\"address\":[],\"taxonomies\":[],\"practiceLocation\":[],\"diseases\":[],\"description\":\"NA\",\"steps\":[0,0,0,0],\"is_in_network\":true,\"is_superDoc\":false,\"location_ids\":[],\"isActive\":true,\"isApproved\":false,\"availability\":[],\"appointments\":[],\"picture\":[],\"profileStatus\":true,\"question\":[],\"appointmentsString\":\"{\\\"duration\\\":\\\"15\\\",\\\"id\\\":\\\"\\\",\\\"weekdaysArr\\\":[{\\\"days\\\":[\\\"wednesday\\\",\\\"thursday\\\",\\\"friday\\\"],\\\"startTime\\\":\\\"02:30\\\",\\\"endTime\\\":\\\"11:30\\\",\\\"lunchStart\\\":\\\"06:30\\\",\\\"lunchEnd\\\":\\\"07:30\\\"},{\\\"days\\\":[\\\"monday\\\",\\\"tuesday\\\"],\\\"startTime\\\":\\\"03:30\\\",\\\"endTime\\\":\\\"12:30\\\",\\\"lunchStart\\\":\\\"06:30\\\",\\\"lunchEnd\\\":\\\"07:30\\\"}]}\",\"onBoarding\":false,\"referrals\":[],\"latestAppointment\":[],\"payment\":true,\"isAssistant\":false,\"rights\":[],\"assistants\":[],\"charity\":false,\"clinic\":[],\"block\":false,\"deviceToken\":[],\"online\":false,\"socket\":[],\"conversations\":[],\"WaitingRoomSocket\":[],\"verify\":true,\"_id\":\"606ad4da0030edda327b7b07\",\"npi\":\"63880\",\"email\":\"sukhen.samanta@gmail.com\",\"password\":\"985c201c0983d138a856ffb0c8d53890\",\"specialty\":\"General Physician\",\"customerProfile\":\"cus_JFJ7lhaVpfQp2S\",\"city\":\"Jharkhand\",\"state\":\"Ranchi\",\"country\":\"India\",\"firstName\":\"Sukhen\",\"lastName\":\"Samanta\",\"referralId\":\"SukhenOJvbE_d\",\"createdOn\":\"2021-04-05T09:14:02.960Z\",\"education\":[{\"_id\":\"606ad4dd0030edda327b7b0a\",\"year\":2007,\"degree\":\"MBBS\",\"university\":\"University of North Bengal\"},{\"_id\":\"606ad4dd0030edda327b7b0b\",\"year\":null,\"degree\":\"MD\",\"university\":\"Anaesthesiology PGIMER\"},{\"_id\":\"606ad4dd0030edda327b7b0c\",\"year\":null,\"degree\":\"DM\",\"university\":\"Organ Transplant Anaesthesia & Critical Care PGIMER\"}],\"PatientsWaiting\":[],\"__v\":0,\"meta\":\"606ad4db0030edda327b7b08\",\"bio\":\"Dr. Sukhen Samanta says \\\"I am a consultant physician(MRCP London) and critical care medicine (DM Critical Care Medicine ) specialist .I am also trained in university hospitals in Singapore and Canada(Toronto) .\\\" \",\"fee\":500,\"gender\":\"male\"}}\n"
     ]
    },
    {
     "name": "stderr",
     "output_type": "stream",
     "text": [
      "\r\n",
      "  4%|██▉                                                                               | 6/171 [01:02<26:33,  9.66s/it]"
     ]
    },
    {
     "name": "stdout",
     "output_type": "stream",
     "text": [
      "{'status': True, 'message': 'Image uploaded successfully'}\n",
      "606ad4e40030edda327b7b27 tushar.arya@gmail.com\n",
      "{\"status\":true,\"message\":\"Profile successfully updated\",\"data\":{\"basic\":{\"organization_name\":\"not found\",\"organizational_subpart\":\"not found\",\"enumeration_date\":\"not found\",\"last_updated\":\"not found\",\"status\":\"not found\",\"telephone_number\":\"not found\",\"title_or_position\":\"not found\",\"name_prefix\":\"not found\",\"name_suffix\":\"not found\",\"sole_proprietor\":\"not found\",\"gender\":\"not found\",\"name\":\"Tushar Arya\"},\"document\":{\"idProof\":false,\"registrationProof\":false,\"establishment\":false},\"address\":[],\"taxonomies\":[],\"practiceLocation\":[],\"diseases\":[],\"description\":\"NA\",\"steps\":[0,0,0,0],\"is_in_network\":true,\"is_superDoc\":false,\"location_ids\":[],\"isActive\":true,\"isApproved\":false,\"availability\":[],\"appointments\":[],\"picture\":[],\"profileStatus\":true,\"question\":[],\"appointmentsString\":\"{\\\"duration\\\":\\\"15\\\",\\\"id\\\":\\\"\\\",\\\"weekdaysArr\\\":[{\\\"days\\\":[\\\"wednesday\\\",\\\"thursday\\\",\\\"friday\\\"],\\\"startTime\\\":\\\"02:30\\\",\\\"endTime\\\":\\\"11:30\\\",\\\"lunchStart\\\":\\\"06:30\\\",\\\"lunchEnd\\\":\\\"07:30\\\"},{\\\"days\\\":[\\\"monday\\\",\\\"tuesday\\\"],\\\"startTime\\\":\\\"03:30\\\",\\\"endTime\\\":\\\"12:30\\\",\\\"lunchStart\\\":\\\"06:30\\\",\\\"lunchEnd\\\":\\\"07:30\\\"}]}\",\"onBoarding\":false,\"referrals\":[],\"latestAppointment\":[],\"payment\":true,\"isAssistant\":false,\"rights\":[],\"assistants\":[],\"charity\":false,\"clinic\":[],\"block\":false,\"deviceToken\":[],\"online\":false,\"socket\":[],\"conversations\":[],\"WaitingRoomSocket\":[],\"verify\":true,\"_id\":\"606ad4e40030edda327b7b27\",\"npi\":\"30788\",\"email\":\"tushar.arya@gmail.com\",\"password\":\"985c201c0983d138a856ffb0c8d53890\",\"specialty\":\"General Physician\",\"customerProfile\":\"cus_JFJ7spH1pzlE6U\",\"city\":\"Jharkhand\",\"state\":\"Ranchi\",\"country\":\"India\",\"firstName\":\"Tushar\",\"lastName\":\"Arya\",\"referralId\":\"Tushar8G8ek_d\",\"createdOn\":\"2021-04-05T09:14:12.578Z\",\"education\":[{\"_id\":\"606ad4e70030edda327b7b2a\",\"year\":null,\"degree\":\"MBBS\",\"university\":\"MGM Institute of Health Science\"},{\"_id\":\"606ad4e70030edda327b7b2b\",\"year\":2007,\"degree\":\"Diploma in Tropical Medicine and Health\",\"university\":\"Ranchi University\"},{\"_id\":\"606ad4e70030edda327b7b2c\",\"year\":null,\"degree\":\"DNB\",\"university\":\"General Medicine Ispat General Hospital\"}],\"PatientsWaiting\":[],\"__v\":0,\"meta\":\"606ad4e40030edda327b7b28\",\"bio\":\"Dr. Tushar Arya is a Doctor in Ratu, Ranchi and has an experience of 10 years in this field. Dr. Tushar Arya practices at Arya's Clinic in Ratu, Ranchi. He completed MBBS from Ranchi University in 1999, Diploma in Tropical Medicine Health from Ranchi University in 2007 and DNB (General Medicine) from New Delhi in 2010. He is a member of Indian Medical Association (IMA) and Lions Club. Some of the services provided by the doctor are: Preventive Medicine, Diabetes, Fever, Allopathy and childhood vaccinations etc. You can get the phone number of Dr. Tushar Arya on Practo.com. \",\"fee\":300,\"gender\":\"male\"}}\n"
     ]
    },
    {
     "name": "stderr",
     "output_type": "stream",
     "text": [
      "\r\n",
      "  4%|███▎                                                                              | 7/171 [01:12<26:52,  9.83s/it]"
     ]
    },
    {
     "name": "stdout",
     "output_type": "stream",
     "text": [
      "{'status': True, 'message': 'Image uploaded successfully'}\n",
      "606ad4ee0030edda327b7b47 prashanta.kumar.sen.gupta@gmail.com\n",
      "{\"status\":true,\"message\":\"Profile successfully updated\",\"data\":{\"basic\":{\"organization_name\":\"not found\",\"organizational_subpart\":\"not found\",\"enumeration_date\":\"not found\",\"last_updated\":\"not found\",\"status\":\"not found\",\"telephone_number\":\"not found\",\"title_or_position\":\"not found\",\"name_prefix\":\"not found\",\"name_suffix\":\"not found\",\"sole_proprietor\":\"not found\",\"gender\":\"not found\",\"name\":\"Prashanta Kumar Sen Gupta\"},\"document\":{\"idProof\":false,\"registrationProof\":false,\"establishment\":false},\"address\":[],\"taxonomies\":[],\"practiceLocation\":[],\"diseases\":[],\"description\":\"NA\",\"steps\":[0,0,0,0],\"is_in_network\":true,\"is_superDoc\":false,\"location_ids\":[],\"isActive\":true,\"isApproved\":false,\"availability\":[],\"appointments\":[],\"picture\":[],\"profileStatus\":true,\"question\":[],\"appointmentsString\":\"{\\\"duration\\\":\\\"15\\\",\\\"id\\\":\\\"\\\",\\\"weekdaysArr\\\":[{\\\"days\\\":[\\\"wednesday\\\",\\\"thursday\\\",\\\"friday\\\"],\\\"startTime\\\":\\\"02:30\\\",\\\"endTime\\\":\\\"11:30\\\",\\\"lunchStart\\\":\\\"06:30\\\",\\\"lunchEnd\\\":\\\"07:30\\\"},{\\\"days\\\":[\\\"monday\\\",\\\"tuesday\\\"],\\\"startTime\\\":\\\"03:30\\\",\\\"endTime\\\":\\\"12:30\\\",\\\"lunchStart\\\":\\\"06:30\\\",\\\"lunchEnd\\\":\\\"07:30\\\"}]}\",\"onBoarding\":false,\"referrals\":[],\"latestAppointment\":[],\"payment\":true,\"isAssistant\":false,\"rights\":[],\"assistants\":[],\"charity\":false,\"clinic\":[],\"block\":false,\"deviceToken\":[],\"online\":false,\"socket\":[],\"conversations\":[],\"WaitingRoomSocket\":[],\"verify\":true,\"_id\":\"606ad4ee0030edda327b7b47\",\"npi\":\"15417\",\"email\":\"prashanta.kumar.sen.gupta@gmail.com\",\"password\":\"985c201c0983d138a856ffb0c8d53890\",\"specialty\":\"General Physician\",\"customerProfile\":\"cus_JFJ8PaM3xPezxQ\",\"city\":\"Jharkhand\",\"state\":\"Ranchi\",\"country\":\"India\",\"firstName\":\"Prashanta\",\"lastName\":\"Kumar Sen Gupta\",\"referralId\":\"PrashantakDt05_d\",\"createdOn\":\"2021-04-05T09:14:22.761Z\",\"education\":[{\"_id\":\"606ad4f10030edda327b7b4a\",\"year\":null,\"degree\":\"MBBS\",\"university\":\"Magadh Medical College\"}],\"PatientsWaiting\":[],\"__v\":0,\"meta\":\"606ad4ee0030edda327b7b48\",\"bio\":\"Dr. Prashanta Kumar Sen Gupta is a Doctor in Chutia, Ranchi and has an experience of 41 years in this field. Dr. Prashanta Kumar Sen Gupta practices at Dr. P.K Sen Gupta Clinic in Chutia, Ranchi and Annapurna Medical Hall in Lalpur, Ranchi. He completed MBBS from Magadh Medical College, Gaya in 1979. He is a member of Bihar Medical Council. Some of the services provided by the doctor are: skin checks,Health Checkup (General), Pediatric and Diabetes Management etc. \",\"fee\":200,\"gender\":\"male\"}}\n"
     ]
    },
    {
     "name": "stderr",
     "output_type": "stream",
     "text": [
      "\r\n",
      "  5%|███▊                                                                              | 8/171 [01:22<26:55,  9.91s/it]"
     ]
    },
    {
     "name": "stdout",
     "output_type": "stream",
     "text": [
      "{'status': True, 'message': 'Image uploaded successfully'}\n",
      "606ad4f80030edda327b7b65 n..c..datta.(ex-.capt)@gmail.com\n",
      "{\"status\":true,\"message\":\"Profile successfully updated\",\"data\":{\"basic\":{\"organization_name\":\"not found\",\"organizational_subpart\":\"not found\",\"enumeration_date\":\"not found\",\"last_updated\":\"not found\",\"status\":\"not found\",\"telephone_number\":\"not found\",\"title_or_position\":\"not found\",\"name_prefix\":\"not found\",\"name_suffix\":\"not found\",\"sole_proprietor\":\"not found\",\"gender\":\"not found\",\"name\":\"N. C. Datta (Ex- Capt)\"},\"document\":{\"idProof\":false,\"registrationProof\":false,\"establishment\":false},\"address\":[],\"taxonomies\":[],\"practiceLocation\":[],\"diseases\":[],\"description\":\"NA\",\"steps\":[0,0,0,0],\"is_in_network\":true,\"is_superDoc\":false,\"location_ids\":[],\"isActive\":true,\"isApproved\":false,\"availability\":[],\"appointments\":[],\"picture\":[],\"profileStatus\":true,\"question\":[],\"appointmentsString\":\"{\\\"duration\\\":\\\"15\\\",\\\"id\\\":\\\"\\\",\\\"weekdaysArr\\\":[{\\\"days\\\":[\\\"wednesday\\\",\\\"thursday\\\",\\\"friday\\\"],\\\"startTime\\\":\\\"02:30\\\",\\\"endTime\\\":\\\"11:30\\\",\\\"lunchStart\\\":\\\"06:30\\\",\\\"lunchEnd\\\":\\\"07:30\\\"},{\\\"days\\\":[\\\"monday\\\",\\\"tuesday\\\"],\\\"startTime\\\":\\\"03:30\\\",\\\"endTime\\\":\\\"12:30\\\",\\\"lunchStart\\\":\\\"06:30\\\",\\\"lunchEnd\\\":\\\"07:30\\\"}]}\",\"onBoarding\":false,\"referrals\":[],\"latestAppointment\":[],\"payment\":true,\"isAssistant\":false,\"rights\":[],\"assistants\":[],\"charity\":false,\"clinic\":[],\"block\":false,\"deviceToken\":[],\"online\":false,\"socket\":[],\"conversations\":[],\"WaitingRoomSocket\":[],\"verify\":true,\"_id\":\"606ad4f80030edda327b7b65\",\"npi\":\"32148\",\"email\":\"n..c..datta.(ex-.capt)@gmail.com\",\"password\":\"985c201c0983d138a856ffb0c8d53890\",\"specialty\":\"General Physician\",\"customerProfile\":\"cus_JFJ8AnKiA9EzDN\",\"city\":\"Jharkhand\",\"state\":\"Ranchi\",\"country\":\"India\",\"firstName\":\"N.\",\"lastName\":\"C. Datta (Ex- Capt)\",\"referralId\":\"N.Mmjsy_d\",\"createdOn\":\"2021-04-05T09:14:32.296Z\",\"education\":[{\"_id\":\"606ad4fa0030edda327b7b68\",\"year\":null,\"degree\":\"MBBS\",\"university\":\"Medical College\"}],\"PatientsWaiting\":[],\"__v\":0,\"meta\":\"606ad4f80030edda327b7b66\",\"bio\":\"Dr. N. C. Datta (Ex- Capt) is a Doctor in Ratu, Ranchi and has an experience of 52 years in this field. Dr. N. C. Datta (Ex- Capt) practices at Shreya Medico in Ratu, Ranchi. He completed MBBS from Medical College, Calcutta in 1968 and C.M.E from C.M.C.H, Vellore in 2009. He is a member of West Bengal Medical Council. Some of the services provided by the doctor are: Health Checkup (General),Fever Treatment and Preventive Medicine etc. \",\"fee\":150,\"gender\":\"male\"}}\n"
     ]
    },
    {
     "name": "stderr",
     "output_type": "stream",
     "text": [
      "\r\n",
      "  5%|████▎                                                                             | 9/171 [01:32<26:36,  9.86s/it]"
     ]
    },
    {
     "name": "stdout",
     "output_type": "stream",
     "text": [
      "{'status': True, 'message': 'Image uploaded successfully'}\n",
      "606ad5020030edda327b7b83 h.k.bhaiya@gmail.com\n",
      "{\"status\":true,\"message\":\"Profile successfully updated\",\"data\":{\"basic\":{\"organization_name\":\"not found\",\"organizational_subpart\":\"not found\",\"enumeration_date\":\"not found\",\"last_updated\":\"not found\",\"status\":\"not found\",\"telephone_number\":\"not found\",\"title_or_position\":\"not found\",\"name_prefix\":\"not found\",\"name_suffix\":\"not found\",\"sole_proprietor\":\"not found\",\"gender\":\"not found\",\"name\":\"H.K Bhaiya\"},\"document\":{\"idProof\":false,\"registrationProof\":false,\"establishment\":false},\"address\":[],\"taxonomies\":[],\"practiceLocation\":[],\"diseases\":[],\"description\":\"NA\",\"steps\":[0,0,0,0],\"is_in_network\":true,\"is_superDoc\":false,\"location_ids\":[],\"isActive\":true,\"isApproved\":false,\"availability\":[],\"appointments\":[],\"picture\":[],\"profileStatus\":true,\"question\":[],\"appointmentsString\":\"{\\\"duration\\\":\\\"15\\\",\\\"id\\\":\\\"\\\",\\\"weekdaysArr\\\":[{\\\"days\\\":[\\\"wednesday\\\",\\\"thursday\\\",\\\"friday\\\"],\\\"startTime\\\":\\\"02:30\\\",\\\"endTime\\\":\\\"11:30\\\",\\\"lunchStart\\\":\\\"06:30\\\",\\\"lunchEnd\\\":\\\"07:30\\\"},{\\\"days\\\":[\\\"monday\\\",\\\"tuesday\\\"],\\\"startTime\\\":\\\"03:30\\\",\\\"endTime\\\":\\\"12:30\\\",\\\"lunchStart\\\":\\\"06:30\\\",\\\"lunchEnd\\\":\\\"07:30\\\"}]}\",\"onBoarding\":false,\"referrals\":[],\"latestAppointment\":[],\"payment\":true,\"isAssistant\":false,\"rights\":[],\"assistants\":[],\"charity\":false,\"clinic\":[],\"block\":false,\"deviceToken\":[],\"online\":false,\"socket\":[],\"conversations\":[],\"WaitingRoomSocket\":[],\"verify\":true,\"_id\":\"606ad5020030edda327b7b83\",\"npi\":\"1839\",\"email\":\"h.k.bhaiya@gmail.com\",\"password\":\"985c201c0983d138a856ffb0c8d53890\",\"specialty\":\"General Physician\",\"customerProfile\":\"cus_JFJ8DaUuLH4rAE\",\"city\":\"Jharkhand\",\"state\":\"Ranchi\",\"country\":\"India\",\"firstName\":\"H.K\",\"lastName\":\"Bhaiya\",\"referralId\":\"H.KIMkLl_d\",\"createdOn\":\"2021-04-05T09:14:42.322Z\",\"education\":[{\"_id\":\"606ad5040030edda327b7b86\",\"year\":null,\"degree\":\"MBBS\",\"university\":\"Darbhanga Medical College And Hospital\"},{\"_id\":\"606ad5040030edda327b7b87\",\"year\":null,\"degree\":\"MD\",\"university\":\"Medicine Government Dental College  Hospital\"}],\"PatientsWaiting\":[],\"__v\":0,\"meta\":\"606ad5020030edda327b7b84\",\"bio\":\"Dr. H.K Bhaiya is a Gastroenterologist and General Physician in Lalpur, Ranchi and has an experience of 14 years in these fields. Dr. H.K Bhaiya practices at Mukund Medical Hall in Lalpur, Ranchi. He completed MBBS from Darbhanga Medical College And Hospital, Bihar in 2002 and MD - Medicine from Government Dental College Hospital, RIMS Kadapa in 2007. He is a member of Indian Medical Association (IMA). Some of the services provided by the doctor are: Liver Disease Treatment,Gastritis Treatment,Constipation Treatment,Electrocardiography (ECG) and Abdominal Pain Treatment etc. \",\"fee\":300,\"gender\":\"male\"}}\n"
     ]
    },
    {
     "name": "stderr",
     "output_type": "stream",
     "text": [
      "\r\n",
      "  6%|████▋                                                                            | 10/171 [01:41<26:04,  9.72s/it]"
     ]
    },
    {
     "name": "stdout",
     "output_type": "stream",
     "text": [
      "{'status': True, 'message': 'Image uploaded successfully'}\n",
      "606ad50b0030edda327b7ba2 alexander.toppo@gmail.com\n",
      "{\"status\":true,\"message\":\"Profile successfully updated\",\"data\":{\"basic\":{\"organization_name\":\"not found\",\"organizational_subpart\":\"not found\",\"enumeration_date\":\"not found\",\"last_updated\":\"not found\",\"status\":\"not found\",\"telephone_number\":\"not found\",\"title_or_position\":\"not found\",\"name_prefix\":\"not found\",\"name_suffix\":\"not found\",\"sole_proprietor\":\"not found\",\"gender\":\"not found\",\"name\":\"Alexander Toppo\"},\"document\":{\"idProof\":false,\"registrationProof\":false,\"establishment\":false},\"address\":[],\"taxonomies\":[],\"practiceLocation\":[],\"diseases\":[],\"description\":\"NA\",\"steps\":[0,0,0,0],\"is_in_network\":true,\"is_superDoc\":false,\"location_ids\":[],\"isActive\":true,\"isApproved\":false,\"availability\":[],\"appointments\":[],\"picture\":[],\"profileStatus\":true,\"question\":[],\"appointmentsString\":\"{\\\"duration\\\":\\\"15\\\",\\\"id\\\":\\\"\\\",\\\"weekdaysArr\\\":[{\\\"days\\\":[\\\"wednesday\\\",\\\"thursday\\\",\\\"friday\\\"],\\\"startTime\\\":\\\"02:30\\\",\\\"endTime\\\":\\\"11:30\\\",\\\"lunchStart\\\":\\\"06:30\\\",\\\"lunchEnd\\\":\\\"07:30\\\"},{\\\"days\\\":[\\\"monday\\\",\\\"tuesday\\\"],\\\"startTime\\\":\\\"03:30\\\",\\\"endTime\\\":\\\"12:30\\\",\\\"lunchStart\\\":\\\"06:30\\\",\\\"lunchEnd\\\":\\\"07:30\\\"}]}\",\"onBoarding\":false,\"referrals\":[],\"latestAppointment\":[],\"payment\":true,\"isAssistant\":false,\"rights\":[],\"assistants\":[],\"charity\":false,\"clinic\":[],\"block\":false,\"deviceToken\":[],\"online\":false,\"socket\":[],\"conversations\":[],\"WaitingRoomSocket\":[],\"verify\":true,\"_id\":\"606ad50b0030edda327b7ba2\",\"npi\":\"25360\",\"email\":\"alexander.toppo@gmail.com\",\"password\":\"985c201c0983d138a856ffb0c8d53890\",\"specialty\":\"General Physician\",\"customerProfile\":\"cus_JFJ8yTJKJ0P7Sa\",\"city\":\"Jharkhand\",\"state\":\"Ranchi\",\"country\":\"India\",\"firstName\":\"Alexander\",\"lastName\":\"Toppo\",\"referralId\":\"AlexanderUm30a_d\",\"createdOn\":\"2021-04-05T09:14:51.277Z\",\"education\":[{\"_id\":\"606ad50d0030edda327b7ba5\",\"year\":1987,\"degree\":\"MBBS\",\"university\":\"Ranchi University\"}],\"PatientsWaiting\":[],\"__v\":0,\"meta\":\"606ad50b0030edda327b7ba3\",\"bio\":\"Dr. Alexander Toppo is a Doctor in Ratu, Ranchi and has an experience of 34 years in this field. Dr. Alexander Toppo practices at CCL Dispensary in Ratu, Ranchi. He completed MBBS from Ranchi University in 1987 and D.H.H.M from Academy of Hospital Administration, New Delhi in 1992. He is a member of Indian Medical Association (IMA). Service provided by the doctor is: Health Checkup (General). \",\"fee\":200,\"gender\":\"male\"}}\n"
     ]
    },
    {
     "name": "stderr",
     "output_type": "stream",
     "text": [
      "\r\n",
      "  6%|█████▏                                                                           | 11/171 [01:50<25:23,  9.52s/it]"
     ]
    },
    {
     "name": "stdout",
     "output_type": "stream",
     "text": [
      "{'status': True, 'message': 'Image uploaded successfully'}\n",
      "606ad5150030edda327b7bc0 gautam.kumar@gmail.com\n",
      "{\"status\":true,\"message\":\"Profile successfully updated\",\"data\":{\"basic\":{\"organization_name\":\"not found\",\"organizational_subpart\":\"not found\",\"enumeration_date\":\"not found\",\"last_updated\":\"not found\",\"status\":\"not found\",\"telephone_number\":\"not found\",\"title_or_position\":\"not found\",\"name_prefix\":\"not found\",\"name_suffix\":\"not found\",\"sole_proprietor\":\"not found\",\"gender\":\"not found\",\"name\":\"Gautam Kumar\"},\"document\":{\"idProof\":false,\"registrationProof\":false,\"establishment\":false},\"address\":[],\"taxonomies\":[],\"practiceLocation\":[],\"diseases\":[],\"description\":\"NA\",\"steps\":[0,0,0,0],\"is_in_network\":true,\"is_superDoc\":false,\"location_ids\":[],\"isActive\":true,\"isApproved\":false,\"availability\":[],\"appointments\":[],\"picture\":[],\"profileStatus\":true,\"question\":[],\"appointmentsString\":\"{\\\"duration\\\":\\\"15\\\",\\\"id\\\":\\\"\\\",\\\"weekdaysArr\\\":[{\\\"days\\\":[\\\"wednesday\\\",\\\"thursday\\\",\\\"friday\\\"],\\\"startTime\\\":\\\"02:30\\\",\\\"endTime\\\":\\\"11:30\\\",\\\"lunchStart\\\":\\\"06:30\\\",\\\"lunchEnd\\\":\\\"07:30\\\"},{\\\"days\\\":[\\\"monday\\\",\\\"tuesday\\\"],\\\"startTime\\\":\\\"03:30\\\",\\\"endTime\\\":\\\"12:30\\\",\\\"lunchStart\\\":\\\"06:30\\\",\\\"lunchEnd\\\":\\\"07:30\\\"}]}\",\"onBoarding\":false,\"referrals\":[],\"latestAppointment\":[],\"payment\":true,\"isAssistant\":false,\"rights\":[],\"assistants\":[],\"charity\":false,\"clinic\":[],\"block\":false,\"deviceToken\":[],\"online\":false,\"socket\":[],\"conversations\":[],\"WaitingRoomSocket\":[],\"verify\":true,\"_id\":\"606ad5150030edda327b7bc0\",\"npi\":\"4385\",\"email\":\"gautam.kumar@gmail.com\",\"password\":\"985c201c0983d138a856ffb0c8d53890\",\"specialty\":\"General Physician\",\"customerProfile\":\"cus_JFJ8Dojn98UbNm\",\"city\":\"Jharkhand\",\"state\":\"Ranchi\",\"country\":\"India\",\"firstName\":\"Gautam\",\"lastName\":\"Kumar\",\"referralId\":\"GautamSLmHl_d\",\"createdOn\":\"2021-04-05T09:15:01.078Z\",\"education\":[{\"_id\":\"606ad5170030edda327b7bc3\",\"year\":2012,\"degree\":\"MBBS\",\"university\":\"Ranchi University\"}],\"PatientsWaiting\":[],\"__v\":0,\"meta\":\"606ad5150030edda327b7bc1\",\"bio\":\"Dr. Gautam Kumar is a Doctor in Boreya, Ranchi and has an experience of 9 years in this field. Dr. Gautam Kumar practices at CARE CLINIC in Boreya, Ranchi. He completed MBBS from Ranchi University in 2012. \",\"fee\":500,\"gender\":\"male\"}}\n"
     ]
    },
    {
     "name": "stderr",
     "output_type": "stream",
     "text": [
      "\r\n",
      "  7%|█████▋                                                                           | 12/171 [02:00<25:36,  9.66s/it]"
     ]
    },
    {
     "name": "stdout",
     "output_type": "stream",
     "text": [
      "{'status': True, 'message': 'Image uploaded successfully'}\n",
      "Not present Mayank\n",
      "606ad51f0030edda327b7bde aditya.vardhan.singh@gmail.com\n",
      "{\"status\":true,\"message\":\"Profile successfully updated\",\"data\":{\"basic\":{\"organization_name\":\"not found\",\"organizational_subpart\":\"not found\",\"enumeration_date\":\"not found\",\"last_updated\":\"not found\",\"status\":\"not found\",\"telephone_number\":\"not found\",\"title_or_position\":\"not found\",\"name_prefix\":\"not found\",\"name_suffix\":\"not found\",\"sole_proprietor\":\"not found\",\"gender\":\"not found\",\"name\":\"Aditya Vardhan Singh\"},\"document\":{\"idProof\":false,\"registrationProof\":false,\"establishment\":false},\"address\":[],\"taxonomies\":[],\"practiceLocation\":[],\"diseases\":[],\"description\":\"NA\",\"steps\":[0,0,0,0],\"is_in_network\":true,\"is_superDoc\":false,\"location_ids\":[],\"isActive\":true,\"isApproved\":false,\"availability\":[],\"appointments\":[],\"picture\":[],\"profileStatus\":true,\"question\":[],\"appointmentsString\":\"{\\\"duration\\\":\\\"15\\\",\\\"id\\\":\\\"\\\",\\\"weekdaysArr\\\":[{\\\"days\\\":[\\\"wednesday\\\",\\\"thursday\\\",\\\"friday\\\"],\\\"startTime\\\":\\\"02:30\\\",\\\"endTime\\\":\\\"11:30\\\",\\\"lunchStart\\\":\\\"06:30\\\",\\\"lunchEnd\\\":\\\"07:30\\\"},{\\\"days\\\":[\\\"monday\\\",\\\"tuesday\\\"],\\\"startTime\\\":\\\"03:30\\\",\\\"endTime\\\":\\\"12:30\\\",\\\"lunchStart\\\":\\\"06:30\\\",\\\"lunchEnd\\\":\\\"07:30\\\"}]}\",\"onBoarding\":false,\"referrals\":[],\"latestAppointment\":[],\"payment\":true,\"isAssistant\":false,\"rights\":[],\"assistants\":[],\"charity\":false,\"clinic\":[],\"block\":false,\"deviceToken\":[],\"online\":false,\"socket\":[],\"conversations\":[],\"WaitingRoomSocket\":[],\"verify\":true,\"_id\":\"606ad51f0030edda327b7bde\",\"npi\":\"2865\",\"email\":\"aditya.vardhan.singh@gmail.com\",\"password\":\"985c201c0983d138a856ffb0c8d53890\",\"specialty\":\"General Physician\",\"customerProfile\":\"cus_JFJ8jIFM9LMdim\",\"city\":\"Jharkhand\",\"state\":\"Ranchi\",\"country\":\"India\",\"firstName\":\"Aditya\",\"lastName\":\"Vardhan Singh\",\"referralId\":\"AdityacrhQl_d\",\"createdOn\":\"2021-04-05T09:15:11.070Z\",\"education\":[{\"_id\":\"606ad5200030edda327b7be1\",\"year\":null,\"degree\":\"MD\",\"university\":\"Physician Darbhanga Medical College And Hospital\"},{\"_id\":\"606ad5200030edda327b7be2\",\"year\":null,\"degree\":\"MBBS\",\"university\":\"Rajendra Institute of Medical Sciences\"}],\"PatientsWaiting\":[],\"__v\":0,\"meta\":\"606ad51f0030edda327b7bdf\",\"bio\":\"I am a motivated, compassionate and clinically competent medical doctor with over 6 years post postgraduate experience who believes in an honest approach towards my duties with absolute commitment on behalf of my patients whose needs are of my utmost concern. I have a strong focus on listening to and addressing patient concerns and answering all questions in terms patients can easily understand. \",\"fee\":500,\"gender\":\"male\"}}\n"
     ]
    },
    {
     "name": "stderr",
     "output_type": "stream",
     "text": [
      "\r\n",
      "  8%|██████▋                                                                          | 14/171 [02:09<18:44,  7.16s/it]"
     ]
    },
    {
     "name": "stdout",
     "output_type": "stream",
     "text": [
      "{'status': True, 'message': 'Image uploaded successfully'}\n"
     ]
    },
    {
     "name": "stderr",
     "output_type": "stream",
     "text": [
      "\r\n",
      "  9%|███████                                                                          | 15/171 [02:11<15:26,  5.94s/it]"
     ]
    },
    {
     "name": "stdout",
     "output_type": "stream",
     "text": [
      "This email is already taken\n",
      "606ad5290030edda327b7bfd manoj.kumar.singh@gmail.com\n",
      "{\"status\":true,\"message\":\"Profile successfully updated\",\"data\":{\"basic\":{\"organization_name\":\"not found\",\"organizational_subpart\":\"not found\",\"enumeration_date\":\"not found\",\"last_updated\":\"not found\",\"status\":\"not found\",\"telephone_number\":\"not found\",\"title_or_position\":\"not found\",\"name_prefix\":\"not found\",\"name_suffix\":\"not found\",\"sole_proprietor\":\"not found\",\"gender\":\"not found\",\"name\":\"Manoj Kumar Singh\"},\"document\":{\"idProof\":false,\"registrationProof\":false,\"establishment\":false},\"address\":[],\"taxonomies\":[],\"practiceLocation\":[],\"diseases\":[],\"description\":\"NA\",\"steps\":[0,0,0,0],\"is_in_network\":true,\"is_superDoc\":false,\"location_ids\":[],\"isActive\":true,\"isApproved\":false,\"availability\":[],\"appointments\":[],\"picture\":[],\"profileStatus\":true,\"question\":[],\"appointmentsString\":\"{\\\"duration\\\":\\\"15\\\",\\\"id\\\":\\\"\\\",\\\"weekdaysArr\\\":[{\\\"days\\\":[\\\"wednesday\\\",\\\"thursday\\\",\\\"friday\\\"],\\\"startTime\\\":\\\"02:30\\\",\\\"endTime\\\":\\\"11:30\\\",\\\"lunchStart\\\":\\\"06:30\\\",\\\"lunchEnd\\\":\\\"07:30\\\"},{\\\"days\\\":[\\\"monday\\\",\\\"tuesday\\\"],\\\"startTime\\\":\\\"03:30\\\",\\\"endTime\\\":\\\"12:30\\\",\\\"lunchStart\\\":\\\"06:30\\\",\\\"lunchEnd\\\":\\\"07:30\\\"}]}\",\"onBoarding\":false,\"referrals\":[],\"latestAppointment\":[],\"payment\":true,\"isAssistant\":false,\"rights\":[],\"assistants\":[],\"charity\":false,\"clinic\":[],\"block\":false,\"deviceToken\":[],\"online\":false,\"socket\":[],\"conversations\":[],\"WaitingRoomSocket\":[],\"verify\":true,\"_id\":\"606ad5290030edda327b7bfd\",\"npi\":\"40222\",\"email\":\"manoj.kumar.singh@gmail.com\",\"password\":\"985c201c0983d138a856ffb0c8d53890\",\"specialty\":\"General Physician\",\"customerProfile\":\"cus_JFJ9smKoP5JrB8\",\"city\":\"Jharkhand\",\"state\":\"Ranchi\",\"country\":\"India\",\"firstName\":\"Manoj\",\"lastName\":\"Kumar Singh\",\"referralId\":\"Manoj6b9yD_d\",\"createdOn\":\"2021-04-05T09:15:21.207Z\",\"education\":[{\"_id\":\"606ad52b0030edda327b7c00\",\"year\":null,\"degree\":\"MBBS\",\"university\":\"A N Magadh Medical College\"},{\"_id\":\"606ad52b0030edda327b7c01\",\"year\":null,\"degree\":\"MD\",\"university\":\"Medicine POSTGRADUATE INSTITUTE OF MEDICAL  EDUCATION AND RESEARCH\"}],\"PatientsWaiting\":[],\"__v\":0,\"meta\":\"606ad5290030edda327b7bfe\",\"bio\":\"Dr. Manoj Kumar Singh is a Doctor in Ratu, Ranchi and has an experience of 11 years in this field. Dr. Manoj Kumar Singh practices at Sky Vision Foundation in Ratu, Ranchi. He completed MBBS from A N Magadh Medical College, Gaya in 2010 and MD - Medicine from POSTGRADUATE INSTITUTE OF MEDICAL EDUCATION AND RESEARCH, CHANDIGARH in 2013. He is a member of Indian Medical Association (IMA). Some of the services provided by the doctor are: Infectious Disease Treatment,Preventive Medicine and Health Checkup (General) etc. \",\"fee\":200,\"gender\":\"male\"}}\n"
     ]
    },
    {
     "name": "stderr",
     "output_type": "stream",
     "text": [
      "\r\n",
      "  9%|███████▌                                                                         | 16/171 [02:20<17:33,  6.80s/it]"
     ]
    },
    {
     "name": "stdout",
     "output_type": "stream",
     "text": [
      "{'status': True, 'message': 'Image uploaded successfully'}\n",
      "606ad5330030edda327b7c1c pradeep.kumar.thakur@gmail.com\n",
      "{\"status\":true,\"message\":\"Profile successfully updated\",\"data\":{\"basic\":{\"organization_name\":\"not found\",\"organizational_subpart\":\"not found\",\"enumeration_date\":\"not found\",\"last_updated\":\"not found\",\"status\":\"not found\",\"telephone_number\":\"not found\",\"title_or_position\":\"not found\",\"name_prefix\":\"not found\",\"name_suffix\":\"not found\",\"sole_proprietor\":\"not found\",\"gender\":\"not found\",\"name\":\"Pradeep Kumar Thakur\"},\"document\":{\"idProof\":false,\"registrationProof\":false,\"establishment\":false},\"address\":[],\"taxonomies\":[],\"practiceLocation\":[],\"diseases\":[],\"description\":\"NA\",\"steps\":[0,0,0,0],\"is_in_network\":true,\"is_superDoc\":false,\"location_ids\":[],\"isActive\":true,\"isApproved\":false,\"availability\":[],\"appointments\":[],\"picture\":[],\"profileStatus\":true,\"question\":[],\"appointmentsString\":\"{\\\"duration\\\":\\\"15\\\",\\\"id\\\":\\\"\\\",\\\"weekdaysArr\\\":[{\\\"days\\\":[\\\"wednesday\\\",\\\"thursday\\\",\\\"friday\\\"],\\\"startTime\\\":\\\"02:30\\\",\\\"endTime\\\":\\\"11:30\\\",\\\"lunchStart\\\":\\\"06:30\\\",\\\"lunchEnd\\\":\\\"07:30\\\"},{\\\"days\\\":[\\\"monday\\\",\\\"tuesday\\\"],\\\"startTime\\\":\\\"03:30\\\",\\\"endTime\\\":\\\"12:30\\\",\\\"lunchStart\\\":\\\"06:30\\\",\\\"lunchEnd\\\":\\\"07:30\\\"}]}\",\"onBoarding\":false,\"referrals\":[],\"latestAppointment\":[],\"payment\":true,\"isAssistant\":false,\"rights\":[],\"assistants\":[],\"charity\":false,\"clinic\":[],\"block\":false,\"deviceToken\":[],\"online\":false,\"socket\":[],\"conversations\":[],\"WaitingRoomSocket\":[],\"verify\":true,\"_id\":\"606ad5330030edda327b7c1c\",\"npi\":\"6080\",\"email\":\"pradeep.kumar.thakur@gmail.com\",\"password\":\"985c201c0983d138a856ffb0c8d53890\",\"specialty\":\"General Physician\",\"customerProfile\":\"cus_JFJ9mhjsI0sPtx\",\"city\":\"Jharkhand\",\"state\":\"Ranchi\",\"country\":\"India\",\"firstName\":\"Pradeep\",\"lastName\":\"Kumar Thakur\",\"referralId\":\"PradeepsPnY0_d\",\"createdOn\":\"2021-04-05T09:15:31.280Z\",\"education\":[{\"_id\":\"606ad5340030edda327b7c1f\",\"year\":2010,\"degree\":\"MBBS\",\"university\":\"JIMUS University China \"}],\"PatientsWaiting\":[],\"__v\":0,\"meta\":\"606ad5330030edda327b7c1d\",\"bio\":\"Dr. Pradeep Kumar Thakur is a General Physician and Emergency Medicine in Ahirtoli, Ranchi and has an experience of 11 years in these fields. Dr. Pradeep Kumar Thakur practices at Orchid Medical Centre in Ahirtoli, Ranchi. He completed MBBS from JIMUS University China in 2010. \",\"fee\":300,\"gender\":\"male\"}}\n"
     ]
    },
    {
     "name": "stderr",
     "output_type": "stream",
     "text": [
      "\r\n",
      " 10%|████████                                                                         | 17/171 [02:30<19:40,  7.66s/it]"
     ]
    },
    {
     "name": "stdout",
     "output_type": "stream",
     "text": [
      "{'status': True, 'message': 'Image uploaded successfully'}\n",
      "606ad53c0030edda327b7c3a sanjay.kumar@gmail.com\n",
      "{\"status\":true,\"message\":\"Profile successfully updated\",\"data\":{\"basic\":{\"organization_name\":\"not found\",\"organizational_subpart\":\"not found\",\"enumeration_date\":\"not found\",\"last_updated\":\"not found\",\"status\":\"not found\",\"telephone_number\":\"not found\",\"title_or_position\":\"not found\",\"name_prefix\":\"not found\",\"name_suffix\":\"not found\",\"sole_proprietor\":\"not found\",\"gender\":\"not found\",\"name\":\"Sanjay Kumar\"},\"document\":{\"idProof\":false,\"registrationProof\":false,\"establishment\":false},\"address\":[],\"taxonomies\":[],\"practiceLocation\":[],\"diseases\":[],\"description\":\"NA\",\"steps\":[0,0,0,0],\"is_in_network\":true,\"is_superDoc\":false,\"location_ids\":[],\"isActive\":true,\"isApproved\":false,\"availability\":[],\"appointments\":[],\"picture\":[],\"profileStatus\":true,\"question\":[],\"appointmentsString\":\"{\\\"duration\\\":\\\"15\\\",\\\"id\\\":\\\"\\\",\\\"weekdaysArr\\\":[{\\\"days\\\":[\\\"wednesday\\\",\\\"thursday\\\",\\\"friday\\\"],\\\"startTime\\\":\\\"02:30\\\",\\\"endTime\\\":\\\"11:30\\\",\\\"lunchStart\\\":\\\"06:30\\\",\\\"lunchEnd\\\":\\\"07:30\\\"},{\\\"days\\\":[\\\"monday\\\",\\\"tuesday\\\"],\\\"startTime\\\":\\\"03:30\\\",\\\"endTime\\\":\\\"12:30\\\",\\\"lunchStart\\\":\\\"06:30\\\",\\\"lunchEnd\\\":\\\"07:30\\\"}]}\",\"onBoarding\":false,\"referrals\":[],\"latestAppointment\":[],\"payment\":true,\"isAssistant\":false,\"rights\":[],\"assistants\":[],\"charity\":false,\"clinic\":[],\"block\":false,\"deviceToken\":[],\"online\":false,\"socket\":[],\"conversations\":[],\"WaitingRoomSocket\":[],\"verify\":true,\"_id\":\"606ad53c0030edda327b7c3a\",\"npi\":\"25422\",\"email\":\"sanjay.kumar@gmail.com\",\"password\":\"985c201c0983d138a856ffb0c8d53890\",\"specialty\":\"General Physician\",\"customerProfile\":\"cus_JFJ98OUy22Yvaj\",\"city\":\"Jharkhand\",\"state\":\"Ranchi\",\"country\":\"India\",\"firstName\":\"Sanjay\",\"lastName\":\"Kumar\",\"referralId\":\"Sanjayhv2Nx_d\",\"createdOn\":\"2021-04-05T09:15:40.965Z\",\"education\":[{\"_id\":\"606ad53e0030edda327b7c3d\",\"year\":null,\"degree\":\"MBBS\",\"university\":\"Darbhanga Medical College And Hospital\"}],\"PatientsWaiting\":[],\"__v\":0,\"meta\":\"606ad53d0030edda327b7c3b\",\"bio\":\"Dr. Sanjay Kumar is a Doctor in Kokar, Ranchi and has an experience of 28 years in this field. Dr. Sanjay Kumar practices at Saraswati Clinic in Kokar, Ranchi. He completed MBBS from Darbhanga Medical College And Hospital, Bihar in 1992. \",\"fee\":100,\"gender\":\"male\"}}\n"
     ]
    },
    {
     "name": "stderr",
     "output_type": "stream",
     "text": [
      "\r\n",
      " 11%|████████▌                                                                        | 18/171 [02:40<21:13,  8.32s/it]"
     ]
    },
    {
     "name": "stdout",
     "output_type": "stream",
     "text": [
      "{'status': True, 'message': 'Image uploaded successfully'}\n",
      "Not present Binay\n",
      "Not present Sumit\n",
      "606ad5480030edda327b7c58 m.s.chen@gmail.com\n",
      "{\"status\":true,\"message\":\"Profile successfully updated\",\"data\":{\"basic\":{\"organization_name\":\"not found\",\"organizational_subpart\":\"not found\",\"enumeration_date\":\"not found\",\"last_updated\":\"not found\",\"status\":\"not found\",\"telephone_number\":\"not found\",\"title_or_position\":\"not found\",\"name_prefix\":\"not found\",\"name_suffix\":\"not found\",\"sole_proprietor\":\"not found\",\"gender\":\"not found\",\"name\":\"M S Chen\"},\"document\":{\"idProof\":false,\"registrationProof\":false,\"establishment\":false},\"address\":[],\"taxonomies\":[],\"practiceLocation\":[],\"diseases\":[],\"description\":\"NA\",\"steps\":[0,0,0,0],\"is_in_network\":true,\"is_superDoc\":false,\"location_ids\":[],\"isActive\":true,\"isApproved\":false,\"availability\":[],\"appointments\":[],\"picture\":[],\"profileStatus\":true,\"question\":[],\"appointmentsString\":\"{\\\"duration\\\":\\\"15\\\",\\\"id\\\":\\\"\\\",\\\"weekdaysArr\\\":[{\\\"days\\\":[\\\"wednesday\\\",\\\"thursday\\\",\\\"friday\\\"],\\\"startTime\\\":\\\"02:30\\\",\\\"endTime\\\":\\\"11:30\\\",\\\"lunchStart\\\":\\\"06:30\\\",\\\"lunchEnd\\\":\\\"07:30\\\"},{\\\"days\\\":[\\\"monday\\\",\\\"tuesday\\\"],\\\"startTime\\\":\\\"03:30\\\",\\\"endTime\\\":\\\"12:30\\\",\\\"lunchStart\\\":\\\"06:30\\\",\\\"lunchEnd\\\":\\\"07:30\\\"}]}\",\"onBoarding\":false,\"referrals\":[],\"latestAppointment\":[],\"payment\":true,\"isAssistant\":false,\"rights\":[],\"assistants\":[],\"charity\":false,\"clinic\":[],\"block\":false,\"deviceToken\":[],\"online\":false,\"socket\":[],\"conversations\":[],\"WaitingRoomSocket\":[],\"verify\":true,\"_id\":\"606ad5480030edda327b7c58\",\"npi\":\"5667-A\",\"email\":\"m.s.chen@gmail.com\",\"password\":\"985c201c0983d138a856ffb0c8d53890\",\"specialty\":\"Dentist\",\"customerProfile\":\"cus_JFJ9phBnwtBJjM\",\"city\":\"Jharkhand\",\"state\":\"Ranchi\",\"country\":\"India\",\"firstName\":\"M\",\"lastName\":\"S Chen\",\"referralId\":\"MXTqbg_d\",\"createdOn\":\"2021-04-05T09:15:52.294Z\",\"education\":[{\"_id\":\"606ad54b0030edda327b7c5b\",\"year\":1997,\"degree\":\"BDS\",\"university\":\"A.B. Shetty Memorial Institute of Dental Sciences\"},{\"_id\":\"606ad54b0030edda327b7c5c\",\"year\":null,\"degree\":\"Master of Clinical Dentistry in Fixed and Removable Prosthodontics\",\"university\":\"Kings College Hospital\"}],\"PatientsWaiting\":[],\"__v\":0,\"meta\":\"606ad5480030edda327b7c59\",\"bio\":\"Dr. M S Chen is a Dentist,Implantologist and Cosmetic/Aesthetic Dentist in Hindpiri, Ranchi and has an experience of 24 years in these fields. Dr. M S Chen practices at Dr. Chen's Dental Clinic in Hindpiri, Ranchi. He completed BDS from A.B. Shetty Memorial Institute of Dental Sciences in 1997,Master of Clinical Dentistry in Fixed and Removable Prosthodontics from Kings College Hospital, London in 2014 and Fellow of International Congress of Oral Implantologist from ICOI - International Congress of Oral Implantologist in 2014. He is a member of Academy of Oral Implantology (AOI),Academy of General Dentistry,Karnataka State Dental Council and International Congress of Oral Implantologists (ICOI). Some of the services provided by the doctor are: Snore guard,Dental Crowns,Ceramic Veneers / Crowns ,Inlays and Onlays and Toothache remedies treatment etc. \",\"fee\":300,\"gender\":\"female\"}}\n"
     ]
    },
    {
     "name": "stderr",
     "output_type": "stream",
     "text": [
      "\r\n",
      " 12%|█████████▉                                                                       | 21/171 [02:53<15:23,  6.16s/it]"
     ]
    },
    {
     "name": "stdout",
     "output_type": "stream",
     "text": [
      "{'status': True, 'message': 'Image uploaded successfully'}\n",
      "Not present Harjeet\n",
      "Not present Ravishankar\n",
      "606ad5530030edda327b7c77 bhaskar.lal@gmail.com\n",
      "{\"status\":true,\"message\":\"Profile successfully updated\",\"data\":{\"basic\":{\"organization_name\":\"not found\",\"organizational_subpart\":\"not found\",\"enumeration_date\":\"not found\",\"last_updated\":\"not found\",\"status\":\"not found\",\"telephone_number\":\"not found\",\"title_or_position\":\"not found\",\"name_prefix\":\"not found\",\"name_suffix\":\"not found\",\"sole_proprietor\":\"not found\",\"gender\":\"not found\",\"name\":\"Bhaskar Lal\"},\"document\":{\"idProof\":false,\"registrationProof\":false,\"establishment\":false},\"address\":[],\"taxonomies\":[],\"practiceLocation\":[],\"diseases\":[],\"description\":\"NA\",\"steps\":[0,0,0,0],\"is_in_network\":true,\"is_superDoc\":false,\"location_ids\":[],\"isActive\":true,\"isApproved\":false,\"availability\":[],\"appointments\":[],\"picture\":[],\"profileStatus\":true,\"question\":[],\"appointmentsString\":\"{\\\"duration\\\":\\\"15\\\",\\\"id\\\":\\\"\\\",\\\"weekdaysArr\\\":[{\\\"days\\\":[\\\"wednesday\\\",\\\"thursday\\\",\\\"friday\\\"],\\\"startTime\\\":\\\"02:30\\\",\\\"endTime\\\":\\\"11:30\\\",\\\"lunchStart\\\":\\\"06:30\\\",\\\"lunchEnd\\\":\\\"07:30\\\"},{\\\"days\\\":[\\\"monday\\\",\\\"tuesday\\\"],\\\"startTime\\\":\\\"03:30\\\",\\\"endTime\\\":\\\"12:30\\\",\\\"lunchStart\\\":\\\"06:30\\\",\\\"lunchEnd\\\":\\\"07:30\\\"}]}\",\"onBoarding\":false,\"referrals\":[],\"latestAppointment\":[],\"payment\":true,\"isAssistant\":false,\"rights\":[],\"assistants\":[],\"charity\":false,\"clinic\":[],\"block\":false,\"deviceToken\":[],\"online\":false,\"socket\":[],\"conversations\":[],\"WaitingRoomSocket\":[],\"verify\":true,\"_id\":\"606ad5530030edda327b7c77\",\"npi\":\"29478A\",\"email\":\"bhaskar.lal@gmail.com\",\"password\":\"985c201c0983d138a856ffb0c8d53890\",\"specialty\":\"Dentist\",\"customerProfile\":\"cus_JFJ98EwH38wVaS\",\"city\":\"Jharkhand\",\"state\":\"Ranchi\",\"country\":\"India\",\"firstName\":\"Bhaskar\",\"lastName\":\"Lal\",\"referralId\":\"BhaskarleyZS_d\",\"createdOn\":\"2021-04-05T09:16:03.482Z\",\"education\":[{\"_id\":\"606ad5550030edda327b7c7a\",\"year\":2010,\"degree\":\"BDS\",\"university\":\"Vydehi Institute of Dental Sciences  Research\"},{\"_id\":\"606ad5550030edda327b7c7b\",\"year\":2018,\"degree\":\"MDS\",\"university\":\"Avadh University\"}],\"PatientsWaiting\":[],\"__v\":0,\"meta\":\"606ad5530030edda327b7c78\",\"bio\":\"Dr. Bhaskar Lal is a Dentist, Endodontist, and Orthodontist in Lalpur, Ranchi and has an experience of 6 years in these fields. Dr. Bhaskar Lal practices at Dental Solutions in Lalpur, Ranchi. He completed BDS from Vydehi Institute of Dental Sciences Research in 2010. With master in Endodontics He is a member of Indian Dental Association.,International Society Of Endodontics (U.S.A) some of the services provided by the doctor are oral cancer treatment, tooth bleaching, presurgical orthodontics, surgical tooth extraction and teeth cleaning (scaling) etc. Specialized for RCT, implants, braces. \",\"fee\":150,\"gender\":\"male\"}}\n"
     ]
    },
    {
     "name": "stderr",
     "output_type": "stream",
     "text": [
      "\r\n",
      " 14%|███████████▎                                                                     | 24/171 [03:02<11:50,  4.83s/it]"
     ]
    },
    {
     "name": "stdout",
     "output_type": "stream",
     "text": [
      "{'status': True, 'message': 'Image uploaded successfully'}\n",
      "606ad55d0030edda327b7c96 praveen.kumar@gmail.com\n",
      "{\"status\":true,\"message\":\"Profile successfully updated\",\"data\":{\"basic\":{\"organization_name\":\"not found\",\"organizational_subpart\":\"not found\",\"enumeration_date\":\"not found\",\"last_updated\":\"not found\",\"status\":\"not found\",\"telephone_number\":\"not found\",\"title_or_position\":\"not found\",\"name_prefix\":\"not found\",\"name_suffix\":\"not found\",\"sole_proprietor\":\"not found\",\"gender\":\"not found\",\"name\":\"Praveen Kumar\"},\"document\":{\"idProof\":false,\"registrationProof\":false,\"establishment\":false},\"address\":[],\"taxonomies\":[],\"practiceLocation\":[],\"diseases\":[],\"description\":\"NA\",\"steps\":[0,0,0,0],\"is_in_network\":true,\"is_superDoc\":false,\"location_ids\":[],\"isActive\":true,\"isApproved\":false,\"availability\":[],\"appointments\":[],\"picture\":[],\"profileStatus\":true,\"question\":[],\"appointmentsString\":\"{\\\"duration\\\":\\\"15\\\",\\\"id\\\":\\\"\\\",\\\"weekdaysArr\\\":[{\\\"days\\\":[\\\"wednesday\\\",\\\"thursday\\\",\\\"friday\\\"],\\\"startTime\\\":\\\"02:30\\\",\\\"endTime\\\":\\\"11:30\\\",\\\"lunchStart\\\":\\\"06:30\\\",\\\"lunchEnd\\\":\\\"07:30\\\"},{\\\"days\\\":[\\\"monday\\\",\\\"tuesday\\\"],\\\"startTime\\\":\\\"03:30\\\",\\\"endTime\\\":\\\"12:30\\\",\\\"lunchStart\\\":\\\"06:30\\\",\\\"lunchEnd\\\":\\\"07:30\\\"}]}\",\"onBoarding\":false,\"referrals\":[],\"latestAppointment\":[],\"payment\":true,\"isAssistant\":false,\"rights\":[],\"assistants\":[],\"charity\":false,\"clinic\":[],\"block\":false,\"deviceToken\":[],\"online\":false,\"socket\":[],\"conversations\":[],\"WaitingRoomSocket\":[],\"verify\":true,\"_id\":\"606ad55d0030edda327b7c96\",\"npi\":\"A\",\"email\":\"praveen.kumar@gmail.com\",\"password\":\"985c201c0983d138a856ffb0c8d53890\",\"specialty\":\"Dentist\",\"customerProfile\":\"cus_JFJ9Ck8u1eSkuV\",\"city\":\"Jharkhand\",\"state\":\"Ranchi\",\"country\":\"India\",\"firstName\":\"Praveen\",\"lastName\":\"Kumar\",\"referralId\":\"PraveendvY9o_d\",\"createdOn\":\"2021-04-05T09:16:13.523Z\",\"education\":[{\"_id\":\"606ad55f0030edda327b7c99\",\"year\":null,\"degree\":\"BDS\",\"university\":\"Manipal College of Dental Sciences\"}],\"PatientsWaiting\":[],\"__v\":0,\"meta\":\"606ad55d0030edda327b7c97\",\"bio\":\"Dr. Praveen Kumar is a Dentist in Harmu Housing Colony, Ranchi and has an experience of 6 years in this field. Dr. Praveen Kumar practices at Perfect 32 Multi Speciality Dental Clinic in Harmu Housing Colony, Ranchi. He completed BDS from Manipal College of Dental Sciences, Manipal in 2010, (FAGE) Fellow of Academy of General Education from Manipal College of Dental Sciences, Manipal in 2011 and Post graduate certificate in oral implantology from Bapuji Dental College Hospital in 2015.He is a member of Indian Dental Association. \",\"fee\":200,\"gender\":\"male\"}}\n"
     ]
    },
    {
     "name": "stderr",
     "output_type": "stream",
     "text": [
      "\r\n",
      " 15%|███████████▊                                                                     | 25/171 [03:13<14:01,  5.77s/it]"
     ]
    },
    {
     "name": "stdout",
     "output_type": "stream",
     "text": [
      "{'status': True, 'message': 'Image uploaded successfully'}\n",
      "606ad5670030edda327b7cb4 ajit.kumar...(physiotherapist)@gmail.com\n",
      "{\"status\":true,\"message\":\"Profile successfully updated\",\"data\":{\"basic\":{\"organization_name\":\"not found\",\"organizational_subpart\":\"not found\",\"enumeration_date\":\"not found\",\"last_updated\":\"not found\",\"status\":\"not found\",\"telephone_number\":\"not found\",\"title_or_position\":\"not found\",\"name_prefix\":\"not found\",\"name_suffix\":\"not found\",\"sole_proprietor\":\"not found\",\"gender\":\"not found\",\"name\":\"Ajit Kumar   (Physiotherapist)\"},\"document\":{\"idProof\":false,\"registrationProof\":false,\"establishment\":false},\"address\":[],\"taxonomies\":[],\"practiceLocation\":[],\"diseases\":[],\"description\":\"NA\",\"steps\":[0,0,0,0],\"is_in_network\":true,\"is_superDoc\":false,\"location_ids\":[],\"isActive\":true,\"isApproved\":false,\"availability\":[],\"appointments\":[],\"picture\":[],\"profileStatus\":true,\"question\":[],\"appointmentsString\":\"{\\\"duration\\\":\\\"15\\\",\\\"id\\\":\\\"\\\",\\\"weekdaysArr\\\":[{\\\"days\\\":[\\\"wednesday\\\",\\\"thursday\\\",\\\"friday\\\"],\\\"startTime\\\":\\\"02:30\\\",\\\"endTime\\\":\\\"11:30\\\",\\\"lunchStart\\\":\\\"06:30\\\",\\\"lunchEnd\\\":\\\"07:30\\\"},{\\\"days\\\":[\\\"monday\\\",\\\"tuesday\\\"],\\\"startTime\\\":\\\"03:30\\\",\\\"endTime\\\":\\\"12:30\\\",\\\"lunchStart\\\":\\\"06:30\\\",\\\"lunchEnd\\\":\\\"07:30\\\"}]}\",\"onBoarding\":false,\"referrals\":[],\"latestAppointment\":[],\"payment\":true,\"isAssistant\":false,\"rights\":[],\"assistants\":[],\"charity\":false,\"clinic\":[],\"block\":false,\"deviceToken\":[],\"online\":false,\"socket\":[],\"conversations\":[],\"WaitingRoomSocket\":[],\"verify\":true,\"_id\":\"606ad5670030edda327b7cb4\",\"npi\":\"L6326\",\"email\":\"ajit.kumar...(physiotherapist)@gmail.com\",\"password\":\"985c201c0983d138a856ffb0c8d53890\",\"specialty\":\"Physiotherapist\",\"customerProfile\":\"cus_JFJArFvnGAnRsE\",\"city\":\"Jharkhand\",\"state\":\"Ranchi\",\"country\":\"India\",\"firstName\":\"Ajit\",\"lastName\":\"Kumar   (Physiotherapist)\",\"referralId\":\"Ajitz5NXQ_d\",\"createdOn\":\"2021-04-05T09:16:23.260Z\",\"education\":[{\"_id\":\"606ad56c0030edda327b7cd1\",\"year\":null,\"degree\":\"BPTh/BPT\",\"university\":\"Indian Institute of Health Education & Research\"},{\"_id\":\"606ad56c0030edda327b7cd2\",\"year\":null,\"degree\":\"MPTh/MPT\",\"university\":\"Cardiovascular & Pulmonary Physiotherapy Indian Institute of Health Education & Research\"}],\"PatientsWaiting\":[],\"__v\":0,\"meta\":\"606ad5670030edda327b7cb5\",\"bio\":\"Mr. Ajit Kumar is a Neuro Physiotherapist, Physiotherapist and Sports and Musculoskeletal Physiotherapist in Harmu Housing Colony, Ranchi and has an experience of 22 years in these fields. Mr. Ajit Kumar practices at Pain and Physiotherapy Clinic in Harmu Housing Colony, Ranchi. He completed BPTh/BPT from Indian Institute of Health Education & Research, Patna in 1994, MPTh/MPT from Indian Institute of Health Education & Research, Patna in 2010 and MPTh/MPT from Indian Institute of Health Education & Research, Patna in 2012. He is a member of neuro trauma society of India, Indian Association of Physiotherapist and Indian Association of Physiotherapy, Jharkhand Chapter. \",\"fee\":200,\"gender\":\"male\"}}\n"
     ]
    },
    {
     "name": "stderr",
     "output_type": "stream",
     "text": [
      "\r\n",
      " 15%|████████████▎                                                                    | 26/171 [03:25<17:00,  7.04s/it]"
     ]
    },
    {
     "name": "stdout",
     "output_type": "stream",
     "text": [
      "{'status': True, 'message': 'Image uploaded successfully'}\n",
      "Not present Avinash\n",
      "606ad5730030edda327b7cd3 rahul.prakash@gmail.com\n",
      "{\"status\":true,\"message\":\"Profile successfully updated\",\"data\":{\"basic\":{\"organization_name\":\"not found\",\"organizational_subpart\":\"not found\",\"enumeration_date\":\"not found\",\"last_updated\":\"not found\",\"status\":\"not found\",\"telephone_number\":\"not found\",\"title_or_position\":\"not found\",\"name_prefix\":\"not found\",\"name_suffix\":\"not found\",\"sole_proprietor\":\"not found\",\"gender\":\"not found\",\"name\":\"Rahul Prakash\"},\"document\":{\"idProof\":false,\"registrationProof\":false,\"establishment\":false},\"address\":[],\"taxonomies\":[],\"practiceLocation\":[],\"diseases\":[],\"description\":\"NA\",\"steps\":[0,0,0,0],\"is_in_network\":true,\"is_superDoc\":false,\"location_ids\":[],\"isActive\":true,\"isApproved\":false,\"availability\":[],\"appointments\":[],\"picture\":[],\"profileStatus\":true,\"question\":[],\"appointmentsString\":\"{\\\"duration\\\":\\\"15\\\",\\\"id\\\":\\\"\\\",\\\"weekdaysArr\\\":[{\\\"days\\\":[\\\"wednesday\\\",\\\"thursday\\\",\\\"friday\\\"],\\\"startTime\\\":\\\"02:30\\\",\\\"endTime\\\":\\\"11:30\\\",\\\"lunchStart\\\":\\\"06:30\\\",\\\"lunchEnd\\\":\\\"07:30\\\"},{\\\"days\\\":[\\\"monday\\\",\\\"tuesday\\\"],\\\"startTime\\\":\\\"03:30\\\",\\\"endTime\\\":\\\"12:30\\\",\\\"lunchStart\\\":\\\"06:30\\\",\\\"lunchEnd\\\":\\\"07:30\\\"}]}\",\"onBoarding\":false,\"referrals\":[],\"latestAppointment\":[],\"payment\":true,\"isAssistant\":false,\"rights\":[],\"assistants\":[],\"charity\":false,\"clinic\":[],\"block\":false,\"deviceToken\":[],\"online\":false,\"socket\":[],\"conversations\":[],\"WaitingRoomSocket\":[],\"verify\":true,\"_id\":\"606ad5730030edda327b7cd3\",\"npi\":\"18427-A\",\"email\":\"rahul.prakash@gmail.com\",\"password\":\"985c201c0983d138a856ffb0c8d53890\",\"specialty\":\"Dentist\",\"customerProfile\":\"cus_JFJAWxEZN37urA\",\"city\":\"Jharkhand\",\"state\":\"Ranchi\",\"country\":\"India\",\"firstName\":\"Rahul\",\"lastName\":\"Prakash\",\"referralId\":\"RahulSPpyi_d\",\"createdOn\":\"2021-04-05T09:16:35.160Z\",\"education\":[{\"_id\":\"606ad5760030edda327b7cf0\",\"year\":null,\"degree\":\"BDS\",\"university\":\"Manipal College of Dental Sciences\"}],\"PatientsWaiting\":[],\"__v\":0,\"meta\":\"606ad5730030edda327b7cd4\",\"bio\":\"Dr. Rahul Prakash is a Dentist in Ratu, Ranchi and has an experience of 16 years in this field. Dr. Rahul Prakash practices at Family Dental Clinic in Ratu, Ranchi. He completed BDS from Manipal College of Dental Sciences, Mangalore in 2005. He is a member of Indian Dental Association. Some of the services provided by the doctor are: Teeth Reshaping,Dental Braces Fixing,BPS Dentures Fixing,Crowns and Bridges Fixing and Straightening Teeth (Conventional Braces) etc. \",\"fee\":400,\"gender\":\"male\"}}\n"
     ]
    },
    {
     "name": "stderr",
     "output_type": "stream",
     "text": [
      "\r\n",
      " 16%|█████████████▎                                                                   | 28/171 [03:36<15:28,  6.49s/it]"
     ]
    },
    {
     "name": "stdout",
     "output_type": "stream",
     "text": [
      "{'status': True, 'message': 'Image uploaded successfully'}\n",
      "606ad57e0030edda327b7cf1 abhishek.kumar@gmail.com\n",
      "{\"status\":true,\"message\":\"Profile successfully updated\",\"data\":{\"basic\":{\"organization_name\":\"not found\",\"organizational_subpart\":\"not found\",\"enumeration_date\":\"not found\",\"last_updated\":\"not found\",\"status\":\"not found\",\"telephone_number\":\"not found\",\"title_or_position\":\"not found\",\"name_prefix\":\"not found\",\"name_suffix\":\"not found\",\"sole_proprietor\":\"not found\",\"gender\":\"not found\",\"name\":\"Abhishek Kumar\"},\"document\":{\"idProof\":false,\"registrationProof\":false,\"establishment\":false},\"address\":[],\"taxonomies\":[],\"practiceLocation\":[],\"diseases\":[],\"description\":\"NA\",\"steps\":[0,0,0,0],\"is_in_network\":true,\"is_superDoc\":false,\"location_ids\":[],\"isActive\":true,\"isApproved\":false,\"availability\":[],\"appointments\":[],\"picture\":[],\"profileStatus\":true,\"question\":[],\"appointmentsString\":\"{\\\"duration\\\":\\\"15\\\",\\\"id\\\":\\\"\\\",\\\"weekdaysArr\\\":[{\\\"days\\\":[\\\"wednesday\\\",\\\"thursday\\\",\\\"friday\\\"],\\\"startTime\\\":\\\"02:30\\\",\\\"endTime\\\":\\\"11:30\\\",\\\"lunchStart\\\":\\\"06:30\\\",\\\"lunchEnd\\\":\\\"07:30\\\"},{\\\"days\\\":[\\\"monday\\\",\\\"tuesday\\\"],\\\"startTime\\\":\\\"03:30\\\",\\\"endTime\\\":\\\"12:30\\\",\\\"lunchStart\\\":\\\"06:30\\\",\\\"lunchEnd\\\":\\\"07:30\\\"}]}\",\"onBoarding\":false,\"referrals\":[],\"latestAppointment\":[],\"payment\":true,\"isAssistant\":false,\"rights\":[],\"assistants\":[],\"charity\":false,\"clinic\":[],\"block\":false,\"deviceToken\":[],\"online\":false,\"socket\":[],\"conversations\":[],\"WaitingRoomSocket\":[],\"verify\":true,\"_id\":\"606ad57e0030edda327b7cf1\",\"npi\":\"2004123794\",\"email\":\"abhishek.kumar@gmail.com\",\"password\":\"985c201c0983d138a856ffb0c8d53890\",\"specialty\":\"ENT/ Otorhinolaryngologist\",\"customerProfile\":\"cus_JFJAb7dtGcEkN7\",\"city\":\"Jharkhand\",\"state\":\"Ranchi\",\"country\":\"India\",\"firstName\":\"Abhishek\",\"lastName\":\"Kumar\",\"referralId\":\"AbhishekmTMIR_d\",\"createdOn\":\"2021-04-05T09:16:46.817Z\",\"education\":[{\"_id\":\"606ad5810030edda327b7cf4\",\"year\":2004,\"degree\":\"MBBS\",\"university\":\"King Edward Memorial Hospital and Seth Gordhandas Sunderdas Medical College\"},{\"_id\":\"606ad5810030edda327b7cf5\",\"year\":null,\"degree\":\"MS\",\"university\":\"ENT Rajiv Gandhi University of Health Sciences\"}],\"PatientsWaiting\":[],\"__v\":0,\"meta\":\"606ad57f0030edda327b7cf2\",\"bio\":\"Dr. Abhishek Kumar is a ENT/ Otorhinolaryngologist in Upper Bazar, Ranchi and has an experience of 16 years in this field. Dr. Abhishek Kumar practices at Dr. Abhishek Kumar's Clinic in Upper Bazar, Ranchi and Maa Durga Medico in Ratu, Ranchi. He completed MBBS from King Edward Memorial Hospital and Seth Gordhandas Sunderdas Medical College in 2004,MS - ENT from Rajiv Gandhi University of Health Sciences, Bangalore, India in 2013 and fellowship in lateral skull base & cochlear implantation from Gruppo Otologico, Italy in 2014. He is a member of All India Otorhino Laryngology (AOICON),Skull Base Surgery Soceity of India (SBSSI),Indian Association of Surgeons for Sleep Anea,Association of Phono Surgeons of India (APSI),The Foundation for Head and Neck Oncology and All India Rhinology Society. Some of the services provided by the doctor are: Head and Neck Tumor / Cancer Surgery,Functional Endoscopic Sinus Surgery - FESS,Cochlear Implants,Facial Cosmetic Surgery and Ear Micro Surgery etc. \",\"fee\":200,\"gender\":\"male\"}}\n"
     ]
    },
    {
     "name": "stderr",
     "output_type": "stream",
     "text": [
      "\r\n",
      " 17%|█████████████▋                                                                   | 29/171 [03:45<16:43,  7.07s/it]"
     ]
    },
    {
     "name": "stdout",
     "output_type": "stream",
     "text": [
      "{'status': True, 'message': 'Image uploaded successfully'}\n",
      "606ad5890030edda327b7d10 shaily.poddar@gmail.com\n",
      "{\"status\":true,\"message\":\"Profile successfully updated\",\"data\":{\"basic\":{\"organization_name\":\"not found\",\"organizational_subpart\":\"not found\",\"enumeration_date\":\"not found\",\"last_updated\":\"not found\",\"status\":\"not found\",\"telephone_number\":\"not found\",\"title_or_position\":\"not found\",\"name_prefix\":\"not found\",\"name_suffix\":\"not found\",\"sole_proprietor\":\"not found\",\"gender\":\"not found\",\"name\":\"Shaily Poddar\"},\"document\":{\"idProof\":false,\"registrationProof\":false,\"establishment\":false},\"address\":[],\"taxonomies\":[],\"practiceLocation\":[],\"diseases\":[],\"description\":\"NA\",\"steps\":[0,0,0,0],\"is_in_network\":true,\"is_superDoc\":false,\"location_ids\":[],\"isActive\":true,\"isApproved\":false,\"availability\":[],\"appointments\":[],\"picture\":[],\"profileStatus\":true,\"question\":[],\"appointmentsString\":\"{\\\"duration\\\":\\\"15\\\",\\\"id\\\":\\\"\\\",\\\"weekdaysArr\\\":[{\\\"days\\\":[\\\"wednesday\\\",\\\"thursday\\\",\\\"friday\\\"],\\\"startTime\\\":\\\"02:30\\\",\\\"endTime\\\":\\\"11:30\\\",\\\"lunchStart\\\":\\\"06:30\\\",\\\"lunchEnd\\\":\\\"07:30\\\"},{\\\"days\\\":[\\\"monday\\\",\\\"tuesday\\\"],\\\"startTime\\\":\\\"03:30\\\",\\\"endTime\\\":\\\"12:30\\\",\\\"lunchStart\\\":\\\"06:30\\\",\\\"lunchEnd\\\":\\\"07:30\\\"}]}\",\"onBoarding\":false,\"referrals\":[],\"latestAppointment\":[],\"payment\":true,\"isAssistant\":false,\"rights\":[],\"assistants\":[],\"charity\":false,\"clinic\":[],\"block\":false,\"deviceToken\":[],\"online\":false,\"socket\":[],\"conversations\":[],\"WaitingRoomSocket\":[],\"verify\":true,\"_id\":\"606ad5890030edda327b7d10\",\"npi\":\"31133-A\",\"email\":\"shaily.poddar@gmail.com\",\"password\":\"985c201c0983d138a856ffb0c8d53890\",\"specialty\":\"Dentist\",\"customerProfile\":\"cus_JFJAAgbavGbIWQ\",\"city\":\"Jharkhand\",\"state\":\"Ranchi\",\"country\":\"India\",\"firstName\":\"Shaily\",\"lastName\":\"Poddar\",\"referralId\":\"ShailyzjoKM_d\",\"createdOn\":\"2021-04-05T09:16:57.649Z\",\"education\":[{\"_id\":\"606ad58b0030edda327b7d13\",\"year\":2011,\"degree\":\"BDS\",\"university\":\"DAPM R.V. Dental College\"}],\"PatientsWaiting\":[],\"__v\":0,\"meta\":\"606ad5890030edda327b7d11\",\"bio\":\"Dr. Shaily Poddar is a dentist in Ranchi and has an experience of 5 years in this field. Dr. Shaily Poddar practices at Perfect 32 Multi Speciality Dental Clinic in Harmu Housing Colony, Ranchi. She has completed BDS from D.A.P.M.R.V. Dental College, Bangalore in 2011 and Post Graduate Certificate in Oral Implantology in 2016. She is a member of Indian Dental Association. \",\"fee\":200,\"gender\":\"female\"}}\n"
     ]
    },
    {
     "name": "stderr",
     "output_type": "stream",
     "text": [
      "\r\n",
      " 18%|██████████████▏                                                                  | 30/171 [03:57<18:49,  8.01s/it]"
     ]
    },
    {
     "name": "stdout",
     "output_type": "stream",
     "text": [
      "{'status': True, 'message': 'Image uploaded successfully'}\n",
      "Not present Ravishankar\n"
     ]
    },
    {
     "name": "stderr",
     "output_type": "stream",
     "text": [
      "\r\n",
      " 19%|███████████████▏                                                                 | 32/171 [04:00<12:51,  5.55s/it]"
     ]
    },
    {
     "name": "stdout",
     "output_type": "stream",
     "text": [
      "This email is already taken\n"
     ]
    },
    {
     "name": "stderr",
     "output_type": "stream",
     "text": [
      "\r\n",
      " 19%|███████████████▋                                                                 | 33/171 [04:02<10:52,  4.73s/it]"
     ]
    },
    {
     "name": "stdout",
     "output_type": "stream",
     "text": [
      "This email is already taken\n",
      "Not present Avinash\n",
      "606ad5980030edda327b7d2e anuj.sharma@gmail.com\n",
      "{\"status\":true,\"message\":\"Profile successfully updated\",\"data\":{\"basic\":{\"organization_name\":\"not found\",\"organizational_subpart\":\"not found\",\"enumeration_date\":\"not found\",\"last_updated\":\"not found\",\"status\":\"not found\",\"telephone_number\":\"not found\",\"title_or_position\":\"not found\",\"name_prefix\":\"not found\",\"name_suffix\":\"not found\",\"sole_proprietor\":\"not found\",\"gender\":\"not found\",\"name\":\"Anuj Sharma\"},\"document\":{\"idProof\":false,\"registrationProof\":false,\"establishment\":false},\"address\":[],\"taxonomies\":[],\"practiceLocation\":[],\"diseases\":[],\"description\":\"NA\",\"steps\":[0,0,0,0],\"is_in_network\":true,\"is_superDoc\":false,\"location_ids\":[],\"isActive\":true,\"isApproved\":false,\"availability\":[],\"appointments\":[],\"picture\":[],\"profileStatus\":true,\"question\":[],\"appointmentsString\":\"{\\\"duration\\\":\\\"15\\\",\\\"id\\\":\\\"\\\",\\\"weekdaysArr\\\":[{\\\"days\\\":[\\\"wednesday\\\",\\\"thursday\\\",\\\"friday\\\"],\\\"startTime\\\":\\\"02:30\\\",\\\"endTime\\\":\\\"11:30\\\",\\\"lunchStart\\\":\\\"06:30\\\",\\\"lunchEnd\\\":\\\"07:30\\\"},{\\\"days\\\":[\\\"monday\\\",\\\"tuesday\\\"],\\\"startTime\\\":\\\"03:30\\\",\\\"endTime\\\":\\\"12:30\\\",\\\"lunchStart\\\":\\\"06:30\\\",\\\"lunchEnd\\\":\\\"07:30\\\"}]}\",\"onBoarding\":false,\"referrals\":[],\"latestAppointment\":[],\"payment\":true,\"isAssistant\":false,\"rights\":[],\"assistants\":[],\"charity\":false,\"clinic\":[],\"block\":false,\"deviceToken\":[],\"online\":false,\"socket\":[],\"conversations\":[],\"WaitingRoomSocket\":[],\"verify\":true,\"_id\":\"606ad5980030edda327b7d2e\",\"npi\":\"A-73\",\"email\":\"anuj.sharma@gmail.com\",\"password\":\"985c201c0983d138a856ffb0c8d53890\",\"specialty\":\"Periodontist\",\"customerProfile\":\"cus_JFJA4ex1WxeQaJ\",\"city\":\"Jharkhand\",\"state\":\"Ranchi\",\"country\":\"India\",\"firstName\":\"Anuj\",\"lastName\":\"Sharma\",\"referralId\":\"AnujL1JZE_d\",\"createdOn\":\"2021-04-05T09:17:12.933Z\",\"education\":[{\"_id\":\"606ad59a0030edda327b7d31\",\"year\":null,\"degree\":\"BDS\",\"university\":\"Manipal College of Dental Sciences\"},{\"_id\":\"606ad59a0030edda327b7d32\",\"year\":null,\"degree\":\"MDS\",\"university\":\"Periodontics Government Dental College\"}],\"PatientsWaiting\":[],\"__v\":0,\"meta\":\"606ad5990030edda327b7d2f\",\"bio\":\"Dr. Anuj Sharma has done BDS, MDS (Periodontal Surgeon & Implanto\",\"fee\":200,\"gender\":\"male\"}}\n"
     ]
    },
    {
     "name": "stderr",
     "output_type": "stream",
     "text": [
      "\r\n",
      " 20%|████████████████▌                                                                | 35/171 [04:10<10:10,  4.49s/it]"
     ]
    },
    {
     "name": "stdout",
     "output_type": "stream",
     "text": [
      "{'status': True, 'message': 'Image uploaded successfully'}\n",
      "606ad5a00030edda327b7d4d amlan.shome@gmail.com\n",
      "{\"status\":true,\"message\":\"Profile successfully updated\",\"data\":{\"basic\":{\"organization_name\":\"not found\",\"organizational_subpart\":\"not found\",\"enumeration_date\":\"not found\",\"last_updated\":\"not found\",\"status\":\"not found\",\"telephone_number\":\"not found\",\"title_or_position\":\"not found\",\"name_prefix\":\"not found\",\"name_suffix\":\"not found\",\"sole_proprietor\":\"not found\",\"gender\":\"not found\",\"name\":\"Amlan Shome\"},\"document\":{\"idProof\":false,\"registrationProof\":false,\"establishment\":false},\"address\":[],\"taxonomies\":[],\"practiceLocation\":[],\"diseases\":[],\"description\":\"NA\",\"steps\":[0,0,0,0],\"is_in_network\":true,\"is_superDoc\":false,\"location_ids\":[],\"isActive\":true,\"isApproved\":false,\"availability\":[],\"appointments\":[],\"picture\":[],\"profileStatus\":true,\"question\":[],\"appointmentsString\":\"{\\\"duration\\\":\\\"15\\\",\\\"id\\\":\\\"\\\",\\\"weekdaysArr\\\":[{\\\"days\\\":[\\\"wednesday\\\",\\\"thursday\\\",\\\"friday\\\"],\\\"startTime\\\":\\\"02:30\\\",\\\"endTime\\\":\\\"11:30\\\",\\\"lunchStart\\\":\\\"06:30\\\",\\\"lunchEnd\\\":\\\"07:30\\\"},{\\\"days\\\":[\\\"monday\\\",\\\"tuesday\\\"],\\\"startTime\\\":\\\"03:30\\\",\\\"endTime\\\":\\\"12:30\\\",\\\"lunchStart\\\":\\\"06:30\\\",\\\"lunchEnd\\\":\\\"07:30\\\"}]}\",\"onBoarding\":false,\"referrals\":[],\"latestAppointment\":[],\"payment\":true,\"isAssistant\":false,\"rights\":[],\"assistants\":[],\"charity\":false,\"clinic\":[],\"block\":false,\"deviceToken\":[],\"online\":false,\"socket\":[],\"conversations\":[],\"WaitingRoomSocket\":[],\"verify\":true,\"_id\":\"606ad5a00030edda327b7d4d\",\"npi\":\"56506\",\"email\":\"amlan.shome@gmail.com\",\"password\":\"985c201c0983d138a856ffb0c8d53890\",\"specialty\":\"Dermatologist\",\"customerProfile\":\"cus_JFJAEXslZBSQ1o\",\"city\":\"Jharkhand\",\"state\":\"Ranchi\",\"country\":\"India\",\"firstName\":\"Amlan\",\"lastName\":\"Shome\",\"referralId\":\"AmlanFcypc_d\",\"createdOn\":\"2021-04-05T09:17:20.069Z\",\"education\":[{\"_id\":\"606ad5a10030edda327b7d50\",\"year\":2000,\"degree\":\"MBBS\",\"university\":\"NRS Medical College and Hospital\"},{\"_id\":\"606ad5a10030edda327b7d51\",\"year\":null,\"degree\":\"MD\",\"university\":\"Dermatology Government Dental College  Hospital\"}],\"PatientsWaiting\":[],\"__v\":0,\"meta\":\"606ad5a00030edda327b7d4e\",\"bio\":\"Dr. Amlan Shome is a Dermatologist in Lalpur, Ranchi and has an experience of 19 years in this field. Dr. Amlan Shome practices at Dermacare in Lalpur, Ranchi. He completed MBBS from NRS Medical College and Hospital in 2000 and MD - Dermatology from Government Dental College Hospital, RIMS Kadapa in 2005. He is a member of Indian Association of Dermatology Venereology and Leprosy. Some of the services provided by the doctor are: Chemical Peel,Vitiligo Surgery,Laser Hair Reduction,Phototherapy and Laser Tattoo Removal etc. \",\"fee\":300,\"gender\":\"male\"}}\n"
     ]
    },
    {
     "name": "stderr",
     "output_type": "stream",
     "text": [
      "\r\n",
      " 21%|█████████████████                                                                | 36/171 [04:18<11:40,  5.19s/it]"
     ]
    },
    {
     "name": "stdout",
     "output_type": "stream",
     "text": [
      "{'status': True, 'message': 'Image uploaded successfully'}\n"
     ]
    },
    {
     "name": "stderr",
     "output_type": "stream",
     "text": [
      "\r\n",
      " 22%|█████████████████▌                                                               | 37/171 [04:18<09:10,  4.11s/it]"
     ]
    },
    {
     "name": "stdout",
     "output_type": "stream",
     "text": [
      "This email is already taken\n",
      "Not present Dharmesh\n",
      "606ad5a80030edda327b7d6c akash.prasad@gmail.com\n",
      "{\"status\":true,\"message\":\"Profile successfully updated\",\"data\":{\"basic\":{\"organization_name\":\"not found\",\"organizational_subpart\":\"not found\",\"enumeration_date\":\"not found\",\"last_updated\":\"not found\",\"status\":\"not found\",\"telephone_number\":\"not found\",\"title_or_position\":\"not found\",\"name_prefix\":\"not found\",\"name_suffix\":\"not found\",\"sole_proprietor\":\"not found\",\"gender\":\"not found\",\"name\":\"Akash Prasad\"},\"document\":{\"idProof\":false,\"registrationProof\":false,\"establishment\":false},\"address\":[],\"taxonomies\":[],\"practiceLocation\":[],\"diseases\":[],\"description\":\"NA\",\"steps\":[0,0,0,0],\"is_in_network\":true,\"is_superDoc\":false,\"location_ids\":[],\"isActive\":true,\"isApproved\":false,\"availability\":[],\"appointments\":[],\"picture\":[],\"profileStatus\":true,\"question\":[],\"appointmentsString\":\"{\\\"duration\\\":\\\"15\\\",\\\"id\\\":\\\"\\\",\\\"weekdaysArr\\\":[{\\\"days\\\":[\\\"wednesday\\\",\\\"thursday\\\",\\\"friday\\\"],\\\"startTime\\\":\\\"02:30\\\",\\\"endTime\\\":\\\"11:30\\\",\\\"lunchStart\\\":\\\"06:30\\\",\\\"lunchEnd\\\":\\\"07:30\\\"},{\\\"days\\\":[\\\"monday\\\",\\\"tuesday\\\"],\\\"startTime\\\":\\\"03:30\\\",\\\"endTime\\\":\\\"12:30\\\",\\\"lunchStart\\\":\\\"06:30\\\",\\\"lunchEnd\\\":\\\"07:30\\\"}]}\",\"onBoarding\":false,\"referrals\":[],\"latestAppointment\":[],\"payment\":true,\"isAssistant\":false,\"rights\":[],\"assistants\":[],\"charity\":false,\"clinic\":[],\"block\":false,\"deviceToken\":[],\"online\":false,\"socket\":[],\"conversations\":[],\"WaitingRoomSocket\":[],\"verify\":true,\"_id\":\"606ad5a80030edda327b7d6c\",\"npi\":\"28593-A\",\"email\":\"akash.prasad@gmail.com\",\"password\":\"985c201c0983d138a856ffb0c8d53890\",\"specialty\":\"Dentist\",\"customerProfile\":\"cus_JFJBLiWLwUeF4v\",\"city\":\"Jharkhand\",\"state\":\"Ranchi\",\"country\":\"India\",\"firstName\":\"Akash\",\"lastName\":\"Prasad\",\"referralId\":\"AkashhCQUI_d\",\"createdOn\":\"2021-04-05T09:17:28.384Z\",\"education\":[{\"_id\":\"606ad5a90030edda327b7d6f\",\"year\":2010,\"degree\":\"BDS\",\"university\":\"JSS Dental College  Hospital\"}],\"PatientsWaiting\":[],\"__v\":0,\"meta\":\"606ad5a80030edda327b7d6d\",\"bio\":\"Dr. Akash Prasad is a Dentist in Ashok Nagar, Ranchi and has an experience of 10 years in this field. Dr. Akash Prasad practices at Smiles Central in Ashok Nagar, Ranchi. He completed BDS from JSS Dental College Hospital in 2010,Fellow of Academy of General Education (FAGE) from Manipal Academy Of Higher Education, Manipal, India in 2011 and FRSPH from RSPH (London) in 2011. He is a member of Indian Dental Association,American Academy of Cosmetic Dentistry and Academy of Oral Implantology (AOI). Some of the services provided by the doctor are: Invisible/Clear Braces,Acrylic Partial Denture,Artificial Teeth,Dental Fillings and Dental Implant Fixing etc. \",\"fee\":500,\"gender\":\"male\"}}\n"
     ]
    },
    {
     "name": "stderr",
     "output_type": "stream",
     "text": [
      "\r\n",
      " 23%|██████████████████▍                                                              | 39/171 [04:25<08:30,  3.87s/it]"
     ]
    },
    {
     "name": "stdout",
     "output_type": "stream",
     "text": [
      "{'status': True, 'message': 'Image uploaded successfully'}\n"
     ]
    },
    {
     "name": "stderr",
     "output_type": "stream",
     "text": [
      "\r\n",
      " 23%|██████████████████▉                                                              | 40/171 [04:26<06:54,  3.16s/it]"
     ]
    },
    {
     "name": "stdout",
     "output_type": "stream",
     "text": [
      "This email is already taken\n",
      "606ad5b00030edda327b7d8a ved.prakash.verma@gmail.com\n",
      "{\"status\":true,\"message\":\"Profile successfully updated\",\"data\":{\"basic\":{\"organization_name\":\"not found\",\"organizational_subpart\":\"not found\",\"enumeration_date\":\"not found\",\"last_updated\":\"not found\",\"status\":\"not found\",\"telephone_number\":\"not found\",\"title_or_position\":\"not found\",\"name_prefix\":\"not found\",\"name_suffix\":\"not found\",\"sole_proprietor\":\"not found\",\"gender\":\"not found\",\"name\":\"Ved Prakash Verma\"},\"document\":{\"idProof\":false,\"registrationProof\":false,\"establishment\":false},\"address\":[],\"taxonomies\":[],\"practiceLocation\":[],\"diseases\":[],\"description\":\"NA\",\"steps\":[0,0,0,0],\"is_in_network\":true,\"is_superDoc\":false,\"location_ids\":[],\"isActive\":true,\"isApproved\":false,\"availability\":[],\"appointments\":[],\"picture\":[],\"profileStatus\":true,\"question\":[],\"appointmentsString\":\"{\\\"duration\\\":\\\"15\\\",\\\"id\\\":\\\"\\\",\\\"weekdaysArr\\\":[{\\\"days\\\":[\\\"wednesday\\\",\\\"thursday\\\",\\\"friday\\\"],\\\"startTime\\\":\\\"02:30\\\",\\\"endTime\\\":\\\"11:30\\\",\\\"lunchStart\\\":\\\"06:30\\\",\\\"lunchEnd\\\":\\\"07:30\\\"},{\\\"days\\\":[\\\"monday\\\",\\\"tuesday\\\"],\\\"startTime\\\":\\\"03:30\\\",\\\"endTime\\\":\\\"12:30\\\",\\\"lunchStart\\\":\\\"06:30\\\",\\\"lunchEnd\\\":\\\"07:30\\\"}]}\",\"onBoarding\":false,\"referrals\":[],\"latestAppointment\":[],\"payment\":true,\"isAssistant\":false,\"rights\":[],\"assistants\":[],\"charity\":false,\"clinic\":[],\"block\":false,\"deviceToken\":[],\"online\":false,\"socket\":[],\"conversations\":[],\"WaitingRoomSocket\":[],\"verify\":true,\"_id\":\"606ad5b00030edda327b7d8a\",\"npi\":\"4845\",\"email\":\"ved.prakash.verma@gmail.com\",\"password\":\"985c201c0983d138a856ffb0c8d53890\",\"specialty\":\"Urologist\",\"customerProfile\":\"cus_JFJBWOYY96Rstb\",\"city\":\"Jharkhand\",\"state\":\"Ranchi\",\"country\":\"India\",\"firstName\":\"Ved\",\"lastName\":\"Prakash Verma\",\"referralId\":\"VedKm66w_d\",\"createdOn\":\"2021-04-05T09:17:36.597Z\",\"education\":[{\"_id\":\"606ad5b30030edda327b7d8d\",\"year\":null,\"degree\":\"MBBS\",\"university\":\"G B Pant Hospital / Moulana Azad Medical College\"},{\"_id\":\"606ad5b30030edda327b7d8e\",\"year\":null,\"degree\":\"MCh\",\"university\":\"Urology King Georges Medical College\"},{\"_id\":\"606ad5b30030edda327b7d8f\",\"year\":2009,\"degree\":\"MS\",\"university\":\"General Surgery University of Delhi\"}],\"PatientsWaiting\":[],\"__v\":0,\"meta\":\"606ad5b00030edda327b7d8b\",\"bio\":\"Dr. Ved Prakash Verma is a talented and rising urologist, who graduated from one of the most prestigious medical college in India (Maulana Azad Medical College and associated LNJP & GB Pant Hospital, New Delhi) & got a master degree in Surgery (MS) from University College of Medical Sciences & GTB Hospital, Delhi. Then super-specialized (MCh Urology) from King George Medical University, Lucknow. After spending years in Delhi (LNJP Hospital, GB Pant Hospital, GTB Hospital, AAAG Hospital) and Lucknow (KGMU), Shifted to Ranchi and Currently working as Consultant Urologist in Sahu Nursing home- Urology & Stone Clinic, Kutchery Chowk, Ranchi and Santevita Hospital, Near Firayalal Chowk, Ranchi. \",\"fee\":500,\"gender\":\"male\"}}\n"
     ]
    },
    {
     "name": "stderr",
     "output_type": "stream",
     "text": [
      "\r\n",
      " 24%|███████████████████▍                                                             | 41/171 [04:37<10:41,  4.93s/it]"
     ]
    },
    {
     "name": "stdout",
     "output_type": "stream",
     "text": [
      "{'status': True, 'message': 'Image uploaded successfully'}\n",
      "606ad5bb0030edda327b7daa achala.raman@gmail.com\n",
      "{\"status\":true,\"message\":\"Profile successfully updated\",\"data\":{\"basic\":{\"organization_name\":\"not found\",\"organizational_subpart\":\"not found\",\"enumeration_date\":\"not found\",\"last_updated\":\"not found\",\"status\":\"not found\",\"telephone_number\":\"not found\",\"title_or_position\":\"not found\",\"name_prefix\":\"not found\",\"name_suffix\":\"not found\",\"sole_proprietor\":\"not found\",\"gender\":\"not found\",\"name\":\"Achala Raman\"},\"document\":{\"idProof\":false,\"registrationProof\":false,\"establishment\":false},\"address\":[],\"taxonomies\":[],\"practiceLocation\":[],\"diseases\":[],\"description\":\"NA\",\"steps\":[0,0,0,0],\"is_in_network\":true,\"is_superDoc\":false,\"location_ids\":[],\"isActive\":true,\"isApproved\":false,\"availability\":[],\"appointments\":[],\"picture\":[],\"profileStatus\":true,\"question\":[],\"appointmentsString\":\"{\\\"duration\\\":\\\"15\\\",\\\"id\\\":\\\"\\\",\\\"weekdaysArr\\\":[{\\\"days\\\":[\\\"wednesday\\\",\\\"thursday\\\",\\\"friday\\\"],\\\"startTime\\\":\\\"02:30\\\",\\\"endTime\\\":\\\"11:30\\\",\\\"lunchStart\\\":\\\"06:30\\\",\\\"lunchEnd\\\":\\\"07:30\\\"},{\\\"days\\\":[\\\"monday\\\",\\\"tuesday\\\"],\\\"startTime\\\":\\\"03:30\\\",\\\"endTime\\\":\\\"12:30\\\",\\\"lunchStart\\\":\\\"06:30\\\",\\\"lunchEnd\\\":\\\"07:30\\\"}]}\",\"onBoarding\":false,\"referrals\":[],\"latestAppointment\":[],\"payment\":true,\"isAssistant\":false,\"rights\":[],\"assistants\":[],\"charity\":false,\"clinic\":[],\"block\":false,\"deviceToken\":[],\"online\":false,\"socket\":[],\"conversations\":[],\"WaitingRoomSocket\":[],\"verify\":true,\"_id\":\"606ad5bb0030edda327b7daa\",\"npi\":\"A-74\",\"email\":\"achala.raman@gmail.com\",\"password\":\"985c201c0983d138a856ffb0c8d53890\",\"specialty\":\"Orthodontist\",\"customerProfile\":\"cus_JFJBMvtjN5Ny3c\",\"city\":\"Jharkhand\",\"state\":\"Ranchi\",\"country\":\"India\",\"firstName\":\"Achala\",\"lastName\":\"Raman\",\"referralId\":\"Achala3ECye_d\",\"createdOn\":\"2021-04-05T09:17:47.274Z\",\"education\":[{\"_id\":\"606ad5be0030edda327b7dad\",\"year\":null,\"degree\":\"BDS\",\"university\":\"Manipal College of Dental Sciences\"},{\"_id\":\"606ad5be0030edda327b7dae\",\"year\":null,\"degree\":\"MDS\",\"university\":\"Orthodontics Government Dental College\"}],\"PatientsWaiting\":[],\"__v\":0,\"meta\":\"606ad5bb0030edda327b7dab\",\"bio\":\"Dr. Achala Raman is specialized in Braces treatment and beautified many\",\"fee\":200,\"gender\":\"male\"}}\n"
     ]
    },
    {
     "name": "stderr",
     "output_type": "stream",
     "text": [
      "\r\n",
      " 25%|███████████████████▉                                                             | 42/171 [04:48<14:24,  6.70s/it]"
     ]
    },
    {
     "name": "stdout",
     "output_type": "stream",
     "text": [
      "{'status': True, 'message': 'Image uploaded successfully'}\n",
      "606ad5c70030edda327b7dc9 p.n.pandey@gmail.com\n",
      "{\"status\":true,\"message\":\"Profile successfully updated\",\"data\":{\"basic\":{\"organization_name\":\"not found\",\"organizational_subpart\":\"not found\",\"enumeration_date\":\"not found\",\"last_updated\":\"not found\",\"status\":\"not found\",\"telephone_number\":\"not found\",\"title_or_position\":\"not found\",\"name_prefix\":\"not found\",\"name_suffix\":\"not found\",\"sole_proprietor\":\"not found\",\"gender\":\"not found\",\"name\":\"P N Pandey\"},\"document\":{\"idProof\":false,\"registrationProof\":false,\"establishment\":false},\"address\":[],\"taxonomies\":[],\"practiceLocation\":[],\"diseases\":[],\"description\":\"NA\",\"steps\":[0,0,0,0],\"is_in_network\":true,\"is_superDoc\":false,\"location_ids\":[],\"isActive\":true,\"isApproved\":false,\"availability\":[],\"appointments\":[],\"picture\":[],\"profileStatus\":true,\"question\":[],\"appointmentsString\":\"{\\\"duration\\\":\\\"15\\\",\\\"id\\\":\\\"\\\",\\\"weekdaysArr\\\":[{\\\"days\\\":[\\\"wednesday\\\",\\\"thursday\\\",\\\"friday\\\"],\\\"startTime\\\":\\\"02:30\\\",\\\"endTime\\\":\\\"11:30\\\",\\\"lunchStart\\\":\\\"06:30\\\",\\\"lunchEnd\\\":\\\"07:30\\\"},{\\\"days\\\":[\\\"monday\\\",\\\"tuesday\\\"],\\\"startTime\\\":\\\"03:30\\\",\\\"endTime\\\":\\\"12:30\\\",\\\"lunchStart\\\":\\\"06:30\\\",\\\"lunchEnd\\\":\\\"07:30\\\"}]}\",\"onBoarding\":false,\"referrals\":[],\"latestAppointment\":[],\"payment\":true,\"isAssistant\":false,\"rights\":[],\"assistants\":[],\"charity\":false,\"clinic\":[],\"block\":false,\"deviceToken\":[],\"online\":false,\"socket\":[],\"conversations\":[],\"WaitingRoomSocket\":[],\"verify\":true,\"_id\":\"606ad5c70030edda327b7dc9\",\"npi\":\"105748\",\"email\":\"p.n.pandey@gmail.com\",\"password\":\"985c201c0983d138a856ffb0c8d53890\",\"specialty\":\"Ayurveda\",\"customerProfile\":\"cus_JFJBFKl4IdcOGc\",\"city\":\"Jharkhand\",\"state\":\"Ranchi\",\"country\":\"India\",\"firstName\":\"P\",\"lastName\":\"N Pandey\",\"referralId\":\"PIvP58_d\",\"createdOn\":\"2021-04-05T09:17:59.971Z\",\"education\":[{\"_id\":\"606ad5cb0030edda327b7de6\",\"year\":2005,\"degree\":\"BAMS\",\"university\":\"Govt. Ayurvedic College Varanasi\"}],\"PatientsWaiting\":[],\"__v\":0,\"meta\":\"606ad5c80030edda327b7dca\",\"bio\":\"Dr. P.N. Pandey is a very familiar name in this region. He has been associated with big names like Patanjali Yogpeeth Hardwar, Anguri Enterprises for over a decade now. He is an expert in: - Yoga and Pranayam. - Dietary Suggestions. - With proper expertise in treating Renal, Cardiac and Chronic Incurable diseases. - He has handled several successful cases of Diabetes, Joint Pain, Sexual Problems, Cancers, etc in his career spanning over a decade. \",\"fee\":200,\"gender\":\"male\"}}\n"
     ]
    },
    {
     "name": "stderr",
     "output_type": "stream",
     "text": [
      "\r\n",
      " 25%|████████████████████▎                                                            | 43/171 [05:02<18:01,  8.45s/it]"
     ]
    },
    {
     "name": "stdout",
     "output_type": "stream",
     "text": [
      "{'status': True, 'message': 'Image uploaded successfully'}\n",
      "Not present Dhanraj\n",
      "606ad5d50030edda327b7de7 rajni.lal@gmail.com\n",
      "{\"status\":true,\"message\":\"Profile successfully updated\",\"data\":{\"basic\":{\"organization_name\":\"not found\",\"organizational_subpart\":\"not found\",\"enumeration_date\":\"not found\",\"last_updated\":\"not found\",\"status\":\"not found\",\"telephone_number\":\"not found\",\"title_or_position\":\"not found\",\"name_prefix\":\"not found\",\"name_suffix\":\"not found\",\"sole_proprietor\":\"not found\",\"gender\":\"not found\",\"name\":\"Rajni Lal\"},\"document\":{\"idProof\":false,\"registrationProof\":false,\"establishment\":false},\"address\":[],\"taxonomies\":[],\"practiceLocation\":[],\"diseases\":[],\"description\":\"NA\",\"steps\":[0,0,0,0],\"is_in_network\":true,\"is_superDoc\":false,\"location_ids\":[],\"isActive\":true,\"isApproved\":false,\"availability\":[],\"appointments\":[],\"picture\":[],\"profileStatus\":true,\"question\":[],\"appointmentsString\":\"{\\\"duration\\\":\\\"15\\\",\\\"id\\\":\\\"\\\",\\\"weekdaysArr\\\":[{\\\"days\\\":[\\\"wednesday\\\",\\\"thursday\\\",\\\"friday\\\"],\\\"startTime\\\":\\\"02:30\\\",\\\"endTime\\\":\\\"11:30\\\",\\\"lunchStart\\\":\\\"06:30\\\",\\\"lunchEnd\\\":\\\"07:30\\\"},{\\\"days\\\":[\\\"monday\\\",\\\"tuesday\\\"],\\\"startTime\\\":\\\"03:30\\\",\\\"endTime\\\":\\\"12:30\\\",\\\"lunchStart\\\":\\\"06:30\\\",\\\"lunchEnd\\\":\\\"07:30\\\"}]}\",\"onBoarding\":false,\"referrals\":[],\"latestAppointment\":[],\"payment\":true,\"isAssistant\":false,\"rights\":[],\"assistants\":[],\"charity\":false,\"clinic\":[],\"block\":false,\"deviceToken\":[],\"online\":false,\"socket\":[],\"conversations\":[],\"WaitingRoomSocket\":[],\"verify\":true,\"_id\":\"606ad5d50030edda327b7de7\",\"npi\":\"23099\",\"email\":\"rajni.lal@gmail.com\",\"password\":\"985c201c0983d138a856ffb0c8d53890\",\"specialty\":\"Gynecologist\",\"customerProfile\":\"cus_JFJBhUZyy8T8uN\",\"city\":\"Jharkhand\",\"state\":\"Ranchi\",\"country\":\"India\",\"firstName\":\"Rajni\",\"lastName\":\"Lal\",\"referralId\":\"RajnimJqQw_d\",\"createdOn\":\"2021-04-05T09:18:13.110Z\",\"education\":[{\"_id\":\"606ad5da0030edda327b7e04\",\"year\":1986,\"degree\":\"MBBS\",\"university\":\"University of Patna\"},{\"_id\":\"606ad5da0030edda327b7e05\",\"year\":2000,\"degree\":\"DGO\",\"university\":\"Ranchi University\"}],\"PatientsWaiting\":[],\"__v\":0,\"meta\":\"606ad5d50030edda327b7de8\",\"bio\":\"Dr. Rajni Lal is a Gynecologist in Ratu, Ranchi and has an experience of 31 years in this field. Dr. Rajni Lal practices at Lal Nursing Home in Ratu, Ranchi. She completed MBBS from University of Patna in 1986 and DGO from Ranchi University in 2000. She is a member of Indian Medical Association (IMA). Some of the services provided by the doctor are: Laparoscopic Surgery,Gynae Problems,Normal Vaginal Delivery (NVD),Vaccination/ Immunization and Lab Tests etc. \",\"fee\":200,\"gender\":\"female\"}}\n"
     ]
    },
    {
     "name": "stderr",
     "output_type": "stream",
     "text": [
      "\r\n",
      " 26%|█████████████████████▎                                                           | 45/171 [05:21<18:50,  8.97s/it]"
     ]
    },
    {
     "name": "stdout",
     "output_type": "stream",
     "text": [
      "{'status': True, 'message': 'Image uploaded successfully'}\n",
      "606ad5e80030edda327b7e06 bijeta.singh@gmail.com\n",
      "{\"status\":true,\"message\":\"Profile successfully updated\",\"data\":{\"basic\":{\"organization_name\":\"not found\",\"organizational_subpart\":\"not found\",\"enumeration_date\":\"not found\",\"last_updated\":\"not found\",\"status\":\"not found\",\"telephone_number\":\"not found\",\"title_or_position\":\"not found\",\"name_prefix\":\"not found\",\"name_suffix\":\"not found\",\"sole_proprietor\":\"not found\",\"gender\":\"not found\",\"name\":\"Bijeta Singh\"},\"document\":{\"idProof\":false,\"registrationProof\":false,\"establishment\":false},\"address\":[],\"taxonomies\":[],\"practiceLocation\":[],\"diseases\":[],\"description\":\"NA\",\"steps\":[0,0,0,0],\"is_in_network\":true,\"is_superDoc\":false,\"location_ids\":[],\"isActive\":true,\"isApproved\":false,\"availability\":[],\"appointments\":[\"606ad5eb0030edda327b7e09\",\"606ad5eb0030edda327b7e0a\",\"606ad5eb0030edda327b7e0b\",\"606ad5eb0030edda327b7e0c\",\"606ad5eb0030edda327b7e0d\",\"606ad5eb0030edda327b7e0e\",\"606ad5eb0030edda327b7e0f\",\"606ad5eb0030edda327b7e10\",\"606ad5eb0030edda327b7e11\",\"606ad5eb0030edda327b7e12\",\"606ad5eb0030edda327b7e13\",\"606ad5eb0030edda327b7e14\",\"606ad5eb0030edda327b7e15\",\"606ad5eb0030edda327b7e16\",\"606ad5eb0030edda327b7e17\",\"606ad5eb0030edda327b7e18\",\"606ad5eb0030edda327b7e19\",\"606ad5eb0030edda327b7e1a\",\"606ad5eb0030edda327b7e1b\",\"606ad5eb0030edda327b7e1c\",\"606ad5eb0030edda327b7e1d\",\"606ad5eb0030edda327b7e1e\",\"606ad5eb0030edda327b7e1f\",\"606ad5eb0030edda327b7e20\",\"606ad5eb0030edda327b7e21\",\"606ad5eb0030edda327b7e22\"],\"picture\":[],\"profileStatus\":true,\"question\":[],\"appointmentsString\":\"{\\\"duration\\\":\\\"15\\\",\\\"id\\\":\\\"\\\",\\\"weekdaysArr\\\":[{\\\"days\\\":[\\\"wednesday\\\",\\\"thursday\\\",\\\"friday\\\"],\\\"startTime\\\":\\\"02:30\\\",\\\"endTime\\\":\\\"11:30\\\",\\\"lunchStart\\\":\\\"06:30\\\",\\\"lunchEnd\\\":\\\"07:30\\\"},{\\\"days\\\":[\\\"monday\\\",\\\"tuesday\\\"],\\\"startTime\\\":\\\"03:30\\\",\\\"endTime\\\":\\\"12:30\\\",\\\"lunchStart\\\":\\\"06:30\\\",\\\"lunchEnd\\\":\\\"07:30\\\"}]}\",\"onBoarding\":false,\"referrals\":[],\"latestAppointment\":[\"606ad5eb0030edda327b7e09\",\"606ad5eb0030edda327b7e0a\",\"606ad5eb0030edda327b7e0b\"],\"payment\":true,\"isAssistant\":false,\"rights\":[],\"assistants\":[],\"charity\":false,\"clinic\":[],\"block\":false,\"deviceToken\":[],\"online\":false,\"socket\":[],\"conversations\":[],\"WaitingRoomSocket\":[],\"verify\":true,\"_id\":\"606ad5e80030edda327b7e06\",\"npi\":\"70347\",\"email\":\"bijeta.singh@gmail.com\",\"password\":\"985c201c0983d138a856ffb0c8d53890\",\"specialty\":\"Obstetrician\",\"customerProfile\":\"cus_JFJCkN7N1nW6jn\",\"city\":\"Jharkhand\",\"state\":\"Ranchi\",\"country\":\"India\",\"firstName\":\"Bijeta\",\"lastName\":\"Singh\",\"referralId\":\"Bijeta8qbGw_d\",\"createdOn\":\"2021-04-05T09:18:32.302Z\",\"education\":[{\"_id\":\"606ad5f20030edda327b7e23\",\"year\":null,\"degree\":\"MS\",\"university\":\"Obstetrics & Gynaecology Patna Medical College\"},{\"_id\":\"606ad5f20030edda327b7e24\",\"year\":2010,\"degree\":\"MBBS\",\"university\":\"Ranchi University\"}],\"PatientsWaiting\":[],\"__v\":0,\"meta\":\"606ad5e80030edda327b7e07\",\"bio\":\"Dr. Bijeta Singh says \\\"I am an Obstetrician and Gynaecologist, practising in Ranchi. Previously I was working in RIMS. I counsel and promote pregnant women to opt for normal delivery if there are no high risk factors. I have special interest in female infertility & laparoscopic surgeries.\\\" \",\"fee\":300,\"gender\":\"male\"}}\n"
     ]
    },
    {
     "name": "stderr",
     "output_type": "stream",
     "text": [
      "\r\n",
      " 27%|█████████████████████▊                                                           | 46/171 [05:39<23:15, 11.17s/it]"
     ]
    },
    {
     "name": "stdout",
     "output_type": "stream",
     "text": [
      "{'status': True, 'message': 'Image uploaded successfully'}\n",
      "606ad5fa0030edda327b7e25 shailendra.kumar.singh@gmail.com\n",
      "{\"status\":true,\"message\":\"Profile successfully updated\",\"data\":{\"basic\":{\"organization_name\":\"not found\",\"organizational_subpart\":\"not found\",\"enumeration_date\":\"not found\",\"last_updated\":\"not found\",\"status\":\"not found\",\"telephone_number\":\"not found\",\"title_or_position\":\"not found\",\"name_prefix\":\"not found\",\"name_suffix\":\"not found\",\"sole_proprietor\":\"not found\",\"gender\":\"not found\",\"name\":\"Shailendra Kumar Singh\"},\"document\":{\"idProof\":false,\"registrationProof\":false,\"establishment\":false},\"address\":[],\"taxonomies\":[],\"practiceLocation\":[],\"diseases\":[],\"description\":\"NA\",\"steps\":[0,0,0,0],\"is_in_network\":true,\"is_superDoc\":false,\"location_ids\":[],\"isActive\":true,\"isApproved\":false,\"availability\":[],\"appointments\":[\"606ad5fe0030edda327b7e28\",\"606ad5fe0030edda327b7e29\",\"606ad5fe0030edda327b7e2a\",\"606ad5fe0030edda327b7e2b\",\"606ad5fe0030edda327b7e2c\",\"606ad5fe0030edda327b7e2d\",\"606ad5fe0030edda327b7e2e\",\"606ad5fe0030edda327b7e2f\",\"606ad5fe0030edda327b7e30\",\"606ad5fe0030edda327b7e31\",\"606ad5fe0030edda327b7e32\",\"606ad5fe0030edda327b7e33\",\"606ad5fe0030edda327b7e34\",\"606ad5fe0030edda327b7e35\",\"606ad5fe0030edda327b7e36\",\"606ad5fe0030edda327b7e37\",\"606ad5fe0030edda327b7e38\",\"606ad5fe0030edda327b7e39\",\"606ad5fe0030edda327b7e3a\",\"606ad5fe0030edda327b7e3b\",\"606ad5fe0030edda327b7e3c\",\"606ad5fe0030edda327b7e3d\",\"606ad5fe0030edda327b7e3e\",\"606ad5fe0030edda327b7e3f\",\"606ad5fe0030edda327b7e40\",\"606ad5fe0030edda327b7e41\"],\"picture\":[],\"profileStatus\":true,\"question\":[],\"appointmentsString\":\"{\\\"duration\\\":\\\"15\\\",\\\"id\\\":\\\"\\\",\\\"weekdaysArr\\\":[{\\\"days\\\":[\\\"wednesday\\\",\\\"thursday\\\",\\\"friday\\\"],\\\"startTime\\\":\\\"02:30\\\",\\\"endTime\\\":\\\"11:30\\\",\\\"lunchStart\\\":\\\"06:30\\\",\\\"lunchEnd\\\":\\\"07:30\\\"},{\\\"days\\\":[\\\"monday\\\",\\\"tuesday\\\"],\\\"startTime\\\":\\\"03:30\\\",\\\"endTime\\\":\\\"12:30\\\",\\\"lunchStart\\\":\\\"06:30\\\",\\\"lunchEnd\\\":\\\"07:30\\\"}]}\",\"onBoarding\":false,\"referrals\":[],\"latestAppointment\":[\"606ad5fe0030edda327b7e28\",\"606ad5fe0030edda327b7e29\",\"606ad5fe0030edda327b7e2a\"],\"payment\":true,\"isAssistant\":false,\"rights\":[],\"assistants\":[],\"charity\":false,\"clinic\":[],\"block\":false,\"deviceToken\":[],\"online\":false,\"socket\":[],\"conversations\":[],\"WaitingRoomSocket\":[],\"verify\":true,\"_id\":\"606ad5fa0030edda327b7e25\",\"npi\":\"14576\",\"email\":\"shailendra.kumar.singh@gmail.com\",\"password\":\"985c201c0983d138a856ffb0c8d53890\",\"specialty\":\"Ophthalmologist/ Eye Surgeon\",\"customerProfile\":\"cus_JFJCeXxHYVkMZK\",\"city\":\"Jharkhand\",\"state\":\"Ranchi\",\"country\":\"India\",\"firstName\":\"Shailendra\",\"lastName\":\"Kumar Singh\",\"referralId\":\"ShailendraQVC3y_d\",\"createdOn\":\"2021-04-05T09:18:50.999Z\",\"education\":[{\"_id\":\"606ad6010030edda327b7e42\",\"year\":null,\"degree\":\"MBBS\",\"university\":\"Patna Medical College\"},{\"_id\":\"606ad6010030edda327b7e43\",\"year\":null,\"degree\":\"MS\",\"university\":\"Ophthalmology Rajendra Institute of Medical Sciences\"}],\"PatientsWaiting\":[],\"__v\":0,\"meta\":\"606ad5fb0030edda327b7e26\",\"bio\":\"Dr. Shailendra Kumar Singh is a Ophthalmologist/ Eye Surgeon in Ahirtoli, Ranchi and has an experience of 38 years in this field. Dr. Shailendra Kumar Singh practices at Nayan Sukh Optical in Ahirtoli, Ranchi. He completed MBBS from Patna Medical College, Patna in 1977,MS - Ophthalmology from Rajendra Institute of Medical Sciences, Ranchi in 1983 and PhD - Ophthalmology from Rajendra Institute of Medical Sciences, Ranchi in 1999. He is a member of Indian Medical Association (IMA),All India Ophthalmological Society and Jharkhand Ophthalmological Society. Some of the services provided by the doctor are: Corneal Transplantation,Cataract Surgery,Glaucoma Evaluation / Treatment,Eye Muscle Surgery and Glaucoma Valve Implantation etc. \",\"fee\":300,\"gender\":\"male\"}}\n"
     ]
    },
    {
     "name": "stderr",
     "output_type": "stream",
     "text": [
      "\r\n",
      " 27%|██████████████████████▎                                                          | 47/171 [05:57<26:19, 12.74s/it]"
     ]
    },
    {
     "name": "stdout",
     "output_type": "stream",
     "text": [
      "{'status': True, 'message': 'Image uploaded successfully'}\n",
      "606ad60b0030edda327b7e44 r..n..singh@gmail.com\n",
      "{\"status\":true,\"message\":\"Profile successfully updated\",\"data\":{\"basic\":{\"organization_name\":\"not found\",\"organizational_subpart\":\"not found\",\"enumeration_date\":\"not found\",\"last_updated\":\"not found\",\"status\":\"not found\",\"telephone_number\":\"not found\",\"title_or_position\":\"not found\",\"name_prefix\":\"not found\",\"name_suffix\":\"not found\",\"sole_proprietor\":\"not found\",\"gender\":\"not found\",\"name\":\"R. N. Singh\"},\"document\":{\"idProof\":false,\"registrationProof\":false,\"establishment\":false},\"address\":[],\"taxonomies\":[],\"practiceLocation\":[],\"diseases\":[],\"description\":\"NA\",\"steps\":[0,0,0,0],\"is_in_network\":true,\"is_superDoc\":false,\"location_ids\":[],\"isActive\":true,\"isApproved\":false,\"availability\":[],\"appointments\":[\"606ad60e0030edda327b7e47\",\"606ad60e0030edda327b7e48\",\"606ad60e0030edda327b7e49\",\"606ad60e0030edda327b7e4a\",\"606ad60e0030edda327b7e4b\",\"606ad60e0030edda327b7e4c\",\"606ad60e0030edda327b7e4d\",\"606ad60e0030edda327b7e4e\",\"606ad60e0030edda327b7e4f\",\"606ad60e0030edda327b7e50\",\"606ad60e0030edda327b7e51\",\"606ad60e0030edda327b7e52\",\"606ad60e0030edda327b7e53\",\"606ad60e0030edda327b7e54\",\"606ad60e0030edda327b7e55\",\"606ad60e0030edda327b7e56\",\"606ad60e0030edda327b7e57\",\"606ad60e0030edda327b7e58\",\"606ad60e0030edda327b7e59\",\"606ad60e0030edda327b7e5a\",\"606ad60e0030edda327b7e5b\",\"606ad60e0030edda327b7e5c\",\"606ad60e0030edda327b7e5d\",\"606ad60e0030edda327b7e5e\",\"606ad60e0030edda327b7e5f\",\"606ad60e0030edda327b7e60\"],\"picture\":[],\"profileStatus\":true,\"question\":[],\"appointmentsString\":\"{\\\"duration\\\":\\\"15\\\",\\\"id\\\":\\\"\\\",\\\"weekdaysArr\\\":[{\\\"days\\\":[\\\"wednesday\\\",\\\"thursday\\\",\\\"friday\\\"],\\\"startTime\\\":\\\"02:30\\\",\\\"endTime\\\":\\\"11:30\\\",\\\"lunchStart\\\":\\\"06:30\\\",\\\"lunchEnd\\\":\\\"07:30\\\"},{\\\"days\\\":[\\\"monday\\\",\\\"tuesday\\\"],\\\"startTime\\\":\\\"03:30\\\",\\\"endTime\\\":\\\"12:30\\\",\\\"lunchStart\\\":\\\"06:30\\\",\\\"lunchEnd\\\":\\\"07:30\\\"}]}\",\"onBoarding\":false,\"referrals\":[],\"latestAppointment\":[\"606ad60e0030edda327b7e47\",\"606ad60e0030edda327b7e48\",\"606ad60e0030edda327b7e49\"],\"payment\":true,\"isAssistant\":false,\"rights\":[],\"assistants\":[],\"charity\":false,\"clinic\":[],\"block\":false,\"deviceToken\":[],\"online\":false,\"socket\":[],\"conversations\":[],\"WaitingRoomSocket\":[],\"verify\":true,\"_id\":\"606ad60b0030edda327b7e44\",\"npi\":\"10125\",\"email\":\"r..n..singh@gmail.com\",\"password\":\"985c201c0983d138a856ffb0c8d53890\",\"specialty\":\"General Surgeon\",\"customerProfile\":\"cus_JFJC2T8TUJrAxz\",\"city\":\"Jharkhand\",\"state\":\"Ranchi\",\"country\":\"India\",\"firstName\":\"R.\",\"lastName\":\"N. Singh\",\"referralId\":\"R.L0DE3_d\",\"createdOn\":\"2021-04-05T09:19:07.354Z\",\"education\":[{\"_id\":\"606ad6130030edda327b7e61\",\"year\":null,\"degree\":\"MBBS\",\"university\":\"Government Dental College  Hospital\"},{\"_id\":\"606ad6130030edda327b7e62\",\"year\":1974,\"degree\":\"MS\",\"university\":\"General Surgery University of Patna\"},{\"_id\":\"606ad6130030edda327b7e63\",\"year\":null,\"degree\":\"FICS\",\"university\":\"RPSLH\"}],\"PatientsWaiting\":[],\"__v\":0,\"meta\":\"606ad60b0030edda327b7e45\",\"bio\":\"Dr. R. N. Singh is a General Surgeon in Argora, Ranchi and has an experience of 47 years in this field. Dr. R. N. Singh practices at Balajee Nursing Home in Argora, Ranchi and Balaji Clinic in Doranda, Ranchi. He completed MBBS from Government Dental College Hospital, RIMS Kadapa in 1969,MS - General Surgery from University of Patna in 1974 and FICS from RPSLH, Chicago in 1986. He is a member of Medical Council of India (MCI),Indian Medical Association (IMA),Surgeons of Colorectal Surgeons Of India and Association of Minimal Access Surgeons of India (AMASI). Some of the services provided by the doctor are: Laparoscopic Surgery,Colorectal Surgery,Cardio Thoracic Surgery and Endoscopy etc. \",\"fee\":400,\"gender\":\"male\"}}\n"
     ]
    },
    {
     "name": "stderr",
     "output_type": "stream",
     "text": [
      "\r\n",
      " 28%|██████████████████████▋                                                          | 48/171 [06:13<28:03, 13.69s/it]"
     ]
    },
    {
     "name": "stdout",
     "output_type": "stream",
     "text": [
      "{'status': True, 'message': 'Image uploaded successfully'}\n",
      "606ad61c0030edda327b7e64 dk.mishra@gmail.com\n",
      "{\"status\":true,\"message\":\"Profile successfully updated\",\"data\":{\"basic\":{\"organization_name\":\"not found\",\"organizational_subpart\":\"not found\",\"enumeration_date\":\"not found\",\"last_updated\":\"not found\",\"status\":\"not found\",\"telephone_number\":\"not found\",\"title_or_position\":\"not found\",\"name_prefix\":\"not found\",\"name_suffix\":\"not found\",\"sole_proprietor\":\"not found\",\"gender\":\"not found\",\"name\":\"DK Mishra\"},\"document\":{\"idProof\":false,\"registrationProof\":false,\"establishment\":false},\"address\":[],\"taxonomies\":[],\"practiceLocation\":[],\"diseases\":[],\"description\":\"NA\",\"steps\":[0,0,0,0],\"is_in_network\":true,\"is_superDoc\":false,\"location_ids\":[],\"isActive\":true,\"isApproved\":false,\"availability\":[],\"appointments\":[],\"picture\":[],\"profileStatus\":true,\"question\":[],\"appointmentsString\":\"{\\\"duration\\\":\\\"15\\\",\\\"id\\\":\\\"\\\",\\\"weekdaysArr\\\":[{\\\"days\\\":[\\\"wednesday\\\",\\\"thursday\\\",\\\"friday\\\"],\\\"startTime\\\":\\\"02:30\\\",\\\"endTime\\\":\\\"11:30\\\",\\\"lunchStart\\\":\\\"06:30\\\",\\\"lunchEnd\\\":\\\"07:30\\\"},{\\\"days\\\":[\\\"monday\\\",\\\"tuesday\\\"],\\\"startTime\\\":\\\"03:30\\\",\\\"endTime\\\":\\\"12:30\\\",\\\"lunchStart\\\":\\\"06:30\\\",\\\"lunchEnd\\\":\\\"07:30\\\"}]}\",\"onBoarding\":false,\"referrals\":[],\"latestAppointment\":[],\"payment\":true,\"isAssistant\":false,\"rights\":[],\"assistants\":[],\"charity\":false,\"clinic\":[],\"block\":false,\"deviceToken\":[],\"online\":false,\"socket\":[],\"conversations\":[],\"WaitingRoomSocket\":[],\"verify\":true,\"_id\":\"606ad61c0030edda327b7e64\",\"npi\":\"19824\",\"email\":\"dk.mishra@gmail.com\",\"password\":\"985c201c0983d138a856ffb0c8d53890\",\"specialty\":\"Dermatologist\",\"customerProfile\":\"cus_JFJDjWIgFnZxx7\",\"city\":\"Jharkhand\",\"state\":\"Ranchi\",\"country\":\"India\",\"firstName\":\"DK\",\"lastName\":\"Mishra\",\"referralId\":\"DKzMdVX_d\",\"createdOn\":\"2021-04-05T09:19:24.757Z\",\"education\":[{\"_id\":\"606ad6200030edda327b7e81\",\"year\":1981,\"degree\":\"MBBS\",\"university\":\"Ranchi University\"},{\"_id\":\"606ad6200030edda327b7e82\",\"year\":1983,\"degree\":\"MD\",\"university\":\"Dermatology Ranchi University\"}],\"PatientsWaiting\":[],\"__v\":0,\"meta\":\"606ad61c0030edda327b7e65\",\"bio\":\"Senior Most Doctor of Dermatology Dept of RIMS Ranchi Jharkhand. Having 30 yearss of exp\",\"fee\":400,\"gender\":\"male\"}}\n"
     ]
    },
    {
     "name": "stderr",
     "output_type": "stream",
     "text": [
      "\r\n",
      " 29%|███████████████████████▏                                                         | 49/171 [06:24<26:33, 13.06s/it]"
     ]
    },
    {
     "name": "stdout",
     "output_type": "stream",
     "text": [
      "{'status': True, 'message': 'Image uploaded successfully'}\n",
      "606ad6260030edda327b7e83 avinash.kumar.dubey@gmail.com\n",
      "{\"status\":true,\"message\":\"Profile successfully updated\",\"data\":{\"basic\":{\"organization_name\":\"not found\",\"organizational_subpart\":\"not found\",\"enumeration_date\":\"not found\",\"last_updated\":\"not found\",\"status\":\"not found\",\"telephone_number\":\"not found\",\"title_or_position\":\"not found\",\"name_prefix\":\"not found\",\"name_suffix\":\"not found\",\"sole_proprietor\":\"not found\",\"gender\":\"not found\",\"name\":\"Avinash Kumar Dubey\"},\"document\":{\"idProof\":false,\"registrationProof\":false,\"establishment\":false},\"address\":[],\"taxonomies\":[],\"practiceLocation\":[],\"diseases\":[],\"description\":\"NA\",\"steps\":[0,0,0,0],\"is_in_network\":true,\"is_superDoc\":false,\"location_ids\":[],\"isActive\":true,\"isApproved\":false,\"availability\":[],\"appointments\":[],\"picture\":[],\"profileStatus\":true,\"question\":[],\"appointmentsString\":\"{\\\"duration\\\":\\\"15\\\",\\\"id\\\":\\\"\\\",\\\"weekdaysArr\\\":[{\\\"days\\\":[\\\"wednesday\\\",\\\"thursday\\\",\\\"friday\\\"],\\\"startTime\\\":\\\"02:30\\\",\\\"endTime\\\":\\\"11:30\\\",\\\"lunchStart\\\":\\\"06:30\\\",\\\"lunchEnd\\\":\\\"07:30\\\"},{\\\"days\\\":[\\\"monday\\\",\\\"tuesday\\\"],\\\"startTime\\\":\\\"03:30\\\",\\\"endTime\\\":\\\"12:30\\\",\\\"lunchStart\\\":\\\"06:30\\\",\\\"lunchEnd\\\":\\\"07:30\\\"}]}\",\"onBoarding\":false,\"referrals\":[],\"latestAppointment\":[],\"payment\":true,\"isAssistant\":false,\"rights\":[],\"assistants\":[],\"charity\":false,\"clinic\":[],\"block\":false,\"deviceToken\":[],\"online\":false,\"socket\":[],\"conversations\":[],\"WaitingRoomSocket\":[],\"verify\":true,\"_id\":\"606ad6260030edda327b7e83\",\"npi\":\"5587\",\"email\":\"avinash.kumar.dubey@gmail.com\",\"password\":\"985c201c0983d138a856ffb0c8d53890\",\"specialty\":\"Nephrologist/Renal Specialist\",\"customerProfile\":\"cus_JFJD6qz8n1Ah52\",\"city\":\"Jharkhand\",\"state\":\"Ranchi\",\"country\":\"India\",\"firstName\":\"Avinash\",\"lastName\":\"Kumar Dubey\",\"referralId\":\"AvinashQgGAg_d\",\"createdOn\":\"2021-04-05T09:19:34.411Z\",\"education\":[{\"_id\":\"606ad6280030edda327b7e86\",\"year\":null,\"degree\":\"DM\",\"university\":\"Nephrology JIPMER\"},{\"_id\":\"606ad6280030edda327b7e87\",\"year\":null,\"degree\":\"MBBS\",\"university\":\"Devi Ahilya Vishwa Vidhyalaya\"},{\"_id\":\"606ad6280030edda327b7e88\",\"year\":null,\"degree\":\"MD\",\"university\":\"Medicine Barkatulla University\"}],\"PatientsWaiting\":[],\"__v\":0,\"meta\":\"606ad6260030edda327b7e84\",\"bio\":\"Has many national and international publications and has presented many papers across India Special areas of interest: Kidney transplantation; Chronic Kidney Disease & Preventive Nephrology; Clinical Epidemiology Currently working as consultant Nephrology in Dept of nephro-care division, Raj hospitals Ranchi -- involved in management of patients with various kidney disease. \",\"fee\":500,\"gender\":\"male\"}}\n"
     ]
    },
    {
     "name": "stderr",
     "output_type": "stream",
     "text": [
      "\r\n",
      " 29%|███████████████████████▋                                                         | 50/171 [06:34<24:43, 12.26s/it]"
     ]
    },
    {
     "name": "stdout",
     "output_type": "stream",
     "text": [
      "{'status': True, 'message': 'Image uploaded successfully'}\n",
      "606ad6310030edda327b7ea3 disha.narnoly@gmail.com\n",
      "{\"status\":true,\"message\":\"Profile successfully updated\",\"data\":{\"basic\":{\"organization_name\":\"not found\",\"organizational_subpart\":\"not found\",\"enumeration_date\":\"not found\",\"last_updated\":\"not found\",\"status\":\"not found\",\"telephone_number\":\"not found\",\"title_or_position\":\"not found\",\"name_prefix\":\"not found\",\"name_suffix\":\"not found\",\"sole_proprietor\":\"not found\",\"gender\":\"not found\",\"name\":\"Disha Narnoly\"},\"document\":{\"idProof\":false,\"registrationProof\":false,\"establishment\":false},\"address\":[],\"taxonomies\":[],\"practiceLocation\":[],\"diseases\":[],\"description\":\"NA\",\"steps\":[0,0,0,0],\"is_in_network\":true,\"is_superDoc\":false,\"location_ids\":[],\"isActive\":true,\"isApproved\":false,\"availability\":[],\"appointments\":[],\"picture\":[],\"profileStatus\":true,\"question\":[],\"appointmentsString\":\"{\\\"duration\\\":\\\"15\\\",\\\"id\\\":\\\"\\\",\\\"weekdaysArr\\\":[{\\\"days\\\":[\\\"wednesday\\\",\\\"thursday\\\",\\\"friday\\\"],\\\"startTime\\\":\\\"02:30\\\",\\\"endTime\\\":\\\"11:30\\\",\\\"lunchStart\\\":\\\"06:30\\\",\\\"lunchEnd\\\":\\\"07:30\\\"},{\\\"days\\\":[\\\"monday\\\",\\\"tuesday\\\"],\\\"startTime\\\":\\\"03:30\\\",\\\"endTime\\\":\\\"12:30\\\",\\\"lunchStart\\\":\\\"06:30\\\",\\\"lunchEnd\\\":\\\"07:30\\\"}]}\",\"onBoarding\":false,\"referrals\":[],\"latestAppointment\":[],\"payment\":true,\"isAssistant\":false,\"rights\":[],\"assistants\":[],\"charity\":false,\"clinic\":[],\"block\":false,\"deviceToken\":[],\"online\":false,\"socket\":[],\"conversations\":[],\"WaitingRoomSocket\":[],\"verify\":true,\"_id\":\"606ad6310030edda327b7ea3\",\"npi\":\"34869-A\",\"email\":\"disha.narnoly@gmail.com\",\"password\":\"985c201c0983d138a856ffb0c8d53890\",\"specialty\":\"Pediatric Dentist\",\"customerProfile\":\"cus_JFJDmOpaqpUNFg\",\"city\":\"Jharkhand\",\"state\":\"Ranchi\",\"country\":\"India\",\"firstName\":\"Disha\",\"lastName\":\"Narnoly\",\"referralId\":\"DishaFGxFK_d\",\"createdOn\":\"2021-04-05T09:19:45.735Z\",\"education\":[{\"_id\":\"606ad6350030edda327b7ec0\",\"year\":null,\"degree\":\"BDS\",\"university\":\"The Oxford dental College\"},{\"_id\":\"606ad6350030edda327b7ec1\",\"year\":null,\"degree\":\"MDS\",\"university\":\"Pedodontics The Oxford dental College\"}],\"PatientsWaiting\":[],\"__v\":0,\"meta\":\"606ad6310030edda327b7ea4\",\"bio\":\"Dr. Disha Narnoly is masters in Pediatric Dentistry which are dentistry for kids. Excels in various forms of pediatric dental treatments ranging from dental sealants to conscious sedation, believes in a patient-friendly and ethical treatment for all the individuals. \",\"fee\":200,\"gender\":\"female\"}}\n"
     ]
    },
    {
     "name": "stderr",
     "output_type": "stream",
     "text": [
      "\r\n",
      " 30%|████████████████████████▏                                                        | 51/171 [06:48<25:13, 12.61s/it]"
     ]
    },
    {
     "name": "stdout",
     "output_type": "stream",
     "text": [
      "{'status': True, 'message': 'Image uploaded successfully'}\n",
      "Not present Subhanshu\n",
      "606ad63e0030edda327b7ec2 rajanikant.mishra@gmail.com\n",
      "{\"status\":true,\"message\":\"Profile successfully updated\",\"data\":{\"basic\":{\"organization_name\":\"not found\",\"organizational_subpart\":\"not found\",\"enumeration_date\":\"not found\",\"last_updated\":\"not found\",\"status\":\"not found\",\"telephone_number\":\"not found\",\"title_or_position\":\"not found\",\"name_prefix\":\"not found\",\"name_suffix\":\"not found\",\"sole_proprietor\":\"not found\",\"gender\":\"not found\",\"name\":\"Rajanikant Mishra\"},\"document\":{\"idProof\":false,\"registrationProof\":false,\"establishment\":false},\"address\":[],\"taxonomies\":[],\"practiceLocation\":[],\"diseases\":[],\"description\":\"NA\",\"steps\":[0,0,0,0],\"is_in_network\":true,\"is_superDoc\":false,\"location_ids\":[],\"isActive\":true,\"isApproved\":false,\"availability\":[],\"appointments\":[],\"picture\":[],\"profileStatus\":true,\"question\":[],\"appointmentsString\":\"{\\\"duration\\\":\\\"15\\\",\\\"id\\\":\\\"\\\",\\\"weekdaysArr\\\":[{\\\"days\\\":[\\\"wednesday\\\",\\\"thursday\\\",\\\"friday\\\"],\\\"startTime\\\":\\\"02:30\\\",\\\"endTime\\\":\\\"11:30\\\",\\\"lunchStart\\\":\\\"06:30\\\",\\\"lunchEnd\\\":\\\"07:30\\\"},{\\\"days\\\":[\\\"monday\\\",\\\"tuesday\\\"],\\\"startTime\\\":\\\"03:30\\\",\\\"endTime\\\":\\\"12:30\\\",\\\"lunchStart\\\":\\\"06:30\\\",\\\"lunchEnd\\\":\\\"07:30\\\"}]}\",\"onBoarding\":false,\"referrals\":[],\"latestAppointment\":[],\"payment\":true,\"isAssistant\":false,\"rights\":[],\"assistants\":[],\"charity\":false,\"clinic\":[],\"block\":false,\"deviceToken\":[],\"online\":false,\"socket\":[],\"conversations\":[],\"WaitingRoomSocket\":[],\"verify\":true,\"_id\":\"606ad63e0030edda327b7ec2\",\"npi\":\"2186\",\"email\":\"rajanikant.mishra@gmail.com\",\"password\":\"985c201c0983d138a856ffb0c8d53890\",\"specialty\":\"Ayurveda\",\"customerProfile\":\"cus_JFJDhvdmuVYjwz\",\"city\":\"Jharkhand\",\"state\":\"Ranchi\",\"country\":\"India\",\"firstName\":\"Rajanikant\",\"lastName\":\"Mishra\",\"referralId\":\"RajanikantQOCLX_d\",\"createdOn\":\"2021-04-05T09:19:58.758Z\",\"education\":[{\"_id\":\"606ad6430030edda327b7edf\",\"year\":null,\"degree\":\"BAMS\",\"university\":\"Ayurveda College\"}],\"PatientsWaiting\":[],\"__v\":0,\"meta\":\"606ad63e0030edda327b7ec3\",\"bio\":\"Dr. Rajanikant Mishra is a Ayurveda in Lalpur, Ranchi and has an experience of 43 years in this field. Dr. Rajanikant Mishra practices at Patanjali Chikitshalaya in Lalpur, Ranchi. He completed BAMS from Ayurveda College, Gaya in 1978. He is a member of Ayurvadic and Yunani Chikitsha Council, Bihar. Some of the services provided by the doctor are: Lungs problem,Hair Loss Treatment,Abdominal Problem,Kidney problem and Joint Pain Treatment etc. \",\"fee\":400,\"gender\":\"male\"}}\n"
     ]
    },
    {
     "name": "stderr",
     "output_type": "stream",
     "text": [
      "\r\n",
      " 31%|█████████████████████████                                                        | 53/171 [07:07<22:16, 11.32s/it]"
     ]
    },
    {
     "name": "stdout",
     "output_type": "stream",
     "text": [
      "{'status': True, 'message': 'Image uploaded successfully'}\n",
      "606ad6530030edda327b7ee0 s.k.raman@gmail.com\n",
      "{\"status\":true,\"message\":\"Profile successfully updated\",\"data\":{\"basic\":{\"organization_name\":\"not found\",\"organizational_subpart\":\"not found\",\"enumeration_date\":\"not found\",\"last_updated\":\"not found\",\"status\":\"not found\",\"telephone_number\":\"not found\",\"title_or_position\":\"not found\",\"name_prefix\":\"not found\",\"name_suffix\":\"not found\",\"sole_proprietor\":\"not found\",\"gender\":\"not found\",\"name\":\"S.K.Raman \"},\"document\":{\"idProof\":false,\"registrationProof\":false,\"establishment\":false},\"address\":[],\"taxonomies\":[],\"practiceLocation\":[],\"diseases\":[],\"description\":\"NA\",\"steps\":[0,0,0,0],\"is_in_network\":true,\"is_superDoc\":false,\"location_ids\":[],\"isActive\":true,\"isApproved\":false,\"availability\":[],\"appointments\":[],\"picture\":[],\"profileStatus\":true,\"question\":[],\"appointmentsString\":\"{\\\"duration\\\":\\\"15\\\",\\\"id\\\":\\\"\\\",\\\"weekdaysArr\\\":[{\\\"days\\\":[\\\"wednesday\\\",\\\"thursday\\\",\\\"friday\\\"],\\\"startTime\\\":\\\"02:30\\\",\\\"endTime\\\":\\\"11:30\\\",\\\"lunchStart\\\":\\\"06:30\\\",\\\"lunchEnd\\\":\\\"07:30\\\"},{\\\"days\\\":[\\\"monday\\\",\\\"tuesday\\\"],\\\"startTime\\\":\\\"03:30\\\",\\\"endTime\\\":\\\"12:30\\\",\\\"lunchStart\\\":\\\"06:30\\\",\\\"lunchEnd\\\":\\\"07:30\\\"}]}\",\"onBoarding\":false,\"referrals\":[],\"latestAppointment\":[],\"payment\":true,\"isAssistant\":false,\"rights\":[],\"assistants\":[],\"charity\":false,\"clinic\":[],\"block\":false,\"deviceToken\":[],\"online\":false,\"socket\":[],\"conversations\":[],\"WaitingRoomSocket\":[],\"verify\":true,\"_id\":\"606ad6530030edda327b7ee0\",\"npi\":\"4101\",\"email\":\"s.k.raman@gmail.com\",\"password\":\"985c201c0983d138a856ffb0c8d53890\",\"specialty\":\"Ophthalmologist/ Eye Surgeon\",\"customerProfile\":\"cus_JFJDwjj3zK9xI2\",\"city\":\"Jharkhand\",\"state\":\"Ranchi\",\"country\":\"India\",\"firstName\":\"S.K.Raman\",\"lastName\":\"\",\"referralId\":\"S.K.RamanQdTWt_d\",\"createdOn\":\"2021-04-05T09:20:19.429Z\",\"education\":[{\"_id\":\"606ad6580030edda327b7efd\",\"year\":null,\"degree\":\"MBBS\",\"university\":\"Darbhanga Medical College And Hospital\"},{\"_id\":\"606ad6580030edda327b7efe\",\"year\":null,\"degree\":\"MS\",\"university\":\"Ophthalmology Rajendra Institute of Medical Sciences\"}],\"PatientsWaiting\":[],\"__v\":0,\"meta\":\"606ad6530030edda327b7ee1\",\"bio\":\"Dr. S.K.Raman is a Ophthalmologist/ Eye Surgeon in Lalpur, Ranchi and has an experience of 17 years in this field. Dr. S.K.Raman practices at Advance Eye Care Centre in Lalpur, Ranchi. He completed MBBS from Darbhanga Medical College And Hospital, Bihar in 1999 and MS - Ophthalmology from Rajendra Institute of Medical Sciences, Ranchi in 2007. He is a member of Jharkhand State Medical Council. Some of the services provided by the doctor are: ROP Screening of New born and treatments,Diabetic Eye Checkup,UVEA Clinic,Cataract Surgery-PHACO and Eye Trauma etc. \",\"fee\":300,\"gender\":\"male\"}}\n"
     ]
    },
    {
     "name": "stderr",
     "output_type": "stream",
     "text": [
      "\r\n",
      " 32%|█████████████████████████▌                                                       | 54/171 [07:21<23:21, 11.98s/it]"
     ]
    },
    {
     "name": "stdout",
     "output_type": "stream",
     "text": [
      "{'status': True, 'message': 'Image uploaded successfully'}\n",
      "606ad6600030edda327b7eff v..k..jagnany@gmail.com\n",
      "{\"status\":true,\"message\":\"Profile successfully updated\",\"data\":{\"basic\":{\"organization_name\":\"not found\",\"organizational_subpart\":\"not found\",\"enumeration_date\":\"not found\",\"last_updated\":\"not found\",\"status\":\"not found\",\"telephone_number\":\"not found\",\"title_or_position\":\"not found\",\"name_prefix\":\"not found\",\"name_suffix\":\"not found\",\"sole_proprietor\":\"not found\",\"gender\":\"not found\",\"name\":\"V. K. Jagnany\"},\"document\":{\"idProof\":false,\"registrationProof\":false,\"establishment\":false},\"address\":[],\"taxonomies\":[],\"practiceLocation\":[],\"diseases\":[],\"description\":\"NA\",\"steps\":[0,0,0,0],\"is_in_network\":true,\"is_superDoc\":false,\"location_ids\":[],\"isActive\":true,\"isApproved\":false,\"availability\":[],\"appointments\":[],\"picture\":[],\"profileStatus\":true,\"question\":[],\"appointmentsString\":\"{\\\"duration\\\":\\\"15\\\",\\\"id\\\":\\\"\\\",\\\"weekdaysArr\\\":[{\\\"days\\\":[\\\"wednesday\\\",\\\"thursday\\\",\\\"friday\\\"],\\\"startTime\\\":\\\"02:30\\\",\\\"endTime\\\":\\\"11:30\\\",\\\"lunchStart\\\":\\\"06:30\\\",\\\"lunchEnd\\\":\\\"07:30\\\"},{\\\"days\\\":[\\\"monday\\\",\\\"tuesday\\\"],\\\"startTime\\\":\\\"03:30\\\",\\\"endTime\\\":\\\"12:30\\\",\\\"lunchStart\\\":\\\"06:30\\\",\\\"lunchEnd\\\":\\\"07:30\\\"}]}\",\"onBoarding\":false,\"referrals\":[],\"latestAppointment\":[],\"payment\":true,\"isAssistant\":false,\"rights\":[],\"assistants\":[],\"charity\":false,\"clinic\":[],\"block\":false,\"deviceToken\":[],\"online\":false,\"socket\":[],\"conversations\":[],\"WaitingRoomSocket\":[],\"verify\":true,\"_id\":\"606ad6600030edda327b7eff\",\"npi\":\"2002052242\",\"email\":\"v..k..jagnany@gmail.com\",\"password\":\"985c201c0983d138a856ffb0c8d53890\",\"specialty\":\"Cardiologist\",\"customerProfile\":\"cus_JFJEIKKYCTOv2R\",\"city\":\"Jharkhand\",\"state\":\"Ranchi\",\"country\":\"India\",\"firstName\":\"V.\",\"lastName\":\"K. Jagnany\",\"referralId\":\"V.fIW9h_d\",\"createdOn\":\"2021-04-05T09:20:32.788Z\",\"education\":[{\"_id\":\"606ad6650030edda327b7f1c\",\"year\":null,\"degree\":\"MBBS\",\"university\":\"University of Mumbai\"},{\"_id\":\"606ad6650030edda327b7f1d\",\"year\":2008,\"degree\":\"Diploma in Cardiology\",\"university\":\"Apollo Hospitals\"}],\"PatientsWaiting\":[],\"__v\":0,\"meta\":\"606ad6600030edda327b7f00\",\"bio\":\"Dr. V. K. Jagnany is a Cardiologist in Harmu Housing Colony, Ranchi and has an experience of 20 years in this field. Dr. V. K. Jagnany practices at Dr. Anand Kr. Jagnany's Clinic in Harmu Housing Colony, Ranchi. He completed MBBS from University of Mumbai, Mumbai in 2000,Diploma in Cardiology from Apollo Hospitals in 2008 and certified diebetalogy from UK in 2011. He is a member of Indian Medical Association (IMA),Research Society for the Study of Diabetes in India (RSSDI),Indian Academy of Echocardiography,Indian Association of Sexology,all india general practitioners association and Indian Association of Preventive Medicine. Some of the services provided by the doctor are: Cardiac Ablation,Diabetes in Children,Chest Pain Treatment,Lab Tests and D&C (Dilation and Curettage) etc. \",\"fee\":350,\"gender\":\"male\"}}\n"
     ]
    },
    {
     "name": "stderr",
     "output_type": "stream",
     "text": [
      "\r\n",
      " 32%|██████████████████████████                                                       | 55/171 [07:35<23:54, 12.37s/it]"
     ]
    },
    {
     "name": "stdout",
     "output_type": "stream",
     "text": [
      "{'status': True, 'message': 'Image uploaded successfully'}\n",
      "606ad66e0030edda327b7f1e prabhat.kumar@gmail.com\n",
      "{\"status\":true,\"message\":\"Profile successfully updated\",\"data\":{\"basic\":{\"organization_name\":\"not found\",\"organizational_subpart\":\"not found\",\"enumeration_date\":\"not found\",\"last_updated\":\"not found\",\"status\":\"not found\",\"telephone_number\":\"not found\",\"title_or_position\":\"not found\",\"name_prefix\":\"not found\",\"name_suffix\":\"not found\",\"sole_proprietor\":\"not found\",\"gender\":\"not found\",\"name\":\"Prabhat Kumar\"},\"document\":{\"idProof\":false,\"registrationProof\":false,\"establishment\":false},\"address\":[],\"taxonomies\":[],\"practiceLocation\":[],\"diseases\":[],\"description\":\"NA\",\"steps\":[0,0,0,0],\"is_in_network\":true,\"is_superDoc\":false,\"location_ids\":[],\"isActive\":true,\"isApproved\":false,\"availability\":[],\"appointments\":[\"606ad6720030edda327b7f21\",\"606ad6720030edda327b7f22\",\"606ad6720030edda327b7f23\",\"606ad6720030edda327b7f24\",\"606ad6720030edda327b7f25\",\"606ad6720030edda327b7f26\",\"606ad6720030edda327b7f27\",\"606ad6720030edda327b7f28\",\"606ad6720030edda327b7f29\",\"606ad6720030edda327b7f2a\",\"606ad6720030edda327b7f2b\",\"606ad6720030edda327b7f2c\",\"606ad6720030edda327b7f2d\",\"606ad6720030edda327b7f2e\",\"606ad6720030edda327b7f2f\",\"606ad6720030edda327b7f30\",\"606ad6720030edda327b7f31\",\"606ad6720030edda327b7f32\",\"606ad6720030edda327b7f33\",\"606ad6720030edda327b7f34\",\"606ad6720030edda327b7f35\",\"606ad6720030edda327b7f36\",\"606ad6720030edda327b7f37\",\"606ad6720030edda327b7f38\",\"606ad6720030edda327b7f39\",\"606ad6720030edda327b7f3a\"],\"picture\":[],\"profileStatus\":true,\"question\":[],\"appointmentsString\":\"{\\\"duration\\\":\\\"15\\\",\\\"id\\\":\\\"\\\",\\\"weekdaysArr\\\":[{\\\"days\\\":[\\\"wednesday\\\",\\\"thursday\\\",\\\"friday\\\"],\\\"startTime\\\":\\\"02:30\\\",\\\"endTime\\\":\\\"11:30\\\",\\\"lunchStart\\\":\\\"06:30\\\",\\\"lunchEnd\\\":\\\"07:30\\\"},{\\\"days\\\":[\\\"monday\\\",\\\"tuesday\\\"],\\\"startTime\\\":\\\"03:30\\\",\\\"endTime\\\":\\\"12:30\\\",\\\"lunchStart\\\":\\\"06:30\\\",\\\"lunchEnd\\\":\\\"07:30\\\"}]}\",\"onBoarding\":false,\"referrals\":[],\"latestAppointment\":[\"606ad6720030edda327b7f21\",\"606ad6720030edda327b7f22\",\"606ad6720030edda327b7f23\"],\"payment\":true,\"isAssistant\":false,\"rights\":[],\"assistants\":[],\"charity\":false,\"clinic\":[],\"block\":false,\"deviceToken\":[],\"online\":false,\"socket\":[],\"conversations\":[],\"WaitingRoomSocket\":[],\"verify\":true,\"_id\":\"606ad66e0030edda327b7f1e\",\"npi\":\"28993\",\"email\":\"prabhat.kumar@gmail.com\",\"password\":\"985c201c0983d138a856ffb0c8d53890\",\"specialty\":\"Homoeopath\",\"customerProfile\":\"cus_JFJEXDtEx9XVH2\",\"city\":\"Jharkhand\",\"state\":\"Ranchi\",\"country\":\"India\",\"firstName\":\"Prabhat\",\"lastName\":\"Kumar\",\"referralId\":\"Prabhatye5De_d\",\"createdOn\":\"2021-04-05T09:20:46.942Z\",\"education\":[{\"_id\":\"606ad6760030edda327b7f3b\",\"year\":2001,\"degree\":\"DHMS (Diploma in Homeopathic Medicine and Surgery)\",\"university\":\"Purulia Homeopathic Medical College and Hospital\"}],\"PatientsWaiting\":[],\"__v\":0,\"meta\":\"606ad66f0030edda327b7f1f\",\"bio\":\"Dr. Prabhat Kumar is a Homeopath in Lalpur, Ranchi and has an experience of 15 years in this field. Dr. Prabhat Kumar practices at Suraj Homeo Hall in Lalpur, Ranchi. He completed DHMS (Diploma in Homeopathic Medicine and Surgery) from Purulia Homeopathic Medical College Hospital in 2001. He is a member of Central Council of Homeopathy. \",\"fee\":100,\"gender\":\"male\"}}\n"
     ]
    },
    {
     "name": "stderr",
     "output_type": "stream",
     "text": [
      "\r\n",
      " 33%|██████████████████████████▌                                                      | 56/171 [07:52<25:55, 13.53s/it]"
     ]
    },
    {
     "name": "stdout",
     "output_type": "stream",
     "text": [
      "{'status': True, 'message': 'Image uploaded successfully'}\n",
      "Not present Ashish\n",
      "Not present Md\n",
      "Not present Ajay\n",
      "606ad67f0030edda327b7f3c sheran.ali@gmail.com\n",
      "{\"status\":true,\"message\":\"Profile successfully updated\",\"data\":{\"basic\":{\"organization_name\":\"not found\",\"organizational_subpart\":\"not found\",\"enumeration_date\":\"not found\",\"last_updated\":\"not found\",\"status\":\"not found\",\"telephone_number\":\"not found\",\"title_or_position\":\"not found\",\"name_prefix\":\"not found\",\"name_suffix\":\"not found\",\"sole_proprietor\":\"not found\",\"gender\":\"not found\",\"name\":\"Sheran Ali\"},\"document\":{\"idProof\":false,\"registrationProof\":false,\"establishment\":false},\"address\":[],\"taxonomies\":[],\"practiceLocation\":[],\"diseases\":[],\"description\":\"NA\",\"steps\":[0,0,0,0],\"is_in_network\":true,\"is_superDoc\":false,\"location_ids\":[],\"isActive\":true,\"isApproved\":false,\"availability\":[],\"appointments\":[],\"picture\":[],\"profileStatus\":true,\"question\":[],\"appointmentsString\":\"{\\\"duration\\\":\\\"15\\\",\\\"id\\\":\\\"\\\",\\\"weekdaysArr\\\":[{\\\"days\\\":[\\\"wednesday\\\",\\\"thursday\\\",\\\"friday\\\"],\\\"startTime\\\":\\\"02:30\\\",\\\"endTime\\\":\\\"11:30\\\",\\\"lunchStart\\\":\\\"06:30\\\",\\\"lunchEnd\\\":\\\"07:30\\\"},{\\\"days\\\":[\\\"monday\\\",\\\"tuesday\\\"],\\\"startTime\\\":\\\"03:30\\\",\\\"endTime\\\":\\\"12:30\\\",\\\"lunchStart\\\":\\\"06:30\\\",\\\"lunchEnd\\\":\\\"07:30\\\"}]}\",\"onBoarding\":false,\"referrals\":[],\"latestAppointment\":[],\"payment\":true,\"isAssistant\":false,\"rights\":[],\"assistants\":[],\"charity\":false,\"clinic\":[],\"block\":false,\"deviceToken\":[],\"online\":false,\"socket\":[],\"conversations\":[],\"WaitingRoomSocket\":[],\"verify\":true,\"_id\":\"606ad67f0030edda327b7f3c\",\"npi\":\"2016093794\",\"email\":\"sheran.ali@gmail.com\",\"password\":\"985c201c0983d138a856ffb0c8d53890\",\"specialty\":\"Orthopedist\",\"customerProfile\":\"cus_JFJESkx5I7wZd8\",\"city\":\"Jharkhand\",\"state\":\"Ranchi\",\"country\":\"India\",\"firstName\":\"Sheran\",\"lastName\":\"Ali\",\"referralId\":\"SheranuogiX_d\",\"createdOn\":\"2021-04-05T09:21:03.819Z\",\"education\":[{\"_id\":\"606ad6810030edda327b7f3f\",\"year\":null,\"degree\":\"MBBS\",\"university\":\"Sri Ramachandra University\"},{\"_id\":\"606ad6810030edda327b7f40\",\"year\":null,\"degree\":\"MS\",\"university\":\"Orthopaedics Dr DY Patil University\"}],\"PatientsWaiting\":[],\"__v\":0,\"meta\":\"606ad6800030edda327b7f3d\",\"bio\":\"Dr. Sheran Ali is a Orthopedist in Hindpiri, Ranchi and has an experience of 7 years in this field. Dr. Sheran Ali practices at MI Orthopaedic Care in Hindpiri, Ranchi. He completed MBBS from Sri Ramachandra University, Chennai in 2014 and MS - Orthopaedics from Dr DY Patil University, Navi Mumbai in 2018. \",\"fee\":300,\"gender\":\"male\"}}\n"
     ]
    },
    {
     "name": "stderr",
     "output_type": "stream",
     "text": [
      "\r\n",
      " 35%|████████████████████████████▍                                                    | 60/171 [08:06<13:50,  7.48s/it]"
     ]
    },
    {
     "name": "stdout",
     "output_type": "stream",
     "text": [
      "{'status': True, 'message': 'Image uploaded successfully'}\n",
      "Not present Harish\n",
      "Not present Satya\n",
      "606ad68f0030edda327b7f5b suyash.sinha@gmail.com\n",
      "{\"status\":true,\"message\":\"Profile successfully updated\",\"data\":{\"basic\":{\"organization_name\":\"not found\",\"organizational_subpart\":\"not found\",\"enumeration_date\":\"not found\",\"last_updated\":\"not found\",\"status\":\"not found\",\"telephone_number\":\"not found\",\"title_or_position\":\"not found\",\"name_prefix\":\"not found\",\"name_suffix\":\"not found\",\"sole_proprietor\":\"not found\",\"gender\":\"not found\",\"name\":\"Suyash Sinha\"},\"document\":{\"idProof\":false,\"registrationProof\":false,\"establishment\":false},\"address\":[],\"taxonomies\":[],\"practiceLocation\":[],\"diseases\":[],\"description\":\"NA\",\"steps\":[0,0,0,0],\"is_in_network\":true,\"is_superDoc\":false,\"location_ids\":[],\"isActive\":true,\"isApproved\":false,\"availability\":[],\"appointments\":[],\"picture\":[],\"profileStatus\":true,\"question\":[],\"appointmentsString\":\"{\\\"duration\\\":\\\"15\\\",\\\"id\\\":\\\"\\\",\\\"weekdaysArr\\\":[{\\\"days\\\":[\\\"wednesday\\\",\\\"thursday\\\",\\\"friday\\\"],\\\"startTime\\\":\\\"02:30\\\",\\\"endTime\\\":\\\"11:30\\\",\\\"lunchStart\\\":\\\"06:30\\\",\\\"lunchEnd\\\":\\\"07:30\\\"},{\\\"days\\\":[\\\"monday\\\",\\\"tuesday\\\"],\\\"startTime\\\":\\\"03:30\\\",\\\"endTime\\\":\\\"12:30\\\",\\\"lunchStart\\\":\\\"06:30\\\",\\\"lunchEnd\\\":\\\"07:30\\\"}]}\",\"onBoarding\":false,\"referrals\":[],\"latestAppointment\":[],\"payment\":true,\"isAssistant\":false,\"rights\":[],\"assistants\":[],\"charity\":false,\"clinic\":[],\"block\":false,\"deviceToken\":[],\"online\":false,\"socket\":[],\"conversations\":[],\"WaitingRoomSocket\":[],\"verify\":true,\"_id\":\"606ad68f0030edda327b7f5b\",\"npi\":\"A-17587\",\"email\":\"suyash.sinha@gmail.com\",\"password\":\"985c201c0983d138a856ffb0c8d53890\",\"specialty\":\"Dental Surgeon\",\"customerProfile\":\"cus_JFJEi10hCkCfz1\",\"city\":\"Jharkhand\",\"state\":\"Ranchi\",\"country\":\"India\",\"firstName\":\"Suyash\",\"lastName\":\"Sinha\",\"referralId\":\"SuyashkMtT2_d\",\"createdOn\":\"2021-04-05T09:21:19.313Z\",\"education\":[{\"_id\":\"606ad6910030edda327b7f5e\",\"year\":null,\"degree\":\"BDS\",\"university\":\"Devi Ahilya Vishwa Vidhyalaya\"}],\"PatientsWaiting\":[],\"__v\":0,\"meta\":\"606ad68f0030edda327b7f5c\",\"bio\":\"Dr. Suyash Sinha is a Dental Surgeon and Dentist in Mesra, Ranchi and has an experience of 11 years in these fields. Dr. Suyash Sinha practices at Dr. Suyash Sinha Dental Clinic in Mesra, Ranchi. He completed BDS from Devi Ahilya Vishwa Vidhyalaya, Indore, M.P. in 2009. He is a member of Indian Dental Association. Some of the services provided by the doctor are: Crowns and Bridges Fixing,Fixed Partial Denture (FPD),RCT - Root Canal Treatment,Artificial Teeth and Conservative Dentistry etc. \",\"fee\":300,\"gender\":\"male\"}}\n"
     ]
    },
    {
     "name": "stderr",
     "output_type": "stream",
     "text": [
      "\r\n",
      " 37%|█████████████████████████████▊                                                   | 63/171 [08:21<11:39,  6.48s/it]"
     ]
    },
    {
     "name": "stdout",
     "output_type": "stream",
     "text": [
      "{'status': True, 'message': 'Image uploaded successfully'}\n",
      "606ad69b0030edda327b7f79 ankit.shrivastav@gmail.com\n",
      "{\"status\":true,\"message\":\"Profile successfully updated\",\"data\":{\"basic\":{\"organization_name\":\"not found\",\"organizational_subpart\":\"not found\",\"enumeration_date\":\"not found\",\"last_updated\":\"not found\",\"status\":\"not found\",\"telephone_number\":\"not found\",\"title_or_position\":\"not found\",\"name_prefix\":\"not found\",\"name_suffix\":\"not found\",\"sole_proprietor\":\"not found\",\"gender\":\"not found\",\"name\":\"Ankit Shrivastav\"},\"document\":{\"idProof\":false,\"registrationProof\":false,\"establishment\":false},\"address\":[],\"taxonomies\":[],\"practiceLocation\":[],\"diseases\":[],\"description\":\"NA\",\"steps\":[0,0,0,0],\"is_in_network\":true,\"is_superDoc\":false,\"location_ids\":[],\"isActive\":true,\"isApproved\":false,\"availability\":[],\"appointments\":[],\"picture\":[],\"profileStatus\":true,\"question\":[],\"appointmentsString\":\"{\\\"duration\\\":\\\"15\\\",\\\"id\\\":\\\"\\\",\\\"weekdaysArr\\\":[{\\\"days\\\":[\\\"wednesday\\\",\\\"thursday\\\",\\\"friday\\\"],\\\"startTime\\\":\\\"02:30\\\",\\\"endTime\\\":\\\"11:30\\\",\\\"lunchStart\\\":\\\"06:30\\\",\\\"lunchEnd\\\":\\\"07:30\\\"},{\\\"days\\\":[\\\"monday\\\",\\\"tuesday\\\"],\\\"startTime\\\":\\\"03:30\\\",\\\"endTime\\\":\\\"12:30\\\",\\\"lunchStart\\\":\\\"06:30\\\",\\\"lunchEnd\\\":\\\"07:30\\\"}]}\",\"onBoarding\":false,\"referrals\":[],\"latestAppointment\":[],\"payment\":true,\"isAssistant\":false,\"rights\":[],\"assistants\":[],\"charity\":false,\"clinic\":[],\"block\":false,\"deviceToken\":[],\"online\":false,\"socket\":[],\"conversations\":[],\"WaitingRoomSocket\":[],\"verify\":true,\"_id\":\"606ad69b0030edda327b7f79\",\"npi\":\"59636\",\"email\":\"ankit.shrivastav@gmail.com\",\"password\":\"985c201c0983d138a856ffb0c8d53890\",\"specialty\":\"Endocrinologist\",\"customerProfile\":\"cus_JFJFOgpgWxWVp5\",\"city\":\"Jharkhand\",\"state\":\"Ranchi\",\"country\":\"India\",\"firstName\":\"Ankit\",\"lastName\":\"Shrivastav\",\"referralId\":\"Ankit4pEnN_d\",\"createdOn\":\"2021-04-05T09:21:31.733Z\",\"education\":[{\"_id\":\"606ad69d0030edda327b7f7c\",\"year\":2004,\"degree\":\"MBBS\",\"university\":\"NRS Medical College and Hospital\"},{\"_id\":\"606ad69d0030edda327b7f7d\",\"year\":null,\"degree\":\"MD\",\"university\":\"General Medicine Institute of PG Medical Education and Research\"},{\"_id\":\"606ad69d0030edda327b7f7e\",\"year\":2013,\"degree\":\"DM\",\"university\":\"Endocrinology Institute of PG Medical Education and Research Centre\"}],\"PatientsWaiting\":[],\"__v\":0,\"meta\":\"606ad69b0030edda327b7f7a\",\"bio\":\"Dr. Ankit Shrivastav is a Endocrinologist and Diabetologist in Argora, Ranchi and has an experience of 17 years in these fields. Dr. Ankit Shrivastav practices at Arogya Diabetes & Endocrine Centre in Argora, Ranchi. He completed MBBS from NRS Medical College and Hospital in 2004,MD - General Medicine from Institute of PG Medical Education and Research, Kolkata in 2009 and DM - Endocrinology from Institute of PG Medical Education and Research Centre in 2013. He is a member of Endocrine Society of India (ESI),Association of Physicians of India (API),Research Society for the Study of Diabetes in India (RSSDI),American Association of Clinical Endocrinologists (AACE),American Thyroid Association (ATA),Indian Dental Association,The Endocrine Society (USA) and The Paediatric Endocrine Society (USA). Some of the services provided by the doctor are: High BP,Diabetes Management,Congenital Disorders Evaluation / Treatment,Adrenal Disorders and menstural disorders etc. \",\"fee\":1000,\"gender\":\"male\"}}\n"
     ]
    },
    {
     "name": "stderr",
     "output_type": "stream",
     "text": [
      "\r\n",
      " 37%|██████████████████████████████▎                                                  | 64/171 [08:31<12:46,  7.16s/it]"
     ]
    },
    {
     "name": "stdout",
     "output_type": "stream",
     "text": [
      "{'status': True, 'message': 'Image uploaded successfully'}\n",
      "606ad6a70030edda327b7f99 sayeed.akhtar@gmail.com\n",
      "{\"status\":true,\"message\":\"Profile successfully updated\",\"data\":{\"basic\":{\"organization_name\":\"not found\",\"organizational_subpart\":\"not found\",\"enumeration_date\":\"not found\",\"last_updated\":\"not found\",\"status\":\"not found\",\"telephone_number\":\"not found\",\"title_or_position\":\"not found\",\"name_prefix\":\"not found\",\"name_suffix\":\"not found\",\"sole_proprietor\":\"not found\",\"gender\":\"not found\",\"name\":\"Sayeed Akhtar\"},\"document\":{\"idProof\":false,\"registrationProof\":false,\"establishment\":false},\"address\":[],\"taxonomies\":[],\"practiceLocation\":[],\"diseases\":[],\"description\":\"NA\",\"steps\":[0,0,0,0],\"is_in_network\":true,\"is_superDoc\":false,\"location_ids\":[],\"isActive\":true,\"isApproved\":false,\"availability\":[],\"appointments\":[],\"picture\":[],\"profileStatus\":true,\"question\":[],\"appointmentsString\":\"{\\\"duration\\\":\\\"15\\\",\\\"id\\\":\\\"\\\",\\\"weekdaysArr\\\":[{\\\"days\\\":[\\\"wednesday\\\",\\\"thursday\\\",\\\"friday\\\"],\\\"startTime\\\":\\\"02:30\\\",\\\"endTime\\\":\\\"11:30\\\",\\\"lunchStart\\\":\\\"06:30\\\",\\\"lunchEnd\\\":\\\"07:30\\\"},{\\\"days\\\":[\\\"monday\\\",\\\"tuesday\\\"],\\\"startTime\\\":\\\"03:30\\\",\\\"endTime\\\":\\\"12:30\\\",\\\"lunchStart\\\":\\\"06:30\\\",\\\"lunchEnd\\\":\\\"07:30\\\"}]}\",\"onBoarding\":false,\"referrals\":[],\"latestAppointment\":[],\"payment\":true,\"isAssistant\":false,\"rights\":[],\"assistants\":[],\"charity\":false,\"clinic\":[],\"block\":false,\"deviceToken\":[],\"online\":false,\"socket\":[],\"conversations\":[],\"WaitingRoomSocket\":[],\"verify\":true,\"_id\":\"606ad6a70030edda327b7f99\",\"npi\":\"15400\",\"email\":\"sayeed.akhtar@gmail.com\",\"password\":\"985c201c0983d138a856ffb0c8d53890\",\"specialty\":\"Psychiatrist\",\"customerProfile\":\"cus_JFJFLJMLc0IiBX\",\"city\":\"Jharkhand\",\"state\":\"Ranchi\",\"country\":\"India\",\"firstName\":\"Sayeed\",\"lastName\":\"Akhtar\",\"referralId\":\"Sayeed9VcXH_d\",\"createdOn\":\"2021-04-05T09:21:43.276Z\",\"education\":[{\"_id\":\"606ad6ab0030edda327b7fb6\",\"year\":null,\"degree\":\"MBBS\",\"university\":\"Rajendra Institute of Medical Sciences\"},{\"_id\":\"606ad6ab0030edda327b7fb7\",\"year\":null,\"degree\":\"M.D. (Psychiatry)\",\"university\":\"Rajendra Institute of Medical Sciences\"},{\"_id\":\"606ad6ab0030edda327b7fb8\",\"year\":null,\"degree\":\"DNB\",\"university\":\"Psychiatry Rajendra Institute of Medical Sciences\"}],\"PatientsWaiting\":[],\"__v\":0,\"meta\":\"606ad6a70030edda327b7f9a\",\"bio\":\"Dr. Sayeed Akhtar is a Psychiatrist in Bariatu, Ranchi and has an experience of 42 years in this field. Dr. Sayeed Akhtar practices at Beautiful Mind Clinic in Bariatu, Ranchi. He completed MBBS from Rajendra Institute of Medical Sciences, Ranchi in 1979,M.D. (Psychiatry) from Rajendra Institute of Medical Sciences, Ranchi in 1983 and DNB - Psychiatry from Rajendra Institute of Medical Sciences, Ranchi in 1987. He is a member of Indian Psychiatric Society. \",\"fee\":500,\"gender\":\"male\"}}\n"
     ]
    },
    {
     "name": "stderr",
     "output_type": "stream",
     "text": [
      "\r\n",
      " 38%|██████████████████████████████▊                                                  | 65/171 [08:46<15:12,  8.61s/it]"
     ]
    },
    {
     "name": "stdout",
     "output_type": "stream",
     "text": [
      "{'status': True, 'message': 'Image uploaded successfully'}\n",
      "606ad6b60030edda327b7fb9 shivam.bhagat@gmail.com\n",
      "{\"status\":true,\"message\":\"Profile successfully updated\",\"data\":{\"basic\":{\"organization_name\":\"not found\",\"organizational_subpart\":\"not found\",\"enumeration_date\":\"not found\",\"last_updated\":\"not found\",\"status\":\"not found\",\"telephone_number\":\"not found\",\"title_or_position\":\"not found\",\"name_prefix\":\"not found\",\"name_suffix\":\"not found\",\"sole_proprietor\":\"not found\",\"gender\":\"not found\",\"name\":\"Shivam Bhagat\"},\"document\":{\"idProof\":false,\"registrationProof\":false,\"establishment\":false},\"address\":[],\"taxonomies\":[],\"practiceLocation\":[],\"diseases\":[],\"description\":\"NA\",\"steps\":[0,0,0,0],\"is_in_network\":true,\"is_superDoc\":false,\"location_ids\":[],\"isActive\":true,\"isApproved\":false,\"availability\":[],\"appointments\":[\"606ad6b90030edda327b7fbc\",\"606ad6b90030edda327b7fbd\",\"606ad6b90030edda327b7fbe\",\"606ad6b90030edda327b7fbf\",\"606ad6b90030edda327b7fc0\",\"606ad6b90030edda327b7fc1\",\"606ad6b90030edda327b7fc2\",\"606ad6b90030edda327b7fc3\",\"606ad6b90030edda327b7fc4\",\"606ad6b90030edda327b7fc5\",\"606ad6b90030edda327b7fc6\",\"606ad6b90030edda327b7fc7\",\"606ad6b90030edda327b7fc8\",\"606ad6b90030edda327b7fc9\",\"606ad6b90030edda327b7fca\",\"606ad6b90030edda327b7fcb\",\"606ad6b90030edda327b7fcc\",\"606ad6b90030edda327b7fcd\",\"606ad6b90030edda327b7fce\",\"606ad6b90030edda327b7fcf\",\"606ad6b90030edda327b7fd0\",\"606ad6b90030edda327b7fd1\",\"606ad6b90030edda327b7fd2\",\"606ad6b90030edda327b7fd3\",\"606ad6b90030edda327b7fd4\",\"606ad6b90030edda327b7fd5\"],\"picture\":[],\"profileStatus\":true,\"question\":[],\"appointmentsString\":\"{\\\"duration\\\":\\\"15\\\",\\\"id\\\":\\\"\\\",\\\"weekdaysArr\\\":[{\\\"days\\\":[\\\"wednesday\\\",\\\"thursday\\\",\\\"friday\\\"],\\\"startTime\\\":\\\"02:30\\\",\\\"endTime\\\":\\\"11:30\\\",\\\"lunchStart\\\":\\\"06:30\\\",\\\"lunchEnd\\\":\\\"07:30\\\"},{\\\"days\\\":[\\\"monday\\\",\\\"tuesday\\\"],\\\"startTime\\\":\\\"03:30\\\",\\\"endTime\\\":\\\"12:30\\\",\\\"lunchStart\\\":\\\"06:30\\\",\\\"lunchEnd\\\":\\\"07:30\\\"}]}\",\"onBoarding\":false,\"referrals\":[],\"latestAppointment\":[\"606ad6b90030edda327b7fbc\",\"606ad6b90030edda327b7fbd\",\"606ad6b90030edda327b7fbe\"],\"payment\":true,\"isAssistant\":false,\"rights\":[],\"assistants\":[],\"charity\":false,\"clinic\":[],\"block\":false,\"deviceToken\":[],\"online\":false,\"socket\":[],\"conversations\":[],\"WaitingRoomSocket\":[],\"verify\":true,\"_id\":\"606ad6b60030edda327b7fb9\",\"npi\":\"40090-A\",\"email\":\"shivam.bhagat@gmail.com\",\"password\":\"985c201c0983d138a856ffb0c8d53890\",\"specialty\":\"Dentist\",\"customerProfile\":\"cus_JFJFZbmzb7hShS\",\"city\":\"Jharkhand\",\"state\":\"Ranchi\",\"country\":\"India\",\"firstName\":\"Shivam\",\"lastName\":\"Bhagat\",\"referralId\":\"Shivam3Wt2r_d\",\"createdOn\":\"2021-04-05T09:21:58.123Z\",\"education\":[{\"_id\":\"606ad6bd0030edda327b7fd6\",\"year\":null,\"degree\":\"BDS\",\"university\":\"College of Dental Sciences\"}],\"PatientsWaiting\":[],\"__v\":0,\"meta\":\"606ad6b60030edda327b7fba\",\"bio\":\"BDS,MDS(Conservative Dentistry and Endodontics) Fellow and Life Member- AOI (Academy of Oral Implantology) Awarded as Outstanding Dentist of the year 2017- IHP Awards. \",\"fee\":300,\"gender\":\"male\"}}\n"
     ]
    },
    {
     "name": "stderr",
     "output_type": "stream",
     "text": [
      "\r\n",
      " 39%|███████████████████████████████▎                                                 | 66/171 [09:11<20:54, 11.95s/it]"
     ]
    },
    {
     "name": "stdout",
     "output_type": "stream",
     "text": [
      "{'status': True, 'message': 'Image uploaded successfully'}\n",
      "Not present Saroj\n",
      "606ad6cd0030edda327b7fd7 saurabh.priyadarshi.tiwary@gmail.com\n",
      "{\"status\":true,\"message\":\"Profile successfully updated\",\"data\":{\"basic\":{\"organization_name\":\"not found\",\"organizational_subpart\":\"not found\",\"enumeration_date\":\"not found\",\"last_updated\":\"not found\",\"status\":\"not found\",\"telephone_number\":\"not found\",\"title_or_position\":\"not found\",\"name_prefix\":\"not found\",\"name_suffix\":\"not found\",\"sole_proprietor\":\"not found\",\"gender\":\"not found\",\"name\":\"Saurabh Priyadarshi Tiwary\"},\"document\":{\"idProof\":false,\"registrationProof\":false,\"establishment\":false},\"address\":[],\"taxonomies\":[],\"practiceLocation\":[],\"diseases\":[],\"description\":\"NA\",\"steps\":[0,0,0,0],\"is_in_network\":true,\"is_superDoc\":false,\"location_ids\":[],\"isActive\":true,\"isApproved\":false,\"availability\":[],\"appointments\":[],\"picture\":[],\"profileStatus\":true,\"question\":[],\"appointmentsString\":\"{\\\"duration\\\":\\\"15\\\",\\\"id\\\":\\\"\\\",\\\"weekdaysArr\\\":[{\\\"days\\\":[\\\"wednesday\\\",\\\"thursday\\\",\\\"friday\\\"],\\\"startTime\\\":\\\"02:30\\\",\\\"endTime\\\":\\\"11:30\\\",\\\"lunchStart\\\":\\\"06:30\\\",\\\"lunchEnd\\\":\\\"07:30\\\"},{\\\"days\\\":[\\\"monday\\\",\\\"tuesday\\\"],\\\"startTime\\\":\\\"03:30\\\",\\\"endTime\\\":\\\"12:30\\\",\\\"lunchStart\\\":\\\"06:30\\\",\\\"lunchEnd\\\":\\\"07:30\\\"}]}\",\"onBoarding\":false,\"referrals\":[],\"latestAppointment\":[],\"payment\":true,\"isAssistant\":false,\"rights\":[],\"assistants\":[],\"charity\":false,\"clinic\":[],\"block\":false,\"deviceToken\":[],\"online\":false,\"socket\":[],\"conversations\":[],\"WaitingRoomSocket\":[],\"verify\":true,\"_id\":\"606ad6cd0030edda327b7fd7\",\"npi\":\"A-297\",\"email\":\"saurabh.priyadarshi.tiwary@gmail.com\",\"password\":\"985c201c0983d138a856ffb0c8d53890\",\"specialty\":\"Dentist\",\"customerProfile\":\"cus_JFJGPNU6aHpMsT\",\"city\":\"Jharkhand\",\"state\":\"Ranchi\",\"country\":\"India\",\"firstName\":\"Saurabh\",\"lastName\":\"Priyadarshi Tiwary\",\"referralId\":\"SaurabhdBDeJ_d\",\"createdOn\":\"2021-04-05T09:22:21.919Z\",\"education\":[{\"_id\":\"606ad6d10030edda327b7ff4\",\"year\":2015,\"degree\":\"BDS\",\"university\":\"Manipal University\"}],\"PatientsWaiting\":[],\"__v\":0,\"meta\":\"606ad6ce0030edda327b7fd8\",\"bio\":\"Dr. Saurabh Priyadarshi Tiwary is one of the well known Dental Surgeon in Ranchi with over 3 years of professional dentistry practice. He practices at Vyas Oral Care in Hatia, Ranchi. He completed BDS from Manipal University in 2015. He specializes in all the basic & latest dental procedures including General Dentistry, Cosmetic Dentistry, Advanced Root Canal Treatment, Full Mouth Dentures, Orthodontics, Tooth Colored Fillings, Child Dental Care, Teeth Cleaning, Teeth Whitening, Infected Gum Treatment and Removable Partial Dentures. He aims to provide a comprehensive set of oral health care services, with best-in-class equipment and utilizes the latest pain management technology to provide affordable dental healthcare of the highest quality with a constant focus on ethics and transparency. \",\"fee\":200,\"gender\":\"male\"}}\n"
     ]
    },
    {
     "name": "stderr",
     "output_type": "stream",
     "text": [
      "\r\n",
      " 40%|████████████████████████████████▏                                                | 68/171 [09:24<16:57,  9.88s/it]"
     ]
    },
    {
     "name": "stdout",
     "output_type": "stream",
     "text": [
      "{'status': True, 'message': 'Image uploaded successfully'}\n",
      "Not present Jyoti\n",
      "606ad6da0030edda327b7ff5 pawan.kumar@gmail.com\n",
      "{\"status\":true,\"message\":\"Profile successfully updated\",\"data\":{\"basic\":{\"organization_name\":\"not found\",\"organizational_subpart\":\"not found\",\"enumeration_date\":\"not found\",\"last_updated\":\"not found\",\"status\":\"not found\",\"telephone_number\":\"not found\",\"title_or_position\":\"not found\",\"name_prefix\":\"not found\",\"name_suffix\":\"not found\",\"sole_proprietor\":\"not found\",\"gender\":\"not found\",\"name\":\"Pawan Kumar\"},\"document\":{\"idProof\":false,\"registrationProof\":false,\"establishment\":false},\"address\":[],\"taxonomies\":[],\"practiceLocation\":[],\"diseases\":[],\"description\":\"NA\",\"steps\":[0,0,0,0],\"is_in_network\":true,\"is_superDoc\":false,\"location_ids\":[],\"isActive\":true,\"isApproved\":false,\"availability\":[],\"appointments\":[\"606ad6de0030edda327b7ff8\",\"606ad6de0030edda327b7ff9\",\"606ad6de0030edda327b7ffa\",\"606ad6de0030edda327b7ffb\",\"606ad6de0030edda327b7ffc\",\"606ad6de0030edda327b7ffd\",\"606ad6de0030edda327b7ffe\",\"606ad6de0030edda327b7fff\",\"606ad6de0030edda327b8000\",\"606ad6de0030edda327b8001\",\"606ad6de0030edda327b8002\",\"606ad6de0030edda327b8003\",\"606ad6de0030edda327b8004\",\"606ad6de0030edda327b8005\",\"606ad6de0030edda327b8006\",\"606ad6de0030edda327b8007\",\"606ad6de0030edda327b8008\",\"606ad6de0030edda327b8009\",\"606ad6de0030edda327b800a\",\"606ad6de0030edda327b800b\",\"606ad6de0030edda327b800c\",\"606ad6de0030edda327b800d\",\"606ad6de0030edda327b800e\",\"606ad6de0030edda327b800f\",\"606ad6de0030edda327b8010\",\"606ad6de0030edda327b8011\"],\"picture\":[],\"profileStatus\":true,\"question\":[],\"appointmentsString\":\"{\\\"duration\\\":\\\"15\\\",\\\"id\\\":\\\"\\\",\\\"weekdaysArr\\\":[{\\\"days\\\":[\\\"wednesday\\\",\\\"thursday\\\",\\\"friday\\\"],\\\"startTime\\\":\\\"02:30\\\",\\\"endTime\\\":\\\"11:30\\\",\\\"lunchStart\\\":\\\"06:30\\\",\\\"lunchEnd\\\":\\\"07:30\\\"},{\\\"days\\\":[\\\"monday\\\",\\\"tuesday\\\"],\\\"startTime\\\":\\\"03:30\\\",\\\"endTime\\\":\\\"12:30\\\",\\\"lunchStart\\\":\\\"06:30\\\",\\\"lunchEnd\\\":\\\"07:30\\\"}]}\",\"onBoarding\":false,\"referrals\":[],\"latestAppointment\":[\"606ad6de0030edda327b7ff8\",\"606ad6de0030edda327b7ff9\",\"606ad6de0030edda327b7ffa\"],\"payment\":true,\"isAssistant\":false,\"rights\":[],\"assistants\":[],\"charity\":false,\"clinic\":[],\"block\":false,\"deviceToken\":[],\"online\":false,\"socket\":[],\"conversations\":[],\"WaitingRoomSocket\":[],\"verify\":true,\"_id\":\"606ad6da0030edda327b7ff5\",\"npi\":\"2691\",\"email\":\"pawan.kumar@gmail.com\",\"password\":\"985c201c0983d138a856ffb0c8d53890\",\"specialty\":\"Orthopedist\",\"customerProfile\":\"cus_JFJGh61xawgESF\",\"city\":\"Jharkhand\",\"state\":\"Ranchi\",\"country\":\"India\",\"firstName\":\"Pawan\",\"lastName\":\"Kumar\",\"referralId\":\"PawanIDjyY_d\",\"createdOn\":\"2021-04-05T09:22:34.650Z\",\"education\":[{\"_id\":\"606ad6e10030edda327b8012\",\"year\":1993,\"degree\":\"MBBS\",\"university\":\"Malda Medical College and Hospital\"},{\"_id\":\"606ad6e10030edda327b8013\",\"year\":null,\"degree\":\"MS\",\"university\":\"Orthopaedics Gandhi Medical College\"}],\"PatientsWaiting\":[],\"__v\":0,\"meta\":\"606ad6da0030edda327b7ff6\",\"bio\":\"Dr. Pawan Kumar is a Orthopedist in Bariatu, Ranchi and has an experience of 19 years in this field. Dr. Pawan Kumar practices at Sagar Orthopaedic Research Centre in Bariatu, Ranchi. He completed MBBS from Malda Medical College and Hospital in 1993 and MS - Orthopaedics from Gandhi Medical College, Bhopal in 1999. He is a member of Indian Orthopaedic Association,MP chapter IOA,Jharkhand Orthopaedics Association and Indian Medical Association (IMA). Some of the services provided by the doctor are: Ligament Reconstruction,Joint Replacement Surgery,Orthopedic Surgery,Troma and Joint Pain Treatment etc. \",\"fee\":300,\"gender\":\"male\"}}\n"
     ]
    },
    {
     "name": "stderr",
     "output_type": "stream",
     "text": [
      "\r\n",
      " 41%|█████████████████████████████████▏                                               | 70/171 [09:45<16:58, 10.09s/it]"
     ]
    },
    {
     "name": "stdout",
     "output_type": "stream",
     "text": [
      "{'status': True, 'message': 'Image uploaded successfully'}\n",
      "606ad6f10030edda327b8014 suparna.prasad@gmail.com\n",
      "{\"status\":true,\"message\":\"Profile successfully updated\",\"data\":{\"basic\":{\"organization_name\":\"not found\",\"organizational_subpart\":\"not found\",\"enumeration_date\":\"not found\",\"last_updated\":\"not found\",\"status\":\"not found\",\"telephone_number\":\"not found\",\"title_or_position\":\"not found\",\"name_prefix\":\"not found\",\"name_suffix\":\"not found\",\"sole_proprietor\":\"not found\",\"gender\":\"not found\",\"name\":\"Suparna Prasad\"},\"document\":{\"idProof\":false,\"registrationProof\":false,\"establishment\":false},\"address\":[],\"taxonomies\":[],\"practiceLocation\":[],\"diseases\":[],\"description\":\"NA\",\"steps\":[0,0,0,0],\"is_in_network\":true,\"is_superDoc\":false,\"location_ids\":[],\"isActive\":true,\"isApproved\":false,\"availability\":[],\"appointments\":[\"606ad6f50030edda327b8017\",\"606ad6f50030edda327b8018\",\"606ad6f50030edda327b8019\",\"606ad6f50030edda327b801a\",\"606ad6f50030edda327b801b\",\"606ad6f50030edda327b801c\",\"606ad6f50030edda327b801d\",\"606ad6f50030edda327b801e\",\"606ad6f50030edda327b801f\",\"606ad6f50030edda327b8020\",\"606ad6f50030edda327b8021\",\"606ad6f50030edda327b8022\",\"606ad6f50030edda327b8023\",\"606ad6f50030edda327b8024\",\"606ad6f50030edda327b8025\",\"606ad6f50030edda327b8026\",\"606ad6f50030edda327b8027\",\"606ad6f50030edda327b8028\",\"606ad6f50030edda327b8029\",\"606ad6f50030edda327b802a\",\"606ad6f50030edda327b802b\",\"606ad6f50030edda327b802c\",\"606ad6f50030edda327b802d\",\"606ad6f50030edda327b802e\",\"606ad6f50030edda327b802f\",\"606ad6f50030edda327b8030\"],\"picture\":[],\"profileStatus\":true,\"question\":[],\"appointmentsString\":\"{\\\"duration\\\":\\\"15\\\",\\\"id\\\":\\\"\\\",\\\"weekdaysArr\\\":[{\\\"days\\\":[\\\"wednesday\\\",\\\"thursday\\\",\\\"friday\\\"],\\\"startTime\\\":\\\"02:30\\\",\\\"endTime\\\":\\\"11:30\\\",\\\"lunchStart\\\":\\\"06:30\\\",\\\"lunchEnd\\\":\\\"07:30\\\"},{\\\"days\\\":[\\\"monday\\\",\\\"tuesday\\\"],\\\"startTime\\\":\\\"03:30\\\",\\\"endTime\\\":\\\"12:30\\\",\\\"lunchStart\\\":\\\"06:30\\\",\\\"lunchEnd\\\":\\\"07:30\\\"}]}\",\"onBoarding\":false,\"referrals\":[],\"latestAppointment\":[\"606ad6f50030edda327b8017\",\"606ad6f50030edda327b8018\",\"606ad6f50030edda327b8019\"],\"payment\":true,\"isAssistant\":false,\"rights\":[],\"assistants\":[],\"charity\":false,\"clinic\":[],\"block\":false,\"deviceToken\":[],\"online\":false,\"socket\":[],\"conversations\":[],\"WaitingRoomSocket\":[],\"verify\":true,\"_id\":\"606ad6f10030edda327b8014\",\"npi\":\"28994\",\"email\":\"suparna.prasad@gmail.com\",\"password\":\"985c201c0983d138a856ffb0c8d53890\",\"specialty\":\"Homoeopath\",\"customerProfile\":\"cus_JFJGbHTZKIdyKd\",\"city\":\"Jharkhand\",\"state\":\"Ranchi\",\"country\":\"India\",\"firstName\":\"Suparna\",\"lastName\":\"Prasad\",\"referralId\":\"Suparna2a7LG_d\",\"createdOn\":\"2021-04-05T09:22:57.773Z\",\"education\":[{\"_id\":\"606ad6f90030edda327b8031\",\"year\":null,\"degree\":\"DHMS (Diploma in Homeopathic Medicine and Surgery)\",\"university\":\"PHMCH\"}],\"PatientsWaiting\":[],\"__v\":0,\"meta\":\"606ad6f10030edda327b8015\",\"bio\":\"Dr. Suparna Prasad is a Homoeopath in Lalpur, Ranchi and has an experience of 18 years in this field. Dr. Suparna Prasad practices at Suraj Homeo Hall in Lalpur, Ranchi. She completed DHMS (Diploma in Homeopathic Medicine and Surgery) from PHMCH, Kolkata in 2003. She is a member of Central Council of Homeopathy. Some of the services provided by the doctor are: Depression Treatment,Hair Loss Treatment,Joints and Musculoskeletal Disorders,Infertility Evaluation / Treatment and Skin Disease Treatment etc. \",\"fee\":100,\"gender\":\"female\"}}\n"
     ]
    },
    {
     "name": "stderr",
     "output_type": "stream",
     "text": [
      "\r\n",
      " 42%|█████████████████████████████████▋                                               | 71/171 [10:10<21:55, 13.15s/it]"
     ]
    },
    {
     "name": "stdout",
     "output_type": "stream",
     "text": [
      "{'status': True, 'message': 'Image uploaded successfully'}\n",
      "606ad7090030edda327b8032 m..shiraz.ali@gmail.com\n",
      "{\"status\":true,\"message\":\"Profile successfully updated\",\"data\":{\"basic\":{\"organization_name\":\"not found\",\"organizational_subpart\":\"not found\",\"enumeration_date\":\"not found\",\"last_updated\":\"not found\",\"status\":\"not found\",\"telephone_number\":\"not found\",\"title_or_position\":\"not found\",\"name_prefix\":\"not found\",\"name_suffix\":\"not found\",\"sole_proprietor\":\"not found\",\"gender\":\"not found\",\"name\":\"M. Shiraz Ali\"},\"document\":{\"idProof\":false,\"registrationProof\":false,\"establishment\":false},\"address\":[],\"taxonomies\":[],\"practiceLocation\":[],\"diseases\":[],\"description\":\"NA\",\"steps\":[0,0,0,0],\"is_in_network\":true,\"is_superDoc\":false,\"location_ids\":[],\"isActive\":true,\"isApproved\":false,\"availability\":[],\"appointments\":[\"606ad70c0030edda327b8035\",\"606ad70c0030edda327b8036\",\"606ad70c0030edda327b8037\",\"606ad70c0030edda327b8038\",\"606ad70c0030edda327b8039\",\"606ad70c0030edda327b803a\",\"606ad70c0030edda327b803b\",\"606ad70c0030edda327b803c\",\"606ad70c0030edda327b803d\",\"606ad70c0030edda327b803e\",\"606ad70c0030edda327b803f\",\"606ad70c0030edda327b8040\",\"606ad70c0030edda327b8041\",\"606ad70c0030edda327b8042\",\"606ad70c0030edda327b8043\",\"606ad70c0030edda327b8044\",\"606ad70c0030edda327b8045\",\"606ad70c0030edda327b8046\",\"606ad70c0030edda327b8047\",\"606ad70c0030edda327b8048\",\"606ad70c0030edda327b8049\",\"606ad70c0030edda327b804a\",\"606ad70c0030edda327b804b\",\"606ad70c0030edda327b804c\",\"606ad70c0030edda327b804d\",\"606ad70c0030edda327b804e\"],\"picture\":[],\"profileStatus\":true,\"question\":[],\"appointmentsString\":\"{\\\"duration\\\":\\\"15\\\",\\\"id\\\":\\\"\\\",\\\"weekdaysArr\\\":[{\\\"days\\\":[\\\"wednesday\\\",\\\"thursday\\\",\\\"friday\\\"],\\\"startTime\\\":\\\"02:30\\\",\\\"endTime\\\":\\\"11:30\\\",\\\"lunchStart\\\":\\\"06:30\\\",\\\"lunchEnd\\\":\\\"07:30\\\"},{\\\"days\\\":[\\\"monday\\\",\\\"tuesday\\\"],\\\"startTime\\\":\\\"03:30\\\",\\\"endTime\\\":\\\"12:30\\\",\\\"lunchStart\\\":\\\"06:30\\\",\\\"lunchEnd\\\":\\\"07:30\\\"}]}\",\"onBoarding\":false,\"referrals\":[],\"latestAppointment\":[\"606ad70c0030edda327b8035\",\"606ad70c0030edda327b8036\",\"606ad70c0030edda327b8037\"],\"payment\":true,\"isAssistant\":false,\"rights\":[],\"assistants\":[],\"charity\":false,\"clinic\":[],\"block\":false,\"deviceToken\":[],\"online\":false,\"socket\":[],\"conversations\":[],\"WaitingRoomSocket\":[],\"verify\":true,\"_id\":\"606ad7090030edda327b8032\",\"npi\":\"639\",\"email\":\"m..shiraz.ali@gmail.com\",\"password\":\"985c201c0983d138a856ffb0c8d53890\",\"specialty\":\"Ophthalmologist/ Eye Surgeon\",\"customerProfile\":\"cus_JFJHYNjwNRtwHJ\",\"city\":\"Jharkhand\",\"state\":\"Ranchi\",\"country\":\"India\",\"firstName\":\"M.\",\"lastName\":\"Shiraz Ali\",\"referralId\":\"M.fePvc_d\",\"createdOn\":\"2021-04-05T09:23:21.202Z\",\"education\":[{\"_id\":\"606ad7110030edda327b804f\",\"year\":null,\"degree\":\"MBBS\",\"university\":\"Jawahar Lal Nehru Medical College\"},{\"_id\":\"606ad7110030edda327b8050\",\"year\":null,\"degree\":\"MS\",\"university\":\"Ophthalmology Rajendra Institute of Medical Sciences\"}],\"PatientsWaiting\":[],\"__v\":0,\"meta\":\"606ad7090030edda327b8033\",\"bio\":\"Dr. M. Shiraz Ali is a Ophthalmologist/ Eye Surgeon in Kantatoli, Ranchi and has an experience of 12 years in this field. Dr. M. Shiraz Ali practices at Eye n You in Kantatoli, Ranchi. He completed MBBS from Jawahar Lal Nehru Medical College, AMU, Aligarh in 2003 and MS - Ophthalmology from Rajendra Institute of Medical Sciences, Ranchi in 2009. He is a member of All India Ophthalmological Society,Glaucoma Society Of India (GSI),Delhi Ophthalmological Society (DOS),Bihar Ophthalmological Society and Jharkhand Ophthalmological Society. Some of the services provided by the doctor are: Tonometry,Pediatric Glaucoma Management,Pterygium,Anterior Segment Surgery and Ocular trauma etc. \",\"fee\":300,\"gender\":\"male\"}}\n"
     ]
    },
    {
     "name": "stderr",
     "output_type": "stream",
     "text": [
      "\r\n",
      " 42%|██████████████████████████████████                                               | 72/171 [10:25<22:24, 13.58s/it]"
     ]
    },
    {
     "name": "stdout",
     "output_type": "stream",
     "text": [
      "{'status': True, 'message': 'Image uploaded successfully'}\n",
      "Not present D\n",
      "Not present Amit\n",
      "Not present Dharmendra\n",
      "606ad7170030edda327b8051 sushil.kumar.singh@gmail.com\n",
      "{\"status\":true,\"message\":\"Profile successfully updated\",\"data\":{\"basic\":{\"organization_name\":\"not found\",\"organizational_subpart\":\"not found\",\"enumeration_date\":\"not found\",\"last_updated\":\"not found\",\"status\":\"not found\",\"telephone_number\":\"not found\",\"title_or_position\":\"not found\",\"name_prefix\":\"not found\",\"name_suffix\":\"not found\",\"sole_proprietor\":\"not found\",\"gender\":\"not found\",\"name\":\"Sushil Kumar Singh\"},\"document\":{\"idProof\":false,\"registrationProof\":false,\"establishment\":false},\"address\":[],\"taxonomies\":[],\"practiceLocation\":[],\"diseases\":[],\"description\":\"NA\",\"steps\":[0,0,0,0],\"is_in_network\":true,\"is_superDoc\":false,\"location_ids\":[],\"isActive\":true,\"isApproved\":false,\"availability\":[],\"appointments\":[],\"picture\":[],\"profileStatus\":true,\"question\":[],\"appointmentsString\":\"{\\\"duration\\\":\\\"15\\\",\\\"id\\\":\\\"\\\",\\\"weekdaysArr\\\":[{\\\"days\\\":[\\\"wednesday\\\",\\\"thursday\\\",\\\"friday\\\"],\\\"startTime\\\":\\\"02:30\\\",\\\"endTime\\\":\\\"11:30\\\",\\\"lunchStart\\\":\\\"06:30\\\",\\\"lunchEnd\\\":\\\"07:30\\\"},{\\\"days\\\":[\\\"monday\\\",\\\"tuesday\\\"],\\\"startTime\\\":\\\"03:30\\\",\\\"endTime\\\":\\\"12:30\\\",\\\"lunchStart\\\":\\\"06:30\\\",\\\"lunchEnd\\\":\\\"07:30\\\"}]}\",\"onBoarding\":false,\"referrals\":[],\"latestAppointment\":[],\"payment\":true,\"isAssistant\":false,\"rights\":[],\"assistants\":[],\"charity\":false,\"clinic\":[],\"block\":false,\"deviceToken\":[],\"online\":false,\"socket\":[],\"conversations\":[],\"WaitingRoomSocket\":[],\"verify\":true,\"_id\":\"606ad7170030edda327b8051\",\"npi\":\"29046\",\"email\":\"sushil.kumar.singh@gmail.com\",\"password\":\"985c201c0983d138a856ffb0c8d53890\",\"specialty\":\"Special Interest in Pain Management\",\"customerProfile\":\"cus_JFJH14hV7OgDdo\",\"city\":\"Jharkhand\",\"state\":\"Ranchi\",\"country\":\"India\",\"firstName\":\"Sushil\",\"lastName\":\"Kumar Singh\",\"referralId\":\"Sushilifzll_d\",\"createdOn\":\"2021-04-05T09:23:35.527Z\",\"education\":[{\"_id\":\"606ad71c0030edda327b806e\",\"year\":1996,\"degree\":\"MBBS\",\"university\":\"Ranchi University\"},{\"_id\":\"606ad71c0030edda327b806f\",\"year\":null,\"degree\":\"Diploma in Anesthesiology\",\"university\":\"Rajendra Institute of Medical Sciences\"}],\"PatientsWaiting\":[],\"__v\":0,\"meta\":\"606ad7170030edda327b8052\",\"bio\":\"Dr. Sushil Kumar Singh is a Pain Management Specialist and Anesthesiologist in Lalpur, Ranchi and has an experience of 21 years in these fields. Dr. Sushil Kumar Singh practices at Radiant Pain Clinic in Lalpur, Ranchi. He completed Fellowship in Interventional Pain Management from The Pain Clinic, Daradia in 2014,MBBS from Ranchi University in 1996 and Diploma in Anesthesiology from Rajendra Institute of Medical Sciences, Ranchi in 2008. He is a member of Life Member ISCON. Some of the services provided by the doctor are: Joint Pain Treatment,Radio Frequency procedures,Plantar Fascitis,Anesthesia and Chronic Pain Treatment etc. \",\"fee\":500,\"gender\":\"male\"}}\n"
     ]
    },
    {
     "name": "stderr",
     "output_type": "stream",
     "text": [
      "\r\n",
      " 44%|████████████████████████████████████                                             | 76/171 [10:38<12:22,  7.81s/it]"
     ]
    },
    {
     "name": "stdout",
     "output_type": "stream",
     "text": [
      "{'status': True, 'message': 'Image uploaded successfully'}\n",
      "606ad7280030edda327b8070 sunil.kumar.jain@gmail.com\n",
      "{\"status\":true,\"message\":\"Profile successfully updated\",\"data\":{\"basic\":{\"organization_name\":\"not found\",\"organizational_subpart\":\"not found\",\"enumeration_date\":\"not found\",\"last_updated\":\"not found\",\"status\":\"not found\",\"telephone_number\":\"not found\",\"title_or_position\":\"not found\",\"name_prefix\":\"not found\",\"name_suffix\":\"not found\",\"sole_proprietor\":\"not found\",\"gender\":\"not found\",\"name\":\"Sunil Kumar Jain\"},\"document\":{\"idProof\":false,\"registrationProof\":false,\"establishment\":false},\"address\":[],\"taxonomies\":[],\"practiceLocation\":[],\"diseases\":[],\"description\":\"NA\",\"steps\":[0,0,0,0],\"is_in_network\":true,\"is_superDoc\":false,\"location_ids\":[],\"isActive\":true,\"isApproved\":false,\"availability\":[],\"appointments\":[],\"picture\":[],\"profileStatus\":true,\"question\":[],\"appointmentsString\":\"{\\\"duration\\\":\\\"15\\\",\\\"id\\\":\\\"\\\",\\\"weekdaysArr\\\":[{\\\"days\\\":[\\\"wednesday\\\",\\\"thursday\\\",\\\"friday\\\"],\\\"startTime\\\":\\\"02:30\\\",\\\"endTime\\\":\\\"11:30\\\",\\\"lunchStart\\\":\\\"06:30\\\",\\\"lunchEnd\\\":\\\"07:30\\\"},{\\\"days\\\":[\\\"monday\\\",\\\"tuesday\\\"],\\\"startTime\\\":\\\"03:30\\\",\\\"endTime\\\":\\\"12:30\\\",\\\"lunchStart\\\":\\\"06:30\\\",\\\"lunchEnd\\\":\\\"07:30\\\"}]}\",\"onBoarding\":false,\"referrals\":[],\"latestAppointment\":[],\"payment\":true,\"isAssistant\":false,\"rights\":[],\"assistants\":[],\"charity\":false,\"clinic\":[],\"block\":false,\"deviceToken\":[],\"online\":false,\"socket\":[],\"conversations\":[],\"WaitingRoomSocket\":[],\"verify\":true,\"_id\":\"606ad7280030edda327b8070\",\"npi\":\"25844\",\"email\":\"sunil.kumar.jain@gmail.com\",\"password\":\"985c201c0983d138a856ffb0c8d53890\",\"specialty\":\"Ophthalmologist/ Eye Surgeon\",\"customerProfile\":\"cus_JFJHzorNykX4e4\",\"city\":\"Jharkhand\",\"state\":\"Ranchi\",\"country\":\"India\",\"firstName\":\"Sunil\",\"lastName\":\"Kumar Jain\",\"referralId\":\"SunilLENHf_d\",\"createdOn\":\"2021-04-05T09:23:52.280Z\",\"education\":[{\"_id\":\"606ad72a0030edda327b8073\",\"year\":null,\"degree\":\"MBBS\",\"university\":\"Darbhanga Medical College And Hospital\"},{\"_id\":\"606ad72a0030edda327b8074\",\"year\":1995,\"degree\":\"DO\",\"university\":\"Sitapur Rai Hospital\"},{\"_id\":\"606ad72a0030edda327b8075\",\"year\":null,\"degree\":\"MS\",\"university\":\"Ophthalmology Darbhanga Medical College And Hospital\"}],\"PatientsWaiting\":[],\"__v\":0,\"meta\":\"606ad7280030edda327b8071\",\"bio\":\"Dr. Sunil Kumar Jain is a Ophthalmologist/ Eye Surgeon in Kutchery Road, Ranchi and has an experience of 28 years in this field. Dr. Sunil Kumar Jain practices at NETRAM in Kutchery Road, Ranchi. He completed MBBS from Darbhanga Medical College And Hospital, Bihar in 1993,DO from Sitapur Rai Hospital in 1995 and MS - Ophthalmology from Darbhanga Medical College And Hospital, Bihar in 2000. He is a member of All India Ophthalmological Society,EIZOC,Indian Medical Association (IMA),Delhi Ophthalmological Society (DOS) and Bihar Ophthalmological Society (BOS). Some of the services provided by the doctor are: Glaucoma Evaluation / Treatment,Corneal Surgery,Phacoemulsification Surgery,SICS and IOL Micro Surgery etc. \",\"fee\":300,\"gender\":\"male\"}}\n"
     ]
    },
    {
     "name": "stderr",
     "output_type": "stream",
     "text": [
      "\r\n",
      " 45%|████████████████████████████████████▍                                            | 77/171 [10:54<14:08,  9.02s/it]"
     ]
    },
    {
     "name": "stdout",
     "output_type": "stream",
     "text": [
      "{'status': True, 'message': 'Image uploaded successfully'}\n",
      "Not present Neeraj\n",
      "Not present Praveen\n",
      "Not present Nishant\n",
      "606ad7380030edda327b8090 raj.kumar.sharma@gmail.com\n",
      "{\"status\":true,\"message\":\"Profile successfully updated\",\"data\":{\"basic\":{\"organization_name\":\"not found\",\"organizational_subpart\":\"not found\",\"enumeration_date\":\"not found\",\"last_updated\":\"not found\",\"status\":\"not found\",\"telephone_number\":\"not found\",\"title_or_position\":\"not found\",\"name_prefix\":\"not found\",\"name_suffix\":\"not found\",\"sole_proprietor\":\"not found\",\"gender\":\"not found\",\"name\":\"Raj Kumar Sharma\"},\"document\":{\"idProof\":false,\"registrationProof\":false,\"establishment\":false},\"address\":[],\"taxonomies\":[],\"practiceLocation\":[],\"diseases\":[],\"description\":\"NA\",\"steps\":[0,0,0,0],\"is_in_network\":true,\"is_superDoc\":false,\"location_ids\":[],\"isActive\":true,\"isApproved\":false,\"availability\":[],\"appointments\":[],\"picture\":[],\"profileStatus\":true,\"question\":[],\"appointmentsString\":\"{\\\"duration\\\":\\\"15\\\",\\\"id\\\":\\\"\\\",\\\"weekdaysArr\\\":[{\\\"days\\\":[\\\"wednesday\\\",\\\"thursday\\\",\\\"friday\\\"],\\\"startTime\\\":\\\"02:30\\\",\\\"endTime\\\":\\\"11:30\\\",\\\"lunchStart\\\":\\\"06:30\\\",\\\"lunchEnd\\\":\\\"07:30\\\"},{\\\"days\\\":[\\\"monday\\\",\\\"tuesday\\\"],\\\"startTime\\\":\\\"03:30\\\",\\\"endTime\\\":\\\"12:30\\\",\\\"lunchStart\\\":\\\"06:30\\\",\\\"lunchEnd\\\":\\\"07:30\\\"}]}\",\"onBoarding\":false,\"referrals\":[],\"latestAppointment\":[],\"payment\":true,\"isAssistant\":false,\"rights\":[],\"assistants\":[],\"charity\":false,\"clinic\":[],\"block\":false,\"deviceToken\":[],\"online\":false,\"socket\":[],\"conversations\":[],\"WaitingRoomSocket\":[],\"verify\":true,\"_id\":\"606ad7380030edda327b8090\",\"npi\":\"556\",\"email\":\"raj.kumar.sharma@gmail.com\",\"password\":\"985c201c0983d138a856ffb0c8d53890\",\"specialty\":\"Urologist\",\"customerProfile\":\"cus_JFJHcIpAfT2JMk\",\"city\":\"Jharkhand\",\"state\":\"Ranchi\",\"country\":\"India\",\"firstName\":\"Raj\",\"lastName\":\"Kumar Sharma\",\"referralId\":\"Raj8GovY_d\",\"createdOn\":\"2021-04-05T09:24:08.824Z\",\"education\":[{\"_id\":\"606ad73c0030edda327b80ad\",\"year\":null,\"degree\":\"MBBS\",\"university\":\"Rajendra Institute of Medical Sciences\"},{\"_id\":\"606ad73c0030edda327b80ae\",\"year\":null,\"degree\":\"MS\",\"university\":\"General Surgery Rajendra Institute of Medical Sciences\"},{\"_id\":\"606ad73c0030edda327b80af\",\"year\":null,\"degree\":\"MCh\",\"university\":\"Urology The West Bengal University of Health Sciences (WBUHS)\"}],\"PatientsWaiting\":[],\"__v\":0,\"meta\":\"606ad7390030edda327b8091\",\"bio\":\"Expert in Stone surgeries, prostate related surgeries and advance Laparoscopic urological surgeries. Stone and Urology Clinic is a dedicated Urology hospital at Ranchi, Jharkhand. \",\"fee\":500,\"gender\":\"male\"}}\n"
     ]
    },
    {
     "name": "stderr",
     "output_type": "stream",
     "text": [
      "\r\n",
      " 47%|██████████████████████████████████████▎                                          | 81/171 [11:10<09:51,  6.57s/it]"
     ]
    },
    {
     "name": "stdout",
     "output_type": "stream",
     "text": [
      "{'status': True, 'message': 'Image uploaded successfully'}\n",
      "Not present Swati\n",
      "Not present Jyoti\n",
      "Not present Dr.Kundan\n",
      "Not present Sneha\n",
      "606ad7440030edda327b80b0 poonam.raj@gmail.com\n",
      "{\"status\":true,\"message\":\"Profile successfully updated\",\"data\":{\"basic\":{\"organization_name\":\"not found\",\"organizational_subpart\":\"not found\",\"enumeration_date\":\"not found\",\"last_updated\":\"not found\",\"status\":\"not found\",\"telephone_number\":\"not found\",\"title_or_position\":\"not found\",\"name_prefix\":\"not found\",\"name_suffix\":\"not found\",\"sole_proprietor\":\"not found\",\"gender\":\"not found\",\"name\":\"Poonam Raj\"},\"document\":{\"idProof\":false,\"registrationProof\":false,\"establishment\":false},\"address\":[],\"taxonomies\":[],\"practiceLocation\":[],\"diseases\":[],\"description\":\"NA\",\"steps\":[0,0,0,0],\"is_in_network\":true,\"is_superDoc\":false,\"location_ids\":[],\"isActive\":true,\"isApproved\":false,\"availability\":[],\"appointments\":[\"606ad7470030edda327b80b3\",\"606ad7470030edda327b80b4\",\"606ad7470030edda327b80b5\",\"606ad7470030edda327b80b6\",\"606ad7470030edda327b80b7\",\"606ad7470030edda327b80b8\",\"606ad7470030edda327b80b9\",\"606ad7470030edda327b80ba\",\"606ad7470030edda327b80bb\",\"606ad7470030edda327b80bc\",\"606ad7470030edda327b80bd\",\"606ad7470030edda327b80be\",\"606ad7470030edda327b80bf\",\"606ad7470030edda327b80c0\",\"606ad7470030edda327b80c1\",\"606ad7470030edda327b80c2\",\"606ad7470030edda327b80c3\",\"606ad7470030edda327b80c4\",\"606ad7470030edda327b80c5\",\"606ad7470030edda327b80c6\",\"606ad7470030edda327b80c7\",\"606ad7470030edda327b80c8\",\"606ad7470030edda327b80c9\",\"606ad7470030edda327b80ca\",\"606ad7470030edda327b80cb\",\"606ad7470030edda327b80cc\"],\"picture\":[],\"profileStatus\":true,\"question\":[],\"appointmentsString\":\"{\\\"duration\\\":\\\"15\\\",\\\"id\\\":\\\"\\\",\\\"weekdaysArr\\\":[{\\\"days\\\":[\\\"wednesday\\\",\\\"thursday\\\",\\\"friday\\\"],\\\"startTime\\\":\\\"02:30\\\",\\\"endTime\\\":\\\"11:30\\\",\\\"lunchStart\\\":\\\"06:30\\\",\\\"lunchEnd\\\":\\\"07:30\\\"},{\\\"days\\\":[\\\"monday\\\",\\\"tuesday\\\"],\\\"startTime\\\":\\\"03:30\\\",\\\"endTime\\\":\\\"12:30\\\",\\\"lunchStart\\\":\\\"06:30\\\",\\\"lunchEnd\\\":\\\"07:30\\\"}]}\",\"onBoarding\":false,\"referrals\":[],\"latestAppointment\":[\"606ad7470030edda327b80b3\",\"606ad7470030edda327b80b4\",\"606ad7470030edda327b80b5\"],\"payment\":true,\"isAssistant\":false,\"rights\":[],\"assistants\":[],\"charity\":false,\"clinic\":[],\"block\":false,\"deviceToken\":[],\"online\":false,\"socket\":[],\"conversations\":[],\"WaitingRoomSocket\":[],\"verify\":true,\"_id\":\"606ad7440030edda327b80b0\",\"npi\":\"24369\",\"email\":\"poonam.raj@gmail.com\",\"password\":\"985c201c0983d138a856ffb0c8d53890\",\"specialty\":\"Gynecologist\",\"customerProfile\":\"cus_JFJHlsP95KGiHK\",\"city\":\"Jharkhand\",\"state\":\"Ranchi\",\"country\":\"India\",\"firstName\":\"Poonam\",\"lastName\":\"Raj\",\"referralId\":\"Poonamhzixm_d\",\"createdOn\":\"2021-04-05T09:24:20.078Z\",\"education\":[{\"_id\":\"606ad74c0030edda327b80cd\",\"year\":null,\"degree\":\"MBBS\",\"university\":\"Rajendra Institute of Medical Sciences\"},{\"_id\":\"606ad74c0030edda327b80ce\",\"year\":null,\"degree\":\"Post Graduate Diploma in Maternity and Child Health (PGDMCH)\",\"university\":\"Rajendra Institute of Medical Sciences\"}],\"PatientsWaiting\":[],\"__v\":0,\"meta\":\"606ad7440030edda327b80b1\",\"bio\":\"Dr. Poonam Raj is a Gynecologist in Lalpur, Ranchi and has an experience of 30 years in this field. Dr. Poonam Raj practices at Poonam Health Centre in Lalpur, Ranchi. She completed MBBS from Rajendra Institute of Medical Sciences, Ranchi in 1987 and Post Graduate Diploma in Maternity and Child Health (PGDMCH) from Rajendra Institute of Medical Sciences, Ranchi in 1990. She is a member of Indian Medical Association (IMA). Some of the services provided by the doctor are: General Check up,Normal Vaginal Delivery (NVD),Maternal Care/ Checkup,Amniocentesis and Infectious Disease Treatment etc. \",\"fee\":500,\"gender\":\"female\"}}\n"
     ]
    },
    {
     "name": "stderr",
     "output_type": "stream",
     "text": [
      "\r\n",
      " 50%|████████████████████████████████████████▋                                        | 86/171 [11:25<07:04,  4.99s/it]"
     ]
    },
    {
     "name": "stdout",
     "output_type": "stream",
     "text": [
      "{'status': True, 'message': 'Image uploaded successfully'}\n",
      "Not present Raj\n",
      "Not present Vivek\n",
      "606ad7530030edda327b80cf rajesh.solanki@gmail.com\n",
      "{\"status\":true,\"message\":\"Profile successfully updated\",\"data\":{\"basic\":{\"organization_name\":\"not found\",\"organizational_subpart\":\"not found\",\"enumeration_date\":\"not found\",\"last_updated\":\"not found\",\"status\":\"not found\",\"telephone_number\":\"not found\",\"title_or_position\":\"not found\",\"name_prefix\":\"not found\",\"name_suffix\":\"not found\",\"sole_proprietor\":\"not found\",\"gender\":\"not found\",\"name\":\"Rajesh Solanki\"},\"document\":{\"idProof\":false,\"registrationProof\":false,\"establishment\":false},\"address\":[],\"taxonomies\":[],\"practiceLocation\":[],\"diseases\":[],\"description\":\"NA\",\"steps\":[0,0,0,0],\"is_in_network\":true,\"is_superDoc\":false,\"location_ids\":[],\"isActive\":true,\"isApproved\":false,\"availability\":[],\"appointments\":[\"606ad7560030edda327b80d2\",\"606ad7560030edda327b80d3\",\"606ad7560030edda327b80d4\",\"606ad7560030edda327b80d5\",\"606ad7560030edda327b80d6\",\"606ad7560030edda327b80d7\",\"606ad7560030edda327b80d8\",\"606ad7560030edda327b80d9\",\"606ad7560030edda327b80da\",\"606ad7560030edda327b80db\",\"606ad7560030edda327b80dc\",\"606ad7560030edda327b80dd\",\"606ad7560030edda327b80de\",\"606ad7560030edda327b80df\",\"606ad7560030edda327b80e0\",\"606ad7560030edda327b80e1\",\"606ad7560030edda327b80e2\",\"606ad7560030edda327b80e3\",\"606ad7560030edda327b80e4\",\"606ad7560030edda327b80e5\",\"606ad7560030edda327b80e6\",\"606ad7560030edda327b80e7\",\"606ad7560030edda327b80e8\",\"606ad7560030edda327b80e9\",\"606ad7560030edda327b80ea\",\"606ad7560030edda327b80eb\"],\"picture\":[],\"profileStatus\":true,\"question\":[],\"appointmentsString\":\"{\\\"duration\\\":\\\"15\\\",\\\"id\\\":\\\"\\\",\\\"weekdaysArr\\\":[{\\\"days\\\":[\\\"wednesday\\\",\\\"thursday\\\",\\\"friday\\\"],\\\"startTime\\\":\\\"02:30\\\",\\\"endTime\\\":\\\"11:30\\\",\\\"lunchStart\\\":\\\"06:30\\\",\\\"lunchEnd\\\":\\\"07:30\\\"},{\\\"days\\\":[\\\"monday\\\",\\\"tuesday\\\"],\\\"startTime\\\":\\\"03:30\\\",\\\"endTime\\\":\\\"12:30\\\",\\\"lunchStart\\\":\\\"06:30\\\",\\\"lunchEnd\\\":\\\"07:30\\\"}]}\",\"onBoarding\":false,\"referrals\":[],\"latestAppointment\":[\"606ad7560030edda327b80d2\",\"606ad7560030edda327b80d3\",\"606ad7560030edda327b80d4\"],\"payment\":true,\"isAssistant\":false,\"rights\":[],\"assistants\":[],\"charity\":false,\"clinic\":[],\"block\":false,\"deviceToken\":[],\"online\":false,\"socket\":[],\"conversations\":[],\"WaitingRoomSocket\":[],\"verify\":true,\"_id\":\"606ad7530030edda327b80cf\",\"npi\":\"A-107\",\"email\":\"rajesh.solanki@gmail.com\",\"password\":\"985c201c0983d138a856ffb0c8d53890\",\"specialty\":\"Cosmetic/Aesthetic Dentist\",\"customerProfile\":\"cus_JFJI8iCeyOYVjQ\",\"city\":\"Jharkhand\",\"state\":\"Ranchi\",\"country\":\"India\",\"firstName\":\"Rajesh\",\"lastName\":\"Solanki\",\"referralId\":\"Rajeshi3BWI_d\",\"createdOn\":\"2021-04-05T09:24:35.380Z\",\"education\":[{\"_id\":\"606ad75d0030edda327b80ec\",\"year\":2014,\"degree\":\"BDS\",\"university\":\"Hazaribag College of Dental Sciences and Hospital\"}],\"PatientsWaiting\":[],\"__v\":0,\"meta\":\"606ad7530030edda327b80d0\",\"bio\":\"Dr. Rajesh Solanki is a Cosmetic/Aesthetic Dentist,Dentist and Restorative Dentist in Kodarma, Koderma and has an experience of 7 years in these fields. Dr. Rajesh Solanki practices at Dr Smile Dental Clinic in Kodarma, Koderma and YOUR DENTIST...a superspeciality dental clinic in Deputy Para, Ranchi. He completed BDS from Hazaribag College of Dental Sciences and Hospital in 2014. He is a member of Indian Dental Association. Some of the services provided by the doctor are: Dental Fillings,Tongue Tie Release,Zirconia Crowns,Ceramic Veneers / Crowns and Disclusion Time Reduction (DTR) etc. \",\"fee\":200,\"gender\":\"male\"}}\n"
     ]
    },
    {
     "name": "stderr",
     "output_type": "stream",
     "text": [
      "\r\n",
      " 52%|██████████████████████████████████████████▏                                      | 89/171 [11:43<07:08,  5.23s/it]"
     ]
    },
    {
     "name": "stdout",
     "output_type": "stream",
     "text": [
      "{'status': True, 'message': 'Image uploaded successfully'}\n",
      "606ad7650030edda327b80ed anant.kumar@gmail.com\n",
      "{\"status\":true,\"message\":\"Profile successfully updated\",\"data\":{\"basic\":{\"organization_name\":\"not found\",\"organizational_subpart\":\"not found\",\"enumeration_date\":\"not found\",\"last_updated\":\"not found\",\"status\":\"not found\",\"telephone_number\":\"not found\",\"title_or_position\":\"not found\",\"name_prefix\":\"not found\",\"name_suffix\":\"not found\",\"sole_proprietor\":\"not found\",\"gender\":\"not found\",\"name\":\"Anant Kumar\"},\"document\":{\"idProof\":false,\"registrationProof\":false,\"establishment\":false},\"address\":[],\"taxonomies\":[],\"practiceLocation\":[],\"diseases\":[],\"description\":\"NA\",\"steps\":[0,0,0,0],\"is_in_network\":true,\"is_superDoc\":false,\"location_ids\":[],\"isActive\":true,\"isApproved\":false,\"availability\":[],\"appointments\":[],\"picture\":[],\"profileStatus\":true,\"question\":[],\"appointmentsString\":\"{\\\"duration\\\":\\\"15\\\",\\\"id\\\":\\\"\\\",\\\"weekdaysArr\\\":[{\\\"days\\\":[\\\"wednesday\\\",\\\"thursday\\\",\\\"friday\\\"],\\\"startTime\\\":\\\"02:30\\\",\\\"endTime\\\":\\\"11:30\\\",\\\"lunchStart\\\":\\\"06:30\\\",\\\"lunchEnd\\\":\\\"07:30\\\"},{\\\"days\\\":[\\\"monday\\\",\\\"tuesday\\\"],\\\"startTime\\\":\\\"03:30\\\",\\\"endTime\\\":\\\"12:30\\\",\\\"lunchStart\\\":\\\"06:30\\\",\\\"lunchEnd\\\":\\\"07:30\\\"}]}\",\"onBoarding\":false,\"referrals\":[],\"latestAppointment\":[],\"payment\":true,\"isAssistant\":false,\"rights\":[],\"assistants\":[],\"charity\":false,\"clinic\":[],\"block\":false,\"deviceToken\":[],\"online\":false,\"socket\":[],\"conversations\":[],\"WaitingRoomSocket\":[],\"verify\":true,\"_id\":\"606ad7650030edda327b80ed\",\"npi\":\"A03573\",\"email\":\"anant.kumar@gmail.com\",\"password\":\"985c201c0983d138a856ffb0c8d53890\",\"specialty\":\"Psychologist\",\"customerProfile\":\"cus_JFJIknEMWfmGsF\",\"city\":\"Jharkhand\",\"state\":\"Ranchi\",\"country\":\"India\",\"firstName\":\"Anant\",\"lastName\":\"Kumar\",\"referralId\":\"AnantKNZx2_d\",\"createdOn\":\"2021-04-05T09:24:53.146Z\",\"education\":[{\"_id\":\"606ad7670030edda327b80f0\",\"year\":1998,\"degree\":\"MA\",\"university\":\"Psychology University Of Allahabad\"},{\"_id\":\"606ad7670030edda327b80f1\",\"year\":1996,\"degree\":\"BA\",\"university\":\"Psychology University Of Allahabad\"},{\"_id\":\"606ad7670030edda327b80f2\",\"year\":2002,\"degree\":\"M.Phil \",\"university\":\"Mental Health Services JNU Delhi\"}],\"PatientsWaiting\":[],\"__v\":0,\"meta\":\"606ad7650030edda327b80ee\",\"bio\":\"Dr. Anant Kumar is a Practicing Psychologist in private and helps people with a range of psychological problems to improve their lives. He specializes in counseling and helps people to understand their self and personality, human reactions, emotions and behavior to treat problems. Dr. Kumar is a Fulbright Scholar and an Associate Professor in the Department of Rural Management at Xavier Institute of Social Service (XISS), Ranchi, Jharkhand, India. He offers courses in Behavioural Science, Personality Development, and Public Health. His areas of work and research interests are human behavior, public health, and mental health. \",\"fee\":500,\"gender\":\"male\"}}\n"
     ]
    },
    {
     "name": "stderr",
     "output_type": "stream",
     "text": [
      "\r\n",
      " 53%|██████████████████████████████████████████▋                                      | 90/171 [11:54<08:02,  5.96s/it]"
     ]
    },
    {
     "name": "stdout",
     "output_type": "stream",
     "text": [
      "{'status': True, 'message': 'Image uploaded successfully'}\n",
      "Not present Abhishek\n",
      "606ad7700030edda327b810d alok.ranjan@gmail.com\n",
      "{\"status\":true,\"message\":\"Profile successfully updated\",\"data\":{\"basic\":{\"organization_name\":\"not found\",\"organizational_subpart\":\"not found\",\"enumeration_date\":\"not found\",\"last_updated\":\"not found\",\"status\":\"not found\",\"telephone_number\":\"not found\",\"title_or_position\":\"not found\",\"name_prefix\":\"not found\",\"name_suffix\":\"not found\",\"sole_proprietor\":\"not found\",\"gender\":\"not found\",\"name\":\"Alok Ranjan\"},\"document\":{\"idProof\":false,\"registrationProof\":false,\"establishment\":false},\"address\":[],\"taxonomies\":[],\"practiceLocation\":[],\"diseases\":[],\"description\":\"NA\",\"steps\":[0,0,0,0],\"is_in_network\":true,\"is_superDoc\":false,\"location_ids\":[],\"isActive\":true,\"isApproved\":false,\"availability\":[],\"appointments\":[],\"picture\":[],\"profileStatus\":true,\"question\":[],\"appointmentsString\":\"{\\\"duration\\\":\\\"15\\\",\\\"id\\\":\\\"\\\",\\\"weekdaysArr\\\":[{\\\"days\\\":[\\\"wednesday\\\",\\\"thursday\\\",\\\"friday\\\"],\\\"startTime\\\":\\\"02:30\\\",\\\"endTime\\\":\\\"11:30\\\",\\\"lunchStart\\\":\\\"06:30\\\",\\\"lunchEnd\\\":\\\"07:30\\\"},{\\\"days\\\":[\\\"monday\\\",\\\"tuesday\\\"],\\\"startTime\\\":\\\"03:30\\\",\\\"endTime\\\":\\\"12:30\\\",\\\"lunchStart\\\":\\\"06:30\\\",\\\"lunchEnd\\\":\\\"07:30\\\"}]}\",\"onBoarding\":false,\"referrals\":[],\"latestAppointment\":[],\"payment\":true,\"isAssistant\":false,\"rights\":[],\"assistants\":[],\"charity\":false,\"clinic\":[],\"block\":false,\"deviceToken\":[],\"online\":false,\"socket\":[],\"conversations\":[],\"WaitingRoomSocket\":[],\"verify\":true,\"_id\":\"606ad7700030edda327b810d\",\"npi\":\"31686\",\"email\":\"alok.ranjan@gmail.com\",\"password\":\"985c201c0983d138a856ffb0c8d53890\",\"specialty\":\"Orthopedist\",\"customerProfile\":\"cus_JFJIXXV0rgSeVJ\",\"city\":\"Jharkhand\",\"state\":\"Ranchi\",\"country\":\"India\",\"firstName\":\"Alok\",\"lastName\":\"Ranjan\",\"referralId\":\"Alokrldy7_d\",\"createdOn\":\"2021-04-05T09:25:04.742Z\",\"education\":[{\"_id\":\"606ad7730030edda327b8110\",\"year\":2008,\"degree\":\"MS\",\"university\":\"Orthopaedics USAIM (University of Seychelles,American Institute of Medicine)\"},{\"_id\":\"606ad7730030edda327b8111\",\"year\":2009,\"degree\":\"DNB\",\"university\":\"Orthopedics/Orthopedic Surgery NBE\"},{\"_id\":\"606ad7730030edda327b8112\",\"year\":2008,\"degree\":\"Diploma in Orthopaedics\",\"university\":\"College of physicians and Surgeons Mumbai\"}],\"PatientsWaiting\":[],\"__v\":0,\"meta\":\"606ad7700030edda327b810e\",\"bio\":\"Dr. Alok Ranjan is a Orthopedist in Harmu Housing Colony, Ranchi and has an experience of 13 years in this field. Dr. Alok Ranjan practices at Orthoplus+ Hospital in Harmu Housing Colony, Ranchi. He completed MS - Orthopaedics from USAIM (University of Seychelles,American Institute of Medicine) in 2008,DNB - Orthopedics/Orthopedic Surgery from NBE in 2009 and Diploma in Orthopaedics from College of physicians and Surgeons Mumbai in 2008. He is a member of Indian Medical Association (IMA). Some of the services provided by the doctor are: Spinal Therapy,Arthroscopy,Spinal Deformity Correction and Spinal Surgery etc. \",\"fee\":700,\"gender\":\"male\"}}\n"
     ]
    },
    {
     "name": "stderr",
     "output_type": "stream",
     "text": [
      "\r\n",
      " 54%|███████████████████████████████████████████▌                                     | 92/171 [12:10<08:29,  6.45s/it]"
     ]
    },
    {
     "name": "stdout",
     "output_type": "stream",
     "text": [
      "{'status': True, 'message': 'Image uploaded successfully'}\n",
      "606ad7820030edda327b812d vishal@gmail.com\n",
      "{\"status\":true,\"message\":\"Profile successfully updated\",\"data\":{\"basic\":{\"organization_name\":\"not found\",\"organizational_subpart\":\"not found\",\"enumeration_date\":\"not found\",\"last_updated\":\"not found\",\"status\":\"not found\",\"telephone_number\":\"not found\",\"title_or_position\":\"not found\",\"name_prefix\":\"not found\",\"name_suffix\":\"not found\",\"sole_proprietor\":\"not found\",\"gender\":\"not found\",\"name\":\"Vishal \"},\"document\":{\"idProof\":false,\"registrationProof\":false,\"establishment\":false},\"address\":[],\"taxonomies\":[],\"practiceLocation\":[],\"diseases\":[],\"description\":\"NA\",\"steps\":[0,0,0,0],\"is_in_network\":true,\"is_superDoc\":false,\"location_ids\":[],\"isActive\":true,\"isApproved\":false,\"availability\":[],\"appointments\":[],\"picture\":[],\"profileStatus\":true,\"question\":[],\"appointmentsString\":\"{\\\"duration\\\":\\\"15\\\",\\\"id\\\":\\\"\\\",\\\"weekdaysArr\\\":[{\\\"days\\\":[\\\"wednesday\\\",\\\"thursday\\\",\\\"friday\\\"],\\\"startTime\\\":\\\"02:30\\\",\\\"endTime\\\":\\\"11:30\\\",\\\"lunchStart\\\":\\\"06:30\\\",\\\"lunchEnd\\\":\\\"07:30\\\"},{\\\"days\\\":[\\\"monday\\\",\\\"tuesday\\\"],\\\"startTime\\\":\\\"03:30\\\",\\\"endTime\\\":\\\"12:30\\\",\\\"lunchStart\\\":\\\"06:30\\\",\\\"lunchEnd\\\":\\\"07:30\\\"}]}\",\"onBoarding\":false,\"referrals\":[],\"latestAppointment\":[],\"payment\":true,\"isAssistant\":false,\"rights\":[],\"assistants\":[],\"charity\":false,\"clinic\":[],\"block\":false,\"deviceToken\":[],\"online\":false,\"socket\":[],\"conversations\":[],\"WaitingRoomSocket\":[],\"verify\":true,\"_id\":\"606ad7820030edda327b812d\",\"npi\":\"A-88\",\"email\":\"vishal@gmail.com\",\"password\":\"985c201c0983d138a856ffb0c8d53890\",\"specialty\":\"Dental Surgeon\",\"customerProfile\":\"cus_JFJJF3GZX7mb3m\",\"city\":\"Jharkhand\",\"state\":\"Ranchi\",\"country\":\"India\",\"firstName\":\"Vishal\",\"lastName\":\"\",\"referralId\":\"Vishal6ePln_d\",\"createdOn\":\"2021-04-05T09:25:22.400Z\",\"education\":[{\"_id\":\"606ad7870030edda327b814a\",\"year\":2015,\"degree\":\"BDS\",\"university\":\"Buddha Institute of Dental Sciences  Hospital\"}],\"PatientsWaiting\":[],\"__v\":0,\"meta\":\"606ad7820030edda327b812e\",\"bio\":\"Dr. Vishal is a Dental Surgeon and Dentist in Argora, Ranchi and has an experience of 6 years in these fields. Dr. Vishal practices at Dant Aarogyam Seva Sadan in Argora, Ranchi. He completed BDS from Buddha Institute of Dental Sciences Hospital in 2015. \",\"fee\":150,\"gender\":\"male\"}}\n"
     ]
    },
    {
     "name": "stderr",
     "output_type": "stream",
     "text": [
      "\r\n",
      " 54%|████████████████████████████████████████████                                     | 93/171 [12:24<09:59,  7.69s/it]"
     ]
    },
    {
     "name": "stdout",
     "output_type": "stream",
     "text": [
      "{'status': True, 'message': 'Image uploaded successfully'}\n",
      "606ad78e0030edda327b814b prem.bhushan@gmail.com\n",
      "{\"status\":true,\"message\":\"Profile successfully updated\",\"data\":{\"basic\":{\"organization_name\":\"not found\",\"organizational_subpart\":\"not found\",\"enumeration_date\":\"not found\",\"last_updated\":\"not found\",\"status\":\"not found\",\"telephone_number\":\"not found\",\"title_or_position\":\"not found\",\"name_prefix\":\"not found\",\"name_suffix\":\"not found\",\"sole_proprietor\":\"not found\",\"gender\":\"not found\",\"name\":\"Prem Bhushan\"},\"document\":{\"idProof\":false,\"registrationProof\":false,\"establishment\":false},\"address\":[],\"taxonomies\":[],\"practiceLocation\":[],\"diseases\":[],\"description\":\"NA\",\"steps\":[0,0,0,0],\"is_in_network\":true,\"is_superDoc\":false,\"location_ids\":[],\"isActive\":true,\"isApproved\":false,\"availability\":[],\"appointments\":[],\"picture\":[],\"profileStatus\":true,\"question\":[],\"appointmentsString\":\"{\\\"duration\\\":\\\"15\\\",\\\"id\\\":\\\"\\\",\\\"weekdaysArr\\\":[{\\\"days\\\":[\\\"wednesday\\\",\\\"thursday\\\",\\\"friday\\\"],\\\"startTime\\\":\\\"02:30\\\",\\\"endTime\\\":\\\"11:30\\\",\\\"lunchStart\\\":\\\"06:30\\\",\\\"lunchEnd\\\":\\\"07:30\\\"},{\\\"days\\\":[\\\"monday\\\",\\\"tuesday\\\"],\\\"startTime\\\":\\\"03:30\\\",\\\"endTime\\\":\\\"12:30\\\",\\\"lunchStart\\\":\\\"06:30\\\",\\\"lunchEnd\\\":\\\"07:30\\\"}]}\",\"onBoarding\":false,\"referrals\":[],\"latestAppointment\":[],\"payment\":true,\"isAssistant\":false,\"rights\":[],\"assistants\":[],\"charity\":false,\"clinic\":[],\"block\":false,\"deviceToken\":[],\"online\":false,\"socket\":[],\"conversations\":[],\"WaitingRoomSocket\":[],\"verify\":true,\"_id\":\"606ad78e0030edda327b814b\",\"npi\":\"A-\",\"email\":\"prem.bhushan@gmail.com\",\"password\":\"985c201c0983d138a856ffb0c8d53890\",\"specialty\":\"Prosthodontist\",\"customerProfile\":\"cus_JFJJBK979pvXCU\",\"city\":\"Jharkhand\",\"state\":\"Ranchi\",\"country\":\"India\",\"firstName\":\"Prem\",\"lastName\":\"Bhushan\",\"referralId\":\"PremrcW5J_d\",\"createdOn\":\"2021-04-05T09:25:34.653Z\",\"education\":[{\"_id\":\"606ad7900030edda327b814e\",\"year\":null,\"degree\":\"BDS\",\"university\":\"SDM College of Dental Sciences\"},{\"_id\":\"606ad7900030edda327b814f\",\"year\":2016,\"degree\":\"MDS\",\"university\":\"Prosthodontist And Crown Bridge Government Dental College\"},{\"_id\":\"606ad7900030edda327b8150\",\"year\":null,\"degree\":\"Fellowship in Oral implantlogy\",\"university\":\"Nobel Biocare\"}],\"PatientsWaiting\":[],\"__v\":0,\"meta\":\"606ad78e0030edda327b814c\",\"bio\":\"Dr. Prem Bhushan Director - Bhushan Dental Clinic (Multispeciality Dental Clinic) Prosthodontist, Crown & Bridge, Aesthetic Dentistry & Oral Implantologist. Dr. Prem Bhushan is a passionate Prosthodontist & Oral Implantologist having a clinical experience of almost a decade. Currently started a multispeciality dental clinic in Ranchi (Hinoo - Birsa Chowk). He started his career by doing his BDS from SDM College of Dental Sciences, Dharwad in 2006 and later after qualifying All India Postgraduate exam, MDS in Dept. of Prosthodontics & Oral Implantology from Govt. Dental College, Goa. He has been awarded Gold medal in the field of Prosthodontics both during his graduation wherein he Ranked 10th in Karnataka State & post-graduation. He was also awarded as the best outgoing student by honorary Dr. D. Veerendra Heggade. He has been recently bestowed Gold medal by President of India for his exemplary work in the field of Prosthodontics (2017). He specializes in All-on- 4 implants Restoration, Full-mouth Rehabilitation, T.M.J, Occlusion, Maxillofacial prosthesis and management of failing dentition. His work on “Neuroprosthetic rehabilitation of acquired cranial defects”, brought him accolades from the national Prosthodontic society in which titanium was used for the first time in Goa. Dr. Prem Bhushan is an author to numerous publications in various peer- reviewed Journals. He has also given a unique subgingival implant crown cementation technique in the field of Implantology which has been published in renowned International Journal of Prosthodontics. \",\"fee\":200,\"gender\":\"male\"}}\n"
     ]
    },
    {
     "name": "stderr",
     "output_type": "stream",
     "text": [
      "\r\n",
      " 55%|████████████████████████████████████████████▌                                    | 94/171 [12:37<10:57,  8.54s/it]"
     ]
    },
    {
     "name": "stdout",
     "output_type": "stream",
     "text": [
      "{'status': True, 'message': 'Image uploaded successfully'}\n",
      "606ad79c0030edda327b816b mohini.srivastava@gmail.com\n",
      "{\"status\":true,\"message\":\"Profile successfully updated\",\"data\":{\"basic\":{\"organization_name\":\"not found\",\"organizational_subpart\":\"not found\",\"enumeration_date\":\"not found\",\"last_updated\":\"not found\",\"status\":\"not found\",\"telephone_number\":\"not found\",\"title_or_position\":\"not found\",\"name_prefix\":\"not found\",\"name_suffix\":\"not found\",\"sole_proprietor\":\"not found\",\"gender\":\"not found\",\"name\":\"Mohini Srivastava\"},\"document\":{\"idProof\":false,\"registrationProof\":false,\"establishment\":false},\"address\":[],\"taxonomies\":[],\"practiceLocation\":[],\"diseases\":[],\"description\":\"NA\",\"steps\":[0,0,0,0],\"is_in_network\":true,\"is_superDoc\":false,\"location_ids\":[],\"isActive\":true,\"isApproved\":false,\"availability\":[],\"appointments\":[],\"picture\":[],\"profileStatus\":true,\"question\":[],\"appointmentsString\":\"{\\\"duration\\\":\\\"15\\\",\\\"id\\\":\\\"\\\",\\\"weekdaysArr\\\":[{\\\"days\\\":[\\\"wednesday\\\",\\\"thursday\\\",\\\"friday\\\"],\\\"startTime\\\":\\\"02:30\\\",\\\"endTime\\\":\\\"11:30\\\",\\\"lunchStart\\\":\\\"06:30\\\",\\\"lunchEnd\\\":\\\"07:30\\\"},{\\\"days\\\":[\\\"monday\\\",\\\"tuesday\\\"],\\\"startTime\\\":\\\"03:30\\\",\\\"endTime\\\":\\\"12:30\\\",\\\"lunchStart\\\":\\\"06:30\\\",\\\"lunchEnd\\\":\\\"07:30\\\"}]}\",\"onBoarding\":false,\"referrals\":[],\"latestAppointment\":[],\"payment\":true,\"isAssistant\":false,\"rights\":[],\"assistants\":[],\"charity\":false,\"clinic\":[],\"block\":false,\"deviceToken\":[],\"online\":false,\"socket\":[],\"conversations\":[],\"WaitingRoomSocket\":[],\"verify\":true,\"_id\":\"606ad79c0030edda327b816b\",\"npi\":\"A-177\",\"email\":\"mohini.srivastava@gmail.com\",\"password\":\"985c201c0983d138a856ffb0c8d53890\",\"specialty\":\"Dental Surgeon\",\"customerProfile\":\"cus_JFJJKmkdb85Kt2\",\"city\":\"Jharkhand\",\"state\":\"Ranchi\",\"country\":\"India\",\"firstName\":\"Mohini\",\"lastName\":\"Srivastava\",\"referralId\":\"Mohini87g8v_d\",\"createdOn\":\"2021-04-05T09:25:48.643Z\",\"education\":[{\"_id\":\"606ad7a10030edda327b8188\",\"year\":null,\"degree\":\"BDS\",\"university\":\"Awadh Dental College\"}],\"PatientsWaiting\":[],\"__v\":0,\"meta\":\"606ad79c0030edda327b816c\",\"bio\":\"Dr. Mohini Srivastava says \\\"Dentistry is not just a job, it's my love and passion. I love to bring smile on painful faces. Services available at my clinic are as follows:- *Dental X-ray *Oral Prophylaxis (Teeth Cleaning) *Teeth Extraction *Teeth Restoration With LASER *RCT -Single sitting & Multiple sitting *Crown and Bridge(Fixed Teeth) -Metal crown -PFM crown -Zirconia(Metal Free Crown) *Removable Partial Denture *Complete Denture -Acrylic -Flexible *Dental Jewellery *Treatment of children teeth & Much more\\\". \",\"fee\":200,\"gender\":\"female\"}}\n"
     ]
    },
    {
     "name": "stderr",
     "output_type": "stream",
     "text": [
      "\r\n",
      " 56%|█████████████████████████████████████████████                                    | 95/171 [12:49<11:38,  9.20s/it]"
     ]
    },
    {
     "name": "stdout",
     "output_type": "stream",
     "text": [
      "{'status': True, 'message': 'Image uploaded successfully'}\n",
      "606ad7a60030edda327b8189 niyanta.krati@gmail.com\n",
      "{\"status\":true,\"message\":\"Profile successfully updated\",\"data\":{\"basic\":{\"organization_name\":\"not found\",\"organizational_subpart\":\"not found\",\"enumeration_date\":\"not found\",\"last_updated\":\"not found\",\"status\":\"not found\",\"telephone_number\":\"not found\",\"title_or_position\":\"not found\",\"name_prefix\":\"not found\",\"name_suffix\":\"not found\",\"sole_proprietor\":\"not found\",\"gender\":\"not found\",\"name\":\"Niyanta Krati\"},\"document\":{\"idProof\":false,\"registrationProof\":false,\"establishment\":false},\"address\":[],\"taxonomies\":[],\"practiceLocation\":[],\"diseases\":[],\"description\":\"NA\",\"steps\":[0,0,0,0],\"is_in_network\":true,\"is_superDoc\":false,\"location_ids\":[],\"isActive\":true,\"isApproved\":false,\"availability\":[],\"appointments\":[],\"picture\":[],\"profileStatus\":true,\"question\":[],\"appointmentsString\":\"{\\\"duration\\\":\\\"15\\\",\\\"id\\\":\\\"\\\",\\\"weekdaysArr\\\":[{\\\"days\\\":[\\\"wednesday\\\",\\\"thursday\\\",\\\"friday\\\"],\\\"startTime\\\":\\\"02:30\\\",\\\"endTime\\\":\\\"11:30\\\",\\\"lunchStart\\\":\\\"06:30\\\",\\\"lunchEnd\\\":\\\"07:30\\\"},{\\\"days\\\":[\\\"monday\\\",\\\"tuesday\\\"],\\\"startTime\\\":\\\"03:30\\\",\\\"endTime\\\":\\\"12:30\\\",\\\"lunchStart\\\":\\\"06:30\\\",\\\"lunchEnd\\\":\\\"07:30\\\"}]}\",\"onBoarding\":false,\"referrals\":[],\"latestAppointment\":[],\"payment\":true,\"isAssistant\":false,\"rights\":[],\"assistants\":[],\"charity\":false,\"clinic\":[],\"block\":false,\"deviceToken\":[],\"online\":false,\"socket\":[],\"conversations\":[],\"WaitingRoomSocket\":[],\"verify\":true,\"_id\":\"606ad7a60030edda327b8189\",\"npi\":\"11966\",\"email\":\"niyanta.krati@gmail.com\",\"password\":\"985c201c0983d138a856ffb0c8d53890\",\"specialty\":\"Dentist\",\"customerProfile\":\"cus_JFJJzgaMU1Cnbu\",\"city\":\"Jharkhand\",\"state\":\"Ranchi\",\"country\":\"India\",\"firstName\":\"Niyanta\",\"lastName\":\"Krati\",\"referralId\":\"NiyantadBWwM_d\",\"createdOn\":\"2021-04-05T09:25:58.594Z\",\"education\":[{\"_id\":\"606ad7a70030edda327b818c\",\"year\":null,\"degree\":\"BDS\",\"university\":\"Rama Dental College\"}],\"PatientsWaiting\":[],\"__v\":0,\"meta\":\"606ad7a60030edda327b818a\",\"bio\":\"Dr. Niyanta Krati is a Dentist in Harmu Housing Colony, Ranchi and has an experience of 9 years in this field. Dr. Niyanta Krati practices at Just Clean Smiles Dental Clinic in Harmu Housing Colony, Ranchi. She completed BDS from Rama Dental College, Kanpur in 2012. She is a member of Indian Dental Association. Some of the services provided by the doctor are: Scaling / Polishing,Dental Fillings,Artificial Teeth,Complete/Partial Dentures Fixing and Impaction / Impacted Tooth Extraction etc. \",\"fee\":200,\"gender\":\"female\"}}\n"
     ]
    },
    {
     "name": "stderr",
     "output_type": "stream",
     "text": [
      "\r\n",
      " 56%|█████████████████████████████████████████████▍                                   | 96/171 [12:55<10:36,  8.49s/it]"
     ]
    },
    {
     "name": "stdout",
     "output_type": "stream",
     "text": [
      "{'status': True, 'message': 'Image uploaded successfully'}\n",
      "606ad7ac0030edda327b81a7 abhay.kumar.jain@gmail.com\n",
      "{\"status\":true,\"message\":\"Profile successfully updated\",\"data\":{\"basic\":{\"organization_name\":\"not found\",\"organizational_subpart\":\"not found\",\"enumeration_date\":\"not found\",\"last_updated\":\"not found\",\"status\":\"not found\",\"telephone_number\":\"not found\",\"title_or_position\":\"not found\",\"name_prefix\":\"not found\",\"name_suffix\":\"not found\",\"sole_proprietor\":\"not found\",\"gender\":\"not found\",\"name\":\"Abhay Kumar Jain\"},\"document\":{\"idProof\":false,\"registrationProof\":false,\"establishment\":false},\"address\":[],\"taxonomies\":[],\"practiceLocation\":[],\"diseases\":[],\"description\":\"NA\",\"steps\":[0,0,0,0],\"is_in_network\":true,\"is_superDoc\":false,\"location_ids\":[],\"isActive\":true,\"isApproved\":false,\"availability\":[],\"appointments\":[],\"picture\":[],\"profileStatus\":true,\"question\":[],\"appointmentsString\":\"{\\\"duration\\\":\\\"15\\\",\\\"id\\\":\\\"\\\",\\\"weekdaysArr\\\":[{\\\"days\\\":[\\\"wednesday\\\",\\\"thursday\\\",\\\"friday\\\"],\\\"startTime\\\":\\\"02:30\\\",\\\"endTime\\\":\\\"11:30\\\",\\\"lunchStart\\\":\\\"06:30\\\",\\\"lunchEnd\\\":\\\"07:30\\\"},{\\\"days\\\":[\\\"monday\\\",\\\"tuesday\\\"],\\\"startTime\\\":\\\"03:30\\\",\\\"endTime\\\":\\\"12:30\\\",\\\"lunchStart\\\":\\\"06:30\\\",\\\"lunchEnd\\\":\\\"07:30\\\"}]}\",\"onBoarding\":false,\"referrals\":[],\"latestAppointment\":[],\"payment\":true,\"isAssistant\":false,\"rights\":[],\"assistants\":[],\"charity\":false,\"clinic\":[],\"block\":false,\"deviceToken\":[],\"online\":false,\"socket\":[],\"conversations\":[],\"WaitingRoomSocket\":[],\"verify\":true,\"_id\":\"606ad7ac0030edda327b81a7\",\"npi\":\"18923\",\"email\":\"abhay.kumar.jain@gmail.com\",\"password\":\"985c201c0983d138a856ffb0c8d53890\",\"specialty\":\"Dental Surgeon\",\"customerProfile\":\"cus_JFJJM84TeV9wbD\",\"city\":\"Jharkhand\",\"state\":\"Ranchi\",\"country\":\"India\",\"firstName\":\"Abhay\",\"lastName\":\"Kumar Jain\",\"referralId\":\"AbhayfblGS_d\",\"createdOn\":\"2021-04-05T09:26:04.684Z\",\"education\":[{\"_id\":\"606ad7ad0030edda327b81aa\",\"year\":2006,\"degree\":\"BDS\",\"university\":\"Manipal University\"},{\"_id\":\"606ad7ad0030edda327b81ab\",\"year\":2010,\"degree\":\"MDS\",\"university\":\"Orthodontics Rajiv Gandhi University of Health Sciences\"}],\"PatientsWaiting\":[],\"__v\":0,\"meta\":\"606ad7ac0030edda327b81a8\",\"bio\":\"Dr. Abhay Kumar Jain is trained in advance course of Lingual Orthodontics under Dr. Hee Moon Kyung, Daegu, South Korea, Miniimplants & IZCs, Damon System and Clear Aligners. \",\"fee\":200,\"gender\":\"male\"}}\n"
     ]
    },
    {
     "name": "stderr",
     "output_type": "stream",
     "text": [
      "\r\n",
      " 57%|█████████████████████████████████████████████▉                                   | 97/171 [13:01<09:45,  7.92s/it]"
     ]
    },
    {
     "name": "stdout",
     "output_type": "stream",
     "text": [
      "{'status': True, 'message': 'Image uploaded successfully'}\n",
      "606ad7b20030edda327b81c6 amit.mohan@gmail.com\n",
      "{\"status\":true,\"message\":\"Profile successfully updated\",\"data\":{\"basic\":{\"organization_name\":\"not found\",\"organizational_subpart\":\"not found\",\"enumeration_date\":\"not found\",\"last_updated\":\"not found\",\"status\":\"not found\",\"telephone_number\":\"not found\",\"title_or_position\":\"not found\",\"name_prefix\":\"not found\",\"name_suffix\":\"not found\",\"sole_proprietor\":\"not found\",\"gender\":\"not found\",\"name\":\"Amit Mohan\"},\"document\":{\"idProof\":false,\"registrationProof\":false,\"establishment\":false},\"address\":[],\"taxonomies\":[],\"practiceLocation\":[],\"diseases\":[],\"description\":\"NA\",\"steps\":[0,0,0,0],\"is_in_network\":true,\"is_superDoc\":false,\"location_ids\":[],\"isActive\":true,\"isApproved\":false,\"availability\":[],\"appointments\":[],\"picture\":[],\"profileStatus\":true,\"question\":[],\"appointmentsString\":\"{\\\"duration\\\":\\\"15\\\",\\\"id\\\":\\\"\\\",\\\"weekdaysArr\\\":[{\\\"days\\\":[\\\"wednesday\\\",\\\"thursday\\\",\\\"friday\\\"],\\\"startTime\\\":\\\"02:30\\\",\\\"endTime\\\":\\\"11:30\\\",\\\"lunchStart\\\":\\\"06:30\\\",\\\"lunchEnd\\\":\\\"07:30\\\"},{\\\"days\\\":[\\\"monday\\\",\\\"tuesday\\\"],\\\"startTime\\\":\\\"03:30\\\",\\\"endTime\\\":\\\"12:30\\\",\\\"lunchStart\\\":\\\"06:30\\\",\\\"lunchEnd\\\":\\\"07:30\\\"}]}\",\"onBoarding\":false,\"referrals\":[],\"latestAppointment\":[],\"payment\":true,\"isAssistant\":false,\"rights\":[],\"assistants\":[],\"charity\":false,\"clinic\":[],\"block\":false,\"deviceToken\":[],\"online\":false,\"socket\":[],\"conversations\":[],\"WaitingRoomSocket\":[],\"verify\":true,\"_id\":\"606ad7b20030edda327b81c6\",\"npi\":\"27478\",\"email\":\"amit.mohan@gmail.com\",\"password\":\"985c201c0983d138a856ffb0c8d53890\",\"specialty\":\"Pediatrician\",\"customerProfile\":\"cus_JFJJG0L96WeQw9\",\"city\":\"Jharkhand\",\"state\":\"Ranchi\",\"country\":\"India\",\"firstName\":\"Amit\",\"lastName\":\"Mohan\",\"referralId\":\"AmitkB3DV_d\",\"createdOn\":\"2021-04-05T09:26:10.859Z\",\"education\":[{\"_id\":\"606ad7b30030edda327b81c9\",\"year\":1998,\"degree\":\"Diploma in Child Health (DCH)\",\"university\":\"Ranchi University\"},{\"_id\":\"606ad7b30030edda327b81ca\",\"year\":2001,\"degree\":\"MD\",\"university\":\"Pediatrics Ranchi University\"},{\"_id\":\"606ad7b30030edda327b81cb\",\"year\":null,\"degree\":\"MRCP (Paed)\",\"university\":\"University of London\"}],\"PatientsWaiting\":[],\"__v\":0,\"meta\":\"606ad7b30030edda327b81c7\",\"bio\":\"Dr. Amit Mohan is a Pediatrician in DDM, OIC Ltd, Kadru, Ranchi and has an experience of 21 years in this field. Dr. Amit Mohan practices at Dr. Amit Mohan Clinic in DDM, OIC Ltd, Kadru, Ranchi. He completed Diploma in Child Health (DCH) from Ranchi University in 1998,MD - Pediatrics from Ranchi University in 2001 and MRCP (Paed) from University of London, United Kingdom in 2005. He is a member of Indian Academy of Paediatrics (IAP) and Royal College of Paediatrics and Child Health, UK. Some of the services provided by the doctor are: Vaccination/ Immunization,Neonatal Nursing,Viral Fever Treatment,Genetic Diseases and Growth & Development Evaluation / Management etc. \",\"fee\":400,\"gender\":\"male\"}}\n"
     ]
    },
    {
     "name": "stderr",
     "output_type": "stream",
     "text": [
      "\r\n",
      " 57%|██████████████████████████████████████████████▍                                  | 98/171 [13:07<09:06,  7.48s/it]"
     ]
    },
    {
     "name": "stdout",
     "output_type": "stream",
     "text": [
      "{'status': True, 'message': 'Image uploaded successfully'}\n",
      "606ad7b90030edda327b81e6 nitesh.priya@gmail.com\n",
      "{\"status\":true,\"message\":\"Profile successfully updated\",\"data\":{\"basic\":{\"organization_name\":\"not found\",\"organizational_subpart\":\"not found\",\"enumeration_date\":\"not found\",\"last_updated\":\"not found\",\"status\":\"not found\",\"telephone_number\":\"not found\",\"title_or_position\":\"not found\",\"name_prefix\":\"not found\",\"name_suffix\":\"not found\",\"sole_proprietor\":\"not found\",\"gender\":\"not found\",\"name\":\"Nitesh Priya\"},\"document\":{\"idProof\":false,\"registrationProof\":false,\"establishment\":false},\"address\":[],\"taxonomies\":[],\"practiceLocation\":[],\"diseases\":[],\"description\":\"NA\",\"steps\":[0,0,0,0],\"is_in_network\":true,\"is_superDoc\":false,\"location_ids\":[],\"isActive\":true,\"isApproved\":false,\"availability\":[],\"appointments\":[],\"picture\":[],\"profileStatus\":true,\"question\":[],\"appointmentsString\":\"{\\\"duration\\\":\\\"15\\\",\\\"id\\\":\\\"\\\",\\\"weekdaysArr\\\":[{\\\"days\\\":[\\\"wednesday\\\",\\\"thursday\\\",\\\"friday\\\"],\\\"startTime\\\":\\\"02:30\\\",\\\"endTime\\\":\\\"11:30\\\",\\\"lunchStart\\\":\\\"06:30\\\",\\\"lunchEnd\\\":\\\"07:30\\\"},{\\\"days\\\":[\\\"monday\\\",\\\"tuesday\\\"],\\\"startTime\\\":\\\"03:30\\\",\\\"endTime\\\":\\\"12:30\\\",\\\"lunchStart\\\":\\\"06:30\\\",\\\"lunchEnd\\\":\\\"07:30\\\"}]}\",\"onBoarding\":false,\"referrals\":[],\"latestAppointment\":[],\"payment\":true,\"isAssistant\":false,\"rights\":[],\"assistants\":[],\"charity\":false,\"clinic\":[],\"block\":false,\"deviceToken\":[],\"online\":false,\"socket\":[],\"conversations\":[],\"WaitingRoomSocket\":[],\"verify\":true,\"_id\":\"606ad7b90030edda327b81e6\",\"npi\":\"2940\",\"email\":\"nitesh.priya@gmail.com\",\"password\":\"985c201c0983d138a856ffb0c8d53890\",\"specialty\":\"Joint Replacement Surgeon\",\"customerProfile\":\"cus_JFJJkq4ecBQ0Ds\",\"city\":\"Jharkhand\",\"state\":\"Ranchi\",\"country\":\"India\",\"firstName\":\"Nitesh\",\"lastName\":\"Priya\",\"referralId\":\"NiteshkA3wB_d\",\"createdOn\":\"2021-04-05T09:26:17.129Z\",\"education\":[{\"_id\":\"606ad7ba0030edda327b81e9\",\"year\":2006,\"degree\":\"MS\",\"university\":\"Orthopaedics BJMC Pune\"},{\"_id\":\"606ad7ba0030edda327b81ea\",\"year\":2000,\"degree\":\"MBBS\",\"university\":\"Ranchi University\"}],\"PatientsWaiting\":[],\"__v\":0,\"meta\":\"606ad7b90030edda327b81e7\",\"bio\":\"Dr.Nitesh Priya finished his MBBS in 2000 from RIMS, Ranchi having secured Gold Medal in surgery and Orthopedics. He completed his M. S (Orthopedics ) in 2006 from Pine University where he was awarded a Gold Medal again. After his Post-graduation, he pursued two fellowships, joined the prestigious James Cook University Hospital & Friarage Hospital in the Northern Deanery of the United Kingdom. He also did his Mch from the New castle Teeside University during his stay in the United Kingdom. He undertook various academic and research projects during his stay. He was trained in Hip and Knee Replacement, Arthroscopy, Shoulder Surgeries, pelvic acetabular trauma, and other complex surgeries. He had a permanent license to practice in England. He came back to his hometown in the 2013 March and has been practicing at Hill View Hospital & Research Center since then. \",\"fee\":600,\"gender\":\"male\"}}\n"
     ]
    },
    {
     "name": "stderr",
     "output_type": "stream",
     "text": [
      "\r\n",
      " 58%|██████████████████████████████████████████████▉                                  | 99/171 [13:13<08:32,  7.12s/it]"
     ]
    },
    {
     "name": "stdout",
     "output_type": "stream",
     "text": [
      "{'status': True, 'message': 'Image uploaded successfully'}\n",
      "606ad7bf0030edda327b8205 anitabh.kumar@gmail.com\n",
      "{\"status\":true,\"message\":\"Profile successfully updated\",\"data\":{\"basic\":{\"organization_name\":\"not found\",\"organizational_subpart\":\"not found\",\"enumeration_date\":\"not found\",\"last_updated\":\"not found\",\"status\":\"not found\",\"telephone_number\":\"not found\",\"title_or_position\":\"not found\",\"name_prefix\":\"not found\",\"name_suffix\":\"not found\",\"sole_proprietor\":\"not found\",\"gender\":\"not found\",\"name\":\"Anitabh Kumar\"},\"document\":{\"idProof\":false,\"registrationProof\":false,\"establishment\":false},\"address\":[],\"taxonomies\":[],\"practiceLocation\":[],\"diseases\":[],\"description\":\"NA\",\"steps\":[0,0,0,0],\"is_in_network\":true,\"is_superDoc\":false,\"location_ids\":[],\"isActive\":true,\"isApproved\":false,\"availability\":[],\"appointments\":[],\"picture\":[],\"profileStatus\":true,\"question\":[],\"appointmentsString\":\"{\\\"duration\\\":\\\"15\\\",\\\"id\\\":\\\"\\\",\\\"weekdaysArr\\\":[{\\\"days\\\":[\\\"wednesday\\\",\\\"thursday\\\",\\\"friday\\\"],\\\"startTime\\\":\\\"02:30\\\",\\\"endTime\\\":\\\"11:30\\\",\\\"lunchStart\\\":\\\"06:30\\\",\\\"lunchEnd\\\":\\\"07:30\\\"},{\\\"days\\\":[\\\"monday\\\",\\\"tuesday\\\"],\\\"startTime\\\":\\\"03:30\\\",\\\"endTime\\\":\\\"12:30\\\",\\\"lunchStart\\\":\\\"06:30\\\",\\\"lunchEnd\\\":\\\"07:30\\\"}]}\",\"onBoarding\":false,\"referrals\":[],\"latestAppointment\":[],\"payment\":true,\"isAssistant\":false,\"rights\":[],\"assistants\":[],\"charity\":false,\"clinic\":[],\"block\":false,\"deviceToken\":[],\"online\":false,\"socket\":[],\"conversations\":[],\"WaitingRoomSocket\":[],\"verify\":true,\"_id\":\"606ad7bf0030edda327b8205\",\"npi\":\"2303\",\"email\":\"anitabh.kumar@gmail.com\",\"password\":\"985c201c0983d138a856ffb0c8d53890\",\"specialty\":\"Pediatrician\",\"customerProfile\":\"cus_JFJK2O3F0lsRiS\",\"city\":\"Jharkhand\",\"state\":\"Ranchi\",\"country\":\"India\",\"firstName\":\"Anitabh\",\"lastName\":\"Kumar\",\"referralId\":\"Anitabh80JCu_d\",\"createdOn\":\"2021-04-05T09:26:23.268Z\",\"education\":[{\"_id\":\"606ad7c00030edda327b8208\",\"year\":null,\"degree\":\"MBBS\",\"university\":\"Government Dental College  Hospital\"},{\"_id\":\"606ad7c00030edda327b8209\",\"year\":null,\"degree\":\"MD\",\"university\":\"Pediatrics Patna Medical College\"}],\"PatientsWaiting\":[],\"__v\":0,\"meta\":\"606ad7bf0030edda327b8206\",\"bio\":\"Dr. Anitabh Kumar is a Pediatrician in Harmu Housing Colony, Ranchi and has an experience of 20 years in this field. Dr. Anitabh Kumar practices at New Born & Child Care Centre in Harmu Housing Colony, Ranchi. He completed MBBS from Government Dental College Hospital, RIMS Kadapa in 2001 and MD - Pediatrics from Patna Medical College, Patna in 2006. He is a member of Indian Medical Association (IMA). Some of the services provided by the doctor are: Vaccination/ Immunization,Viral Fever Treatment,New Born Care,Genetic Diseases and Nutritional Assessment etc. \",\"fee\":300,\"gender\":\"male\"}}\n"
     ]
    },
    {
     "name": "stderr",
     "output_type": "stream",
     "text": [
      "\r\n",
      " 58%|██████████████████████████████████████████████▊                                 | 100/171 [13:19<08:06,  6.85s/it]"
     ]
    },
    {
     "name": "stdout",
     "output_type": "stream",
     "text": [
      "{'status': True, 'message': 'Image uploaded successfully'}\n",
      "606ad7c50030edda327b8224 kailash.prasad@gmail.com\n",
      "{\"status\":true,\"message\":\"Profile successfully updated\",\"data\":{\"basic\":{\"organization_name\":\"not found\",\"organizational_subpart\":\"not found\",\"enumeration_date\":\"not found\",\"last_updated\":\"not found\",\"status\":\"not found\",\"telephone_number\":\"not found\",\"title_or_position\":\"not found\",\"name_prefix\":\"not found\",\"name_suffix\":\"not found\",\"sole_proprietor\":\"not found\",\"gender\":\"not found\",\"name\":\"Kailash Prasad\"},\"document\":{\"idProof\":false,\"registrationProof\":false,\"establishment\":false},\"address\":[],\"taxonomies\":[],\"practiceLocation\":[],\"diseases\":[],\"description\":\"NA\",\"steps\":[0,0,0,0],\"is_in_network\":true,\"is_superDoc\":false,\"location_ids\":[],\"isActive\":true,\"isApproved\":false,\"availability\":[],\"appointments\":[],\"picture\":[],\"profileStatus\":true,\"question\":[],\"appointmentsString\":\"{\\\"duration\\\":\\\"15\\\",\\\"id\\\":\\\"\\\",\\\"weekdaysArr\\\":[{\\\"days\\\":[\\\"wednesday\\\",\\\"thursday\\\",\\\"friday\\\"],\\\"startTime\\\":\\\"02:30\\\",\\\"endTime\\\":\\\"11:30\\\",\\\"lunchStart\\\":\\\"06:30\\\",\\\"lunchEnd\\\":\\\"07:30\\\"},{\\\"days\\\":[\\\"monday\\\",\\\"tuesday\\\"],\\\"startTime\\\":\\\"03:30\\\",\\\"endTime\\\":\\\"12:30\\\",\\\"lunchStart\\\":\\\"06:30\\\",\\\"lunchEnd\\\":\\\"07:30\\\"}]}\",\"onBoarding\":false,\"referrals\":[],\"latestAppointment\":[],\"payment\":true,\"isAssistant\":false,\"rights\":[],\"assistants\":[],\"charity\":false,\"clinic\":[],\"block\":false,\"deviceToken\":[],\"online\":false,\"socket\":[],\"conversations\":[],\"WaitingRoomSocket\":[],\"verify\":true,\"_id\":\"606ad7c50030edda327b8224\",\"npi\":\"18476\",\"email\":\"kailash.prasad@gmail.com\",\"password\":\"985c201c0983d138a856ffb0c8d53890\",\"specialty\":\"Pediatrician\",\"customerProfile\":\"cus_JFJKesjicLgMDP\",\"city\":\"Jharkhand\",\"state\":\"Ranchi\",\"country\":\"India\",\"firstName\":\"Kailash\",\"lastName\":\"Prasad\",\"referralId\":\"KailashChiIe_d\",\"createdOn\":\"2021-04-05T09:26:29.411Z\",\"education\":[{\"_id\":\"606ad7c60030edda327b8227\",\"year\":null,\"degree\":\"MBBS\",\"university\":\"MGM Institute of Health Science\"},{\"_id\":\"606ad7c60030edda327b8228\",\"year\":null,\"degree\":\"MD\",\"university\":\"Pediatrics Darbhanga Medical College And Hospital\"}],\"PatientsWaiting\":[],\"__v\":0,\"meta\":\"606ad7c50030edda327b8225\",\"bio\":\"Dr. Kailash Prasad is a Pediatrician in Kanke Road, Ranchi and has an experience of 34 years in this field. Dr. Kailash Prasad practices at Siddharth Medicals in Kanke Road, Ranchi and Dr. Kailash Prasad Clinic in Church Road, Ranchi. He completed MBBS from MGM Institute of Health Science, Bombay in 1981 and MD - Pediatrics from Darbhanga Medical College And Hospital, Bihar in 1990. He is a member of Indian Medical Association (IMA). Some of the services provided by the doctor are: Adolescent Medicine,Vaccination/ Immunization,Viral Fever Treatment,Chickenpox Treatment and Growth & Development Evaluation / Management etc. \",\"fee\":200,\"gender\":\"male\"}}\n"
     ]
    },
    {
     "name": "stderr",
     "output_type": "stream",
     "text": [
      "\r\n",
      " 59%|███████████████████████████████████████████████▎                                | 101/171 [13:26<07:48,  6.70s/it]"
     ]
    },
    {
     "name": "stdout",
     "output_type": "stream",
     "text": [
      "{'status': True, 'message': 'Image uploaded successfully'}\n",
      "606ad7cb0030edda327b8243 sonia.prakash@gmail.com\n",
      "{\"status\":true,\"message\":\"Profile successfully updated\",\"data\":{\"basic\":{\"organization_name\":\"not found\",\"organizational_subpart\":\"not found\",\"enumeration_date\":\"not found\",\"last_updated\":\"not found\",\"status\":\"not found\",\"telephone_number\":\"not found\",\"title_or_position\":\"not found\",\"name_prefix\":\"not found\",\"name_suffix\":\"not found\",\"sole_proprietor\":\"not found\",\"gender\":\"not found\",\"name\":\"Sonia Prakash\"},\"document\":{\"idProof\":false,\"registrationProof\":false,\"establishment\":false},\"address\":[],\"taxonomies\":[],\"practiceLocation\":[],\"diseases\":[],\"description\":\"NA\",\"steps\":[0,0,0,0],\"is_in_network\":true,\"is_superDoc\":false,\"location_ids\":[],\"isActive\":true,\"isApproved\":false,\"availability\":[],\"appointments\":[],\"picture\":[],\"profileStatus\":true,\"question\":[],\"appointmentsString\":\"{\\\"duration\\\":\\\"15\\\",\\\"id\\\":\\\"\\\",\\\"weekdaysArr\\\":[{\\\"days\\\":[\\\"wednesday\\\",\\\"thursday\\\",\\\"friday\\\"],\\\"startTime\\\":\\\"02:30\\\",\\\"endTime\\\":\\\"11:30\\\",\\\"lunchStart\\\":\\\"06:30\\\",\\\"lunchEnd\\\":\\\"07:30\\\"},{\\\"days\\\":[\\\"monday\\\",\\\"tuesday\\\"],\\\"startTime\\\":\\\"03:30\\\",\\\"endTime\\\":\\\"12:30\\\",\\\"lunchStart\\\":\\\"06:30\\\",\\\"lunchEnd\\\":\\\"07:30\\\"}]}\",\"onBoarding\":false,\"referrals\":[],\"latestAppointment\":[],\"payment\":true,\"isAssistant\":false,\"rights\":[],\"assistants\":[],\"charity\":false,\"clinic\":[],\"block\":false,\"deviceToken\":[],\"online\":false,\"socket\":[],\"conversations\":[],\"WaitingRoomSocket\":[],\"verify\":true,\"_id\":\"606ad7cb0030edda327b8243\",\"npi\":\"6077\",\"email\":\"sonia.prakash@gmail.com\",\"password\":\"985c201c0983d138a856ffb0c8d53890\",\"specialty\":\"Dentist\",\"customerProfile\":\"cus_JFJKRHIP5FnJzz\",\"city\":\"Jharkhand\",\"state\":\"Ranchi\",\"country\":\"India\",\"firstName\":\"Sonia\",\"lastName\":\"Prakash\",\"referralId\":\"SoniaTiJ3R_d\",\"createdOn\":\"2021-04-05T09:26:35.682Z\",\"education\":[{\"_id\":\"606ad7cc0030edda327b8246\",\"year\":2007,\"degree\":\"BDS\",\"university\":\"Chattisgarh Dental College  Research Institute\"},{\"_id\":\"606ad7cc0030edda327b8247\",\"year\":2013,\"degree\":\"MDS\",\"university\":\"Periodontology and Oral Implantology Chattisgarh Dental College  Research Institute\"}],\"PatientsWaiting\":[],\"__v\":0,\"meta\":\"606ad7cb0030edda327b8244\",\"bio\":\"Dr. Sonia Prakash is a Dentist in Bariatu, Ranchi and has an experience of 3 years in this field. Dr. Sonia Prakash practices at Denty's in Bariatu, Ranchi. She completed BDS from Chhattisgarh Dental College and Research Institute in 2007 and MDS - Periodontology and Oral Implantology from Chhattisgarh Dental College and Research Institute in 2013. She is a member of Indian Society of Periodontology. \",\"fee\":150,\"gender\":\"female\"}}\n"
     ]
    },
    {
     "name": "stderr",
     "output_type": "stream",
     "text": [
      "\r\n",
      " 60%|███████████████████████████████████████████████▋                                | 102/171 [13:32<07:31,  6.54s/it]"
     ]
    },
    {
     "name": "stdout",
     "output_type": "stream",
     "text": [
      "{'status': True, 'message': 'Image uploaded successfully'}\n",
      "Not present Shailendra\n",
      "Not present Aditya\n",
      "606ad7d10030edda327b8262 kumar.pankaj.prabhat@gmail.com\n",
      "{\"status\":true,\"message\":\"Profile successfully updated\",\"data\":{\"basic\":{\"organization_name\":\"not found\",\"organizational_subpart\":\"not found\",\"enumeration_date\":\"not found\",\"last_updated\":\"not found\",\"status\":\"not found\",\"telephone_number\":\"not found\",\"title_or_position\":\"not found\",\"name_prefix\":\"not found\",\"name_suffix\":\"not found\",\"sole_proprietor\":\"not found\",\"gender\":\"not found\",\"name\":\"Kumar Pankaj Prabhat\"},\"document\":{\"idProof\":false,\"registrationProof\":false,\"establishment\":false},\"address\":[],\"taxonomies\":[],\"practiceLocation\":[],\"diseases\":[],\"description\":\"NA\",\"steps\":[0,0,0,0],\"is_in_network\":true,\"is_superDoc\":false,\"location_ids\":[],\"isActive\":true,\"isApproved\":false,\"availability\":[],\"appointments\":[],\"picture\":[],\"profileStatus\":true,\"question\":[],\"appointmentsString\":\"{\\\"duration\\\":\\\"15\\\",\\\"id\\\":\\\"\\\",\\\"weekdaysArr\\\":[{\\\"days\\\":[\\\"wednesday\\\",\\\"thursday\\\",\\\"friday\\\"],\\\"startTime\\\":\\\"02:30\\\",\\\"endTime\\\":\\\"11:30\\\",\\\"lunchStart\\\":\\\"06:30\\\",\\\"lunchEnd\\\":\\\"07:30\\\"},{\\\"days\\\":[\\\"monday\\\",\\\"tuesday\\\"],\\\"startTime\\\":\\\"03:30\\\",\\\"endTime\\\":\\\"12:30\\\",\\\"lunchStart\\\":\\\"06:30\\\",\\\"lunchEnd\\\":\\\"07:30\\\"}]}\",\"onBoarding\":false,\"referrals\":[],\"latestAppointment\":[],\"payment\":true,\"isAssistant\":false,\"rights\":[],\"assistants\":[],\"charity\":false,\"clinic\":[],\"block\":false,\"deviceToken\":[],\"online\":false,\"socket\":[],\"conversations\":[],\"WaitingRoomSocket\":[],\"verify\":true,\"_id\":\"606ad7d10030edda327b8262\",\"npi\":\"35252\",\"email\":\"kumar.pankaj.prabhat@gmail.com\",\"password\":\"985c201c0983d138a856ffb0c8d53890\",\"specialty\":\"Internal Medicine\",\"customerProfile\":\"cus_JFJKeO0mwRVhQR\",\"city\":\"Jharkhand\",\"state\":\"Ranchi\",\"country\":\"India\",\"firstName\":\"Kumar\",\"lastName\":\"Pankaj Prabhat\",\"referralId\":\"Kumar1mfuk_d\",\"createdOn\":\"2021-04-05T09:26:41.844Z\",\"education\":[{\"_id\":\"606ad7d20030edda327b8265\",\"year\":null,\"degree\":\"MD\",\"university\":\"General Medicine SKMCH\"}],\"PatientsWaiting\":[],\"__v\":0,\"meta\":\"606ad7d20030edda327b8263\",\"bio\":\"Dr. Kumar Pankaj Prabhat is a Internal Medicine in Pundag, Ranchi and has an experience of 16 years in this field. Dr. Kumar Pankaj Prabhat practices at Mediva The Polyclinic in Pundag, Ranchi. He completed MD - General Medicine from SKMCH, Muzaffarpur in 2003. \",\"fee\":300,\"gender\":\"male\"}}\n"
     ]
    },
    {
     "name": "stderr",
     "output_type": "stream",
     "text": [
      "\r\n",
      " 61%|█████████████████████████████████████████████████                               | 105/171 [13:38<04:28,  4.07s/it]"
     ]
    },
    {
     "name": "stdout",
     "output_type": "stream",
     "text": [
      "{'status': True, 'message': 'Image uploaded successfully'}\n",
      "Not present Jayant\n",
      "606ad7d80030edda327b8280 pragya.pant@gmail.com\n",
      "{\"status\":true,\"message\":\"Profile successfully updated\",\"data\":{\"basic\":{\"organization_name\":\"not found\",\"organizational_subpart\":\"not found\",\"enumeration_date\":\"not found\",\"last_updated\":\"not found\",\"status\":\"not found\",\"telephone_number\":\"not found\",\"title_or_position\":\"not found\",\"name_prefix\":\"not found\",\"name_suffix\":\"not found\",\"sole_proprietor\":\"not found\",\"gender\":\"not found\",\"name\":\"Pragya Pant\"},\"document\":{\"idProof\":false,\"registrationProof\":false,\"establishment\":false},\"address\":[],\"taxonomies\":[],\"practiceLocation\":[],\"diseases\":[],\"description\":\"NA\",\"steps\":[0,0,0,0],\"is_in_network\":true,\"is_superDoc\":false,\"location_ids\":[],\"isActive\":true,\"isApproved\":false,\"availability\":[],\"appointments\":[],\"picture\":[],\"profileStatus\":true,\"question\":[],\"appointmentsString\":\"{\\\"duration\\\":\\\"15\\\",\\\"id\\\":\\\"\\\",\\\"weekdaysArr\\\":[{\\\"days\\\":[\\\"wednesday\\\",\\\"thursday\\\",\\\"friday\\\"],\\\"startTime\\\":\\\"02:30\\\",\\\"endTime\\\":\\\"11:30\\\",\\\"lunchStart\\\":\\\"06:30\\\",\\\"lunchEnd\\\":\\\"07:30\\\"},{\\\"days\\\":[\\\"monday\\\",\\\"tuesday\\\"],\\\"startTime\\\":\\\"03:30\\\",\\\"endTime\\\":\\\"12:30\\\",\\\"lunchStart\\\":\\\"06:30\\\",\\\"lunchEnd\\\":\\\"07:30\\\"}]}\",\"onBoarding\":false,\"referrals\":[],\"latestAppointment\":[],\"payment\":true,\"isAssistant\":false,\"rights\":[],\"assistants\":[],\"charity\":false,\"clinic\":[],\"block\":false,\"deviceToken\":[],\"online\":false,\"socket\":[],\"conversations\":[],\"WaitingRoomSocket\":[],\"verify\":true,\"_id\":\"606ad7d80030edda327b8280\",\"npi\":\"62881\",\"email\":\"pragya.pant@gmail.com\",\"password\":\"985c201c0983d138a856ffb0c8d53890\",\"specialty\":\"Nephrologist/Renal Specialist\",\"customerProfile\":\"cus_JFJKAug7eOTHW5\",\"city\":\"Jharkhand\",\"state\":\"Ranchi\",\"country\":\"India\",\"firstName\":\"Pragya\",\"lastName\":\"Pant\",\"referralId\":\"Pragya10BKd_d\",\"createdOn\":\"2021-04-05T09:26:48.053Z\",\"education\":[{\"_id\":\"606ad7d90030edda327b8283\",\"year\":2002,\"degree\":\"MBBS\",\"university\":\"Banaras Hindu University\"},{\"_id\":\"606ad7d90030edda327b8284\",\"year\":2015,\"degree\":\"DM\",\"university\":\"Nephrology Banaras Hindu University\"}],\"PatientsWaiting\":[],\"__v\":0,\"meta\":\"606ad7d80030edda327b8281\",\"bio\":\"Consultant Nephrologist at Orchid Medical Centre\",\"fee\":800,\"gender\":\"female\"}}\n"
     ]
    },
    {
     "name": "stderr",
     "output_type": "stream",
     "text": [
      "\r\n",
      " 63%|██████████████████████████████████████████████████                              | 107/171 [13:44<03:59,  3.74s/it]"
     ]
    },
    {
     "name": "stdout",
     "output_type": "stream",
     "text": [
      "{'status': True, 'message': 'Image uploaded successfully'}\n",
      "606ad7de0030edda327b829f anju.kumar@gmail.com\n",
      "{\"status\":true,\"message\":\"Profile successfully updated\",\"data\":{\"basic\":{\"organization_name\":\"not found\",\"organizational_subpart\":\"not found\",\"enumeration_date\":\"not found\",\"last_updated\":\"not found\",\"status\":\"not found\",\"telephone_number\":\"not found\",\"title_or_position\":\"not found\",\"name_prefix\":\"not found\",\"name_suffix\":\"not found\",\"sole_proprietor\":\"not found\",\"gender\":\"not found\",\"name\":\"Anju Kumar\"},\"document\":{\"idProof\":false,\"registrationProof\":false,\"establishment\":false},\"address\":[],\"taxonomies\":[],\"practiceLocation\":[],\"diseases\":[],\"description\":\"NA\",\"steps\":[0,0,0,0],\"is_in_network\":true,\"is_superDoc\":false,\"location_ids\":[],\"isActive\":true,\"isApproved\":false,\"availability\":[],\"appointments\":[],\"picture\":[],\"profileStatus\":true,\"question\":[],\"appointmentsString\":\"{\\\"duration\\\":\\\"15\\\",\\\"id\\\":\\\"\\\",\\\"weekdaysArr\\\":[{\\\"days\\\":[\\\"wednesday\\\",\\\"thursday\\\",\\\"friday\\\"],\\\"startTime\\\":\\\"02:30\\\",\\\"endTime\\\":\\\"11:30\\\",\\\"lunchStart\\\":\\\"06:30\\\",\\\"lunchEnd\\\":\\\"07:30\\\"},{\\\"days\\\":[\\\"monday\\\",\\\"tuesday\\\"],\\\"startTime\\\":\\\"03:30\\\",\\\"endTime\\\":\\\"12:30\\\",\\\"lunchStart\\\":\\\"06:30\\\",\\\"lunchEnd\\\":\\\"07:30\\\"}]}\",\"onBoarding\":false,\"referrals\":[],\"latestAppointment\":[],\"payment\":true,\"isAssistant\":false,\"rights\":[],\"assistants\":[],\"charity\":false,\"clinic\":[],\"block\":false,\"deviceToken\":[],\"online\":false,\"socket\":[],\"conversations\":[],\"WaitingRoomSocket\":[],\"verify\":true,\"_id\":\"606ad7de0030edda327b829f\",\"npi\":\"14\",\"email\":\"anju.kumar@gmail.com\",\"password\":\"985c201c0983d138a856ffb0c8d53890\",\"specialty\":\"Gynecologist\",\"customerProfile\":\"cus_JFJKKG4CAtRFPL\",\"city\":\"Jharkhand\",\"state\":\"Ranchi\",\"country\":\"India\",\"firstName\":\"Anju\",\"lastName\":\"Kumar\",\"referralId\":\"AnjuFh9sE_d\",\"createdOn\":\"2021-04-05T09:26:54.227Z\",\"education\":[{\"_id\":\"606ad7df0030edda327b82a2\",\"year\":null,\"degree\":\"MBBS\",\"university\":\"Smt. NHL Municipal Medical College\"},{\"_id\":\"606ad7df0030edda327b82a3\",\"year\":null,\"degree\":\"MD\",\"university\":\"Obstetrics & Gynaecology VS Hospital\"},{\"_id\":\"606ad7df0030edda327b82a4\",\"year\":null,\"degree\":\"DGO\",\"university\":\"VS Hospital\"}],\"PatientsWaiting\":[],\"__v\":0,\"meta\":\"606ad7de0030edda327b82a0\",\"bio\":\"Dr. Anju kumar is a Gynecologist in Hehal, Ranchi and has an experience of 18 years in this field. Dr. Anju kumar practices at chikitsayan in Hehal, Ranchi. She completed MBBS from Smt. NHL Municipal Medical College, Ahmedabad in 1992, MD - Obstetrics & Gynaecology from Vadilal Sarabhai Hospital in 1996 and DGO from Vadilal Sarabhai Hospital in 1996. She is a member of indian medical association (ima), federation of obstetric and Gynaecological societies of India (FOGSI) and ROGSI. You can book an instant appointment with dr. Anju kumar on practo.Com \",\"fee\":200,\"gender\":\"female\"}}\n"
     ]
    },
    {
     "name": "stderr",
     "output_type": "stream",
     "text": [
      "\r\n",
      " 63%|██████████████████████████████████████████████████▌                             | 108/171 [13:50<04:24,  4.20s/it]"
     ]
    },
    {
     "name": "stdout",
     "output_type": "stream",
     "text": [
      "{'status': True, 'message': 'Image uploaded successfully'}\n",
      "Not present Ashish\n",
      "606ad7e40030edda327b82bf subash.poddar@gmail.com\n",
      "{\"status\":true,\"message\":\"Profile successfully updated\",\"data\":{\"basic\":{\"organization_name\":\"not found\",\"organizational_subpart\":\"not found\",\"enumeration_date\":\"not found\",\"last_updated\":\"not found\",\"status\":\"not found\",\"telephone_number\":\"not found\",\"title_or_position\":\"not found\",\"name_prefix\":\"not found\",\"name_suffix\":\"not found\",\"sole_proprietor\":\"not found\",\"gender\":\"not found\",\"name\":\"Subash Poddar\"},\"document\":{\"idProof\":false,\"registrationProof\":false,\"establishment\":false},\"address\":[],\"taxonomies\":[],\"practiceLocation\":[],\"diseases\":[],\"description\":\"NA\",\"steps\":[0,0,0,0],\"is_in_network\":true,\"is_superDoc\":false,\"location_ids\":[],\"isActive\":true,\"isApproved\":false,\"availability\":[],\"appointments\":[],\"picture\":[],\"profileStatus\":true,\"question\":[],\"appointmentsString\":\"{\\\"duration\\\":\\\"15\\\",\\\"id\\\":\\\"\\\",\\\"weekdaysArr\\\":[{\\\"days\\\":[\\\"wednesday\\\",\\\"thursday\\\",\\\"friday\\\"],\\\"startTime\\\":\\\"02:30\\\",\\\"endTime\\\":\\\"11:30\\\",\\\"lunchStart\\\":\\\"06:30\\\",\\\"lunchEnd\\\":\\\"07:30\\\"},{\\\"days\\\":[\\\"monday\\\",\\\"tuesday\\\"],\\\"startTime\\\":\\\"03:30\\\",\\\"endTime\\\":\\\"12:30\\\",\\\"lunchStart\\\":\\\"06:30\\\",\\\"lunchEnd\\\":\\\"07:30\\\"}]}\",\"onBoarding\":false,\"referrals\":[],\"latestAppointment\":[],\"payment\":true,\"isAssistant\":false,\"rights\":[],\"assistants\":[],\"charity\":false,\"clinic\":[],\"block\":false,\"deviceToken\":[],\"online\":false,\"socket\":[],\"conversations\":[],\"WaitingRoomSocket\":[],\"verify\":true,\"_id\":\"606ad7e40030edda327b82bf\",\"npi\":\"55208\",\"email\":\"subash.poddar@gmail.com\",\"password\":\"985c201c0983d138a856ffb0c8d53890\",\"specialty\":\"Pediatrician\",\"customerProfile\":\"cus_JFJKBUVxKWKZtK\",\"city\":\"Jharkhand\",\"state\":\"Ranchi\",\"country\":\"India\",\"firstName\":\"Subash\",\"lastName\":\"Poddar\",\"referralId\":\"Subashz4fi6_d\",\"createdOn\":\"2021-04-05T09:27:00.340Z\",\"education\":[{\"_id\":\"606ad7e50030edda327b82c2\",\"year\":null,\"degree\":\"MBBS\",\"university\":\"Medical College\"},{\"_id\":\"606ad7e50030edda327b82c3\",\"year\":null,\"degree\":\"Diploma in Child Health (DCH)\",\"university\":\"Medical College\"}],\"PatientsWaiting\":[],\"__v\":0,\"meta\":\"606ad7e40030edda327b82c0\",\"bio\":\"Dr. Subash Poddar is a Pediatrician in Ratu, Ranchi and has an experience of 19 years in this field. Dr. Subash Poddar practices at Poddar Vaccination Centre in Ratu, Ranchi. He completed MBBS from Medical College, Calcutta in 1997 and Diploma in Child Health (DCH) from Medical College, Calcutta in 2002. He is a member of Indian Academy of Paediatrics (IAP). Some of the services provided by the doctor are: Growth & Development Evaluation / Management,Viral Fever Treatment and Vaccination/ Immunization etc. \",\"fee\":300,\"gender\":\"male\"}}\n"
     ]
    },
    {
     "name": "stderr",
     "output_type": "stream",
     "text": [
      "\r\n",
      " 64%|███████████████████████████████████████████████████▍                            | 110/171 [13:56<03:50,  3.78s/it]"
     ]
    },
    {
     "name": "stdout",
     "output_type": "stream",
     "text": [
      "{'status': True, 'message': 'Image uploaded successfully'}\n",
      "606ad7ea0030edda327b82de rakesh.kumar@gmail.com\n",
      "{\"status\":true,\"message\":\"Profile successfully updated\",\"data\":{\"basic\":{\"organization_name\":\"not found\",\"organizational_subpart\":\"not found\",\"enumeration_date\":\"not found\",\"last_updated\":\"not found\",\"status\":\"not found\",\"telephone_number\":\"not found\",\"title_or_position\":\"not found\",\"name_prefix\":\"not found\",\"name_suffix\":\"not found\",\"sole_proprietor\":\"not found\",\"gender\":\"not found\",\"name\":\"Rakesh Kumar\"},\"document\":{\"idProof\":false,\"registrationProof\":false,\"establishment\":false},\"address\":[],\"taxonomies\":[],\"practiceLocation\":[],\"diseases\":[],\"description\":\"NA\",\"steps\":[0,0,0,0],\"is_in_network\":true,\"is_superDoc\":false,\"location_ids\":[],\"isActive\":true,\"isApproved\":false,\"availability\":[],\"appointments\":[],\"picture\":[],\"profileStatus\":true,\"question\":[],\"appointmentsString\":\"{\\\"duration\\\":\\\"15\\\",\\\"id\\\":\\\"\\\",\\\"weekdaysArr\\\":[{\\\"days\\\":[\\\"wednesday\\\",\\\"thursday\\\",\\\"friday\\\"],\\\"startTime\\\":\\\"02:30\\\",\\\"endTime\\\":\\\"11:30\\\",\\\"lunchStart\\\":\\\"06:30\\\",\\\"lunchEnd\\\":\\\"07:30\\\"},{\\\"days\\\":[\\\"monday\\\",\\\"tuesday\\\"],\\\"startTime\\\":\\\"03:30\\\",\\\"endTime\\\":\\\"12:30\\\",\\\"lunchStart\\\":\\\"06:30\\\",\\\"lunchEnd\\\":\\\"07:30\\\"}]}\",\"onBoarding\":false,\"referrals\":[],\"latestAppointment\":[],\"payment\":true,\"isAssistant\":false,\"rights\":[],\"assistants\":[],\"charity\":false,\"clinic\":[],\"block\":false,\"deviceToken\":[],\"online\":false,\"socket\":[],\"conversations\":[],\"WaitingRoomSocket\":[],\"verify\":true,\"_id\":\"606ad7ea0030edda327b82de\",\"npi\":\"28372\",\"email\":\"rakesh.kumar@gmail.com\",\"password\":\"985c201c0983d138a856ffb0c8d53890\",\"specialty\":\"Pediatrician\",\"customerProfile\":\"cus_JFJKvDeQ7w1r4o\",\"city\":\"Jharkhand\",\"state\":\"Ranchi\",\"country\":\"India\",\"firstName\":\"Rakesh\",\"lastName\":\"Kumar\",\"referralId\":\"Rakesh6fbVG_d\",\"createdOn\":\"2021-04-05T09:27:06.416Z\",\"education\":[{\"_id\":\"606ad7eb0030edda327b82e1\",\"year\":null,\"degree\":\"MD\",\"university\":\"Pediatrics Patna Medical College\"}],\"PatientsWaiting\":[],\"__v\":0,\"meta\":\"606ad7ea0030edda327b82df\",\"bio\":\"Dr. Rakesh Kumar is a Pediatrician in Kadru, Ranchi and has an experience of 22 years in this field. Dr. Rakesh Kumar practices at New Born And Child Clinic in Kadru, Ranchi. He completed NMCH from A N Magadh Medical College, Gaya in 1995 and MD - Pediatrics from Patna Medical College, Patna in 1999. He is a member of Bihar Council of Medical Registration and Indian Academy of Paediatrics (IAP). Some of the services provided by the doctor are: Viral Fever Treatment,Growth & Development Evaluation / Management,Adolescent Medicine,Infant & Child nutrition and Paediatric Critical Care etc. \",\"fee\":300,\"gender\":\"male\"}}\n"
     ]
    },
    {
     "name": "stderr",
     "output_type": "stream",
     "text": [
      "\r\n",
      " 65%|███████████████████████████████████████████████████▉                            | 111/171 [14:03<04:14,  4.25s/it]"
     ]
    },
    {
     "name": "stdout",
     "output_type": "stream",
     "text": [
      "{'status': True, 'message': 'Image uploaded successfully'}\n",
      "Not present Ramesh\n",
      "606ad7f00030edda327b82fc ashok.kumar.singh@gmail.com\n",
      "{\"status\":true,\"message\":\"Profile successfully updated\",\"data\":{\"basic\":{\"organization_name\":\"not found\",\"organizational_subpart\":\"not found\",\"enumeration_date\":\"not found\",\"last_updated\":\"not found\",\"status\":\"not found\",\"telephone_number\":\"not found\",\"title_or_position\":\"not found\",\"name_prefix\":\"not found\",\"name_suffix\":\"not found\",\"sole_proprietor\":\"not found\",\"gender\":\"not found\",\"name\":\"Ashok Kumar Singh\"},\"document\":{\"idProof\":false,\"registrationProof\":false,\"establishment\":false},\"address\":[],\"taxonomies\":[],\"practiceLocation\":[],\"diseases\":[],\"description\":\"NA\",\"steps\":[0,0,0,0],\"is_in_network\":true,\"is_superDoc\":false,\"location_ids\":[],\"isActive\":true,\"isApproved\":false,\"availability\":[],\"appointments\":[],\"picture\":[],\"profileStatus\":true,\"question\":[],\"appointmentsString\":\"{\\\"duration\\\":\\\"15\\\",\\\"id\\\":\\\"\\\",\\\"weekdaysArr\\\":[{\\\"days\\\":[\\\"wednesday\\\",\\\"thursday\\\",\\\"friday\\\"],\\\"startTime\\\":\\\"02:30\\\",\\\"endTime\\\":\\\"11:30\\\",\\\"lunchStart\\\":\\\"06:30\\\",\\\"lunchEnd\\\":\\\"07:30\\\"},{\\\"days\\\":[\\\"monday\\\",\\\"tuesday\\\"],\\\"startTime\\\":\\\"03:30\\\",\\\"endTime\\\":\\\"12:30\\\",\\\"lunchStart\\\":\\\"06:30\\\",\\\"lunchEnd\\\":\\\"07:30\\\"}]}\",\"onBoarding\":false,\"referrals\":[],\"latestAppointment\":[],\"payment\":true,\"isAssistant\":false,\"rights\":[],\"assistants\":[],\"charity\":false,\"clinic\":[],\"block\":false,\"deviceToken\":[],\"online\":false,\"socket\":[],\"conversations\":[],\"WaitingRoomSocket\":[],\"verify\":true,\"_id\":\"606ad7f00030edda327b82fc\",\"npi\":\"17362\",\"email\":\"ashok.kumar.singh@gmail.com\",\"password\":\"985c201c0983d138a856ffb0c8d53890\",\"specialty\":\"Dermatologist\",\"customerProfile\":\"cus_JFJKhE0SM9DSYt\",\"city\":\"Jharkhand\",\"state\":\"Ranchi\",\"country\":\"India\",\"firstName\":\"Ashok\",\"lastName\":\"Kumar Singh\",\"referralId\":\"AshoknnkkX_d\",\"createdOn\":\"2021-04-05T09:27:12.499Z\",\"education\":[{\"_id\":\"606ad7f10030edda327b82ff\",\"year\":null,\"degree\":\"MD\",\"university\":\"Skin & VD Dr. Rajendar Prasad Government Medical College\"}],\"PatientsWaiting\":[],\"__v\":0,\"meta\":\"606ad7f00030edda327b82fd\",\"bio\":\"\",\"fee\":300,\"gender\":\"male\"}}\n"
     ]
    },
    {
     "name": "stderr",
     "output_type": "stream",
     "text": [
      "\r\n",
      " 66%|████████████████████████████████████████████████████▊                           | 113/171 [14:09<03:40,  3.81s/it]"
     ]
    },
    {
     "name": "stdout",
     "output_type": "stream",
     "text": [
      "{'status': True, 'message': 'Image uploaded successfully'}\n",
      "Not present S.\n",
      "606ad7f60030edda327b831a suranjan.sarkar@gmail.com\n",
      "{\"status\":true,\"message\":\"Profile successfully updated\",\"data\":{\"basic\":{\"organization_name\":\"not found\",\"organizational_subpart\":\"not found\",\"enumeration_date\":\"not found\",\"last_updated\":\"not found\",\"status\":\"not found\",\"telephone_number\":\"not found\",\"title_or_position\":\"not found\",\"name_prefix\":\"not found\",\"name_suffix\":\"not found\",\"sole_proprietor\":\"not found\",\"gender\":\"not found\",\"name\":\"Suranjan Sarkar\"},\"document\":{\"idProof\":false,\"registrationProof\":false,\"establishment\":false},\"address\":[],\"taxonomies\":[],\"practiceLocation\":[],\"diseases\":[],\"description\":\"NA\",\"steps\":[0,0,0,0],\"is_in_network\":true,\"is_superDoc\":false,\"location_ids\":[],\"isActive\":true,\"isApproved\":false,\"availability\":[],\"appointments\":[],\"picture\":[],\"profileStatus\":true,\"question\":[],\"appointmentsString\":\"{\\\"duration\\\":\\\"15\\\",\\\"id\\\":\\\"\\\",\\\"weekdaysArr\\\":[{\\\"days\\\":[\\\"wednesday\\\",\\\"thursday\\\",\\\"friday\\\"],\\\"startTime\\\":\\\"02:30\\\",\\\"endTime\\\":\\\"11:30\\\",\\\"lunchStart\\\":\\\"06:30\\\",\\\"lunchEnd\\\":\\\"07:30\\\"},{\\\"days\\\":[\\\"monday\\\",\\\"tuesday\\\"],\\\"startTime\\\":\\\"03:30\\\",\\\"endTime\\\":\\\"12:30\\\",\\\"lunchStart\\\":\\\"06:30\\\",\\\"lunchEnd\\\":\\\"07:30\\\"}]}\",\"onBoarding\":false,\"referrals\":[],\"latestAppointment\":[],\"payment\":true,\"isAssistant\":false,\"rights\":[],\"assistants\":[],\"charity\":false,\"clinic\":[],\"block\":false,\"deviceToken\":[],\"online\":false,\"socket\":[],\"conversations\":[],\"WaitingRoomSocket\":[],\"verify\":true,\"_id\":\"606ad7f60030edda327b831a\",\"npi\":\"001521\",\"email\":\"suranjan.sarkar@gmail.com\",\"password\":\"985c201c0983d138a856ffb0c8d53890\",\"specialty\":\"Veterinary Physician\",\"customerProfile\":\"cus_JFJKcDaGqef06v\",\"city\":\"Jharkhand\",\"state\":\"Ranchi\",\"country\":\"India\",\"firstName\":\"Suranjan\",\"lastName\":\"Sarkar\",\"referralId\":\"SuranjanJrDFS_d\",\"createdOn\":\"2021-04-05T09:27:18.628Z\",\"education\":[{\"_id\":\"606ad7f70030edda327b831d\",\"year\":1996,\"degree\":\"Bachelor in Veterinary Science and Animal Husbandary (BVSc & AH)\",\"university\":\"Rajendra Agricultural University\"}],\"PatientsWaiting\":[],\"__v\":0,\"meta\":\"606ad7f60030edda327b831b\",\"bio\":\"Small Animal Veterinary Pract\",\"fee\":400,\"gender\":\"male\"}}\n"
     ]
    },
    {
     "name": "stderr",
     "output_type": "stream",
     "text": [
      "\r\n",
      " 67%|█████████████████████████████████████████████████████▊                          | 115/171 [14:15<03:19,  3.57s/it]"
     ]
    },
    {
     "name": "stdout",
     "output_type": "stream",
     "text": [
      "{'status': True, 'message': 'Image uploaded successfully'}\n",
      "606ad7fc0030edda327b8338 sunita.katyayan@gmail.com\n",
      "{\"status\":true,\"message\":\"Profile successfully updated\",\"data\":{\"basic\":{\"organization_name\":\"not found\",\"organizational_subpart\":\"not found\",\"enumeration_date\":\"not found\",\"last_updated\":\"not found\",\"status\":\"not found\",\"telephone_number\":\"not found\",\"title_or_position\":\"not found\",\"name_prefix\":\"not found\",\"name_suffix\":\"not found\",\"sole_proprietor\":\"not found\",\"gender\":\"not found\",\"name\":\"Sunita Katyayan\"},\"document\":{\"idProof\":false,\"registrationProof\":false,\"establishment\":false},\"address\":[],\"taxonomies\":[],\"practiceLocation\":[],\"diseases\":[],\"description\":\"NA\",\"steps\":[0,0,0,0],\"is_in_network\":true,\"is_superDoc\":false,\"location_ids\":[],\"isActive\":true,\"isApproved\":false,\"availability\":[],\"appointments\":[],\"picture\":[],\"profileStatus\":true,\"question\":[],\"appointmentsString\":\"{\\\"duration\\\":\\\"15\\\",\\\"id\\\":\\\"\\\",\\\"weekdaysArr\\\":[{\\\"days\\\":[\\\"wednesday\\\",\\\"thursday\\\",\\\"friday\\\"],\\\"startTime\\\":\\\"02:30\\\",\\\"endTime\\\":\\\"11:30\\\",\\\"lunchStart\\\":\\\"06:30\\\",\\\"lunchEnd\\\":\\\"07:30\\\"},{\\\"days\\\":[\\\"monday\\\",\\\"tuesday\\\"],\\\"startTime\\\":\\\"03:30\\\",\\\"endTime\\\":\\\"12:30\\\",\\\"lunchStart\\\":\\\"06:30\\\",\\\"lunchEnd\\\":\\\"07:30\\\"}]}\",\"onBoarding\":false,\"referrals\":[],\"latestAppointment\":[],\"payment\":true,\"isAssistant\":false,\"rights\":[],\"assistants\":[],\"charity\":false,\"clinic\":[],\"block\":false,\"deviceToken\":[],\"online\":false,\"socket\":[],\"conversations\":[],\"WaitingRoomSocket\":[],\"verify\":true,\"_id\":\"606ad7fc0030edda327b8338\",\"npi\":\"16171\",\"email\":\"sunita.katyayan@gmail.com\",\"password\":\"985c201c0983d138a856ffb0c8d53890\",\"specialty\":\"Pediatrician\",\"customerProfile\":\"cus_JFJL4wNEckvbns\",\"city\":\"Jharkhand\",\"state\":\"Ranchi\",\"country\":\"India\",\"firstName\":\"Sunita\",\"lastName\":\"Katyayan\",\"referralId\":\"Sunita4EdUQ_d\",\"createdOn\":\"2021-04-05T09:27:24.861Z\",\"education\":[{\"_id\":\"606ad7fd0030edda327b833b\",\"year\":null,\"degree\":\"MBBS\",\"university\":\"Government Dental College  Hospital\"},{\"_id\":\"606ad7fd0030edda327b833c\",\"year\":null,\"degree\":\"MD\",\"university\":\"Pediatrics Government Dental College  Hospital\"}],\"PatientsWaiting\":[],\"__v\":0,\"meta\":\"606ad7fd0030edda327b8339\",\"bio\":\"Dr. Sunita Katyayan says \\\"A family paediatrician who looks after children from zero to 18 years of age. I help to promote wholesome nutrition and natural habits . Also a Lactation and infant and Young Child Nutrition Consultant. All vaccinations are also available all well as investigations also done.\\\" \",\"fee\":500,\"gender\":\"female\"}}\n"
     ]
    },
    {
     "name": "stderr",
     "output_type": "stream",
     "text": [
      "\r\n",
      " 68%|██████████████████████████████████████████████████████▎                         | 116/171 [14:21<03:43,  4.07s/it]"
     ]
    },
    {
     "name": "stdout",
     "output_type": "stream",
     "text": [
      "{'status': True, 'message': 'Image uploaded successfully'}\n",
      "606ad8020030edda327b8357 shashi.bhushan@gmail.com\n",
      "{\"status\":true,\"message\":\"Profile successfully updated\",\"data\":{\"basic\":{\"organization_name\":\"not found\",\"organizational_subpart\":\"not found\",\"enumeration_date\":\"not found\",\"last_updated\":\"not found\",\"status\":\"not found\",\"telephone_number\":\"not found\",\"title_or_position\":\"not found\",\"name_prefix\":\"not found\",\"name_suffix\":\"not found\",\"sole_proprietor\":\"not found\",\"gender\":\"not found\",\"name\":\"Shashi Bhushan\"},\"document\":{\"idProof\":false,\"registrationProof\":false,\"establishment\":false},\"address\":[],\"taxonomies\":[],\"practiceLocation\":[],\"diseases\":[],\"description\":\"NA\",\"steps\":[0,0,0,0],\"is_in_network\":true,\"is_superDoc\":false,\"location_ids\":[],\"isActive\":true,\"isApproved\":false,\"availability\":[],\"appointments\":[],\"picture\":[],\"profileStatus\":true,\"question\":[],\"appointmentsString\":\"{\\\"duration\\\":\\\"15\\\",\\\"id\\\":\\\"\\\",\\\"weekdaysArr\\\":[{\\\"days\\\":[\\\"wednesday\\\",\\\"thursday\\\",\\\"friday\\\"],\\\"startTime\\\":\\\"02:30\\\",\\\"endTime\\\":\\\"11:30\\\",\\\"lunchStart\\\":\\\"06:30\\\",\\\"lunchEnd\\\":\\\"07:30\\\"},{\\\"days\\\":[\\\"monday\\\",\\\"tuesday\\\"],\\\"startTime\\\":\\\"03:30\\\",\\\"endTime\\\":\\\"12:30\\\",\\\"lunchStart\\\":\\\"06:30\\\",\\\"lunchEnd\\\":\\\"07:30\\\"}]}\",\"onBoarding\":false,\"referrals\":[],\"latestAppointment\":[],\"payment\":true,\"isAssistant\":false,\"rights\":[],\"assistants\":[],\"charity\":false,\"clinic\":[],\"block\":false,\"deviceToken\":[],\"online\":false,\"socket\":[],\"conversations\":[],\"WaitingRoomSocket\":[],\"verify\":true,\"_id\":\"606ad8020030edda327b8357\",\"npi\":\"5009-A\",\"email\":\"shashi.bhushan@gmail.com\",\"password\":\"985c201c0983d138a856ffb0c8d53890\",\"specialty\":\"Dentist\",\"customerProfile\":\"cus_JFJLSw26I56jXA\",\"city\":\"Jharkhand\",\"state\":\"Ranchi\",\"country\":\"India\",\"firstName\":\"Shashi\",\"lastName\":\"Bhushan\",\"referralId\":\"ShashiX0bsS_d\",\"createdOn\":\"2021-04-05T09:27:30.965Z\",\"education\":[{\"_id\":\"606ad8030030edda327b835a\",\"year\":null,\"degree\":\"BDS\",\"university\":\"RDC Loni\"}],\"PatientsWaiting\":[],\"__v\":0,\"meta\":\"606ad8030030edda327b8358\",\"bio\":\"Dr. Shashi Bhushan is a Dentist in Harmu Housing Colony, Ranchi and has an experience of 9 years in this field. Dr. Shashi Bhushan practices at Hari Dental Clinic in Harmu Housing Colony, Ranchi. He completed BDS from RDC Loni, Maharashtra in 2012. He is a member of Indian Dental Association. \",\"fee\":100,\"gender\":\"male\"}}\n"
     ]
    },
    {
     "name": "stderr",
     "output_type": "stream",
     "text": [
      "\r\n",
      " 68%|██████████████████████████████████████████████████████▋                         | 117/171 [14:27<04:03,  4.52s/it]"
     ]
    },
    {
     "name": "stdout",
     "output_type": "stream",
     "text": [
      "{'status': True, 'message': 'Image uploaded successfully'}\n",
      "Not present Nishith\n",
      "Not present Prakash\n",
      "606ad8090030edda327b8375 anup.kr..gupta@gmail.com\n",
      "{\"status\":true,\"message\":\"Profile successfully updated\",\"data\":{\"basic\":{\"organization_name\":\"not found\",\"organizational_subpart\":\"not found\",\"enumeration_date\":\"not found\",\"last_updated\":\"not found\",\"status\":\"not found\",\"telephone_number\":\"not found\",\"title_or_position\":\"not found\",\"name_prefix\":\"not found\",\"name_suffix\":\"not found\",\"sole_proprietor\":\"not found\",\"gender\":\"not found\",\"name\":\"Anup Kr. Gupta\"},\"document\":{\"idProof\":false,\"registrationProof\":false,\"establishment\":false},\"address\":[],\"taxonomies\":[],\"practiceLocation\":[],\"diseases\":[],\"description\":\"NA\",\"steps\":[0,0,0,0],\"is_in_network\":true,\"is_superDoc\":false,\"location_ids\":[],\"isActive\":true,\"isApproved\":false,\"availability\":[],\"appointments\":[],\"picture\":[],\"profileStatus\":true,\"question\":[],\"appointmentsString\":\"{\\\"duration\\\":\\\"15\\\",\\\"id\\\":\\\"\\\",\\\"weekdaysArr\\\":[{\\\"days\\\":[\\\"wednesday\\\",\\\"thursday\\\",\\\"friday\\\"],\\\"startTime\\\":\\\"02:30\\\",\\\"endTime\\\":\\\"11:30\\\",\\\"lunchStart\\\":\\\"06:30\\\",\\\"lunchEnd\\\":\\\"07:30\\\"},{\\\"days\\\":[\\\"monday\\\",\\\"tuesday\\\"],\\\"startTime\\\":\\\"03:30\\\",\\\"endTime\\\":\\\"12:30\\\",\\\"lunchStart\\\":\\\"06:30\\\",\\\"lunchEnd\\\":\\\"07:30\\\"}]}\",\"onBoarding\":false,\"referrals\":[],\"latestAppointment\":[],\"payment\":true,\"isAssistant\":false,\"rights\":[],\"assistants\":[],\"charity\":false,\"clinic\":[],\"block\":false,\"deviceToken\":[],\"online\":false,\"socket\":[],\"conversations\":[],\"WaitingRoomSocket\":[],\"verify\":true,\"_id\":\"606ad8090030edda327b8375\",\"npi\":\"21550\",\"email\":\"anup.kr..gupta@gmail.com\",\"password\":\"985c201c0983d138a856ffb0c8d53890\",\"specialty\":\"Ophthalmologist/ Eye Surgeon\",\"customerProfile\":\"cus_JFJLqfgfsyekGG\",\"city\":\"Jharkhand\",\"state\":\"Ranchi\",\"country\":\"India\",\"firstName\":\"Anup\",\"lastName\":\"Kr. Gupta\",\"referralId\":\"Anup05eTe_d\",\"createdOn\":\"2021-04-05T09:27:37.071Z\",\"education\":[{\"_id\":\"606ad80a0030edda327b8378\",\"year\":null,\"degree\":\"DO\",\"university\":\"Government Dental College  Hospital\"},{\"_id\":\"606ad80a0030edda327b8379\",\"year\":null,\"degree\":\"MS\",\"university\":\"Ophthalmology Government Dental College  Hospital\"}],\"PatientsWaiting\":[],\"__v\":0,\"meta\":\"606ad8090030edda327b8376\",\"bio\":\"Dr. Anup Kr. Gupta is a Ophthalmologist/ Eye Surgeon in Ratu, Ranchi and has an experience of 34 years in this field. Dr. Anup Kr. Gupta practices at Laxmi Netralaya in Ratu, Ranchi and Ashok Opticals in Lalpur, Ranchi. He completed DO from Government Dental College Hospital, RIMS Kadapa in 1987 and MS - Ophthalmology from Government Dental College Hospital, RIMS Kadapa in 1990. He is a member of Bihar Medical Council. Some of the services provided by the doctor are: Diabetic Eye Checkup,Orbital Decompression Surgery for Thyroid Eye Disease,Eye Checkup - General,general orthology and Neuro Ophthalmology etc. \",\"fee\":300,\"gender\":\"male\"}}\n"
     ]
    },
    {
     "name": "stderr",
     "output_type": "stream",
     "text": [
      "\r\n",
      " 70%|████████████████████████████████████████████████████████▏                       | 120/171 [14:33<02:49,  3.32s/it]"
     ]
    },
    {
     "name": "stdout",
     "output_type": "stream",
     "text": [
      "{'status': True, 'message': 'Image uploaded successfully'}\n",
      "606ad80f0030edda327b8394 vikram.bhalla@gmail.com\n",
      "{\"status\":true,\"message\":\"Profile successfully updated\",\"data\":{\"basic\":{\"organization_name\":\"not found\",\"organizational_subpart\":\"not found\",\"enumeration_date\":\"not found\",\"last_updated\":\"not found\",\"status\":\"not found\",\"telephone_number\":\"not found\",\"title_or_position\":\"not found\",\"name_prefix\":\"not found\",\"name_suffix\":\"not found\",\"sole_proprietor\":\"not found\",\"gender\":\"not found\",\"name\":\"Vikram Bhalla\"},\"document\":{\"idProof\":false,\"registrationProof\":false,\"establishment\":false},\"address\":[],\"taxonomies\":[],\"practiceLocation\":[],\"diseases\":[],\"description\":\"NA\",\"steps\":[0,0,0,0],\"is_in_network\":true,\"is_superDoc\":false,\"location_ids\":[],\"isActive\":true,\"isApproved\":false,\"availability\":[],\"appointments\":[],\"picture\":[],\"profileStatus\":true,\"question\":[],\"appointmentsString\":\"{\\\"duration\\\":\\\"15\\\",\\\"id\\\":\\\"\\\",\\\"weekdaysArr\\\":[{\\\"days\\\":[\\\"wednesday\\\",\\\"thursday\\\",\\\"friday\\\"],\\\"startTime\\\":\\\"02:30\\\",\\\"endTime\\\":\\\"11:30\\\",\\\"lunchStart\\\":\\\"06:30\\\",\\\"lunchEnd\\\":\\\"07:30\\\"},{\\\"days\\\":[\\\"monday\\\",\\\"tuesday\\\"],\\\"startTime\\\":\\\"03:30\\\",\\\"endTime\\\":\\\"12:30\\\",\\\"lunchStart\\\":\\\"06:30\\\",\\\"lunchEnd\\\":\\\"07:30\\\"}]}\",\"onBoarding\":false,\"referrals\":[],\"latestAppointment\":[],\"payment\":true,\"isAssistant\":false,\"rights\":[],\"assistants\":[],\"charity\":false,\"clinic\":[],\"block\":false,\"deviceToken\":[],\"online\":false,\"socket\":[],\"conversations\":[],\"WaitingRoomSocket\":[],\"verify\":true,\"_id\":\"606ad80f0030edda327b8394\",\"npi\":\"63962\",\"email\":\"vikram.bhalla@gmail.com\",\"password\":\"985c201c0983d138a856ffb0c8d53890\",\"specialty\":\"Ophthalmologist/ Eye Surgeon\",\"customerProfile\":\"cus_JFJL0g1GeStupN\",\"city\":\"Jharkhand\",\"state\":\"Ranchi\",\"country\":\"India\",\"firstName\":\"Vikram\",\"lastName\":\"Bhalla\",\"referralId\":\"Vikramy31D7_d\",\"createdOn\":\"2021-04-05T09:27:43.209Z\",\"education\":[{\"_id\":\"606ad8100030edda327b8397\",\"year\":2008,\"degree\":\"MBBS\",\"university\":\"Nil Ratan Sircar medical college\"},{\"_id\":\"606ad8100030edda327b8398\",\"year\":2010,\"degree\":\"DNB\",\"university\":\"Ophthalmology Natboard New Delhi\"}],\"PatientsWaiting\":[],\"__v\":0,\"meta\":\"606ad80f0030edda327b8395\",\"bio\":\"Dr. Vikram Bhalla is a Ophthalmologist/ Eye Surgeon in Ranchi Airport, Ranchi and has an experience of 12 years in this field. Dr. Vikram Bhalla practices at Bhalla Eye Foundation in Ranchi Airport, Ranchi. He completed MBBS from Nil Ratan Sircar medical college in 2008,DNB - Ophthalmology from Natboard New Delhi in 2010 and Clinical Fellowship in Retina Surgery from West Bengal State University in 2016. \",\"fee\":150,\"gender\":\"male\"}}\n"
     ]
    },
    {
     "name": "stderr",
     "output_type": "stream",
     "text": [
      "\r\n",
      " 71%|████████████████████████████████████████████████████████▌                       | 121/171 [14:39<03:12,  3.85s/it]"
     ]
    },
    {
     "name": "stdout",
     "output_type": "stream",
     "text": [
      "{'status': True, 'message': 'Image uploaded successfully'}\n",
      "606ad8150030edda327b83b3 ankita.sriwastwa@gmail.com\n",
      "{\"status\":true,\"message\":\"Profile successfully updated\",\"data\":{\"basic\":{\"organization_name\":\"not found\",\"organizational_subpart\":\"not found\",\"enumeration_date\":\"not found\",\"last_updated\":\"not found\",\"status\":\"not found\",\"telephone_number\":\"not found\",\"title_or_position\":\"not found\",\"name_prefix\":\"not found\",\"name_suffix\":\"not found\",\"sole_proprietor\":\"not found\",\"gender\":\"not found\",\"name\":\"Ankita Sriwastwa\"},\"document\":{\"idProof\":false,\"registrationProof\":false,\"establishment\":false},\"address\":[],\"taxonomies\":[],\"practiceLocation\":[],\"diseases\":[],\"description\":\"NA\",\"steps\":[0,0,0,0],\"is_in_network\":true,\"is_superDoc\":false,\"location_ids\":[],\"isActive\":true,\"isApproved\":false,\"availability\":[],\"appointments\":[],\"picture\":[],\"profileStatus\":true,\"question\":[],\"appointmentsString\":\"{\\\"duration\\\":\\\"15\\\",\\\"id\\\":\\\"\\\",\\\"weekdaysArr\\\":[{\\\"days\\\":[\\\"wednesday\\\",\\\"thursday\\\",\\\"friday\\\"],\\\"startTime\\\":\\\"02:30\\\",\\\"endTime\\\":\\\"11:30\\\",\\\"lunchStart\\\":\\\"06:30\\\",\\\"lunchEnd\\\":\\\"07:30\\\"},{\\\"days\\\":[\\\"monday\\\",\\\"tuesday\\\"],\\\"startTime\\\":\\\"03:30\\\",\\\"endTime\\\":\\\"12:30\\\",\\\"lunchStart\\\":\\\"06:30\\\",\\\"lunchEnd\\\":\\\"07:30\\\"}]}\",\"onBoarding\":false,\"referrals\":[],\"latestAppointment\":[],\"payment\":true,\"isAssistant\":false,\"rights\":[],\"assistants\":[],\"charity\":false,\"clinic\":[],\"block\":false,\"deviceToken\":[],\"online\":false,\"socket\":[],\"conversations\":[],\"WaitingRoomSocket\":[],\"verify\":true,\"_id\":\"606ad8150030edda327b83b3\",\"npi\":\"30227A\",\"email\":\"ankita.sriwastwa@gmail.com\",\"password\":\"985c201c0983d138a856ffb0c8d53890\",\"specialty\":\"Pediatric Dentist\",\"customerProfile\":\"cus_JFJLXs8dk0CkQr\",\"city\":\"Jharkhand\",\"state\":\"Ranchi\",\"country\":\"India\",\"firstName\":\"Ankita\",\"lastName\":\"Sriwastwa\",\"referralId\":\"AnkitaDSFEJ_d\",\"createdOn\":\"2021-04-05T09:27:49.307Z\",\"education\":[{\"_id\":\"606ad8160030edda327b83b6\",\"year\":null,\"degree\":\"BDS\",\"university\":\"Manipal College of Dental Sciences\"},{\"_id\":\"606ad8160030edda327b83b7\",\"year\":2017,\"degree\":\"MDS\",\"university\":\"Paedodontics And Preventive Dentistry BHARATI VIDYAPEETH'S DENTAL COLLEGE &HOSPITAL  PUNE\"}],\"PatientsWaiting\":[],\"__v\":0,\"meta\":\"606ad8150030edda327b83b4\",\"bio\":\"Dr. Ankita Sriwastwa is a Pediatric Dentist in Ashok Nagar, Ranchi and has an experience of 8 years in this field. Dr. Ankita Sriwastwa practices at Dental Care Centre in Ashok Nagar, Ranchi. She completed BDS from Manipal College of Dental Sciences, Manipal in 2012 and MDS - Paedodontics And Preventive Dentistry from BHARATI VIDYAPEETH'S DENTAL COLLEGE &HOSPITAL PUNE in 2017. \",\"fee\":300,\"gender\":\"female\"}}\n"
     ]
    },
    {
     "name": "stderr",
     "output_type": "stream",
     "text": [
      "\r\n",
      " 71%|█████████████████████████████████████████████████████████                       | 122/171 [14:46<03:32,  4.34s/it]"
     ]
    },
    {
     "name": "stdout",
     "output_type": "stream",
     "text": [
      "{'status': True, 'message': 'Image uploaded successfully'}\n"
     ]
    },
    {
     "name": "stderr",
     "output_type": "stream",
     "text": [
      "\r\n",
      " 72%|█████████████████████████████████████████████████████████▌                      | 123/171 [14:46<02:44,  3.44s/it]"
     ]
    },
    {
     "name": "stdout",
     "output_type": "stream",
     "text": [
      "This email is already taken\n",
      "606ad81c0030edda327b83d2 ujjawal.roy@gmail.com\n",
      "{\"status\":true,\"message\":\"Profile successfully updated\",\"data\":{\"basic\":{\"organization_name\":\"not found\",\"organizational_subpart\":\"not found\",\"enumeration_date\":\"not found\",\"last_updated\":\"not found\",\"status\":\"not found\",\"telephone_number\":\"not found\",\"title_or_position\":\"not found\",\"name_prefix\":\"not found\",\"name_suffix\":\"not found\",\"sole_proprietor\":\"not found\",\"gender\":\"not found\",\"name\":\"Ujjawal Roy\"},\"document\":{\"idProof\":false,\"registrationProof\":false,\"establishment\":false},\"address\":[],\"taxonomies\":[],\"practiceLocation\":[],\"diseases\":[],\"description\":\"NA\",\"steps\":[0,0,0,0],\"is_in_network\":true,\"is_superDoc\":false,\"location_ids\":[],\"isActive\":true,\"isApproved\":false,\"availability\":[],\"appointments\":[],\"picture\":[],\"profileStatus\":true,\"question\":[],\"appointmentsString\":\"{\\\"duration\\\":\\\"15\\\",\\\"id\\\":\\\"\\\",\\\"weekdaysArr\\\":[{\\\"days\\\":[\\\"wednesday\\\",\\\"thursday\\\",\\\"friday\\\"],\\\"startTime\\\":\\\"02:30\\\",\\\"endTime\\\":\\\"11:30\\\",\\\"lunchStart\\\":\\\"06:30\\\",\\\"lunchEnd\\\":\\\"07:30\\\"},{\\\"days\\\":[\\\"monday\\\",\\\"tuesday\\\"],\\\"startTime\\\":\\\"03:30\\\",\\\"endTime\\\":\\\"12:30\\\",\\\"lunchStart\\\":\\\"06:30\\\",\\\"lunchEnd\\\":\\\"07:30\\\"}]}\",\"onBoarding\":false,\"referrals\":[],\"latestAppointment\":[],\"payment\":true,\"isAssistant\":false,\"rights\":[],\"assistants\":[],\"charity\":false,\"clinic\":[],\"block\":false,\"deviceToken\":[],\"online\":false,\"socket\":[],\"conversations\":[],\"WaitingRoomSocket\":[],\"verify\":true,\"_id\":\"606ad81c0030edda327b83d2\",\"npi\":\"04442\",\"email\":\"ujjawal.roy@gmail.com\",\"password\":\"985c201c0983d138a856ffb0c8d53890\",\"specialty\":\"Neurologist\",\"customerProfile\":\"cus_JFJL2S7eWe3AII\",\"city\":\"Jharkhand\",\"state\":\"Ranchi\",\"country\":\"India\",\"firstName\":\"Ujjawal\",\"lastName\":\"Roy\",\"referralId\":\"UjjawalnmUKM_d\",\"createdOn\":\"2021-04-05T09:27:56.028Z\",\"education\":[{\"_id\":\"606ad81d0030edda327b83d5\",\"year\":2007,\"degree\":\"MBBS\",\"university\":\"University of Delhi\"},{\"_id\":\"606ad81d0030edda327b83d6\",\"year\":2012,\"degree\":\"MD\",\"university\":\"General Medicine University of Delhi\"},{\"_id\":\"606ad81d0030edda327b83d7\",\"year\":null,\"degree\":\"DM\",\"university\":\"Neurology The West Bengal University of Health Sciences (WBUHS)\"}],\"PatientsWaiting\":[],\"__v\":0,\"meta\":\"606ad81c0030edda327b83d3\",\"bio\":\"Dr. Ujjawal Roy is a Neurologist in Ahirtoli, Ranchi and has an experience of 14 years in this field. Dr. Ujjawal Roy practices at Orchid Medical Centre in Ahirtoli, Ranchi. He completed MBBS from University of Delhi in 2007,MD - General Medicine from University of Delhi in 2012 and DM - Neurology from The West Bengal University of Health Sciences (WBUHS), Kolkata in 2016. Service provided by the doctor is: DM-Neurology. \",\"fee\":800,\"gender\":\"male\"}}\n"
     ]
    },
    {
     "name": "stderr",
     "output_type": "stream",
     "text": [
      "\r\n",
      " 73%|██████████████████████████████████████████████████████████                      | 124/171 [14:52<03:13,  4.11s/it]"
     ]
    },
    {
     "name": "stdout",
     "output_type": "stream",
     "text": [
      "{'status': True, 'message': 'Image uploaded successfully'}\n",
      "Not present Rashmi\n",
      "Not present Priyankesh\n",
      "606ad8220030edda327b83f2 rajeev.ranjan@gmail.com\n",
      "{\"status\":true,\"message\":\"Profile successfully updated\",\"data\":{\"basic\":{\"organization_name\":\"not found\",\"organizational_subpart\":\"not found\",\"enumeration_date\":\"not found\",\"last_updated\":\"not found\",\"status\":\"not found\",\"telephone_number\":\"not found\",\"title_or_position\":\"not found\",\"name_prefix\":\"not found\",\"name_suffix\":\"not found\",\"sole_proprietor\":\"not found\",\"gender\":\"not found\",\"name\":\"Rajeev Ranjan\"},\"document\":{\"idProof\":false,\"registrationProof\":false,\"establishment\":false},\"address\":[],\"taxonomies\":[],\"practiceLocation\":[],\"diseases\":[],\"description\":\"NA\",\"steps\":[0,0,0,0],\"is_in_network\":true,\"is_superDoc\":false,\"location_ids\":[],\"isActive\":true,\"isApproved\":false,\"availability\":[],\"appointments\":[],\"picture\":[],\"profileStatus\":true,\"question\":[],\"appointmentsString\":\"{\\\"duration\\\":\\\"15\\\",\\\"id\\\":\\\"\\\",\\\"weekdaysArr\\\":[{\\\"days\\\":[\\\"wednesday\\\",\\\"thursday\\\",\\\"friday\\\"],\\\"startTime\\\":\\\"02:30\\\",\\\"endTime\\\":\\\"11:30\\\",\\\"lunchStart\\\":\\\"06:30\\\",\\\"lunchEnd\\\":\\\"07:30\\\"},{\\\"days\\\":[\\\"monday\\\",\\\"tuesday\\\"],\\\"startTime\\\":\\\"03:30\\\",\\\"endTime\\\":\\\"12:30\\\",\\\"lunchStart\\\":\\\"06:30\\\",\\\"lunchEnd\\\":\\\"07:30\\\"}]}\",\"onBoarding\":false,\"referrals\":[],\"latestAppointment\":[],\"payment\":true,\"isAssistant\":false,\"rights\":[],\"assistants\":[],\"charity\":false,\"clinic\":[],\"block\":false,\"deviceToken\":[],\"online\":false,\"socket\":[],\"conversations\":[],\"WaitingRoomSocket\":[],\"verify\":true,\"_id\":\"606ad8220030edda327b83f2\",\"npi\":\"A21651\",\"email\":\"rajeev.ranjan@gmail.com\",\"password\":\"985c201c0983d138a856ffb0c8d53890\",\"specialty\":\"Prosthetist and Orthotist\",\"customerProfile\":\"cus_JFJLYHANVKYnT2\",\"city\":\"Jharkhand\",\"state\":\"Ranchi\",\"country\":\"India\",\"firstName\":\"Rajeev\",\"lastName\":\"Ranjan\",\"referralId\":\"Rajeevj8LoP_d\",\"createdOn\":\"2021-04-05T09:28:02.127Z\",\"education\":[{\"_id\":\"606ad8230030edda327b83f5\",\"year\":null,\"degree\":\"Bachelor in Prosthetics and Orthotics (BPO)\",\"university\":\"National Institute for the Orthopedically Handicapped\"}],\"PatientsWaiting\":[],\"__v\":0,\"meta\":\"606ad8220030edda327b83f3\",\"bio\":\"Dr. Rajeev Ranjan is a Prosthetist and Orthotist in Harmu Housing Colony, Ranchi and has an experience of 8 years in this field. Dr. Rajeev Ranjan practices at Remedy Prosthetic and Orthotic Center in Harmu Housing Colony, Ranchi. He completed Bachelor in Prosthetics and Orthotics (BPO) from National Institute for the Orthopaedically Handicapped Kolkata in 2008. \",\"fee\":250,\"gender\":\"male\"}}\n"
     ]
    },
    {
     "name": "stderr",
     "output_type": "stream",
     "text": [
      "\r\n",
      " 74%|███████████████████████████████████████████████████████████▍                    | 127/171 [14:58<02:15,  3.07s/it]"
     ]
    },
    {
     "name": "stdout",
     "output_type": "stream",
     "text": [
      "{'status': True, 'message': 'Image uploaded successfully'}\n",
      "606ad8280030edda327b8410 p..kumari.nag@gmail.com\n",
      "{\"status\":true,\"message\":\"Profile successfully updated\",\"data\":{\"basic\":{\"organization_name\":\"not found\",\"organizational_subpart\":\"not found\",\"enumeration_date\":\"not found\",\"last_updated\":\"not found\",\"status\":\"not found\",\"telephone_number\":\"not found\",\"title_or_position\":\"not found\",\"name_prefix\":\"not found\",\"name_suffix\":\"not found\",\"sole_proprietor\":\"not found\",\"gender\":\"not found\",\"name\":\"P. Kumari Nag\"},\"document\":{\"idProof\":false,\"registrationProof\":false,\"establishment\":false},\"address\":[],\"taxonomies\":[],\"practiceLocation\":[],\"diseases\":[],\"description\":\"NA\",\"steps\":[0,0,0,0],\"is_in_network\":true,\"is_superDoc\":false,\"location_ids\":[],\"isActive\":true,\"isApproved\":false,\"availability\":[],\"appointments\":[],\"picture\":[],\"profileStatus\":true,\"question\":[],\"appointmentsString\":\"{\\\"duration\\\":\\\"15\\\",\\\"id\\\":\\\"\\\",\\\"weekdaysArr\\\":[{\\\"days\\\":[\\\"wednesday\\\",\\\"thursday\\\",\\\"friday\\\"],\\\"startTime\\\":\\\"02:30\\\",\\\"endTime\\\":\\\"11:30\\\",\\\"lunchStart\\\":\\\"06:30\\\",\\\"lunchEnd\\\":\\\"07:30\\\"},{\\\"days\\\":[\\\"monday\\\",\\\"tuesday\\\"],\\\"startTime\\\":\\\"03:30\\\",\\\"endTime\\\":\\\"12:30\\\",\\\"lunchStart\\\":\\\"06:30\\\",\\\"lunchEnd\\\":\\\"07:30\\\"}]}\",\"onBoarding\":false,\"referrals\":[],\"latestAppointment\":[],\"payment\":true,\"isAssistant\":false,\"rights\":[],\"assistants\":[],\"charity\":false,\"clinic\":[],\"block\":false,\"deviceToken\":[],\"online\":false,\"socket\":[],\"conversations\":[],\"WaitingRoomSocket\":[],\"verify\":true,\"_id\":\"606ad8280030edda327b8410\",\"npi\":\"21297\",\"email\":\"p..kumari.nag@gmail.com\",\"password\":\"985c201c0983d138a856ffb0c8d53890\",\"specialty\":\"General Surgeon\",\"customerProfile\":\"cus_JFJLJbaLLCXq59\",\"city\":\"Jharkhand\",\"state\":\"Ranchi\",\"country\":\"India\",\"firstName\":\"P.\",\"lastName\":\"Kumari Nag\",\"referralId\":\"P.lo8ZH_d\",\"createdOn\":\"2021-04-05T09:28:08.427Z\",\"education\":[{\"_id\":\"606ad8290030edda327b8413\",\"year\":1984,\"degree\":\"MBBS\",\"university\":\"Ranchi University\"},{\"_id\":\"606ad8290030edda327b8414\",\"year\":1991,\"degree\":\"MS\",\"university\":\"General Surgery Ranchi University\"}],\"PatientsWaiting\":[],\"__v\":0,\"meta\":\"606ad8280030edda327b8411\",\"bio\":\"Dr. P. Kumari Nag is a General Surgeon in Kanke, Ranchi and has an experience of 33 years in this field. Dr. P. Kumari Nag practices at The Medicare Health Clinic in Kanke, Ranchi. She completed MBBS from Ranchi University in 1984 and MS - General Surgery from Ranchi University in 1991. She is a member of Indian Medical Association (IMA). Some of the services provided by the doctor are: Skin Treatment,Fistula Surgery,Cardio Thoracic Surgery,Laparoscopic Surgery and Endoscopy etc. \",\"fee\":200,\"gender\":\"male\"}}\n"
     ]
    },
    {
     "name": "stderr",
     "output_type": "stream",
     "text": [
      "\r\n",
      " 75%|███████████████████████████████████████████████████████████▉                    | 128/171 [15:05<02:37,  3.67s/it]"
     ]
    },
    {
     "name": "stdout",
     "output_type": "stream",
     "text": [
      "{'status': True, 'message': 'Image uploaded successfully'}\n",
      "606ad82e0030edda327b842f basant.kumar.singh@gmail.com\n",
      "{\"status\":true,\"message\":\"Profile successfully updated\",\"data\":{\"basic\":{\"organization_name\":\"not found\",\"organizational_subpart\":\"not found\",\"enumeration_date\":\"not found\",\"last_updated\":\"not found\",\"status\":\"not found\",\"telephone_number\":\"not found\",\"title_or_position\":\"not found\",\"name_prefix\":\"not found\",\"name_suffix\":\"not found\",\"sole_proprietor\":\"not found\",\"gender\":\"not found\",\"name\":\"Basant Kumar Singh\"},\"document\":{\"idProof\":false,\"registrationProof\":false,\"establishment\":false},\"address\":[],\"taxonomies\":[],\"practiceLocation\":[],\"diseases\":[],\"description\":\"NA\",\"steps\":[0,0,0,0],\"is_in_network\":true,\"is_superDoc\":false,\"location_ids\":[],\"isActive\":true,\"isApproved\":false,\"availability\":[],\"appointments\":[],\"picture\":[],\"profileStatus\":true,\"question\":[],\"appointmentsString\":\"{\\\"duration\\\":\\\"15\\\",\\\"id\\\":\\\"\\\",\\\"weekdaysArr\\\":[{\\\"days\\\":[\\\"wednesday\\\",\\\"thursday\\\",\\\"friday\\\"],\\\"startTime\\\":\\\"02:30\\\",\\\"endTime\\\":\\\"11:30\\\",\\\"lunchStart\\\":\\\"06:30\\\",\\\"lunchEnd\\\":\\\"07:30\\\"},{\\\"days\\\":[\\\"monday\\\",\\\"tuesday\\\"],\\\"startTime\\\":\\\"03:30\\\",\\\"endTime\\\":\\\"12:30\\\",\\\"lunchStart\\\":\\\"06:30\\\",\\\"lunchEnd\\\":\\\"07:30\\\"}]}\",\"onBoarding\":false,\"referrals\":[],\"latestAppointment\":[],\"payment\":true,\"isAssistant\":false,\"rights\":[],\"assistants\":[],\"charity\":false,\"clinic\":[],\"block\":false,\"deviceToken\":[],\"online\":false,\"socket\":[],\"conversations\":[],\"WaitingRoomSocket\":[],\"verify\":true,\"_id\":\"606ad82e0030edda327b842f\",\"npi\":\"9691\",\"email\":\"basant.kumar.singh@gmail.com\",\"password\":\"985c201c0983d138a856ffb0c8d53890\",\"specialty\":\"Neurologist\",\"customerProfile\":\"cus_JFJLBYRCOJUEEk\",\"city\":\"Jharkhand\",\"state\":\"Ranchi\",\"country\":\"India\",\"firstName\":\"Basant\",\"lastName\":\"Kumar Singh\",\"referralId\":\"BasantQ9MfY_d\",\"createdOn\":\"2021-04-05T09:28:14.561Z\",\"education\":[{\"_id\":\"606ad82f0030edda327b8432\",\"year\":null,\"degree\":\"MCh\",\"university\":\"Neuro Surgery Government Dental College  Hospital\"},{\"_id\":\"606ad82f0030edda327b8433\",\"year\":null,\"degree\":\"MS\",\"university\":\"General Surgery Darbhanga Medical College And Hospital\"},{\"_id\":\"606ad82f0030edda327b8434\",\"year\":1969,\"degree\":\"MBBS\",\"university\":\"University of Bihar\"}],\"PatientsWaiting\":[],\"__v\":0,\"meta\":\"606ad82e0030edda327b8430\",\"bio\":\"MBBS ( Gold Medalist ) MS (Surg.) M.Ch.( Neuro ) FIGM ( USA ) FICS , FIAMS Retd. Prof. & Head of Deptt. Neurosurgery - RIMS, Ranchi, Jharkhand. Medical specialist in concerned with the prevention, diagnosis, treatment, and rehabilitation of disorders which affect any portion of the nervous system including the brain, spinal cord, peripheral nerves, and extra-cranial cerebrovascular system. \",\"fee\":700,\"gender\":\"male\"}}\n"
     ]
    },
    {
     "name": "stderr",
     "output_type": "stream",
     "text": [
      "\r\n",
      " 75%|████████████████████████████████████████████████████████████▎                   | 129/171 [15:11<03:00,  4.30s/it]"
     ]
    },
    {
     "name": "stdout",
     "output_type": "stream",
     "text": [
      "{'status': True, 'message': 'Image uploaded successfully'}\n",
      "Not present Ankita\n",
      "606ad8350030edda327b844f saankritya.ayan@gmail.com\n",
      "{\"status\":true,\"message\":\"Profile successfully updated\",\"data\":{\"basic\":{\"organization_name\":\"not found\",\"organizational_subpart\":\"not found\",\"enumeration_date\":\"not found\",\"last_updated\":\"not found\",\"status\":\"not found\",\"telephone_number\":\"not found\",\"title_or_position\":\"not found\",\"name_prefix\":\"not found\",\"name_suffix\":\"not found\",\"sole_proprietor\":\"not found\",\"gender\":\"not found\",\"name\":\"Saankritya Ayan\"},\"document\":{\"idProof\":false,\"registrationProof\":false,\"establishment\":false},\"address\":[],\"taxonomies\":[],\"practiceLocation\":[],\"diseases\":[],\"description\":\"NA\",\"steps\":[0,0,0,0],\"is_in_network\":true,\"is_superDoc\":false,\"location_ids\":[],\"isActive\":true,\"isApproved\":false,\"availability\":[],\"appointments\":[],\"picture\":[],\"profileStatus\":true,\"question\":[],\"appointmentsString\":\"{\\\"duration\\\":\\\"15\\\",\\\"id\\\":\\\"\\\",\\\"weekdaysArr\\\":[{\\\"days\\\":[\\\"wednesday\\\",\\\"thursday\\\",\\\"friday\\\"],\\\"startTime\\\":\\\"02:30\\\",\\\"endTime\\\":\\\"11:30\\\",\\\"lunchStart\\\":\\\"06:30\\\",\\\"lunchEnd\\\":\\\"07:30\\\"},{\\\"days\\\":[\\\"monday\\\",\\\"tuesday\\\"],\\\"startTime\\\":\\\"03:30\\\",\\\"endTime\\\":\\\"12:30\\\",\\\"lunchStart\\\":\\\"06:30\\\",\\\"lunchEnd\\\":\\\"07:30\\\"}]}\",\"onBoarding\":false,\"referrals\":[],\"latestAppointment\":[],\"payment\":true,\"isAssistant\":false,\"rights\":[],\"assistants\":[],\"charity\":false,\"clinic\":[],\"block\":false,\"deviceToken\":[],\"online\":false,\"socket\":[],\"conversations\":[],\"WaitingRoomSocket\":[],\"verify\":true,\"_id\":\"606ad8350030edda327b844f\",\"npi\":\"26820\",\"email\":\"saankritya.ayan@gmail.com\",\"password\":\"985c201c0983d138a856ffb0c8d53890\",\"specialty\":\"Spine Surgeon\",\"customerProfile\":\"cus_JFJM3ImjqLdCKF\",\"city\":\"Jharkhand\",\"state\":\"Ranchi\",\"country\":\"India\",\"firstName\":\"Saankritya\",\"lastName\":\"Ayan\",\"referralId\":\"SaankrityaRc6Xi_d\",\"createdOn\":\"2021-04-05T09:28:21.095Z\",\"education\":[{\"_id\":\"606ad8360030edda327b8452\",\"year\":2010,\"degree\":\"MS\",\"university\":\"Orthopaedics NRS Medical College and Hospital\"},{\"_id\":\"606ad8360030edda327b8453\",\"year\":2005,\"degree\":\"MBBS\",\"university\":\"University of Calcutta\"}],\"PatientsWaiting\":[],\"__v\":0,\"meta\":\"606ad8350030edda327b8450\",\"bio\":\"Dr.Ayan is MBBS graduate from Calcutta University. He completed his MS ortho from the prestigious NRS Medical College and is the university gold medalist of his batch. He served as a Assistant Professor in the same institute for 3 years.He trained further in the United States in Spine surgery and Sports medicine- arthroscopic surgery for 4 years in some of the most reputed university hospitals like Albert Einstein College of Medicine, New York and Georgetown University, Washington DC. Currently he hold s a permanent License for practice in New York State.He has authored more than 50 abstracts and articles which have been presented in various national and international conferences.He specializes in disorders of the Spine, Sports related injuries, complex fracture surgery, arthroscopic ligament repair of the knee, shoulder, hip, wrist,ankle. he has special interest in Minimally invasive Spine surgery, Pelvi-acetabular surgery, Arthroscopic shoulder, hip, knee surgery and Joint replacement of the knee and hip. \",\"fee\":500,\"gender\":\"male\"}}\n"
     ]
    },
    {
     "name": "stderr",
     "output_type": "stream",
     "text": [
      "\r\n",
      " 77%|█████████████████████████████████████████████████████████████▎                  | 131/171 [15:17<02:34,  3.85s/it]"
     ]
    },
    {
     "name": "stdout",
     "output_type": "stream",
     "text": [
      "{'status': True, 'message': 'Image uploaded successfully'}\n"
     ]
    },
    {
     "name": "stderr",
     "output_type": "stream",
     "text": [
      "\r\n",
      " 77%|█████████████████████████████████████████████████████████████▊                  | 132/171 [15:18<02:01,  3.11s/it]"
     ]
    },
    {
     "name": "stdout",
     "output_type": "stream",
     "text": [
      "This email is already taken\n",
      "Not present Rakesh\n",
      "606ad83b0030edda327b846e anoop.mohan.nair@gmail.com\n",
      "{\"status\":true,\"message\":\"Profile successfully updated\",\"data\":{\"basic\":{\"organization_name\":\"not found\",\"organizational_subpart\":\"not found\",\"enumeration_date\":\"not found\",\"last_updated\":\"not found\",\"status\":\"not found\",\"telephone_number\":\"not found\",\"title_or_position\":\"not found\",\"name_prefix\":\"not found\",\"name_suffix\":\"not found\",\"sole_proprietor\":\"not found\",\"gender\":\"not found\",\"name\":\"Anoop Mohan Nair\"},\"document\":{\"idProof\":false,\"registrationProof\":false,\"establishment\":false},\"address\":[],\"taxonomies\":[],\"practiceLocation\":[],\"diseases\":[],\"description\":\"NA\",\"steps\":[0,0,0,0],\"is_in_network\":true,\"is_superDoc\":false,\"location_ids\":[],\"isActive\":true,\"isApproved\":false,\"availability\":[],\"appointments\":[],\"picture\":[],\"profileStatus\":true,\"question\":[],\"appointmentsString\":\"{\\\"duration\\\":\\\"15\\\",\\\"id\\\":\\\"\\\",\\\"weekdaysArr\\\":[{\\\"days\\\":[\\\"wednesday\\\",\\\"thursday\\\",\\\"friday\\\"],\\\"startTime\\\":\\\"02:30\\\",\\\"endTime\\\":\\\"11:30\\\",\\\"lunchStart\\\":\\\"06:30\\\",\\\"lunchEnd\\\":\\\"07:30\\\"},{\\\"days\\\":[\\\"monday\\\",\\\"tuesday\\\"],\\\"startTime\\\":\\\"03:30\\\",\\\"endTime\\\":\\\"12:30\\\",\\\"lunchStart\\\":\\\"06:30\\\",\\\"lunchEnd\\\":\\\"07:30\\\"}]}\",\"onBoarding\":false,\"referrals\":[],\"latestAppointment\":[],\"payment\":true,\"isAssistant\":false,\"rights\":[],\"assistants\":[],\"charity\":false,\"clinic\":[],\"block\":false,\"deviceToken\":[],\"online\":false,\"socket\":[],\"conversations\":[],\"WaitingRoomSocket\":[],\"verify\":true,\"_id\":\"606ad83b0030edda327b846e\",\"npi\":\"32090\",\"email\":\"anoop.mohan.nair@gmail.com\",\"password\":\"985c201c0983d138a856ffb0c8d53890\",\"specialty\":\"Orthopedist\",\"customerProfile\":\"cus_JFJMoazhcaiCRI\",\"city\":\"Jharkhand\",\"state\":\"Ranchi\",\"country\":\"India\",\"firstName\":\"Anoop\",\"lastName\":\"Mohan Nair\",\"referralId\":\"Anoop7U9Xg_d\",\"createdOn\":\"2021-04-05T09:28:27.719Z\",\"education\":[{\"_id\":\"606ad83c0030edda327b8471\",\"year\":2008,\"degree\":\"MS\",\"university\":\"Orthopaedics Govt Medical college  Trivandrum\"},{\"_id\":\"606ad83c0030edda327b8472\",\"year\":2003,\"degree\":\"MBBS\",\"university\":\"University of kerala\"}],\"PatientsWaiting\":[],\"__v\":0,\"meta\":\"606ad83b0030edda327b846f\",\"bio\":\"Knee shoulder and spine\",\"fee\":400,\"gender\":\"male\"}}\n"
     ]
    },
    {
     "name": "stderr",
     "output_type": "stream",
     "text": [
      "\r\n",
      " 78%|██████████████████████████████████████████████████████████████▋                 | 134/171 [15:24<01:54,  3.10s/it]"
     ]
    },
    {
     "name": "stdout",
     "output_type": "stream",
     "text": [
      "{'status': True, 'message': 'Image uploaded successfully'}\n",
      "Not present Bhavya\n",
      "Not present S\n",
      "606ad8410030edda327b848d o..p..sinha@gmail.com\n",
      "{\"status\":true,\"message\":\"Profile successfully updated\",\"data\":{\"basic\":{\"organization_name\":\"not found\",\"organizational_subpart\":\"not found\",\"enumeration_date\":\"not found\",\"last_updated\":\"not found\",\"status\":\"not found\",\"telephone_number\":\"not found\",\"title_or_position\":\"not found\",\"name_prefix\":\"not found\",\"name_suffix\":\"not found\",\"sole_proprietor\":\"not found\",\"gender\":\"not found\",\"name\":\"O. P. Sinha\"},\"document\":{\"idProof\":false,\"registrationProof\":false,\"establishment\":false},\"address\":[],\"taxonomies\":[],\"practiceLocation\":[],\"diseases\":[],\"description\":\"NA\",\"steps\":[0,0,0,0],\"is_in_network\":true,\"is_superDoc\":false,\"location_ids\":[],\"isActive\":true,\"isApproved\":false,\"availability\":[],\"appointments\":[],\"picture\":[],\"profileStatus\":true,\"question\":[],\"appointmentsString\":\"{\\\"duration\\\":\\\"15\\\",\\\"id\\\":\\\"\\\",\\\"weekdaysArr\\\":[{\\\"days\\\":[\\\"wednesday\\\",\\\"thursday\\\",\\\"friday\\\"],\\\"startTime\\\":\\\"02:30\\\",\\\"endTime\\\":\\\"11:30\\\",\\\"lunchStart\\\":\\\"06:30\\\",\\\"lunchEnd\\\":\\\"07:30\\\"},{\\\"days\\\":[\\\"monday\\\",\\\"tuesday\\\"],\\\"startTime\\\":\\\"03:30\\\",\\\"endTime\\\":\\\"12:30\\\",\\\"lunchStart\\\":\\\"06:30\\\",\\\"lunchEnd\\\":\\\"07:30\\\"}]}\",\"onBoarding\":false,\"referrals\":[],\"latestAppointment\":[],\"payment\":true,\"isAssistant\":false,\"rights\":[],\"assistants\":[],\"charity\":false,\"clinic\":[],\"block\":false,\"deviceToken\":[],\"online\":false,\"socket\":[],\"conversations\":[],\"WaitingRoomSocket\":[],\"verify\":true,\"_id\":\"606ad8410030edda327b848d\",\"npi\":\"26900\",\"email\":\"o..p..sinha@gmail.com\",\"password\":\"985c201c0983d138a856ffb0c8d53890\",\"specialty\":\"Ophthalmologist/ Eye Surgeon\",\"customerProfile\":\"cus_JFJM3mmN5VKJXU\",\"city\":\"Jharkhand\",\"state\":\"Ranchi\",\"country\":\"India\",\"firstName\":\"O.\",\"lastName\":\"P. Sinha\",\"referralId\":\"O.nWNeZ_d\",\"createdOn\":\"2021-04-05T09:28:33.905Z\",\"education\":[{\"_id\":\"606ad8420030edda327b8490\",\"year\":null,\"degree\":\"MBBS\",\"university\":\"Jawaharlal Nehru Medical College\"},{\"_id\":\"606ad8420030edda327b8491\",\"year\":null,\"degree\":\"DO\",\"university\":\"Government Dental College  Hospital\"},{\"_id\":\"606ad8420030edda327b8492\",\"year\":null,\"degree\":\"MS\",\"university\":\"Ophthalmology Maharshi Dayanand University\"}],\"PatientsWaiting\":[],\"__v\":0,\"meta\":\"606ad8420030edda327b848e\",\"bio\":\"Dr. O. P. Sinha is a Ophthalmologist/ Eye Surgeon in Ratu, Ranchi and has an experience of 21 years in this field. Dr. O. P. Sinha practices at D.N. Prasad Eye Centre in Ratu, Ranchi. He completed MBBS from Jawaharlal Nehru Medical College, Bhagalpur in 1991,DO from Government Dental College Hospital, RIMS Kadapa in 1998 and MS - Ophthalmology from Maharshi Dayanand University, Rohtak in 2001. He is a member of All India Ophthalmological Society and Glaucoma Society Of India (GSI). Some of the services provided by the doctor are: Corneal Surgery,Vitreoretinal Surgery,Cataract Surgery,Eye Checkup - General and LASIK Eye Surgery etc. \",\"fee\":300,\"gender\":\"male\"}}\n"
     ]
    },
    {
     "name": "stderr",
     "output_type": "stream",
     "text": [
      "\r\n",
      " 80%|████████████████████████████████████████████████████████████████                | 137/171 [15:30<01:29,  2.62s/it]"
     ]
    },
    {
     "name": "stdout",
     "output_type": "stream",
     "text": [
      "{'status': True, 'message': 'Image uploaded successfully'}\n",
      "606ad8470030edda327b84ad rajesh.kumar.jha@gmail.com\n",
      "{\"status\":true,\"message\":\"Profile successfully updated\",\"data\":{\"basic\":{\"organization_name\":\"not found\",\"organizational_subpart\":\"not found\",\"enumeration_date\":\"not found\",\"last_updated\":\"not found\",\"status\":\"not found\",\"telephone_number\":\"not found\",\"title_or_position\":\"not found\",\"name_prefix\":\"not found\",\"name_suffix\":\"not found\",\"sole_proprietor\":\"not found\",\"gender\":\"not found\",\"name\":\"RAJESH KUMAR JHA\"},\"document\":{\"idProof\":false,\"registrationProof\":false,\"establishment\":false},\"address\":[],\"taxonomies\":[],\"practiceLocation\":[],\"diseases\":[],\"description\":\"NA\",\"steps\":[0,0,0,0],\"is_in_network\":true,\"is_superDoc\":false,\"location_ids\":[],\"isActive\":true,\"isApproved\":false,\"availability\":[],\"appointments\":[],\"picture\":[],\"profileStatus\":true,\"question\":[],\"appointmentsString\":\"{\\\"duration\\\":\\\"15\\\",\\\"id\\\":\\\"\\\",\\\"weekdaysArr\\\":[{\\\"days\\\":[\\\"wednesday\\\",\\\"thursday\\\",\\\"friday\\\"],\\\"startTime\\\":\\\"02:30\\\",\\\"endTime\\\":\\\"11:30\\\",\\\"lunchStart\\\":\\\"06:30\\\",\\\"lunchEnd\\\":\\\"07:30\\\"},{\\\"days\\\":[\\\"monday\\\",\\\"tuesday\\\"],\\\"startTime\\\":\\\"03:30\\\",\\\"endTime\\\":\\\"12:30\\\",\\\"lunchStart\\\":\\\"06:30\\\",\\\"lunchEnd\\\":\\\"07:30\\\"}]}\",\"onBoarding\":false,\"referrals\":[],\"latestAppointment\":[],\"payment\":true,\"isAssistant\":false,\"rights\":[],\"assistants\":[],\"charity\":false,\"clinic\":[],\"block\":false,\"deviceToken\":[],\"online\":false,\"socket\":[],\"conversations\":[],\"WaitingRoomSocket\":[],\"verify\":true,\"_id\":\"606ad8470030edda327b84ad\",\"npi\":\"429\",\"email\":\"rajesh.kumar.jha@gmail.com\",\"password\":\"985c201c0983d138a856ffb0c8d53890\",\"specialty\":\"Cardiologist\",\"customerProfile\":\"cus_JFJMNkrP6htSBr\",\"city\":\"Jharkhand\",\"state\":\"Ranchi\",\"country\":\"India\",\"firstName\":\"RAJESH\",\"lastName\":\"KUMAR JHA\",\"referralId\":\"RAJESHW07oc_d\",\"createdOn\":\"2021-04-05T09:28:39.980Z\",\"education\":[{\"_id\":\"606ad8480030edda327b84b0\",\"year\":null,\"degree\":\"DM\",\"university\":\"Cardiology VMMC and Safdarjung Hospital\"}],\"PatientsWaiting\":[],\"__v\":0,\"meta\":\"606ad8480030edda327b84ae\",\"bio\":\"MBBS- T.N. Medical College, Mumbai MD - RIMS, Ranchi Dm (Cardiology)- Vmmc & Safdarjung Hospital, New Delhi Post DM - G B Pant Hospital, New Delhi For 1 Year Consultant- Artemis Hospital, Gurgaon For 1 Year \",\"fee\":800,\"gender\":\"male\"}}\n"
     ]
    },
    {
     "name": "stderr",
     "output_type": "stream",
     "text": [
      "\r\n",
      " 81%|████████████████████████████████████████████████████████████████▌               | 138/171 [15:36<01:46,  3.23s/it]"
     ]
    },
    {
     "name": "stdout",
     "output_type": "stream",
     "text": [
      "{'status': True, 'message': 'Image uploaded successfully'}\n",
      "606ad84e0030edda327b84cb anshuman.rohit.tewan@gmail.com\n",
      "{\"status\":true,\"message\":\"Profile successfully updated\",\"data\":{\"basic\":{\"organization_name\":\"not found\",\"organizational_subpart\":\"not found\",\"enumeration_date\":\"not found\",\"last_updated\":\"not found\",\"status\":\"not found\",\"telephone_number\":\"not found\",\"title_or_position\":\"not found\",\"name_prefix\":\"not found\",\"name_suffix\":\"not found\",\"sole_proprietor\":\"not found\",\"gender\":\"not found\",\"name\":\"Anshuman Rohit Tewan\"},\"document\":{\"idProof\":false,\"registrationProof\":false,\"establishment\":false},\"address\":[],\"taxonomies\":[],\"practiceLocation\":[],\"diseases\":[],\"description\":\"NA\",\"steps\":[0,0,0,0],\"is_in_network\":true,\"is_superDoc\":false,\"location_ids\":[],\"isActive\":true,\"isApproved\":false,\"availability\":[],\"appointments\":[],\"picture\":[],\"profileStatus\":true,\"question\":[],\"appointmentsString\":\"{\\\"duration\\\":\\\"15\\\",\\\"id\\\":\\\"\\\",\\\"weekdaysArr\\\":[{\\\"days\\\":[\\\"wednesday\\\",\\\"thursday\\\",\\\"friday\\\"],\\\"startTime\\\":\\\"02:30\\\",\\\"endTime\\\":\\\"11:30\\\",\\\"lunchStart\\\":\\\"06:30\\\",\\\"lunchEnd\\\":\\\"07:30\\\"},{\\\"days\\\":[\\\"monday\\\",\\\"tuesday\\\"],\\\"startTime\\\":\\\"03:30\\\",\\\"endTime\\\":\\\"12:30\\\",\\\"lunchStart\\\":\\\"06:30\\\",\\\"lunchEnd\\\":\\\"07:30\\\"}]}\",\"onBoarding\":false,\"referrals\":[],\"latestAppointment\":[],\"payment\":true,\"isAssistant\":false,\"rights\":[],\"assistants\":[],\"charity\":false,\"clinic\":[],\"block\":false,\"deviceToken\":[],\"online\":false,\"socket\":[],\"conversations\":[],\"WaitingRoomSocket\":[],\"verify\":true,\"_id\":\"606ad84e0030edda327b84cb\",\"npi\":\"3005\",\"email\":\"anshuman.rohit.tewan@gmail.com\",\"password\":\"985c201c0983d138a856ffb0c8d53890\",\"specialty\":\"Ophthalmologist/ Eye Surgeon\",\"customerProfile\":\"cus_JFJMfT75ddNXJu\",\"city\":\"Jharkhand\",\"state\":\"Ranchi\",\"country\":\"India\",\"firstName\":\"Anshuman\",\"lastName\":\"Rohit Tewan\",\"referralId\":\"AnshumanuZo7a_d\",\"createdOn\":\"2021-04-05T09:28:46.100Z\",\"education\":[{\"_id\":\"606ad84f0030edda327b84ce\",\"year\":null,\"degree\":\"MBBS\",\"university\":\"MGM Institute of Health Science\"},{\"_id\":\"606ad84f0030edda327b84cf\",\"year\":null,\"degree\":\"MS\",\"university\":\"Ophthalmology Government Dental College  Hospital\"}],\"PatientsWaiting\":[],\"__v\":0,\"meta\":\"606ad84e0030edda327b84cc\",\"bio\":\"Dr. Anshuman Rohit Tewan is a Ophthalmologist/ Eye Surgeon in Kantatoli, Ranchi and has an experience of 16 years in this field. Dr. Anshuman Rohit Tewan practices at Poonam Pharma in Kantatoli, Ranchi. He completed MBBS from MGM Institute of Health Science, Bombay in 2002 and MS - Ophthalmology from Government Dental College Hospital, RIMS Kadapa in 2007. He is a member of All India Ophthalmological Society,Delhi Ophthalmological Society (DOS) and Jharkhand Medical Council. Some of the services provided by the doctor are: Eye Counselling,Consultation Prenatal & Postnatal Check up,Cataract Surgery,Eye Surgery and Day Care Surgery etc. \",\"fee\":300,\"gender\":\"male\"}}\n"
     ]
    },
    {
     "name": "stderr",
     "output_type": "stream",
     "text": [
      "\r\n",
      " 81%|█████████████████████████████████████████████████████████████████               | 139/171 [15:42<02:01,  3.81s/it]"
     ]
    },
    {
     "name": "stdout",
     "output_type": "stream",
     "text": [
      "{'status': True, 'message': 'Image uploaded successfully'}\n",
      "606ad8540030edda327b84ea yashwant.lal@gmail.com\n",
      "{\"status\":true,\"message\":\"Profile successfully updated\",\"data\":{\"basic\":{\"organization_name\":\"not found\",\"organizational_subpart\":\"not found\",\"enumeration_date\":\"not found\",\"last_updated\":\"not found\",\"status\":\"not found\",\"telephone_number\":\"not found\",\"title_or_position\":\"not found\",\"name_prefix\":\"not found\",\"name_suffix\":\"not found\",\"sole_proprietor\":\"not found\",\"gender\":\"not found\",\"name\":\"Yashwant Lal\"},\"document\":{\"idProof\":false,\"registrationProof\":false,\"establishment\":false},\"address\":[],\"taxonomies\":[],\"practiceLocation\":[],\"diseases\":[],\"description\":\"NA\",\"steps\":[0,0,0,0],\"is_in_network\":true,\"is_superDoc\":false,\"location_ids\":[],\"isActive\":true,\"isApproved\":false,\"availability\":[],\"appointments\":[],\"picture\":[],\"profileStatus\":true,\"question\":[],\"appointmentsString\":\"{\\\"duration\\\":\\\"15\\\",\\\"id\\\":\\\"\\\",\\\"weekdaysArr\\\":[{\\\"days\\\":[\\\"wednesday\\\",\\\"thursday\\\",\\\"friday\\\"],\\\"startTime\\\":\\\"02:30\\\",\\\"endTime\\\":\\\"11:30\\\",\\\"lunchStart\\\":\\\"06:30\\\",\\\"lunchEnd\\\":\\\"07:30\\\"},{\\\"days\\\":[\\\"monday\\\",\\\"tuesday\\\"],\\\"startTime\\\":\\\"03:30\\\",\\\"endTime\\\":\\\"12:30\\\",\\\"lunchStart\\\":\\\"06:30\\\",\\\"lunchEnd\\\":\\\"07:30\\\"}]}\",\"onBoarding\":false,\"referrals\":[],\"latestAppointment\":[],\"payment\":true,\"isAssistant\":false,\"rights\":[],\"assistants\":[],\"charity\":false,\"clinic\":[],\"block\":false,\"deviceToken\":[],\"online\":false,\"socket\":[],\"conversations\":[],\"WaitingRoomSocket\":[],\"verify\":true,\"_id\":\"606ad8540030edda327b84ea\",\"npi\":\"18553\",\"email\":\"yashwant.lal@gmail.com\",\"password\":\"985c201c0983d138a856ffb0c8d53890\",\"specialty\":\"Cosmetologist\",\"customerProfile\":\"cus_JFJMyXwVVwxmMX\",\"city\":\"Jharkhand\",\"state\":\"Ranchi\",\"country\":\"India\",\"firstName\":\"Yashwant\",\"lastName\":\"Lal\",\"referralId\":\"Yashwant5JMKo_d\",\"createdOn\":\"2021-04-05T09:28:52.197Z\",\"education\":[{\"_id\":\"606ad8550030edda327b84ed\",\"year\":null,\"degree\":\"MBBS\",\"university\":\"Government Dental College  Hospital\"},{\"_id\":\"606ad8550030edda327b84ee\",\"year\":null,\"degree\":\"MD\",\"university\":\"Dermatology Government Dental College  Hospital\"}],\"PatientsWaiting\":[],\"__v\":0,\"meta\":\"606ad8540030edda327b84eb\",\"bio\":\"Dr. Yashwant Lal is a Cosmetologist in Ratu, Ranchi and has an experience of 36 years in this field. Dr. Yashwant Lal practices at Balajee Medical Hall in Ratu, Ranchi. He completed MBBS from Government Dental College Hospital, RIMS Kadapa in 1980,MD - Dermatology from Government Dental College Hospital, RIMS Kadapa in 1985 and FIAMS from University College of Medical Sciences & GTB Hospital, New Delhi in 2002. He is a member of Indian Association of Dermatologists, Venereologists and Leprologists (IADVL). Some of the services provided by the doctor are: Scar Treatment,Dental Fillings,Skin Polishing,Acne / Pimples Treatment and Sun Spots, Age Spots, And Other Pigmented Lesions etc. \",\"fee\":400,\"gender\":\"male\"}}\n"
     ]
    },
    {
     "name": "stderr",
     "output_type": "stream",
     "text": [
      "\r\n",
      " 82%|█████████████████████████████████████████████████████████████████▍              | 140/171 [15:48<02:14,  4.32s/it]"
     ]
    },
    {
     "name": "stdout",
     "output_type": "stream",
     "text": [
      "{'status': True, 'message': 'Image uploaded successfully'}\n",
      "606ad85a0030edda327b8509 banka.shikha.singhania@gmail.com\n",
      "{\"status\":true,\"message\":\"Profile successfully updated\",\"data\":{\"basic\":{\"organization_name\":\"not found\",\"organizational_subpart\":\"not found\",\"enumeration_date\":\"not found\",\"last_updated\":\"not found\",\"status\":\"not found\",\"telephone_number\":\"not found\",\"title_or_position\":\"not found\",\"name_prefix\":\"not found\",\"name_suffix\":\"not found\",\"sole_proprietor\":\"not found\",\"gender\":\"not found\",\"name\":\"Banka Shikha Singhania\"},\"document\":{\"idProof\":false,\"registrationProof\":false,\"establishment\":false},\"address\":[],\"taxonomies\":[],\"practiceLocation\":[],\"diseases\":[],\"description\":\"NA\",\"steps\":[0,0,0,0],\"is_in_network\":true,\"is_superDoc\":false,\"location_ids\":[],\"isActive\":true,\"isApproved\":false,\"availability\":[],\"appointments\":[],\"picture\":[],\"profileStatus\":true,\"question\":[],\"appointmentsString\":\"{\\\"duration\\\":\\\"15\\\",\\\"id\\\":\\\"\\\",\\\"weekdaysArr\\\":[{\\\"days\\\":[\\\"wednesday\\\",\\\"thursday\\\",\\\"friday\\\"],\\\"startTime\\\":\\\"02:30\\\",\\\"endTime\\\":\\\"11:30\\\",\\\"lunchStart\\\":\\\"06:30\\\",\\\"lunchEnd\\\":\\\"07:30\\\"},{\\\"days\\\":[\\\"monday\\\",\\\"tuesday\\\"],\\\"startTime\\\":\\\"03:30\\\",\\\"endTime\\\":\\\"12:30\\\",\\\"lunchStart\\\":\\\"06:30\\\",\\\"lunchEnd\\\":\\\"07:30\\\"}]}\",\"onBoarding\":false,\"referrals\":[],\"latestAppointment\":[],\"payment\":true,\"isAssistant\":false,\"rights\":[],\"assistants\":[],\"charity\":false,\"clinic\":[],\"block\":false,\"deviceToken\":[],\"online\":false,\"socket\":[],\"conversations\":[],\"WaitingRoomSocket\":[],\"verify\":true,\"_id\":\"606ad85a0030edda327b8509\",\"npi\":\"54687\",\"email\":\"banka.shikha.singhania@gmail.com\",\"password\":\"985c201c0983d138a856ffb0c8d53890\",\"specialty\":\"Homoeopath\",\"customerProfile\":\"cus_JFJM1keR56Uz44\",\"city\":\"Jharkhand\",\"state\":\"Ranchi\",\"country\":\"India\",\"firstName\":\"Banka\",\"lastName\":\"Shikha Singhania\",\"referralId\":\"BankajyGBC_d\",\"createdOn\":\"2021-04-05T09:28:58.262Z\",\"education\":[{\"_id\":\"606ad85b0030edda327b850c\",\"year\":2009,\"degree\":\"BHMS\",\"university\":\"Maharshtra University of Health Sciences\"}],\"PatientsWaiting\":[],\"__v\":0,\"meta\":\"606ad85a0030edda327b850a\",\"bio\":\"Dr. Banka Shikha Singhania is a Homoeopath in Harmu Housing Colony, Ranchi and has an experience of 11 years in this field. Dr. Banka Shikha Singhania practices at Shivarchan Holistic Healthcare in Harmu Housing Colony, Ranchi. She completed BHMS from Maharshtra University of Health Sciences in 2009. Some of the services provided by the doctor are: Fertility Treatment,Post Traumatic Stress Disorder (PTSD),Lichen Planus Treatment and Ulcerative Colitis Treatment etc. \",\"fee\":200,\"gender\":\"male\"}}\n"
     ]
    },
    {
     "name": "stderr",
     "output_type": "stream",
     "text": [
      "\r\n",
      " 82%|█████████████████████████████████████████████████████████████████▉              | 141/171 [15:54<02:22,  4.75s/it]"
     ]
    },
    {
     "name": "stdout",
     "output_type": "stream",
     "text": [
      "{'status': True, 'message': 'Image uploaded successfully'}\n",
      "606ad8600030edda327b8527 shweta.kantha@gmail.com\n",
      "{\"status\":true,\"message\":\"Profile successfully updated\",\"data\":{\"basic\":{\"organization_name\":\"not found\",\"organizational_subpart\":\"not found\",\"enumeration_date\":\"not found\",\"last_updated\":\"not found\",\"status\":\"not found\",\"telephone_number\":\"not found\",\"title_or_position\":\"not found\",\"name_prefix\":\"not found\",\"name_suffix\":\"not found\",\"sole_proprietor\":\"not found\",\"gender\":\"not found\",\"name\":\"Shweta Kantha\"},\"document\":{\"idProof\":false,\"registrationProof\":false,\"establishment\":false},\"address\":[],\"taxonomies\":[],\"practiceLocation\":[],\"diseases\":[],\"description\":\"NA\",\"steps\":[0,0,0,0],\"is_in_network\":true,\"is_superDoc\":false,\"location_ids\":[],\"isActive\":true,\"isApproved\":false,\"availability\":[],\"appointments\":[],\"picture\":[],\"profileStatus\":true,\"question\":[],\"appointmentsString\":\"{\\\"duration\\\":\\\"15\\\",\\\"id\\\":\\\"\\\",\\\"weekdaysArr\\\":[{\\\"days\\\":[\\\"wednesday\\\",\\\"thursday\\\",\\\"friday\\\"],\\\"startTime\\\":\\\"02:30\\\",\\\"endTime\\\":\\\"11:30\\\",\\\"lunchStart\\\":\\\"06:30\\\",\\\"lunchEnd\\\":\\\"07:30\\\"},{\\\"days\\\":[\\\"monday\\\",\\\"tuesday\\\"],\\\"startTime\\\":\\\"03:30\\\",\\\"endTime\\\":\\\"12:30\\\",\\\"lunchStart\\\":\\\"06:30\\\",\\\"lunchEnd\\\":\\\"07:30\\\"}]}\",\"onBoarding\":false,\"referrals\":[],\"latestAppointment\":[],\"payment\":true,\"isAssistant\":false,\"rights\":[],\"assistants\":[],\"charity\":false,\"clinic\":[],\"block\":false,\"deviceToken\":[],\"online\":false,\"socket\":[],\"conversations\":[],\"WaitingRoomSocket\":[],\"verify\":true,\"_id\":\"606ad8600030edda327b8527\",\"npi\":\"10-35994\",\"email\":\"shweta.kantha@gmail.com\",\"password\":\"985c201c0983d138a856ffb0c8d53890\",\"specialty\":\"Gynecologist\",\"customerProfile\":\"cus_JFJMkuaEwEpcQd\",\"city\":\"Jharkhand\",\"state\":\"Ranchi\",\"country\":\"India\",\"firstName\":\"Shweta\",\"lastName\":\"Kantha\",\"referralId\":\"ShwetaWDPnG_d\",\"createdOn\":\"2021-04-05T09:29:04.349Z\",\"education\":[{\"_id\":\"606ad8610030edda327b852a\",\"year\":null,\"degree\":\"MBBS\",\"university\":\"Manipal College of Medical Sciences\"},{\"_id\":\"606ad8610030edda327b852b\",\"year\":null,\"degree\":\"MS\",\"university\":\"Obstetrics & Gynaecology Medical College\"}],\"PatientsWaiting\":[],\"__v\":0,\"meta\":\"606ad8600030edda327b8528\",\"bio\":\"Dr.Shweta Kantha finished her MBBS in 2006 from Manipal University. She completed her MS (Obs & gynae) in 2013 from Pune University. After her Postgraduation she did a one-year residency from St.Stephens hospital & max Saket, Delhi. She has done Fellowship in basic laparoscopic training. After which she has done series of courses in hysteroscopy, intrauterine insemination (IUI), Basic Ultrasonography, first-trimester screening, cosmetic Vaginal Surgeries, Painless Labour, High-risk Obstetrics and therapies for Post Partum depression and teenage counseling and PCOS management. She has been practicing at Hill View Hospital & Research center (Ranchi) since 2015. \",\"fee\":300,\"gender\":\"female\"}}\n"
     ]
    },
    {
     "name": "stderr",
     "output_type": "stream",
     "text": [
      "\r\n",
      " 83%|██████████████████████████████████████████████████████████████████▍             | 142/171 [16:01<02:28,  5.12s/it]"
     ]
    },
    {
     "name": "stdout",
     "output_type": "stream",
     "text": [
      "{'status': True, 'message': 'Image uploaded successfully'}\n",
      "606ad8660030edda327b8546 ajay.chhabra@gmail.com\n",
      "{\"status\":true,\"message\":\"Profile successfully updated\",\"data\":{\"basic\":{\"organization_name\":\"not found\",\"organizational_subpart\":\"not found\",\"enumeration_date\":\"not found\",\"last_updated\":\"not found\",\"status\":\"not found\",\"telephone_number\":\"not found\",\"title_or_position\":\"not found\",\"name_prefix\":\"not found\",\"name_suffix\":\"not found\",\"sole_proprietor\":\"not found\",\"gender\":\"not found\",\"name\":\"Ajay Chhabra\"},\"document\":{\"idProof\":false,\"registrationProof\":false,\"establishment\":false},\"address\":[],\"taxonomies\":[],\"practiceLocation\":[],\"diseases\":[],\"description\":\"NA\",\"steps\":[0,0,0,0],\"is_in_network\":true,\"is_superDoc\":false,\"location_ids\":[],\"isActive\":true,\"isApproved\":false,\"availability\":[],\"appointments\":[],\"picture\":[],\"profileStatus\":true,\"question\":[],\"appointmentsString\":\"{\\\"duration\\\":\\\"15\\\",\\\"id\\\":\\\"\\\",\\\"weekdaysArr\\\":[{\\\"days\\\":[\\\"wednesday\\\",\\\"thursday\\\",\\\"friday\\\"],\\\"startTime\\\":\\\"02:30\\\",\\\"endTime\\\":\\\"11:30\\\",\\\"lunchStart\\\":\\\"06:30\\\",\\\"lunchEnd\\\":\\\"07:30\\\"},{\\\"days\\\":[\\\"monday\\\",\\\"tuesday\\\"],\\\"startTime\\\":\\\"03:30\\\",\\\"endTime\\\":\\\"12:30\\\",\\\"lunchStart\\\":\\\"06:30\\\",\\\"lunchEnd\\\":\\\"07:30\\\"}]}\",\"onBoarding\":false,\"referrals\":[],\"latestAppointment\":[],\"payment\":true,\"isAssistant\":false,\"rights\":[],\"assistants\":[],\"charity\":false,\"clinic\":[],\"block\":false,\"deviceToken\":[],\"online\":false,\"socket\":[],\"conversations\":[],\"WaitingRoomSocket\":[],\"verify\":true,\"_id\":\"606ad8660030edda327b8546\",\"npi\":\"31889\",\"email\":\"ajay.chhabra@gmail.com\",\"password\":\"985c201c0983d138a856ffb0c8d53890\",\"specialty\":\"Special Interest in Diabetology\",\"customerProfile\":\"cus_JFJME0cQCQ9kGL\",\"city\":\"Jharkhand\",\"state\":\"Ranchi\",\"country\":\"India\",\"firstName\":\"Ajay\",\"lastName\":\"Chhabra\",\"referralId\":\"Ajay9aOAR_d\",\"createdOn\":\"2021-04-05T09:29:10.568Z\",\"education\":[{\"_id\":\"606ad8670030edda327b8549\",\"year\":null,\"degree\":\"MBBS\",\"university\":\"All India Institute of Medical Sciences\"}],\"PatientsWaiting\":[],\"__v\":0,\"meta\":\"606ad8660030edda327b8547\",\"bio\":\"Dr. Ajay Chhabra is a Diabetologist in Ratu, Ranchi and has an experience of 21 years in this field. Dr. Ajay Chhabra practices at Diabetes Care Center in Ratu, Ranchi. He completed MBBS from All India Institute of Medical Sciences, New Delhi in 1999 and Post Graduate Diploma in Diabetology (PGDD) from chennai in 2010. He is a member of Indian Medical Association (IMA) and Research Society for the Study of Diabetes in India (RSSDI). Some of the services provided by the doctor are: Insulin Treatment,Type 1 Diabetes Treatment,Diabetes in Children and Diabetes Management etc. \",\"fee\":300,\"gender\":\"male\"}}\n"
     ]
    },
    {
     "name": "stderr",
     "output_type": "stream",
     "text": [
      "\r\n",
      " 84%|██████████████████████████████████████████████████████████████████▉             | 143/171 [16:07<02:30,  5.38s/it]"
     ]
    },
    {
     "name": "stdout",
     "output_type": "stream",
     "text": [
      "{'status': True, 'message': 'Image uploaded successfully'}\n",
      "606ad86c0030edda327b8564 ashutosh.charan@gmail.com\n",
      "{\"status\":true,\"message\":\"Profile successfully updated\",\"data\":{\"basic\":{\"organization_name\":\"not found\",\"organizational_subpart\":\"not found\",\"enumeration_date\":\"not found\",\"last_updated\":\"not found\",\"status\":\"not found\",\"telephone_number\":\"not found\",\"title_or_position\":\"not found\",\"name_prefix\":\"not found\",\"name_suffix\":\"not found\",\"sole_proprietor\":\"not found\",\"gender\":\"not found\",\"name\":\"Ashutosh Charan\"},\"document\":{\"idProof\":false,\"registrationProof\":false,\"establishment\":false},\"address\":[],\"taxonomies\":[],\"practiceLocation\":[],\"diseases\":[],\"description\":\"NA\",\"steps\":[0,0,0,0],\"is_in_network\":true,\"is_superDoc\":false,\"location_ids\":[],\"isActive\":true,\"isApproved\":false,\"availability\":[],\"appointments\":[],\"picture\":[],\"profileStatus\":true,\"question\":[],\"appointmentsString\":\"{\\\"duration\\\":\\\"15\\\",\\\"id\\\":\\\"\\\",\\\"weekdaysArr\\\":[{\\\"days\\\":[\\\"wednesday\\\",\\\"thursday\\\",\\\"friday\\\"],\\\"startTime\\\":\\\"02:30\\\",\\\"endTime\\\":\\\"11:30\\\",\\\"lunchStart\\\":\\\"06:30\\\",\\\"lunchEnd\\\":\\\"07:30\\\"},{\\\"days\\\":[\\\"monday\\\",\\\"tuesday\\\"],\\\"startTime\\\":\\\"03:30\\\",\\\"endTime\\\":\\\"12:30\\\",\\\"lunchStart\\\":\\\"06:30\\\",\\\"lunchEnd\\\":\\\"07:30\\\"}]}\",\"onBoarding\":false,\"referrals\":[],\"latestAppointment\":[],\"payment\":true,\"isAssistant\":false,\"rights\":[],\"assistants\":[],\"charity\":false,\"clinic\":[],\"block\":false,\"deviceToken\":[],\"online\":false,\"socket\":[],\"conversations\":[],\"WaitingRoomSocket\":[],\"verify\":true,\"_id\":\"606ad86c0030edda327b8564\",\"npi\":\"58\",\"email\":\"ashutosh.charan@gmail.com\",\"password\":\"985c201c0983d138a856ffb0c8d53890\",\"specialty\":\"Internal Medicine\",\"customerProfile\":\"cus_JFJMNVPPPiRPlz\",\"city\":\"Jharkhand\",\"state\":\"Ranchi\",\"country\":\"India\",\"firstName\":\"Ashutosh\",\"lastName\":\"Charan\",\"referralId\":\"AshutoshFR1Lg_d\",\"createdOn\":\"2021-04-05T09:29:16.709Z\",\"education\":[{\"_id\":\"606ad86d0030edda327b8567\",\"year\":2006,\"degree\":\"MBBS\",\"university\":\"PMCH Dhanbad\"},{\"_id\":\"606ad86d0030edda327b8568\",\"year\":null,\"degree\":\"DNB\",\"university\":\"General Medicine Government Dental College  Hospital\"}],\"PatientsWaiting\":[],\"__v\":0,\"meta\":\"606ad86c0030edda327b8565\",\"bio\":\"Dr. Ashutosh Charan is a Internal Medicine in Bariatu, Ranchi and has an experience of 12 years in this field. Dr. Ashutosh Charan practices at Maa Kamakhya Medical in Bariatu, Ranchi and Shubham Medical in Bariatu, Ranchi. He completed MBBS from PMCH - Dhanbad in 2006 and DNB - General Medicine from Government Dental College Hospital, RIMS Kadapa in 2009. He is a member of Association of Physicians of India. Some of the services provided by the doctor are: Hypertension Treatment,Bronchial Asthma Treatment,Gestational Diabetes Management,Anemia Treatment and Fever Treatment etc. \",\"fee\":200,\"gender\":\"male\"}}\n"
     ]
    },
    {
     "name": "stderr",
     "output_type": "stream",
     "text": [
      "\r\n",
      " 84%|███████████████████████████████████████████████████████████████████▎            | 144/171 [16:13<02:31,  5.60s/it]"
     ]
    },
    {
     "name": "stdout",
     "output_type": "stream",
     "text": [
      "{'status': True, 'message': 'Image uploaded successfully'}\n",
      "Not present Vartika\n"
     ]
    },
    {
     "name": "stderr",
     "output_type": "stream",
     "text": [
      "\r\n",
      " 85%|████████████████████████████████████████████████████████████████████▎           | 146/171 [16:13<01:20,  3.22s/it]"
     ]
    },
    {
     "name": "stdout",
     "output_type": "stream",
     "text": [
      "This email is already taken\n",
      "606ad8730030edda327b8583 vikash.kumar@gmail.com\n",
      "{\"status\":true,\"message\":\"Profile successfully updated\",\"data\":{\"basic\":{\"organization_name\":\"not found\",\"organizational_subpart\":\"not found\",\"enumeration_date\":\"not found\",\"last_updated\":\"not found\",\"status\":\"not found\",\"telephone_number\":\"not found\",\"title_or_position\":\"not found\",\"name_prefix\":\"not found\",\"name_suffix\":\"not found\",\"sole_proprietor\":\"not found\",\"gender\":\"not found\",\"name\":\"Vikash Kumar\"},\"document\":{\"idProof\":false,\"registrationProof\":false,\"establishment\":false},\"address\":[],\"taxonomies\":[],\"practiceLocation\":[],\"diseases\":[],\"description\":\"NA\",\"steps\":[0,0,0,0],\"is_in_network\":true,\"is_superDoc\":false,\"location_ids\":[],\"isActive\":true,\"isApproved\":false,\"availability\":[],\"appointments\":[],\"picture\":[],\"profileStatus\":true,\"question\":[],\"appointmentsString\":\"{\\\"duration\\\":\\\"15\\\",\\\"id\\\":\\\"\\\",\\\"weekdaysArr\\\":[{\\\"days\\\":[\\\"wednesday\\\",\\\"thursday\\\",\\\"friday\\\"],\\\"startTime\\\":\\\"02:30\\\",\\\"endTime\\\":\\\"11:30\\\",\\\"lunchStart\\\":\\\"06:30\\\",\\\"lunchEnd\\\":\\\"07:30\\\"},{\\\"days\\\":[\\\"monday\\\",\\\"tuesday\\\"],\\\"startTime\\\":\\\"03:30\\\",\\\"endTime\\\":\\\"12:30\\\",\\\"lunchStart\\\":\\\"06:30\\\",\\\"lunchEnd\\\":\\\"07:30\\\"}]}\",\"onBoarding\":false,\"referrals\":[],\"latestAppointment\":[],\"payment\":true,\"isAssistant\":false,\"rights\":[],\"assistants\":[],\"charity\":false,\"clinic\":[],\"block\":false,\"deviceToken\":[],\"online\":false,\"socket\":[],\"conversations\":[],\"WaitingRoomSocket\":[],\"verify\":true,\"_id\":\"606ad8730030edda327b8583\",\"npi\":\"2484\",\"email\":\"vikash.kumar@gmail.com\",\"password\":\"985c201c0983d138a856ffb0c8d53890\",\"specialty\":\"Ayurveda\",\"customerProfile\":\"cus_JFJNJd1sRTpqzi\",\"city\":\"Jharkhand\",\"state\":\"Ranchi\",\"country\":\"India\",\"firstName\":\"Vikash\",\"lastName\":\"Kumar\",\"referralId\":\"VikashSNPJH_d\",\"createdOn\":\"2021-04-05T09:29:23.274Z\",\"education\":[{\"_id\":\"606ad8740030edda327b8586\",\"year\":2018,\"degree\":\"BAMS\",\"university\":\"Surya Mukhi Dinesh Ayurved Medical College and Hospital\"}],\"PatientsWaiting\":[],\"__v\":0,\"meta\":\"606ad8730030edda327b8584\",\"bio\":\"Dr. Vikash Kumar says \\\"I m ayurveda ksharsutra specialist. We are providing piles fissure pilonidal sinus and fistula treatment with ksharsutra and Ay\",\"fee\":300,\"gender\":\"male\"}}\n"
     ]
    },
    {
     "name": "stderr",
     "output_type": "stream",
     "text": [
      "\r\n",
      " 86%|████████████████████████████████████████████████████████████████████▊           | 147/171 [16:19<01:33,  3.91s/it]"
     ]
    },
    {
     "name": "stdout",
     "output_type": "stream",
     "text": [
      "{'status': True, 'message': 'Image uploaded successfully'}\n",
      "Not present Prakash\n",
      "606ad8790030edda327b85a1 varun.kumar@gmail.com\n",
      "{\"status\":true,\"message\":\"Profile successfully updated\",\"data\":{\"basic\":{\"organization_name\":\"not found\",\"organizational_subpart\":\"not found\",\"enumeration_date\":\"not found\",\"last_updated\":\"not found\",\"status\":\"not found\",\"telephone_number\":\"not found\",\"title_or_position\":\"not found\",\"name_prefix\":\"not found\",\"name_suffix\":\"not found\",\"sole_proprietor\":\"not found\",\"gender\":\"not found\",\"name\":\"Varun Kumar\"},\"document\":{\"idProof\":false,\"registrationProof\":false,\"establishment\":false},\"address\":[],\"taxonomies\":[],\"practiceLocation\":[],\"diseases\":[],\"description\":\"NA\",\"steps\":[0,0,0,0],\"is_in_network\":true,\"is_superDoc\":false,\"location_ids\":[],\"isActive\":true,\"isApproved\":false,\"availability\":[],\"appointments\":[],\"picture\":[],\"profileStatus\":true,\"question\":[],\"appointmentsString\":\"{\\\"duration\\\":\\\"15\\\",\\\"id\\\":\\\"\\\",\\\"weekdaysArr\\\":[{\\\"days\\\":[\\\"wednesday\\\",\\\"thursday\\\",\\\"friday\\\"],\\\"startTime\\\":\\\"02:30\\\",\\\"endTime\\\":\\\"11:30\\\",\\\"lunchStart\\\":\\\"06:30\\\",\\\"lunchEnd\\\":\\\"07:30\\\"},{\\\"days\\\":[\\\"monday\\\",\\\"tuesday\\\"],\\\"startTime\\\":\\\"03:30\\\",\\\"endTime\\\":\\\"12:30\\\",\\\"lunchStart\\\":\\\"06:30\\\",\\\"lunchEnd\\\":\\\"07:30\\\"}]}\",\"onBoarding\":false,\"referrals\":[],\"latestAppointment\":[],\"payment\":true,\"isAssistant\":false,\"rights\":[],\"assistants\":[],\"charity\":false,\"clinic\":[],\"block\":false,\"deviceToken\":[],\"online\":false,\"socket\":[],\"conversations\":[],\"WaitingRoomSocket\":[],\"verify\":true,\"_id\":\"606ad8790030edda327b85a1\",\"npi\":\"59860\",\"email\":\"varun.kumar@gmail.com\",\"password\":\"985c201c0983d138a856ffb0c8d53890\",\"specialty\":\"Cardiologist\",\"customerProfile\":\"cus_JFJNejo0X0DNW5\",\"city\":\"Jharkhand\",\"state\":\"Ranchi\",\"country\":\"India\",\"firstName\":\"Varun\",\"lastName\":\"Kumar\",\"referralId\":\"VarunZZsrb_d\",\"createdOn\":\"2021-04-05T09:29:29.537Z\",\"education\":[{\"_id\":\"606ad87a0030edda327b85a4\",\"year\":2004,\"degree\":\"MBBS\",\"university\":\"University of Calcutta\"},{\"_id\":\"606ad87a0030edda327b85a5\",\"year\":null,\"degree\":\"DM\",\"university\":\"Cardiology Chhatrapati Shahu Ji Maharaj University\"}],\"PatientsWaiting\":[],\"__v\":0,\"meta\":\"606ad8790030edda327b85a2\",\"bio\":\"Dr. Varun Kumar is a Cardiologist in Ahirtoli, Ranchi and has an experience of 17 years in this field. Dr. Varun Kumar practices at Orchid Medical Centre in Ahirtoli, Ranchi. He completed MBBS from University of Calcutta in 2004 and DM - Cardiology from Chhatrapati Shahu Ji Maharaj University, Kanpur in 2014. Some of the services provided by the doctor are: Angiography,Angioplasty and Stenting,Temporary Pacemaker,Permanent Pacemaker and Pacemaker Implantation etc. \",\"fee\":800,\"gender\":\"male\"}}\n"
     ]
    },
    {
     "name": "stderr",
     "output_type": "stream",
     "text": [
      "\r\n",
      " 87%|█████████████████████████████████████████████████████████████████████▋          | 149/171 [16:26<01:20,  3.64s/it]"
     ]
    },
    {
     "name": "stdout",
     "output_type": "stream",
     "text": [
      "{'status': True, 'message': 'Image uploaded successfully'}\n",
      "606ad87f0030edda327b85c0 abhishek.maheshwari@gmail.com\n",
      "{\"status\":true,\"message\":\"Profile successfully updated\",\"data\":{\"basic\":{\"organization_name\":\"not found\",\"organizational_subpart\":\"not found\",\"enumeration_date\":\"not found\",\"last_updated\":\"not found\",\"status\":\"not found\",\"telephone_number\":\"not found\",\"title_or_position\":\"not found\",\"name_prefix\":\"not found\",\"name_suffix\":\"not found\",\"sole_proprietor\":\"not found\",\"gender\":\"not found\",\"name\":\"Abhishek Maheshwari\"},\"document\":{\"idProof\":false,\"registrationProof\":false,\"establishment\":false},\"address\":[],\"taxonomies\":[],\"practiceLocation\":[],\"diseases\":[],\"description\":\"NA\",\"steps\":[0,0,0,0],\"is_in_network\":true,\"is_superDoc\":false,\"location_ids\":[],\"isActive\":true,\"isApproved\":false,\"availability\":[],\"appointments\":[],\"picture\":[],\"profileStatus\":true,\"question\":[],\"appointmentsString\":\"{\\\"duration\\\":\\\"15\\\",\\\"id\\\":\\\"\\\",\\\"weekdaysArr\\\":[{\\\"days\\\":[\\\"wednesday\\\",\\\"thursday\\\",\\\"friday\\\"],\\\"startTime\\\":\\\"02:30\\\",\\\"endTime\\\":\\\"11:30\\\",\\\"lunchStart\\\":\\\"06:30\\\",\\\"lunchEnd\\\":\\\"07:30\\\"},{\\\"days\\\":[\\\"monday\\\",\\\"tuesday\\\"],\\\"startTime\\\":\\\"03:30\\\",\\\"endTime\\\":\\\"12:30\\\",\\\"lunchStart\\\":\\\"06:30\\\",\\\"lunchEnd\\\":\\\"07:30\\\"}]}\",\"onBoarding\":false,\"referrals\":[],\"latestAppointment\":[],\"payment\":true,\"isAssistant\":false,\"rights\":[],\"assistants\":[],\"charity\":false,\"clinic\":[],\"block\":false,\"deviceToken\":[],\"online\":false,\"socket\":[],\"conversations\":[],\"WaitingRoomSocket\":[],\"verify\":true,\"_id\":\"606ad87f0030edda327b85c0\",\"npi\":\"HN3035-A\",\"email\":\"abhishek.maheshwari@gmail.com\",\"password\":\"985c201c0983d138a856ffb0c8d53890\",\"specialty\":\"Dentist\",\"customerProfile\":\"cus_JFJNgPQye1gmrJ\",\"city\":\"Jharkhand\",\"state\":\"Ranchi\",\"country\":\"India\",\"firstName\":\"Abhishek\",\"lastName\":\"Maheshwari\",\"referralId\":\"Abhishek0xTKN_d\",\"createdOn\":\"2021-04-05T09:29:35.931Z\",\"education\":[{\"_id\":\"606ad8800030edda327b85c3\",\"year\":null,\"degree\":\"BDS\",\"university\":\"Mahatma Gandhi Dental College  Hospital\"},{\"_id\":\"606ad8800030edda327b85c4\",\"year\":null,\"degree\":\"MDS\",\"university\":\"The Oxford dental College\"}],\"PatientsWaiting\":[],\"__v\":0,\"meta\":\"606ad8800030edda327b85c1\",\"bio\":\"Dr. Abhishek Maheshwari practicing at YFD (Your Friend Dentist) is a specialist in Orthodontics and dentofacial orthopedics. He completed his BDS from M.G.D.C, Jaipur in 2008 and MDS from Oxford Dental College, Bangalore in 2012. Some of the services provided at YFD are single sitting RCT, scaling and root planning, cosmetic filling, extraction, complete dentures and SPECIALISED ORTHODONTIC TREATMENT (which include corrections of gaps between the teeth, maligned and crooked teeth, proclined teeth, etc) and smile designing. \",\"fee\":200,\"gender\":\"male\"}}\n"
     ]
    },
    {
     "name": "stderr",
     "output_type": "stream",
     "text": [
      "\r\n",
      " 88%|██████████████████████████████████████████████████████████████████████▏         | 150/171 [16:32<01:29,  4.24s/it]"
     ]
    },
    {
     "name": "stdout",
     "output_type": "stream",
     "text": [
      "{'status': True, 'message': 'Image uploaded successfully'}\n",
      "Not present Praveen\n",
      "Not present Arun\n",
      "Not present Stuti\n",
      "606ad8860030edda327b85df manish.ranjan@gmail.com\n",
      "{\"status\":true,\"message\":\"Profile successfully updated\",\"data\":{\"basic\":{\"organization_name\":\"not found\",\"organizational_subpart\":\"not found\",\"enumeration_date\":\"not found\",\"last_updated\":\"not found\",\"status\":\"not found\",\"telephone_number\":\"not found\",\"title_or_position\":\"not found\",\"name_prefix\":\"not found\",\"name_suffix\":\"not found\",\"sole_proprietor\":\"not found\",\"gender\":\"not found\",\"name\":\"Manish Ranjan\"},\"document\":{\"idProof\":false,\"registrationProof\":false,\"establishment\":false},\"address\":[],\"taxonomies\":[],\"practiceLocation\":[],\"diseases\":[],\"description\":\"NA\",\"steps\":[0,0,0,0],\"is_in_network\":true,\"is_superDoc\":false,\"location_ids\":[],\"isActive\":true,\"isApproved\":false,\"availability\":[],\"appointments\":[],\"picture\":[],\"profileStatus\":true,\"question\":[],\"appointmentsString\":\"{\\\"duration\\\":\\\"15\\\",\\\"id\\\":\\\"\\\",\\\"weekdaysArr\\\":[{\\\"days\\\":[\\\"wednesday\\\",\\\"thursday\\\",\\\"friday\\\"],\\\"startTime\\\":\\\"02:30\\\",\\\"endTime\\\":\\\"11:30\\\",\\\"lunchStart\\\":\\\"06:30\\\",\\\"lunchEnd\\\":\\\"07:30\\\"},{\\\"days\\\":[\\\"monday\\\",\\\"tuesday\\\"],\\\"startTime\\\":\\\"03:30\\\",\\\"endTime\\\":\\\"12:30\\\",\\\"lunchStart\\\":\\\"06:30\\\",\\\"lunchEnd\\\":\\\"07:30\\\"}]}\",\"onBoarding\":false,\"referrals\":[],\"latestAppointment\":[],\"payment\":true,\"isAssistant\":false,\"rights\":[],\"assistants\":[],\"charity\":false,\"clinic\":[],\"block\":false,\"deviceToken\":[],\"online\":false,\"socket\":[],\"conversations\":[],\"WaitingRoomSocket\":[],\"verify\":true,\"_id\":\"606ad8860030edda327b85df\",\"npi\":\"A-258\",\"email\":\"manish.ranjan@gmail.com\",\"password\":\"985c201c0983d138a856ffb0c8d53890\",\"specialty\":\"Dentist\",\"customerProfile\":\"cus_JFJNeMcctZy1iy\",\"city\":\"Jharkhand\",\"state\":\"Ranchi\",\"country\":\"India\",\"firstName\":\"Manish\",\"lastName\":\"Ranjan\",\"referralId\":\"ManishALJps_d\",\"createdOn\":\"2021-04-05T09:29:42.153Z\",\"education\":[{\"_id\":\"606ad8870030edda327b85e2\",\"year\":2013,\"degree\":\"BDS\",\"university\":\"Dr. B R Ambedkar Institute of Dental Sciences and Hospital\"}],\"PatientsWaiting\":[],\"__v\":0,\"meta\":\"606ad8860030edda327b85e0\",\"bio\":\"Dr. Manish Ranjan is a Dentist in Lalpur, Ranchi and has an experience of 7 years in this field. Dr. Manish Ranjan practices at Dynamic Dental Care in Lalpur, Ranchi. He completed BDS from Dr. B R Ambedkar Institute of Dental Sciences and Hospital in 2013. \",\"fee\":200,\"gender\":\"male\"}}\n"
     ]
    },
    {
     "name": "stderr",
     "output_type": "stream",
     "text": [
      "\r\n",
      " 90%|████████████████████████████████████████████████████████████████████████        | 154/171 [16:38<00:46,  2.72s/it]"
     ]
    },
    {
     "name": "stdout",
     "output_type": "stream",
     "text": [
      "{'status': True, 'message': 'Image uploaded successfully'}\n",
      "606ad88c0030edda327b85fd neha.sheetal@gmail.com\n",
      "{\"status\":true,\"message\":\"Profile successfully updated\",\"data\":{\"basic\":{\"organization_name\":\"not found\",\"organizational_subpart\":\"not found\",\"enumeration_date\":\"not found\",\"last_updated\":\"not found\",\"status\":\"not found\",\"telephone_number\":\"not found\",\"title_or_position\":\"not found\",\"name_prefix\":\"not found\",\"name_suffix\":\"not found\",\"sole_proprietor\":\"not found\",\"gender\":\"not found\",\"name\":\"Neha Sheetal\"},\"document\":{\"idProof\":false,\"registrationProof\":false,\"establishment\":false},\"address\":[],\"taxonomies\":[],\"practiceLocation\":[],\"diseases\":[],\"description\":\"NA\",\"steps\":[0,0,0,0],\"is_in_network\":true,\"is_superDoc\":false,\"location_ids\":[],\"isActive\":true,\"isApproved\":false,\"availability\":[],\"appointments\":[],\"picture\":[],\"profileStatus\":true,\"question\":[],\"appointmentsString\":\"{\\\"duration\\\":\\\"15\\\",\\\"id\\\":\\\"\\\",\\\"weekdaysArr\\\":[{\\\"days\\\":[\\\"wednesday\\\",\\\"thursday\\\",\\\"friday\\\"],\\\"startTime\\\":\\\"02:30\\\",\\\"endTime\\\":\\\"11:30\\\",\\\"lunchStart\\\":\\\"06:30\\\",\\\"lunchEnd\\\":\\\"07:30\\\"},{\\\"days\\\":[\\\"monday\\\",\\\"tuesday\\\"],\\\"startTime\\\":\\\"03:30\\\",\\\"endTime\\\":\\\"12:30\\\",\\\"lunchStart\\\":\\\"06:30\\\",\\\"lunchEnd\\\":\\\"07:30\\\"}]}\",\"onBoarding\":false,\"referrals\":[],\"latestAppointment\":[],\"payment\":true,\"isAssistant\":false,\"rights\":[],\"assistants\":[],\"charity\":false,\"clinic\":[],\"block\":false,\"deviceToken\":[],\"online\":false,\"socket\":[],\"conversations\":[],\"WaitingRoomSocket\":[],\"verify\":true,\"_id\":\"606ad88c0030edda327b85fd\",\"npi\":\"33041-A\",\"email\":\"neha.sheetal@gmail.com\",\"password\":\"985c201c0983d138a856ffb0c8d53890\",\"specialty\":\"Dental Surgeon\",\"customerProfile\":\"cus_JFJN9ghSVLEQPo\",\"city\":\"Jharkhand\",\"state\":\"Ranchi\",\"country\":\"India\",\"firstName\":\"Neha\",\"lastName\":\"Sheetal\",\"referralId\":\"NehaAiFgE_d\",\"createdOn\":\"2021-04-05T09:29:48.321Z\",\"education\":[{\"_id\":\"606ad88d0030edda327b8600\",\"year\":2011,\"degree\":\"BDS\",\"university\":\"Rajiv Gandhi University of Health Sciences\"}],\"PatientsWaiting\":[],\"__v\":0,\"meta\":\"606ad88c0030edda327b85fe\",\"bio\":\"Dr. Neha Sheetal is a Dental Surgeon in Chutia, Ranchi and has an experience of 8 years in this field. Dr. Neha Sheetal practices at Divine Healthcare in Chutia, Ranchi. She completed BDS from Rajiv Gandhi University of Health Sciences in 2011. \",\"fee\":500,\"gender\":\"female\"}}\n"
     ]
    },
    {
     "name": "stderr",
     "output_type": "stream",
     "text": [
      "\r\n",
      " 91%|████████████████████████████████████████████████████████████████████████▌       | 155/171 [16:45<00:52,  3.30s/it]"
     ]
    },
    {
     "name": "stdout",
     "output_type": "stream",
     "text": [
      "{'status': True, 'message': 'Image uploaded successfully'}\n",
      "606ad8920030edda327b861b rakesh.agarwal@gmail.com\n",
      "{\"status\":true,\"message\":\"Profile successfully updated\",\"data\":{\"basic\":{\"organization_name\":\"not found\",\"organizational_subpart\":\"not found\",\"enumeration_date\":\"not found\",\"last_updated\":\"not found\",\"status\":\"not found\",\"telephone_number\":\"not found\",\"title_or_position\":\"not found\",\"name_prefix\":\"not found\",\"name_suffix\":\"not found\",\"sole_proprietor\":\"not found\",\"gender\":\"not found\",\"name\":\"Rakesh Agarwal\"},\"document\":{\"idProof\":false,\"registrationProof\":false,\"establishment\":false},\"address\":[],\"taxonomies\":[],\"practiceLocation\":[],\"diseases\":[],\"description\":\"NA\",\"steps\":[0,0,0,0],\"is_in_network\":true,\"is_superDoc\":false,\"location_ids\":[],\"isActive\":true,\"isApproved\":false,\"availability\":[],\"appointments\":[],\"picture\":[],\"profileStatus\":true,\"question\":[],\"appointmentsString\":\"{\\\"duration\\\":\\\"15\\\",\\\"id\\\":\\\"\\\",\\\"weekdaysArr\\\":[{\\\"days\\\":[\\\"wednesday\\\",\\\"thursday\\\",\\\"friday\\\"],\\\"startTime\\\":\\\"02:30\\\",\\\"endTime\\\":\\\"11:30\\\",\\\"lunchStart\\\":\\\"06:30\\\",\\\"lunchEnd\\\":\\\"07:30\\\"},{\\\"days\\\":[\\\"monday\\\",\\\"tuesday\\\"],\\\"startTime\\\":\\\"03:30\\\",\\\"endTime\\\":\\\"12:30\\\",\\\"lunchStart\\\":\\\"06:30\\\",\\\"lunchEnd\\\":\\\"07:30\\\"}]}\",\"onBoarding\":false,\"referrals\":[],\"latestAppointment\":[],\"payment\":true,\"isAssistant\":false,\"rights\":[],\"assistants\":[],\"charity\":false,\"clinic\":[],\"block\":false,\"deviceToken\":[],\"online\":false,\"socket\":[],\"conversations\":[],\"WaitingRoomSocket\":[],\"verify\":true,\"_id\":\"606ad8920030edda327b861b\",\"npi\":\"40112\",\"email\":\"rakesh.agarwal@gmail.com\",\"password\":\"985c201c0983d138a856ffb0c8d53890\",\"specialty\":\"Joint Replacement Surgeon\",\"customerProfile\":\"cus_JFJNni6eXwdDDM\",\"city\":\"Jharkhand\",\"state\":\"Ranchi\",\"country\":\"India\",\"firstName\":\"Rakesh\",\"lastName\":\"Agarwal\",\"referralId\":\"RakeshFJAPn_d\",\"createdOn\":\"2021-04-05T09:29:54.516Z\",\"education\":[{\"_id\":\"606ad8930030edda327b861e\",\"year\":2004,\"degree\":\"MBBS\",\"university\":\"Banaras Hindu University\"},{\"_id\":\"606ad8930030edda327b861f\",\"year\":2008,\"degree\":\"MS\",\"university\":\"Orthopaedics Banaras Hindu University\"}],\"PatientsWaiting\":[],\"__v\":0,\"meta\":\"606ad8920030edda327b861c\",\"bio\":\"Consultant Orthopaedics at Orchid Medical Centre\",\"fee\":500,\"gender\":\"male\"}}\n"
     ]
    },
    {
     "name": "stderr",
     "output_type": "stream",
     "text": [
      "\r\n",
      " 91%|████████████████████████████████████████████████████████████████████████▉       | 156/171 [16:51<00:57,  3.84s/it]"
     ]
    },
    {
     "name": "stdout",
     "output_type": "stream",
     "text": [
      "{'status': True, 'message': 'Image uploaded successfully'}\n",
      "Not present Sarita\n",
      "Not present Amiy\n",
      "606ad8980030edda327b863a kumar.abhishek@gmail.com\n",
      "{\"status\":true,\"message\":\"Profile successfully updated\",\"data\":{\"basic\":{\"organization_name\":\"not found\",\"organizational_subpart\":\"not found\",\"enumeration_date\":\"not found\",\"last_updated\":\"not found\",\"status\":\"not found\",\"telephone_number\":\"not found\",\"title_or_position\":\"not found\",\"name_prefix\":\"not found\",\"name_suffix\":\"not found\",\"sole_proprietor\":\"not found\",\"gender\":\"not found\",\"name\":\"Kumar Abhishek\"},\"document\":{\"idProof\":false,\"registrationProof\":false,\"establishment\":false},\"address\":[],\"taxonomies\":[],\"practiceLocation\":[],\"diseases\":[],\"description\":\"NA\",\"steps\":[0,0,0,0],\"is_in_network\":true,\"is_superDoc\":false,\"location_ids\":[],\"isActive\":true,\"isApproved\":false,\"availability\":[],\"appointments\":[],\"picture\":[],\"profileStatus\":true,\"question\":[],\"appointmentsString\":\"{\\\"duration\\\":\\\"15\\\",\\\"id\\\":\\\"\\\",\\\"weekdaysArr\\\":[{\\\"days\\\":[\\\"wednesday\\\",\\\"thursday\\\",\\\"friday\\\"],\\\"startTime\\\":\\\"02:30\\\",\\\"endTime\\\":\\\"11:30\\\",\\\"lunchStart\\\":\\\"06:30\\\",\\\"lunchEnd\\\":\\\"07:30\\\"},{\\\"days\\\":[\\\"monday\\\",\\\"tuesday\\\"],\\\"startTime\\\":\\\"03:30\\\",\\\"endTime\\\":\\\"12:30\\\",\\\"lunchStart\\\":\\\"06:30\\\",\\\"lunchEnd\\\":\\\"07:30\\\"}]}\",\"onBoarding\":false,\"referrals\":[],\"latestAppointment\":[],\"payment\":true,\"isAssistant\":false,\"rights\":[],\"assistants\":[],\"charity\":false,\"clinic\":[],\"block\":false,\"deviceToken\":[],\"online\":false,\"socket\":[],\"conversations\":[],\"WaitingRoomSocket\":[],\"verify\":true,\"_id\":\"606ad8980030edda327b863a\",\"npi\":\"6557\",\"email\":\"kumar.abhishek@gmail.com\",\"password\":\"985c201c0983d138a856ffb0c8d53890\",\"specialty\":\"Pediatrician\",\"customerProfile\":\"cus_JFJNwxIFIQn1jQ\",\"city\":\"Jharkhand\",\"state\":\"Ranchi\",\"country\":\"India\",\"firstName\":\"Kumar\",\"lastName\":\"Abhishek\",\"referralId\":\"Kumar8hhU5_d\",\"createdOn\":\"2021-04-05T09:30:00.609Z\",\"education\":[{\"_id\":\"606ad8990030edda327b863d\",\"year\":null,\"degree\":\"MBBS\",\"university\":\"Bharati Vidyapeeth University\"},{\"_id\":\"606ad8990030edda327b863e\",\"year\":2019,\"degree\":\"Diploma in Child Health (DCH)\",\"university\":\"College of Physcian and Surgeon Mumbai\"}],\"PatientsWaiting\":[],\"__v\":0,\"meta\":\"606ad8980030edda327b863b\",\"bio\":\"Dr. Kumar Abhishek is a Pediatrician in Harmu Housing Colony, Ranchi and has an experience of 5 years in this field. Dr. Kumar Abhishek practices at Shri Balram Children Hospital in Harmu Housing Colony, Ranchi. He completed MBBS from Bharati Vidyapeeth University, Pune in 2015 and Diploma in Child Health (DCH) from College of Physcian and Surgeon Mumbai in 2019. \",\"fee\":400,\"gender\":\"male\"}}\n"
     ]
    },
    {
     "name": "stderr",
     "output_type": "stream",
     "text": [
      "\r\n",
      " 93%|██████████████████████████████████████████████████████████████████████████▍     | 159/171 [16:57<00:36,  3.02s/it]"
     ]
    },
    {
     "name": "stdout",
     "output_type": "stream",
     "text": [
      "{'status': True, 'message': 'Image uploaded successfully'}\n",
      "Not present Spandana\n",
      "Not present Ujjwal\n",
      "Not present Ankur\n",
      "Not present Mr.\n",
      "606ad89e0030edda327b8659 jitendra.kumar@gmail.com\n",
      "{\"status\":true,\"message\":\"Profile successfully updated\",\"data\":{\"basic\":{\"organization_name\":\"not found\",\"organizational_subpart\":\"not found\",\"enumeration_date\":\"not found\",\"last_updated\":\"not found\",\"status\":\"not found\",\"telephone_number\":\"not found\",\"title_or_position\":\"not found\",\"name_prefix\":\"not found\",\"name_suffix\":\"not found\",\"sole_proprietor\":\"not found\",\"gender\":\"not found\",\"name\":\"Jitendra Kumar\"},\"document\":{\"idProof\":false,\"registrationProof\":false,\"establishment\":false},\"address\":[],\"taxonomies\":[],\"practiceLocation\":[],\"diseases\":[],\"description\":\"NA\",\"steps\":[0,0,0,0],\"is_in_network\":true,\"is_superDoc\":false,\"location_ids\":[],\"isActive\":true,\"isApproved\":false,\"availability\":[],\"appointments\":[],\"picture\":[],\"profileStatus\":true,\"question\":[],\"appointmentsString\":\"{\\\"duration\\\":\\\"15\\\",\\\"id\\\":\\\"\\\",\\\"weekdaysArr\\\":[{\\\"days\\\":[\\\"wednesday\\\",\\\"thursday\\\",\\\"friday\\\"],\\\"startTime\\\":\\\"02:30\\\",\\\"endTime\\\":\\\"11:30\\\",\\\"lunchStart\\\":\\\"06:30\\\",\\\"lunchEnd\\\":\\\"07:30\\\"},{\\\"days\\\":[\\\"monday\\\",\\\"tuesday\\\"],\\\"startTime\\\":\\\"03:30\\\",\\\"endTime\\\":\\\"12:30\\\",\\\"lunchStart\\\":\\\"06:30\\\",\\\"lunchEnd\\\":\\\"07:30\\\"}]}\",\"onBoarding\":false,\"referrals\":[],\"latestAppointment\":[],\"payment\":true,\"isAssistant\":false,\"rights\":[],\"assistants\":[],\"charity\":false,\"clinic\":[],\"block\":false,\"deviceToken\":[],\"online\":false,\"socket\":[],\"conversations\":[],\"WaitingRoomSocket\":[],\"verify\":true,\"_id\":\"606ad89e0030edda327b8659\",\"npi\":\"3533\",\"email\":\"jitendra.kumar@gmail.com\",\"password\":\"985c201c0983d138a856ffb0c8d53890\",\"specialty\":\"Radiologist\",\"customerProfile\":\"cus_JFJNec37BG7ZuJ\",\"city\":\"Jharkhand\",\"state\":\"Ranchi\",\"country\":\"India\",\"firstName\":\"Jitendra\",\"lastName\":\"Kumar\",\"referralId\":\"Jitendra11si0_d\",\"createdOn\":\"2021-04-05T09:30:06.698Z\",\"education\":[{\"_id\":\"606ad89f0030edda327b865c\",\"year\":2010,\"degree\":\"MBBS\",\"university\":\"Vinoba Bhave University\"},{\"_id\":\"606ad89f0030edda327b865d\",\"year\":2016,\"degree\":\"Diploma in Medical Radio-Diagnosis\",\"university\":\"Ranchi University\"}],\"PatientsWaiting\":[],\"__v\":0,\"meta\":\"606ad89e0030edda327b865a\",\"bio\":\"Dr. Jitendra Kumar is a Radiologist in Irba, Ranchi and has an experience of 5 years in this field. Dr. Jitendra Kumar practices at HCG - Abdur Razzaque Ansari Cancer Hospital in Irba, Ranchi. He completed MBBS from Vinoba Bhave University in 2010 and Diploma in Medical Radio-Diagnosis from Ranchi University in 2016. \",\"fee\":700,\"gender\":\"male\"}}\n"
     ]
    },
    {
     "name": "stderr",
     "output_type": "stream",
     "text": [
      "\r\n",
      " 96%|████████████████████████████████████████████████████████████████████████████▋   | 164/171 [17:03<00:14,  2.08s/it]"
     ]
    },
    {
     "name": "stdout",
     "output_type": "stream",
     "text": [
      "{'status': True, 'message': 'Image uploaded successfully'}\n",
      "Not present Sarita\n",
      "Not present Suhagini\n",
      "606ad8a40030edda327b8678 lt.col.vivek.kumar.singh@gmail.com\n",
      "{\"status\":true,\"message\":\"Profile successfully updated\",\"data\":{\"basic\":{\"organization_name\":\"not found\",\"organizational_subpart\":\"not found\",\"enumeration_date\":\"not found\",\"last_updated\":\"not found\",\"status\":\"not found\",\"telephone_number\":\"not found\",\"title_or_position\":\"not found\",\"name_prefix\":\"not found\",\"name_suffix\":\"not found\",\"sole_proprietor\":\"not found\",\"gender\":\"not found\",\"name\":\"Lt Col Vivek Kumar Singh\"},\"document\":{\"idProof\":false,\"registrationProof\":false,\"establishment\":false},\"address\":[],\"taxonomies\":[],\"practiceLocation\":[],\"diseases\":[],\"description\":\"NA\",\"steps\":[0,0,0,0],\"is_in_network\":true,\"is_superDoc\":false,\"location_ids\":[],\"isActive\":true,\"isApproved\":false,\"availability\":[],\"appointments\":[],\"picture\":[],\"profileStatus\":true,\"question\":[],\"appointmentsString\":\"{\\\"duration\\\":\\\"15\\\",\\\"id\\\":\\\"\\\",\\\"weekdaysArr\\\":[{\\\"days\\\":[\\\"wednesday\\\",\\\"thursday\\\",\\\"friday\\\"],\\\"startTime\\\":\\\"02:30\\\",\\\"endTime\\\":\\\"11:30\\\",\\\"lunchStart\\\":\\\"06:30\\\",\\\"lunchEnd\\\":\\\"07:30\\\"},{\\\"days\\\":[\\\"monday\\\",\\\"tuesday\\\"],\\\"startTime\\\":\\\"03:30\\\",\\\"endTime\\\":\\\"12:30\\\",\\\"lunchStart\\\":\\\"06:30\\\",\\\"lunchEnd\\\":\\\"07:30\\\"}]}\",\"onBoarding\":false,\"referrals\":[],\"latestAppointment\":[],\"payment\":true,\"isAssistant\":false,\"rights\":[],\"assistants\":[],\"charity\":false,\"clinic\":[],\"block\":false,\"deviceToken\":[],\"online\":false,\"socket\":[],\"conversations\":[],\"WaitingRoomSocket\":[],\"verify\":true,\"_id\":\"606ad8a40030edda327b8678\",\"npi\":\"17212\",\"email\":\"lt.col.vivek.kumar.singh@gmail.com\",\"password\":\"985c201c0983d138a856ffb0c8d53890\",\"specialty\":\"Dentist\",\"customerProfile\":\"cus_JFJNX99fV6wjcm\",\"city\":\"Jharkhand\",\"state\":\"Ranchi\",\"country\":\"India\",\"firstName\":\"Lt\",\"lastName\":\"Col Vivek Kumar Singh\",\"referralId\":\"Lt70Cnq_d\",\"createdOn\":\"2021-04-05T09:30:12.805Z\",\"education\":[{\"_id\":\"606ad8a50030edda327b867b\",\"year\":null,\"degree\":\"BDS\",\"university\":\"Manipal College of Dental Sciences\"}],\"PatientsWaiting\":[],\"__v\":0,\"meta\":\"606ad8a40030edda327b8679\",\"bio\":\"Dr. Lt Col Vivek Kumar Singh is a Dentist,Cosmetic/Aesthetic Dentist and Dental Surgeon in Pundag, Ranchi and has an experience of 16 years in these fields. Dr. Lt Col Vivek Kumar Singh practices at Classic Dental in Pundag, Ranchi. He completed BDS from Manipal College of Dental Sciences, Manipal in 2005. \",\"fee\":200,\"gender\":\"male\"}}\n"
     ]
    },
    {
     "name": "stderr",
     "output_type": "stream",
     "text": [
      "100%|████████████████████████████████████████████████████████████████████████████████| 171/171 [17:09<00:00,  6.02s/it]"
     ]
    },
    {
     "name": "stdout",
     "output_type": "stream",
     "text": [
      "{'status': True, 'message': 'Image uploaded successfully'}\n",
      "Not present Sakshi\n",
      "Not present Prashant\n",
      "Not present Prashant\n",
      "Not present S\n"
     ]
    },
    {
     "name": "stderr",
     "output_type": "stream",
     "text": [
      "\n"
     ]
    }
   ],
   "source": [
    "DIR = 'E:/Youtube game/works/Ranchi/Ranchi/'\n",
    "images_name = [i for i in os.listdir(DIR)]\n",
    "img = {}\n",
    "for i in images_name:\n",
    "    img[i] = DIR+i\n",
    "    \n",
    "    \n",
    "for out in tqdm(ranchi_filter[20:]):\n",
    "    key = out[3]+'.jpg'\n",
    "    \n",
    "    if(key in images_name):\n",
    "    \n",
    "        first_name = out[0]\n",
    "        last_name = out[1]\n",
    "\n",
    "        #inserting gender\n",
    "        try:\n",
    "            gender = out[2].lower()\n",
    "        except:\n",
    "            gender = \"male\"\n",
    "\n",
    "        #inserting npi\n",
    "        npi = out[3].split(' ')[0]\n",
    "\n",
    "        #inserting speciality\n",
    "        speciality = out[4]\n",
    "\n",
    "        #inserting about\n",
    "        about = out[15]\n",
    "\n",
    "        #inserting email\n",
    "        email = out[5]\n",
    "\n",
    "        #inserting address\n",
    "        country = out[6]\n",
    "        city = out[7]\n",
    "        state = out[8]\n",
    "\n",
    "        #inserting password\n",
    "        password = out[10]\n",
    "        verify = out[9]\n",
    "\n",
    "        #inserting fees\n",
    "        fee = out[14]\n",
    "\n",
    "        #education\n",
    "        edu = ast.literal_eval(out[11])\n",
    "        for i in edu:\n",
    "            try:\n",
    "                i['year'] = int(i['year'])\n",
    "            except:\n",
    "                pass\n",
    "            if type(i['year']) != int:\n",
    "                i['year'] = ''\n",
    "\n",
    "        payload = {'firstName':first_name,\n",
    "                  'lastName':last_name,\n",
    "                  'email':email,\n",
    "                  'country':country,\n",
    "                  'state':state,\n",
    "                  'city':city,\n",
    "                  'password':password,\n",
    "                  'basic':{},\n",
    "                  'specialty':speciality,\n",
    "                  'registration_number':npi}\n",
    "\n",
    "        r = rp.post('https://server.docplus.online/doctors/register', json = payload)\n",
    "\n",
    "        if r.json()['status'] == True:\n",
    "            r.json()['data']\n",
    "            get_id = r.json()['data']['_id'] #id of created\n",
    "            print(get_id, email)\n",
    "            m[email] = get_id\n",
    "\n",
    "\n",
    "            payload = {\n",
    "                            'gender':gender,\n",
    "                            'id':m[email],\n",
    "                            'bio':about,\n",
    "                            'education': edu,\n",
    "                            'fee':fee,\n",
    "                            'verify':'true',\n",
    "                        }\n",
    "            r = rp.post('https://server.docplus.online/doctors/profile/update', json = payload)\n",
    "            print(r.text)\n",
    "            \n",
    "            \n",
    "            payload = {\n",
    "                'id':m[email],\n",
    "            }\n",
    "            files = [\n",
    "                ('image',(key, open(img[key],'rb'),'image/jpg'))\n",
    "            ]\n",
    "            r = rp.request(\"POST\",'https://server.docplus.online/doctors/upload/image', data = payload, files=files)\n",
    "            print(r.json())\n",
    "            \n",
    "        else:\n",
    "            print(r.json()['message'])\n",
    "            continue\n",
    "    else:\n",
    "        print(\"Not present\", out[0])"
   ]
  },
  {
   "cell_type": "code",
   "execution_count": 11,
   "id": "asian-mattress",
   "metadata": {},
   "outputs": [
    {
     "data": {
      "text/plain": [
       "{'amitesh.anand@gmail.com': '6065f3453b8e22d55b2daf52',\n",
       " 'lalit.kongari@gmail.com': '6065f34c3b8e22d55b2daf64',\n",
       " 'aftab.alam.ansari@gmail.com': '6065f3523b8e22d55b2daf75',\n",
       " 'thounaojam.momon.singh@gmail.com': '6065f3583b8e22d55b2daf86',\n",
       " 'rashmi@gmail.com': '606602fa1c41e5717873b776',\n",
       " 'kumar.sourabh@gmail.com': '606603001c41e5717873b786',\n",
       " 'kumar.rajesh.chandra.ojha@gmail.com': '606603061c41e5717873b798',\n",
       " 'ratnesh.kumar@gmail.com': '6066031b1c41e5717873b7a8',\n",
       " 'sarbjaya.singh@gmail.com': '606603221c41e5717873b7b9',\n",
       " 'nitisha.lath@gmail.com': '606ad43a0030edda327b799a',\n",
       " 'virul.shrivastava@gmail.com': '606ad4460030edda327b79b9',\n",
       " 'saha.piyali@gmail.com': '606ad4510030edda327b79d8',\n",
       " 'rajesh.kumar.singh@gmail.com': '606ad45a0030edda327b79f6',\n",
       " 'm..c..khaitan@gmail.com': '606ad4670030edda327b7a15',\n",
       " 'sunil.kumar.singh@gmail.com': '606ad4760030edda327b7a33',\n",
       " 'rajiv.kumar@gmail.com': '606ad4820030edda327b7a51',\n",
       " 'rakesh.mishra@gmail.com': '606ad4a60030edda327b7a6f',\n",
       " 'sathi.rani.sarkar@gmail.com': '606ad4b40030edda327b7a8e',\n",
       " 'priyanka.kumari@gmail.com': '606ad4bf0030edda327b7aac',\n",
       " 'avinash.kumar@gmail.com': '606ad4c80030edda327b7aca',\n",
       " 'uma.shankar.verma@gmail.com': '606ad4d20030edda327b7ae9',\n",
       " 'sukhen.samanta@gmail.com': '606ad4da0030edda327b7b07',\n",
       " 'tushar.arya@gmail.com': '606ad4e40030edda327b7b27',\n",
       " 'prashanta.kumar.sen.gupta@gmail.com': '606ad4ee0030edda327b7b47',\n",
       " 'n..c..datta.(ex-.capt)@gmail.com': '606ad4f80030edda327b7b65',\n",
       " 'h.k.bhaiya@gmail.com': '606ad5020030edda327b7b83',\n",
       " 'alexander.toppo@gmail.com': '606ad50b0030edda327b7ba2',\n",
       " 'gautam.kumar@gmail.com': '606ad5150030edda327b7bc0',\n",
       " 'aditya.vardhan.singh@gmail.com': '606ad51f0030edda327b7bde',\n",
       " 'manoj.kumar.singh@gmail.com': '606ad5290030edda327b7bfd',\n",
       " 'pradeep.kumar.thakur@gmail.com': '606ad5330030edda327b7c1c',\n",
       " 'sanjay.kumar@gmail.com': '606ad53c0030edda327b7c3a',\n",
       " 'm.s.chen@gmail.com': '606ad5480030edda327b7c58',\n",
       " 'bhaskar.lal@gmail.com': '606ad5530030edda327b7c77',\n",
       " 'praveen.kumar@gmail.com': '606ad55d0030edda327b7c96',\n",
       " 'ajit.kumar...(physiotherapist)@gmail.com': '606ad5670030edda327b7cb4',\n",
       " 'rahul.prakash@gmail.com': '606ad5730030edda327b7cd3',\n",
       " 'abhishek.kumar@gmail.com': '606ad57e0030edda327b7cf1',\n",
       " 'shaily.poddar@gmail.com': '606ad5890030edda327b7d10',\n",
       " 'anuj.sharma@gmail.com': '606ad5980030edda327b7d2e',\n",
       " 'amlan.shome@gmail.com': '606ad5a00030edda327b7d4d',\n",
       " 'akash.prasad@gmail.com': '606ad5a80030edda327b7d6c',\n",
       " 'ved.prakash.verma@gmail.com': '606ad5b00030edda327b7d8a',\n",
       " 'achala.raman@gmail.com': '606ad5bb0030edda327b7daa',\n",
       " 'p.n.pandey@gmail.com': '606ad5c70030edda327b7dc9',\n",
       " 'rajni.lal@gmail.com': '606ad5d50030edda327b7de7',\n",
       " 'bijeta.singh@gmail.com': '606ad5e80030edda327b7e06',\n",
       " 'shailendra.kumar.singh@gmail.com': '606ad5fa0030edda327b7e25',\n",
       " 'r..n..singh@gmail.com': '606ad60b0030edda327b7e44',\n",
       " 'dk.mishra@gmail.com': '606ad61c0030edda327b7e64',\n",
       " 'avinash.kumar.dubey@gmail.com': '606ad6260030edda327b7e83',\n",
       " 'disha.narnoly@gmail.com': '606ad6310030edda327b7ea3',\n",
       " 'rajanikant.mishra@gmail.com': '606ad63e0030edda327b7ec2',\n",
       " 's.k.raman@gmail.com': '606ad6530030edda327b7ee0',\n",
       " 'v..k..jagnany@gmail.com': '606ad6600030edda327b7eff',\n",
       " 'prabhat.kumar@gmail.com': '606ad66e0030edda327b7f1e',\n",
       " 'sheran.ali@gmail.com': '606ad67f0030edda327b7f3c',\n",
       " 'suyash.sinha@gmail.com': '606ad68f0030edda327b7f5b',\n",
       " 'ankit.shrivastav@gmail.com': '606ad69b0030edda327b7f79',\n",
       " 'sayeed.akhtar@gmail.com': '606ad6a70030edda327b7f99',\n",
       " 'shivam.bhagat@gmail.com': '606ad6b60030edda327b7fb9',\n",
       " 'saurabh.priyadarshi.tiwary@gmail.com': '606ad6cd0030edda327b7fd7',\n",
       " 'pawan.kumar@gmail.com': '606ad6da0030edda327b7ff5',\n",
       " 'suparna.prasad@gmail.com': '606ad6f10030edda327b8014',\n",
       " 'm..shiraz.ali@gmail.com': '606ad7090030edda327b8032',\n",
       " 'sushil.kumar.singh@gmail.com': '606ad7170030edda327b8051',\n",
       " 'sunil.kumar.jain@gmail.com': '606ad7280030edda327b8070',\n",
       " 'raj.kumar.sharma@gmail.com': '606ad7380030edda327b8090',\n",
       " 'poonam.raj@gmail.com': '606ad7440030edda327b80b0',\n",
       " 'rajesh.solanki@gmail.com': '606ad7530030edda327b80cf',\n",
       " 'anant.kumar@gmail.com': '606ad7650030edda327b80ed',\n",
       " 'alok.ranjan@gmail.com': '606ad7700030edda327b810d',\n",
       " 'vishal@gmail.com': '606ad7820030edda327b812d',\n",
       " 'prem.bhushan@gmail.com': '606ad78e0030edda327b814b',\n",
       " 'mohini.srivastava@gmail.com': '606ad79c0030edda327b816b',\n",
       " 'niyanta.krati@gmail.com': '606ad7a60030edda327b8189',\n",
       " 'abhay.kumar.jain@gmail.com': '606ad7ac0030edda327b81a7',\n",
       " 'amit.mohan@gmail.com': '606ad7b20030edda327b81c6',\n",
       " 'nitesh.priya@gmail.com': '606ad7b90030edda327b81e6',\n",
       " 'anitabh.kumar@gmail.com': '606ad7bf0030edda327b8205',\n",
       " 'kailash.prasad@gmail.com': '606ad7c50030edda327b8224',\n",
       " 'sonia.prakash@gmail.com': '606ad7cb0030edda327b8243',\n",
       " 'kumar.pankaj.prabhat@gmail.com': '606ad7d10030edda327b8262',\n",
       " 'pragya.pant@gmail.com': '606ad7d80030edda327b8280',\n",
       " 'anju.kumar@gmail.com': '606ad7de0030edda327b829f',\n",
       " 'subash.poddar@gmail.com': '606ad7e40030edda327b82bf',\n",
       " 'rakesh.kumar@gmail.com': '606ad7ea0030edda327b82de',\n",
       " 'ashok.kumar.singh@gmail.com': '606ad7f00030edda327b82fc',\n",
       " 'suranjan.sarkar@gmail.com': '606ad7f60030edda327b831a',\n",
       " 'sunita.katyayan@gmail.com': '606ad7fc0030edda327b8338',\n",
       " 'shashi.bhushan@gmail.com': '606ad8020030edda327b8357',\n",
       " 'anup.kr..gupta@gmail.com': '606ad8090030edda327b8375',\n",
       " 'vikram.bhalla@gmail.com': '606ad80f0030edda327b8394',\n",
       " 'ankita.sriwastwa@gmail.com': '606ad8150030edda327b83b3',\n",
       " 'ujjawal.roy@gmail.com': '606ad81c0030edda327b83d2',\n",
       " 'rajeev.ranjan@gmail.com': '606ad8220030edda327b83f2',\n",
       " 'p..kumari.nag@gmail.com': '606ad8280030edda327b8410',\n",
       " 'basant.kumar.singh@gmail.com': '606ad82e0030edda327b842f',\n",
       " 'saankritya.ayan@gmail.com': '606ad8350030edda327b844f',\n",
       " 'anoop.mohan.nair@gmail.com': '606ad83b0030edda327b846e',\n",
       " 'o..p..sinha@gmail.com': '606ad8410030edda327b848d',\n",
       " 'rajesh.kumar.jha@gmail.com': '606ad8470030edda327b84ad',\n",
       " 'anshuman.rohit.tewan@gmail.com': '606ad84e0030edda327b84cb',\n",
       " 'yashwant.lal@gmail.com': '606ad8540030edda327b84ea',\n",
       " 'banka.shikha.singhania@gmail.com': '606ad85a0030edda327b8509',\n",
       " 'shweta.kantha@gmail.com': '606ad8600030edda327b8527',\n",
       " 'ajay.chhabra@gmail.com': '606ad8660030edda327b8546',\n",
       " 'ashutosh.charan@gmail.com': '606ad86c0030edda327b8564',\n",
       " 'vikash.kumar@gmail.com': '606ad8730030edda327b8583',\n",
       " 'varun.kumar@gmail.com': '606ad8790030edda327b85a1',\n",
       " 'abhishek.maheshwari@gmail.com': '606ad87f0030edda327b85c0',\n",
       " 'manish.ranjan@gmail.com': '606ad8860030edda327b85df',\n",
       " 'neha.sheetal@gmail.com': '606ad88c0030edda327b85fd',\n",
       " 'rakesh.agarwal@gmail.com': '606ad8920030edda327b861b',\n",
       " 'kumar.abhishek@gmail.com': '606ad8980030edda327b863a',\n",
       " 'jitendra.kumar@gmail.com': '606ad89e0030edda327b8659',\n",
       " 'lt.col.vivek.kumar.singh@gmail.com': '606ad8a40030edda327b8678'}"
      ]
     },
     "execution_count": 11,
     "metadata": {},
     "output_type": "execute_result"
    }
   ],
   "source": [
    "m"
   ]
  },
  {
   "cell_type": "code",
   "execution_count": 43,
   "id": "golden-federal",
   "metadata": {},
   "outputs": [],
   "source": [
    "payload = {\n",
    "    'id':'6065e1b13b8e22d55b2daf2f',\n",
    "}\n",
    "files = [\n",
    "    ('image',(key, open(img[key],'rb'),'image/jpg'))\n",
    "]\n",
    "r = rp.request(\"POST\",'https://server.docplus.online/doctors/upload/image', data = payload, files=files)"
   ]
  },
  {
   "cell_type": "code",
   "execution_count": 10,
   "id": "north-circle",
   "metadata": {},
   "outputs": [
    {
     "data": {
      "text/plain": [
       "'<html>\\r\\n<head><title>502 Bad Gateway</title></head>\\r\\n<body>\\r\\n<center><h1>502 Bad Gateway</h1></center>\\r\\n<hr><center>nginx/1.18.0 (Ubuntu)</center>\\r\\n</body>\\r\\n</html>\\r\\n'"
      ]
     },
     "execution_count": 10,
     "metadata": {},
     "output_type": "execute_result"
    }
   ],
   "source": [
    "r.text"
   ]
  },
  {
   "cell_type": "code",
   "execution_count": 18,
   "id": "interested-louis",
   "metadata": {},
   "outputs": [],
   "source": [
    "pickle_out = open('inserted_practo_postman.pickle','wb')#change for another checkpoint\n",
    "pickle.dump(m, pickle_out)\n",
    "pickle_out.close()"
   ]
  },
  {
   "cell_type": "code",
   "execution_count": 19,
   "id": "biological-development",
   "metadata": {},
   "outputs": [],
   "source": [
    "pickle_in = open('inserted_practo_postman.pickle','rb')\n",
    "outcome = pickle.load(pickle_in)"
   ]
  },
  {
   "cell_type": "code",
   "execution_count": 21,
   "id": "random-constant",
   "metadata": {},
   "outputs": [
    {
     "data": {
      "text/plain": [
       "117"
      ]
     },
     "execution_count": 21,
     "metadata": {},
     "output_type": "execute_result"
    }
   ],
   "source": [
    "len(outcome)"
   ]
  },
  {
   "cell_type": "code",
   "execution_count": 123,
   "id": "liable-share",
   "metadata": {},
   "outputs": [
    {
     "data": {
      "text/plain": [
       "'<html>\\r\\n<head><title>502 Bad Gateway</title></head>\\r\\n<body>\\r\\n<center><h1>502 Bad Gateway</h1></center>\\r\\n<hr><center>nginx/1.18.0 (Ubuntu)</center>\\r\\n</body>\\r\\n</html>\\r\\n'"
      ]
     },
     "execution_count": 123,
     "metadata": {},
     "output_type": "execute_result"
    }
   ],
   "source": [
    "r.text"
   ]
  },
  {
   "cell_type": "code",
   "execution_count": 17,
   "id": "placed-northwest",
   "metadata": {},
   "outputs": [
    {
     "data": {
      "text/plain": [
       "'E:/Youtube game/works/Ranchi/Ranchi/19088A Karnataka State Dental Council, 2006.jpg'"
      ]
     },
     "execution_count": 17,
     "metadata": {},
     "output_type": "execute_result"
    }
   ],
   "source": [
    "img[key]"
   ]
  },
  {
   "cell_type": "code",
   "execution_count": 15,
   "id": "supreme-phoenix",
   "metadata": {},
   "outputs": [
    {
     "data": {
      "text/plain": [
       "471"
      ]
     },
     "execution_count": 15,
     "metadata": {},
     "output_type": "execute_result"
    }
   ],
   "source": [
    "len(outcome)"
   ]
  },
  {
   "cell_type": "code",
   "execution_count": 17,
   "id": "pleasant-venture",
   "metadata": {},
   "outputs": [
    {
     "data": {
      "text/plain": [
       "1407"
      ]
     },
     "execution_count": 17,
     "metadata": {},
     "output_type": "execute_result"
    }
   ],
   "source": [
    "len(m)"
   ]
  },
  {
   "cell_type": "code",
   "execution_count": 32,
   "id": "approved-password",
   "metadata": {},
   "outputs": [],
   "source": [
    "import pandas as pd"
   ]
  },
  {
   "cell_type": "code",
   "execution_count": 42,
   "id": "false-internet",
   "metadata": {},
   "outputs": [],
   "source": [
    "email = []\n",
    "npi = []\n",
    "for i,j in m.items():\n",
    "    email.append(i)\n",
    "    npi.append(j)\n",
    "    \n",
    "convertion_data = {\n",
    "    'email':email,\n",
    "    'id':npi\n",
    "}\n",
    "\n",
    "df = pd.DataFrame.from_dict(convertion_data)"
   ]
  },
  {
   "cell_type": "code",
   "execution_count": 44,
   "id": "indonesian-content",
   "metadata": {},
   "outputs": [],
   "source": [
    "df.to_excel(r'C:\\Users\\Souvik_2\\Desktop\\practo_postman_doctors.xlsx')"
   ]
  },
  {
   "cell_type": "code",
   "execution_count": 9,
   "id": "cross-storm",
   "metadata": {},
   "outputs": [],
   "source": [
    "import concurrent.futures\n",
    "import time"
   ]
  },
  {
   "cell_type": "code",
   "execution_count": 24,
   "id": "representative-dispute",
   "metadata": {},
   "outputs": [],
   "source": [
    "a = [1]\n",
    "def printf():\n",
    "    a[0]+=1\n",
    "    return([a[0]])\n",
    "    time.sleep(10)"
   ]
  },
  {
   "cell_type": "code",
   "execution_count": 47,
   "id": "desirable-registrar",
   "metadata": {},
   "outputs": [],
   "source": [
    "for _ in range(100):\n",
    "    with concurrent.futures.ThreadPoolExecutor() as executor:\n",
    "        future = executor.map(printf)\n"
   ]
  },
  {
   "cell_type": "code",
   "execution_count": 48,
   "id": "functional-mambo",
   "metadata": {},
   "outputs": [],
   "source": [
    "for i in range(100):\n",
    "    t1 = threading.Thread(target = printf)\n",
    "    t1.start()"
   ]
  },
  {
   "cell_type": "code",
   "execution_count": 21,
   "id": "accompanied-aquatic",
   "metadata": {},
   "outputs": [
    {
     "name": "stdout",
     "output_type": "stream",
     "text": [
      "<div class=\"pure-u-14-24\" data-qa-id=\"pagination_container\"></div>\n",
      "[]\n"
     ]
    }
   ],
   "source": [
    "driver = Edge(options = options)\n",
    "driver.get(\"https://www.practo.com/search?results_type=doctor&q=%5B%7B%22word%22%3A%22doctor%22%2C%22autocompleted%22%3Atrue%2C%22category%22%3A%22type%22%7D%5D&city=korba&page=1\")\n",
    "soup = BeautifulSoup(driver.page_source, 'html.parser')\n",
    "m = soup.find('div', {'data-qa-id':'pagination_container'})\n",
    "print(m)\n",
    "data = []\n",
    "for i in m.find_all('li'):\n",
    "       data.append(i.text)\n",
    "print(data)"
   ]
  },
  {
   "cell_type": "code",
   "execution_count": 15,
   "id": "color-fleece",
   "metadata": {
    "scrolled": true
   },
   "outputs": [
    {
     "name": "stderr",
     "output_type": "stream",
     "text": [
      "100%|██████████████████████████████████████████████████████████████████████████████████| 35/35 [00:02<00:00, 13.81it/s]\n"
     ]
    }
   ],
   "source": [
    "import threading\n",
    "data = []\n",
    "threadLimiter = threading.BoundedSemaphore(50)\n",
    "def get_urls(url):\n",
    "    all_urls = []\n",
    "    driver = Edge(options = options)\n",
    "    driver.get(url)\n",
    "    soup = BeautifulSoup(driver.page_source, 'html.parser')\n",
    "    out = soup.find_all('div', {'class':'info-section'})\n",
    "    for i in out:\n",
    "        links = i.find('a')['href']\n",
    "        data.append(links)\n",
    "        all_urls.append(links)\n",
    "    driver.close()\n",
    "        \n",
    "for i in tqdm(range(100,135)):\n",
    "    future = []\n",
    "    url = \"https://www.practo.com/search?results_type=doctor&q=%5B%7B%22word%22%3A%22doctor%22%2C%22autocompleted%22%3Atrue%2C%22category%22%3A%22type%22%7D%5D&city=jaipur&page=\"+str(i)\n",
    "    t= threading.Thread(target = get_urls, args = [url])\n",
    "    threadLimiter.acquire()\n",
    "    try:\n",
    "        t.start()\n",
    "    except:\n",
    "        threadLimiter.release()\n",
    "        t.terminate()\n",
    "    future.append(t)\n",
    "for thread in future:\n",
    "    thread.join()\n",
    "        "
   ]
  },
  {
   "cell_type": "code",
   "execution_count": 7,
   "id": "touched-inclusion",
   "metadata": {},
   "outputs": [
    {
     "data": {
      "text/plain": [
       "490"
      ]
     },
     "execution_count": 7,
     "metadata": {},
     "output_type": "execute_result"
    }
   ],
   "source": [
    "len(data)"
   ]
  },
  {
   "cell_type": "code",
   "execution_count": 19,
   "id": "double-consequence",
   "metadata": {},
   "outputs": [],
   "source": [
    "pickle_out = open('jaipur_urls.pickle','wb')#change for another checkpoint\n",
    "pickle.dump(data, pickle_out)"
   ]
  },
  {
   "cell_type": "code",
   "execution_count": 4,
   "id": "stainless-cheese",
   "metadata": {},
   "outputs": [],
   "source": [
    "pickle_in  = open('jaipur_urls.pickle','rb')\n",
    "urls = pickle.load(pickle_in)"
   ]
  },
  {
   "cell_type": "code",
   "execution_count": 8,
   "id": "realistic-recorder",
   "metadata": {},
   "outputs": [
    {
     "data": {
      "text/plain": [
       "1310"
      ]
     },
     "execution_count": 8,
     "metadata": {},
     "output_type": "execute_result"
    }
   ],
   "source": [
    "len(urls)"
   ]
  },
  {
   "cell_type": "code",
   "execution_count": 17,
   "id": "coupled-blast",
   "metadata": {},
   "outputs": [],
   "source": [
    "data+=pickle_out"
   ]
  },
  {
   "cell_type": "code",
   "execution_count": null,
   "id": "graphic-reference",
   "metadata": {},
   "outputs": [],
   "source": []
  },
  {
   "cell_type": "code",
   "execution_count": 33,
   "id": "guided-denver",
   "metadata": {},
   "outputs": [],
   "source": [
    "a = []\n",
    "for i in pushed_data:\n",
    "    if(i[7] == 'Delhi'):\n",
    "        a.append(i)"
   ]
  },
  {
   "cell_type": "code",
   "execution_count": 34,
   "id": "chief-thanksgiving",
   "metadata": {},
   "outputs": [
    {
     "data": {
      "text/plain": [
       "6522"
      ]
     },
     "execution_count": 34,
     "metadata": {},
     "output_type": "execute_result"
    }
   ],
   "source": [
    "len(a)"
   ]
  },
  {
   "cell_type": "code",
   "execution_count": 14,
   "id": "level-tennessee",
   "metadata": {},
   "outputs": [],
   "source": [
    "a = [i[3].split()[0] for i in a]"
   ]
  },
  {
   "cell_type": "code",
   "execution_count": 25,
   "id": "simple-fusion",
   "metadata": {},
   "outputs": [],
   "source": [
    "b = []\n",
    "for i in pushed_data:\n",
    "    if(i[7] == 'Delhi'):\n",
    "        b.append(i)"
   ]
  },
  {
   "cell_type": "code",
   "execution_count": 30,
   "id": "accurate-proceeding",
   "metadata": {},
   "outputs": [
    {
     "data": {
      "text/plain": [
       "6514"
      ]
     },
     "execution_count": 30,
     "metadata": {},
     "output_type": "execute_result"
    }
   ],
   "source": [
    "len(b)"
   ]
  },
  {
   "cell_type": "code",
   "execution_count": 29,
   "id": "intellectual-saver",
   "metadata": {},
   "outputs": [
    {
     "data": {
      "text/plain": [
       "46"
      ]
     },
     "execution_count": 29,
     "metadata": {},
     "output_type": "execute_result"
    }
   ],
   "source": [
    "6334 - 6288"
   ]
  },
  {
   "cell_type": "markdown",
   "id": "binding-popularity",
   "metadata": {},
   "source": [
    "# Image collection"
   ]
  },
  {
   "cell_type": "code",
   "execution_count": 27,
   "id": "comparative-requirement",
   "metadata": {},
   "outputs": [
    {
     "data": {
      "text/plain": [
       "[('Rishav',\n",
       "  'Bansal',\n",
       "  'male',\n",
       "  'DMC/R/9919 Delhi Medical Council, 2014',\n",
       "  'Geriatrician',\n",
       "  'rishav.bansal@gmail.com',\n",
       "  'India',\n",
       "  'Jharkhand',\n",
       "  'Ranchi',\n",
       "  'True',\n",
       "  'DemoDoc@1234',\n",
       "  \"[{'year': 'New Delhi', 'degree': 'MBBS', 'university': 'All India Institute of Medical Sciences'}, {'year': 'New Delhi', 'degree': 'MD', 'university': 'Geriatrics All India Institute of Medical Sciences'}]\",\n",
       "  \"[{'year': 'New Delhi', 'degree': 'MBBS', 'university': 'All India Institute of Medical Sciences'}, {'year': 'New Delhi', 'degree': 'MD', 'university': 'Geriatrics All India Institute of Medical Sciences'}]\",\n",
       "  'https://www.practo.com/Jaipur/doctor/dr-rishav-bansal-geriatrician?specialization=geriatrician',\n",
       "  '400',\n",
       "  \"Dr. Rishav Bansal is Consultant and Head of department, Geriatric Medicine at Santokba Durlabhji Memorial Hospital (SDMH), Jaipur. He is a Geriatrician/Senior Citizen Specialist Physician. Geriatric Medicine is a specialty of Medicine that deals exclusively with the “healthcare of elderly” (Senior Citizens of ≧60 years). A Geriatrician is a trained medical doctor who specializes in treating senior citizens (≧60 years old people) and practices geriatric medicine. He is currently the first and only MD of Geriatric Medicine in Rajasthan. After being trained in prestigious institute of AIIMS-Delhi for ~12 years (6 years as Geriatrician), he is committed to provide the highest quality of comprehensive medical care to senior citizens. Doctor's credentials: Dr Bansal has completed his MBBS and MD-Geriatric Medicine from prestigious institute of AIIMS-DELHI. After finishing MD, he worked in AIIMS-Delhi for 3 years as senior doctor in Geriatric Medicine department. He worked as Consultant and Head, Department of Geriatric Medicine, Rajasthan Hospital, Jaipur for 1 year initially. Currently, he is working as Consultant and Head, Department of Geriatric Medicine, Santokba Durlabhji Memorial Hospital (SDMH), Jaipur. His private consulting OPD is at Bansal Health Clinic (K23, Near Airtel office, Malviya MArg, C-scheme). \",\n",
       "  '8'),\n",
       " ('Viniita',\n",
       "  'Jhuntrraa',\n",
       "  None,\n",
       "  '12381 Rajasthan Medical Council, 1989',\n",
       "  'Special Interest in Sexology',\n",
       "  'viniita.jhuntrraa@gmail.com',\n",
       "  'India',\n",
       "  'Jharkhand',\n",
       "  'Ranchi',\n",
       "  'True',\n",
       "  'DemoDoc@1234',\n",
       "  \"[{'year': 'Jaipur (SMS College)', 'degree': 'MBBS', 'university': 'Sawai Mansingh Medical College'}]\",\n",
       "  \"[{'year': 'Jaipur (SMS College)', 'degree': 'MBBS', 'university': 'Sawai Mansingh Medical College'}]\",\n",
       "  'https://www.practo.com/Jaipur/doctor/dr-viniita-jhuntrraa-sexologist?specialization=sexologist',\n",
       "  '700',\n",
       "  'Dr. Viniita Jhuntrraa is a Sexologist and General Physician in Vaishali Nagar, Jaipur and has an experience of 33 years in these fields. Dr. Viniita Jhuntrraa practices at Vivan Hospital for Sexual Health in Vaishali Nagar, Jaipur. She completed MBBS from Sawai Mansingh Medical College, Jaipur (SMS College) in 1988. She is a member of Federation of Obstetric and Gynaecological Societies of India (FOGSI) and Indian Fertility Society (IFS). Some of the services provided by the doctor are: Pre-Marital Counselling,Female Sexual Problems and gynecologist etc. ',\n",
       "  '33'),\n",
       " ('D.D.Gupta',\n",
       "  '',\n",
       "  None,\n",
       "  '4841 Rajasthan Medical Council, 1974',\n",
       "  'General Physician',\n",
       "  'd.d.gupta@gmail.com',\n",
       "  'India',\n",
       "  'Jharkhand',\n",
       "  'Ranchi',\n",
       "  'True',\n",
       "  'DemoDoc@1234',\n",
       "  \"[{'year': 'Jaipur (SMS College)', 'degree': 'MBBS', 'university': 'Sawai Mansingh Medical College'}, {'year': 'Jaipur (SMS College)', 'degree': 'MD', 'university': 'General Medicine Sawai Mansingh Medical College'}]\",\n",
       "  \"[{'year': 'Jaipur (SMS College)', 'degree': 'MBBS', 'university': 'Sawai Mansingh Medical College'}, {'year': 'Jaipur (SMS College)', 'degree': 'MD', 'university': 'General Medicine Sawai Mansingh Medical College'}]\",\n",
       "  'https://www.practo.com/Jaipur/doctor/dr-d-d-gupta-general-physician?specialization=general physician',\n",
       "  '500',\n",
       "  'Dr. D.D.Gupta is a Doctor in C Scheme, Jaipur and has an experience of 47 years in this field. Dr. D.D.Gupta practices at Apollo Spectra Hospitals in C Scheme, Jaipur. He completed MBBS from Sawai Mansingh Medical College, Jaipur (SMS College) in 1974 and MD - General Medicine from Sawai Mansingh Medical College, Jaipur (SMS College) in 1978. He is a member of Member of Rajasthan Medical Council,Life Member of Association of Physician of India,Life Member of Jaipur Medical Association,Life Member of Medical Practioneer Society and Life Member of Jaipur Club Pvt Ltd. Some of the services provided by the doctor are: Insulin Free Treatment,Skin Tag Treatment,Head and Neck Infection Treatment,Irritable Bowel Syndrome ( IBS ) Treatment and Viral Fever Treatment etc. ',\n",
       "  '47'),\n",
       " ('Danish',\n",
       "  'Ali',\n",
       "  'male',\n",
       "  '29466 Medical Council of India (MCI), 2013',\n",
       "  'General Physician',\n",
       "  'danish.ali@gmail.com',\n",
       "  'India',\n",
       "  'Jharkhand',\n",
       "  'Ranchi',\n",
       "  'True',\n",
       "  'DemoDoc@1234',\n",
       "  \"[{'year': '2015', 'degree': 'Postgraduate Diploma in Sexology', 'university': 'Indian Institute of Sexology'}, {'year': 'Almaty', 'degree': 'MD', 'university': 'Physician Kazakh National Medical University'}]\",\n",
       "  \"[{'year': '2015', 'degree': 'Postgraduate Diploma in Sexology', 'university': 'Indian Institute of Sexology'}, {'year': 'Almaty', 'degree': 'MD', 'university': 'Physician Kazakh National Medical University'}]\",\n",
       "  'https://www.practo.com/Jaipur/doctor/danish-ali-sexologist?specialization=general physician',\n",
       "  '250',\n",
       "  'Dr Danish Ali is a trusted Sexologist in C-Scheme, Jaipur. He has been a successful Sexologist for the last many years. Dr Danish completed his MBBS,M.D (medicine) - Kazakh National Medical University in 2012, PGDS (sexology) - Indian Institute of Sexology in 2015 and Fellowship in Sexual Medicine - IMA-CGP in 2016. Dr.Danish is the first certified sexologist of USA from jaipur. Specializing in sexology Dr Danish deals in treatments like couples therapy, sexual therapy, night fall, erectile dysfunction, penis growth, premaritial counseling, infertility, impotency, masturbation, sexual transmitted diseases (STD), syphillis, burning micturition, sexual stamina, premature ejaculation and male sexual problems. Dr Danish practices at Famous Pharmacy in C-scheme in Jaipur and has 7 years of experience. Dr Danish also holds membership in Indian Medical Association (IMA), Indian Association of Sexologist, Indian Society for Reproduction and Fertility and Jaipur Medical Assosiation. Dr. Danish believes in health care that is based on a personal commitment to meet patient needs and to treat them with care and at FAMOUS PHARMACY-since 1856 providing all kinds of sexual treatment from many generation in India and in abroad too.This is the key center full satisfied treatment to every sexual problems. So, if you are in Jaipur then you can book an online appointment with him and Dr Danish always looks forward to help the people who face problems relating to a very sensitive part of their life as if it is not given proper exposure then it can prove to be a miserable life. ',\n",
       "  '9'),\n",
       " ('Neha',\n",
       "  'Sharma',\n",
       "  'female',\n",
       "  '8110 Rajasthan Homoeopathic Medical Board, 2018',\n",
       "  'Homoeopath',\n",
       "  'neha.sharma@gmail.com',\n",
       "  'India',\n",
       "  'Rajasthan ',\n",
       "  'Jaipur',\n",
       "  'True',\n",
       "  'DemoDoc@1234',\n",
       "  \"[{'year': '2016', 'degree': 'BHMS', 'university': 'Dr. Sarvepalli Radhakrishnan Rajasthan Ayurved University'}]\",\n",
       "  \"[{'year': '2016', 'degree': 'BHMS', 'university': 'Dr. Sarvepalli Radhakrishnan Rajasthan Ayurved University'}]\",\n",
       "  'https://www.practo.com/Jaipur/doctor/dr-neha-sharma-6-homoeopath-2?specialization=homoeopath',\n",
       "  '400',\n",
       "  'Dr. Neha Sharma is a Homoeopath in Pratap Nagar Housing Board, Jaipur and has an experience of 5 years in this field. Dr. Neha Sharma practices at Homeopathy Research Hospital in Pratap Nagar Housing Board, Jaipur. She completed BHMS from Dr. Sarvepalli Radhakrishnan Rajasthan Ayurved University in 2016. ',\n",
       "  '5'),\n",
       " ('Vikas',\n",
       "  'Mittal',\n",
       "  'male',\n",
       "  '20262 Rajasthan Medical Council, 2001',\n",
       "  'General Physician',\n",
       "  'vikas.mittal@gmail.com',\n",
       "  'India',\n",
       "  'Jharkhand',\n",
       "  'Ranchi',\n",
       "  'True',\n",
       "  'DemoDoc@1234',\n",
       "  \"[{'year': 'Jaipur', 'degree': 'MBBS', 'university': 'Rajasthan University of Health Science'}, {'year': 'Jaipur', 'degree': 'MD', 'university': 'General Medicine Rajasthan University of Health Science'}]\",\n",
       "  \"[{'year': 'Jaipur', 'degree': 'MBBS', 'university': 'Rajasthan University of Health Science'}, {'year': 'Jaipur', 'degree': 'MD', 'university': 'General Medicine Rajasthan University of Health Science'}]\",\n",
       "  'https://www.practo.com/Jaipur/doctor/dr-vikas-mittal-general-physician?specialization=general physician',\n",
       "  '500',\n",
       "  'Dr. Vikas Mittal is a Doctor in Sodala, Jaipur and has an experience of 10 years in this field. Dr. Vikas Mittal practices at Carewell Family Clinic in Sodala, Jaipur and Sanjeevani Hospital in Sodala, Jaipur. He completed MBBS from S M S Medical College in 2003 and MD - Internal Medicine from S M S Medical College in 2007. He is a member of Indian Medical Association (IMA). ',\n",
       "  '21'),\n",
       " ('Satyajeet',\n",
       "  'Rathore',\n",
       "  'male',\n",
       "  '36393 Rajasthan Medical Council, 2015',\n",
       "  'General Physician',\n",
       "  'satyajeet.rathore@gmail.com',\n",
       "  'India',\n",
       "  'Jharkhand',\n",
       "  'Ranchi',\n",
       "  'True',\n",
       "  'DemoDoc@1234',\n",
       "  \"[{'year': 'Ajmer', 'degree': 'MBBS', 'university': 'Jawaharlal Nehru Medical College'}]\",\n",
       "  \"[{'year': 'Ajmer', 'degree': 'MBBS', 'university': 'Jawaharlal Nehru Medical College'}]\",\n",
       "  'https://www.practo.com/Jaipur/doctor/satyajeet-rathore-ayurvedic-endocrinologist-internal-medicine-specialist?specialization=general physician',\n",
       "  '100',\n",
       "  'Dr. Satyajeet Rathore is a General Physician,Allergist/Immunologist and Trichologist in Luniawas, Jaipur and has an experience of 6 years in these fields. Dr. Satyajeet Rathore practices at Bhardwaj Multispeciality Clinic in Luniawas, Jaipur. He completed MBBS from Jawaharlal Nehru Medical College, Ajmer in 2015. ',\n",
       "  '6'),\n",
       " ('Sunil',\n",
       "  'Tanwar',\n",
       "  'male',\n",
       "  '20541 Rajasthan Medical Council, 2001',\n",
       "  'ENT/ Otorhinolaryngologist',\n",
       "  'sunil.tanwar@gmail.com',\n",
       "  'India',\n",
       "  'Jharkhand',\n",
       "  'Ranchi',\n",
       "  'True',\n",
       "  'DemoDoc@1234',\n",
       "  \"[{'year': 'Jaipur (SMS College)', 'degree': 'MBBS', 'university': 'Sawai Mansingh Medical College'}, {'year': 'Udaipur', 'degree': 'MS', 'university': 'ENT Rabindranath Tagore Medical College'}]\",\n",
       "  \"[{'year': 'Jaipur (SMS College)', 'degree': 'MBBS', 'university': 'Sawai Mansingh Medical College'}, {'year': 'Udaipur', 'degree': 'MS', 'university': 'ENT Rabindranath Tagore Medical College'}]\",\n",
       "  'https://www.practo.com/Jaipur/doctor/sunil-tanwar-ear-nose-throat-ent-specialist?specialization=ear-nose-throat (ent) specialist',\n",
       "  '500',\n",
       "  'Dr. Sunil Tanwar is a ENT/ Otorhinolaryngologist and General Physician in Shyam Nagar, Jaipur and has an experience of 18 years in these fields. Dr. Sunil Tanwar practices at Jaipur Doorbeen Hospital in Shyam Nagar, Jaipur. He completed MBBS from Sawai Mansingh Medical College, Jaipur (SMS College) in 2000 and MS - ENT from Rabindranath Tagore Medical College, Udaipur in 2006. He is a member of Indian Medical Association (IMA). Some of the services provided by the doctor are: Throat and Voice Problems,Ear Wax (Cerumen) Removal,Eardrum Rupture Treatment,Thyroplasty and Nasal Septum Surgery etc. ',\n",
       "  '13'),\n",
       " ('Shishir',\n",
       "  'Hada',\n",
       "  'male',\n",
       "  '12-44496 Medical Council of India (MCI), 2012',\n",
       "  'General Physician',\n",
       "  'shishir.hada@gmail.com',\n",
       "  'India',\n",
       "  'Jharkhand',\n",
       "  'Ranchi',\n",
       "  'True',\n",
       "  'DemoDoc@1234',\n",
       "  \"[{'year': 'Almaty', 'degree': 'MD', 'university': 'Physician Kazakh National Medical University'}]\",\n",
       "  \"[{'year': 'Almaty', 'degree': 'MD', 'university': 'Physician Kazakh National Medical University'}]\",\n",
       "  'https://www.practo.com/Jaipur/doctor/shishir-hada-general-physician?specialization=general physician',\n",
       "  '200',\n",
       "  'Dr. Shishir Hada is a Doctor in Jagatpura, Jaipur and has an experience of 11 years in this field. Dr. Shishir Hada practices at Hardik Medical Clinic in Jagatpura, Jaipur. He completed MD - Physician from Kazakh National Medical University, Almaty, Kazakhstan in 2009. ',\n",
       "  '11'),\n",
       " ('Sumit',\n",
       "  'Anand',\n",
       "  'male',\n",
       "  '23043 Rajasthan Medical Council, 2005',\n",
       "  'Internal Medicine',\n",
       "  'sumit.anand@gmail.com',\n",
       "  'India',\n",
       "  'Jharkhand',\n",
       "  'Ranchi',\n",
       "  'True',\n",
       "  'DemoDoc@1234',\n",
       "  \"[{'year': 'Jaipur', 'degree': 'MBBS', 'university': 'Rajasthan University'}, {'year': 'Jaipur', 'degree': 'MD', 'university': 'General Medicine Rajasthan University'}]\",\n",
       "  \"[{'year': 'Jaipur', 'degree': 'MBBS', 'university': 'Rajasthan University'}, {'year': 'Jaipur', 'degree': 'MD', 'university': 'General Medicine Rajasthan University'}]\",\n",
       "  'https://www.practo.com/Jaipur/doctor/dr-sunit-anand-internal-medicine?specialization=internal medicine',\n",
       "  '400',\n",
       "  'Dr. Sumit Anand is a Internal Medicine & Cardiology & Endocrinology & Diabetes & COVID TREATMENT EXPERT In Evaa Super Speciality Hospital, Jaipur, and Has an Experience of 15 Years in This Field. Dr. Sumit Anand Practices at the Evaa Super Speciality Hospital in Jaipur , Near Moti Doongri Circle, Jaipur. He Completed MBBS From Rajasthan University, Jaipur, India in 2004 and MD - General Medicine From Rajasthan University, Jaipur, in 2008. PGDC From Royal College of Medicine, London, Uk, 2017. PGD (Endocrinology & Diabetes) ',\n",
       "  '17')]"
      ]
     },
     "execution_count": 27,
     "metadata": {},
     "output_type": "execute_result"
    }
   ],
   "source": [
    "for i in jaipur[:10]:\n",
    "    print(i[])"
   ]
  },
  {
   "cell_type": "code",
   "execution_count": 26,
   "id": "patient-chance",
   "metadata": {},
   "outputs": [
    {
     "name": "stderr",
     "output_type": "stream",
     "text": [
      "100%|████████████████████████████████████████████████████████████████████████████████| 10/10 [00:00<00:00, 1670.77it/s]\n"
     ]
    },
    {
     "name": "stdout",
     "output_type": "stream",
     "text": [
      "error DMC/R/9919 Delhi Medical Council, 2014 https://imagesx.practo.com/providers/b097bbe7-73e7-48c9-be14-262642d1ede7.jpg?i_type=t_100x100\n"
     ]
    },
    {
     "name": "stderr",
     "output_type": "stream",
     "text": [
      "Exception in thread Thread-15:\n",
      "Traceback (most recent call last):\n",
      "  File \"E:\\software\\anaconda\\envs\\gputest\\lib\\threading.py\", line 926, in _bootstrap_inner\n",
      "    self.run()\n",
      "  File \"E:\\software\\anaconda\\envs\\gputest\\lib\\threading.py\", line 870, in run\n",
      "    self._target(*self._args, **self._kwargs)\n",
      "  File \"<ipython-input-26-dc3b696db679>\", line 10, in get_image\n",
      "    image = soup.find('img', {'class':'c-profile__image'})['src']\n",
      "TypeError: 'NoneType' object is not subscriptable\n",
      "\n",
      "Exception in thread Thread-12:\n",
      "Traceback (most recent call last):\n",
      "  File \"E:\\software\\anaconda\\envs\\gputest\\lib\\threading.py\", line 926, in _bootstrap_inner\n",
      "    self.run()\n",
      "  File \"E:\\software\\anaconda\\envs\\gputest\\lib\\threading.py\", line 870, in run\n",
      "    self._target(*self._args, **self._kwargs)\n",
      "  File \"<ipython-input-26-dc3b696db679>\", line 10, in get_image\n",
      "    image = soup.find('img', {'class':'c-profile__image'})['src']\n",
      "TypeError: 'NoneType' object is not subscriptable\n",
      "\n",
      "Exception in thread Thread-9:\n",
      "Traceback (most recent call last):\n",
      "  File \"E:\\software\\anaconda\\envs\\gputest\\lib\\threading.py\", line 926, in _bootstrap_inner\n",
      "    self.run()\n",
      "  File \"E:\\software\\anaconda\\envs\\gputest\\lib\\threading.py\", line 870, in run\n",
      "    self._target(*self._args, **self._kwargs)\n",
      "  File \"<ipython-input-26-dc3b696db679>\", line 10, in get_image\n",
      "    image = soup.find('img', {'class':'c-profile__image'})['src']\n",
      "TypeError: 'NoneType' object is not subscriptable\n",
      "\n",
      "Exception in thread Thread-11:\n",
      "Traceback (most recent call last):\n",
      "  File \"E:\\software\\anaconda\\envs\\gputest\\lib\\threading.py\", line 926, in _bootstrap_inner\n",
      "    self.run()\n",
      "  File \"E:\\software\\anaconda\\envs\\gputest\\lib\\threading.py\", line 870, in run\n",
      "    self._target(*self._args, **self._kwargs)\n",
      "  File \"<ipython-input-26-dc3b696db679>\", line 10, in get_image\n",
      "    image = soup.find('img', {'class':'c-profile__image'})['src']\n",
      "TypeError: 'NoneType' object is not subscriptable\n",
      "\n"
     ]
    }
   ],
   "source": [
    "#image_collector\n",
    "import urllib.request\n",
    "import time\n",
    "import os\n",
    "threadLimiter = threading.BoundedSemaphore(10)\n",
    "def get_image(url):\n",
    "    driver = Edge(options = options)\n",
    "    driver.get(url[0])\n",
    "    soup = BeautifulSoup(driver.page_source, 'html.parser')\n",
    "    image = soup.find('img', {'class':'c-profile__image'})['src']\n",
    "    save_image(image, url[1])\n",
    "    threadLimiter.release()\n",
    "        \n",
    "def image_collector(urls):\n",
    "    for i in tqdm(urls):\n",
    "        t= threading.Thread(target = get_image, args = [[i[-4], i[3]]])\n",
    "        threadLimiter.acquire()\n",
    "        t.start()\n",
    "        \n",
    "def save_image(url, file_name, file_path = 'E:/Youtube game/works/Jaipur/'):\n",
    "    try:\n",
    "        full_path = file_path+file_name+'.jpg'\n",
    "        urllib.request.urlretrieve(url, full_path)\n",
    "    except:\n",
    "        print('error', file_name, url)\n",
    "        pass\n",
    "       \n",
    "image_collector(jaipur[0:10])#i[-4], i[3]"
   ]
  },
  {
   "cell_type": "code",
   "execution_count": 8,
   "id": "silver-connecticut",
   "metadata": {},
   "outputs": [
    {
     "name": "stderr",
     "output_type": "stream",
     "text": [
      "100%|████████████████████████████████████████████████████████████████████████████████| 148/148 [00:03<00:00, 37.99it/s]\n"
     ]
    }
   ],
   "source": [
    "#water_mark_remover\n",
    "import numpy as np\n",
    "import cv2\n",
    "import os\n",
    "from tqdm import tqdm\n",
    "DIR = 'E:/Youtube game/works/Ranchi/' #change\n",
    "def remove_watermark(src):\n",
    "    img = cv2.imread(src)\n",
    "    mask = cv2.imread(\"E:/Youtube game/works/mask.jpg\")\n",
    "    mask = cv2.cvtColor(mask, cv2.COLOR_BGR2GRAY)\n",
    "    dst = cv2.inpaint(img,mask,3,cv2.INPAINT_TELEA)\n",
    "    cv2.imwrite(DIR+'/Ranchi/'+src.split('/')[-1],dst) #change\n",
    "\n",
    "for i in tqdm(os.listdir(DIR)):\n",
    "    try:\n",
    "        remove_watermark(DIR+i)\n",
    "    except:\n",
    "        pass"
   ]
  },
  {
   "cell_type": "code",
   "execution_count": 16,
   "id": "proved-sudan",
   "metadata": {},
   "outputs": [],
   "source": [
    "payload = 'sugarfree'\n",
    "r = rp.post('http://127.0.0.1:8000/search/', json = payload)"
   ]
  },
  {
   "cell_type": "code",
   "execution_count": 17,
   "id": "expected-turtle",
   "metadata": {},
   "outputs": [
    {
     "name": "stdout",
     "output_type": "stream",
     "text": [
      "4\n"
     ]
    },
    {
     "data": {
      "text/plain": [
       "{'name': ['Sugar Free Gold Low Calorie Sweetener',\n",
       "  'Sugar Free Natura Low Calorie Sweetener Powder',\n",
       "  'Sugar Free Natura Low Calorie Sweetener Powder',\n",
       "  'Sugar Free Green Stevia Pellets',\n",
       "  'Sugar Free Natura Low Calorie Sweetener Pellets',\n",
       "  'Sugar Free Gold Low Calorie Sweetener',\n",
       "  'Sugar Free Gold Low Calorie Sweetener',\n",
       "  'Sugar Free Gold Sachet',\n",
       "  'Sugar Free Natura Low Calorie Sweetener Drop',\n",
       "  'Sugar Free Green Powder',\n",
       "  'Dabur Chyawanprakash Sugarfree',\n",
       "  'Sugar Free Gold Low Calorie Sweetener',\n",
       "  'Sugar Free Green Stevia Pellets',\n",
       "  'Sugar Free Natura Low Calorie Sweetener Pellets',\n",
       "  'Sugar Free Natura Low Calorie Sweetener Sachet',\n",
       "  'Sugar Free Natura Low Calorie Sweetener Pellets',\n",
       "  'Sugar Free Natura Low Calorie Sweetener',\n",
       "  'Cremaffin Plus  Syrup Refreshing Sugar Free',\n",
       "  'Mucinac 600 Effervescent Tablet Orange Sugar Free',\n",
       "  'Neeri KFT  Sugar Free Syrup',\n",
       "  'Depura Vitamin D3 60000IU Oral Solution Sugar Free',\n",
       "  'Gelusil MPS Original Liquid Sugar Free Mint',\n",
       "  'Dabur Chyawanprakash Sugarfree',\n",
       "  'Jiva Chyawanprasha Sugar Free',\n",
       "  'Betonin Ast Syrup Sugar Free',\n",
       "  'Sugar Freedom Spray Sweet Spray Zero Calorie Sugar Substitute',\n",
       "  'Diabetes Care Combo of Ensure Diabetes Care Vanilla Delight Powder 400gm and Dabur Chyawanprakash Sugarfree 900gm',\n",
       "  'D3 Must 60K Tablet Orange Sugar Free',\n",
       "  'Nicotex Sugar Free Mint Plus Chewing Gums',\n",
       "  'Gelusil MPS Original Liquid Sugar Free Mint',\n",
       "  'Sucrafil Suspension Sugar Free',\n",
       "  'Prohance-HP Vanilla Sugar Free Powder'],\n",
       " 'description': ['bottle of 500 pellets',\n",
       "  'jar of 1 kg Powder',\n",
       "  'jar of 100 gm Powder',\n",
       "  'bottle of 300 pellets',\n",
       "  'bottle of 500 pellets',\n",
       "  'bottle of 110 pellets',\n",
       "  'bottle of 100 gm Powder',\n",
       "  'box of 100 Sachets',\n",
       "  'packet of 10 ml Drop',\n",
       "  'packet of 200 gm Powder',\n",
       "  'jar of 900 gm Paste',\n",
       "  'bottle of 300 pellets',\n",
       "  'bottle of 100 pellets',\n",
       "  'bottle of 300 pellets',\n",
       "  'box of 100 Sachets',\n",
       "  'bottle of 200 pellets',\n",
       "  'jar of 80 gm Powder',\n",
       "  'bottle of 225 ml Syrup',\n",
       "  'strip of 10 Effervescent Tablet',\n",
       "  'bottle of 200 ml Syrup',\n",
       "  'bottle of 5 ml Oral Solution',\n",
       "  'bottle of 200 ml Oral Liquid',\n",
       "  'jar of 500 gm Paste',\n",
       "  'jar of 1 kg Paste',\n",
       "  'bottle of 400 ml Syrup',\n",
       "  'bottle of 15 ml Spray',\n",
       "  'combo pack of 2 jar',\n",
       "  'strip of 4 Chewable Tablets',\n",
       "  'Tin of 25 chewing gums',\n",
       "  'bottle of 400 ml Oral Liquid',\n",
       "  'bottle of 200 ml Oral Suspension',\n",
       "  'jar of 400 gm Powder'],\n",
       " 'url': ['/otc/sugar-free-gold-low-calorie-sweetener-otc131475',\n",
       "  '/otc/sugar-free-natura-low-calorie-sweetener-powder-otc368109',\n",
       "  '/otc/sugar-free-natura-low-calorie-sweetener-powder-otc232147',\n",
       "  '/otc/sugar-free-green-stevia-pellets-otc411007',\n",
       "  '/otc/sugar-free-natura-low-calorie-sweetener-pellets-otc154589',\n",
       "  '/otc/sugar-free-gold-low-calorie-sweetener-otc159452',\n",
       "  '/otc/sugar-free-gold-low-calorie-sweetener-otc204565',\n",
       "  '/otc/sugar-free-gold-sachet-otc328592',\n",
       "  '/otc/sugar-free-natura-low-calorie-sweetener-drop-otc161133',\n",
       "  '/otc/sugar-free-green-powder-otc562824',\n",
       "  '/otc/dabur-chyawanprakash-sugarfree-otc333182',\n",
       "  '/otc/sugar-free-gold-low-calorie-sweetener-otc272009',\n",
       "  '/otc/sugar-free-green-stevia-pellets-otc343695',\n",
       "  '/otc/sugar-free-natura-low-calorie-sweetener-pellets-otc141104',\n",
       "  '/otc/sugar-free-natura-low-calorie-sweetener-sachet-otc339646',\n",
       "  '/otc/sugar-free-natura-low-calorie-sweetener-pellets-otc131477',\n",
       "  '/otc/sugar-free-natura-low-calorie-sweetener-otc154215',\n",
       "  '/drugs/cremaffin-plus-syrup-refreshing-sugar-free-357685',\n",
       "  '/drugs/mucinac-600-effervescent-tablet-orange-sugar-free-40824',\n",
       "  '/otc/neeri-kft-sugar-free-syrup-otc328786',\n",
       "  '/otc/depura-vitamin-d3-60000iu-oral-solution-sugar-free-otc505986',\n",
       "  '/otc/gelusil-mps-original-liquid-sugar-free-mint-otc148331',\n",
       "  '/otc/dabur-chyawanprakash-sugarfree-otc342498',\n",
       "  '/otc/jiva-chyawanprasha-sugar-free-otc342124',\n",
       "  '/otc/betonin-ast-syrup-sugar-free-otc73618',\n",
       "  '/otc/sugar-freedom-spray-sweet-spray-zero-calorie-sugar-substitute-otc487456',\n",
       "  '/otc/diabetes-care-combo-of-ensure-diabetes-care-vanilla-delight-powder-400gm-and-dabur-chyawanprakash-sugarfree-900gm-otc623916',\n",
       "  '/otc/d3-must-60k-tablet-orange-sugar-free-otc568799',\n",
       "  '/otc/nicotex-sugar-free-mint-plus-chewing-gums-otc338039',\n",
       "  '/otc/gelusil-mps-original-liquid-sugar-free-mint-otc146738',\n",
       "  '/drugs/sucrafil-suspension-sugar-free-146274',\n",
       "  '/otc/prohance-hp-vanilla-sugar-free-powder-otc496668'],\n",
       " 'price': ['₹257',\n",
       "  '₹903',\n",
       "  '₹143',\n",
       "  '₹204',\n",
       "  '₹285',\n",
       "  'MRP₹65',\n",
       "  '₹138',\n",
       "  '₹119',\n",
       "  '₹133',\n",
       "  'MRP₹165',\n",
       "  '₹312',\n",
       "  'MRP₹180',\n",
       "  'MRP₹75',\n",
       "  'MRP₹190',\n",
       "  'MRP₹150',\n",
       "  'MRP₹135',\n",
       "  '₹235',\n",
       "  'MRP₹223.75',\n",
       "  'MRP₹242.55',\n",
       "  '₹416',\n",
       "  '₹73',\n",
       "  '₹98',\n",
       "  '₹209',\n",
       "  '₹298',\n",
       "  '₹195',\n",
       "  'MRP₹120',\n",
       "  '₹952',\n",
       "  '₹60',\n",
       "  '₹179',\n",
       "  '₹148',\n",
       "  'MRP₹151.5',\n",
       "  '₹879']}"
      ]
     },
     "execution_count": 17,
     "metadata": {},
     "output_type": "execute_result"
    }
   ],
   "source": [
    "m = json.loads(r.json())\n",
    "print(len(m))\n",
    "m"
   ]
  },
  {
   "cell_type": "code",
   "execution_count": 6,
   "id": "capable-switzerland",
   "metadata": {},
   "outputs": [
    {
     "name": "stdout",
     "output_type": "stream",
     "text": [
      "https://www.practo.com/ranchi/doctor/arun-sarkar-general-physician?specialization=general physician 22644 Bihar Medical Council, 1986\n",
      "https://www.practo.com/ranchi/doctor/dr-kunal-banka-dentist-1?specialization=dentist 19088A Karnataka State Dental Council, 2006\n",
      "https://www.practo.com/ranchi/doctor/dr-pankaj-kumar-9-dentist?specialization=plastic surgeon 32830 Bihar Medical Council, 2001\n",
      "https://www.practo.com/ranchi/doctor/dr-amitesh-anand-oncologist?specialization=oncologist 64977 Delhi Medical Council, 2013\n",
      "https://www.practo.com/ranchi/doctor/lalit-kumar-kongari-ear-nose-throat-ent-specialist-1?specialization=ear-nose-throat (ent) specialist 17327 Delhi Medical Council, 2003\n",
      "https://www.practo.com/ranchi/doctor/dr-aftab-alam-ansari-oncologist?specialization=oncologist 32940 Bihar Medical Council, 2001\n",
      "https://www.practo.com/ranchi/doctor/dr-thounaojam-momon-singh-oncologist?specialization=oncologist 8749 Assam Medical Council, 1982\n",
      "https://www.practo.com/ranchi/doctor/dr-rashmi-46-homoeopath?specialization=homoeopath 2003 State Council of Homoeopathy, Chhatisgarh, 2018\n",
      "https://www.practo.com/ranchi/doctor/dr-kumar-sourabh-oncologist?specialization=oncologist 72467 Tamil Nadu Medical Council, 2003\n",
      "https://www.practo.com/ranchi/doctor/dr-kumar-rajesh-chandra-ojha-ayurveda-1?specialization=ayurveda 7557 Central Council of Indian Medicine (CCIM), 2000\n",
      "https://www.practo.com/ranchi/doctor/ratnesh-kumar-1-ophthalmologist?specialization=ophthalmologist 35727 Bihar Medical Council, 2006\n",
      "https://www.practo.com/ranchi/doctor/dr-sarbjaya-singh-gynecologist-obstetrician?specialization=gynecologist/obstetrician 88996 Andhra Pradesh Medical Council, 2014\n",
      "https://www.practo.com/ranchi/doctor/dr-nitisha-lath-gynecologist-obstetrician-1?specialization=gynecologist/obstetrician RMC 39218 Rajasthan Medical Council, 2016\n",
      "https://www.practo.com/ranchi/doctor/dr-virul-shrivastava-gynecologist-obstetrician?specialization=gynecologist/obstetrician 6618 Jharkhand Medical Council, 2020\n",
      "https://www.practo.com/ranchi/doctor/dr-saha-piyali-homoeopath?specialization=homoeopath 23853 Council of Homoeopathic Medicine, West Bengal, 2001\n",
      "https://www.practo.com/ranchi/doctor/rajesh-kumar-singh-1-emergency-critical-care?specialization=emergency & critical care 16842 Orissa Medical Council, 2008\n",
      "https://www.practo.com/ranchi/doctor/dr-m-c-khaitan-general-physician?specialization=general physician 5815 Rajasthan Medical Council, 1976\n",
      "https://www.practo.com/ranchi/doctor/dr-s-k-singh-1-gynecologist-obstetrician?specialization=general physician 27504 Bihar Medical Council, 1993\n",
      "https://www.practo.com/ranchi/doctor/dr-suresh-kumar-agarwalla-integrated-medicine?specialization=general surgeon 2754 Jharkhand Medical Council, 2009\n",
      "https://www.practo.com/ranchi/doctor/dr-rajiv-kumar-general-physician-3?specialization=general physician 16511 Bihar Medical Council, 1980\n",
      "https://www.practo.com/ranchi/doctor/rakesh-mishra-1-general-physician?specialization=general physician 31868 Medical Council of India (MCI), 2007\n",
      "https://www.practo.com/ranchi/doctor/sathi-rani-sarkar-gynecologist-obstetrician?specialization=gynecologist/obstetrician 20403 Bihar Medical Council, 1982\n",
      "https://www.practo.com/ranchi/doctor/dr-priyanka-kumari-gynecologist-obstetrician-1?specialization=general physician J-M-C 975 Medical Council of India (MCI), 2006\n",
      "https://www.practo.com/ranchi/doctor/dr-avinash-kumar-2-family-physician?specialization=general physician 18091 Assam Medical Council, 2007\n",
      "https://www.practo.com/ranchi/doctor/dr-u-s-verma-general-physician?specialization=general physician 14315 Bihar Medical Council, 1978\n",
      "https://www.practo.com/ranchi/doctor/sukhen-samanta-general-physician?specialization=general physician 63880 West Bengal Medical Council, 2008\n",
      "https://www.practo.com/ranchi/doctor/tushararya-rediffmail-com-general-physician?specialization=general physician 30788 Bihar Medical Council, 1999\n",
      "https://www.practo.com/ranchi/doctor/dr-p-k-sen-gupta-general-physician?specialization=general physician 15417 Bihar Medical Council, 1979\n",
      "https://www.practo.com/ranchi/doctor/dr-n-c-dutta-ex-capt-general-physician?specialization=general physician 32148 West Bengal Medical Council, 1969\n",
      "https://www.practo.com/ranchi/doctor/dr-h-k-bhaiya-gastroenterologist?specialization=general physician 1839 Jharkhand Medical Council, 2008\n",
      "https://www.practo.com/ranchi/doctor/dr-alexander-toppo-general-physician?specialization=general physician 25360 Bihar Medical Council, 1990\n",
      "https://www.practo.com/ranchi/doctor/dr-gautam-kumar-2-diabetologist?specialization=general physician 4385 Jharkhand Medical Council, 2013\n",
      "https://www.practo.com/ranchi/doctor/mayank-21-general-physician-1?specialization=general physician 13-47341 Medical Council of India (MCI), 2013\n",
      "https://www.practo.com/ranchi/doctor/aditya-vardhan-singh-general-physician?specialization=general physician 2865 Jharkhand Medical Council, 2009\n",
      "https://www.practo.com/ranchi/doctor/arun-sarkar-general-physician?specialization=general physician 22644 Bihar Medical Council, 1986\n",
      "https://www.practo.com/ranchi/doctor/dr-m-k-singh-general-physician-1?specialization=general physician 40222 Bihar Medical Council, 2011\n",
      "https://www.practo.com/ranchi/doctor/pradeep-kumar-thakur-general-physician?specialization=general physician 6080 Jharkhand Medical Council, 2013\n",
      "https://www.practo.com/ranchi/doctor/sanjay-kumar-2-general-physician?specialization=general physician 25422 Bihar Medical Council, 1992\n",
      "https://www.practo.com/ranchi/doctor/binay-kumar-1-cardiologist?specialization=general physician 32260 Delhi Medical Council, 2013\n",
      "https://www.practo.com/ranchi/doctor/dr-sumit-bhattacharjee-dermatologist?specialization=general physician 00672 Tripura State Medical Council, 2013\n",
      "https://www.practo.com/ranchi/doctor/dr-m-s-chen-dentist?specialization=dentist 5667-A Karnataka State Dental Council, 1998\n",
      "https://www.practo.com/ranchi/doctor/dr-harjeet-singh-1-homeopath?specialization=homoeopath CCH-959 Central Council of Homeopathy (CCH), 1998\n",
      "https://www.practo.com/ranchi/doctor/dr-ravishankar-dwivedi-1-dermatologist-cosmetologist?specialization=dermatologist 2000/02/1294 Medical Council of India (MCI), 2008\n",
      "https://www.practo.com/ranchi/doctor/bhaskar-lal-dentist?specialization=dentist 29478A Karnataka State Dental Council, 2011\n",
      "https://www.practo.com/ranchi/doctor/dr-praveen-kumar-15-dentist-1?specialization=dentist A 189 Jharkhand Medical Council, 2016\n",
      "https://www.practo.com/ranchi/therapist/dr-ajit-kumar-physiotherapist?specialization=physiotherapist L6326 Indian Association of Physiotherapist (IAP), 1994\n",
      "https://www.practo.com/ranchi/doctor/dr-avinash-narayan-dentist?specialization=dentist A13665 Maharashtra State Dental Council, 2007\n",
      "https://www.practo.com/ranchi/doctor/rahul-prakash-1-dentist?specialization=dentist 18427-A Karnataka State Dental Council, 2006\n",
      "https://www.practo.com/ranchi/doctor/dr-abhishek-kumar-1-ear-nose-throat-ent-specialist?specialization=ear-nose-throat (ent) specialist 2004123794 Maharashtra Medical Council, 2004\n",
      "https://www.practo.com/ranchi/doctor/shaily-poddar?specialization=dentist 31133-A Karnataka State Dental Council, 2012\n",
      "https://www.practo.com/ranchi/doctor/dr-ravishankar-dwivedi-1-dermatologist-cosmetologist?specialization=dermatologist 2000/02/1294 Medical Council of India (MCI), 2008\n",
      "https://www.practo.com/ranchi/doctor/dr-praveen-kumar-15-dentist-1?specialization=dentist A 189 Jharkhand Medical Council, 2016\n",
      "https://www.practo.com/ranchi/therapist/dr-ajit-kumar-physiotherapist?specialization=physiotherapist L6326 Indian Association of Physiotherapist (IAP), 1994\n",
      "https://www.practo.com/ranchi/doctor/dr-avinash-narayan-dentist?specialization=dentist A13665 Maharashtra State Dental Council, 2007\n",
      "https://www.practo.com/ranchi/doctor/dr-anuj-sharma-dentist?specialization=dentist A-73 Jharkahand Dentist Registration Tribunal, 2015\n",
      "https://www.practo.com/ranchi/doctor/dr-amlan-shome-dermatologist-cosmetologist?specialization=dermatologist 56506 West Bengal Medical Council, 2000\n",
      "https://www.practo.com/ranchi/doctor/dr-abhishek-kumar-1-ear-nose-throat-ent-specialist?specialization=ear-nose-throat (ent) specialist 2004123794 Maharashtra Medical Council, 2004\n",
      "https://www.practo.com/ranchi/doctor/dr-dharmesh-singh-dentist?specialization=dentist 861/A Bihar State Dental Council, 1999\n",
      "https://www.practo.com/ranchi/doctor/dr-akash-prasad-dentist-1?specialization=dentist 28593-A Karnataka State Dental Council, 2011\n",
      "https://www.practo.com/ranchi/doctor/shaily-poddar?specialization=dentist 31133-A Karnataka State Dental Council, 2012\n",
      "https://www.practo.com/ranchi/doctor/ved-prakash-verma?specialization=urologist 4845 Jharkhand Medical Council, 2015\n",
      "https://www.practo.com/ranchi/doctor/dr-achala-raman-dentist?specialization=dentist A-74 Jharkahand Dentist Registration Tribunal, 2006\n",
      "https://www.practo.com/ranchi/doctor/p-n-pandey-1-ayurveda?specialization=ayurveda 105748 Central Council of Indian Medicine (CCIM), 2005\n",
      "https://www.practo.com/ranchi/doctor/dr-dhanraj-singh-dentist?specialization=dentist 4978/A Bihar State Dental Council, 2014\n",
      "https://www.practo.com/ranchi/doctor/dr-rajni-lal-gynecologist-obstetrician?specialization=gynecologist/obstetrician 23099 Bihar Medical Council, 1987\n",
      "https://www.practo.com/ranchi/doctor/bijeta-singh-general-surgeon?specialization=gynecologist/obstetrician 70347 Delhi Medical Council, 2014\n",
      "https://www.practo.com/ranchi/doctor/dr-shailendra-kumar-singh-ophthalmologist?specialization=ophthalmologist 14576 Bihar Medical Council, 1978\n",
      "https://www.practo.com/ranchi/doctor/dr-r-n-singh-1-general-surgeon?specialization=general surgeon 10125 Bihar Medical Council, 1970\n",
      "https://www.practo.com/ranchi/doctor/dr-dk-mishra-dermatologist-cosmetologist?specialization=dermatologist 19824 Bihar Medical Council, 1982\n",
      "https://www.practo.com/ranchi/doctor/dr-avinash-kumar-dubey-nephrologist?specialization=nephrologist 5587 Jharkhand Medical Council, 2017\n",
      "https://www.practo.com/ranchi/doctor/disha-narnoly-pediatric-dentist?specialization=dentist 34869-A Karnataka State Dental Council, 2015\n",
      "https://www.practo.com/ranchi/doctor/dhanraj-singh-1-dentist?specialization=dentist 4979/A Bihar State Dental Council, 2013\n",
      "https://www.practo.com/ranchi/doctor/dr-rajanikant-mishra-ayurveda?specialization=ayurveda 2186 Central Council of Indian Medicine (CCIM), 1979\n",
      "https://www.practo.com/ranchi/doctor/dr-s-k-raman-ophthalmologist-2?specialization=ophthalmologist 4101 Jharkhand Medical Council, 2012\n",
      "https://www.practo.com/ranchi/doctor/dr-v-k-jagnany-gynecologist-obstetrician?specialization=cardiologist 2002052242 Maharashtra Medical Council, 2002\n",
      "https://www.practo.com/ranchi/doctor/prabhat-pd-gmail-com-general-physician?specialization=homoeopath 28993 State Board of Homoeopathic Medicine, Bihar, 2010\n",
      "https://www.practo.com/ranchi/doctor/ashish-dubey-dentist?specialization=dentist 3700/A Bihar State Dental Council, 2010\n",
      "https://www.practo.com/ranchi/doctor/dr-md-zaighum-raza-dentist?specialization=dentist A-433 Jharkahand Dentist Registration Tribunal, 2017\n",
      "https://www.practo.com/ranchi/doctor/dr-ajay-kumar-8-surgical-oncologist-1?specialization=general surgeon 26743/92 Bihar Medical Council, 1992\n",
      "https://www.practo.com/ranchi/doctor/dr-dr-sheran-ali-orthopedist?specialization=orthopedist 2016093794 Maharashtra Medical Council, 2016\n",
      "https://www.practo.com/ranchi/doctor/harish-kumar-3-dentist?specialization=dentist A-14 Jharkhand Medical Council, 2015\n",
      "https://www.practo.com/ranchi/doctor/dr-s-r-singh-ophthalmologist?specialization=ophthalmologist 11895 Bihar Medical Council, 1975\n",
      "https://www.practo.com/ranchi/doctor/suyash-sinha-dentist?specialization=dentist A-17587 Maharashtra State Dental Council, 2009\n",
      "https://www.practo.com/ranchi/doctor/dr-ankit-shrivastav-endocrinologist?specialization=endocrinologist 59636 West Bengal Medical Council, 2004\n",
      "https://www.practo.com/ranchi/doctor/sayeed-akhtar-psychiatrist?specialization=psychiatrist 15400 Bihar Medical Council, 1979\n",
      "https://www.practo.com/ranchi/doctor/shivam-bhagat-dentist?specialization=dentist 40090-A Karnataka State Dental Council, 2017\n",
      "https://www.practo.com/ranchi/doctor/saroj-rai-dermatologist-cosmetologist?specialization=dermatologist G-17959 Gujarat Medical Council, 1989\n",
      "https://www.practo.com/ranchi/doctor/dr-saurabh-priyadarshi-tiwary-dentist?specialization=dentist A-297 Jharkahand Dentist Registration Tribunal, 2016\n",
      "https://www.practo.com/ranchi/doctor/dr-jyoti-kumari-dentist?specialization=dentist 4006/A Bihar State Dental Council, 2012\n",
      "https://www.practo.com/ranchi/doctor/dr-pawan-kumar-orthopedist?specialization=orthopedist 2691 Madhya Pradesh Medical Council, 2000\n",
      "https://www.practo.com/ranchi/doctor/dr-suparna-prasad-homeopath?specialization=homoeopath 28994 State Board of Homoeopathic Medicine, Bihar, 2010\n",
      "https://www.practo.com/ranchi/doctor/m-shiraz-ali-1-ophthalmologist?specialization=ophthalmologist 639 Jharkhand Medical Council, 2006\n",
      "https://www.practo.com/ranchi/doctor/dr-d-k-bhagat-dentist-1?specialization=dentist 1260/A Bihar State Dental Council, 1999\n",
      "https://www.practo.com/ranchi/doctor/dr-amit-kumar-singh-3-dentist-1?specialization=dentist 2451/A Bihar State Dental Council, 2006\n",
      "https://www.practo.com/ranchi/doctor/dharmendra-kumar-sinha-dentist?specialization=dentist 3448/A Bihar State Dental Council, 2012\n",
      "https://www.practo.com/ranchi/doctor/sushil-kumar-singh-1-anesthesiologist?specialization=pain management specialist 29046 Bihar Medical Council, 1996\n",
      "https://www.practo.com/ranchi/doctor/dr-s-k-jain-ophthalmologist-1?specialization=ophthalmologist 25844 Bihar Medical Council, 1991\n",
      "https://www.practo.com/ranchi/doctor/dr-neeraj-pahlajani-gynecologist-obstetrician-1?specialization=gynecologist/obstetrician CGMC 1582/2008 Chhattisgarh Medical Council, 2008\n",
      "https://www.practo.com/ranchi/doctor/dr-praveen-28-dentist?specialization=dentist 13903A Karnataka State Dental Council, 2002\n",
      "https://www.practo.com/ranchi/doctor/nishant-kumar-2-spine-surgeon?specialization=spine surgeon DMC/R/04905 Medical Council of India (MCI), 2008\n",
      "https://www.practo.com/ranchi/doctor/raj-kumar-sharma-urologist?specialization=urologist 556 Jharkhand Medical Council, 2005\n",
      "https://www.practo.com/ranchi/doctor/swati-srivastava-3-dentist-1?specialization=dentist 4324/A Bihar State Dental Council, 2013\n",
      "https://www.practo.com/ranchi/doctor/jyoti-arya-dentist?specialization=dentist 4801/A Bihar State Dental Council, 2014\n",
      "https://www.practo.com/ranchi/doctor/dr-kundan-tiwari-dentist?specialization=dentist 33239/A Karnataka State Dental Council, 2010\n",
      "https://www.practo.com/ranchi/doctor/sneha-thakur-1-dentist?specialization=dentist 3325/A Bihar State Dental Council, 2010\n",
      "https://www.practo.com/ranchi/doctor/dr-poonam-raj-gynecologist-obstetrician?specialization=gynecologist/obstetrician 24369 Bihar Medical Council, 1988\n",
      "https://www.practo.com/ranchi/doctor/raj-106-dentist?specialization=dentist 3740/A Bihar State Dental Council, 2012\n",
      "https://www.practo.com/ranchi/doctor/vivek-kumar-5-dentist-1?specialization=dentist 3260/A Bihar State Dental Council, 2010\n",
      "https://www.practo.com/ranchi/doctor/rajesh-solanki-dentist?specialization=dentist A-107 Jharkhand Medical Council, 2015\n",
      "https://www.practo.com/ranchi/therapist/dr-anant-kumar-2-psychologist?specialization=psychologist A03573 Rehabilitation Council of India (RCI), 2000\n",
      "https://www.practo.com/ranchi/doctor/abhishek-shahdeo-ophthalmologist?specialization=ophthalmologist DMC/R/02852 Delhi Medical Council, 2005\n",
      "https://www.practo.com/ranchi/doctor/dr-alok-ranjan-orthopedist-1?specialization=orthopedist 31686 Bihar Medical Council, 2000\n",
      "https://www.practo.com/ranchi/doctor/vishal-51-dentist?specialization=dentist A-88 Jharkahand Dentist Registration Tribunal, 2015\n",
      "https://www.practo.com/ranchi/doctor/dr-prem-bhushan-dentist?specialization=dentist A- 294 Jharkahand Dentist Registration Tribunal, 2016\n",
      "https://www.practo.com/ranchi/doctor/mohini-srivastava-dentist?specialization=dentist A-177 Jharkahand Dentist Registration Tribunal, 2016\n",
      "https://www.practo.com/ranchi/doctor/dr-niyanta-krati-dentist?specialization=dentist 11966 Uttar Pradesh Dental Council, 2012\n",
      "https://www.practo.com/ranchi/doctor/abhay-kumar-jain-dentist?specialization=dentist 18923 A Karnataka State Dental Council, 2006\n",
      "https://www.practo.com/ranchi/doctor/dr-amit-mohan-pediatrician?specialization=pediatrician 27478 Bihar Medical Council, 1993\n",
      "https://www.practo.com/ranchi/doctor/nitesh-priya-orthopedist-1?specialization=orthopedist 2940 Jharkhand Medical Council, 2010\n",
      "https://www.practo.com/ranchi/doctor/dr-anitabh-kumar-pediatrician?specialization=pediatrician 2303 Bihar Medical Council, 2001\n",
      "https://www.practo.com/ranchi/doctor/dr-kailash-prasad-pediatrician?specialization=pediatrician 18476 Bihar Medical Council, 1982\n",
      "https://www.practo.com/ranchi/doctor/sonia-prakash-dentist?specialization=dentist 6077 A Bihar State Dental Council, 2015\n",
      "https://www.practo.com/ranchi/doctor/shailendra-kumar-dentist?specialization=dentist A/126 Jharkahand Dentist Registration Tribunal, 2015\n",
      "https://www.practo.com/ranchi/doctor/aditya-narnoly-dentist?specialization=dentist 3294/A Bihar State Dental Council, 2010\n",
      "https://www.practo.com/ranchi/doctor/kumar-pankaj-prabhat-internal-medicine?specialization=internal medicine 35252 Bihar Medical Council, 2005\n",
      "https://www.practo.com/ranchi/doctor/dr-jayant-prakash-1-dentist-1?specialization=dentist 5006/A Bihar State Dental Council, 2014\n",
      "https://www.practo.com/ranchi/doctor/pragya-pant-1-nephrologist?specialization=nephrologist 62881 West Bengal Medical Council, 2007\n",
      "https://www.practo.com/ranchi/doctor/dr-anju-kumar-gynecologist-obstetrician-1?specialization=gynecologist/obstetrician 14 Jharkhand Medical Council, 2003\n",
      "https://www.practo.com/ranchi/doctor/dr-ashish-bhagat-dentist-1?specialization=dentist 353/A Jharkahand Dentist Registration Tribunal, 2019\n",
      "https://www.practo.com/ranchi/doctor/dr-subash-poddar-pediatrician?specialization=pediatrician 55208 West Bengal Medical Council, 1997\n",
      "https://www.practo.com/ranchi/doctor/dr-rakesh-kumar-2-pediatrician?specialization=pediatrician 28372 Bihar Medical Council, 1995\n",
      "https://www.practo.com/ranchi/doctor/dr-ramesh-bajaj-dentist-1?specialization=dentist 16750/A Karnataka State Dental Council, 2005\n",
      "https://www.practo.com/ranchi/doctor/ashok-kumar-singh-1-dermatologist?specialization=dermatologist 17362 Bihar Medical Council, 1981\n",
      "https://www.practo.com/ranchi/doctor/dr-s-gomathi-dentist?specialization=dentist 15128/A Tamil Nadu State Dental Council, 2011\n",
      "https://www.practo.com/ranchi/doctor/suranjan-sarkar-veterinarian?specialization=veterinarian 001521 Veterinary Council Of India, 1997\n",
      "https://www.practo.com/ranchi/doctor/dr-s-katyayan-pediatrician?specialization=pediatrician 16171 Bihar Medical Council, 1980\n",
      "https://www.practo.com/ranchi/doctor/shashi-bhushan-18-dentist?specialization=dentist 5009-A Bihar State Dental Council, 2014\n",
      "https://www.practo.com/ranchi/doctor/dr-nishith-kumar-infectious-diseases-physician?specialization=pulmonologist 67009 Uttar Pradesh Medical Council, 2014\n",
      "https://www.practo.com/ranchi/doctor/prakash-kumar-5-orthopedist?specialization=orthopedist 6568 Jharkhand Medical Council, 2019\n",
      "https://www.practo.com/ranchi/doctor/dr-anup-kr-gupta-ophthalmologist?specialization=ophthalmologist 21550 Bihar Medical Council, 1987\n",
      "https://www.practo.com/ranchi/doctor/vikram-bhalla-ophthalmologist?specialization=ophthalmologist 63962 West Bengal Medical Council, 2008\n",
      "https://www.practo.com/ranchi/doctor/dr-ankita-sriwastwa-dentist?specialization=dentist 30227A Karnataka State Dental Council, 2012\n",
      "https://www.practo.com/ranchi/doctor/sanjay-kumar-5-cardiologist?specialization=general surgeon 31088 Bihar Medical Council, 1999\n",
      "https://www.practo.com/ranchi/doctor/dr-ujjawal-roy-neurologist?specialization=neurologist 04442 Delhi Medical Council, 2008\n",
      "https://www.practo.com/ranchi/doctor/dr-rashmi-dwivedi-1-diabetologist?specialization=cardiologist 3801 Jharkhand Medical Council, 2011\n",
      "https://www.practo.com/ranchi/doctor/priyankesh-dentist?specialization=dentist 30158-A Karnataka State Dental Council, 2012\n",
      "https://www.practo.com/ranchi/technician/rajeev-ranjan-dentist-1?specialization=prosthetist and orthotist A21651 Rehabilitation Council of India (RCI), 2008\n",
      "https://www.practo.com/ranchi/doctor/dr-p-kumari-nag-general-surgeon?specialization=general surgeon 21297 Bihar Medical Council, 1984\n",
      "https://www.practo.com/ranchi/doctor/basant-kumar-singh-neurologist?specialization=neurologist 9691 Bihar Medical Council, 1970\n",
      "https://www.practo.com/ranchi/doctor/dr-ankita-verma-dentist?specialization=dentist 5196/A Uttar Pradesh Dental Council, 2008\n",
      "https://www.practo.com/ranchi/doctor/saankritya-ayan-spine-surgeon?specialization=spine surgeon 26820 Medical Council of India (MCI), 2005\n",
      "https://www.practo.com/ranchi/doctor/pankaj-kumar-12-dermatologist?specialization=plastic surgeon 32830 Bihar Medical Council, 2001\n",
      "https://www.practo.com/ranchi/doctor/dr-rakesh-kumar-thakur-pathologist?specialization=pathologist 1736 Jharkhand Medical Council, 2009\n",
      "https://www.practo.com/ranchi/doctor/anoop-mohan-nair-orthopedist-1?specialization=orthopedist 32090 Travancore-Cochin Medical Council, Trivandrum, 2003\n",
      "https://www.practo.com/ranchi/doctor/bhavya-kumar-jain-pediatrician?specialization=pediatrician 492 Jharkhand Medical Council, 2005\n",
      "https://www.practo.com/ranchi/doctor/s-n-lal-ear-nose-throat-ent-specialist?specialization=ear-nose-throat (ent) specialist 17375 Bihar Medical Council, 1981\n",
      "https://www.practo.com/ranchi/doctor/dr-o-p-sinha-ophthalmologist?specialization=ophthalmologist 26900 Bihar Medical Council, 1991\n",
      "https://www.practo.com/ranchi/doctor/rajesh-kumar-jha-cardiologist?specialization=cardiologist 429 Jharkhand Medical Council, 2005\n",
      "https://www.practo.com/ranchi/doctor/dr-anshuman-rohit-tewan-ophthalmologist?specialization=ophthalmologist 3005 Jharkhand Medical Council, 2010\n",
      "https://www.practo.com/ranchi/therapist/dr-yashwant-lal-dermatologist-cosmetologist?specialization=cosmetologist 18553 Bihar Medical Council, 1980\n",
      "https://www.practo.com/ranchi/doctor/banka-shikha-singhania-homoeopath?specialization=homoeopath 54687 Maharashtra Council of Homoeopathy, 2011\n",
      "https://www.practo.com/ranchi/doctor/shweta-kantha-gynecologist-obstetrician?specialization=gynecologist/obstetrician 10-35994 Medical Council of India (MCI), 2010\n",
      "https://www.practo.com/ranchi/doctor/dr-ajay-chhabra-diabetologist 31889 Bihar Medical Council, 2000\n",
      "https://www.practo.com/ranchi/doctor/dr-ashutosh-charan-internal-medicine?specialization=internal medicine 58 Jharkhand Medical Council, 2003\n",
      "https://www.practo.com/ranchi/doctor/vartika-kumari-ayurveda?specialization=ayurveda DBCP/A/8609 Delhi Bharatiya Chikitsa Parishad, 2016\n",
      "https://www.practo.com/ranchi/doctor/dr-rakesh-kumar-9-pediatrician?specialization=pediatrician 4207 Jharkhand Medical Council, 2013\n",
      "https://www.practo.com/ranchi/doctor/vikash-kumar-2-ayurveda?specialization=ayurveda 2484 State Council of Ayurvedic & Unani Medicine, Bihar, 2018\n",
      "https://www.practo.com/ranchi/doctor/prakash-kumar-5-ear-nose-throat-ent-specialist?specialization=ear-nose-throat (ent) specialist 16486 Bihar Medical Council, 1980\n",
      "https://www.practo.com/ranchi/doctor/varun-kumar-4-cardiologist?specialization=cardiologist 59860 West Bengal Medical Council, 2004\n",
      "https://www.practo.com/ranchi/doctor/dr-abhishek-maheshwari-dentist?specialization=dentist HN3035-A Haryana State Dental Council, 2008\n",
      "https://www.practo.com/ranchi/doctor/praveen-narsaria-pediatrician?specialization=pediatrician 2665 Jharkhand Medical Council, 2009\n",
      "https://www.practo.com/ranchi/doctor/dr-arun-kumar-33-dentist-1?specialization=dentist 6384/A Bihar State Dental Council, 2015\n",
      "https://www.practo.com/ranchi/doctor/dr-stuti-kumari-ayurveda?specialization=ayurveda 137/014 JHARKHAND STATE AYUSH MEDICAL COUNCIL, 2014\n",
      "https://www.practo.com/ranchi/doctor/manish-ranjan-1-dentist?specialization=dentist A-258 Jharkahand Dentist Registration Tribunal, 2017\n",
      "https://www.practo.com/ranchi/doctor/neha-sheetal-dentist?specialization=dentist 33041-A Karnataka State Dental Council, 2013\n",
      "https://www.practo.com/ranchi/doctor/dr-rakesh-agarwal-orthopedist?specialization=orthopedist 40112 Delhi Medical Council, 2008\n",
      "https://www.practo.com/ranchi/doctor/sarita-kumari-1-dentist-3?specialization=dentist 5193/A Bihar State Dental Council, 2019\n",
      "https://www.practo.com/ranchi/doctor/amiy-arnav-oncologist?specialization=general surgeon 13/47269 Medical Council of India (MCI), 2013\n",
      "https://www.practo.com/ranchi/doctor/dr-kumar-abhishek-pediatrician-pediatrician?specialization=pediatrician 6557 Jharkhand Medical Council, 2019\n",
      "https://www.practo.com/ranchi/doctor/spandana-1-dentist?specialization=dentist 4627/A Bihar State Dental Council, 2018\n",
      "https://www.practo.com/ranchi/doctor/ujjwal-sinha-orthopaedics?specialization=orthopedist 33423 Delhi Medical Council, 2007\n",
      "https://www.practo.com/ranchi/doctor/ankur-kumar-sriwastwa-dentist-1?specialization=dentist A 326  Jharkahand Dentist Registration Tribunal, 2017\n",
      "https://www.practo.com/ranchi/therapist/mr-arupnandan-das-adhikari-speech-therapist?specialization=audiologist A16899 Rehabilitation Council of India (RCI), 2010\n",
      "https://www.practo.com/ranchi/doctor/dr-jitendra-kumar-1-radiologist?specialization=radiologist 3533 Jharkhand Medical Council, 2011\n",
      "https://www.practo.com/ranchi/doctor/sarita-kumari-1-dentist-2?specialization=dentist 5193/A Bihar State Dental Council, 2014\n",
      "https://www.practo.com/ranchi/doctor/suhagini-murmu-radiologist?specialization=gynecologist/obstetrician 5183 Jharkhand Medical Council, 2016\n",
      "https://www.practo.com/ranchi/doctor/dr-dr-lt-col-vivek-kumar-singh-dentist?specialization=dentist 17212 A Karnataka State Dental Council, 2019\n",
      "https://www.practo.com/ranchi/doctor/sakshi-singh-gynecologist-obstetrician?specialization=gynecologist/obstetrician 26819 Medical Council of India (MCI), 2005\n",
      "https://www.practo.com/ranchi/doctor/prashant-raman-general-surgeon?specialization=general surgeon 3461 Jharkhand Medical Council, 2011\n",
      "https://www.practo.com/ranchi/doctor/dr-prashant-kumar-1-gynecologist-obstetrician?specialization=gynecologist/obstetrician 30858 Bihar Council of Medical Registration, 1999\n",
      "https://www.practo.com/ranchi/doctor/dr-s-s-sidana-pediatrician?specialization=pediatrician 5851 Jharkhand Medical Council, 2018\n"
     ]
    }
   ],
   "source": [
    "for i in ranchi_filter:\n",
    "    print(i[-4], i[3])"
   ]
  },
  {
   "cell_type": "code",
   "execution_count": 2,
   "id": "focal-serve",
   "metadata": {},
   "outputs": [],
   "source": [
    "model = tf.keras.models.load_model('gender_prediction_name.model')\n",
    "token_table = {}\n",
    "j = 0\n",
    "for i in 'abcdefghijklmnopqrstuvwxyz':\n",
    "    token_table[i] = j/25\n",
    "    j+=1\n",
    "def get_gender(name):\n",
    "    try:\n",
    "        name = [token_table[i.lower()] for i in list(name)]\n",
    "        curr_len = len(name)\n",
    "        padd_len = 15 - curr_len\n",
    "        name += [-1.0]*padd_len\n",
    "        if np.argmax(model.predict([name])) == 0:\n",
    "            return('Female')\n",
    "        else:\n",
    "            return('Male')\n",
    "    except:\n",
    "        return('Male')"
   ]
  },
  {
   "cell_type": "code",
   "execution_count": null,
   "id": "reflected-music",
   "metadata": {},
   "outputs": [],
   "source": []
  },
  {
   "cell_type": "code",
   "execution_count": 3,
   "id": "utility-switch",
   "metadata": {},
   "outputs": [],
   "source": [
    "dat = rp.get('https://server.docplus.online/doctors/get').json()"
   ]
  },
  {
   "cell_type": "code",
   "execution_count": 4,
   "id": "artificial-massage",
   "metadata": {},
   "outputs": [
    {
     "name": "stdout",
     "output_type": "stream",
     "text": [
      "Kunal ----------------- Male\n",
      "Lalit ----------------- Male\n",
      "Aftab ----------------- Male\n",
      "Thounaojam ----------------- Male\n",
      "Kumar ----------------- Male\n",
      "Kumar ----------------- Male\n",
      "Ratnesh ----------------- Female\n",
      "Sarbjaya ----------------- Female\n",
      "Nitisha ----------------- Female\n",
      "Saha ----------------- Female\n"
     ]
    }
   ],
   "source": [
    "for i in dat[:10]:\n",
    "    print(i['firstName'], '-----------------', get_gender(i['firstName']))"
   ]
  },
  {
   "cell_type": "code",
   "execution_count": null,
   "id": "opposite-boring",
   "metadata": {},
   "outputs": [
    {
     "name": "stderr",
     "output_type": "stream",
     "text": [
      " 97%|███████████████████████████████████████████████████████████████████████████▌  | 5464/5636 [36:07<01:11,  2.41it/s]"
     ]
    }
   ],
   "source": [
    "def updateGender(_id, _gender):\n",
    "    payload = {\n",
    "        \"id\": _id,\n",
    "        \"gender\": _gender\n",
    "    }\n",
    "    r = rp.post('https://server.docplus.online/doctors/profile/update', json = payload)\n",
    "    if r.json()['status'] != True:\n",
    "        print(r.json())\n",
    "        \n",
    "for i in tqdm(dat[4462:]):\n",
    "    _gender = get_gender(i['firstName'])\n",
    "    updateGender(i['_id'], _gender)"
   ]
  },
  {
   "cell_type": "code",
   "execution_count": 53,
   "id": "emotional-pavilion",
   "metadata": {},
   "outputs": [
    {
     "data": {
      "text/plain": [
       "{'_id': '607c7f2e34cb43518375a313',\n",
       " 'firstName': 'Ashok',\n",
       " 'lastName': 'Pansari'}"
      ]
     },
     "execution_count": 53,
     "metadata": {},
     "output_type": "execute_result"
    }
   ],
   "source": [
    "dat[4462]"
   ]
  },
  {
   "cell_type": "code",
   "execution_count": null,
   "id": "announced-switzerland",
   "metadata": {},
   "outputs": [],
   "source": []
  }
 ],
 "metadata": {
  "kernelspec": {
   "display_name": "gputest",
   "language": "python",
   "name": "gputest"
  },
  "language_info": {
   "codemirror_mode": {
    "name": "ipython",
    "version": 3
   },
   "file_extension": ".py",
   "mimetype": "text/x-python",
   "name": "python",
   "nbconvert_exporter": "python",
   "pygments_lexer": "ipython3",
   "version": "3.7.4"
  }
 },
 "nbformat": 4,
 "nbformat_minor": 5
}
