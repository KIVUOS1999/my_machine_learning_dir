{
 "cells": [
  {
   "cell_type": "code",
   "execution_count": 1,
   "metadata": {},
   "outputs": [],
   "source": [
    "import numpy as np\n",
    "import cv2\n",
    "import os\n",
    "import matplotlib.pyplot as plt\n",
    "from tqdm import tqdm\n",
    "import random\n",
    "import pickle"
   ]
  },
  {
   "cell_type": "code",
   "execution_count": 2,
   "metadata": {},
   "outputs": [],
   "source": [
    "import tensorflow as tf\n",
    "from tensorflow import keras\n",
    "from tensorflow.keras.models import Sequential\n",
    "from tensorflow.keras.layers import Dense, Dropout, Activation, Flatten, Conv2D, MaxPooling2D, BatchNormalization"
   ]
  },
  {
   "cell_type": "code",
   "execution_count": 3,
   "metadata": {},
   "outputs": [],
   "source": [
    "DATADIR = \"E:/Django/DATA_SET/www_kaggle_com_vipoooool_new-plant-diseases-dataset/valid\"\n",
    "CATAGORIES = os.listdir(DATADIR)        "
   ]
  },
  {
   "cell_type": "code",
   "execution_count": 6,
   "metadata": {
    "scrolled": false
   },
   "outputs": [
    {
     "ename": "NameError",
     "evalue": "name 'CATAGORIES' is not defined",
     "output_type": "error",
     "traceback": [
      "\u001b[1;31m------------------------------------------------------------------\u001b[0m",
      "\u001b[1;31mNameError\u001b[0m                        Traceback (most recent call last)",
      "\u001b[1;32m<ipython-input-6-9b0ada7665b2>\u001b[0m in \u001b[0;36m<module>\u001b[1;34m\u001b[0m\n\u001b[0;32m      9\u001b[0m             \u001b[0mnew_arr\u001b[0m \u001b[1;33m=\u001b[0m \u001b[0mcv2\u001b[0m\u001b[1;33m.\u001b[0m\u001b[0mresize\u001b[0m\u001b[1;33m(\u001b[0m\u001b[0mimg_arr\u001b[0m\u001b[1;33m,\u001b[0m \u001b[1;33m(\u001b[0m\u001b[0mIMG_SIZE\u001b[0m\u001b[1;33m,\u001b[0m \u001b[0mIMG_SIZE\u001b[0m\u001b[1;33m)\u001b[0m\u001b[1;33m)\u001b[0m\u001b[1;33m\u001b[0m\u001b[1;33m\u001b[0m\u001b[0m\n\u001b[0;32m     10\u001b[0m             \u001b[0mtrainning_data\u001b[0m\u001b[1;33m.\u001b[0m\u001b[0mappend\u001b[0m\u001b[1;33m(\u001b[0m\u001b[1;33m[\u001b[0m\u001b[0mnew_arr\u001b[0m\u001b[1;33m,\u001b[0m \u001b[0mlabel\u001b[0m\u001b[1;33m]\u001b[0m\u001b[1;33m)\u001b[0m\u001b[1;33m\u001b[0m\u001b[1;33m\u001b[0m\u001b[0m\n\u001b[1;32m---> 11\u001b[1;33m \u001b[0mcreate_trainning_data\u001b[0m\u001b[1;33m(\u001b[0m\u001b[0mCATAGORIES\u001b[0m\u001b[1;33m)\u001b[0m\u001b[1;33m\u001b[0m\u001b[1;33m\u001b[0m\u001b[0m\n\u001b[0m",
      "\u001b[1;31mNameError\u001b[0m: name 'CATAGORIES' is not defined"
     ]
    }
   ],
   "source": [
    "trainning_data = []\n",
    "def create_trainning_data(CATAGORIES):\n",
    "    IMG_SIZE = 250\n",
    "    for catagory in tqdm(CATAGORIES):\n",
    "        path = os.path.join(DATADIR, catagory)\n",
    "        label = CATAGORIES.index(catagory)\n",
    "        for img in (os.listdir(path)):\n",
    "            img_arr = cv2.imread(os.path.join(path, img), cv2.COLOR_BGR2HSV)\n",
    "            new_arr = cv2.resize(img_arr, (IMG_SIZE, IMG_SIZE))\n",
    "            trainning_data.append([new_arr, label])        \n",
    "create_trainning_data(CATAGORIES)"
   ]
  },
  {
   "cell_type": "code",
   "execution_count": 5,
   "metadata": {},
   "outputs": [],
   "source": [
    "random.shuffle(trainning_data)"
   ]
  },
  {
   "cell_type": "code",
   "execution_count": 6,
   "metadata": {
    "scrolled": true
   },
   "outputs": [
    {
     "name": "stderr",
     "output_type": "stream",
     "text": [
      "100%|█████████████████████| 17572/17572 [00:20<00:00, 856.80it/s]\n"
     ]
    },
    {
     "name": "stdout",
     "output_type": "stream",
     "text": [
      "done\n"
     ]
    }
   ],
   "source": [
    "X = []\n",
    "Y = []\n",
    "for feature, label in trainning_data:\n",
    "    X.append(feature)\n",
    "    Y.append(label)\n",
    "\n",
    "X = np.array(X).reshape(-1, 250, 250, 3)\n",
    "Y = np.array(Y)\n",
    "for i in tqdm(X):\n",
    "    i = i/255\n",
    "print(\"done\")"
   ]
  },
  {
   "cell_type": "code",
   "execution_count": 12,
   "metadata": {},
   "outputs": [],
   "source": [
    "pickle.dump(X, open(\"X.pickle\", \"wb\"))\n",
    "pickle.dump(Y, open(\"Y.pickle\", \"wb\"))"
   ]
  },
  {
   "cell_type": "code",
   "execution_count": 4,
   "metadata": {},
   "outputs": [],
   "source": [
    "X = pickle.load(open(\"X.pickle\", \"rb\"))\n",
    "Y = pickle.load(open(\"Y.pickle\", \"rb\")) "
   ]
  },
  {
   "cell_type": "code",
   "execution_count": 5,
   "metadata": {},
   "outputs": [
    {
     "name": "stdout",
     "output_type": "stream",
     "text": [
      "Epoch 1/70\n",
      "495/495 [==============================] - 107s 145ms/step - loss: 2.7132 - accuracy: 0.2515 - val_loss: 1.7378 - val_accuracy: 0.4881\n",
      "Epoch 2/70\n",
      "495/495 [==============================] - 14s 29ms/step - loss: 1.0991 - accuracy: 0.6562 - val_loss: 1.2742 - val_accuracy: 0.6149\n",
      "Epoch 3/70\n",
      "495/495 [==============================] - 14s 29ms/step - loss: 0.7343 - accuracy: 0.7578 - val_loss: 0.9800 - val_accuracy: 0.7150\n",
      "Epoch 4/70\n",
      "495/495 [==============================] - 14s 29ms/step - loss: 0.5462 - accuracy: 0.8200 - val_loss: 1.0334 - val_accuracy: 0.7042\n",
      "Epoch 5/70\n",
      "495/495 [==============================] - 14s 29ms/step - loss: 0.4096 - accuracy: 0.8710 - val_loss: 1.2208 - val_accuracy: 0.6940\n",
      "Epoch 6/70\n",
      "495/495 [==============================] - 14s 29ms/step - loss: 0.3501 - accuracy: 0.8904 - val_loss: 1.3530 - val_accuracy: 0.6581\n",
      "Epoch 7/70\n",
      "495/495 [==============================] - 14s 29ms/step - loss: 0.3008 - accuracy: 0.9046 - val_loss: 0.6167 - val_accuracy: 0.8276\n",
      "Epoch 8/70\n",
      "495/495 [==============================] - 14s 29ms/step - loss: 0.2533 - accuracy: 0.9202 - val_loss: 1.3267 - val_accuracy: 0.6894\n",
      "Epoch 9/70\n",
      "495/495 [==============================] - 14s 29ms/step - loss: 0.2353 - accuracy: 0.9260 - val_loss: 2.9887 - val_accuracy: 0.5267\n",
      "Epoch 10/70\n",
      "495/495 [==============================] - 14s 29ms/step - loss: 0.2029 - accuracy: 0.9349 - val_loss: 1.3365 - val_accuracy: 0.6883\n",
      "Epoch 11/70\n",
      "495/495 [==============================] - 14s 29ms/step - loss: 0.1690 - accuracy: 0.9479 - val_loss: 0.7297 - val_accuracy: 0.8123\n",
      "Epoch 12/70\n",
      "495/495 [==============================] - 14s 29ms/step - loss: 0.1678 - accuracy: 0.9477 - val_loss: 0.7366 - val_accuracy: 0.8316\n",
      "Epoch 13/70\n",
      "495/495 [==============================] - 14s 29ms/step - loss: 0.1415 - accuracy: 0.9552 - val_loss: 0.7595 - val_accuracy: 0.8180\n",
      "Epoch 14/70\n",
      "495/495 [==============================] - 14s 29ms/step - loss: 0.1448 - accuracy: 0.9554 - val_loss: 1.7233 - val_accuracy: 0.7093\n",
      "Epoch 15/70\n",
      "495/495 [==============================] - 14s 29ms/step - loss: 0.1806 - accuracy: 0.9486 - val_loss: 0.8926 - val_accuracy: 0.8111\n",
      "Epoch 16/70\n",
      "495/495 [==============================] - 14s 29ms/step - loss: 0.1253 - accuracy: 0.9633 - val_loss: 0.7416 - val_accuracy: 0.8225\n",
      "Epoch 17/70\n",
      "495/495 [==============================] - 14s 29ms/step - loss: 0.1603 - accuracy: 0.9548 - val_loss: 1.2372 - val_accuracy: 0.7742\n",
      "Epoch 18/70\n",
      "495/495 [==============================] - 14s 29ms/step - loss: 0.1041 - accuracy: 0.9667 - val_loss: 1.1743 - val_accuracy: 0.7571\n",
      "Epoch 19/70\n",
      "495/495 [==============================] - 14s 29ms/step - loss: 0.0973 - accuracy: 0.9730 - val_loss: 0.9526 - val_accuracy: 0.8299\n",
      "Epoch 20/70\n",
      "495/495 [==============================] - 14s 29ms/step - loss: 0.1393 - accuracy: 0.9582 - val_loss: 1.6210 - val_accuracy: 0.7418\n",
      "Epoch 21/70\n",
      "495/495 [==============================] - 14s 29ms/step - loss: 0.0762 - accuracy: 0.9761 - val_loss: 0.9704 - val_accuracy: 0.8134\n",
      "Epoch 22/70\n",
      "495/495 [==============================] - 14s 29ms/step - loss: 0.1137 - accuracy: 0.9643 - val_loss: 0.8688 - val_accuracy: 0.8367\n",
      "Epoch 23/70\n",
      "495/495 [==============================] - 15s 29ms/step - loss: 0.1118 - accuracy: 0.9668 - val_loss: 1.2004 - val_accuracy: 0.7901\n",
      "Epoch 24/70\n",
      "495/495 [==============================] - 14s 29ms/step - loss: 0.0880 - accuracy: 0.9745 - val_loss: 1.0190 - val_accuracy: 0.7890\n",
      "Epoch 25/70\n",
      "495/495 [==============================] - 14s 29ms/step - loss: 0.0977 - accuracy: 0.9742 - val_loss: 1.2630 - val_accuracy: 0.7577\n",
      "Epoch 26/70\n",
      "495/495 [==============================] - 15s 30ms/step - loss: 0.0789 - accuracy: 0.9756 - val_loss: 0.8621 - val_accuracy: 0.8345\n",
      "Epoch 27/70\n",
      "495/495 [==============================] - 15s 30ms/step - loss: 0.0937 - accuracy: 0.9720 - val_loss: 0.8856 - val_accuracy: 0.8333\n",
      "Epoch 28/70\n",
      "495/495 [==============================] - 15s 29ms/step - loss: 0.1145 - accuracy: 0.9704 - val_loss: 1.0577 - val_accuracy: 0.8214\n",
      "Epoch 29/70\n",
      "495/495 [==============================] - 14s 29ms/step - loss: 0.0794 - accuracy: 0.9778 - val_loss: 0.9576 - val_accuracy: 0.8390\n",
      "Epoch 30/70\n",
      "495/495 [==============================] - 14s 29ms/step - loss: 0.0809 - accuracy: 0.9780 - val_loss: 2.7947 - val_accuracy: 0.5904\n",
      "Epoch 31/70\n",
      "495/495 [==============================] - 15s 29ms/step - loss: 0.1148 - accuracy: 0.9687 - val_loss: 1.3167 - val_accuracy: 0.8060\n",
      "Epoch 32/70\n",
      "495/495 [==============================] - 14s 29ms/step - loss: 0.1160 - accuracy: 0.9689 - val_loss: 1.4655 - val_accuracy: 0.7827\n",
      "Epoch 33/70\n",
      "495/495 [==============================] - 14s 29ms/step - loss: 0.1013 - accuracy: 0.9742 - val_loss: 1.2528 - val_accuracy: 0.8157\n",
      "Epoch 34/70\n",
      "495/495 [==============================] - 14s 29ms/step - loss: 0.0841 - accuracy: 0.9777 - val_loss: 1.2570 - val_accuracy: 0.8163\n",
      "Epoch 35/70\n",
      "495/495 [==============================] - 15s 30ms/step - loss: 0.0954 - accuracy: 0.9762 - val_loss: 2.9715 - val_accuracy: 0.6661\n",
      "Epoch 36/70\n",
      "495/495 [==============================] - 15s 30ms/step - loss: 0.0538 - accuracy: 0.9837 - val_loss: 1.4016 - val_accuracy: 0.7759\n",
      "Epoch 37/70\n",
      "495/495 [==============================] - 15s 29ms/step - loss: 0.0731 - accuracy: 0.9802 - val_loss: 1.2986 - val_accuracy: 0.7935\n",
      "Epoch 38/70\n",
      "495/495 [==============================] - 15s 30ms/step - loss: 0.0643 - accuracy: 0.9821 - val_loss: 1.3158 - val_accuracy: 0.8123\n",
      "Epoch 39/70\n",
      "495/495 [==============================] - 15s 30ms/step - loss: 0.0920 - accuracy: 0.9747 - val_loss: 1.0356 - val_accuracy: 0.8254\n",
      "Epoch 40/70\n",
      "495/495 [==============================] - 15s 30ms/step - loss: 0.0878 - accuracy: 0.9746 - val_loss: 1.0394 - val_accuracy: 0.8407\n",
      "Epoch 41/70\n",
      "495/495 [==============================] - 15s 30ms/step - loss: 0.0535 - accuracy: 0.9863 - val_loss: 1.5438 - val_accuracy: 0.7759\n",
      "Epoch 42/70\n",
      "495/495 [==============================] - 15s 29ms/step - loss: 0.0833 - accuracy: 0.9768 - val_loss: 1.2753 - val_accuracy: 0.8055\n",
      "Epoch 43/70\n",
      "495/495 [==============================] - 14s 29ms/step - loss: 0.0904 - accuracy: 0.9751 - val_loss: 2.0071 - val_accuracy: 0.7230\n",
      "Epoch 44/70\n",
      "495/495 [==============================] - 15s 29ms/step - loss: 0.0563 - accuracy: 0.9858 - val_loss: 1.9515 - val_accuracy: 0.7395\n",
      "Epoch 45/70\n",
      "495/495 [==============================] - 15s 30ms/step - loss: 0.0787 - accuracy: 0.9785 - val_loss: 1.1407 - val_accuracy: 0.8151\n",
      "Epoch 46/70\n",
      "495/495 [==============================] - 15s 30ms/step - loss: 0.0525 - accuracy: 0.9866 - val_loss: 0.9443 - val_accuracy: 0.8413\n",
      "Epoch 47/70\n",
      "495/495 [==============================] - 14s 29ms/step - loss: 0.0643 - accuracy: 0.9831 - val_loss: 2.1801 - val_accuracy: 0.7139\n",
      "Epoch 48/70\n",
      "495/495 [==============================] - 14s 29ms/step - loss: 0.1073 - accuracy: 0.9756 - val_loss: 1.2412 - val_accuracy: 0.8248\n",
      "Epoch 49/70\n",
      "495/495 [==============================] - 14s 29ms/step - loss: 0.0805 - accuracy: 0.9794 - val_loss: 1.0938 - val_accuracy: 0.8265\n",
      "Epoch 50/70\n",
      "495/495 [==============================] - 14s 29ms/step - loss: 0.0356 - accuracy: 0.9898 - val_loss: 1.1072 - val_accuracy: 0.8561: 0s - loss: 0.0355 - accu\n",
      "Epoch 51/70\n",
      "495/495 [==============================] - 15s 29ms/step - loss: 0.0501 - accuracy: 0.9873 - val_loss: 1.3783 - val_accuracy: 0.8020\n",
      "Epoch 52/70\n",
      "495/495 [==============================] - 14s 29ms/step - loss: 0.0798 - accuracy: 0.9793 - val_loss: 1.2196 - val_accuracy: 0.8225\n",
      "Epoch 53/70\n",
      "495/495 [==============================] - 15s 29ms/step - loss: 0.0646 - accuracy: 0.9830 - val_loss: 1.2731 - val_accuracy: 0.8225\n",
      "Epoch 54/70\n",
      "495/495 [==============================] - 14s 29ms/step - loss: 0.0595 - accuracy: 0.9846 - val_loss: 1.4376 - val_accuracy: 0.8231\n",
      "Epoch 55/70\n",
      "495/495 [==============================] - 15s 29ms/step - loss: 0.0675 - accuracy: 0.9834 - val_loss: 1.7038 - val_accuracy: 0.7821\n",
      "Epoch 56/70\n",
      "495/495 [==============================] - 15s 30ms/step - loss: 0.0798 - accuracy: 0.9795 - val_loss: 1.3336 - val_accuracy: 0.8049\n",
      "Epoch 57/70\n",
      "495/495 [==============================] - 14s 29ms/step - loss: 0.0600 - accuracy: 0.9851 - val_loss: 1.1454 - val_accuracy: 0.8692ra\n",
      "Epoch 58/70\n",
      "495/495 [==============================] - 14s 29ms/step - loss: 0.0590 - accuracy: 0.9865 - val_loss: 1.4481 - val_accuracy: 0.8305\n",
      "Epoch 59/70\n",
      "495/495 [==============================] - 14s 29ms/step - loss: 0.0717 - accuracy: 0.9838 - val_loss: 14.7531 - val_accuracy: 0.1177\n",
      "Epoch 60/70\n",
      "495/495 [==============================] - 15s 30ms/step - loss: 0.0857 - accuracy: 0.9794 - val_loss: 1.4827 - val_accuracy: 0.8180\n",
      "Epoch 61/70\n",
      "495/495 [==============================] - 15s 30ms/step - loss: 0.0593 - accuracy: 0.9865 - val_loss: 1.4151 - val_accuracy: 0.8390\n",
      "Epoch 62/70\n",
      "495/495 [==============================] - 15s 30ms/step - loss: 0.0769 - accuracy: 0.9822 - val_loss: 1.1562 - val_accuracy: 0.8493\n",
      "Epoch 63/70\n",
      "495/495 [==============================] - 15s 29ms/step - loss: 0.0592 - accuracy: 0.9858 - val_loss: 1.1860 - val_accuracy: 0.8606\n",
      "Epoch 64/70\n",
      "495/495 [==============================] - 15s 30ms/step - loss: 0.0982 - accuracy: 0.9773 - val_loss: 1.2431 - val_accuracy: 0.8521\n",
      "Epoch 65/70\n",
      "495/495 [==============================] - 15s 30ms/step - loss: 0.0566 - accuracy: 0.9866 - val_loss: 1.7071 - val_accuracy: 0.7992\n",
      "Epoch 66/70\n",
      "495/495 [==============================] - 15s 30ms/step - loss: 0.0571 - accuracy: 0.9848 - val_loss: 1.6261 - val_accuracy: 0.7952\n",
      "Epoch 67/70\n",
      "495/495 [==============================] - 15s 29ms/step - loss: 0.0641 - accuracy: 0.9854 - val_loss: 1.5248 - val_accuracy: 0.8311\n",
      "Epoch 68/70\n",
      "495/495 [==============================] - 14s 29ms/step - loss: 0.0421 - accuracy: 0.9899 - val_loss: 1.7090 - val_accuracy: 0.8129\n",
      "Epoch 69/70\n",
      "495/495 [==============================] - 14s 29ms/step - loss: 0.0573 - accuracy: 0.9872 - val_loss: 1.3919 - val_accuracy: 0.8430\n",
      "Epoch 70/70\n",
      "495/495 [==============================] - 14s 29ms/step - loss: 0.1122 - accuracy: 0.9765 - val_loss: 1.0967 - val_accuracy: 0.8623\n"
     ]
    }
   ],
   "source": [
    "model = Sequential([\n",
    "    \n",
    "    Conv2D(filters = 24, kernel_size=(11,11), activation = \"relu\", strides = 4 ,input_shape = (250,250,3)),\n",
    "    MaxPooling2D((3,3), strides = 2),\n",
    "    \n",
    "    BatchNormalization(),\n",
    "    \n",
    "    Conv2D(filters = 64, kernel_size=(5,5), strides=1, padding=\"same\",activation = \"relu\"),\n",
    "    MaxPooling2D((3,3), strides=2),\n",
    "    \n",
    "    BatchNormalization(),\n",
    "    \n",
    "    Conv2D(filters = 96, kernel_size=(3,3), activation = \"relu\", strides=1, padding=\"same\"),\n",
    "    Conv2D(filters = 96, kernel_size=(3,3), activation = \"relu\", strides=1, padding=\"same\"),\n",
    "    Conv2D(filters = 66, kernel_size=(3,3), activation = \"relu\", strides=1, padding=\"same\"),\n",
    "    \n",
    "    MaxPooling2D((3,3), strides=2),\n",
    "    \n",
    "    Flatten(),\n",
    "    Dense(500, activation=\"relu\"),\n",
    "    Dense(500, activation=\"relu\"),\n",
    "    Dense(len(CATAGORIES), activation=\"softmax\")\n",
    "])\n",
    "model.compile(optimizer='adam',\n",
    "             loss = 'sparse_categorical_crossentropy',\n",
    "             metrics=['accuracy'])\n",
    "dd = model.fit(X,Y,epochs=70,batch_size=32,validation_split=0.1)"
   ]
  },
  {
   "cell_type": "code",
   "execution_count": 5,
   "metadata": {},
   "outputs": [
    {
     "ename": "NameError",
     "evalue": "name 'model' is not defined",
     "output_type": "error",
     "traceback": [
      "\u001b[1;31m---------------------------------------------------------------------------\u001b[0m",
      "\u001b[1;31mNameError\u001b[0m                                 Traceback (most recent call last)",
      "\u001b[1;32m<ipython-input-5-7ab0d801bfaf>\u001b[0m in \u001b[0;36m<module>\u001b[1;34m\u001b[0m\n\u001b[1;32m----> 1\u001b[1;33m \u001b[0mmodel\u001b[0m\u001b[1;33m.\u001b[0m\u001b[0msave\u001b[0m\u001b[1;33m(\u001b[0m\u001b[1;34m'E:/Django/DATA_SET/trainned_desease.model'\u001b[0m\u001b[1;33m)\u001b[0m\u001b[1;33m\u001b[0m\u001b[1;33m\u001b[0m\u001b[0m\n\u001b[0m",
      "\u001b[1;31mNameError\u001b[0m: name 'model' is not defined"
     ]
    }
   ],
   "source": [
    "model.save('E:/Django/DATA_SET/trainned_desease.model')"
   ]
  },
  {
   "cell_type": "code",
   "execution_count": 4,
   "metadata": {},
   "outputs": [],
   "source": [
    "model = keras.models.load_model('E:/Django/DATA_SET/trainned_desease.model')"
   ]
  },
  {
   "cell_type": "code",
   "execution_count": 8,
   "metadata": {},
   "outputs": [
    {
     "name": "stderr",
     "output_type": "stream",
     "text": [
      "100%|█████████████████████████████████████████████████████████████████████████████████| 33/33 [00:00<00:00, 934.17it/s]\n"
     ]
    }
   ],
   "source": [
    "test_data = []\n",
    "DATA = \"E:/Django/DATA_SET/www_kaggle_com_vipoooool_new-plant-diseases-dataset/test\"\n",
    "for img in (os.listdir(DATA)):\n",
    "    img_arr = cv2.imread(os.path.join(DATA, img), cv2.COLOR_BGR2HSV)\n",
    "    new_arr = cv2.resize(img_arr, (250, 250))\n",
    "    test_data.append([new_arr, img]) \n",
    "    \n",
    "X_test = []\n",
    "Y_test = []\n",
    "for feature, label in test_data:\n",
    "    X_test.append(feature)\n",
    "    Y_test.append(label)\n",
    "Y_test = np.array(Y_test)\n",
    "X_test = np.array(X_test).reshape(-1, 250, 250, 3)\n",
    "for i in tqdm(X_test):\n",
    "    i = i/255"
   ]
  },
  {
   "cell_type": "code",
   "execution_count": 9,
   "metadata": {},
   "outputs": [
    {
     "name": "stdout",
     "output_type": "stream",
     "text": [
      "CNN output ---------- Original output\n",
      "Apple___Cedar_apple_rust ---------- AppleCedarRust1.JPG\n",
      "Apple___Cedar_apple_rust ---------- AppleCedarRust2.JPG\n",
      "Apple___Cedar_apple_rust ---------- AppleCedarRust3.JPG\n",
      "Apple___Cedar_apple_rust ---------- AppleCedarRust4.JPG\n",
      "Apple___Apple_scab ---------- AppleScab1.JPG\n",
      "Apple___Apple_scab ---------- AppleScab2.JPG\n",
      "Squash___Powdery_mildew ---------- AppleScab3.JPG\n",
      "Corn_(maize)___Common_rust_ ---------- CornCommonRust1.JPG\n",
      "Corn_(maize)___Common_rust_ ---------- CornCommonRust2.JPG\n",
      "Corn_(maize)___Common_rust_ ---------- CornCommonRust3.JPG\n",
      "Potato___Early_blight ---------- PotatoEarlyBlight1.JPG\n",
      "Potato___Early_blight ---------- PotatoEarlyBlight2.JPG\n",
      "Potato___Early_blight ---------- PotatoEarlyBlight3.JPG\n",
      "Potato___Early_blight ---------- PotatoEarlyBlight4.JPG\n",
      "Potato___Early_blight ---------- PotatoEarlyBlight5.JPG\n",
      "Potato___healthy ---------- PotatoHealthy1.JPG\n",
      "Potato___healthy ---------- PotatoHealthy2.JPG\n",
      "Tomato___Early_blight ---------- TomatoEarlyBlight1.JPG\n",
      "Tomato___Early_blight ---------- TomatoEarlyBlight2.JPG\n",
      "Tomato___Early_blight ---------- TomatoEarlyBlight3.JPG\n",
      "Tomato___Early_blight ---------- TomatoEarlyBlight4.JPG\n",
      "Tomato___Early_blight ---------- TomatoEarlyBlight5.JPG\n",
      "Tomato___Early_blight ---------- TomatoEarlyBlight6.JPG\n",
      "Tomato___healthy ---------- TomatoHealthy1.JPG\n",
      "Tomato___healthy ---------- TomatoHealthy2.JPG\n",
      "Tomato___healthy ---------- TomatoHealthy3.JPG\n",
      "Tomato___healthy ---------- TomatoHealthy4.JPG\n",
      "Tomato___Tomato_Yellow_Leaf_Curl_Virus ---------- TomatoYellowCurlVirus1.JPG\n",
      "Tomato___Tomato_Yellow_Leaf_Curl_Virus ---------- TomatoYellowCurlVirus2.JPG\n",
      "Tomato___Tomato_Yellow_Leaf_Curl_Virus ---------- TomatoYellowCurlVirus3.JPG\n",
      "Tomato___Tomato_Yellow_Leaf_Curl_Virus ---------- TomatoYellowCurlVirus4.JPG\n",
      "Tomato___Tomato_Yellow_Leaf_Curl_Virus ---------- TomatoYellowCurlVirus5.JPG\n",
      "Tomato___Tomato_Yellow_Leaf_Curl_Virus ---------- TomatoYellowCurlVirus6.JPG\n"
     ]
    }
   ],
   "source": [
    "predicted = [np.argmax(i) for i in model.predict(X_test)]\n",
    "print(\"CNN output ---------- Original output\" )\n",
    "for i in range(len(Y_test)):\n",
    "    print(CATAGORIES[predicted[i]],\"----------\" ,Y_test[i])"
   ]
  },
  {
   "cell_type": "code",
   "execution_count": 18,
   "metadata": {},
   "outputs": [],
   "source": [
    "#testing\n",
    "test_data = []\n",
    "DATA = \"E:/Django/DATA_SET/www_kaggle_com_vipoooool_new-plant-diseases-dataset/test/TomatoEarlyBlight1.jpg\"\n",
    "img_arr = cv2.imread(DATA, cv2.COLOR_BGR2HSV)\n",
    "new_arr = cv2.resize(img_arr, (250, 250))\n",
    "new_arr = np.array(new_arr).reshape(-1, 250, 250, 3)\n",
    "predicted = np.argmax(model.predict(new_arr))"
   ]
  },
  {
   "cell_type": "code",
   "execution_count": 19,
   "metadata": {},
   "outputs": [
    {
     "data": {
      "text/plain": [
       "'Potato___healthy'"
      ]
     },
     "execution_count": 19,
     "metadata": {},
     "output_type": "execute_result"
    }
   ],
   "source": [
    "CATAGORIES[predicted]"
   ]
  },
  {
   "cell_type": "code",
   "execution_count": 11,
   "metadata": {},
   "outputs": [
    {
     "data": {
      "text/plain": [
       "8"
      ]
     },
     "execution_count": 11,
     "metadata": {},
     "output_type": "execute_result"
    }
   ],
   "source": [
    "predicted"
   ]
  },
  {
   "cell_type": "code",
   "execution_count": 4,
   "metadata": {},
   "outputs": [],
   "source": [
    "model = tf.saved_model.load('E:/Django/DATA_SET/trainned_desease.model')"
   ]
  },
  {
   "cell_type": "code",
   "execution_count": 5,
   "metadata": {},
   "outputs": [
    {
     "ename": "AttributeError",
     "evalue": "'_UserObject' object has no attribute 'predict'",
     "output_type": "error",
     "traceback": [
      "\u001b[1;31m---------------------------------------------------------------------------\u001b[0m",
      "\u001b[1;31mAttributeError\u001b[0m                            Traceback (most recent call last)",
      "\u001b[1;32m<ipython-input-5-c14c5ee82961>\u001b[0m in \u001b[0;36m<module>\u001b[1;34m\u001b[0m\n\u001b[1;32m----> 1\u001b[1;33m \u001b[0mmodel\u001b[0m\u001b[1;33m.\u001b[0m\u001b[0mpredict\u001b[0m\u001b[1;33m(\u001b[0m\u001b[1;33m)\u001b[0m\u001b[1;33m\u001b[0m\u001b[1;33m\u001b[0m\u001b[0m\n\u001b[0m",
      "\u001b[1;31mAttributeError\u001b[0m: '_UserObject' object has no attribute 'predict'"
     ]
    }
   ],
   "source": [
    "model."
   ]
  },
  {
   "cell_type": "code",
   "execution_count": 7,
   "metadata": {},
   "outputs": [
    {
     "data": {
      "text/plain": [
       "(17572,)"
      ]
     },
     "execution_count": 7,
     "metadata": {},
     "output_type": "execute_result"
    }
   ],
   "source": [
    "Y.shape"
   ]
  },
  {
   "cell_type": "code",
   "execution_count": null,
   "metadata": {},
   "outputs": [],
   "source": []
  }
 ],
 "metadata": {
  "kernelspec": {
   "display_name": "gputest",
   "language": "python",
   "name": "gputest"
  },
  "language_info": {
   "codemirror_mode": {
    "name": "ipython",
    "version": 3
   },
   "file_extension": ".py",
   "mimetype": "text/x-python",
   "name": "python",
   "nbconvert_exporter": "python",
   "pygments_lexer": "ipython3",
   "version": "3.7.4"
  }
 },
 "nbformat": 4,
 "nbformat_minor": 2
}
