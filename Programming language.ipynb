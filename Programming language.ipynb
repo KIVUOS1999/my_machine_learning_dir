{
 "cells": [
  {
   "cell_type": "code",
   "execution_count": 24,
   "metadata": {},
   "outputs": [],
   "source": [
    "TOKEN_INT = 'INT'\n",
    "TOKEN_FLOAT = 'FLOAT'\n",
    "TOKEN_ADD = 'ADD'\n",
    "TOKEN_SUB = 'SUB'\n",
    "TOKEN_MUL = 'MUL'\n",
    "TOKEN_DIV = 'DIV'\n",
    "TOKEN_LP = 'LP'\n",
    "TOKEN_RP = 'RP'\n",
    "DIGITS = '0123456789'\n",
    "\n",
    "class Token:    \n",
    "    def __init__(self, type_, value=None):\n",
    "        self.type = type_\n",
    "        self.value = value\n",
    "        \n",
    "    def __repr__(self):\n",
    "        if self.value: return f'{self.type}:{self.value}'\n",
    "        return f'{self.type}'\n",
    "    \n",
    "'''\n",
    "class Error:\n",
    "    def __init__(self,error_name,details):\n",
    "        self.error_name = error_name\n",
    "        self.details = details\n",
    "        \n",
    "    def as_string(self):\n",
    "        result = f'{self.error_name}: {self.details}'\n",
    "        return result\n",
    "    \n",
    "class IllegalCharacter(Error):\n",
    "    def __init__(self, details):\n",
    "        super().__init__(\"Illegal_Character\", details)\n",
    "'''        \n",
    "        \n",
    "class Lexer:\n",
    "    def __init__(self, text):\n",
    "        self.text = text\n",
    "        self.position = -1\n",
    "        self.token = []\n",
    "        self.current_character = None\n",
    "        self.advance()\n",
    "        self.generate_token()\n",
    "        \n",
    "    def advance(self):\n",
    "        self.position+=1\n",
    "        self.current_character = self.text[self.position] if self.position < len(self.text) else None\n",
    "    \n",
    "    def generate_token(self):\n",
    "        while(self.current_character != None):\n",
    "            if(self.current_character in \" \\t\"):\n",
    "                self.advance()\n",
    "            elif(self.current_character == \"+\"):\n",
    "                self.token.append(Token(TOKEN_ADD))\n",
    "                self.advance()\n",
    "            elif(self.current_character == \"-\"):\n",
    "                self.token.append(Token(TOKEN_SUB))\n",
    "                self.advance()\n",
    "            elif(self.current_character == \"*\"):\n",
    "                self.token.append(Token(TOKEN_MUL))\n",
    "                self.advance()\n",
    "            elif(self.current_character == \"/\"):\n",
    "                self.token.append(Token(TOKEN_DIV))\n",
    "                self.advance()\n",
    "            elif(self.current_character == \"(\"):\n",
    "                self.token.append(Token(TOKEN_LP))\n",
    "                self.advance()\n",
    "            elif(self.current_character == \")\"):\n",
    "                self.token.append(Token(TOKEN_RP))\n",
    "                self.advance()\n",
    "            elif(self.current_character in DIGITS):\n",
    "                self.token.append(self.make_number())\n",
    "            else:\n",
    "                return error\n",
    "        \n",
    "        return self.token\n",
    "        \n",
    "    def make_number(self):\n",
    "        number = ''\n",
    "        number_dots = 0\n",
    "        while self.current_character != None and self.current_character in DIGITS+'.':\n",
    "            if self.current_character == '.':\n",
    "                if number_dots == 1:\n",
    "                    break\n",
    "                number_dots += 1\n",
    "                number += '.'\n",
    "            else:\n",
    "                number += self.current_character\n",
    "                self.advance()\n",
    "                \n",
    "        if(number_dots == 0):\n",
    "            return(Token(TOKEN_INT, int(number)))\n",
    "        else:\n",
    "            return(Token(TOKEN_FLOAT, float(number)))\n",
    "        \n",
    "def run(text):\n",
    "    lexer = Lexer(text)\n",
    "    token = lexer.generate_token()\n",
    "    return(token)"
   ]
  },
  {
   "cell_type": "code",
   "execution_count": 27,
   "metadata": {},
   "outputs": [
    {
     "name": "stdout",
     "output_type": "stream",
     "text": [
      ">>2+3\n",
      "[INT:2, ADD, INT:3]\n",
      ">>2*4-5/6\n",
      "[INT:2, MUL, INT:4, SUB, INT:5, DIV, INT:6]\n",
      ">>x\n",
      "None\n",
      ">>xx\n"
     ]
    }
   ],
   "source": [
    "while True:\n",
    "    text = input(\">>\")\n",
    "    if(text == 'xx'):\n",
    "        break\n",
    "    result = run(text)\n",
    "    print(result)"
   ]
  },
  {
   "cell_type": "code",
   "execution_count": 26,
   "metadata": {},
   "outputs": [],
   "source": [
    "ob = Token(\"int\",12)"
   ]
  },
  {
   "cell_type": "code",
   "execution_count": 15,
   "metadata": {},
   "outputs": [
    {
     "name": "stdout",
     "output_type": "stream",
     "text": [
      "None\n"
     ]
    }
   ],
   "source": [
    "print(error\n",
    "     )"
   ]
  },
  {
   "cell_type": "code",
   "execution_count": null,
   "metadata": {},
   "outputs": [],
   "source": []
  }
 ],
 "metadata": {
  "kernelspec": {
   "display_name": "Python 3",
   "language": "python",
   "name": "python3"
  },
  "language_info": {
   "codemirror_mode": {
    "name": "ipython",
    "version": 3
   },
   "file_extension": ".py",
   "mimetype": "text/x-python",
   "name": "python",
   "nbconvert_exporter": "python",
   "pygments_lexer": "ipython3",
   "version": "3.7.4"
  }
 },
 "nbformat": 4,
 "nbformat_minor": 2
}
