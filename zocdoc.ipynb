{
 "cells": [
  {
   "cell_type": "code",
   "execution_count": 11,
   "id": "spectacular-gnome",
   "metadata": {},
   "outputs": [],
   "source": [
    "from bs4 import *\n",
    "import requests as rp\n",
    "import os\n",
    "from msedge.selenium_tools import *\n",
    "import time\n",
    "from tqdm import tqdm\n",
    "import pickle\n",
    "import numpy as np\n",
    "import psycopg2 as ps\n",
    "import random\n",
    "\n",
    "options = EdgeOptions()\n",
    "options.use_chromium = True\n",
    "options.add_argument(\"headless\")\n",
    "#options.add_argument(\"disable-gpu\")"
   ]
  },
  {
   "cell_type": "code",
   "execution_count": 2,
   "id": "golden-hotel",
   "metadata": {},
   "outputs": [],
   "source": [
    "pickle_in = open('zocdoc_remaining_doctor.pickle', 'rb')\n",
    "cleaned_data_without_repetation = pickle.load(pickle_in)"
   ]
  },
  {
   "cell_type": "code",
   "execution_count": 3,
   "id": "daily-poster",
   "metadata": {},
   "outputs": [],
   "source": [
    "def push_to_table(name, gender, npi, specialities, practice_name, eduandtrain, langspoken, lives, address, about, rating, review):\n",
    "    conn = ps.connect(\n",
    "        host = '127.0.0.1',\n",
    "        database = 'zocdoc',\n",
    "        user = 'postgres',\n",
    "        password = 'ss123546',\n",
    "    )\n",
    "    cur = conn.cursor()\n",
    "    cur.execute(\"insert into zocdoc_data values (%s,%s,%s,%s,%s,%s,%s,%s,%s,%s,%s,%s)\", (name, gender, npi, specialities, practice_name, eduandtrain, langspoken, lives, address, about, rating, review))\n",
    "    conn.commit()\n",
    "    conn.close()    "
   ]
  },
  {
   "cell_type": "code",
   "execution_count": 4,
   "id": "japanese-columbia",
   "metadata": {},
   "outputs": [],
   "source": [
    "def get_page_data(string):\n",
    "    out = {}\n",
    "    data = []\n",
    "    driver = Edge(options = options)\n",
    "    driver.get(string)\n",
    "    soup = BeautifulSoup(driver.page_source, 'html.parser')  \n",
    "    name = soup.find('h1').text\n",
    "    lives = soup.find_all('h2')[1].text\n",
    "    specalist = soup.find('section',{'data-test':\"Specialties-section\"})\n",
    "    practice = soup.find('section',{'data-test':\"Practice-section\"})\n",
    "    education = soup.find('section',{\"data-test\":\"Education-section\"})\n",
    "    language = soup.find('section',{'data-test':\"Languages-section\"})\n",
    "    gender = soup.find('section',{'data-test':\"Sex-section\"})\n",
    "    npi = soup.find('section',{'data-test':\"NPI-section\"})\n",
    "    \n",
    "    for i in [specalist, practice, education, language]:\n",
    "        ind = i.find('h3').text\n",
    "        data = []\n",
    "        for j in i.find_all('li'):\n",
    "            data.append(j.text)\n",
    "        out[ind] = \",\".join(data)\n",
    "\n",
    "    out['npi'] = npi.find('p',{'itemprop':'identifier'}).text\n",
    "    out['gender'] = gender.find('p').text\n",
    "    out['name'] = name\n",
    "    out['lives'] = lives\n",
    "    out['address'] = string\n",
    "\n",
    "    try:\n",
    "        out['about'] = soup.find('span', {'class':'sc-1opoey3-2 itqzoH'}).text + soup.find('span', {'class':'sc-1opoey3-3 jSGFbe'}).text\n",
    "    except:\n",
    "        out['about'] = ''\n",
    "    try:   \n",
    "        b= soup.find_all('div', {'data-test':'location-card-address-container'})\n",
    "        add = []\n",
    "        for i in b:\n",
    "            add.append(i.text)\n",
    "            out['location'] = \";\".join(add)\n",
    "    except:\n",
    "        out['location'] = ''\n",
    "    try:\n",
    "        out['rating'] = soup.find('div', {'data-test':'star-rating-score'}).text\n",
    "    except:\n",
    "        out['rating'] = ''\n",
    "    try:\n",
    "        out['review'] = soup.find('div', { 'data-test':\"reviews-filter-panel-review-count\"}).text.split(\" \")[0]\n",
    "    except:\n",
    "        out['review'] = ''\n",
    "        \n",
    "    driver.close()\n",
    "    return out"
   ]
  },
  {
   "cell_type": "code",
   "execution_count": null,
   "id": "binding-diabetes",
   "metadata": {},
   "outputs": [
    {
     "name": "stderr",
     "output_type": "stream",
     "text": [
      "  2%|█▊                                                                     | 1499/60273 [4:41:08<222:40:30, 13.64s/it]"
     ]
    }
   ],
   "source": [
    "for i in tqdm(cleaned_data_without_repetation[5039:]):\n",
    "    try:\n",
    "        out = get_page_data(i)\n",
    "    except:\n",
    "        continue\n",
    "    push_to_table(out['name'], out['gender'], out['npi'], out['Specialties'], out['Practice names'], out['Education and training'], out['Languages spoken'], out['lives'], out['address'], out['about'], out['rating'], out['review'])"
   ]
  },
  {
   "cell_type": "code",
   "execution_count": 18,
   "id": "blessed-holly",
   "metadata": {},
   "outputs": [],
   "source": [
    "pickle_in = open('zocdoc.pickle', 'rb')\n",
    "b = pickle.load(pickle_in)\n",
    "for i in b:\n",
    "    push_to_table(i['name'], i['gender'], i['npi'], i['Specialties'], i['Practice names'], i['Education and training'], i['Languages spoken'], i['lives'], i['address'], i['about'], i['rating'], i['review'])"
   ]
  },
  {
   "cell_type": "markdown",
   "id": "environmental-prophet",
   "metadata": {},
   "source": [
    "# postman"
   ]
  },
  {
   "cell_type": "code",
   "execution_count": 1,
   "id": "average-drinking",
   "metadata": {},
   "outputs": [],
   "source": [
    "import requests\n",
    "import pprint\n",
    "import pickle\n",
    "import json"
   ]
  },
  {
   "cell_type": "code",
   "execution_count": 32,
   "id": "bronze-wright",
   "metadata": {},
   "outputs": [],
   "source": [
    "r = requests.get('https://server.mddocz.com/doctors/getDoc/603745067fcc6c59ed6631ee')"
   ]
  },
  {
   "cell_type": "code",
   "execution_count": 10,
   "id": "dirty-bread",
   "metadata": {},
   "outputs": [],
   "source": [
    "pickle_in = open('checkpoint2.pickle', 'rb')\n",
    "previous_array2 = pickle.load(pickle_in)"
   ]
  },
  {
   "cell_type": "code",
   "execution_count": 22,
   "id": "amended-amino",
   "metadata": {},
   "outputs": [],
   "source": [
    "dat = previous_array2[0]"
   ]
  },
  {
   "cell_type": "code",
   "execution_count": 30,
   "id": "altered-encounter",
   "metadata": {},
   "outputs": [],
   "source": [
    "'''\n",
    "{\n",
    "registration_number:100001\n",
    "specialty:Dentist\n",
    "basic:{}\n",
    "password:DemoDoc@1234\n",
    "city:New Delhi\n",
    "state:Delhi\n",
    "country:India\n",
    "email:mpujari@gmail.com\n",
    "firstName:M.R\n",
    "lastName:Pujari\n",
    "}\n",
    "'''\n",
    "payload = {'firstName':'Dr.',\n",
    "          'lastName':dat['name'],\n",
    "          'email':''.join(dat['name'].split(\" \"))+'@gmail.com',\n",
    "          'country':'India',\n",
    "          'state':dat['lives'].split(\",\")[-1],\n",
    "          'city':dat['lives'].split(\",\")[-1],\n",
    "          'password':'DemoDoc@1234',\n",
    "          'basic':{},\n",
    "          'specialty':dat['specilization'],\n",
    "          'registration_number':'10003'}\n",
    "r = requests.post('https://server.mddocz.com/doctors/register', json = payload)"
   ]
  },
  {
   "cell_type": "code",
   "execution_count": null,
   "id": "advance-little",
   "metadata": {},
   "outputs": [],
   "source": []
  },
  {
   "cell_type": "code",
   "execution_count": 38,
   "id": "failing-sentence",
   "metadata": {},
   "outputs": [],
   "source": [
    "data = json_obj['data']"
   ]
  },
  {
   "cell_type": "code",
   "execution_count": 39,
   "id": "blond-cincinnati",
   "metadata": {},
   "outputs": [],
   "source": [
    "received_id = data['_id']"
   ]
  },
  {
   "cell_type": "code",
   "execution_count": 40,
   "id": "resident-premiere",
   "metadata": {},
   "outputs": [
    {
     "data": {
      "text/plain": [
       "dict_keys(['document', 'address', 'taxonomies', 'practiceLocation', 'diseases', 'description', 'steps', 'is_in_network', 'is_superDoc', 'location_ids', 'isActive', 'isApproved', 'availability', 'appointments', 'picture', 'profileStatus', 'question', 'appointmentsString', 'onBoarding', 'referrals', 'latestAppointment', 'payment', 'isAssistant', 'rights', 'assistants', 'charity', 'clinic', 'block', 'deviceToken', 'online', 'socket', 'conversations', 'WaitingRoomSocket', 'verify', '_id', 'npi', 'basic', 'email', 'password', 'specialty', 'customerProfile', 'city', 'state', 'country', 'firstName', 'referralId', 'createdOn', 'education', 'PatientsWaiting', '__v'])"
      ]
     },
     "execution_count": 40,
     "metadata": {},
     "output_type": "execute_result"
    }
   ],
   "source": [
    "data.keys()"
   ]
  },
  {
   "cell_type": "code",
   "execution_count": 33,
   "id": "improved-snake",
   "metadata": {},
   "outputs": [
    {
     "data": {
      "text/plain": [
       "{'basic': {'organization_name': 'not found',\n",
       "  'organizational_subpart': 'not found',\n",
       "  'enumeration_date': 'not found',\n",
       "  'last_updated': 'not found',\n",
       "  'status': 'not found',\n",
       "  'telephone_number': 'not found',\n",
       "  'title_or_position': 'not found',\n",
       "  'name_prefix': 'not found',\n",
       "  'name_suffix': 'not found',\n",
       "  'sole_proprietor': 'not found',\n",
       "  'gender': 'not found',\n",
       "  'name': 'Dr. Dr. Saumya Shetty'},\n",
       " 'document': {'idProof': False,\n",
       "  'registrationProof': False,\n",
       "  'establishment': False},\n",
       " 'address': [],\n",
       " 'taxonomies': [],\n",
       " 'practiceLocation': [],\n",
       " 'diseases': [],\n",
       " 'description': 'NA',\n",
       " 'steps': [0, 0, 0, 0],\n",
       " 'is_in_network': True,\n",
       " 'is_superDoc': False,\n",
       " 'location_ids': [],\n",
       " 'isActive': True,\n",
       " 'isApproved': False,\n",
       " 'availability': [],\n",
       " 'appointments': [{'cancelledBy': {'cancelledByPatient': False,\n",
       "    'cancelledByDoctor': False},\n",
       "   'bookedFor': '2021-02-25T10:30:00.000Z',\n",
       "   'paid': False,\n",
       "   'booked': False,\n",
       "   'approved': False,\n",
       "   'quiz': [],\n",
       "   '_id': '603745097fcc6c59ed6631f1',\n",
       "   'doctor': '603745067fcc6c59ed6631ee',\n",
       "   'createdAt': '2021-02-25T06:34:49.503Z',\n",
       "   'updatedAt': '2021-02-25T06:34:49.503Z',\n",
       "   '__enc_available_d': '',\n",
       "   '__enc_available': False,\n",
       "   '__v': 0,\n",
       "   'available': True},\n",
       "  {'cancelledBy': {'cancelledByPatient': False, 'cancelledByDoctor': False},\n",
       "   'bookedFor': '2021-02-25T12:30:00.000Z',\n",
       "   'paid': False,\n",
       "   'booked': False,\n",
       "   'approved': False,\n",
       "   'quiz': [],\n",
       "   '_id': '603745097fcc6c59ed6631f2',\n",
       "   'available': False,\n",
       "   'doctor': '603745067fcc6c59ed6631ee',\n",
       "   'createdAt': '2021-02-25T06:34:49.503Z',\n",
       "   'updatedAt': '2021-02-25T06:34:49.503Z',\n",
       "   '__v': 0},\n",
       "  {'cancelledBy': {'cancelledByPatient': False, 'cancelledByDoctor': False},\n",
       "   'bookedFor': '2021-02-25T14:30:00.000Z',\n",
       "   'paid': False,\n",
       "   'booked': False,\n",
       "   'approved': False,\n",
       "   'quiz': [],\n",
       "   '_id': '603745097fcc6c59ed6631f3',\n",
       "   'doctor': '603745067fcc6c59ed6631ee',\n",
       "   'createdAt': '2021-02-25T06:34:49.503Z',\n",
       "   'updatedAt': '2021-02-25T06:34:49.503Z',\n",
       "   '__enc_available_d': '',\n",
       "   '__enc_available': False,\n",
       "   '__v': 0,\n",
       "   'available': True},\n",
       "  {'cancelledBy': {'cancelledByPatient': False, 'cancelledByDoctor': False},\n",
       "   'bookedFor': '2021-02-25T16:30:00.000Z',\n",
       "   'paid': False,\n",
       "   'booked': False,\n",
       "   'approved': False,\n",
       "   'quiz': [],\n",
       "   '_id': '603745097fcc6c59ed6631f4',\n",
       "   'doctor': '603745067fcc6c59ed6631ee',\n",
       "   'createdAt': '2021-02-25T06:34:49.503Z',\n",
       "   'updatedAt': '2021-02-25T06:34:49.503Z',\n",
       "   '__enc_available_d': '',\n",
       "   '__enc_available': False,\n",
       "   '__v': 0,\n",
       "   'available': True},\n",
       "  {'cancelledBy': {'cancelledByPatient': False, 'cancelledByDoctor': False},\n",
       "   'bookedFor': '2021-02-25T18:30:00.000Z',\n",
       "   'paid': False,\n",
       "   'booked': False,\n",
       "   'approved': False,\n",
       "   'quiz': [],\n",
       "   '_id': '603745097fcc6c59ed6631f5',\n",
       "   'doctor': '603745067fcc6c59ed6631ee',\n",
       "   'createdAt': '2021-02-25T06:34:49.503Z',\n",
       "   'updatedAt': '2021-02-25T06:34:49.503Z',\n",
       "   '__enc_available_d': '',\n",
       "   '__enc_available': False,\n",
       "   '__v': 0,\n",
       "   'available': True},\n",
       "  {'cancelledBy': {'cancelledByPatient': False, 'cancelledByDoctor': False},\n",
       "   'bookedFor': '2021-02-25T20:30:00.000Z',\n",
       "   'paid': False,\n",
       "   'booked': False,\n",
       "   'approved': False,\n",
       "   'quiz': [],\n",
       "   '_id': '603745097fcc6c59ed6631f6',\n",
       "   'doctor': '603745067fcc6c59ed6631ee',\n",
       "   'createdAt': '2021-02-25T06:34:49.503Z',\n",
       "   'updatedAt': '2021-02-25T06:34:49.503Z',\n",
       "   '__enc_available_d': '',\n",
       "   '__enc_available': False,\n",
       "   '__v': 0,\n",
       "   'available': True},\n",
       "  {'cancelledBy': {'cancelledByPatient': False, 'cancelledByDoctor': False},\n",
       "   'bookedFor': '2021-02-26T10:30:00.000Z',\n",
       "   'paid': False,\n",
       "   'booked': False,\n",
       "   'approved': False,\n",
       "   'quiz': [],\n",
       "   '_id': '603745097fcc6c59ed6631f7',\n",
       "   'doctor': '603745067fcc6c59ed6631ee',\n",
       "   'createdAt': '2021-02-25T06:34:49.503Z',\n",
       "   'updatedAt': '2021-02-25T06:34:49.503Z',\n",
       "   '__enc_available_d': '',\n",
       "   '__enc_available': False,\n",
       "   '__v': 0,\n",
       "   'available': True},\n",
       "  {'cancelledBy': {'cancelledByPatient': False, 'cancelledByDoctor': False},\n",
       "   'bookedFor': '2021-02-26T12:30:00.000Z',\n",
       "   'paid': False,\n",
       "   'booked': False,\n",
       "   'approved': False,\n",
       "   'quiz': [],\n",
       "   '_id': '603745097fcc6c59ed6631f8',\n",
       "   'available': False,\n",
       "   'doctor': '603745067fcc6c59ed6631ee',\n",
       "   'createdAt': '2021-02-25T06:34:49.503Z',\n",
       "   'updatedAt': '2021-02-25T06:34:49.503Z',\n",
       "   '__v': 0},\n",
       "  {'cancelledBy': {'cancelledByPatient': False, 'cancelledByDoctor': False},\n",
       "   'bookedFor': '2021-02-26T14:30:00.000Z',\n",
       "   'paid': False,\n",
       "   'booked': False,\n",
       "   'approved': False,\n",
       "   'quiz': [],\n",
       "   '_id': '603745097fcc6c59ed6631f9',\n",
       "   'doctor': '603745067fcc6c59ed6631ee',\n",
       "   'createdAt': '2021-02-25T06:34:49.503Z',\n",
       "   'updatedAt': '2021-02-25T06:34:49.503Z',\n",
       "   '__enc_available_d': '',\n",
       "   '__enc_available': False,\n",
       "   '__v': 0,\n",
       "   'available': True},\n",
       "  {'cancelledBy': {'cancelledByPatient': False, 'cancelledByDoctor': False},\n",
       "   'bookedFor': '2021-02-26T16:30:00.000Z',\n",
       "   'paid': False,\n",
       "   'booked': False,\n",
       "   'approved': False,\n",
       "   'quiz': [],\n",
       "   '_id': '603745097fcc6c59ed6631fa',\n",
       "   'doctor': '603745067fcc6c59ed6631ee',\n",
       "   'createdAt': '2021-02-25T06:34:49.503Z',\n",
       "   'updatedAt': '2021-02-25T06:34:49.503Z',\n",
       "   '__enc_available_d': '',\n",
       "   '__enc_available': False,\n",
       "   '__v': 0,\n",
       "   'available': True},\n",
       "  {'cancelledBy': {'cancelledByPatient': False, 'cancelledByDoctor': False},\n",
       "   'bookedFor': '2021-02-26T18:30:00.000Z',\n",
       "   'paid': False,\n",
       "   'booked': False,\n",
       "   'approved': False,\n",
       "   'quiz': [],\n",
       "   '_id': '603745097fcc6c59ed6631fb',\n",
       "   'doctor': '603745067fcc6c59ed6631ee',\n",
       "   'createdAt': '2021-02-25T06:34:49.503Z',\n",
       "   'updatedAt': '2021-02-25T06:34:49.503Z',\n",
       "   '__enc_available_d': '',\n",
       "   '__enc_available': False,\n",
       "   '__v': 0,\n",
       "   'available': True},\n",
       "  {'cancelledBy': {'cancelledByPatient': False, 'cancelledByDoctor': False},\n",
       "   'bookedFor': '2021-02-26T20:30:00.000Z',\n",
       "   'paid': False,\n",
       "   'booked': False,\n",
       "   'approved': False,\n",
       "   'quiz': [],\n",
       "   '_id': '603745097fcc6c59ed6631fc',\n",
       "   'doctor': '603745067fcc6c59ed6631ee',\n",
       "   'createdAt': '2021-02-25T06:34:49.503Z',\n",
       "   'updatedAt': '2021-02-25T06:34:49.503Z',\n",
       "   '__enc_available_d': '',\n",
       "   '__enc_available': False,\n",
       "   '__v': 0,\n",
       "   'available': True}],\n",
       " 'picture': [],\n",
       " 'profileStatus': True,\n",
       " 'question': [],\n",
       " 'appointmentsString': '{\"duration\":\"15\",\"id\":\"\",\"weekdaysArr\":[{\"days\":[\"wednesday\",\"thursday\",\"friday\"],\"startTime\":\"02:30\",\"endTime\":\"11:30\",\"lunchStart\":\"06:30\",\"lunchEnd\":\"07:30\"},{\"days\":[\"monday\",\"tuesday\"],\"startTime\":\"03:30\",\"endTime\":\"12:30\",\"lunchStart\":\"06:30\",\"lunchEnd\":\"07:30\"}]}',\n",
       " 'onBoarding': False,\n",
       " 'referrals': [],\n",
       " 'latestAppointment': ['603745097fcc6c59ed6631f1',\n",
       "  '603745097fcc6c59ed6631f2',\n",
       "  '603745097fcc6c59ed6631f3'],\n",
       " 'payment': True,\n",
       " 'isAssistant': False,\n",
       " 'rights': [],\n",
       " 'assistants': [],\n",
       " 'charity': False,\n",
       " 'clinic': [],\n",
       " 'block': False,\n",
       " 'deviceToken': [],\n",
       " 'online': False,\n",
       " 'socket': [],\n",
       " 'conversations': [],\n",
       " 'WaitingRoomSocket': [],\n",
       " 'verify': False,\n",
       " '_id': '603745067fcc6c59ed6631ee',\n",
       " 'npi': '10003',\n",
       " 'email': 'Dr.SaumyaShetty@gmail.com',\n",
       " 'password': '985c201c0983d138a856ffb0c8d53890',\n",
       " 'specialty': 'Dermatologist,Cosmetologist,Special Interest in Trichology',\n",
       " 'customerProfile': 'cus_J0ekrnA9M6TSki',\n",
       " 'city': ' Mumbai',\n",
       " 'state': ' Mumbai',\n",
       " 'country': 'India',\n",
       " 'firstName': 'Dr.',\n",
       " 'lastName': 'Dr. Saumya Shetty',\n",
       " 'referralId': 'Dr.pFeYn_d',\n",
       " 'createdOn': '2021-02-25T06:34:46.100Z',\n",
       " 'education': [],\n",
       " 'PatientsWaiting': [],\n",
       " '__v': 0,\n",
       " 'meta': '603745067fcc6c59ed6631ef'}"
      ]
     },
     "execution_count": 33,
     "metadata": {},
     "output_type": "execute_result"
    }
   ],
   "source": [
    "r.json()['data']"
   ]
  },
  {
   "cell_type": "code",
   "execution_count": null,
   "id": "alternate-coffee",
   "metadata": {},
   "outputs": [],
   "source": [
    "r = requests.post('https://server.mddocz.com/doctors/profile/update', json = payload)"
   ]
  },
  {
   "cell_type": "code",
   "execution_count": 35,
   "id": "durable-music",
   "metadata": {},
   "outputs": [
    {
     "data": {
      "text/plain": [
       "{'name': 'Dr. Saumya Shetty',\n",
       " 'qualification': 'MBBS, MD - Dermatology , Venereology & Leprosy',\n",
       " 'lives': '305, The Central Building, Shell Colony Road, Landmark: Near Old Jenny Photo Studio, Mumbai',\n",
       " 'specilization': 'Dermatologist,Cosmetologist,Special Interest in Trichology',\n",
       " 'education': 'MBBS - Bharati Vidyapeeth University, Pune, 2011,MD - Dermatology , Venereology & Leprosy - Krishna Institute of Medical Sciences, Karad, 2014'}"
      ]
     },
     "execution_count": 35,
     "metadata": {},
     "output_type": "execute_result"
    }
   ],
   "source": [
    "dat"
   ]
  },
  {
   "cell_type": "code",
   "execution_count": 73,
   "id": "casual-watts",
   "metadata": {},
   "outputs": [],
   "source": [
    "'''payload = {'firstName':'Dr.',\n",
    "          'lastName':dat['name'],\n",
    "          'email':''.join(dat['name'].split(\" \"))+'@gmail.com',\n",
    "          'country':'India',\n",
    "          'state':dat['lives'].split(\",\")[-1],\n",
    "          'city':dat['lives'].split(\",\")[-1],\n",
    "          'password':'DemoDoc@1234',\n",
    "          'basic':{},\n",
    "          'specialty':dat['specilization'],\n",
    "          'registration_number':'10003'}'''\n",
    "payload = {\n",
    "    'id': '603745067fcc6c59ed6631ee',\n",
    "    'education':entry\n",
    "}\n",
    "r = requests.post('https://server.mddocz.com/doctors/profile/update', json = payload)"
   ]
  },
  {
   "cell_type": "code",
   "execution_count": null,
   "id": "wooden-platform",
   "metadata": {},
   "outputs": [],
   "source": []
  },
  {
   "cell_type": "code",
   "execution_count": 47,
   "id": "official-austin",
   "metadata": {},
   "outputs": [],
   "source": [
    "r = requests.get('https://server.mddocz.com/doctors/getDoc/603745067fcc6c59ed6631ee')"
   ]
  },
  {
   "cell_type": "code",
   "execution_count": 50,
   "id": "waiting-terrorist",
   "metadata": {},
   "outputs": [
    {
     "data": {
      "text/plain": [
       "{'basic': {'organization_name': 'not found',\n",
       "  'organizational_subpart': 'not found',\n",
       "  'enumeration_date': 'not found',\n",
       "  'last_updated': 'not found',\n",
       "  'status': 'not found',\n",
       "  'telephone_number': 'not found',\n",
       "  'title_or_position': 'not found',\n",
       "  'name_prefix': 'not found',\n",
       "  'name_suffix': 'not found',\n",
       "  'sole_proprietor': 'not found',\n",
       "  'gender': 'not found',\n",
       "  'name': 'Dr. Dr. Saumya Shetty'},\n",
       " 'document': {'idProof': False,\n",
       "  'registrationProof': False,\n",
       "  'establishment': False},\n",
       " 'address': [],\n",
       " 'taxonomies': [],\n",
       " 'practiceLocation': [],\n",
       " 'diseases': [],\n",
       " 'description': 'NA',\n",
       " 'steps': [0, 0, 0, 0],\n",
       " 'is_in_network': True,\n",
       " 'is_superDoc': False,\n",
       " 'location_ids': [],\n",
       " 'isActive': True,\n",
       " 'isApproved': False,\n",
       " 'availability': [],\n",
       " 'appointments': [{'cancelledBy': {'cancelledByPatient': False,\n",
       "    'cancelledByDoctor': False},\n",
       "   'bookedFor': '2021-02-25T10:30:00.000Z',\n",
       "   'paid': False,\n",
       "   'booked': False,\n",
       "   'approved': False,\n",
       "   'quiz': [],\n",
       "   '_id': '603745097fcc6c59ed6631f1',\n",
       "   'doctor': '603745067fcc6c59ed6631ee',\n",
       "   'createdAt': '2021-02-25T06:34:49.503Z',\n",
       "   'updatedAt': '2021-02-25T06:34:49.503Z',\n",
       "   '__enc_available_d': '',\n",
       "   '__enc_available': False,\n",
       "   '__v': 0,\n",
       "   'available': True},\n",
       "  {'cancelledBy': {'cancelledByPatient': False, 'cancelledByDoctor': False},\n",
       "   'bookedFor': '2021-02-25T12:30:00.000Z',\n",
       "   'paid': False,\n",
       "   'booked': False,\n",
       "   'approved': False,\n",
       "   'quiz': [],\n",
       "   '_id': '603745097fcc6c59ed6631f2',\n",
       "   'available': False,\n",
       "   'doctor': '603745067fcc6c59ed6631ee',\n",
       "   'createdAt': '2021-02-25T06:34:49.503Z',\n",
       "   'updatedAt': '2021-02-25T06:34:49.503Z',\n",
       "   '__v': 0},\n",
       "  {'cancelledBy': {'cancelledByPatient': False, 'cancelledByDoctor': False},\n",
       "   'bookedFor': '2021-02-25T14:30:00.000Z',\n",
       "   'paid': False,\n",
       "   'booked': False,\n",
       "   'approved': False,\n",
       "   'quiz': [],\n",
       "   '_id': '603745097fcc6c59ed6631f3',\n",
       "   'doctor': '603745067fcc6c59ed6631ee',\n",
       "   'createdAt': '2021-02-25T06:34:49.503Z',\n",
       "   'updatedAt': '2021-02-25T06:34:49.503Z',\n",
       "   '__enc_available_d': '',\n",
       "   '__enc_available': False,\n",
       "   '__v': 0,\n",
       "   'available': True},\n",
       "  {'cancelledBy': {'cancelledByPatient': False, 'cancelledByDoctor': False},\n",
       "   'bookedFor': '2021-02-25T16:30:00.000Z',\n",
       "   'paid': False,\n",
       "   'booked': False,\n",
       "   'approved': False,\n",
       "   'quiz': [],\n",
       "   '_id': '603745097fcc6c59ed6631f4',\n",
       "   'doctor': '603745067fcc6c59ed6631ee',\n",
       "   'createdAt': '2021-02-25T06:34:49.503Z',\n",
       "   'updatedAt': '2021-02-25T06:34:49.503Z',\n",
       "   '__enc_available_d': '',\n",
       "   '__enc_available': False,\n",
       "   '__v': 0,\n",
       "   'available': True},\n",
       "  {'cancelledBy': {'cancelledByPatient': False, 'cancelledByDoctor': False},\n",
       "   'bookedFor': '2021-02-25T18:30:00.000Z',\n",
       "   'paid': False,\n",
       "   'booked': False,\n",
       "   'approved': False,\n",
       "   'quiz': [],\n",
       "   '_id': '603745097fcc6c59ed6631f5',\n",
       "   'doctor': '603745067fcc6c59ed6631ee',\n",
       "   'createdAt': '2021-02-25T06:34:49.503Z',\n",
       "   'updatedAt': '2021-02-25T06:34:49.503Z',\n",
       "   '__enc_available_d': '',\n",
       "   '__enc_available': False,\n",
       "   '__v': 0,\n",
       "   'available': True},\n",
       "  {'cancelledBy': {'cancelledByPatient': False, 'cancelledByDoctor': False},\n",
       "   'bookedFor': '2021-02-25T20:30:00.000Z',\n",
       "   'paid': False,\n",
       "   'booked': False,\n",
       "   'approved': False,\n",
       "   'quiz': [],\n",
       "   '_id': '603745097fcc6c59ed6631f6',\n",
       "   'doctor': '603745067fcc6c59ed6631ee',\n",
       "   'createdAt': '2021-02-25T06:34:49.503Z',\n",
       "   'updatedAt': '2021-02-25T06:34:49.503Z',\n",
       "   '__enc_available_d': '',\n",
       "   '__enc_available': False,\n",
       "   '__v': 0,\n",
       "   'available': True},\n",
       "  {'cancelledBy': {'cancelledByPatient': False, 'cancelledByDoctor': False},\n",
       "   'bookedFor': '2021-02-26T10:30:00.000Z',\n",
       "   'paid': False,\n",
       "   'booked': False,\n",
       "   'approved': False,\n",
       "   'quiz': [],\n",
       "   '_id': '603745097fcc6c59ed6631f7',\n",
       "   'doctor': '603745067fcc6c59ed6631ee',\n",
       "   'createdAt': '2021-02-25T06:34:49.503Z',\n",
       "   'updatedAt': '2021-02-25T06:34:49.503Z',\n",
       "   '__enc_available_d': '',\n",
       "   '__enc_available': False,\n",
       "   '__v': 0,\n",
       "   'available': True},\n",
       "  {'cancelledBy': {'cancelledByPatient': False, 'cancelledByDoctor': False},\n",
       "   'bookedFor': '2021-02-26T12:30:00.000Z',\n",
       "   'paid': False,\n",
       "   'booked': False,\n",
       "   'approved': False,\n",
       "   'quiz': [],\n",
       "   '_id': '603745097fcc6c59ed6631f8',\n",
       "   'available': False,\n",
       "   'doctor': '603745067fcc6c59ed6631ee',\n",
       "   'createdAt': '2021-02-25T06:34:49.503Z',\n",
       "   'updatedAt': '2021-02-25T06:34:49.503Z',\n",
       "   '__v': 0},\n",
       "  {'cancelledBy': {'cancelledByPatient': False, 'cancelledByDoctor': False},\n",
       "   'bookedFor': '2021-02-26T14:30:00.000Z',\n",
       "   'paid': False,\n",
       "   'booked': False,\n",
       "   'approved': False,\n",
       "   'quiz': [],\n",
       "   '_id': '603745097fcc6c59ed6631f9',\n",
       "   'doctor': '603745067fcc6c59ed6631ee',\n",
       "   'createdAt': '2021-02-25T06:34:49.503Z',\n",
       "   'updatedAt': '2021-02-25T06:34:49.503Z',\n",
       "   '__enc_available_d': '',\n",
       "   '__enc_available': False,\n",
       "   '__v': 0,\n",
       "   'available': True},\n",
       "  {'cancelledBy': {'cancelledByPatient': False, 'cancelledByDoctor': False},\n",
       "   'bookedFor': '2021-02-26T16:30:00.000Z',\n",
       "   'paid': False,\n",
       "   'booked': False,\n",
       "   'approved': False,\n",
       "   'quiz': [],\n",
       "   '_id': '603745097fcc6c59ed6631fa',\n",
       "   'doctor': '603745067fcc6c59ed6631ee',\n",
       "   'createdAt': '2021-02-25T06:34:49.503Z',\n",
       "   'updatedAt': '2021-02-25T06:34:49.503Z',\n",
       "   '__enc_available_d': '',\n",
       "   '__enc_available': False,\n",
       "   '__v': 0,\n",
       "   'available': True},\n",
       "  {'cancelledBy': {'cancelledByPatient': False, 'cancelledByDoctor': False},\n",
       "   'bookedFor': '2021-02-26T18:30:00.000Z',\n",
       "   'paid': False,\n",
       "   'booked': False,\n",
       "   'approved': False,\n",
       "   'quiz': [],\n",
       "   '_id': '603745097fcc6c59ed6631fb',\n",
       "   'doctor': '603745067fcc6c59ed6631ee',\n",
       "   'createdAt': '2021-02-25T06:34:49.503Z',\n",
       "   'updatedAt': '2021-02-25T06:34:49.503Z',\n",
       "   '__enc_available_d': '',\n",
       "   '__enc_available': False,\n",
       "   '__v': 0,\n",
       "   'available': True},\n",
       "  {'cancelledBy': {'cancelledByPatient': False, 'cancelledByDoctor': False},\n",
       "   'bookedFor': '2021-02-26T20:30:00.000Z',\n",
       "   'paid': False,\n",
       "   'booked': False,\n",
       "   'approved': False,\n",
       "   'quiz': [],\n",
       "   '_id': '603745097fcc6c59ed6631fc',\n",
       "   'doctor': '603745067fcc6c59ed6631ee',\n",
       "   'createdAt': '2021-02-25T06:34:49.503Z',\n",
       "   'updatedAt': '2021-02-25T06:34:49.503Z',\n",
       "   '__enc_available_d': '',\n",
       "   '__enc_available': False,\n",
       "   '__v': 0,\n",
       "   'available': True}],\n",
       " 'picture': [],\n",
       " 'profileStatus': True,\n",
       " 'question': [],\n",
       " 'appointmentsString': '{\"duration\":\"15\",\"id\":\"\",\"weekdaysArr\":[{\"days\":[\"wednesday\",\"thursday\",\"friday\"],\"startTime\":\"02:30\",\"endTime\":\"11:30\",\"lunchStart\":\"06:30\",\"lunchEnd\":\"07:30\"},{\"days\":[\"monday\",\"tuesday\"],\"startTime\":\"03:30\",\"endTime\":\"12:30\",\"lunchStart\":\"06:30\",\"lunchEnd\":\"07:30\"}]}',\n",
       " 'onBoarding': False,\n",
       " 'referrals': [],\n",
       " 'latestAppointment': ['603745097fcc6c59ed6631f1',\n",
       "  '603745097fcc6c59ed6631f2',\n",
       "  '603745097fcc6c59ed6631f3'],\n",
       " 'payment': True,\n",
       " 'isAssistant': False,\n",
       " 'rights': [],\n",
       " 'assistants': [],\n",
       " 'charity': False,\n",
       " 'clinic': [],\n",
       " 'block': False,\n",
       " 'deviceToken': [],\n",
       " 'online': False,\n",
       " 'socket': [],\n",
       " 'conversations': [],\n",
       " 'WaitingRoomSocket': [],\n",
       " 'verify': False,\n",
       " '_id': '603745067fcc6c59ed6631ee',\n",
       " 'npi': '10003',\n",
       " 'email': 'Dr.SaumyaShetty@gmail.com',\n",
       " 'password': '985c201c0983d138a856ffb0c8d53890',\n",
       " 'specialty': 'Dermatologist,Cosmetologist,Special Interest in Trichology',\n",
       " 'customerProfile': 'cus_J0ekrnA9M6TSki',\n",
       " 'city': ' Mumbai',\n",
       " 'state': ' Mumbai',\n",
       " 'country': 'India',\n",
       " 'firstName': 'Dr.',\n",
       " 'lastName': 'Dr. Saumya Shetty',\n",
       " 'referralId': 'Dr.pFeYn_d',\n",
       " 'createdOn': '2021-02-25T06:34:46.100Z',\n",
       " 'education': [],\n",
       " 'PatientsWaiting': [],\n",
       " '__v': 0,\n",
       " 'meta': '603745067fcc6c59ed6631ef'}"
      ]
     },
     "execution_count": 50,
     "metadata": {},
     "output_type": "execute_result"
    }
   ],
   "source": [
    "r.json()['data']"
   ]
  },
  {
   "cell_type": "code",
   "execution_count": 59,
   "id": "coordinate-chaos",
   "metadata": {},
   "outputs": [],
   "source": [
    "entry = dat['education']"
   ]
  },
  {
   "cell_type": "code",
   "execution_count": 61,
   "id": "pleased-encounter",
   "metadata": {},
   "outputs": [],
   "source": [
    "def spliter(data):\n",
    "    i=0\n",
    "    j=0\n",
    "    arr = []\n",
    "    print(len(data))\n",
    "    while(j+1!=len(data)):\n",
    "        try:\n",
    "            if(data[j] == ',' and data[j+1] != ' ' ):\n",
    "                m = data[i:j]\n",
    "                arr.append(m)\n",
    "                \n",
    "                i = j+1\n",
    "                j = j+2\n",
    "            else:\n",
    "                j+=1\n",
    "        finally:\n",
    "            j+=1\n",
    "    arr.append(data[i:j+1])\n",
    "    return arr"
   ]
  },
  {
   "cell_type": "code",
   "execution_count": 63,
   "id": "unsigned-question",
   "metadata": {},
   "outputs": [
    {
     "name": "stdout",
     "output_type": "stream",
     "text": [
      "142\n"
     ]
    }
   ],
   "source": [
    "prep = spliter(entry)"
   ]
  },
  {
   "cell_type": "code",
   "execution_count": 71,
   "id": "opposed-bosnia",
   "metadata": {},
   "outputs": [],
   "source": [
    "entry = []\n",
    "for i in prep:\n",
    "    x = i.split(', ')\n",
    "    entry.append(\n",
    "        {\n",
    "            'degree':x[0].split(' - ')[0],\n",
    "            'university':x[0].split(' - ')[1],\n",
    "            'year':x[-1]\n",
    "        }\n",
    "    )    "
   ]
  },
  {
   "cell_type": "code",
   "execution_count": 72,
   "id": "aquatic-april",
   "metadata": {},
   "outputs": [
    {
     "data": {
      "text/plain": [
       "[{'degree': 'MBBS',\n",
       "  'university': 'Bharati Vidyapeeth University',\n",
       "  'year': '2011'},\n",
       " {'degree': 'MD', 'university': 'Dermatology ', 'year': '2014'}]"
      ]
     },
     "execution_count": 72,
     "metadata": {},
     "output_type": "execute_result"
    }
   ],
   "source": [
    "entry"
   ]
  },
  {
   "cell_type": "code",
   "execution_count": 4,
   "id": "absent-reading",
   "metadata": {},
   "outputs": [],
   "source": [
    "#getting data from database\n",
    "def retrive_data():\n",
    "    conn = ps.connect(\n",
    "        host = '127.0.0.1',\n",
    "        database = 'zocdoc',\n",
    "        user = 'postgres',\n",
    "        password = 'ss123546',\n",
    "    )\n",
    "    cur = conn.cursor()\n",
    "    cur.execute(\"select * from zocdoc_data\")\n",
    "    data = cur.fetchall()\n",
    "    return data"
   ]
  },
  {
   "cell_type": "code",
   "execution_count": 5,
   "id": "agreed-chorus",
   "metadata": {},
   "outputs": [],
   "source": [
    "data = retrive_data()"
   ]
  },
  {
   "cell_type": "code",
   "execution_count": null,
   "id": "artificial-healing",
   "metadata": {},
   "outputs": [
    {
     "name": "stderr",
     "output_type": "stream",
     "text": [
      "  0%|                                                                               | 1/1009 [00:23<6:36:32, 23.60s/it]"
     ]
    },
    {
     "name": "stdout",
     "output_type": "stream",
     "text": [
      "something wrong <html>\r\n",
      "<head><title>502 Bad Gateway</title></head>\r\n",
      "<body>\r\n",
      "<center><h1>502 Bad Gateway</h1></center>\r\n",
      "<hr><center>nginx/1.18.0 (Ubuntu)</center>\r\n",
      "</body>\r\n",
      "</html>\r\n",
      "\n"
     ]
    },
    {
     "name": "stderr",
     "output_type": "stream",
     "text": [
      "\r",
      "  0%|▏                                                                              | 2/1009 [00:23<2:46:16,  9.91s/it]"
     ]
    },
    {
     "name": "stdout",
     "output_type": "stream",
     "text": [
      "something wrong <html>\r\n",
      "<head><title>502 Bad Gateway</title></head>\r\n",
      "<body>\r\n",
      "<center><h1>502 Bad Gateway</h1></center>\r\n",
      "<hr><center>nginx/1.18.0 (Ubuntu)</center>\r\n",
      "</body>\r\n",
      "</html>\r\n",
      "\n"
     ]
    },
    {
     "name": "stderr",
     "output_type": "stream",
     "text": [
      "\r",
      "  0%|▏                                                                              | 3/1009 [00:24<1:32:26,  5.51s/it]"
     ]
    },
    {
     "name": "stdout",
     "output_type": "stream",
     "text": [
      "something wrong <html>\r\n",
      "<head><title>502 Bad Gateway</title></head>\r\n",
      "<body>\r\n",
      "<center><h1>502 Bad Gateway</h1></center>\r\n",
      "<hr><center>nginx/1.18.0 (Ubuntu)</center>\r\n",
      "</body>\r\n",
      "</html>\r\n",
      "\n"
     ]
    },
    {
     "name": "stderr",
     "output_type": "stream",
     "text": [
      "\r",
      "  0%|▎                                                                                | 4/1009 [00:24<57:51,  3.45s/it]"
     ]
    },
    {
     "name": "stdout",
     "output_type": "stream",
     "text": [
      "something wrong <html>\r\n",
      "<head><title>502 Bad Gateway</title></head>\r\n",
      "<body>\r\n",
      "<center><h1>502 Bad Gateway</h1></center>\r\n",
      "<hr><center>nginx/1.18.0 (Ubuntu)</center>\r\n",
      "</body>\r\n",
      "</html>\r\n",
      "\n"
     ]
    },
    {
     "name": "stderr",
     "output_type": "stream",
     "text": [
      "\r",
      "  0%|▍                                                                                | 5/1009 [00:24<38:52,  2.32s/it]"
     ]
    },
    {
     "name": "stdout",
     "output_type": "stream",
     "text": [
      "something wrong <html>\r\n",
      "<head><title>502 Bad Gateway</title></head>\r\n",
      "<body>\r\n",
      "<center><h1>502 Bad Gateway</h1></center>\r\n",
      "<hr><center>nginx/1.18.0 (Ubuntu)</center>\r\n",
      "</body>\r\n",
      "</html>\r\n",
      "\n"
     ]
    },
    {
     "name": "stderr",
     "output_type": "stream",
     "text": [
      "\r",
      "  1%|▍                                                                                | 6/1009 [00:25<27:26,  1.64s/it]"
     ]
    },
    {
     "name": "stdout",
     "output_type": "stream",
     "text": [
      "something wrong <html>\r\n",
      "<head><title>502 Bad Gateway</title></head>\r\n",
      "<body>\r\n",
      "<center><h1>502 Bad Gateway</h1></center>\r\n",
      "<hr><center>nginx/1.18.0 (Ubuntu)</center>\r\n",
      "</body>\r\n",
      "</html>\r\n",
      "\n"
     ]
    },
    {
     "name": "stderr",
     "output_type": "stream",
     "text": [
      "\r",
      "  1%|▌                                                                                | 7/1009 [00:25<20:10,  1.21s/it]"
     ]
    },
    {
     "name": "stdout",
     "output_type": "stream",
     "text": [
      "something wrong <html>\r\n",
      "<head><title>502 Bad Gateway</title></head>\r\n",
      "<body>\r\n",
      "<center><h1>502 Bad Gateway</h1></center>\r\n",
      "<hr><center>nginx/1.18.0 (Ubuntu)</center>\r\n",
      "</body>\r\n",
      "</html>\r\n",
      "\n"
     ]
    },
    {
     "name": "stderr",
     "output_type": "stream",
     "text": [
      "\r",
      "  1%|▋                                                                                | 8/1009 [00:25<15:20,  1.09it/s]"
     ]
    },
    {
     "name": "stdout",
     "output_type": "stream",
     "text": [
      "something wrong <html>\r\n",
      "<head><title>502 Bad Gateway</title></head>\r\n",
      "<body>\r\n",
      "<center><h1>502 Bad Gateway</h1></center>\r\n",
      "<hr><center>nginx/1.18.0 (Ubuntu)</center>\r\n",
      "</body>\r\n",
      "</html>\r\n",
      "\n"
     ]
    },
    {
     "name": "stderr",
     "output_type": "stream",
     "text": [
      "\r",
      "  1%|▋                                                                                | 9/1009 [00:26<12:09,  1.37it/s]"
     ]
    },
    {
     "name": "stdout",
     "output_type": "stream",
     "text": [
      "something wrong <html>\r\n",
      "<head><title>502 Bad Gateway</title></head>\r\n",
      "<body>\r\n",
      "<center><h1>502 Bad Gateway</h1></center>\r\n",
      "<hr><center>nginx/1.18.0 (Ubuntu)</center>\r\n",
      "</body>\r\n",
      "</html>\r\n",
      "\n"
     ]
    },
    {
     "name": "stderr",
     "output_type": "stream",
     "text": [
      "\r",
      "  1%|▊                                                                               | 10/1009 [00:26<09:57,  1.67it/s]"
     ]
    },
    {
     "name": "stdout",
     "output_type": "stream",
     "text": [
      "something wrong <html>\r\n",
      "<head><title>502 Bad Gateway</title></head>\r\n",
      "<body>\r\n",
      "<center><h1>502 Bad Gateway</h1></center>\r\n",
      "<hr><center>nginx/1.18.0 (Ubuntu)</center>\r\n",
      "</body>\r\n",
      "</html>\r\n",
      "\n"
     ]
    },
    {
     "name": "stderr",
     "output_type": "stream",
     "text": [
      "\r",
      "  1%|▊                                                                               | 11/1009 [00:26<08:25,  1.97it/s]"
     ]
    },
    {
     "name": "stdout",
     "output_type": "stream",
     "text": [
      "something wrong <html>\r\n",
      "<head><title>502 Bad Gateway</title></head>\r\n",
      "<body>\r\n",
      "<center><h1>502 Bad Gateway</h1></center>\r\n",
      "<hr><center>nginx/1.18.0 (Ubuntu)</center>\r\n",
      "</body>\r\n",
      "</html>\r\n",
      "\n"
     ]
    },
    {
     "name": "stderr",
     "output_type": "stream",
     "text": [
      "\r",
      "  1%|▉                                                                               | 12/1009 [00:26<07:23,  2.25it/s]"
     ]
    },
    {
     "name": "stdout",
     "output_type": "stream",
     "text": [
      "something wrong <html>\r\n",
      "<head><title>502 Bad Gateway</title></head>\r\n",
      "<body>\r\n",
      "<center><h1>502 Bad Gateway</h1></center>\r\n",
      "<hr><center>nginx/1.18.0 (Ubuntu)</center>\r\n",
      "</body>\r\n",
      "</html>\r\n",
      "\n"
     ]
    },
    {
     "name": "stderr",
     "output_type": "stream",
     "text": [
      "\r",
      "  1%|█                                                                               | 13/1009 [00:27<06:38,  2.50it/s]"
     ]
    },
    {
     "name": "stdout",
     "output_type": "stream",
     "text": [
      "something wrong <html>\r\n",
      "<head><title>502 Bad Gateway</title></head>\r\n",
      "<body>\r\n",
      "<center><h1>502 Bad Gateway</h1></center>\r\n",
      "<hr><center>nginx/1.18.0 (Ubuntu)</center>\r\n",
      "</body>\r\n",
      "</html>\r\n",
      "\n"
     ]
    },
    {
     "name": "stderr",
     "output_type": "stream",
     "text": [
      "\r",
      "  1%|█                                                                               | 14/1009 [00:27<06:13,  2.67it/s]"
     ]
    },
    {
     "name": "stdout",
     "output_type": "stream",
     "text": [
      "something wrong <html>\r\n",
      "<head><title>502 Bad Gateway</title></head>\r\n",
      "<body>\r\n",
      "<center><h1>502 Bad Gateway</h1></center>\r\n",
      "<hr><center>nginx/1.18.0 (Ubuntu)</center>\r\n",
      "</body>\r\n",
      "</html>\r\n",
      "\n"
     ]
    },
    {
     "name": "stderr",
     "output_type": "stream",
     "text": [
      "\r",
      "  1%|█▏                                                                              | 15/1009 [00:27<05:54,  2.80it/s]"
     ]
    },
    {
     "name": "stdout",
     "output_type": "stream",
     "text": [
      "something wrong <html>\r\n",
      "<head><title>502 Bad Gateway</title></head>\r\n",
      "<body>\r\n",
      "<center><h1>502 Bad Gateway</h1></center>\r\n",
      "<hr><center>nginx/1.18.0 (Ubuntu)</center>\r\n",
      "</body>\r\n",
      "</html>\r\n",
      "\n"
     ]
    },
    {
     "name": "stderr",
     "output_type": "stream",
     "text": [
      "\r",
      "  2%|█▎                                                                              | 16/1009 [00:28<05:37,  2.94it/s]"
     ]
    },
    {
     "name": "stdout",
     "output_type": "stream",
     "text": [
      "something wrong <html>\r\n",
      "<head><title>502 Bad Gateway</title></head>\r\n",
      "<body>\r\n",
      "<center><h1>502 Bad Gateway</h1></center>\r\n",
      "<hr><center>nginx/1.18.0 (Ubuntu)</center>\r\n",
      "</body>\r\n",
      "</html>\r\n",
      "\n"
     ]
    },
    {
     "name": "stderr",
     "output_type": "stream",
     "text": [
      "\r",
      "  2%|█▎                                                                              | 17/1009 [00:28<05:25,  3.05it/s]"
     ]
    },
    {
     "name": "stdout",
     "output_type": "stream",
     "text": [
      "something wrong <html>\r\n",
      "<head><title>502 Bad Gateway</title></head>\r\n",
      "<body>\r\n",
      "<center><h1>502 Bad Gateway</h1></center>\r\n",
      "<hr><center>nginx/1.18.0 (Ubuntu)</center>\r\n",
      "</body>\r\n",
      "</html>\r\n",
      "\n"
     ]
    },
    {
     "name": "stderr",
     "output_type": "stream",
     "text": [
      "\r",
      "  2%|█▍                                                                              | 18/1009 [00:28<05:22,  3.08it/s]"
     ]
    },
    {
     "name": "stdout",
     "output_type": "stream",
     "text": [
      "something wrong <html>\r\n",
      "<head><title>502 Bad Gateway</title></head>\r\n",
      "<body>\r\n",
      "<center><h1>502 Bad Gateway</h1></center>\r\n",
      "<hr><center>nginx/1.18.0 (Ubuntu)</center>\r\n",
      "</body>\r\n",
      "</html>\r\n",
      "\n"
     ]
    },
    {
     "name": "stderr",
     "output_type": "stream",
     "text": [
      "\r",
      "  2%|█▌                                                                              | 19/1009 [00:29<05:19,  3.10it/s]"
     ]
    },
    {
     "name": "stdout",
     "output_type": "stream",
     "text": [
      "something wrong <html>\r\n",
      "<head><title>502 Bad Gateway</title></head>\r\n",
      "<body>\r\n",
      "<center><h1>502 Bad Gateway</h1></center>\r\n",
      "<hr><center>nginx/1.18.0 (Ubuntu)</center>\r\n",
      "</body>\r\n",
      "</html>\r\n",
      "\n"
     ]
    },
    {
     "name": "stderr",
     "output_type": "stream",
     "text": [
      "\r",
      "  2%|█▌                                                                              | 20/1009 [00:29<05:11,  3.17it/s]"
     ]
    },
    {
     "name": "stdout",
     "output_type": "stream",
     "text": [
      "something wrong <html>\r\n",
      "<head><title>502 Bad Gateway</title></head>\r\n",
      "<body>\r\n",
      "<center><h1>502 Bad Gateway</h1></center>\r\n",
      "<hr><center>nginx/1.18.0 (Ubuntu)</center>\r\n",
      "</body>\r\n",
      "</html>\r\n",
      "\n"
     ]
    },
    {
     "name": "stderr",
     "output_type": "stream",
     "text": [
      "\r",
      "  2%|█▋                                                                              | 21/1009 [00:29<05:02,  3.26it/s]"
     ]
    },
    {
     "name": "stdout",
     "output_type": "stream",
     "text": [
      "something wrong <html>\r\n",
      "<head><title>502 Bad Gateway</title></head>\r\n",
      "<body>\r\n",
      "<center><h1>502 Bad Gateway</h1></center>\r\n",
      "<hr><center>nginx/1.18.0 (Ubuntu)</center>\r\n",
      "</body>\r\n",
      "</html>\r\n",
      "\n"
     ]
    },
    {
     "name": "stderr",
     "output_type": "stream",
     "text": [
      "\r",
      "  2%|█▋                                                                              | 22/1009 [00:30<05:05,  3.23it/s]"
     ]
    },
    {
     "name": "stdout",
     "output_type": "stream",
     "text": [
      "something wrong <html>\r\n",
      "<head><title>502 Bad Gateway</title></head>\r\n",
      "<body>\r\n",
      "<center><h1>502 Bad Gateway</h1></center>\r\n",
      "<hr><center>nginx/1.18.0 (Ubuntu)</center>\r\n",
      "</body>\r\n",
      "</html>\r\n",
      "\n"
     ]
    },
    {
     "name": "stderr",
     "output_type": "stream",
     "text": [
      "\r",
      "  2%|█▊                                                                              | 23/1009 [00:30<05:01,  3.27it/s]"
     ]
    },
    {
     "name": "stdout",
     "output_type": "stream",
     "text": [
      "something wrong <html>\r\n",
      "<head><title>502 Bad Gateway</title></head>\r\n",
      "<body>\r\n",
      "<center><h1>502 Bad Gateway</h1></center>\r\n",
      "<hr><center>nginx/1.18.0 (Ubuntu)</center>\r\n",
      "</body>\r\n",
      "</html>\r\n",
      "\n"
     ]
    },
    {
     "name": "stderr",
     "output_type": "stream",
     "text": [
      "\r",
      "  2%|█▉                                                                              | 24/1009 [00:30<05:09,  3.19it/s]"
     ]
    },
    {
     "name": "stdout",
     "output_type": "stream",
     "text": [
      "something wrong <html>\r\n",
      "<head><title>502 Bad Gateway</title></head>\r\n",
      "<body>\r\n",
      "<center><h1>502 Bad Gateway</h1></center>\r\n",
      "<hr><center>nginx/1.18.0 (Ubuntu)</center>\r\n",
      "</body>\r\n",
      "</html>\r\n",
      "\n"
     ]
    },
    {
     "name": "stderr",
     "output_type": "stream",
     "text": [
      "\r",
      "  2%|█▉                                                                              | 25/1009 [00:30<05:05,  3.23it/s]"
     ]
    },
    {
     "name": "stdout",
     "output_type": "stream",
     "text": [
      "something wrong <html>\r\n",
      "<head><title>502 Bad Gateway</title></head>\r\n",
      "<body>\r\n",
      "<center><h1>502 Bad Gateway</h1></center>\r\n",
      "<hr><center>nginx/1.18.0 (Ubuntu)</center>\r\n",
      "</body>\r\n",
      "</html>\r\n",
      "\n"
     ]
    },
    {
     "name": "stderr",
     "output_type": "stream",
     "text": [
      "\r",
      "  3%|██                                                                              | 26/1009 [00:31<05:04,  3.23it/s]"
     ]
    },
    {
     "name": "stdout",
     "output_type": "stream",
     "text": [
      "something wrong <html>\r\n",
      "<head><title>502 Bad Gateway</title></head>\r\n",
      "<body>\r\n",
      "<center><h1>502 Bad Gateway</h1></center>\r\n",
      "<hr><center>nginx/1.18.0 (Ubuntu)</center>\r\n",
      "</body>\r\n",
      "</html>\r\n",
      "\n"
     ]
    },
    {
     "name": "stderr",
     "output_type": "stream",
     "text": [
      "\r",
      "  3%|██▏                                                                             | 27/1009 [00:31<05:03,  3.23it/s]"
     ]
    },
    {
     "name": "stdout",
     "output_type": "stream",
     "text": [
      "something wrong <html>\r\n",
      "<head><title>502 Bad Gateway</title></head>\r\n",
      "<body>\r\n",
      "<center><h1>502 Bad Gateway</h1></center>\r\n",
      "<hr><center>nginx/1.18.0 (Ubuntu)</center>\r\n",
      "</body>\r\n",
      "</html>\r\n",
      "\n"
     ]
    },
    {
     "name": "stderr",
     "output_type": "stream",
     "text": [
      "\r",
      "  3%|██▏                                                                             | 28/1009 [00:31<05:00,  3.26it/s]"
     ]
    },
    {
     "name": "stdout",
     "output_type": "stream",
     "text": [
      "something wrong <html>\r\n",
      "<head><title>502 Bad Gateway</title></head>\r\n",
      "<body>\r\n",
      "<center><h1>502 Bad Gateway</h1></center>\r\n",
      "<hr><center>nginx/1.18.0 (Ubuntu)</center>\r\n",
      "</body>\r\n",
      "</html>\r\n",
      "\n"
     ]
    },
    {
     "name": "stderr",
     "output_type": "stream",
     "text": [
      "\r",
      "  3%|██▎                                                                             | 29/1009 [00:32<05:02,  3.24it/s]"
     ]
    },
    {
     "name": "stdout",
     "output_type": "stream",
     "text": [
      "something wrong <html>\r\n",
      "<head><title>502 Bad Gateway</title></head>\r\n",
      "<body>\r\n",
      "<center><h1>502 Bad Gateway</h1></center>\r\n",
      "<hr><center>nginx/1.18.0 (Ubuntu)</center>\r\n",
      "</body>\r\n",
      "</html>\r\n",
      "\n"
     ]
    },
    {
     "name": "stderr",
     "output_type": "stream",
     "text": [
      "\r",
      "  3%|██▍                                                                             | 30/1009 [00:32<05:01,  3.25it/s]"
     ]
    },
    {
     "name": "stdout",
     "output_type": "stream",
     "text": [
      "something wrong <html>\r\n",
      "<head><title>502 Bad Gateway</title></head>\r\n",
      "<body>\r\n",
      "<center><h1>502 Bad Gateway</h1></center>\r\n",
      "<hr><center>nginx/1.18.0 (Ubuntu)</center>\r\n",
      "</body>\r\n",
      "</html>\r\n",
      "\n"
     ]
    },
    {
     "name": "stderr",
     "output_type": "stream",
     "text": [
      "\r",
      "  3%|██▍                                                                             | 31/1009 [00:32<04:58,  3.28it/s]"
     ]
    },
    {
     "name": "stdout",
     "output_type": "stream",
     "text": [
      "something wrong <html>\r\n",
      "<head><title>502 Bad Gateway</title></head>\r\n",
      "<body>\r\n",
      "<center><h1>502 Bad Gateway</h1></center>\r\n",
      "<hr><center>nginx/1.18.0 (Ubuntu)</center>\r\n",
      "</body>\r\n",
      "</html>\r\n",
      "\n"
     ]
    },
    {
     "name": "stderr",
     "output_type": "stream",
     "text": [
      "\r",
      "  3%|██▌                                                                             | 32/1009 [00:33<05:00,  3.25it/s]"
     ]
    },
    {
     "name": "stdout",
     "output_type": "stream",
     "text": [
      "something wrong <html>\r\n",
      "<head><title>502 Bad Gateway</title></head>\r\n",
      "<body>\r\n",
      "<center><h1>502 Bad Gateway</h1></center>\r\n",
      "<hr><center>nginx/1.18.0 (Ubuntu)</center>\r\n",
      "</body>\r\n",
      "</html>\r\n",
      "\n"
     ]
    },
    {
     "name": "stderr",
     "output_type": "stream",
     "text": [
      "\r",
      "  3%|██▌                                                                             | 33/1009 [00:33<05:01,  3.24it/s]"
     ]
    },
    {
     "name": "stdout",
     "output_type": "stream",
     "text": [
      "something wrong <html>\r\n",
      "<head><title>502 Bad Gateway</title></head>\r\n",
      "<body>\r\n",
      "<center><h1>502 Bad Gateway</h1></center>\r\n",
      "<hr><center>nginx/1.18.0 (Ubuntu)</center>\r\n",
      "</body>\r\n",
      "</html>\r\n",
      "\n"
     ]
    },
    {
     "name": "stderr",
     "output_type": "stream",
     "text": [
      "\r",
      "  3%|██▋                                                                             | 34/1009 [00:33<04:55,  3.30it/s]"
     ]
    },
    {
     "name": "stdout",
     "output_type": "stream",
     "text": [
      "something wrong <html>\r\n",
      "<head><title>502 Bad Gateway</title></head>\r\n",
      "<body>\r\n",
      "<center><h1>502 Bad Gateway</h1></center>\r\n",
      "<hr><center>nginx/1.18.0 (Ubuntu)</center>\r\n",
      "</body>\r\n",
      "</html>\r\n",
      "\n"
     ]
    },
    {
     "name": "stderr",
     "output_type": "stream",
     "text": [
      "\r",
      "  3%|██▊                                                                             | 35/1009 [00:34<04:59,  3.25it/s]"
     ]
    },
    {
     "name": "stdout",
     "output_type": "stream",
     "text": [
      "something wrong <html>\r\n",
      "<head><title>502 Bad Gateway</title></head>\r\n",
      "<body>\r\n",
      "<center><h1>502 Bad Gateway</h1></center>\r\n",
      "<hr><center>nginx/1.18.0 (Ubuntu)</center>\r\n",
      "</body>\r\n",
      "</html>\r\n",
      "\n"
     ]
    },
    {
     "name": "stderr",
     "output_type": "stream",
     "text": [
      "\r",
      "  4%|██▊                                                                             | 36/1009 [00:34<05:06,  3.18it/s]"
     ]
    },
    {
     "name": "stdout",
     "output_type": "stream",
     "text": [
      "something wrong <html>\r\n",
      "<head><title>502 Bad Gateway</title></head>\r\n",
      "<body>\r\n",
      "<center><h1>502 Bad Gateway</h1></center>\r\n",
      "<hr><center>nginx/1.18.0 (Ubuntu)</center>\r\n",
      "</body>\r\n",
      "</html>\r\n",
      "\n"
     ]
    },
    {
     "name": "stderr",
     "output_type": "stream",
     "text": [
      "\r",
      "  4%|██▉                                                                             | 37/1009 [00:34<05:02,  3.22it/s]"
     ]
    },
    {
     "name": "stdout",
     "output_type": "stream",
     "text": [
      "something wrong <html>\r\n",
      "<head><title>502 Bad Gateway</title></head>\r\n",
      "<body>\r\n",
      "<center><h1>502 Bad Gateway</h1></center>\r\n",
      "<hr><center>nginx/1.18.0 (Ubuntu)</center>\r\n",
      "</body>\r\n",
      "</html>\r\n",
      "\n"
     ]
    },
    {
     "name": "stderr",
     "output_type": "stream",
     "text": [
      "\r",
      "  4%|███                                                                             | 38/1009 [00:35<05:07,  3.15it/s]"
     ]
    },
    {
     "name": "stdout",
     "output_type": "stream",
     "text": [
      "something wrong <html>\r\n",
      "<head><title>502 Bad Gateway</title></head>\r\n",
      "<body>\r\n",
      "<center><h1>502 Bad Gateway</h1></center>\r\n",
      "<hr><center>nginx/1.18.0 (Ubuntu)</center>\r\n",
      "</body>\r\n",
      "</html>\r\n",
      "\n"
     ]
    },
    {
     "name": "stderr",
     "output_type": "stream",
     "text": [
      "\r",
      "  4%|███                                                                             | 39/1009 [00:35<05:03,  3.20it/s]"
     ]
    },
    {
     "name": "stdout",
     "output_type": "stream",
     "text": [
      "something wrong <html>\r\n",
      "<head><title>502 Bad Gateway</title></head>\r\n",
      "<body>\r\n",
      "<center><h1>502 Bad Gateway</h1></center>\r\n",
      "<hr><center>nginx/1.18.0 (Ubuntu)</center>\r\n",
      "</body>\r\n",
      "</html>\r\n",
      "\n"
     ]
    },
    {
     "name": "stderr",
     "output_type": "stream",
     "text": [
      "\r",
      "  4%|███▏                                                                            | 40/1009 [00:35<05:03,  3.19it/s]"
     ]
    },
    {
     "name": "stdout",
     "output_type": "stream",
     "text": [
      "something wrong <html>\r\n",
      "<head><title>502 Bad Gateway</title></head>\r\n",
      "<body>\r\n",
      "<center><h1>502 Bad Gateway</h1></center>\r\n",
      "<hr><center>nginx/1.18.0 (Ubuntu)</center>\r\n",
      "</body>\r\n",
      "</html>\r\n",
      "\n"
     ]
    },
    {
     "name": "stderr",
     "output_type": "stream",
     "text": [
      "\r",
      "  4%|███▎                                                                            | 41/1009 [00:35<05:00,  3.22it/s]"
     ]
    },
    {
     "name": "stdout",
     "output_type": "stream",
     "text": [
      "something wrong <html>\r\n",
      "<head><title>502 Bad Gateway</title></head>\r\n",
      "<body>\r\n",
      "<center><h1>502 Bad Gateway</h1></center>\r\n",
      "<hr><center>nginx/1.18.0 (Ubuntu)</center>\r\n",
      "</body>\r\n",
      "</html>\r\n",
      "\n"
     ]
    },
    {
     "name": "stderr",
     "output_type": "stream",
     "text": [
      "\r",
      "  4%|███▎                                                                            | 42/1009 [00:36<04:52,  3.31it/s]"
     ]
    },
    {
     "name": "stdout",
     "output_type": "stream",
     "text": [
      "something wrong <html>\r\n",
      "<head><title>502 Bad Gateway</title></head>\r\n",
      "<body>\r\n",
      "<center><h1>502 Bad Gateway</h1></center>\r\n",
      "<hr><center>nginx/1.18.0 (Ubuntu)</center>\r\n",
      "</body>\r\n",
      "</html>\r\n",
      "\n"
     ]
    },
    {
     "name": "stderr",
     "output_type": "stream",
     "text": [
      "\r",
      "  4%|███▍                                                                            | 43/1009 [00:36<04:55,  3.27it/s]"
     ]
    },
    {
     "name": "stdout",
     "output_type": "stream",
     "text": [
      "something wrong <html>\r\n",
      "<head><title>502 Bad Gateway</title></head>\r\n",
      "<body>\r\n",
      "<center><h1>502 Bad Gateway</h1></center>\r\n",
      "<hr><center>nginx/1.18.0 (Ubuntu)</center>\r\n",
      "</body>\r\n",
      "</html>\r\n",
      "\n"
     ]
    },
    {
     "name": "stderr",
     "output_type": "stream",
     "text": [
      "\r",
      "  4%|███▍                                                                            | 44/1009 [00:36<04:58,  3.24it/s]"
     ]
    },
    {
     "name": "stdout",
     "output_type": "stream",
     "text": [
      "something wrong <html>\r\n",
      "<head><title>502 Bad Gateway</title></head>\r\n",
      "<body>\r\n",
      "<center><h1>502 Bad Gateway</h1></center>\r\n",
      "<hr><center>nginx/1.18.0 (Ubuntu)</center>\r\n",
      "</body>\r\n",
      "</html>\r\n",
      "\n"
     ]
    },
    {
     "name": "stderr",
     "output_type": "stream",
     "text": [
      "\r",
      "  4%|███▌                                                                            | 45/1009 [00:37<04:54,  3.27it/s]"
     ]
    },
    {
     "name": "stdout",
     "output_type": "stream",
     "text": [
      "something wrong <html>\r\n",
      "<head><title>502 Bad Gateway</title></head>\r\n",
      "<body>\r\n",
      "<center><h1>502 Bad Gateway</h1></center>\r\n",
      "<hr><center>nginx/1.18.0 (Ubuntu)</center>\r\n",
      "</body>\r\n",
      "</html>\r\n",
      "\n"
     ]
    },
    {
     "name": "stderr",
     "output_type": "stream",
     "text": [
      "\r",
      "  5%|███▋                                                                            | 46/1009 [00:37<04:55,  3.26it/s]"
     ]
    },
    {
     "name": "stdout",
     "output_type": "stream",
     "text": [
      "something wrong <html>\r\n",
      "<head><title>502 Bad Gateway</title></head>\r\n",
      "<body>\r\n",
      "<center><h1>502 Bad Gateway</h1></center>\r\n",
      "<hr><center>nginx/1.18.0 (Ubuntu)</center>\r\n",
      "</body>\r\n",
      "</html>\r\n",
      "\n"
     ]
    },
    {
     "name": "stderr",
     "output_type": "stream",
     "text": [
      "\r",
      "  5%|███▋                                                                            | 47/1009 [00:37<04:51,  3.30it/s]"
     ]
    },
    {
     "name": "stdout",
     "output_type": "stream",
     "text": [
      "something wrong <html>\r\n",
      "<head><title>502 Bad Gateway</title></head>\r\n",
      "<body>\r\n",
      "<center><h1>502 Bad Gateway</h1></center>\r\n",
      "<hr><center>nginx/1.18.0 (Ubuntu)</center>\r\n",
      "</body>\r\n",
      "</html>\r\n",
      "\n"
     ]
    },
    {
     "name": "stderr",
     "output_type": "stream",
     "text": [
      "\r",
      "  5%|███▊                                                                            | 48/1009 [00:38<04:59,  3.21it/s]"
     ]
    },
    {
     "name": "stdout",
     "output_type": "stream",
     "text": [
      "something wrong <html>\r\n",
      "<head><title>502 Bad Gateway</title></head>\r\n",
      "<body>\r\n",
      "<center><h1>502 Bad Gateway</h1></center>\r\n",
      "<hr><center>nginx/1.18.0 (Ubuntu)</center>\r\n",
      "</body>\r\n",
      "</html>\r\n",
      "\n"
     ]
    },
    {
     "name": "stderr",
     "output_type": "stream",
     "text": [
      "\r",
      "  5%|███▉                                                                            | 49/1009 [00:38<05:00,  3.20it/s]"
     ]
    },
    {
     "name": "stdout",
     "output_type": "stream",
     "text": [
      "something wrong <html>\r\n",
      "<head><title>502 Bad Gateway</title></head>\r\n",
      "<body>\r\n",
      "<center><h1>502 Bad Gateway</h1></center>\r\n",
      "<hr><center>nginx/1.18.0 (Ubuntu)</center>\r\n",
      "</body>\r\n",
      "</html>\r\n",
      "\n"
     ]
    },
    {
     "name": "stderr",
     "output_type": "stream",
     "text": [
      "\r",
      "  5%|███▉                                                                            | 50/1009 [00:38<04:58,  3.21it/s]"
     ]
    },
    {
     "name": "stdout",
     "output_type": "stream",
     "text": [
      "something wrong <html>\r\n",
      "<head><title>502 Bad Gateway</title></head>\r\n",
      "<body>\r\n",
      "<center><h1>502 Bad Gateway</h1></center>\r\n",
      "<hr><center>nginx/1.18.0 (Ubuntu)</center>\r\n",
      "</body>\r\n",
      "</html>\r\n",
      "\n"
     ]
    },
    {
     "name": "stderr",
     "output_type": "stream",
     "text": [
      "\r",
      "  5%|████                                                                            | 51/1009 [00:39<05:00,  3.18it/s]"
     ]
    },
    {
     "name": "stdout",
     "output_type": "stream",
     "text": [
      "something wrong <html>\r\n",
      "<head><title>502 Bad Gateway</title></head>\r\n",
      "<body>\r\n",
      "<center><h1>502 Bad Gateway</h1></center>\r\n",
      "<hr><center>nginx/1.18.0 (Ubuntu)</center>\r\n",
      "</body>\r\n",
      "</html>\r\n",
      "\n"
     ]
    },
    {
     "name": "stderr",
     "output_type": "stream",
     "text": [
      "\r",
      "  5%|████                                                                            | 52/1009 [00:39<04:57,  3.22it/s]"
     ]
    },
    {
     "name": "stdout",
     "output_type": "stream",
     "text": [
      "something wrong <html>\r\n",
      "<head><title>502 Bad Gateway</title></head>\r\n",
      "<body>\r\n",
      "<center><h1>502 Bad Gateway</h1></center>\r\n",
      "<hr><center>nginx/1.18.0 (Ubuntu)</center>\r\n",
      "</body>\r\n",
      "</html>\r\n",
      "\n"
     ]
    },
    {
     "name": "stderr",
     "output_type": "stream",
     "text": [
      "\r",
      "  5%|████▏                                                                           | 53/1009 [00:39<04:58,  3.20it/s]"
     ]
    },
    {
     "name": "stdout",
     "output_type": "stream",
     "text": [
      "something wrong <html>\r\n",
      "<head><title>502 Bad Gateway</title></head>\r\n",
      "<body>\r\n",
      "<center><h1>502 Bad Gateway</h1></center>\r\n",
      "<hr><center>nginx/1.18.0 (Ubuntu)</center>\r\n",
      "</body>\r\n",
      "</html>\r\n",
      "\n"
     ]
    },
    {
     "name": "stderr",
     "output_type": "stream",
     "text": [
      "\r",
      "  5%|████▎                                                                           | 54/1009 [00:39<04:58,  3.20it/s]"
     ]
    },
    {
     "name": "stdout",
     "output_type": "stream",
     "text": [
      "something wrong <html>\r\n",
      "<head><title>502 Bad Gateway</title></head>\r\n",
      "<body>\r\n",
      "<center><h1>502 Bad Gateway</h1></center>\r\n",
      "<hr><center>nginx/1.18.0 (Ubuntu)</center>\r\n",
      "</body>\r\n",
      "</html>\r\n",
      "\n"
     ]
    },
    {
     "name": "stderr",
     "output_type": "stream",
     "text": [
      "\r",
      "  5%|████▎                                                                           | 55/1009 [00:40<04:56,  3.21it/s]"
     ]
    },
    {
     "name": "stdout",
     "output_type": "stream",
     "text": [
      "something wrong <html>\r\n",
      "<head><title>502 Bad Gateway</title></head>\r\n",
      "<body>\r\n",
      "<center><h1>502 Bad Gateway</h1></center>\r\n",
      "<hr><center>nginx/1.18.0 (Ubuntu)</center>\r\n",
      "</body>\r\n",
      "</html>\r\n",
      "\n"
     ]
    },
    {
     "name": "stderr",
     "output_type": "stream",
     "text": [
      "\r",
      "  6%|████▍                                                                           | 56/1009 [00:40<04:54,  3.24it/s]"
     ]
    },
    {
     "name": "stdout",
     "output_type": "stream",
     "text": [
      "something wrong <html>\r\n",
      "<head><title>502 Bad Gateway</title></head>\r\n",
      "<body>\r\n",
      "<center><h1>502 Bad Gateway</h1></center>\r\n",
      "<hr><center>nginx/1.18.0 (Ubuntu)</center>\r\n",
      "</body>\r\n",
      "</html>\r\n",
      "\n"
     ]
    },
    {
     "name": "stderr",
     "output_type": "stream",
     "text": [
      "\r",
      "  6%|████▌                                                                           | 57/1009 [00:40<04:54,  3.24it/s]"
     ]
    },
    {
     "name": "stdout",
     "output_type": "stream",
     "text": [
      "something wrong <html>\r\n",
      "<head><title>502 Bad Gateway</title></head>\r\n",
      "<body>\r\n",
      "<center><h1>502 Bad Gateway</h1></center>\r\n",
      "<hr><center>nginx/1.18.0 (Ubuntu)</center>\r\n",
      "</body>\r\n",
      "</html>\r\n",
      "\n"
     ]
    },
    {
     "name": "stderr",
     "output_type": "stream",
     "text": [
      "\r",
      "  6%|████▌                                                                           | 58/1009 [00:41<04:54,  3.23it/s]"
     ]
    },
    {
     "name": "stdout",
     "output_type": "stream",
     "text": [
      "something wrong <html>\r\n",
      "<head><title>502 Bad Gateway</title></head>\r\n",
      "<body>\r\n",
      "<center><h1>502 Bad Gateway</h1></center>\r\n",
      "<hr><center>nginx/1.18.0 (Ubuntu)</center>\r\n",
      "</body>\r\n",
      "</html>\r\n",
      "\n"
     ]
    },
    {
     "name": "stderr",
     "output_type": "stream",
     "text": [
      "\r",
      "  6%|████▋                                                                           | 59/1009 [00:41<04:57,  3.19it/s]"
     ]
    },
    {
     "name": "stdout",
     "output_type": "stream",
     "text": [
      "something wrong <html>\r\n",
      "<head><title>502 Bad Gateway</title></head>\r\n",
      "<body>\r\n",
      "<center><h1>502 Bad Gateway</h1></center>\r\n",
      "<hr><center>nginx/1.18.0 (Ubuntu)</center>\r\n",
      "</body>\r\n",
      "</html>\r\n",
      "\n"
     ]
    },
    {
     "name": "stderr",
     "output_type": "stream",
     "text": [
      "\r",
      "  6%|████▊                                                                           | 60/1009 [00:41<04:56,  3.21it/s]"
     ]
    },
    {
     "name": "stdout",
     "output_type": "stream",
     "text": [
      "something wrong <html>\r\n",
      "<head><title>502 Bad Gateway</title></head>\r\n",
      "<body>\r\n",
      "<center><h1>502 Bad Gateway</h1></center>\r\n",
      "<hr><center>nginx/1.18.0 (Ubuntu)</center>\r\n",
      "</body>\r\n",
      "</html>\r\n",
      "\n"
     ]
    },
    {
     "name": "stderr",
     "output_type": "stream",
     "text": [
      "\r",
      "  6%|████▊                                                                           | 61/1009 [00:42<04:54,  3.22it/s]"
     ]
    },
    {
     "name": "stdout",
     "output_type": "stream",
     "text": [
      "something wrong <html>\r\n",
      "<head><title>502 Bad Gateway</title></head>\r\n",
      "<body>\r\n",
      "<center><h1>502 Bad Gateway</h1></center>\r\n",
      "<hr><center>nginx/1.18.0 (Ubuntu)</center>\r\n",
      "</body>\r\n",
      "</html>\r\n",
      "\n"
     ]
    },
    {
     "name": "stderr",
     "output_type": "stream",
     "text": [
      "\r",
      "  6%|████▉                                                                           | 62/1009 [00:42<04:58,  3.17it/s]"
     ]
    },
    {
     "name": "stdout",
     "output_type": "stream",
     "text": [
      "something wrong <html>\r\n",
      "<head><title>502 Bad Gateway</title></head>\r\n",
      "<body>\r\n",
      "<center><h1>502 Bad Gateway</h1></center>\r\n",
      "<hr><center>nginx/1.18.0 (Ubuntu)</center>\r\n",
      "</body>\r\n",
      "</html>\r\n",
      "\n"
     ]
    },
    {
     "name": "stderr",
     "output_type": "stream",
     "text": [
      "\r",
      "  6%|████▉                                                                           | 63/1009 [00:42<04:57,  3.18it/s]"
     ]
    },
    {
     "name": "stdout",
     "output_type": "stream",
     "text": [
      "something wrong <html>\r\n",
      "<head><title>502 Bad Gateway</title></head>\r\n",
      "<body>\r\n",
      "<center><h1>502 Bad Gateway</h1></center>\r\n",
      "<hr><center>nginx/1.18.0 (Ubuntu)</center>\r\n",
      "</body>\r\n",
      "</html>\r\n",
      "\n"
     ]
    },
    {
     "name": "stderr",
     "output_type": "stream",
     "text": [
      "\r",
      "  6%|█████                                                                           | 64/1009 [00:43<04:54,  3.21it/s]"
     ]
    },
    {
     "name": "stdout",
     "output_type": "stream",
     "text": [
      "something wrong <html>\r\n",
      "<head><title>502 Bad Gateway</title></head>\r\n",
      "<body>\r\n",
      "<center><h1>502 Bad Gateway</h1></center>\r\n",
      "<hr><center>nginx/1.18.0 (Ubuntu)</center>\r\n",
      "</body>\r\n",
      "</html>\r\n",
      "\n"
     ]
    },
    {
     "name": "stderr",
     "output_type": "stream",
     "text": [
      "\r",
      "  6%|█████▏                                                                          | 65/1009 [00:43<04:59,  3.15it/s]"
     ]
    },
    {
     "name": "stdout",
     "output_type": "stream",
     "text": [
      "something wrong <html>\r\n",
      "<head><title>502 Bad Gateway</title></head>\r\n",
      "<body>\r\n",
      "<center><h1>502 Bad Gateway</h1></center>\r\n",
      "<hr><center>nginx/1.18.0 (Ubuntu)</center>\r\n",
      "</body>\r\n",
      "</html>\r\n",
      "\n"
     ]
    },
    {
     "name": "stderr",
     "output_type": "stream",
     "text": [
      "\r",
      "  7%|█████▏                                                                          | 66/1009 [00:43<04:59,  3.15it/s]"
     ]
    },
    {
     "name": "stdout",
     "output_type": "stream",
     "text": [
      "something wrong <html>\r\n",
      "<head><title>502 Bad Gateway</title></head>\r\n",
      "<body>\r\n",
      "<center><h1>502 Bad Gateway</h1></center>\r\n",
      "<hr><center>nginx/1.18.0 (Ubuntu)</center>\r\n",
      "</body>\r\n",
      "</html>\r\n",
      "\n"
     ]
    },
    {
     "name": "stderr",
     "output_type": "stream",
     "text": [
      "\r",
      "  7%|█████▎                                                                          | 67/1009 [00:44<04:58,  3.16it/s]"
     ]
    },
    {
     "name": "stdout",
     "output_type": "stream",
     "text": [
      "something wrong <html>\r\n",
      "<head><title>502 Bad Gateway</title></head>\r\n",
      "<body>\r\n",
      "<center><h1>502 Bad Gateway</h1></center>\r\n",
      "<hr><center>nginx/1.18.0 (Ubuntu)</center>\r\n",
      "</body>\r\n",
      "</html>\r\n",
      "\n"
     ]
    },
    {
     "name": "stderr",
     "output_type": "stream",
     "text": [
      "\r",
      "  7%|█████▍                                                                          | 68/1009 [00:44<05:02,  3.11it/s]"
     ]
    },
    {
     "name": "stdout",
     "output_type": "stream",
     "text": [
      "something wrong <html>\r\n",
      "<head><title>502 Bad Gateway</title></head>\r\n",
      "<body>\r\n",
      "<center><h1>502 Bad Gateway</h1></center>\r\n",
      "<hr><center>nginx/1.18.0 (Ubuntu)</center>\r\n",
      "</body>\r\n",
      "</html>\r\n",
      "\n"
     ]
    },
    {
     "name": "stderr",
     "output_type": "stream",
     "text": [
      "\r",
      "  7%|█████▍                                                                          | 69/1009 [00:44<05:05,  3.08it/s]"
     ]
    },
    {
     "name": "stdout",
     "output_type": "stream",
     "text": [
      "something wrong <html>\r\n",
      "<head><title>502 Bad Gateway</title></head>\r\n",
      "<body>\r\n",
      "<center><h1>502 Bad Gateway</h1></center>\r\n",
      "<hr><center>nginx/1.18.0 (Ubuntu)</center>\r\n",
      "</body>\r\n",
      "</html>\r\n",
      "\n"
     ]
    },
    {
     "name": "stderr",
     "output_type": "stream",
     "text": [
      "\r",
      "  7%|█████▌                                                                          | 70/1009 [00:44<04:59,  3.14it/s]"
     ]
    },
    {
     "name": "stdout",
     "output_type": "stream",
     "text": [
      "something wrong <html>\r\n",
      "<head><title>502 Bad Gateway</title></head>\r\n",
      "<body>\r\n",
      "<center><h1>502 Bad Gateway</h1></center>\r\n",
      "<hr><center>nginx/1.18.0 (Ubuntu)</center>\r\n",
      "</body>\r\n",
      "</html>\r\n",
      "\n"
     ]
    },
    {
     "name": "stderr",
     "output_type": "stream",
     "text": [
      "\r",
      "  7%|█████▋                                                                          | 71/1009 [00:45<04:53,  3.20it/s]"
     ]
    },
    {
     "name": "stdout",
     "output_type": "stream",
     "text": [
      "something wrong <html>\r\n",
      "<head><title>502 Bad Gateway</title></head>\r\n",
      "<body>\r\n",
      "<center><h1>502 Bad Gateway</h1></center>\r\n",
      "<hr><center>nginx/1.18.0 (Ubuntu)</center>\r\n",
      "</body>\r\n",
      "</html>\r\n",
      "\n"
     ]
    },
    {
     "name": "stderr",
     "output_type": "stream",
     "text": [
      "\r",
      "  7%|█████▋                                                                          | 72/1009 [00:45<04:49,  3.24it/s]"
     ]
    },
    {
     "name": "stdout",
     "output_type": "stream",
     "text": [
      "something wrong <html>\r\n",
      "<head><title>502 Bad Gateway</title></head>\r\n",
      "<body>\r\n",
      "<center><h1>502 Bad Gateway</h1></center>\r\n",
      "<hr><center>nginx/1.18.0 (Ubuntu)</center>\r\n",
      "</body>\r\n",
      "</html>\r\n",
      "\n"
     ]
    },
    {
     "name": "stderr",
     "output_type": "stream",
     "text": [
      "\r",
      "  7%|█████▊                                                                          | 73/1009 [00:45<04:45,  3.28it/s]"
     ]
    },
    {
     "name": "stdout",
     "output_type": "stream",
     "text": [
      "something wrong <html>\r\n",
      "<head><title>502 Bad Gateway</title></head>\r\n",
      "<body>\r\n",
      "<center><h1>502 Bad Gateway</h1></center>\r\n",
      "<hr><center>nginx/1.18.0 (Ubuntu)</center>\r\n",
      "</body>\r\n",
      "</html>\r\n",
      "\n"
     ]
    },
    {
     "name": "stderr",
     "output_type": "stream",
     "text": [
      "\r",
      "  7%|█████▊                                                                          | 74/1009 [00:46<04:40,  3.33it/s]"
     ]
    },
    {
     "name": "stdout",
     "output_type": "stream",
     "text": [
      "something wrong <html>\r\n",
      "<head><title>502 Bad Gateway</title></head>\r\n",
      "<body>\r\n",
      "<center><h1>502 Bad Gateway</h1></center>\r\n",
      "<hr><center>nginx/1.18.0 (Ubuntu)</center>\r\n",
      "</body>\r\n",
      "</html>\r\n",
      "\n"
     ]
    },
    {
     "name": "stderr",
     "output_type": "stream",
     "text": [
      "\r",
      "  7%|█████▉                                                                          | 75/1009 [00:46<04:41,  3.32it/s]"
     ]
    },
    {
     "name": "stdout",
     "output_type": "stream",
     "text": [
      "something wrong <html>\r\n",
      "<head><title>502 Bad Gateway</title></head>\r\n",
      "<body>\r\n",
      "<center><h1>502 Bad Gateway</h1></center>\r\n",
      "<hr><center>nginx/1.18.0 (Ubuntu)</center>\r\n",
      "</body>\r\n",
      "</html>\r\n",
      "\n"
     ]
    },
    {
     "name": "stderr",
     "output_type": "stream",
     "text": [
      "\r",
      "  8%|██████                                                                          | 76/1009 [00:46<04:44,  3.28it/s]"
     ]
    },
    {
     "name": "stdout",
     "output_type": "stream",
     "text": [
      "something wrong <html>\r\n",
      "<head><title>502 Bad Gateway</title></head>\r\n",
      "<body>\r\n",
      "<center><h1>502 Bad Gateway</h1></center>\r\n",
      "<hr><center>nginx/1.18.0 (Ubuntu)</center>\r\n",
      "</body>\r\n",
      "</html>\r\n",
      "\n"
     ]
    },
    {
     "name": "stderr",
     "output_type": "stream",
     "text": [
      "\r",
      "  8%|██████                                                                          | 77/1009 [00:47<04:46,  3.25it/s]"
     ]
    },
    {
     "name": "stdout",
     "output_type": "stream",
     "text": [
      "something wrong <html>\r\n",
      "<head><title>502 Bad Gateway</title></head>\r\n",
      "<body>\r\n",
      "<center><h1>502 Bad Gateway</h1></center>\r\n",
      "<hr><center>nginx/1.18.0 (Ubuntu)</center>\r\n",
      "</body>\r\n",
      "</html>\r\n",
      "\n"
     ]
    },
    {
     "name": "stderr",
     "output_type": "stream",
     "text": [
      "\r",
      "  8%|██████▏                                                                         | 78/1009 [00:47<04:49,  3.21it/s]"
     ]
    },
    {
     "name": "stdout",
     "output_type": "stream",
     "text": [
      "something wrong <html>\r\n",
      "<head><title>502 Bad Gateway</title></head>\r\n",
      "<body>\r\n",
      "<center><h1>502 Bad Gateway</h1></center>\r\n",
      "<hr><center>nginx/1.18.0 (Ubuntu)</center>\r\n",
      "</body>\r\n",
      "</html>\r\n",
      "\n"
     ]
    },
    {
     "name": "stderr",
     "output_type": "stream",
     "text": [
      "\r",
      "  8%|██████▎                                                                         | 79/1009 [00:47<04:50,  3.20it/s]"
     ]
    },
    {
     "name": "stdout",
     "output_type": "stream",
     "text": [
      "something wrong <html>\r\n",
      "<head><title>502 Bad Gateway</title></head>\r\n",
      "<body>\r\n",
      "<center><h1>502 Bad Gateway</h1></center>\r\n",
      "<hr><center>nginx/1.18.0 (Ubuntu)</center>\r\n",
      "</body>\r\n",
      "</html>\r\n",
      "\n"
     ]
    },
    {
     "name": "stderr",
     "output_type": "stream",
     "text": [
      "\r",
      "  8%|██████▎                                                                         | 80/1009 [00:48<04:45,  3.25it/s]"
     ]
    },
    {
     "name": "stdout",
     "output_type": "stream",
     "text": [
      "something wrong <html>\r\n",
      "<head><title>502 Bad Gateway</title></head>\r\n",
      "<body>\r\n",
      "<center><h1>502 Bad Gateway</h1></center>\r\n",
      "<hr><center>nginx/1.18.0 (Ubuntu)</center>\r\n",
      "</body>\r\n",
      "</html>\r\n",
      "\n"
     ]
    },
    {
     "name": "stderr",
     "output_type": "stream",
     "text": [
      "\r",
      "  8%|██████▍                                                                         | 81/1009 [00:48<04:40,  3.31it/s]"
     ]
    },
    {
     "name": "stdout",
     "output_type": "stream",
     "text": [
      "something wrong <html>\r\n",
      "<head><title>502 Bad Gateway</title></head>\r\n",
      "<body>\r\n",
      "<center><h1>502 Bad Gateway</h1></center>\r\n",
      "<hr><center>nginx/1.18.0 (Ubuntu)</center>\r\n",
      "</body>\r\n",
      "</html>\r\n",
      "\n"
     ]
    },
    {
     "name": "stderr",
     "output_type": "stream",
     "text": [
      "\r",
      "  8%|██████▌                                                                         | 82/1009 [00:48<04:34,  3.37it/s]"
     ]
    },
    {
     "name": "stdout",
     "output_type": "stream",
     "text": [
      "something wrong <html>\r\n",
      "<head><title>502 Bad Gateway</title></head>\r\n",
      "<body>\r\n",
      "<center><h1>502 Bad Gateway</h1></center>\r\n",
      "<hr><center>nginx/1.18.0 (Ubuntu)</center>\r\n",
      "</body>\r\n",
      "</html>\r\n",
      "\n"
     ]
    },
    {
     "name": "stderr",
     "output_type": "stream",
     "text": [
      "\r",
      "  8%|██████▌                                                                         | 83/1009 [00:48<04:35,  3.36it/s]"
     ]
    },
    {
     "name": "stdout",
     "output_type": "stream",
     "text": [
      "something wrong <html>\r\n",
      "<head><title>502 Bad Gateway</title></head>\r\n",
      "<body>\r\n",
      "<center><h1>502 Bad Gateway</h1></center>\r\n",
      "<hr><center>nginx/1.18.0 (Ubuntu)</center>\r\n",
      "</body>\r\n",
      "</html>\r\n",
      "\n"
     ]
    },
    {
     "name": "stderr",
     "output_type": "stream",
     "text": [
      "\r",
      "  8%|██████▋                                                                         | 84/1009 [00:49<04:40,  3.30it/s]"
     ]
    },
    {
     "name": "stdout",
     "output_type": "stream",
     "text": [
      "something wrong <html>\r\n",
      "<head><title>502 Bad Gateway</title></head>\r\n",
      "<body>\r\n",
      "<center><h1>502 Bad Gateway</h1></center>\r\n",
      "<hr><center>nginx/1.18.0 (Ubuntu)</center>\r\n",
      "</body>\r\n",
      "</html>\r\n",
      "\n"
     ]
    }
   ],
   "source": [
    "for i in tqdm(data[(4000 + 30):]):\n",
    "    send_data(i)"
   ]
  },
  {
   "cell_type": "code",
   "execution_count": 18,
   "id": "proved-newman",
   "metadata": {},
   "outputs": [],
   "source": [
    "wrong = []\n",
    "something_wrong = []\n",
    "def send_data(out):\n",
    "    #inserting name\n",
    "    try:\n",
    "        name = out[0].split(',')[0].split(\" \")\n",
    "        middle_name = \"\"\n",
    "        first_name = name[1]\n",
    "        last_name = ' '.join(name[2:])\n",
    "\n",
    "\n",
    "        #inserting gender\n",
    "        gender = out[1]\n",
    "\n",
    "        #inserting npi\n",
    "        npi = out[2]\n",
    "\n",
    "        #inserting speciality\n",
    "        speciality = out[3].split(\",\")[0]\n",
    "\n",
    "        #inserting about\n",
    "        about = out[9]\n",
    "\n",
    "        #inserting email\n",
    "        email = out[8].split('/')[-1]+str(random.randint(1,1000))+\"@gmail.com\"\n",
    "\n",
    "        #inserting address\n",
    "        country = 'United States'\n",
    "        city = out[7].split(',')[0]\n",
    "        state = out[7].split(',')[1][1:]\n",
    "\n",
    "        #inserting password\n",
    "        password = 'DemoDoc@1234'\n",
    "        verify = 'True'\n",
    "\n",
    "        #inserting fees\n",
    "        fee_list = [200, 500, 1000, 700, 600, 1500, 2000]\n",
    "        fee = random.choice(fee_list)\n",
    "\n",
    "        #education\n",
    "\n",
    "        degree = out[0].split(',')[1:]\n",
    "        university = out[5].split('- ')[1].split(',')[0]\n",
    "        edu = []\n",
    "        for i in degree:\n",
    "             edu.append(\n",
    "                 {\n",
    "                     'degree':i[1:],\n",
    "                     'university':university,\n",
    "                     'year':''\n",
    "                 }\n",
    "             )\n",
    "\n",
    "\n",
    "        #register doctors\n",
    "        payload = {'firstName':first_name,\n",
    "                  'lastName':last_name,\n",
    "                  'email':email,\n",
    "                  'country':country,\n",
    "                  'state':state,\n",
    "                  'city':city,\n",
    "                  'password':password,\n",
    "                  'basic':{},\n",
    "                  'specialty':speciality,\n",
    "                  'registration_number':npi}\n",
    "        try:\n",
    "            r = rp.post('https://server.mddocz.com/doctors/register', json = payload)\n",
    "\n",
    "\n",
    "            get_id = r.json()['data']['_id'] #id of created\n",
    "            datas[email] = get_id\n",
    "\n",
    "            if(len(datas.keys()) % 100 == 0):\n",
    "                pickle_out = open('inserted_postman5.pickle','wb')#change for another checkpoint\n",
    "                pickle.dump(datas, pickle_out)\n",
    "                pickle_out.close()\n",
    "\n",
    "\n",
    "            #update_doctors\n",
    "            payload = {\n",
    "                'gender':gender,\n",
    "                'id':get_id,\n",
    "                'bio':about,\n",
    "                'education': edu,\n",
    "                'fee':fee,\n",
    "                'verify':'true',\n",
    "            }\n",
    "            r = rp.post('https://server.mddocz.com/doctors/profile/update', json = payload)\n",
    "\n",
    "        except:\n",
    "            something_wrong.append(out)\n",
    "            print('something wrong', r.text)\n",
    "    except:\n",
    "        print('error')\n",
    "        wrong.append(out)"
   ]
  },
  {
   "cell_type": "code",
   "execution_count": 16,
   "id": "featured-button",
   "metadata": {},
   "outputs": [
    {
     "ename": "NameError",
     "evalue": "name 'datas' is not defined",
     "output_type": "error",
     "traceback": [
      "\u001b[1;31m---------------------------------------------------------------------------\u001b[0m",
      "\u001b[1;31mNameError\u001b[0m                                 Traceback (most recent call last)",
      "\u001b[1;32m<ipython-input-16-4e980bc0846e>\u001b[0m in \u001b[0;36m<module>\u001b[1;34m\u001b[0m\n\u001b[1;32m----> 1\u001b[1;33m \u001b[0mdatas\u001b[0m\u001b[1;33m\u001b[0m\u001b[1;33m\u001b[0m\u001b[0m\n\u001b[0m",
      "\u001b[1;31mNameError\u001b[0m: name 'datas' is not defined"
     ]
    }
   ],
   "source": [
    "datas"
   ]
  },
  {
   "cell_type": "code",
   "execution_count": 15,
   "id": "wooden-signature",
   "metadata": {},
   "outputs": [
    {
     "ename": "NameError",
     "evalue": "name 'datas' is not defined",
     "output_type": "error",
     "traceback": [
      "\u001b[1;31m---------------------------------------------------------------------------\u001b[0m",
      "\u001b[1;31mNameError\u001b[0m                                 Traceback (most recent call last)",
      "\u001b[1;32m<ipython-input-15-27120f9440f0>\u001b[0m in \u001b[0;36m<module>\u001b[1;34m\u001b[0m\n\u001b[0;32m      1\u001b[0m \u001b[0mpickle_out\u001b[0m \u001b[1;33m=\u001b[0m \u001b[0mopen\u001b[0m\u001b[1;33m(\u001b[0m\u001b[1;34m'inserted_postman5.pickle'\u001b[0m\u001b[1;33m,\u001b[0m\u001b[1;34m'wb'\u001b[0m\u001b[1;33m)\u001b[0m\u001b[1;31m#change for another checkpoint\u001b[0m\u001b[1;33m\u001b[0m\u001b[1;33m\u001b[0m\u001b[0m\n\u001b[1;32m----> 2\u001b[1;33m \u001b[0mpickle\u001b[0m\u001b[1;33m.\u001b[0m\u001b[0mdump\u001b[0m\u001b[1;33m(\u001b[0m\u001b[0mdatas\u001b[0m\u001b[1;33m,\u001b[0m \u001b[0mpickle_out\u001b[0m\u001b[1;33m)\u001b[0m\u001b[1;33m\u001b[0m\u001b[1;33m\u001b[0m\u001b[0m\n\u001b[0m\u001b[0;32m      3\u001b[0m \u001b[0mpickle_out\u001b[0m\u001b[1;33m.\u001b[0m\u001b[0mclose\u001b[0m\u001b[1;33m(\u001b[0m\u001b[1;33m)\u001b[0m\u001b[1;33m\u001b[0m\u001b[1;33m\u001b[0m\u001b[0m\n",
      "\u001b[1;31mNameError\u001b[0m: name 'datas' is not defined"
     ]
    }
   ],
   "source": [
    "pickle_out = open('inserted_postman5.pickle','wb')#change for another checkpoint\n",
    "pickle.dump(datas, pickle_out)\n",
    "pickle_out.close()"
   ]
  },
  {
   "cell_type": "code",
   "execution_count": 22,
   "id": "color-fields",
   "metadata": {},
   "outputs": [],
   "source": [
    "pickle_check = open('inserted_postman5.pickle', 'rb')\n",
    "s = pickle.load(pickle_check)"
   ]
  },
  {
   "cell_type": "code",
   "execution_count": 23,
   "id": "colonial-celtic",
   "metadata": {},
   "outputs": [
    {
     "data": {
      "text/plain": [
       "2647"
      ]
     },
     "execution_count": 23,
     "metadata": {},
     "output_type": "execute_result"
    }
   ],
   "source": [
    "len(s)"
   ]
  },
  {
   "cell_type": "code",
   "execution_count": null,
   "id": "charming-reservation",
   "metadata": {},
   "outputs": [],
   "source": [
    "'''\n",
    "{'aaron-diehl-dds-59885@gmail.com': '603f8f089b38c41335aec263',\n",
    " 'aaron-elkowitz-dmd-168924@gmail.com': '603f8f0e9b38c41335aec279',\n",
    " 'aaron-johnson-dds-37463@gmail.com': '603f8f139b38c41335aec28f',\n",
    " 'aaron-soeprono-dds-3151@gmail.com': '603f8f189b38c41335aec2a5',\n",
    " 'danielle-kerger-dds-83188@gmail.com': '603f8f1e9b38c41335aec2bb',\n",
    " 'aaron-lee-dds-39094@gmail.com': '603f8f239b38c41335aec2d1',\n",
    " 'aaron-moskowitz-dds-133560@gmail.com': '603f8f289b38c41335aec2e7',\n",
    " 'aaron-nicholas-dds-89983@gmail.com': '603f8f329b38c41335aec2ff'}\n",
    "'''"
   ]
  },
  {
   "cell_type": "code",
   "execution_count": 6,
   "id": "floating-reset",
   "metadata": {},
   "outputs": [
    {
     "data": {
      "text/plain": [
       "5039"
      ]
     },
     "execution_count": 6,
     "metadata": {},
     "output_type": "execute_result"
    }
   ],
   "source": [
    "len(data)"
   ]
  },
  {
   "cell_type": "code",
   "execution_count": 17,
   "id": "emotional-thousand",
   "metadata": {},
   "outputs": [],
   "source": [
    "datas ={}"
   ]
  },
  {
   "cell_type": "code",
   "execution_count": 9,
   "id": "clean-compact",
   "metadata": {},
   "outputs": [],
   "source": [
    "out = data[30+3000]\n",
    "name = out[0].split(',')[0].split(\" \")\n",
    "middle_name = \"\"\n",
    "first_name = name[1]\n",
    "last_name = ' '.join(name[2:])\n",
    "\n",
    "\n",
    "#inserting gender\n",
    "gender = out[1]\n",
    "\n",
    "#inserting npi\n",
    "npi = out[2]\n",
    "\n",
    "#inserting speciality\n",
    "speciality = out[3].split(\",\")[0]\n",
    "\n",
    "#inserting about\n",
    "about = out[9]\n",
    "\n",
    "#inserting email\n",
    "email = out[8].split('/')[-1]+\"@gmail.com\"\n",
    "\n",
    "#inserting address\n",
    "country = 'United States'\n",
    "city = out[7].split(',')[0]\n",
    "state = out[7].split(',')[1][1:]\n",
    "\n",
    "#inserting password\n",
    "password = 'DemoDoc@1234'\n",
    "verify = 'True'\n",
    "\n",
    "#inserting fees\n",
    "fee_list = [200, 500, 1000, 700, 600, 1500, 2000]\n",
    "fee = random.choice(fee_list)\n",
    "\n",
    "#education\n",
    "\n",
    "degree = out[0].split(',')[1:]\n",
    "university = out[5].split('- ')[1].split(',')[0]\n",
    "edu = []\n",
    "for i in degree:\n",
    "     edu.append(\n",
    "         {\n",
    "             'degree':i[1:],\n",
    "             'university':university,\n",
    "             'year':''\n",
    "         }\n",
    "     )\n",
    "\n",
    "\n",
    "#register doctors\n",
    "payload = {'firstName':first_name,\n",
    "          'lastName':last_name,\n",
    "          'email':email,\n",
    "          'country':country,\n",
    "          'state':state,\n",
    "          'city':city,\n",
    "          'password':password,\n",
    "          'basic':{},\n",
    "          'specialty':speciality,\n",
    "          'registration_number':npi}\n",
    "response_back = rp.post('https://server.mddocz.com/doctors/register', json = payload)\n",
    "\n"
   ]
  },
  {
   "cell_type": "code",
   "execution_count": 16,
   "id": "fallen-yacht",
   "metadata": {},
   "outputs": [],
   "source": [
    "get_id = response_back.json()['data']['_id'] #id of created\n",
    "datas[email] = get_id\n",
    "\n",
    "if(len(datas.keys()) % 100 == 0):\n",
    "    pickle_out = open('inserted_postman5.pickle','wb')#change for another checkpoint\n",
    "    pickle.dump(datas, pickle_out)\n",
    "    pickle_out.close()\n",
    "\n",
    "\n",
    "#update_doctors\n",
    "payload = {\n",
    "    'gender':gender,\n",
    "    'id':get_id,\n",
    "    'bio':about,\n",
    "    'education': edu,\n",
    "    'fee':fee,\n",
    "    'verify':'true',\n",
    "}\n",
    "r = rp.post('https://server.mddocz.com/doctors/profile/update', json = payload)"
   ]
  },
  {
   "cell_type": "code",
   "execution_count": 17,
   "id": "canadian-receptor",
   "metadata": {},
   "outputs": [
    {
     "name": "stdout",
     "output_type": "stream",
     "text": [
      "{\"status\":true,\"message\":\"Profile successfully updated\",\"data\":{\"basic\":{\"organization_name\":\"not found\",\"organizational_subpart\":\"not found\",\"enumeration_date\":\"not found\",\"last_updated\":\"not found\",\"status\":\"not found\",\"telephone_number\":\"not found\",\"title_or_position\":\"not found\",\"name_prefix\":\"not found\",\"name_suffix\":\"not found\",\"sole_proprietor\":\"not found\",\"gender\":\"not found\",\"name\":\"Edmond Massabni\"},\"document\":{\"idProof\":false,\"registrationProof\":false,\"establishment\":false},\"address\":[],\"taxonomies\":[],\"practiceLocation\":[],\"diseases\":[],\"description\":\"NA\",\"steps\":[0,0,0,0],\"is_in_network\":true,\"is_superDoc\":false,\"location_ids\":[],\"isActive\":true,\"isApproved\":false,\"availability\":[],\"appointments\":[\"6040a0ec4393163d34419226\",\"6040a0ec4393163d34419227\",\"6040a0ec4393163d34419228\",\"6040a0ec4393163d34419229\",\"6040a0ec4393163d3441922a\",\"6040a0ec4393163d3441922b\",\"6040a0ec4393163d3441922c\",\"6040a0ec4393163d3441922d\",\"6040a0ec4393163d3441922e\",\"6040a0ec4393163d3441922f\",\"6040a0ec4393163d34419230\",\"6040a0ec4393163d34419231\"],\"picture\":[],\"profileStatus\":true,\"question\":[],\"appointmentsString\":\"{\\\"duration\\\":\\\"15\\\",\\\"id\\\":\\\"\\\",\\\"weekdaysArr\\\":[{\\\"days\\\":[\\\"wednesday\\\",\\\"thursday\\\",\\\"friday\\\"],\\\"startTime\\\":\\\"02:30\\\",\\\"endTime\\\":\\\"11:30\\\",\\\"lunchStart\\\":\\\"06:30\\\",\\\"lunchEnd\\\":\\\"07:30\\\"},{\\\"days\\\":[\\\"monday\\\",\\\"tuesday\\\"],\\\"startTime\\\":\\\"03:30\\\",\\\"endTime\\\":\\\"12:30\\\",\\\"lunchStart\\\":\\\"06:30\\\",\\\"lunchEnd\\\":\\\"07:30\\\"}]}\",\"onBoarding\":false,\"referrals\":[],\"latestAppointment\":[\"6040a0ec4393163d34419226\",\"6040a0ec4393163d34419227\",\"6040a0ec4393163d34419228\"],\"payment\":true,\"isAssistant\":false,\"rights\":[],\"assistants\":[],\"charity\":false,\"clinic\":[],\"block\":false,\"deviceToken\":[],\"online\":false,\"socket\":[],\"conversations\":[],\"WaitingRoomSocket\":[],\"verify\":true,\"_id\":\"6040a0e94393163d34419223\",\"npi\":\"1972760510\",\"email\":\"edmond-massabni-dds-127003@gmail.com\",\"password\":\"985c201c0983d138a856ffb0c8d53890\",\"specialty\":\"Dentist\",\"customerProfile\":\"cus_J3JcfahQbardQL\",\"city\":\"Holliston\",\"state\":\"MA\",\"country\":\"United States\",\"firstName\":\"Edmond\",\"lastName\":\"Massabni\",\"referralId\":\"EdmondEf1CT_d\",\"createdOn\":\"2021-03-04T08:57:13.440Z\",\"education\":[{\"_id\":\"6040a15e4393163d34419232\",\"degree\":\"DDS\",\"university\":\"Loma Linda University\",\"year\":null}],\"PatientsWaiting\":[],\"__v\":0,\"meta\":\"6040a0e94393163d34419224\",\"bio\":\"Dr. Edmond Massabni has been practicing dentistry since 1994. He has served the Milford community as a general dentist for more than seven years. Dr. Massabni received his Doctorate of Dental Surgery with honors from Loma Linda University School of Dentistry in California, where he was recognized with the Professionalism Award. He is a fellow of the International Congress of Oral Implantologists and a graduate of Dawson Academy in occlusion and temporomandibular joint (TMJ) disorders.\\r\\n\\r\\nDr. Massabni is licensed in conscious sedation. He believes in practicing dentistry in a relaxed, stress-free atmosphere using the latest dental technologies to provide his patients with the best care in all aspects of oral health.\\r\\n\\r\\nDr. Massabni has completed advanced training in aesthetic and prosthetic dentistry, and he is a graduate of the Misch International Implant Institute.\",\"fee\":200,\"gender\":\"Male\"}}\n"
     ]
    }
   ],
   "source": [
    "print(r.text)"
   ]
  },
  {
   "cell_type": "code",
   "execution_count": 13,
   "id": "frank-convergence",
   "metadata": {},
   "outputs": [],
   "source": [
    "r = rp.get('https://server.mddocz.com/doctors/getDoc/603f92839b38c41335aec381')"
   ]
  },
  {
   "cell_type": "code",
   "execution_count": 15,
   "id": "significant-processing",
   "metadata": {},
   "outputs": [],
   "source": [
    "datas = {}"
   ]
  },
  {
   "cell_type": "code",
   "execution_count": 14,
   "id": "starting-information",
   "metadata": {},
   "outputs": [
    {
     "data": {
      "text/plain": [
       "'{\"status\":true,\"message\":\"Fetched\",\"data\":{\"basic\":{\"organization_name\":\"not found\",\"organizational_subpart\":\"not found\",\"enumeration_date\":\"not found\",\"last_updated\":\"not found\",\"status\":\"not found\",\"telephone_number\":\"not found\",\"title_or_position\":\"not found\",\"name_prefix\":\"not found\",\"name_suffix\":\"not found\",\"sole_proprietor\":\"not found\",\"gender\":\"not found\",\"name\":\"Abbe Kellner-Kutno\"},\"document\":{\"idProof\":false,\"registrationProof\":false,\"establishment\":false},\"address\":[],\"taxonomies\":[],\"practiceLocation\":[],\"diseases\":[],\"description\":\"NA\",\"steps\":[0,0,0,0],\"is_in_network\":true,\"is_superDoc\":false,\"location_ids\":[],\"isActive\":true,\"isApproved\":false,\"availability\":[],\"appointments\":[{\"cancelledBy\":{\"cancelledByPatient\":false,\"cancelledByDoctor\":false},\"bookedFor\":\"2021-03-03T10:30:00.000Z\",\"bookedOn\":\"2021-03-03T11:19:29.513Z\",\"paid\":false,\"booked\":false,\"approved\":false,\"quiz\":[],\"_id\":\"603f92879b38c41335aec385\",\"doctor\":\"603f92839b38c41335aec381\",\"createdAt\":\"2021-03-03T13:43:35.131Z\",\"updatedAt\":\"2021-03-03T13:43:35.131Z\",\"__enc_bookedOn_d\":\"\",\"__enc_bookedOn\":false,\"__enc_available_d\":\"\",\"__enc_available\":false,\"__v\":0,\"available\":true},{\"cancelledBy\":{\"cancelledByPatient\":false,\"cancelledByDoctor\":false},\"bookedFor\":\"2021-03-03T12:30:00.000Z\",\"bookedOn\":\"2021-03-03T11:19:29.513Z\",\"paid\":false,\"booked\":false,\"approved\":false,\"quiz\":[],\"_id\":\"603f92879b38c41335aec386\",\"available\":false,\"doctor\":\"603f92839b38c41335aec381\",\"createdAt\":\"2021-03-03T13:43:35.131Z\",\"updatedAt\":\"2021-03-03T13:43:35.131Z\",\"__enc_bookedOn_d\":\"\",\"__enc_bookedOn\":false,\"__v\":0},{\"cancelledBy\":{\"cancelledByPatient\":false,\"cancelledByDoctor\":false},\"bookedFor\":\"2021-03-03T14:30:00.000Z\",\"bookedOn\":\"2021-03-03T11:19:29.513Z\",\"paid\":false,\"booked\":false,\"approved\":false,\"quiz\":[],\"_id\":\"603f92879b38c41335aec387\",\"doctor\":\"603f92839b38c41335aec381\",\"createdAt\":\"2021-03-03T13:43:35.131Z\",\"updatedAt\":\"2021-03-03T13:43:35.131Z\",\"__enc_bookedOn_d\":\"\",\"__enc_bookedOn\":false,\"__enc_available_d\":\"\",\"__enc_available\":false,\"__v\":0,\"available\":true},{\"cancelledBy\":{\"cancelledByPatient\":false,\"cancelledByDoctor\":false},\"bookedFor\":\"2021-03-03T16:30:00.000Z\",\"bookedOn\":\"2021-03-03T11:19:29.513Z\",\"paid\":false,\"booked\":false,\"approved\":false,\"quiz\":[],\"_id\":\"603f92879b38c41335aec388\",\"doctor\":\"603f92839b38c41335aec381\",\"createdAt\":\"2021-03-03T13:43:35.131Z\",\"updatedAt\":\"2021-03-03T13:43:35.131Z\",\"__enc_bookedOn_d\":\"\",\"__enc_bookedOn\":false,\"__enc_available_d\":\"\",\"__enc_available\":false,\"__v\":0,\"available\":true},{\"cancelledBy\":{\"cancelledByPatient\":false,\"cancelledByDoctor\":false},\"bookedFor\":\"2021-03-03T18:30:00.000Z\",\"bookedOn\":\"2021-03-03T11:19:29.513Z\",\"paid\":false,\"booked\":false,\"approved\":false,\"quiz\":[],\"_id\":\"603f92879b38c41335aec389\",\"doctor\":\"603f92839b38c41335aec381\",\"createdAt\":\"2021-03-03T13:43:35.131Z\",\"updatedAt\":\"2021-03-03T13:43:35.131Z\",\"__enc_bookedOn_d\":\"\",\"__enc_bookedOn\":false,\"__enc_available_d\":\"\",\"__enc_available\":false,\"__v\":0,\"available\":true},{\"cancelledBy\":{\"cancelledByPatient\":false,\"cancelledByDoctor\":false},\"bookedFor\":\"2021-03-03T20:30:00.000Z\",\"bookedOn\":\"2021-03-03T11:19:29.513Z\",\"paid\":false,\"booked\":false,\"approved\":false,\"quiz\":[],\"_id\":\"603f92879b38c41335aec38a\",\"doctor\":\"603f92839b38c41335aec381\",\"createdAt\":\"2021-03-03T13:43:35.131Z\",\"updatedAt\":\"2021-03-03T13:43:35.131Z\",\"__enc_bookedOn_d\":\"\",\"__enc_bookedOn\":false,\"__enc_available_d\":\"\",\"__enc_available\":false,\"__v\":0,\"available\":true},{\"cancelledBy\":{\"cancelledByPatient\":false,\"cancelledByDoctor\":false},\"bookedFor\":\"2021-03-04T10:30:00.000Z\",\"bookedOn\":\"2021-03-03T11:19:29.513Z\",\"paid\":false,\"booked\":false,\"approved\":false,\"quiz\":[],\"_id\":\"603f92879b38c41335aec38b\",\"doctor\":\"603f92839b38c41335aec381\",\"createdAt\":\"2021-03-03T13:43:35.131Z\",\"updatedAt\":\"2021-03-03T13:43:35.131Z\",\"__enc_bookedOn_d\":\"\",\"__enc_bookedOn\":false,\"__enc_available_d\":\"\",\"__enc_available\":false,\"__v\":0,\"available\":true},{\"cancelledBy\":{\"cancelledByPatient\":false,\"cancelledByDoctor\":false},\"bookedFor\":\"2021-03-04T12:30:00.000Z\",\"bookedOn\":\"2021-03-03T11:19:29.513Z\",\"paid\":false,\"booked\":false,\"approved\":false,\"quiz\":[],\"_id\":\"603f92879b38c41335aec38c\",\"available\":false,\"doctor\":\"603f92839b38c41335aec381\",\"createdAt\":\"2021-03-03T13:43:35.131Z\",\"updatedAt\":\"2021-03-03T13:43:35.131Z\",\"__enc_bookedOn_d\":\"\",\"__enc_bookedOn\":false,\"__v\":0},{\"cancelledBy\":{\"cancelledByPatient\":false,\"cancelledByDoctor\":false},\"bookedFor\":\"2021-03-04T14:30:00.000Z\",\"bookedOn\":\"2021-03-03T11:19:29.513Z\",\"paid\":false,\"booked\":false,\"approved\":false,\"quiz\":[],\"_id\":\"603f92879b38c41335aec38d\",\"doctor\":\"603f92839b38c41335aec381\",\"createdAt\":\"2021-03-03T13:43:35.131Z\",\"updatedAt\":\"2021-03-03T13:43:35.131Z\",\"__enc_bookedOn_d\":\"\",\"__enc_bookedOn\":false,\"__enc_available_d\":\"\",\"__enc_available\":false,\"__v\":0,\"available\":true},{\"cancelledBy\":{\"cancelledByPatient\":false,\"cancelledByDoctor\":false},\"bookedFor\":\"2021-03-04T16:30:00.000Z\",\"bookedOn\":\"2021-03-03T11:19:29.513Z\",\"paid\":false,\"booked\":false,\"approved\":false,\"quiz\":[],\"_id\":\"603f92879b38c41335aec38e\",\"doctor\":\"603f92839b38c41335aec381\",\"createdAt\":\"2021-03-03T13:43:35.131Z\",\"updatedAt\":\"2021-03-03T13:43:35.131Z\",\"__enc_bookedOn_d\":\"\",\"__enc_bookedOn\":false,\"__enc_available_d\":\"\",\"__enc_available\":false,\"__v\":0,\"available\":true},{\"cancelledBy\":{\"cancelledByPatient\":false,\"cancelledByDoctor\":false},\"bookedFor\":\"2021-03-04T18:30:00.000Z\",\"bookedOn\":\"2021-03-03T11:19:29.513Z\",\"paid\":false,\"booked\":false,\"approved\":false,\"quiz\":[],\"_id\":\"603f92879b38c41335aec38f\",\"doctor\":\"603f92839b38c41335aec381\",\"createdAt\":\"2021-03-03T13:43:35.131Z\",\"updatedAt\":\"2021-03-03T13:43:35.131Z\",\"__enc_bookedOn_d\":\"\",\"__enc_bookedOn\":false,\"__enc_available_d\":\"\",\"__enc_available\":false,\"__v\":0,\"available\":true},{\"cancelledBy\":{\"cancelledByPatient\":false,\"cancelledByDoctor\":false},\"bookedFor\":\"2021-03-04T20:30:00.000Z\",\"bookedOn\":\"2021-03-03T11:19:29.513Z\",\"paid\":false,\"booked\":false,\"approved\":false,\"quiz\":[],\"_id\":\"603f92879b38c41335aec390\",\"doctor\":\"603f92839b38c41335aec381\",\"createdAt\":\"2021-03-03T13:43:35.131Z\",\"updatedAt\":\"2021-03-03T13:43:35.131Z\",\"__enc_bookedOn_d\":\"\",\"__enc_bookedOn\":false,\"__enc_available_d\":\"\",\"__enc_available\":false,\"__v\":0,\"available\":true},{\"cancelledBy\":{\"cancelledByPatient\":false,\"cancelledByDoctor\":false},\"bookedFor\":\"2021-03-05T10:30:00.000Z\",\"bookedOn\":\"2021-03-03T11:19:29.513Z\",\"paid\":false,\"booked\":false,\"approved\":false,\"quiz\":[],\"_id\":\"603f92879b38c41335aec391\",\"doctor\":\"603f92839b38c41335aec381\",\"createdAt\":\"2021-03-03T13:43:35.131Z\",\"updatedAt\":\"2021-03-03T13:43:35.131Z\",\"__enc_bookedOn_d\":\"\",\"__enc_bookedOn\":false,\"__enc_available_d\":\"\",\"__enc_available\":false,\"__v\":0,\"available\":true},{\"cancelledBy\":{\"cancelledByPatient\":false,\"cancelledByDoctor\":false},\"bookedFor\":\"2021-03-05T12:30:00.000Z\",\"bookedOn\":\"2021-03-03T11:19:29.513Z\",\"paid\":false,\"booked\":false,\"approved\":false,\"quiz\":[],\"_id\":\"603f92879b38c41335aec392\",\"available\":false,\"doctor\":\"603f92839b38c41335aec381\",\"createdAt\":\"2021-03-03T13:43:35.131Z\",\"updatedAt\":\"2021-03-03T13:43:35.131Z\",\"__enc_bookedOn_d\":\"\",\"__enc_bookedOn\":false,\"__v\":0},{\"cancelledBy\":{\"cancelledByPatient\":false,\"cancelledByDoctor\":false},\"bookedFor\":\"2021-03-05T14:30:00.000Z\",\"bookedOn\":\"2021-03-03T11:19:29.513Z\",\"paid\":false,\"booked\":false,\"approved\":false,\"quiz\":[],\"_id\":\"603f92879b38c41335aec393\",\"doctor\":\"603f92839b38c41335aec381\",\"createdAt\":\"2021-03-03T13:43:35.131Z\",\"updatedAt\":\"2021-03-03T13:43:35.131Z\",\"__enc_bookedOn_d\":\"\",\"__enc_bookedOn\":false,\"__enc_available_d\":\"\",\"__enc_available\":false,\"__v\":0,\"available\":true},{\"cancelledBy\":{\"cancelledByPatient\":false,\"cancelledByDoctor\":false},\"bookedFor\":\"2021-03-05T16:30:00.000Z\",\"bookedOn\":\"2021-03-03T11:19:29.513Z\",\"paid\":false,\"booked\":false,\"approved\":false,\"quiz\":[],\"_id\":\"603f92879b38c41335aec394\",\"doctor\":\"603f92839b38c41335aec381\",\"createdAt\":\"2021-03-03T13:43:35.131Z\",\"updatedAt\":\"2021-03-03T13:43:35.131Z\",\"__enc_bookedOn_d\":\"\",\"__enc_bookedOn\":false,\"__enc_available_d\":\"\",\"__enc_available\":false,\"__v\":0,\"available\":true},{\"cancelledBy\":{\"cancelledByPatient\":false,\"cancelledByDoctor\":false},\"bookedFor\":\"2021-03-05T18:30:00.000Z\",\"bookedOn\":\"2021-03-03T11:19:29.513Z\",\"paid\":false,\"booked\":false,\"approved\":false,\"quiz\":[],\"_id\":\"603f92879b38c41335aec395\",\"doctor\":\"603f92839b38c41335aec381\",\"createdAt\":\"2021-03-03T13:43:35.131Z\",\"updatedAt\":\"2021-03-03T13:43:35.131Z\",\"__enc_bookedOn_d\":\"\",\"__enc_bookedOn\":false,\"__enc_available_d\":\"\",\"__enc_available\":false,\"__v\":0,\"available\":true},{\"cancelledBy\":{\"cancelledByPatient\":false,\"cancelledByDoctor\":false},\"bookedFor\":\"2021-03-05T20:30:00.000Z\",\"bookedOn\":\"2021-03-03T11:19:29.513Z\",\"paid\":false,\"booked\":false,\"approved\":false,\"quiz\":[],\"_id\":\"603f92879b38c41335aec396\",\"doctor\":\"603f92839b38c41335aec381\",\"createdAt\":\"2021-03-03T13:43:35.131Z\",\"updatedAt\":\"2021-03-03T13:43:35.131Z\",\"__enc_bookedOn_d\":\"\",\"__enc_bookedOn\":false,\"__enc_available_d\":\"\",\"__enc_available\":false,\"__v\":0,\"available\":true}],\"picture\":[],\"profileStatus\":true,\"question\":[],\"appointmentsString\":\"{\\\\\"duration\\\\\":\\\\\"15\\\\\",\\\\\"id\\\\\":\\\\\"\\\\\",\\\\\"weekdaysArr\\\\\":[{\\\\\"days\\\\\":[\\\\\"wednesday\\\\\",\\\\\"thursday\\\\\",\\\\\"friday\\\\\"],\\\\\"startTime\\\\\":\\\\\"02:30\\\\\",\\\\\"endTime\\\\\":\\\\\"11:30\\\\\",\\\\\"lunchStart\\\\\":\\\\\"06:30\\\\\",\\\\\"lunchEnd\\\\\":\\\\\"07:30\\\\\"},{\\\\\"days\\\\\":[\\\\\"monday\\\\\",\\\\\"tuesday\\\\\"],\\\\\"startTime\\\\\":\\\\\"03:30\\\\\",\\\\\"endTime\\\\\":\\\\\"12:30\\\\\",\\\\\"lunchStart\\\\\":\\\\\"06:30\\\\\",\\\\\"lunchEnd\\\\\":\\\\\"07:30\\\\\"}]}\",\"onBoarding\":false,\"referrals\":[],\"latestAppointment\":[\"603f92879b38c41335aec385\",\"603f92879b38c41335aec386\",\"603f92879b38c41335aec387\"],\"payment\":true,\"isAssistant\":false,\"rights\":[],\"assistants\":[],\"charity\":false,\"clinic\":[],\"block\":false,\"deviceToken\":[],\"online\":false,\"socket\":[],\"conversations\":[],\"WaitingRoomSocket\":[],\"verify\":true,\"_id\":\"603f92839b38c41335aec381\",\"npi\":\"1760543029\",\"email\":\"abbe-kellner-kutno-dds-50588@gmail.com\",\"password\":\"985c201c0983d138a856ffb0c8d53890\",\"specialty\":\"Dentist\",\"customerProfile\":\"cus_J311O56NcKFTan\",\"city\":\"Elmsford\",\"state\":\"NY\",\"country\":\"United States\",\"firstName\":\"Abbe\",\"lastName\":\"Kellner-Kutno\",\"referralId\":\"AbbeseAye_d\",\"createdOn\":\"2021-03-03T13:43:31.721Z\",\"education\":[{\"_id\":\"603f92849b38c41335aec384\",\"degree\":\"DDS\",\"university\":\"State University of New York\",\"year\":null}],\"PatientsWaiting\":[],\"__v\":0,\"meta\":\"603f92839b38c41335aec382\",\"bio\":\"Dr. Kellner-Kutno graduated from the University at Buffalo School of Dental Medicine in 1994.  After graduation, she completed a General Practice Residency at the Erie County Medical Center in Buffalo, NY.  She began treating patients here, in Elmsford, in 1995.  She became a Fellow of the Academy of General Dentistry (FAGD) in 2010.\\\\r\\\\n\\\\r\\\\nDr. Kellner-Kutno strives to provide the best care for her patients.  Her commitment to continuing education keeps her up to date on the most current materials, techniques and technologies.  Dr. Kellner-Kutno has brought a fresh perspective to the practice.  Together, Drs. Kellner and Kellner-Kutno incorporate new materials and technology to benefit their patients. \\\\r\\\\n\\\\r\\\\nKellner Family Dental is truly a family practice.  Dr. Kellner-Kutno loves working with her father and enjoys the sharing of experiences and expertise.  She also loves the nature of the practice, caring for the families of the area and watching them grow.  \\\\r\\\\n\\\\r\\\\nDr. Kellner-Kutno enjoys traveling and spending time with her family.  She is married to her husband, Stephen, for 25 years and has 3 wonderful children.\",\"fee\":1500,\"gender\":\"Female\"}}'"
      ]
     },
     "execution_count": 14,
     "metadata": {},
     "output_type": "execute_result"
    }
   ],
   "source": [
    "r.text"
   ]
  },
  {
   "cell_type": "code",
   "execution_count": null,
   "id": "mechanical-anatomy",
   "metadata": {},
   "outputs": [],
   "source": []
  },
  {
   "cell_type": "code",
   "execution_count": 12,
   "id": "norwegian-category",
   "metadata": {},
   "outputs": [
    {
     "name": "stdout",
     "output_type": "stream",
     "text": [
      "Multiple Choice Type QuestionsChoose the correct alternatives for the following.\n",
      "1. A state diagram (a) is not related to object modeling technology (b) does not have a node (c) Is a graph having the arcs and transitions (d) none of these\n",
      "2. The scope of a design must be (a) bounded (b) unbounded (c) not relevant for design (d) none of these\n",
      "3. A decision table is  (a) a truth table (b) a table that facilitates taking decisions (c) a table listing conditions and actions to be taken based on the testing of conditions (d) a table in a decision support system\n",
      "4. Quality assurance CASE tools are (a) OODMS (c) Source Code auditors (b) data bridges (d) none of these\n",
      "5. Documentation is prepared at the time of (a) commencing the study (b) every state (c) completion of the design (d) completion of implementation\n",
      "6. A system that does not interact with external environment is called (a) closed system (b) logical system (c) open system (d) hierarchical system\n",
      "7. Which of the following is not strategy for design?  (a) Bottom up (b) Top down (c) Embedded design (d) Hybrid design\n",
      "8. Structure English is a (a) coding technique (b) use for testing (c) design tool (d) none of these\n",
      "9. Requirement analysis includes (a) fact gathering (b) understanding of requirement (c) requirement documentation (d) all of these\n",
      "10. The role of a system analyst drawing up a requirement specification is similar to (a) architect designing a building (b) a structural engineer designing a building (c) a contractor constructing a building (d) the workers who construct a building\n",
      "- or -\n",
      "Multiple Choice Type QuestionsChoose the correct alternatives for the following.\n",
      "11. A data dictionary has information about (a) every data element in a dataflow (b) only key data element in a dataflow (c) only the important data elements in a dataflow (d) only the numeric data elements in dataflow\n",
      "12. A decision table (a) has a structured English equivalent representation (b) cannot be represented using structured English (c) does not have equivalent algorithmic representation (d) cannot be used to represent processes in a DFD\n",
      "13. Code review for a model is carried out  (a) as soon as skeletal code written (b) before the module is successfully compiled (c) after the module is successfully compiled and all the syntax errors are eliminated (d) before the module is successfully compiled and the syntax errors are eliminated\n",
      "14. Decision tree uses (a) pictorial representation of alternate conditions (b) nodes and branches (c) consequences of various depicted alternates (d) all of these\n",
      "15. Which of the following statements is false with respect to a data Dictionary? (a) It is a repository of the elements in a system (b) It manages detail (c) It documents system features (d) Data dictionary and data store both are same\n",
      "16. If the no. of conditions in a decision table is n, the no. of maximum no. of rules (columns) possible is (a) n (b) 2n (c) 2n (d) Log n\n",
      "- or -\n"
     ]
    }
   ],
   "source": [
    "driver = Edge(options = options)\n",
    "for i in range(1,3):\n",
    "    driver.get('https://paper.erudition.co.in/makaut/btech-in-computer-science-and-engineering/5/software-engineering/chapter/coding-documentation-and-testing/group-1/page-'+str(i))\n",
    "    soup = BeautifulSoup(driver.page_source, 'html.parser')  \n",
    "    for i in soup.find_all('p'):\n",
    "        print(i.text)"
   ]
  },
  {
   "cell_type": "code",
   "execution_count": 13,
   "id": "sharing-header",
   "metadata": {},
   "outputs": [],
   "source": [
    "driver.close()"
   ]
  },
  {
   "cell_type": "code",
   "execution_count": 2,
   "id": "arabic-tourist",
   "metadata": {},
   "outputs": [
    {
     "name": "stderr",
     "output_type": "stream",
     "text": [
      "  7%|█████▏                                                                          | 28/429 [00:00<00:01, 272.38it/s]"
     ]
    },
    {
     "name": "stdout",
     "output_type": "stream",
     "text": [
      "urls: 7552\n",
      "doctors: 10429\n",
      "10429\n",
      "error 1720420979_JustinLai@gmail.com http://d3wnzga3fpd9a.cloudfront.net/photos/Dr-Justin-Lai-DDS-214944-circle_large__v2__.png\n"
     ]
    },
    {
     "name": "stderr",
     "output_type": "stream",
     "text": [
      "\r",
      "  7%|█████▏                                                                          | 28/429 [00:20<00:01, 272.38it/s]"
     ]
    },
    {
     "name": "stdout",
     "output_type": "stream",
     "text": [
      "error 1710113394_KelleyBrown@gmail.com http://d1k13df5m14swc.cloudfront.net/photos/Kelley-Brown-LPC-MA-279535-circle_large__v1__.png\n",
      "error 1861891566_ChristinaSchrack@gmail.com http://d3wnzga3fpd9a.cloudfront.net/photos/Christina-Schrack-NP-300215-circle_large__v1__.png\n",
      "error 1023465424_StephanieLee@gmail.com http://d1k13df5m14swc.cloudfront.net/photos/Dr-Stephanie-Lee-DO-291665-circle_large__v1__.png\n",
      "error 1578820379_NeetaMehta@gmail.com http://d1k13df5m14swc.cloudfront.net/photos/Dr-Neeta-Mehta-MD-303696-circle_large__v1__.png\n",
      "error 1609938885_NaheedEsmail@gmail.com http://d3wnzga3fpd9a.cloudfront.net/photos/Dr-Naheed-Esmail-DO-305175-circle_large__v1__.png\n"
     ]
    },
    {
     "name": "stderr",
     "output_type": "stream",
     "text": [
      "\r",
      " 10%|███████▋                                                                         | 41/429 [00:40<08:04,  1.25s/it]"
     ]
    },
    {
     "name": "stdout",
     "output_type": "stream",
     "text": [
      "error 1922527563_ErinPilger@gmail.com http://d2uur722ua7fvv.cloudfront.net/photos/Erin-Pilger-NP-276654-circle_large__v1__.png\n",
      "error 1891806774_SarbjitVirk@gmail.com http://d1k13df5m14swc.cloudfront.net/photos/Dr-Sarbjit-Virk-OD-29319-circle_large__v1__.png\n",
      "error 1144403957_AllaTemkin@gmail.com http://d1k13df5m14swc.cloudfront.net/photos/Dr-Alla-Temkin-DDS-36138-circle_large.png\n",
      "error 1558418350_ParisaKhorsandi@gmail.com http://d2uur722ua7fvv.cloudfront.net/photos/Dr-Parisa-Khorsandi-MD-12637-circle_large.png\n",
      "error 1275527152_RolandoAtiga@gmail.com http://d1k13df5m14swc.cloudfront.net/photos/Dr-Rolando-Atiga-MD-254040-circle_large__v1__.png\n",
      "error 1649832114_GeenaGalvagno@gmail.com http://d1k13df5m14swc.cloudfront.net/photos/Geena-Galvagno-PA-314183-circle_large__v1__.png\n",
      "error"
     ]
    },
    {
     "name": "stderr",
     "output_type": "stream",
     "text": [
      "\r",
      " 10%|███████▉                                                                         | 42/429 [00:52<10:58,  1.70s/it]"
     ]
    },
    {
     "name": "stdout",
     "output_type": "stream",
     "text": [
      " 1720127533_BarryMalkiel@gmail.com http://d2uur722ua7fvv.cloudfront.net/photos/Dr-Barry-Malkiel-DDS-315387-circle_large__v1__.png\n",
      "errorerror  1588960389_ShirinPeters@gmail.com http://d1k13df5m14swc.cloudfront.net/photos/Dr-Shirin-Peters-MD-20421-circle_large__v1__.png\n",
      "1962692152_MichaelBerry@gmail.com http://d2uur722ua7fvv.cloudfront.net/photos/Dr-Michael-Berry-MD-23561-circle_large.png\n"
     ]
    },
    {
     "name": "stderr",
     "output_type": "stream",
     "text": [
      " 13%|██████████▍                                                                      | 55/429 [00:54<05:26,  1.15it/s]"
     ]
    },
    {
     "name": "stdout",
     "output_type": "stream",
     "text": [
      "error 1477932697_GamalielJ Roca@gmail.com http://d1k13df5m14swc.cloudfront.net/photos/Dr-Gamaliel-J-Roca-MD-287631-circle_large__v1__.png\n",
      "error 1679840326_SarahThompson@gmail.com http://d1k13df5m14swc.cloudfront.net/photos/Sarah-Thompson-NP-301825-circle_large__v4__.png\n",
      "error 1427344571_AlexisCorbitt@gmail.com http://d1k13df5m14swc.cloudfront.net/photos/Dr-Alexis-Corbitt-DDS-305723-circle_large__v1__.png\n",
      "error 1437532439_VidaWong@gmail.com"
     ]
    },
    {
     "name": "stderr",
     "output_type": "stream",
     "text": [
      "\r",
      " 14%|███████████▋                                                                     | 62/429 [01:10<07:50,  1.28s/it]"
     ]
    },
    {
     "name": "stdout",
     "output_type": "stream",
     "text": [
      " http://d2uur722ua7fvv.cloudfront.net/photos/Dr-Vida-Wong-DNP-310787-circle_large__v1__.png\n",
      "error"
     ]
    },
    {
     "name": "stderr",
     "output_type": "stream",
     "text": [
      "\r",
      " 15%|███████████▉                                                                     | 63/429 [01:10<07:31,  1.23s/it]"
     ]
    },
    {
     "name": "stdout",
     "output_type": "stream",
     "text": [
      " 1366478448_WilliamMcfadden@gmail.com http://d3wnzga3fpd9a.cloudfront.net/photos/Dr-William-Mcfadden-MD-305201-circle_large__v1__.png\n",
      "error error 1629097472_SureshShah@gmail.com http://d3wnzga3fpd9a.cloudfront.net/photos/Dr-Suresh-Shah-MD-85386-circle_large.png\n",
      "1992948939_GregoryPolar@gmail.com errorhttp://d2uur722ua7fvv.cloudfront.net/photos/Dr-Gregory-Polar-DO-279680-circle_large__v2__.png"
     ]
    },
    {
     "name": "stderr",
     "output_type": "stream",
     "text": [
      "\r",
      " 16%|████████████▊                                                                    | 68/429 [01:11<05:25,  1.11it/s]"
     ]
    },
    {
     "name": "stdout",
     "output_type": "stream",
     "text": [
      " 1609266824_NoahSands@gmail.com http://d3wnzga3fpd9a.cloudfront.net/photos/Dr-Noah-Sands-MD-198201-circle_large__v1__.png\n",
      "\n",
      "error 1013906791_JaneSoohoo@gmail.com http://d3wnzga3fpd9a.cloudfront.net/photos/Dr-Jane-Soohoo-MD-283793-circle_large__v1__.png\n"
     ]
    },
    {
     "name": "stderr",
     "output_type": "stream",
     "text": [
      "\r",
      " 17%|█████████████▊                                                                   | 73/429 [01:17<05:54,  1.00it/s]"
     ]
    },
    {
     "name": "stdout",
     "output_type": "stream",
     "text": [
      "error 1215938709_EricR. Shantzer@gmail.com http://d3wnzga3fpd9a.cloudfront.net/photos/Dr-Eric-R-Shantzer-DDS-59820-circle_large__v1__.png\n"
     ]
    },
    {
     "name": "stderr",
     "output_type": "stream",
     "text": [
      " 18%|██████████████▎                                                                  | 76/429 [01:34<11:27,  1.95s/it]"
     ]
    },
    {
     "name": "stdout",
     "output_type": "stream",
     "text": [
      "error 1366478448_WilliamMcfadden@gmail.com http://d3wnzga3fpd9a.cloudfront.net/photos/Dr-William-Mcfadden-MD-305201-circle_large__v1__.png\n",
      "error error1649308172_LauraKlein@gmail.com http://d3wnzga3fpd9a.cloudfront.net/photos/Dr-Laura-Klein-MD-296640-circle_large__v1__.png\n",
      " 1205169760_JoelWillis@gmail.com http://d2uur722ua7fvv.cloudfront.net/photos/Dr-Joel-Willis-DO-291485-circle_large__v1__.png\n"
     ]
    },
    {
     "name": "stderr",
     "output_type": "stream",
     "text": [
      "Exception in thread Thread-63:\n",
      "Traceback (most recent call last):\n",
      "  File \"<ipython-input-2-a2fd38cd9828>\", line 140, in doc_data\n",
      "    image = soup.find('img', {'data-test':'show-gallery'})['src']\n",
      "TypeError: 'NoneType' object is not subscriptable\n",
      "\n",
      "During handling of the above exception, another exception occurred:\n",
      "\n",
      "Traceback (most recent call last):\n",
      "  File \"E:\\software\\anaconda\\lib\\threading.py\", line 926, in _bootstrap_inner\n",
      "    self.run()\n",
      "  File \"E:\\software\\anaconda\\lib\\threading.py\", line 870, in run\n",
      "    self._target(*self._args, **self._kwargs)\n",
      "  File \"<ipython-input-2-a2fd38cd9828>\", line 142, in doc_data\n",
      "    image_not_found.append(url)\n",
      "NameError: name 'image_not_found' is not defined\n",
      "\n",
      " 18%|██████████████▌                                                                  | 77/429 [01:34<10:36,  1.81s/it]"
     ]
    },
    {
     "name": "stdout",
     "output_type": "stream",
     "text": [
      "errorerror 1760060636_WalterToller@gmail.com http://d1k13df5m14swc.cloudfront.net/photos/Walter-Toller-NP-PMHNP-BC-311712-circle_large__v1__.png\n",
      " 1306963665_AksanaAfanasenka@gmail.com http://d1k13df5m14swc.cloudfront.net/photos/Dr-Aksana-Afanasenka-MD-259743-circle_large__v1__.png\n",
      "error 1487802187_RaziaRangwala@gmail.com"
     ]
    },
    {
     "name": "stderr",
     "output_type": "stream",
     "text": [
      " 19%|███████████████▎                                                                 | 81/429 [01:35<06:59,  1.20s/it]"
     ]
    },
    {
     "name": "stdout",
     "output_type": "stream",
     "text": [
      " http://d1k13df5m14swc.cloudfront.net/photos/Dr-Razia-Rangwala-MD-240225-circle_large__v1__.png\n",
      "error 1023671419_SarahQuan@gmail.com http://d2uur722ua7fvv.cloudfront.net/photos/Dr-Sarah-Quan-OD-303341-circle_large__v2__.png\n"
     ]
    },
    {
     "name": "stderr",
     "output_type": "stream",
     "text": [
      " 21%|████████████████▊                                                                | 89/429 [01:40<04:50,  1.17it/s]"
     ]
    },
    {
     "name": "stdout",
     "output_type": "stream",
     "text": [
      "error 1093006942_BradleyHerrin@gmail.com http://d3wnzga3fpd9a.cloudfront.net/photos/Dr-Bradley-Herrin-MD-305217-circle_large__v1__.png\n"
     ]
    },
    {
     "name": "stderr",
     "output_type": "stream",
     "text": [
      " 21%|█████████████████▎                                                               | 92/429 [01:46<07:49,  1.39s/it]"
     ]
    },
    {
     "name": "stdout",
     "output_type": "stream",
     "text": [
      "error 1811050479_ManojMistry@gmail.com http://d1k13df5m14swc.cloudfront.net/photos/Dr-Manoj-Mistry-DDS-154152-circle_large__v1__.png\n",
      "error 1922396704_DianaAlderfer-Lengel@gmail.com http://d1k13df5m14swc.cloudfront.net/photos/Diana-Alderfer-Lengel-CRNP-FNP-294378-circle_large__v2__.png\n"
     ]
    },
    {
     "name": "stderr",
     "output_type": "stream",
     "text": [
      "Exception in thread Thread-93:\n",
      "Traceback (most recent call last):\n",
      "  File \"<ipython-input-2-a2fd38cd9828>\", line 140, in doc_data\n",
      "    image = soup.find('img', {'data-test':'show-gallery'})['src']\n",
      "TypeError: 'NoneType' object is not subscriptable\n",
      "\n",
      "During handling of the above exception, another exception occurred:\n",
      "\n",
      "Traceback (most recent call last):\n",
      "  File \"E:\\software\\anaconda\\lib\\threading.py\", line 926, in _bootstrap_inner\n",
      "    self.run()\n",
      "  File \"E:\\software\\anaconda\\lib\\threading.py\", line 870, in run\n",
      "    self._target(*self._args, **self._kwargs)\n",
      "  File \"<ipython-input-2-a2fd38cd9828>\", line 142, in doc_data\n",
      "    image_not_found.append(url)\n",
      "NameError: name 'image_not_found' is not defined\n",
      "\n"
     ]
    },
    {
     "name": "stdout",
     "output_type": "stream",
     "text": [
      "error 1073642104_CharlesD. Sarbeng@gmail.com http://d3wnzga3fpd9a.cloudfront.net/photos/Dr-Charles-D-Sarbeng-NP-DNP-MSN-PMHNP-317703-circle_large__v1__.png\n"
     ]
    },
    {
     "name": "stderr",
     "output_type": "stream",
     "text": [
      " 22%|█████████████████▋                                                               | 94/429 [01:54<11:49,  2.12s/it]"
     ]
    },
    {
     "name": "stdout",
     "output_type": "stream",
     "text": [
      "error "
     ]
    },
    {
     "name": "stderr",
     "output_type": "stream",
     "text": [
      " 22%|█████████████████▉                                                               | 95/429 [01:55<10:20,  1.86s/it]Exception in thread Thread-87:\n",
      "Traceback (most recent call last):\n",
      "  File \"<ipython-input-2-a2fd38cd9828>\", line 140, in doc_data\n",
      "    image = soup.find('img', {'data-test':'show-gallery'})['src']\n",
      "TypeError: 'NoneType' object is not subscriptable\n",
      "\n",
      "During handling of the above exception, another exception occurred:\n",
      "\n",
      "Traceback (most recent call last):\n",
      "  File \"E:\\software\\anaconda\\lib\\threading.py\", line 926, in _bootstrap_inner\n",
      "    self.run()\n",
      "  File \"E:\\software\\anaconda\\lib\\threading.py\", line 870, in run\n",
      "    self._target(*self._args, **self._kwargs)\n",
      "  File \"<ipython-input-2-a2fd38cd9828>\", line 142, in doc_data\n",
      "    image_not_found.append(url)\n",
      "NameError: name 'image_not_found' is not defined\n",
      "\n"
     ]
    },
    {
     "name": "stdout",
     "output_type": "stream",
     "text": [
      "error 1184712895_RichardSterling@gmail.com http://d2uur722ua7fvv.cloudfront.net/photos/Dr-Richard-Sterling-MD-317059-circle_large__v1__.png\n",
      "1326459496_JingXu@gmail.com http://d1k13df5m14swc.cloudfront.net/photos/Dr-Jing-Xu-MD-315504-circle_large__v1__.png\n",
      "error "
     ]
    },
    {
     "name": "stderr",
     "output_type": "stream",
     "text": [
      "\r",
      " 22%|██████████████████▏                                                              | 96/429 [01:56<08:59,  1.62s/it]"
     ]
    },
    {
     "name": "stdout",
     "output_type": "stream",
     "text": [
      "1992969398_VirginiaRichey@gmail.com http://d2uur722ua7fvv.cloudfront.net/photos/Dr-Virginia-Richey-DO-276600-circle_large__v2__.png\n"
     ]
    },
    {
     "name": "stderr",
     "output_type": "stream",
     "text": [
      " 23%|██████████████████▌                                                              | 98/429 [02:01<13:05,  2.37s/it]"
     ]
    },
    {
     "name": "stdout",
     "output_type": "stream",
     "text": [
      "error 1396791935_IvoHorak@gmail.com http://d3wnzga3fpd9a.cloudfront.net/photos/Dr-Ivo-Horak-OD-16141-circle_large__v1__.png\n"
     ]
    },
    {
     "name": "stderr",
     "output_type": "stream",
     "text": [
      " 24%|███████████████████▍                                                            | 104/429 [02:04<04:42,  1.15it/s]"
     ]
    },
    {
     "name": "stdout",
     "output_type": "stream",
     "text": [
      "error 1326132986_IsaacNamdar@gmail.com http://d3wnzga3fpd9a.cloudfront.net/photos/Dr-Isaac-Namdar-MD-FACS-6501-circle_large.png\n"
     ]
    },
    {
     "name": "stderr",
     "output_type": "stream",
     "text": [
      "\r",
      " 24%|███████████████████▌                                                            | 105/429 [02:07<07:10,  1.33s/it]"
     ]
    },
    {
     "name": "stdout",
     "output_type": "stream",
     "text": [
      "error 1003991340_MarthaHyde@gmail.com http://d3wnzga3fpd9a.cloudfront.net/photos/Dr-Martha-Hyde-MD-305151-circle_large__v1__.png\n"
     ]
    },
    {
     "name": "stderr",
     "output_type": "stream",
     "text": [
      " 25%|███████████████████▉                                                            | 107/429 [02:12<09:04,  1.69s/it]Exception in thread Thread-107:\n",
      "Traceback (most recent call last):\n",
      "  File \"<ipython-input-2-a2fd38cd9828>\", line 140, in doc_data\n",
      "    image = soup.find('img', {'data-test':'show-gallery'})['src']\n",
      "TypeError: 'NoneType' object is not subscriptable\n",
      "\n",
      "During handling of the above exception, another exception occurred:\n",
      "\n",
      "Traceback (most recent call last):\n",
      "  File \"E:\\software\\anaconda\\lib\\threading.py\", line 926, in _bootstrap_inner\n",
      "    self.run()\n",
      "  File \"E:\\software\\anaconda\\lib\\threading.py\", line 870, in run\n",
      "    self._target(*self._args, **self._kwargs)\n",
      "  File \"<ipython-input-2-a2fd38cd9828>\", line 142, in doc_data\n",
      "    image_not_found.append(url)\n",
      "NameError: name 'image_not_found' is not defined\n",
      "\n"
     ]
    },
    {
     "name": "stdout",
     "output_type": "stream",
     "text": [
      "error 1043619547_ShavonneGumbs@gmail.com http://d2uur722ua7fvv.cloudfront.net/photos/Shavonne-Gumbs-CRNP-288233-circle_large__v3__.png\n",
      "error 1518126614_BorisRosenfeld@gmail.com"
     ]
    },
    {
     "name": "stderr",
     "output_type": "stream",
     "text": [
      "\r",
      " 25%|████████████████████▏                                                           | 108/429 [02:16<12:26,  2.33s/it]"
     ]
    },
    {
     "name": "stdout",
     "output_type": "stream",
     "text": [
      " http://d2uur722ua7fvv.cloudfront.net/photos/Dr-Boris-Rosenfeld-DO-55845-circle_large.png\n"
     ]
    },
    {
     "name": "stderr",
     "output_type": "stream",
     "text": [
      " 26%|████████████████████▋                                                           | 111/429 [02:16<05:21,  1.01s/it]"
     ]
    },
    {
     "name": "stdout",
     "output_type": "stream",
     "text": [
      "error 1679543151_JosephineDlugopolski-Gach@gmail.com http://d3wnzga3fpd9a.cloudfront.net/photos/Dr-Josephine-Dlugopolski-Gach-MD-308735-circle_large__v1__.png\n",
      "error 1801837455_JenniferAvaliani@gmail.com http://d3wnzga3fpd9a.cloudfront.net/photos/Jennifer-Avaliani-PAC-248352-circle_large__v1__.png\n"
     ]
    },
    {
     "name": "stderr",
     "output_type": "stream",
     "text": [
      " 26%|█████████████████████                                                           | 113/429 [02:17<03:36,  1.46it/s]"
     ]
    },
    {
     "name": "stdout",
     "output_type": "stream",
     "text": [
      "error 1013914670_JanetTufaro@gmail.com http://d2uur722ua7fvv.cloudfront.net/photos/Dr-Janet-Tufaro-MD-262128-circle_large__v2__.png\n",
      "error 1003229113_BrookeParker@gmail.com http://d3wnzga3fpd9a.cloudfront.net/photos/Dr-Brooke-Parker-DO-303834-circle_large__v1__.png\n"
     ]
    },
    {
     "name": "stderr",
     "output_type": "stream",
     "text": [
      "\r",
      " 27%|█████████████████████▎                                                          | 114/429 [02:20<07:32,  1.44s/it]"
     ]
    },
    {
     "name": "stdout",
     "output_type": "stream",
     "text": [
      "error 1528135613_JonathanDubin@gmail.com http://d1k13df5m14swc.cloudfront.net/photos/Dr-Jonathan-Dubin-DMD-FAGD-308776-circle_large__v1__.png\n"
     ]
    },
    {
     "name": "stderr",
     "output_type": "stream",
     "text": [
      " 27%|█████████████████████▋                                                          | 116/429 [02:22<06:02,  1.16s/it]"
     ]
    },
    {
     "name": "stdout",
     "output_type": "stream",
     "text": [
      "error 1992168132_AprilKavanagh@gmail.com http://d3wnzga3fpd9a.cloudfront.net/photos/Dr-April-Kavanagh-MD-MPH-300756-circle_large__v1__.png\n"
     ]
    },
    {
     "name": "stderr",
     "output_type": "stream",
     "text": [
      "\r",
      " 27%|█████████████████████▊                                                          | 117/429 [02:27<10:30,  2.02s/it]"
     ]
    },
    {
     "name": "stdout",
     "output_type": "stream",
     "text": [
      "error 1366478448_WilliamMcfadden@gmail.com http://d3wnzga3fpd9a.cloudfront.net/photos/Dr-William-Mcfadden-MD-305201-circle_large__v1__.png\n"
     ]
    },
    {
     "name": "stderr",
     "output_type": "stream",
     "text": [
      " 28%|██████████████████████▏                                                         | 119/429 [02:28<06:41,  1.30s/it]"
     ]
    },
    {
     "name": "stdout",
     "output_type": "stream",
     "text": [
      "error 1720448186_KristenJones@gmail.com http://d1k13df5m14swc.cloudfront.net/photos/Kristen-Jones-PAC-310165-circle_large__v3__.png\n",
      "error 1750349254_MuhammadRamzan@gmail.com http://d1k13df5m14swc.cloudfront.net/photos/Dr-Muhammad-Ramzan-MD-24616-circle_large.png\n"
     ]
    },
    {
     "name": "stderr",
     "output_type": "stream",
     "text": [
      " 29%|███████████████████████▎                                                        | 125/429 [02:35<06:41,  1.32s/it]Exception in thread Thread-124:\n",
      "Traceback (most recent call last):\n",
      "  File \"<ipython-input-2-a2fd38cd9828>\", line 140, in doc_data\n",
      "    image = soup.find('img', {'data-test':'show-gallery'})['src']\n",
      "TypeError: 'NoneType' object is not subscriptable\n",
      "\n",
      "During handling of the above exception, another exception occurred:\n",
      "\n",
      "Traceback (most recent call last):\n",
      "  File \"E:\\software\\anaconda\\lib\\threading.py\", line 926, in _bootstrap_inner\n",
      "    self.run()\n",
      "  File \"E:\\software\\anaconda\\lib\\threading.py\", line 870, in run\n",
      "    self._target(*self._args, **self._kwargs)\n",
      "  File \"<ipython-input-2-a2fd38cd9828>\", line 142, in doc_data\n",
      "    image_not_found.append(url)\n",
      "NameError: name 'image_not_found' is not defined\n",
      "\n",
      " 30%|████████████████████████                                                        | 129/429 [02:38<03:42,  1.35it/s]"
     ]
    },
    {
     "name": "stdout",
     "output_type": "stream",
     "text": [
      "error 1528269677_G.Aaron Rogers@gmail.com http://d2uur722ua7fvv.cloudfront.net/photos/Dr-G-Aaron-Rogers-MD-FACS-93131-circle_large__v2__.png\n"
     ]
    },
    {
     "name": "stderr",
     "output_type": "stream",
     "text": [
      "\r",
      " 30%|████████████████████████▏                                                       | 130/429 [02:41<06:09,  1.24s/it]"
     ]
    },
    {
     "name": "stdout",
     "output_type": "stream",
     "text": [
      "error 1851735419_JonathanWeinberger@gmail.com http://d2uur722ua7fvv.cloudfront.net/photos/Dr-Jonathan-Weinberger-MD-287559-circle_large__v3__.png\n",
      "error 1376770370_Hai-YenNguyen@gmail.com http://d2uur722ua7fvv.cloudfront.net/photos/Dr-Hai-Yen-Nguyen-MD-259420-circle_large__v1__.png\n",
      "error 1376792606_KennethRosenstein@gmail.com http://d1k13df5m14swc.cloudfront.net/photos/Dr-Kenneth-Rosenstein-MD-247442-circle_large__v1__.png\n",
      "error 1679591846_KhalidAmin@gmail.com http://d2uur722ua7fvv.cloudfront.net/photos/Dr-Khalid-Amin-MD-306932-circle_large__v1__.png\n",
      "error 1467810366_AhmedSalman@gmail.com http://d2uur722ua7fvv.cloudfront.net/photos/Dr-Ahmed-Salman-DDS-295304-circle_large__v3__.png\n"
     ]
    },
    {
     "name": "stderr",
     "output_type": "stream",
     "text": [
      " 32%|█████████████████████████▎                                                      | 136/429 [02:46<03:18,  1.48it/s]"
     ]
    },
    {
     "name": "stdout",
     "output_type": "stream",
     "text": [
      "error 1568783595_C.Grant Staples@gmail.com http://d3wnzga3fpd9a.cloudfront.net/photos/Dr-C-Grant-Staples-MD-309664-circle_large__v1__.png\n",
      "error 1174614655_MichaelJ. Nathan@gmail.com http://d3wnzga3fpd9a.cloudfront.net/photos/Dr-Michael-J-Nathan-MD-8110-circle_large.png\n"
     ]
    },
    {
     "name": "stderr",
     "output_type": "stream",
     "text": [
      " 34%|███████████████████████████                                                     | 145/429 [02:56<02:34,  1.84it/s]"
     ]
    },
    {
     "name": "stdout",
     "output_type": "stream",
     "text": [
      "error 1457301699_RogerDiRuggiero@gmail.com http://d2uur722ua7fvv.cloudfront.net/photos/Dr-Roger-DiRuggiero-MD-25394-circle_large.png\n",
      "error 1366555401_MatthewBurke@gmail.com http://d2uur722ua7fvv.cloudfront.net/photos/Dr-Matthew-Burke-MD-304341-circle_large__v2__.png\n",
      "error 1932560836_EmileRochon@gmail.com http://d3wnzga3fpd9a.cloudfront.net/photos/Dr-Emile-Rochon-MD-290128-circle_large__v1__.png\n"
     ]
    },
    {
     "name": "stderr",
     "output_type": "stream",
     "text": [
      " 34%|███████████████████████████▍                                                    | 147/429 [03:05<09:27,  2.01s/it]Exception in thread Thread-147:\n",
      "Traceback (most recent call last):\n",
      "  File \"<ipython-input-2-a2fd38cd9828>\", line 140, in doc_data\n",
      "    image = soup.find('img', {'data-test':'show-gallery'})['src']\n",
      "TypeError: 'NoneType' object is not subscriptable\n",
      "\n",
      "During handling of the above exception, another exception occurred:\n",
      "\n",
      "Traceback (most recent call last):\n",
      "  File \"E:\\software\\anaconda\\lib\\threading.py\", line 926, in _bootstrap_inner\n",
      "    self.run()\n",
      "  File \"E:\\software\\anaconda\\lib\\threading.py\", line 870, in run\n",
      "    self._target(*self._args, **self._kwargs)\n",
      "  File \"<ipython-input-2-a2fd38cd9828>\", line 142, in doc_data\n",
      "    image_not_found.append(url)\n",
      "NameError: name 'image_not_found' is not defined\n",
      "\n",
      " 35%|███████████████████████████▊                                                    | 149/429 [03:06<06:15,  1.34s/it]"
     ]
    },
    {
     "name": "stdout",
     "output_type": "stream",
     "text": [
      "error 1609142355_NeelimaTummala@gmail.com http://d1k13df5m14swc.cloudfront.net/photos/Dr-Neelima-Tummala-MD-287710-circle_large__v1__.png\n"
     ]
    },
    {
     "name": "stderr",
     "output_type": "stream",
     "text": [
      " 36%|████████████████████████████▌                                                   | 153/429 [03:06<02:34,  1.79it/s]"
     ]
    },
    {
     "name": "stdout",
     "output_type": "stream",
     "text": [
      "error 1336139849_CristinaHolt@gmail.com http://d2uur722ua7fvv.cloudfront.net/photos/Dr-Cristina-Holt-MD-290155-circle_large__v1__.png\n"
     ]
    },
    {
     "name": "stderr",
     "output_type": "stream",
     "text": [
      "\r",
      " 36%|████████████████████████████▉                                                   | 155/429 [03:11<06:00,  1.32s/it]"
     ]
    },
    {
     "name": "stdout",
     "output_type": "stream",
     "text": [
      "error 1003027483_MariaBorodatcheva@gmail.com http://d1k13df5m14swc.cloudfront.net/photos/Dr-Maria-Borodatcheva-MD-257760-circle_large__v1__.png\n",
      "error 1275585473_JaneNguyen@gmail.com http://d1k13df5m14swc.cloudfront.net/photos/Dr-Jane-Nguyen-MD-147613-circle_large__v3__.png\n"
     ]
    },
    {
     "name": "stderr",
     "output_type": "stream",
     "text": [
      "Exception in thread Thread-156:\n",
      "Traceback (most recent call last):\n",
      "  File \"<ipython-input-2-a2fd38cd9828>\", line 140, in doc_data\n",
      "    image = soup.find('img', {'data-test':'show-gallery'})['src']\n",
      "TypeError: 'NoneType' object is not subscriptable\n",
      "\n",
      "During handling of the above exception, another exception occurred:\n",
      "\n",
      "Traceback (most recent call last):\n",
      "  File \"E:\\software\\anaconda\\lib\\threading.py\", line 926, in _bootstrap_inner\n",
      "    self.run()\n",
      "  File \"E:\\software\\anaconda\\lib\\threading.py\", line 870, in run\n",
      "    self._target(*self._args, **self._kwargs)\n",
      "  File \"<ipython-input-2-a2fd38cd9828>\", line 142, in doc_data\n",
      "    image_not_found.append(url)\n",
      "NameError: name 'image_not_found' is not defined\n",
      "\n",
      "\r",
      " 36%|█████████████████████████████                                                   | 156/429 [03:17<10:09,  2.23s/it]"
     ]
    },
    {
     "name": "stdout",
     "output_type": "stream",
     "text": [
      "error 1992740518_IanBennett@gmail.com "
     ]
    },
    {
     "name": "stderr",
     "output_type": "stream",
     "text": [
      "\r",
      " 37%|█████████████████████████████▎                                                  | 157/429 [03:18<08:38,  1.91s/it]"
     ]
    },
    {
     "name": "stdout",
     "output_type": "stream",
     "text": [
      "http://d3wnzga3fpd9a.cloudfront.net/photos/Dr-Ian-Bennett-MD-305840-circle_large__v1__.png\n",
      "error 1316930753_GeorgeMc Millan@gmail.com http://d2uur722ua7fvv.cloudfront.net/photos/Dr-George-Mc-Millan-MD-FACOG-188142-circle_large__v1__.png\n",
      "error 1992151179_YuanYao@gmail.com http://d1k13df5m14swc.cloudfront.net/photos/Dr-Yuan-Yao-MD-312010-circle_large__v1__.png\n"
     ]
    },
    {
     "name": "stderr",
     "output_type": "stream",
     "text": [
      " 38%|██████████████████████████████▊                                                 | 165/429 [03:27<04:57,  1.13s/it]"
     ]
    },
    {
     "name": "stdout",
     "output_type": "stream",
     "text": [
      "error 1659667236_PayamPourahmad-Haghighi@gmail.com http://d3wnzga3fpd9a.cloudfront.net/photos/Dr-Payam-Pourahmad-Haghighi-DDS-121474-circle_large__v1__.png\n"
     ]
    },
    {
     "name": "stderr",
     "output_type": "stream",
     "text": [
      " 39%|███████████████████████████████▌                                                | 169/429 [03:32<04:21,  1.00s/it]"
     ]
    },
    {
     "name": "stdout",
     "output_type": "stream",
     "text": [
      "error 1861434888_JaneSultanova@gmail.com http://d2uur722ua7fvv.cloudfront.net/photos/Dr-Jane-Sultanova-DO-28670-circle_large__v2__.png\n"
     ]
    },
    {
     "name": "stderr",
     "output_type": "stream",
     "text": [
      " 40%|████████████████████████████████▎                                               | 173/429 [03:38<04:43,  1.11s/it]"
     ]
    },
    {
     "name": "stdout",
     "output_type": "stream",
     "text": [
      "error 1669785770_FernandoPorter@gmail.com http://d3wnzga3fpd9a.cloudfront.net/photos/Dr-Fernando-Porter-MD-300204-circle_large__v1__.png\n",
      "error 1013906791_JaneSoohoo@gmail.com http://d3wnzga3fpd9a.cloudfront.net/photos/Dr-Jane-Soohoo-MD-283793-circle_large__v1__.png\n"
     ]
    },
    {
     "name": "stderr",
     "output_type": "stream",
     "text": [
      " 41%|████████████████████████████████▊                                               | 176/429 [03:43<04:41,  1.11s/it]"
     ]
    },
    {
     "name": "stdout",
     "output_type": "stream",
     "text": [
      "error 1477901577_ThomasMcGinn@gmail.com http://d1k13df5m14swc.cloudfront.net/photos/Dr-Thomas-McGinn-DO-313666-circle_large__v1__.png\n"
     ]
    },
    {
     "name": "stderr",
     "output_type": "stream",
     "text": [
      " 41%|█████████████████████████████████▏                                              | 178/429 [03:44<02:59,  1.40it/s]"
     ]
    },
    {
     "name": "stdout",
     "output_type": "stream",
     "text": [
      "error 1104909902_LissaHirsch@gmail.com http://d1k13df5m14swc.cloudfront.net/photos/Dr-Lissa-Hirsch-MD-118325-circle_large__v1__.png\n"
     ]
    },
    {
     "name": "stderr",
     "output_type": "stream",
     "text": [
      " 42%|█████████████████████████████████▊                                              | 181/429 [03:49<05:05,  1.23s/it]"
     ]
    },
    {
     "name": "stdout",
     "output_type": "stream",
     "text": [
      "error 1760060636_WalterToller@gmail.com http://d1k13df5m14swc.cloudfront.net/photos/Walter-Toller-NP-PMHNP-BC-311712-circle_large__v1__.png\n"
     ]
    },
    {
     "name": "stderr",
     "output_type": "stream",
     "text": [
      "\r",
      " 42%|█████████████████████████████████▉                                              | 182/429 [03:52<06:32,  1.59s/it]"
     ]
    },
    {
     "name": "stdout",
     "output_type": "stream",
     "text": [
      "error 1760429294_PeterPerdik@gmail.com http://d1k13df5m14swc.cloudfront.net/photos/Dr-Peter-Perdik-MD-213918-circle_large__v2__.png\n",
      "error 1407086879_AdebayoAkinsola@gmail.com http://d1k13df5m14swc.cloudfront.net/photos/Dr-Adebayo-Akinsola-MD-FAAP-197150-circle_large__v1__.png\n"
     ]
    },
    {
     "name": "stderr",
     "output_type": "stream",
     "text": [
      "\r",
      " 43%|██████████████████████████████████▏                                             | 183/429 [03:54<06:23,  1.56s/it]"
     ]
    },
    {
     "name": "stdout",
     "output_type": "stream",
     "text": [
      "error 1336174754_BarryRichman@gmail.com http://d1k13df5m14swc.cloudfront.net/photos/Dr-Barry-Richman-MD-27204-circle_large__v2__.png\n"
     ]
    },
    {
     "name": "stderr",
     "output_type": "stream",
     "text": [
      "Exception in thread Thread-181:\n",
      "Traceback (most recent call last):\n",
      "  File \"<ipython-input-2-a2fd38cd9828>\", line 140, in doc_data\n",
      "    image = soup.find('img', {'data-test':'show-gallery'})['src']\n",
      "TypeError: 'NoneType' object is not subscriptable\n",
      "\n",
      "During handling of the above exception, another exception occurred:\n",
      "\n",
      "Traceback (most recent call last):\n",
      "  File \"E:\\software\\anaconda\\lib\\threading.py\", line 926, in _bootstrap_inner\n",
      "    self.run()\n",
      "  File \"E:\\software\\anaconda\\lib\\threading.py\", line 870, in run\n",
      "    self._target(*self._args, **self._kwargs)\n",
      "  File \"<ipython-input-2-a2fd38cd9828>\", line 142, in doc_data\n",
      "    image_not_found.append(url)\n",
      "NameError: name 'image_not_found' is not defined\n",
      "\n",
      " 44%|██████████████████████████████████▊                                             | 187/429 [03:58<04:09,  1.03s/it]"
     ]
    },
    {
     "name": "stdout",
     "output_type": "stream",
     "text": [
      "error 1043410897_DesireeChow@gmail.com http://d2uur722ua7fvv.cloudfront.net/photos/Dr-Desiree-Chow-MD-219985-circle_large__v1__.png\n",
      "error 1689721201_KarenAlleyne@gmail.com http://d1k13df5m14swc.cloudfront.net/photos/Dr-Karen-Alleyne-MD-303213-circle_large__v1__.png\n",
      "error 1720126873_PabloSanchez-Barranco@gmail.com http://d2uur722ua7fvv.cloudfront.net/photos/Dr-Pablo-Sanchez-Barranco-MD-291971-circle_large__v1__.png\n",
      "error 1558434134_EdwardFruitman@gmail.com http://d1k13df5m14swc.cloudfront.net/photos/Dr-Edward-Fruitman-MD-24702-circle_large__v1__.png\n"
     ]
    },
    {
     "name": "stderr",
     "output_type": "stream",
     "text": [
      " 45%|███████████████████████████████████▉                                            | 193/429 [04:07<04:16,  1.08s/it]"
     ]
    },
    {
     "name": "stdout",
     "output_type": "stream",
     "text": [
      "error 1770901779_MeganFeng@gmail.com http://d1k13df5m14swc.cloudfront.net/photos/Dr-Megan-Feng-MD-302217-circle_large__v1__.png\n"
     ]
    },
    {
     "name": "stderr",
     "output_type": "stream",
     "text": [
      " 46%|████████████████████████████████████▉                                           | 198/429 [04:11<02:12,  1.75it/s]"
     ]
    },
    {
     "name": "stdout",
     "output_type": "stream",
     "text": [
      "error 1679704290_DeniseHalliburton@gmail.com http://d1k13df5m14swc.cloudfront.net/photos/Dr-Denise-Halliburton-DDS-297336-circle_large__v1__.png\n",
      "error 1366478448_WilliamMcfadden@gmail.com http://d3wnzga3fpd9a.cloudfront.net/photos/Dr-William-Mcfadden-MD-305201-circle_large__v1__.png\n"
     ]
    },
    {
     "name": "stderr",
     "output_type": "stream",
     "text": [
      "\r",
      " 47%|█████████████████████████████████████▎                                          | 200/429 [04:11<01:40,  2.27it/s]"
     ]
    },
    {
     "name": "stdout",
     "output_type": "stream",
     "text": [
      "error 1679712418_JasonMiller@gmail.com http://d2uur722ua7fvv.cloudfront.net/photos/Dr-Jason-Miller-MD-237698-circle_large__v2__.png\n"
     ]
    },
    {
     "name": "stderr",
     "output_type": "stream",
     "text": [
      "\r",
      " 47%|█████████████████████████████████████▋                                          | 202/429 [04:14<02:45,  1.37it/s]"
     ]
    },
    {
     "name": "stdout",
     "output_type": "stream",
     "text": [
      "error 1942558648_SamiraShenasi@gmail.com http://d2uur722ua7fvv.cloudfront.net/photos/Dr-Samira-Shenasi-DDS-290967-circle_large__v1__.png\n"
     ]
    },
    {
     "name": "stderr",
     "output_type": "stream",
     "text": [
      " 48%|██████████████████████████████████████▌                                         | 207/429 [04:16<01:59,  1.85it/s]Exception in thread Thread-199:\n",
      "Traceback (most recent call last):\n",
      "  File \"<ipython-input-2-a2fd38cd9828>\", line 140, in doc_data\n",
      "    image = soup.find('img', {'data-test':'show-gallery'})['src']\n",
      "TypeError: 'NoneType' object is not subscriptable\n",
      "\n",
      "During handling of the above exception, another exception occurred:\n",
      "\n",
      "Traceback (most recent call last):\n",
      "  File \"E:\\software\\anaconda\\lib\\threading.py\", line 926, in _bootstrap_inner\n",
      "    self.run()\n",
      "  File \"E:\\software\\anaconda\\lib\\threading.py\", line 870, in run\n",
      "    self._target(*self._args, **self._kwargs)\n",
      "  File \"<ipython-input-2-a2fd38cd9828>\", line 142, in doc_data\n",
      "    image_not_found.append(url)\n",
      "NameError: name 'image_not_found' is not defined\n",
      "\n"
     ]
    },
    {
     "name": "stdout",
     "output_type": "stream",
     "text": [
      "error 1427464098_AdamJ Burnett@gmail.com http://d2uur722ua7fvv.cloudfront.net/photos/Dr-Adam-J-Burnett-DDS-315253-circle_large__v1__.png\n",
      "error 1386609949_AntonRostovsky@gmail.com http://d3wnzga3fpd9a.cloudfront.net/photos/Dr-Anton-Rostovsky-MD-306650-circle_large__v2__.png\n",
      "error 1588829816_AnthonyCatipay@gmail.com http://d2uur722ua7fvv.cloudfront.net/photos/Dr-Anthony-Catipay-MD-276253-circle_large__v1__.png\n"
     ]
    },
    {
     "name": "stderr",
     "output_type": "stream",
     "text": [
      " 49%|███████████████████████████████████████▏                                        | 210/429 [04:29<07:30,  2.06s/it]"
     ]
    },
    {
     "name": "stdout",
     "output_type": "stream",
     "text": [
      "error 1477638179_ElenaPlavnik@gmail.com http://d3wnzga3fpd9a.cloudfront.net/photos/Dr-Elena-Plavnik-DO-188152-circle_large__v1__.png\n"
     ]
    },
    {
     "name": "stderr",
     "output_type": "stream",
     "text": [
      "\r",
      " 49%|███████████████████████████████████████▎                                        | 211/429 [04:29<05:26,  1.50s/it]"
     ]
    },
    {
     "name": "stdout",
     "output_type": "stream",
     "text": [
      "error 1407193014_LateraD. Terry@gmail.com http://d2uur722ua7fvv.cloudfront.net/photos/Latera-D-Terry-PA-311285-circle_large__v1__.png\n",
      "error 1053458349_AlanSchultz@gmail.com http://d3wnzga3fpd9a.cloudfront.net/photos/Dr-Alan-Schultz-DO-276522-circle_large__v1__.png\n",
      "error 1891908810_FatemehEbrahimi@gmail.com http://d2uur722ua7fvv.cloudfront.net/photos/Dr-Fatemeh-Ebrahimi-DDS-134029-circle_large.png\n",
      "error 1265815567_MaryMitchell@gmail.com http://d1k13df5m14swc.cloudfront.net/photos/Dr-Mary-Mitchell-DO-307761-circle_large__v1__.png\n"
     ]
    },
    {
     "name": "stderr",
     "output_type": "stream",
     "text": [
      " 50%|███████████████████████████████████████▋                                        | 213/429 [04:37<08:11,  2.27s/it]"
     ]
    },
    {
     "name": "stdout",
     "output_type": "stream",
     "text": [
      "error 1003229113_BrookeParker@gmail.com http://d3wnzga3fpd9a.cloudfront.net/photos/Dr-Brooke-Parker-DO-303834-circle_large__v1__.png\n"
     ]
    },
    {
     "name": "stderr",
     "output_type": "stream",
     "text": [
      " 50%|███████████████████████████████████████▉                                        | 214/429 [04:39<08:05,  2.26s/it]Exception in thread Thread-100:\n",
      "Traceback (most recent call last):\n",
      "  File \"<ipython-input-2-a2fd38cd9828>\", line 140, in doc_data\n",
      "    image = soup.find('img', {'data-test':'show-gallery'})['src']\n",
      "TypeError: 'NoneType' object is not subscriptable\n",
      "\n",
      "During handling of the above exception, another exception occurred:\n",
      "\n",
      "Traceback (most recent call last):\n",
      "  File \"E:\\software\\anaconda\\lib\\threading.py\", line 926, in _bootstrap_inner\n",
      "    self.run()\n",
      "  File \"E:\\software\\anaconda\\lib\\threading.py\", line 870, in run\n",
      "    self._target(*self._args, **self._kwargs)\n",
      "  File \"<ipython-input-2-a2fd38cd9828>\", line 142, in doc_data\n",
      "    image_not_found.append(url)\n",
      "NameError: name 'image_not_found' is not defined\n",
      "\n",
      " 50%|████████████████████████████████████████                                        | 215/429 [04:40<06:32,  1.83s/it]"
     ]
    },
    {
     "name": "stdout",
     "output_type": "stream",
     "text": [
      "error 1023252814_JuanHernandez@gmail.com http://d3wnzga3fpd9a.cloudfront.net/photos/Dr-Juan-Hernandez-MD-315994-circle_large__v1__.png\n"
     ]
    },
    {
     "name": "stderr",
     "output_type": "stream",
     "text": [
      " 51%|████████████████████████████████████████▊                                       | 219/429 [04:46<06:40,  1.91s/it]"
     ]
    },
    {
     "name": "stdout",
     "output_type": "stream",
     "text": [
      "error 1225016454_KeithJackson@gmail.com http://d1k13df5m14swc.cloudfront.net/photos/Dr-Keith-Jackson-MD-195301-circle_large__v1__.png\n",
      "error 1801985122_MargueriteSummers@gmail.com http://d3wnzga3fpd9a.cloudfront.net/photos/Dr-Marguerite-Summers-MD-312223-circle_large__v1__.png\n"
     ]
    },
    {
     "name": "stderr",
     "output_type": "stream",
     "text": [
      " 52%|█████████████████████████████████████████▌                                      | 223/429 [04:50<03:32,  1.03s/it]"
     ]
    },
    {
     "name": "stdout",
     "output_type": "stream",
     "text": [
      "error 1821245325_ByronKennedy@gmail.com http://d3wnzga3fpd9a.cloudfront.net/photos/Dr-Byron-Kennedy-MD-204650-circle_large__v1__.pngerror\n",
      " error 1669785770_FernandoPorter@gmail.com http://d3wnzga3fpd9a.cloudfront.net/photos/Dr-Fernando-Porter-MD-300204-circle_large__v1__.png\n",
      "1134178106_DominicMaxwell@gmail.com http://d2uur722ua7fvv.cloudfront.net/photos/Dr-Dominic-Maxwell-MD-62309-circle_large__v1__.png\n"
     ]
    },
    {
     "name": "stderr",
     "output_type": "stream",
     "text": [
      " 53%|██████████████████████████████████████████▏                                     | 226/429 [04:54<03:51,  1.14s/it]"
     ]
    },
    {
     "name": "stdout",
     "output_type": "stream",
     "text": [
      "error 1710076427_MitchellJ. Mandel@gmail.com http://d3wnzga3fpd9a.cloudfront.net/photos/Dr-Mitchell-J-Mandel-MD-FAAD-10705-circle_large__v1__.png\n"
     ]
    },
    {
     "name": "stderr",
     "output_type": "stream",
     "text": [
      " 53%|██████████████████████████████████████████▋                                     | 229/429 [04:59<04:04,  1.22s/it]Exception in thread Thread-230:\n",
      "Traceback (most recent call last):\n",
      "  File \"<ipython-input-2-a2fd38cd9828>\", line 140, in doc_data\n",
      "    image = soup.find('img', {'data-test':'show-gallery'})['src']\n",
      "TypeError: 'NoneType' object is not subscriptable\n",
      "\n",
      "During handling of the above exception, another exception occurred:\n",
      "\n",
      "Traceback (most recent call last):\n",
      "  File \"E:\\software\\anaconda\\lib\\threading.py\", line 926, in _bootstrap_inner\n",
      "    self.run()\n",
      "  File \"E:\\software\\anaconda\\lib\\threading.py\", line 870, in run\n",
      "    self._target(*self._args, **self._kwargs)\n",
      "  File \"<ipython-input-2-a2fd38cd9828>\", line 142, in doc_data\n",
      "    image_not_found.append(url)\n",
      "NameError: name 'image_not_found' is not defined\n",
      "\n",
      " 54%|███████████████████████████████████████████▍                                    | 233/429 [05:00<01:31,  2.14it/s]Exception in thread Thread-228:\n",
      "Traceback (most recent call last):\n",
      "  File \"<ipython-input-2-a2fd38cd9828>\", line 140, in doc_data\n",
      "    image = soup.find('img', {'data-test':'show-gallery'})['src']\n",
      "TypeError: 'NoneType' object is not subscriptable\n",
      "\n",
      "During handling of the above exception, another exception occurred:\n",
      "\n",
      "Traceback (most recent call last):\n",
      "  File \"E:\\software\\anaconda\\lib\\threading.py\", line 926, in _bootstrap_inner\n",
      "    self.run()\n",
      "  File \"E:\\software\\anaconda\\lib\\threading.py\", line 870, in run\n",
      "    self._target(*self._args, **self._kwargs)\n",
      "  File \"<ipython-input-2-a2fd38cd9828>\", line 142, in doc_data\n",
      "    image_not_found.append(url)\n",
      "NameError: name 'image_not_found' is not defined\n",
      "\n",
      " 55%|████████████████████████████████████████████▏                                   | 237/429 [05:12<07:09,  2.24s/it]"
     ]
    },
    {
     "name": "stdout",
     "output_type": "stream",
     "text": [
      "error 1306805577_BrianKrachman@gmail.com http://d1k13df5m14swc.cloudfront.net/photos/Dr-Brian-Krachman-DO-309808-circle_large__v1__.png\n"
     ]
    },
    {
     "name": "stderr",
     "output_type": "stream",
     "text": [
      " 56%|████████████████████████████████████████████▌                                   | 239/429 [05:13<03:58,  1.25s/it]"
     ]
    },
    {
     "name": "stdout",
     "output_type": "stream",
     "text": [
      "error 1568484020_ShefaliShah@gmail.com http://d3wnzga3fpd9a.cloudfront.net/photos/Dr-Shefali-Shah-MD-36430-circle_large.png\n"
     ]
    },
    {
     "name": "stderr",
     "output_type": "stream",
     "text": [
      " 56%|████████████████████████████████████████████▉                                   | 241/429 [05:18<06:22,  2.03s/it]Exception in thread Thread-241:\n",
      "Traceback (most recent call last):\n",
      "  File \"<ipython-input-2-a2fd38cd9828>\", line 140, in doc_data\n",
      "    image = soup.find('img', {'data-test':'show-gallery'})['src']\n",
      "TypeError: 'NoneType' object is not subscriptable\n",
      "\n",
      "During handling of the above exception, another exception occurred:\n",
      "\n",
      "Traceback (most recent call last):\n",
      "  File \"E:\\software\\anaconda\\lib\\threading.py\", line 926, in _bootstrap_inner\n",
      "    self.run()\n",
      "  File \"E:\\software\\anaconda\\lib\\threading.py\", line 870, in run\n",
      "    self._target(*self._args, **self._kwargs)\n",
      "  File \"<ipython-input-2-a2fd38cd9828>\", line 142, in doc_data\n",
      "    image_not_found.append(url)\n",
      "NameError: name 'image_not_found' is not defined\n",
      "\n",
      " 57%|█████████████████████████████████████████████▎                                  | 243/429 [05:19<04:10,  1.35s/it]"
     ]
    },
    {
     "name": "stdout",
     "output_type": "stream",
     "text": [
      "error 1104845155_IffatSadique@gmail.com http://d1k13df5m14swc.cloudfront.net/photos/Dr-Iffat-Sadique-MD-103112-circle_large__v1__.png\n"
     ]
    },
    {
     "name": "stderr",
     "output_type": "stream",
     "text": [
      "\r",
      " 57%|█████████████████████████████████████████████▌                                  | 244/429 [05:24<07:39,  2.49s/it]"
     ]
    },
    {
     "name": "stdout",
     "output_type": "stream",
     "text": [
      "error 1093801128_JosephCavuto@gmail.com http://d3wnzga3fpd9a.cloudfront.net/photos/Dr-Joseph-Cavuto-DO-25659-circle_large.png\n",
      "error 1861891566_ChristinaSchrack@gmail.com http://d3wnzga3fpd9a.cloudfront.net/photos/Christina-Schrack-NP-300215-circle_large__v1__.png\n"
     ]
    },
    {
     "name": "stderr",
     "output_type": "stream",
     "text": [
      "Exception in thread Thread-244:\n",
      "Traceback (most recent call last):\n",
      "  File \"<ipython-input-2-a2fd38cd9828>\", line 140, in doc_data\n",
      "    image = soup.find('img', {'data-test':'show-gallery'})['src']\n",
      "TypeError: 'NoneType' object is not subscriptable\n",
      "\n",
      "During handling of the above exception, another exception occurred:\n",
      "\n",
      "Traceback (most recent call last):\n",
      "  File \"E:\\software\\anaconda\\lib\\threading.py\", line 926, in _bootstrap_inner\n",
      "    self.run()\n",
      "  File \"E:\\software\\anaconda\\lib\\threading.py\", line 870, in run\n",
      "    self._target(*self._args, **self._kwargs)\n",
      "  File \"<ipython-input-2-a2fd38cd9828>\", line 142, in doc_data\n",
      "    image_not_found.append(url)\n",
      "NameError: name 'image_not_found' is not defined\n",
      "\n",
      "Exception in thread Thread-247:\n",
      "Traceback (most recent call last):\n",
      "  File \"<ipython-input-2-a2fd38cd9828>\", line 140, in doc_data\n",
      "    image = soup.find('img', {'data-test':'show-gallery'})['src']\n",
      "TypeError: 'NoneType' object is not subscriptable\n",
      "\n",
      "During handling of the above exception, another exception occurred:\n",
      "\n",
      "Traceback (most recent call last):\n",
      "  File \"E:\\software\\anaconda\\lib\\threading.py\", line 926, in _bootstrap_inner\n",
      "    self.run()\n",
      "  File \"E:\\software\\anaconda\\lib\\threading.py\", line 870, in run\n",
      "    self._target(*self._args, **self._kwargs)\n",
      "  File \"<ipython-input-2-a2fd38cd9828>\", line 142, in doc_data\n",
      "    image_not_found.append(url)\n",
      "NameError: name 'image_not_found' is not defined\n",
      "\n",
      " 57%|█████████████████████████████████████████████▊                                  | 246/429 [05:27<05:44,  1.88s/it]"
     ]
    },
    {
     "name": "stdout",
     "output_type": "stream",
     "text": [
      "error 1902128143_Cohloe'-ShaiShelton@gmail.com http://d3wnzga3fpd9a.cloudfront.net/photos/Dr-Cohloe'-Shai-Shelton-DDS-85422-circle_large.png\n"
     ]
    },
    {
     "name": "stderr",
     "output_type": "stream",
     "text": [
      " 59%|██████████████████████████████████████████████▊                                 | 251/429 [05:33<04:00,  1.35s/it]"
     ]
    },
    {
     "name": "stdout",
     "output_type": "stream",
     "text": [
      "error 1346428208_NadiaMohyuddin@gmail.com http://d2uur722ua7fvv.cloudfront.net/photos/Dr-Nadia-Mohyuddin-MD-301857-circle_large__v1__.png\n"
     ]
    },
    {
     "name": "stderr",
     "output_type": "stream",
     "text": [
      "\r",
      " 59%|██████████████████████████████████████████████▉                                 | 252/429 [05:37<05:54,  2.01s/it]"
     ]
    },
    {
     "name": "stdout",
     "output_type": "stream",
     "text": [
      "error 1063791572_FaisalHamid@gmail.com http://d2uur722ua7fvv.cloudfront.net/photos/Dr-Faisal-Hamid-MD-240914-circle_large__v1__.png\n"
     ]
    },
    {
     "name": "stderr",
     "output_type": "stream",
     "text": [
      " 59%|███████████████████████████████████████████████▌                                | 255/429 [05:41<05:11,  1.79s/it]"
     ]
    },
    {
     "name": "stdout",
     "output_type": "stream",
     "text": [
      "error 1922069012_VikasDesai@gmail.com http://d3wnzga3fpd9a.cloudfront.net/photos/Dr-Vikas-Desai-MD-13190-circle_large.png\n",
      "error 1205169760_JoelWillis@gmail.com http://d2uur722ua7fvv.cloudfront.net/photos/Dr-Joel-Willis-DO-291485-circle_large__v1__.png\n"
     ]
    },
    {
     "name": "stderr",
     "output_type": "stream",
     "text": [
      " 60%|████████████████████████████████████████████████                                | 258/429 [05:46<04:13,  1.48s/it]"
     ]
    },
    {
     "name": "stdout",
     "output_type": "stream",
     "text": [
      "error 1891803599_AndreaGault@gmail.com http://d1k13df5m14swc.cloudfront.net/photos/Dr-Andrea-Gault-DO-317156-circle_large__v2__.png\n"
     ]
    },
    {
     "name": "stderr",
     "output_type": "stream",
     "text": [
      " 62%|█████████████████████████████████████████████████▊                              | 267/429 [05:58<03:27,  1.28s/it]"
     ]
    },
    {
     "name": "stdout",
     "output_type": "stream",
     "text": [
      "error 1982719498_SamanthaSiranli@gmail.com http://d3wnzga3fpd9a.cloudfront.net/photos/Dr-Samantha-Siranli-DMD-FACP-80522-circle_large__v3__.png\n",
      "error 1629279120_HasanAwan@gmail.com http://d3wnzga3fpd9a.cloudfront.net/photos/Dr-Hasan-Awan-MD-43085-circle_large.png\n"
     ]
    },
    {
     "name": "stderr",
     "output_type": "stream",
     "text": [
      "\r",
      " 63%|██████████████████████████████████████████████████▎                             | 270/429 [06:01<02:43,  1.03s/it]"
     ]
    },
    {
     "name": "stdout",
     "output_type": "stream",
     "text": [
      "error 1891357638_JessicaMilone@gmail.com http://d3wnzga3fpd9a.cloudfront.net/photos/Dr-Jessica-Milone-DNP-311711-circle_large__v1__.png\n",
      "error 1366732570_KarthikKaribandi@gmail.com http://d1k13df5m14swc.cloudfront.net/photos/Dr-Karthik-Karibandi-MD-286773-circle_large__v1__.png\n",
      "error 1023469871_JustinBral@gmail.com http://d2uur722ua7fvv.cloudfront.net/photos/Dr-Justin-Bral-DDS-288640-circle_large__v1__.png\n",
      "error 1003997131_ParveenJaglan-Sharma@gmail.com http://d1k13df5m14swc.cloudfront.net/photos/Dr-Parveen-Jaglan-Sharma-OD-23562-circle_large.png\n",
      "error 1750872677_JeffreyWeisbord@gmail.com http://d2uur722ua7fvv.cloudfront.net/photos/Dr-Jeffrey-Weisbord-DDS-292702-circle_large__v1__.png\n"
     ]
    },
    {
     "name": "stderr",
     "output_type": "stream",
     "text": [
      " 65%|███████████████████████████████████████████████████▋                            | 277/429 [06:19<06:09,  2.43s/it]"
     ]
    },
    {
     "name": "stdout",
     "output_type": "stream",
     "text": [
      "error 1669785770_FernandoPorter@gmail.com http://d3wnzga3fpd9a.cloudfront.net/photos/Dr-Fernando-Porter-MD-300204-circle_large__v1__.png\n"
     ]
    },
    {
     "name": "stderr",
     "output_type": "stream",
     "text": [
      " 65%|████████████████████████████████████████████████████▏                           | 280/429 [06:22<03:30,  1.41s/it]"
     ]
    },
    {
     "name": "stdout",
     "output_type": "stream",
     "text": [
      "error 1992886717_NasreenAnsari@gmail.com http://d1k13df5m14swc.cloudfront.net/photos/Dr-Nasreen-Ansari-MD-241584-circle_large__v2__.png\n"
     ]
    },
    {
     "name": "stderr",
     "output_type": "stream",
     "text": [
      " 66%|████████████████████████████████████████████████████▍                           | 281/429 [06:24<03:25,  1.39s/it]Exception in thread Thread-283:\n",
      "Traceback (most recent call last):\n",
      "  File \"<ipython-input-2-a2fd38cd9828>\", line 140, in doc_data\n",
      "    image = soup.find('img', {'data-test':'show-gallery'})['src']\n",
      "TypeError: 'NoneType' object is not subscriptable\n",
      "\n",
      "During handling of the above exception, another exception occurred:\n",
      "\n",
      "Traceback (most recent call last):\n",
      "  File \"E:\\software\\anaconda\\lib\\threading.py\", line 926, in _bootstrap_inner\n",
      "    self.run()\n",
      "  File \"E:\\software\\anaconda\\lib\\threading.py\", line 870, in run\n",
      "    self._target(*self._args, **self._kwargs)\n",
      "  File \"<ipython-input-2-a2fd38cd9828>\", line 142, in doc_data\n",
      "    image_not_found.append(url)\n",
      "NameError: name 'image_not_found' is not defined\n",
      "\n",
      " 66%|████████████████████████████████████████████████████▉                           | 284/429 [06:28<02:55,  1.21s/it]"
     ]
    },
    {
     "name": "stdout",
     "output_type": "stream",
     "text": [
      "error 1518498476_IkeUzowulu@gmail.com http://d2uur722ua7fvv.cloudfront.net/photos/Ike-Uzowulu-NP-311740-circle_large__v1__.png\n"
     ]
    },
    {
     "name": "stderr",
     "output_type": "stream",
     "text": [
      " 66%|█████████████████████████████████████████████████████▏                          | 285/429 [06:30<03:15,  1.36s/it]Exception in thread Thread-284:\n",
      "Traceback (most recent call last):\n",
      "  File \"<ipython-input-2-a2fd38cd9828>\", line 140, in doc_data\n",
      "    image = soup.find('img', {'data-test':'show-gallery'})['src']\n",
      "TypeError: 'NoneType' object is not subscriptable\n",
      "\n",
      "During handling of the above exception, another exception occurred:\n",
      "\n",
      "Traceback (most recent call last):\n",
      "  File \"E:\\software\\anaconda\\lib\\threading.py\", line 926, in _bootstrap_inner\n",
      "    self.run()\n",
      "  File \"E:\\software\\anaconda\\lib\\threading.py\", line 870, in run\n",
      "    self._target(*self._args, **self._kwargs)\n",
      "  File \"<ipython-input-2-a2fd38cd9828>\", line 142, in doc_data\n",
      "    image_not_found.append(url)\n",
      "NameError: name 'image_not_found' is not defined\n",
      "\n"
     ]
    },
    {
     "name": "stdout",
     "output_type": "stream",
     "text": [
      "error 1700910312_AbbeFriedberg@gmail.com http://d3wnzga3fpd9a.cloudfront.net/photos/Abbe-Friedberg-NP-279666-circle_large__v1__.png\n",
      "error 1740679455_MahboubehSahrai@gmail.com http://d2uur722ua7fvv.cloudfront.net/photos/Dr-Mahboubeh-Sahrai-DDS-287328-circle_large__v18__.png\n"
     ]
    },
    {
     "name": "stderr",
     "output_type": "stream",
     "text": [
      " 67%|█████████████████████████████████████████████████████▉                          | 289/429 [06:34<02:05,  1.11it/s]"
     ]
    },
    {
     "name": "stdout",
     "output_type": "stream",
     "text": [
      "error 1689272676_BrittanyRice@gmail.com http://d1k13df5m14swc.cloudfront.net/photos/Brittany-Rice-LCSW-316049-circle_large__v1__.png\n"
     ]
    },
    {
     "name": "stderr",
     "output_type": "stream",
     "text": [
      "\r",
      " 68%|██████████████████████████████████████████████████████                          | 290/429 [06:36<02:51,  1.23s/it]"
     ]
    },
    {
     "name": "stdout",
     "output_type": "stream",
     "text": [
      "error 1073969473_AntoniaCofer@gmail.com http://d2uur722ua7fvv.cloudfront.net/photos/Dr-Antonia-Cofer-DDS-152428-circle_large.png\n",
      "error 1255368163_FelixChien@gmail.com http://d3wnzga3fpd9a.cloudfront.net/photos/Dr-Felix-Chien-DO-205352-circle_large__v5__.png\n"
     ]
    },
    {
     "name": "stderr",
     "output_type": "stream",
     "text": [
      "\r",
      " 68%|██████████████████████████████████████████████████████▎                         | 291/429 [06:39<04:02,  1.75s/it]"
     ]
    },
    {
     "name": "stdout",
     "output_type": "stream",
     "text": [
      "error 1427292879_CarolynChang@gmail.com http://d1k13df5m14swc.cloudfront.net/photos/Dr-Carolyn-Chang-MD-204799-circle_large__v1__.png\n"
     ]
    },
    {
     "name": "stderr",
     "output_type": "stream",
     "text": [
      " 69%|███████████████████████████████████████████████████████                         | 295/429 [06:46<03:24,  1.52s/it]"
     ]
    },
    {
     "name": "stdout",
     "output_type": "stream",
     "text": [
      "error 1477950467_DmitriyKuznetsov@gmail.com http://d1k13df5m14swc.cloudfront.net/photos/Dr-Dmitriy-Kuznetsov-DDS-149478-circle_large.png\n"
     ]
    },
    {
     "name": "stderr",
     "output_type": "stream",
     "text": [
      " 70%|███████████████████████████████████████████████████████▊                        | 299/429 [06:50<01:58,  1.10it/s]"
     ]
    },
    {
     "name": "stdout",
     "output_type": "stream",
     "text": [
      "error 1992826994_AliciaMassop-Flowers@gmail.com http://d2uur722ua7fvv.cloudfront.net/photos/Dr-Alicia-Massop-Flowers-DO-107683-circle_large.png\n",
      "error 1568487742_DaljitSawhney@gmail.com http://d2uur722ua7fvv.cloudfront.net/photos/Dr-Daljit-Sawhney-MD-296457-circle_large__v2__.png\n"
     ]
    },
    {
     "name": "stderr",
     "output_type": "stream",
     "text": [
      "\r",
      " 70%|████████████████████████████████████████████████████████▎                       | 302/429 [06:56<03:22,  1.60s/it]"
     ]
    },
    {
     "name": "stdout",
     "output_type": "stream",
     "text": [
      "error 1700848504_RachelTorrez@gmail.com http://d3wnzga3fpd9a.cloudfront.net/photos/Dr-Rachel-Torrez-MD-23274-circle_large.png\n"
     ]
    },
    {
     "name": "stderr",
     "output_type": "stream",
     "text": [
      "\r",
      " 71%|████████████████████████████████████████████████████████▋                       | 304/429 [06:57<02:28,  1.19s/it]"
     ]
    },
    {
     "name": "stdout",
     "output_type": "stream",
     "text": [
      "error 1184767717_AdamRaff@gmail.com http://d2uur722ua7fvv.cloudfront.net/photos/Dr-Adam-Raff-MD-109495-circle_large.png\n",
      "error 1205169760_JoelWillis@gmail.com http://d2uur722ua7fvv.cloudfront.net/photos/Dr-Joel-Willis-DO-291485-circle_large__v1__.png\n"
     ]
    },
    {
     "name": "stderr",
     "output_type": "stream",
     "text": [
      " 73%|██████████████████████████████████████████████████████████▋                     | 315/429 [07:14<03:03,  1.61s/it]"
     ]
    },
    {
     "name": "stdout",
     "output_type": "stream",
     "text": [
      "error 1023548492_ShainaHakala@gmail.com http://d3wnzga3fpd9a.cloudfront.net/photos/Shaina-Hakala-ARNP-305199-circle_large__v1__.png\n",
      "error 1750318721_JonathanAronbayev@gmail.com http://d3wnzga3fpd9a.cloudfront.net/photos/Dr-Jonathan-Aronbayev-MD-141046-circle_large__v1__.png\n",
      "error 1659837417_DanielPinto@gmail.com http://d3wnzga3fpd9a.cloudfront.net/photos/Dr-Daniel-Pinto-DDS-MS-296306-circle_large__v4__.png\n"
     ]
    },
    {
     "name": "stderr",
     "output_type": "stream",
     "text": [
      "\r",
      " 74%|██████████████████████████████████████████████████████████▉                     | 316/429 [07:21<06:11,  3.29s/it]"
     ]
    },
    {
     "name": "stdout",
     "output_type": "stream",
     "text": [
      "error 1104348960_HochanHwang@gmail.com http://d2uur722ua7fvv.cloudfront.net/photos/Dr-Hochan-Hwang-DDS-290628-circle_large__v2__.png\n"
     ]
    },
    {
     "name": "stderr",
     "output_type": "stream",
     "text": [
      " 74%|███████████████████████████████████████████████████████████▍                    | 319/429 [07:24<03:19,  1.82s/it]"
     ]
    },
    {
     "name": "stdout",
     "output_type": "stream",
     "text": [
      "error 1902858095_AmberLong@gmail.com http://d2uur722ua7fvv.cloudfront.net/photos/Amber-Long-PAC-272628-circle_large.png\n"
     ]
    },
    {
     "name": "stderr",
     "output_type": "stream",
     "text": [
      " 75%|████████████████████████████████████████████████████████████                    | 322/429 [07:26<01:50,  1.03s/it]"
     ]
    },
    {
     "name": "stdout",
     "output_type": "stream",
     "text": [
      "error 1861538332_MelissaKresch@gmail.com http://d1k13df5m14swc.cloudfront.net/photos/Dr-Melissa-Kresch-PhD-62890-circle_large__v1__.png\n"
     ]
    },
    {
     "name": "stderr",
     "output_type": "stream",
     "text": [
      " 76%|████████████████████████████████████████████████████████████▉                   | 327/429 [07:30<01:14,  1.36it/s]"
     ]
    },
    {
     "name": "stdout",
     "output_type": "stream",
     "text": [
      "error 1962465179_PaulFree@gmail.com http://d1k13df5m14swc.cloudfront.net/photos/Dr-Paul-Free-MD-259824-circle_large__v1__.png\n",
      "error 1891908810_FatemehEbrahimi@gmail.com http://d2uur722ua7fvv.cloudfront.net/photos/Dr-Fatemeh-Ebrahimi-DDS-134029-circle_large.png\n",
      "error 1114918570_ColinDel Rosario@gmail.com http://d3wnzga3fpd9a.cloudfront.net/photos/Dr-Colin-Del-Rosario-DDS-290332-circle_large__v2__.png\n"
     ]
    },
    {
     "name": "stderr",
     "output_type": "stream",
     "text": [
      " 77%|█████████████████████████████████████████████████████████████▌                  | 330/429 [07:40<02:37,  1.59s/it]"
     ]
    },
    {
     "name": "stdout",
     "output_type": "stream",
     "text": [
      "error 1164866059_JustinAmarnani@gmail.com http://d1k13df5m14swc.cloudfront.net/photos/Dr-Justin-Amarnani-MD-273130-circle_large__v2__.png\n"
     ]
    },
    {
     "name": "stderr",
     "output_type": "stream",
     "text": [
      " 78%|██████████████████████████████████████████████████████████████                  | 333/429 [07:41<01:26,  1.11it/s]"
     ]
    },
    {
     "name": "stdout",
     "output_type": "stream",
     "text": [
      "error 1902035280_JennySun@gmail.com http://d2uur722ua7fvv.cloudfront.net/photos/Dr-Jenny-Sun-MD-282868-circle_large__v1__.png\n"
     ]
    },
    {
     "name": "stderr",
     "output_type": "stream",
     "text": [
      " 78%|██████████████████████████████████████████████████████████████▋                 | 336/429 [07:47<01:57,  1.26s/it]"
     ]
    },
    {
     "name": "stdout",
     "output_type": "stream",
     "text": [
      "error 1548675861_TinaShah@gmail.com http://d2uur722ua7fvv.cloudfront.net/photos/Dr-Tina-Shah-DDS-306071-circle_large__v1__.png\n"
     ]
    },
    {
     "name": "stderr",
     "output_type": "stream",
     "text": [
      " 79%|███████████████████████████████████████████████████████████████                 | 338/429 [07:49<01:34,  1.04s/it]"
     ]
    },
    {
     "name": "stdout",
     "output_type": "stream",
     "text": [
      "error 1326141698_RamonFerrand@gmail.com http://d3wnzga3fpd9a.cloudfront.net/photos/Dr-Ramon-Ferrand-MD-298851-circle_large__v2__.png\n"
     ]
    },
    {
     "name": "stderr",
     "output_type": "stream",
     "text": [
      " 80%|███████████████████████████████████████████████████████████████▊                | 342/429 [07:55<01:54,  1.31s/it]"
     ]
    },
    {
     "name": "stdout",
     "output_type": "stream",
     "text": [
      "error 1891760088_YvetteMcQueen@gmail.com http://d3wnzga3fpd9a.cloudfront.net/photos/Dr-Yvette-McQueen-MD-314180-circle_large__v1__.png\n",
      "error 1144540774_NataliaUsoltseva@gmail.com http://d2uur722ua7fvv.cloudfront.net/photos/Dr-Natalia-Usoltseva-MD-306314-circle_large__v1__.png\n"
     ]
    },
    {
     "name": "stderr",
     "output_type": "stream",
     "text": [
      " 80%|████████████████████████████████████████████████████████████████▎               | 345/429 [07:58<01:29,  1.06s/it]"
     ]
    },
    {
     "name": "stdout",
     "output_type": "stream",
     "text": [
      "error 1093257552_AnnaKutys@gmail.com http://d1k13df5m14swc.cloudfront.net/photos/Anna-Kutys-PA-313959-circle_large__v1__.png\n"
     ]
    },
    {
     "name": "stderr",
     "output_type": "stream",
     "text": [
      " 82%|█████████████████████████████████████████████████████████████████▊              | 353/429 [08:08<01:18,  1.04s/it]"
     ]
    },
    {
     "name": "stdout",
     "output_type": "stream",
     "text": [
      "error 1417164799_PiyaGhoshal@gmail.com http://d1k13df5m14swc.cloudfront.net/photos/Dr-Piya-Ghoshal-MD-80551-circle_large__v1__.png\n",
      "error 1306297254_AzadehNasiri@gmail.com http://d3wnzga3fpd9a.cloudfront.net/photos/Dr-Azadeh-Nasiri-MD-314161-circle_large__v2__.png\n"
     ]
    },
    {
     "name": "stderr",
     "output_type": "stream",
     "text": [
      "\r",
      " 83%|██████████████████████████████████████████████████████████████████              | 354/429 [08:13<02:34,  2.06s/it]"
     ]
    },
    {
     "name": "stdout",
     "output_type": "stream",
     "text": [
      "error 1205903978_RichardKlein@gmail.com http://d1k13df5m14swc.cloudfront.net/photos/Dr-Richard-Klein-MD-FACOG-34026-circle_large.png\n"
     ]
    },
    {
     "name": "stderr",
     "output_type": "stream",
     "text": [
      " 83%|██████████████████████████████████████████████████████████████████▌             | 357/429 [08:13<01:06,  1.08it/s]"
     ]
    },
    {
     "name": "stdout",
     "output_type": "stream",
     "text": [
      "error 1598996431_JamilahBirdsong@gmail.com http://d2uur722ua7fvv.cloudfront.net/photos/Dr-Jamilah-Birdsong-OD-21916-circle_large.png\n"
     ]
    },
    {
     "name": "stderr",
     "output_type": "stream",
     "text": [
      "Exception in thread Thread-359:\n",
      "Traceback (most recent call last):\n",
      "  File \"<ipython-input-2-a2fd38cd9828>\", line 140, in doc_data\n",
      "    image = soup.find('img', {'data-test':'show-gallery'})['src']\n",
      "TypeError: 'NoneType' object is not subscriptable\n",
      "\n",
      "During handling of the above exception, another exception occurred:\n",
      "\n",
      "Traceback (most recent call last):\n",
      "  File \"E:\\software\\anaconda\\lib\\threading.py\", line 926, in _bootstrap_inner\n",
      "    self.run()\n",
      "  File \"E:\\software\\anaconda\\lib\\threading.py\", line 870, in run\n",
      "    self._target(*self._args, **self._kwargs)\n",
      "  File \"<ipython-input-2-a2fd38cd9828>\", line 142, in doc_data\n",
      "    image_not_found.append(url)\n",
      "NameError: name 'image_not_found' is not defined\n",
      "\n",
      " 84%|███████████████████████████████████████████████████████████████████▌            | 362/429 [08:19<00:53,  1.26it/s]"
     ]
    },
    {
     "name": "stdout",
     "output_type": "stream",
     "text": [
      "error 1518371830_SharzadJasmin Alagheband@gmail.com http://d2uur722ua7fvv.cloudfront.net/photos/Dr-Sharzad-Jasmin-Alagheband-MD-308295-circle_large__v1__.png\n"
     ]
    },
    {
     "name": "stderr",
     "output_type": "stream",
     "text": [
      " 85%|████████████████████████████████████████████████████████████████████            | 365/429 [08:24<01:11,  1.11s/it]"
     ]
    },
    {
     "name": "stdout",
     "output_type": "stream",
     "text": [
      "error 1689231854_JustinSchaefers@gmail.com http://d2uur722ua7fvv.cloudfront.net/photos/Dr-Justin-Schaefers-OD-309733-circle_large__v2__.png\n",
      "error 1295268035_MeghaVashist@gmail.com http://d2uur722ua7fvv.cloudfront.net/photos/Dr-Megha-Vashist-MD-308768-circle_large__v1__.png\n"
     ]
    },
    {
     "name": "stderr",
     "output_type": "stream",
     "text": [
      "\r",
      " 86%|████████████████████████████████████████████████████████████████████▍           | 367/429 [08:25<00:43,  1.43it/s]"
     ]
    },
    {
     "name": "stdout",
     "output_type": "stream",
     "text": [
      "error 1366487118_SukumarPandit@gmail.com http://d2uur722ua7fvv.cloudfront.net/photos/Dr-Sukumar-Pandit-OD-273632-circle_large__v1__.png\n",
      "error 1588050728_YousefTalavari@gmail.com http://d2uur722ua7fvv.cloudfront.net/photos/Dr-Yousef-Talavari-MD-296208-circle_large__v2__.png\n"
     ]
    },
    {
     "name": "stderr",
     "output_type": "stream",
     "text": [
      " 87%|█████████████████████████████████████████████████████████████████████▌          | 373/429 [08:35<01:05,  1.18s/it]"
     ]
    },
    {
     "name": "stdout",
     "output_type": "stream",
     "text": [
      "error 1033113014_AnthonyBrissett@gmail.com http://d1k13df5m14swc.cloudfront.net/photos/Dr-Anthony-Brissett-MD-303569-circle_large__v1__.png\n"
     ]
    },
    {
     "name": "stderr",
     "output_type": "stream",
     "text": [
      " 88%|██████████████████████████████████████████████████████████████████████▍         | 378/429 [08:43<01:12,  1.42s/it]"
     ]
    },
    {
     "name": "stdout",
     "output_type": "stream",
     "text": [
      "error 1710030515_NealSchultz@gmail.com http://d2uur722ua7fvv.cloudfront.net/photos/Dr-Neal-Schultz-MD-3668-circle_large.png\n"
     ]
    },
    {
     "name": "stderr",
     "output_type": "stream",
     "text": [
      " 89%|███████████████████████████████████████████████████████████████████████         | 381/429 [08:44<00:33,  1.45it/s]"
     ]
    },
    {
     "name": "stdout",
     "output_type": "stream",
     "text": [
      "error 1508834516_GeorgeShida@gmail.com http://d2uur722ua7fvv.cloudfront.net/photos/Dr-George-Shida-OD-16584-circle_large.png\n"
     ]
    },
    {
     "name": "stderr",
     "output_type": "stream",
     "text": [
      " 89%|███████████████████████████████████████████████████████████████████████▏        | 382/429 [08:48<01:08,  1.47s/it]Exception in thread Thread-382:\n",
      "Traceback (most recent call last):\n",
      "  File \"<ipython-input-2-a2fd38cd9828>\", line 140, in doc_data\n",
      "    image = soup.find('img', {'data-test':'show-gallery'})['src']\n",
      "TypeError: 'NoneType' object is not subscriptable\n",
      "\n",
      "During handling of the above exception, another exception occurred:\n",
      "\n",
      "Traceback (most recent call last):\n",
      "  File \"E:\\software\\anaconda\\lib\\threading.py\", line 926, in _bootstrap_inner\n",
      "    self.run()\n",
      "  File \"E:\\software\\anaconda\\lib\\threading.py\", line 870, in run\n",
      "    self._target(*self._args, **self._kwargs)\n",
      "  File \"<ipython-input-2-a2fd38cd9828>\", line 142, in doc_data\n",
      "    image_not_found.append(url)\n",
      "NameError: name 'image_not_found' is not defined\n",
      "\n",
      " 90%|███████████████████████████████████████████████████████████████████████▌        | 384/429 [08:51<01:04,  1.43s/it]"
     ]
    },
    {
     "name": "stdout",
     "output_type": "stream",
     "text": [
      "error 1578753737_BeatrizCarrillo@gmail.com http://d2uur722ua7fvv.cloudfront.net/photos/Dr-Beatriz-Carrillo-DMD-317163-circle_large__v2__.png\n"
     ]
    },
    {
     "name": "stderr",
     "output_type": "stream",
     "text": [
      " 91%|████████████████████████████████████████████████████████████████████████▋       | 390/429 [08:56<00:24,  1.59it/s]Exception in thread Thread-390:\n",
      "Traceback (most recent call last):\n",
      "  File \"<ipython-input-2-a2fd38cd9828>\", line 140, in doc_data\n",
      "    image = soup.find('img', {'data-test':'show-gallery'})['src']\n",
      "TypeError: 'NoneType' object is not subscriptable\n",
      "\n",
      "During handling of the above exception, another exception occurred:\n",
      "\n",
      "Traceback (most recent call last):\n",
      "  File \"E:\\software\\anaconda\\lib\\threading.py\", line 926, in _bootstrap_inner\n",
      "    self.run()\n",
      "  File \"E:\\software\\anaconda\\lib\\threading.py\", line 870, in run\n",
      "    self._target(*self._args, **self._kwargs)\n",
      "  File \"<ipython-input-2-a2fd38cd9828>\", line 142, in doc_data\n",
      "    image_not_found.append(url)\n",
      "NameError: name 'image_not_found' is not defined\n",
      "\n",
      " 91%|████████████████████████████████████████████████████████████████████████▉       | 391/429 [09:01<01:02,  1.64s/it]"
     ]
    },
    {
     "name": "stdout",
     "output_type": "stream",
     "text": [
      "errorerror 1164431953_SteveBielamowicz@gmail.com http://d1k13df5m14swc.cloudfront.net/photos/Dr-Steve-Bielamowicz-MD-105187-circle_large__v1__.png\n",
      " 1013921147_JohnStephen Truitt@gmail.com http://d3wnzga3fpd9a.cloudfront.net/photos/Dr-John-Stephen-Truitt-DDS-137416-circle_large.png\n",
      "error 1568424935_LissetteGiraud@gmail.com http://d3wnzga3fpd9a.cloudfront.net/photos/Dr-Lissette-Giraud-MD-297183-circle_large__v2__.png\n"
     ]
    },
    {
     "name": "stderr",
     "output_type": "stream",
     "text": [
      "\r",
      " 91%|█████████████████████████████████████████████████████████████████████████       | 392/429 [09:06<01:26,  2.34s/it]"
     ]
    },
    {
     "name": "stdout",
     "output_type": "stream",
     "text": [
      "error 1306133665_AmyCheng@gmail.com http://d3wnzga3fpd9a.cloudfront.net/photos/Amy-Cheng-ARNP-302158-circle_large__v1__.png\n",
      "error 1740444181_MehrakMarzban@gmail.com http://d2uur722ua7fvv.cloudfront.net/photos/Dr-Mehrak-Marzban-MD-70092-circle_large.png\n"
     ]
    },
    {
     "name": "stderr",
     "output_type": "stream",
     "text": [
      " 93%|██████████████████████████████████████████████████████████████████████████      | 397/429 [09:08<00:24,  1.30it/s]"
     ]
    },
    {
     "name": "stdout",
     "output_type": "stream",
     "text": [
      "error 1760715825_ShariLogan@gmail.com http://d2uur722ua7fvv.cloudfront.net/photos/Shari-Logan-MSN-252989-circle_large__v2__.png\n",
      "errorerror  1215354170_AlexanderSheppe@gmail.com http://d3wnzga3fpd9a.cloudfront.net/photos/Dr-Alexander-Sheppe-MD-282473-circle_large__v1__.png\n",
      "1821389842_TimothyRyan@gmail.com http://d1k13df5m14swc.cloudfront.net/photos/Dr-Timothy-Ryan-MD-195311-circle_large__v1__.png\n"
     ]
    },
    {
     "name": "stderr",
     "output_type": "stream",
     "text": [
      "\r",
      " 93%|██████████████████████████████████████████████████████████████████████████▌     | 400/429 [09:19<01:02,  2.16s/it]"
     ]
    },
    {
     "name": "stdout",
     "output_type": "stream",
     "text": [
      "error 1215355672_RhettKent@gmail.com http://d1k13df5m14swc.cloudfront.net/photos/Dr-Rhett-Kent-MD-290379-circle_large__v1__.png\n"
     ]
    },
    {
     "name": "stderr",
     "output_type": "stream",
     "text": [
      " 95%|████████████████████████████████████████████████████████████████████████████    | 408/429 [09:27<00:25,  1.21s/it]"
     ]
    },
    {
     "name": "stdout",
     "output_type": "stream",
     "text": [
      "error 1568547800_JohnMoen@gmail.com http://d1k13df5m14swc.cloudfront.net/photos/Dr-John-Moen-MD-305119-circle_large__v1__.png\n"
     ]
    },
    {
     "name": "stderr",
     "output_type": "stream",
     "text": [
      " 96%|████████████████████████████████████████████████████████████████████████████▋   | 411/429 [09:35<00:36,  2.04s/it]"
     ]
    },
    {
     "name": "stdout",
     "output_type": "stream",
     "text": [
      "error 1023284833_AliyaHot@gmail.com http://d2uur722ua7fvv.cloudfront.net/photos/Dr-Aliya-Hot-OD-51229-circle_large__v1__.png\n",
      "error 1861478075_YuriBirbrayer@gmail.com http://d3wnzga3fpd9a.cloudfront.net/photos/Dr-Yuri-Birbrayer-MD-70807-circle_large__v1__.png\n",
      "error 1053488007_MatthewLiebentritt@gmail.com http://d1k13df5m14swc.cloudfront.net/photos/Dr-Matthew-Liebentritt-DO-276669-circle_large__v1__.png\n"
     ]
    },
    {
     "name": "stderr",
     "output_type": "stream",
     "text": [
      " 97%|█████████████████████████████████████████████████████████████████████████████▍  | 415/429 [09:37<00:12,  1.16it/s]"
     ]
    },
    {
     "name": "stdout",
     "output_type": "stream",
     "text": [
      "error 1386855120_NicoleTsang@gmail.com http://d1k13df5m14swc.cloudfront.net/photos/Dr-Nicole-Tsang-DO-218215-circle_large__v1__.png\n"
     ]
    },
    {
     "name": "stderr",
     "output_type": "stream",
     "text": [
      "Exception in thread Thread-416:\n",
      "Traceback (most recent call last):\n",
      "  File \"<ipython-input-2-a2fd38cd9828>\", line 140, in doc_data\n",
      "    image = soup.find('img', {'data-test':'show-gallery'})['src']\n",
      "TypeError: 'NoneType' object is not subscriptable\n",
      "\n",
      "During handling of the above exception, another exception occurred:\n",
      "\n",
      "Traceback (most recent call last):\n",
      "  File \"E:\\software\\anaconda\\lib\\threading.py\", line 926, in _bootstrap_inner\n",
      "    self.run()\n",
      "  File \"E:\\software\\anaconda\\lib\\threading.py\", line 870, in run\n",
      "    self._target(*self._args, **self._kwargs)\n",
      "  File \"<ipython-input-2-a2fd38cd9828>\", line 142, in doc_data\n",
      "    image_not_found.append(url)\n",
      "NameError: name 'image_not_found' is not defined\n",
      "\n",
      " 97%|█████████████████████████████████████████████████████████████████████████████▌  | 416/429 [09:41<00:20,  1.61s/it]"
     ]
    },
    {
     "name": "stdout",
     "output_type": "stream",
     "text": [
      "error 1598160046_AngeliqueYoung@gmail.com http://d3wnzga3fpd9a.cloudfront.net/photos/Angelique-Young-NP-294536-circle_large__v2__.png\n"
     ]
    },
    {
     "name": "stderr",
     "output_type": "stream",
     "text": [
      " 97%|█████████████████████████████████████████████████████████████████████████████▊  | 417/429 [09:44<00:24,  2.00s/it]Exception in thread Thread-420:\n",
      "Traceback (most recent call last):\n",
      "  File \"<ipython-input-2-a2fd38cd9828>\", line 140, in doc_data\n",
      "    image = soup.find('img', {'data-test':'show-gallery'})['src']\n",
      "TypeError: 'NoneType' object is not subscriptable\n",
      "\n",
      "During handling of the above exception, another exception occurred:\n",
      "\n",
      "Traceback (most recent call last):\n",
      "  File \"E:\\software\\anaconda\\lib\\threading.py\", line 926, in _bootstrap_inner\n",
      "    self.run()\n",
      "  File \"E:\\software\\anaconda\\lib\\threading.py\", line 870, in run\n",
      "    self._target(*self._args, **self._kwargs)\n",
      "  File \"<ipython-input-2-a2fd38cd9828>\", line 142, in doc_data\n",
      "    image_not_found.append(url)\n",
      "NameError: name 'image_not_found' is not defined\n",
      "\n",
      " 97%|█████████████████████████████████████████████████████████████████████████████▉  | 418/429 [09:45<00:17,  1.63s/it]"
     ]
    },
    {
     "name": "stdout",
     "output_type": "stream",
     "text": [
      "error 1982810354_JayasreeKesavan@gmail.com http://d1k13df5m14swc.cloudfront.net/photos/Dr-Jayasree-Kesavan-DDS-219882-circle_large__v1__.png\n"
     ]
    },
    {
     "name": "stderr",
     "output_type": "stream",
     "text": [
      " 98%|██████████████████████████████████████████████████████████████████████████████▋ | 422/429 [09:49<00:08,  1.16s/it]"
     ]
    },
    {
     "name": "stdout",
     "output_type": "stream",
     "text": [
      "error 1982045498_KatherineCarroll@gmail.com http://d2uur722ua7fvv.cloudfront.net/photos/Dr-Katherine-Carroll-DO-308252-circle_large__v1__.png\n"
     ]
    },
    {
     "name": "stderr",
     "output_type": "stream",
     "text": [
      "Exception in thread Thread-425:\n",
      "Traceback (most recent call last):\n",
      "  File \"<ipython-input-2-a2fd38cd9828>\", line 140, in doc_data\n",
      "    image = soup.find('img', {'data-test':'show-gallery'})['src']\n",
      "TypeError: 'NoneType' object is not subscriptable\n",
      "\n",
      "During handling of the above exception, another exception occurred:\n",
      "\n",
      "Traceback (most recent call last):\n",
      "  File \"E:\\software\\anaconda\\lib\\threading.py\", line 926, in _bootstrap_inner\n",
      "    self.run()\n",
      "  File \"E:\\software\\anaconda\\lib\\threading.py\", line 870, in run\n",
      "    self._target(*self._args, **self._kwargs)\n",
      "  File \"<ipython-input-2-a2fd38cd9828>\", line 142, in doc_data\n",
      "    image_not_found.append(url)\n",
      "NameError: name 'image_not_found' is not defined\n",
      "\n",
      "100%|████████████████████████████████████████████████████████████████████████████████| 429/429 [09:56<00:00,  1.39s/it]\n"
     ]
    },
    {
     "name": "stdout",
     "output_type": "stream",
     "text": [
      "error 1699336560_RobertGeis@gmail.com http://d1k13df5m14swc.cloudfront.net/photos/Dr-Robert-Geis-DDS-310257-circle_large__v1__.png\n",
      "error 1396158069_LukeKim@gmail.com http://d2uur722ua7fvv.cloudfront.net/photos/Dr-Luke-Kim-MD-289973-zoom.jpg\n",
      "error 1508880279_JaishreeKumari@gmail.com http://d1k13df5m14swc.cloudfront.net/photos/Dr-Jaishree-Kumari-MD-186459-circle_large__v1__.png\n"
     ]
    },
    {
     "name": "stderr",
     "output_type": "stream",
     "text": [
      "Exception in thread Thread-434:\n",
      "Traceback (most recent call last):\n",
      "  File \"<ipython-input-2-a2fd38cd9828>\", line 140, in doc_data\n",
      "    image = soup.find('img', {'data-test':'show-gallery'})['src']\n",
      "TypeError: 'NoneType' object is not subscriptable\n",
      "\n",
      "During handling of the above exception, another exception occurred:\n",
      "\n",
      "Traceback (most recent call last):\n",
      "  File \"E:\\software\\anaconda\\lib\\threading.py\", line 926, in _bootstrap_inner\n",
      "    self.run()\n",
      "  File \"E:\\software\\anaconda\\lib\\threading.py\", line 870, in run\n",
      "    self._target(*self._args, **self._kwargs)\n",
      "  File \"<ipython-input-2-a2fd38cd9828>\", line 142, in doc_data\n",
      "    image_not_found.append(url)\n",
      "NameError: name 'image_not_found' is not defined\n",
      "\n"
     ]
    }
   ],
   "source": [
    "import urllib.request\n",
    "import time\n",
    "import os\n",
    "from bs4 import *\n",
    "import requests as rp\n",
    "import os\n",
    "from msedge.selenium_tools import *\n",
    "import time\n",
    "from tqdm import tqdm\n",
    "import pickle\n",
    "import numpy as np\n",
    "import psycopg2 as ps\n",
    "import random\n",
    "from selenium.webdriver.common.by import *\n",
    "import selenium\n",
    "import ast\n",
    "import concurrent.futures\n",
    "import threading\n",
    "import tensorflow as tf\n",
    "import json\n",
    "\n",
    "\n",
    "options = EdgeOptions()\n",
    "options.use_chromium = True\n",
    "#options.add_argument(\"headless\")\n",
    "options.add_argument(\"disable-gpu\")\n",
    "\n",
    "#pickle_in = open('extraurls.pickle', 'rb')\n",
    "#zips = pickle.load(pickle_in)\n",
    "#pickle_in.close()\n",
    "\n",
    "def retrive_data():\n",
    "    conn = ps.connect(\n",
    "        host = '127.0.0.1',\n",
    "        database = 'zocdoc',\n",
    "        user = 'postgres',\n",
    "        password = 'ss123546',\n",
    "    )\n",
    "    cur = conn.cursor()\n",
    "    cur.execute('select distinct url from zoc_doc_urls')\n",
    "    data = cur.fetchall()\n",
    "    return data\n",
    "def push_to_table_zocdocdata(fname, lname, gender, npi, speciality, email,country,state,city,verify,password,degree,university,year,fee,bio,experience, url, location, languagespoken, review, rating):\n",
    "    conn = ps.connect(\n",
    "        host = '127.0.0.1',\n",
    "        database = 'zocdoc',\n",
    "        user = 'postgres',\n",
    "        password = 'ss123546',\n",
    "    )\n",
    "    cur = conn.cursor()\n",
    "    cur.execute('insert into \"zoc_doc_data\" values (%s,%s,%s,%s,%s,%s,%s,%s,%s,%s,%s,%s,%s,%s,%s,%s,%s,%s,%s,%s,%s,%s)', (fname, lname, npi, speciality, email,country,state,city,verify,password,degree,university,year,fee,bio,experience, url, gender, location, languagespoken, review, rating))\n",
    "    conn.commit()\n",
    "    conn.close()\n",
    "def save_image(url, file_name, file_path = 'E:/Youtube game/works/zocdoc/'):\n",
    "    try:\n",
    "        full_path = file_path+file_name+'.png'\n",
    "        if os.path.isfile(full_path) == True:\n",
    "            cpy.append(full_path)\n",
    "        urllib.request.urlretrieve(url, full_path)\n",
    "    except:\n",
    "        print('error', file_name, url)\n",
    "        pass\n",
    "\n",
    "'''\n",
    "ret_data = retrive_data()\n",
    "rest_urls = []\n",
    "count = 0\n",
    "for i in ret_data:\n",
    "    if (i[0].split(\"/\"))[3][:6] == 'search':\n",
    "        rest_urls.append(i[0])\n",
    "'''\n",
    "\n",
    "#database info\n",
    "doctors_urls = []\n",
    "ret_data = retrive_data()\n",
    "count = 0\n",
    "for i in ret_data:\n",
    "    if (i[0].split(\"/\"))[3][:6] == 'search':\n",
    "        count+=1\n",
    "    if (i[0].split(\"/\"))[3][:6] != 'search':\n",
    "        doctors_urls.append(i[0])\n",
    "print('urls:',count)\n",
    "print('doctors:', len(ret_data) - count)\n",
    "print(len(doctors_urls))\n",
    "\n",
    "#pushing urls to database\n",
    "'''\n",
    "def push_to_table(url, zip):\n",
    "    conn = ps.connect(\n",
    "        host = '127.0.0.1',\n",
    "        database = 'zocdoc',\n",
    "        user = 'postgres',\n",
    "        password = 'ss123546',\n",
    "    )\n",
    "    cur = conn.cursor()\n",
    "    cur.execute(\"insert into \" +'zoc_doc_urls ' +\"values ('{0}, {1}')\".format(url, zip))\n",
    "    conn.commit()\n",
    "    conn.close()\n",
    "'''\n",
    "#url collection\n",
    "'''\n",
    "threadLimiter = threading.BoundedSemaphore(20)\n",
    "def url_collector(url, zip):\n",
    "    driver = Edge('E:/Django/msedgedriver.exe',options = options)\n",
    "    driver.set_window_size(10, 10)\n",
    "    driver.get(url)\n",
    "    soup = BeautifulSoup(driver.page_source, 'html.parser')\n",
    "    links = soup.find_all('a', {'data-test':'doctor-card-info-name'})\n",
    "    for i in links:\n",
    "        i = 'https://www.zocdoc.com'+str(i['href'])\n",
    "        push_to_table(i, zip)\n",
    "    driver.close()\n",
    "\n",
    "    threadLimiter.release()\n",
    "\n",
    "for zip in tqdm(rest_urls[150:200]):\n",
    "    for page in tqdm(range(0,11)):\n",
    "        name = str(zip)+'&offset='+str(page)\n",
    "        print(name)\n",
    "        t= threading.Thread(target = url_collector, args = [name, ''])\n",
    "        threadLimiter.acquire()\n",
    "        try:\n",
    "            t.start()\n",
    "        except:\n",
    "            continue\n",
    "\n",
    "print(\"================================================================================================ \\n DONE \\n ================================================================================================\")\n",
    "'''\n",
    "\n",
    "def doc_data(url):\n",
    "    \n",
    "    file = 'E:/Youtube game/works/zocdoc/'\n",
    "\n",
    "    driver = Edge('E:/Django/msedgedriver.exe',options = options)\n",
    "    driver.set_window_size(10, 10)\n",
    "    driver.get(url)\n",
    "\n",
    "    soup = BeautifulSoup(driver.page_source, 'html.parser')\n",
    "    try:\n",
    "        image = soup.find('img', {'data-test':'show-gallery'})['src']\n",
    "    except:\n",
    "        image_not_found.append(url)\n",
    "        driver.close()\n",
    "        threadLimiter.release()\n",
    "        return 0\n",
    "\n",
    "    name = soup.find('h1', {'class':'sc-9yjfx1-7 iqIZAV'}).text\n",
    "    name_lis = name.split(\",\")[0].split()\n",
    "    c= 1\n",
    "    if(name_lis[0] != \"Dr.\"):\n",
    "        c-=1\n",
    "    lname = ''\n",
    "    fname = name_lis[c]\n",
    "    try:\n",
    "        lname = ' '.join(name_lis[c+1:])\n",
    "    except:\n",
    "        pass\n",
    "\n",
    "    try:\n",
    "        gender = (soup.find('section', {'data-test':'Sex-section'})).find('p').text\n",
    "    except:\n",
    "        return 0\n",
    "\n",
    "    try:\n",
    "        npi = (soup.find('section', {'data-test':'NPI-section'})).find('p').text\n",
    "    except:\n",
    "        driver.close()\n",
    "        threadLimiter.release()\n",
    "        return 0\n",
    "        \n",
    "\n",
    "    try:\n",
    "        specilities = (soup.find('section', {'data-test':'Specialties-section'})).find_all('li')\n",
    "        for i in range(len(specilities)):\n",
    "            specilities[i] = (specilities[i].text)\n",
    "        specilities = (\";\".join(specilities))\n",
    "    except:\n",
    "        specilities = ''\n",
    "    \n",
    "\n",
    "    email = str(npi)+'_' + fname + lname + '@gmail.com'\n",
    "    \n",
    "    try:\n",
    "        loc = soup.find('div', {'data-test':'location-card-address-container'}).text\n",
    "        country = 'United States'\n",
    "        state = loc.split(', ')[0]\n",
    "        city = loc.split(', ')[1]\n",
    "    except:\n",
    "        country = 'United States'\n",
    "        state = ''\n",
    "        city = ''\n",
    "\n",
    "    verify = 'True'\n",
    "    password = 'DemoDoc@1234'\n",
    "\n",
    "    try:\n",
    "        bio = soup.find('span', {'data-test':'preview-span'}).text + soup.find('span', {'class':'sc-1opoey3-3 jSGFbe'}).text\n",
    "    except:\n",
    "        bio = ''\n",
    "\n",
    "    experience = 5\n",
    "\n",
    "    education = []\n",
    "    try:\n",
    "        ed = soup.find('ul',{'data-test':'education-list'}).find_all('li')\n",
    "        for i in ed:\n",
    "            education.append({\n",
    "            'year': 1990,\n",
    "            'degree': '',\n",
    "            'university': i.text\n",
    "        })\n",
    "    except:\n",
    "        driver.close()\n",
    "        threadLimiter.release()\n",
    "        return 0\n",
    "    \n",
    "    language = []\n",
    "    try:\n",
    "        language_temp = soup.find('section', {'data-test':'Languages-section'})\n",
    "        for i in language_temp.find_all('li'):\n",
    "            language.append(i.text)\n",
    "    except:\n",
    "        pass\n",
    "    language = \", \".join(language)\n",
    "    \n",
    "    try:\n",
    "        rating = (soup.find('div', {'class':'qfkn0u-2 hgiJxr'})).text\n",
    "    except:\n",
    "        rating = '0'\n",
    "    \n",
    "\n",
    "    review = []\n",
    "    for i in soup.find_all('div', {'itemprop':'reviewBody'}):\n",
    "        review.append(i.text)\n",
    "    review = str(review)\n",
    "\n",
    "    location = []\n",
    "    for i in soup.find_all('div', {'class':'g58yd9-6 hAgxrm'}):\n",
    "        location.append(i.text)\n",
    "    location = str(location)\n",
    "\n",
    "    fee = 100\n",
    "    file += npi+'.png' \n",
    "    save_image('http:'+image, email)\n",
    "    push_to_table_zocdocdata(fname, lname, gender, npi, specilities, email, country, state, city, verify, password, str(education), str(education), str(file), fee, bio, experience, url, location, language, review, str(rating))\n",
    "\n",
    "    driver.close()\n",
    "    threadLimiter.release()\n",
    "\n",
    "\n",
    "\n",
    "threadLimiter = threading.BoundedSemaphore(40)\n",
    "\n",
    "for i in tqdm(doctors_urls[10000:]):\n",
    "    t= threading.Thread(target = doc_data, args = [i])\n",
    "    threadLimiter.acquire()\n",
    "    t.start()"
   ]
  },
  {
   "cell_type": "code",
   "execution_count": 1,
   "id": "political-stability",
   "metadata": {},
   "outputs": [],
   "source": [
    "image_not_found = []"
   ]
  },
  {
   "cell_type": "code",
   "execution_count": null,
   "id": "better-philadelphia",
   "metadata": {},
   "outputs": [],
   "source": []
  },
  {
   "cell_type": "code",
   "execution_count": 2,
   "id": "natural-shark",
   "metadata": {},
   "outputs": [],
   "source": [
    "cpy = []"
   ]
  },
  {
   "cell_type": "code",
   "execution_count": 4,
   "id": "faced-journal",
   "metadata": {},
   "outputs": [
    {
     "data": {
      "text/plain": [
       "0"
      ]
     },
     "execution_count": 4,
     "metadata": {},
     "output_type": "execute_result"
    }
   ],
   "source": [
    "len(cpy)"
   ]
  },
  {
   "cell_type": "code",
   "execution_count": 3,
   "id": "equivalent-snapshot",
   "metadata": {},
   "outputs": [
    {
     "name": "stdout",
     "output_type": "stream",
     "text": [
      "5316\n",
      "error 1356500011_HylandCronin@gmail.com http://d1k13df5m14swc.cloudfront.net/photos/Dr-Hyland-Cronin-MD-FAAD-192217-circle_large__v1__.png\n"
     ]
    }
   ],
   "source": [
    "import psycopg2 as ps\n",
    "def retrive_data():\n",
    "    conn = ps.connect(\n",
    "        host = '127.0.0.1',\n",
    "        database = 'zocdoc',\n",
    "        user = 'postgres',\n",
    "        password = 'ss123546',\n",
    "    )\n",
    "    cur = conn.cursor()\n",
    "    cur.execute('select distinct npi from zoc_doc_data')\n",
    "    data = cur.fetchall()\n",
    "    return data\n",
    "print(len(retrive_data()))"
   ]
  },
  {
   "cell_type": "code",
   "execution_count": null,
   "id": "lyric-anniversary",
   "metadata": {},
   "outputs": [],
   "source": []
  }
 ],
 "metadata": {
  "kernelspec": {
   "display_name": "Python 3",
   "language": "python",
   "name": "python3"
  },
  "language_info": {
   "codemirror_mode": {
    "name": "ipython",
    "version": 3
   },
   "file_extension": ".py",
   "mimetype": "text/x-python",
   "name": "python",
   "nbconvert_exporter": "python",
   "pygments_lexer": "ipython3",
   "version": "3.7.4"
  }
 },
 "nbformat": 4,
 "nbformat_minor": 5
}
