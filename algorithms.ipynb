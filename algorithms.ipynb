{
 "cells": [
  {
   "cell_type": "code",
   "execution_count": 11,
   "metadata": {},
   "outputs": [
    {
     "data": {
      "text/plain": [
       "('found at position', 6)"
      ]
     },
     "execution_count": 11,
     "metadata": {},
     "output_type": "execute_result"
    }
   ],
   "source": [
    "#binary search\n",
    "\n",
    "def binary_search(sorted_arr, search):                 #enters only sorted arr\n",
    "    l = 0\n",
    "    h = len(sorted_arr)\n",
    "    mid = h\n",
    "    while(mid > 0):\n",
    "        mid = (l+h)//2\n",
    "        if(sorted_arr[mid] == search):\n",
    "            return (\"found at position\",mid+1)\n",
    "        elif(sorted_arr[mid]<search):\n",
    "            l = mid\n",
    "        else:\n",
    "            h = mid\n",
    "    return(\"not found\")\n",
    "\n",
    "a = [2, 3, 4 , 5 ,6 ,7]              #can be a user_input also\n",
    "search = 7                 #can be a user input also\n",
    "\n",
    "binary_search(a, search)"
   ]
  },
  {
   "cell_type": "code",
   "execution_count": 16,
   "metadata": {},
   "outputs": [
    {
     "data": {
      "text/plain": [
       "('found at position', 3)"
      ]
     },
     "execution_count": 16,
     "metadata": {},
     "output_type": "execute_result"
    }
   ],
   "source": [
    "#binary search recursion\n",
    "\n",
    "def binary_search(arr, search , l, h):\n",
    "    mid = (l+h)//2\n",
    "    \n",
    "    if (arr[mid] == search):\n",
    "        return (\"found at position\",mid+1)\n",
    "    elif (arr[mid]< search):\n",
    "        return(binary_search(arr, search, mid+1, h))\n",
    "    elif (arr[mid] > search):\n",
    "        return(binary_search(arr, search, l, mid-1))\n",
    "    elif (mid == 0):\n",
    "        return(\"Not found\")\n",
    "    \n",
    "a = [2, 3, 4 , 5 ,6 ,7]              #can be a user_input also\n",
    "search = 4                 #can be a user input also\n",
    "\n",
    "binary_search(a, search, 0 ,len(a))"
   ]
  },
  {
   "cell_type": "code",
   "execution_count": 31,
   "metadata": {},
   "outputs": [
    {
     "name": "stdout",
     "output_type": "stream",
     "text": [
      "\n",
      "        __21__\n",
      "       /      \\\n",
      "    __9        10\n",
      "   /   \\      /  \\\n",
      "  8     1    2    3\n",
      " / \\\n",
      "1   7\n",
      "\n",
      "[21]\n",
      "\n",
      "      __10__\n",
      "     /      \\\n",
      "    9        7\n",
      "   / \\      / \\\n",
      "  8   1    2   3\n",
      " /\n",
      "1\n",
      "\n",
      "[21, 10]\n",
      "\n",
      "    __9__\n",
      "   /     \\\n",
      "  8       7\n",
      " / \\     / \\\n",
      "1   1   2   3\n",
      "\n",
      "[21, 10, 9]\n",
      "\n",
      "    __8__\n",
      "   /     \\\n",
      "  3       7\n",
      " / \\     /\n",
      "1   1   2\n",
      "\n",
      "[21, 10, 9, 8]\n",
      "\n",
      "    __7\n",
      "   /   \\\n",
      "  3     2\n",
      " / \\\n",
      "1   1\n",
      "\n",
      "[21, 10, 9, 8, 7]\n",
      "\n",
      "    3\n",
      "   / \\\n",
      "  1   2\n",
      " /\n",
      "1\n",
      "\n",
      "[21, 10, 9, 8, 7, 3]\n",
      "\n",
      "  2\n",
      " / \\\n",
      "1   1\n",
      "\n",
      "[21, 10, 9, 8, 7, 3, 2]\n",
      "\n",
      "  1\n",
      " /\n",
      "1\n",
      "\n",
      "[21, 10, 9, 8, 7, 3, 2, 1]\n",
      "\n",
      "1\n",
      "\n",
      "[21, 10, 9, 8, 7, 3, 2, 1, 1]\n"
     ]
    }
   ],
   "source": [
    "#heap sort visual\n",
    "from binarytree import build\n",
    "def heapify(arr):\n",
    "    size = len(arr)\n",
    "    while(size>0):\n",
    "        pointer = size\n",
    "        while(pointer*2<=len(arr)):\n",
    "            if(pointer*2 + 1 >len(arr)):\n",
    "                maxx = pointer*2 \n",
    "            else:\n",
    "                if(arr[pointer*2+1-1] > arr[pointer*2-1]):\n",
    "                    maxx = pointer*2+1\n",
    "                else:\n",
    "                    maxx = pointer*2\n",
    "                    \n",
    "            if(arr[pointer-1] < arr[maxx-1]):\n",
    "                arr[pointer-1], arr[maxx-1]  = arr[maxx-1], arr[pointer-1]\n",
    "                pointer = maxx                \n",
    "            else:\n",
    "                break\n",
    "        size-=1   \n",
    "    return(arr)\n",
    "\n",
    "def heap_sort(arr):\n",
    "    m=[]\n",
    "    size = len(arr)\n",
    "    while(size>0):\n",
    "        heap_arr = heapify(arr[0:size])\n",
    "        binarytree = build(heap_arr)\n",
    "        print(binarytree)\n",
    "        heap_arr[size-1], heap_arr[0] = heap_arr[0], heap_arr[size-1]\n",
    "        m.append(heap_arr[-1])\n",
    "        arr = heap_arr[0:size]\n",
    "        size-=1\n",
    "        print(m)\n",
    "        \n",
    "            \n",
    "a = [2, 1, 3,8,9,10,21,1,7]\n",
    "nodes = heap_sort(a)"
   ]
  },
  {
   "cell_type": "code",
   "execution_count": 32,
   "metadata": {},
   "outputs": [],
   "source": [
    "#heapsort_function\n",
    "def heapify(arr):\n",
    "    size = len(arr)\n",
    "    while(size>0):\n",
    "        pointer = size\n",
    "        while(pointer*2<=len(arr)):\n",
    "            if(pointer*2 + 1 >len(arr)):\n",
    "                maxx = pointer*2 \n",
    "            else:\n",
    "                if(arr[pointer*2+1-1] > arr[pointer*2-1]):\n",
    "                    maxx = pointer*2+1\n",
    "                else:\n",
    "                    maxx = pointer*2\n",
    "                    \n",
    "            if(arr[pointer-1] < arr[maxx-1]):\n",
    "                arr[pointer-1], arr[maxx-1]  = arr[maxx-1], arr[pointer-1]\n",
    "                pointer = maxx                \n",
    "            else:\n",
    "                break\n",
    "        size-=1   \n",
    "    return(arr)\n",
    "\n",
    "def heap_sort(arr):\n",
    "    m=[]\n",
    "    size = len(arr)\n",
    "    while(size>0):\n",
    "        heap_arr = heapify(arr[0:size])\n",
    "        heap_arr[size-1], heap_arr[0] = heap_arr[0], heap_arr[size-1]\n",
    "        m.append(heap_arr[-1])\n",
    "        arr = heap_arr[0:size]\n",
    "        size-=1\n",
    "    return(m)"
   ]
  },
  {
   "cell_type": "code",
   "execution_count": 35,
   "metadata": {},
   "outputs": [
    {
     "name": "stdout",
     "output_type": "stream",
     "text": [
      "[21, 10, 9, 8, 7, 3, 2, 1, 1, -1]\n"
     ]
    }
   ],
   "source": [
    "a = [2, 1, 3,8,9,10,21,1,7,-1]\n",
    "nodes = heap_sort(a)\n",
    "print(nodes)"
   ]
  },
  {
   "cell_type": "code",
   "execution_count": 37,
   "metadata": {},
   "outputs": [],
   "source": [
    "#mergesort\n",
    "def merge(arr1, arr2,low1,length1,low2,length2):\n",
    "    stor = []\n",
    "    i=low1\n",
    "    j=low2\n",
    "    k = 0\n",
    "    while(i<length1 and j<length2):\n",
    "        if(arr1[i]>=arr2[j]):\n",
    "            stor.append(arr2[j])\n",
    "            j+=1\n",
    "        else:\n",
    "            stor.append(arr1[i])\n",
    "            i+=1\n",
    "    if(i >= length1):\n",
    "        for m in arr2[j:length2]:\n",
    "            stor.append(m)\n",
    "    else:\n",
    "        for m in arr1[i:length1]:\n",
    "            stor.append(m)\n",
    "            \n",
    "    return(stor)\n",
    "        \n",
    "        \n",
    "def merge_sort(arr,l,h):\n",
    "    mid = (l+h)//2\n",
    "    temp = []\n",
    "    if(l<h):\n",
    "        \n",
    "        merge_sort(arr, l, mid)\n",
    "        merge_sort(arr, mid+1, h)\n",
    "        temp = merge(arr,arr,l,mid+1,mid,h+1)\n",
    "        print(l,mid,h)\n",
    "        print(temp)\n",
    "        arr[l:h] = temp[l:h]\n",
    "  # print(arr)\n"
   ]
  },
  {
   "cell_type": "code",
   "execution_count": 40,
   "metadata": {},
   "outputs": [
    {
     "name": "stdout",
     "output_type": "stream",
     "text": [
      "0 0 1\n",
      "[4, 3, 4]\n",
      "0 1 2\n",
      "[3, 2, 4, 3]\n",
      "3 3 4\n",
      "[1, 1, 7]\n",
      "0 2 4\n",
      "[2, 3, 2, 2, 7, 9]\n",
      "5 5 6\n",
      "[-1, -1, 4]\n"
     ]
    },
    {
     "ename": "IndexError",
     "evalue": "list index out of range",
     "output_type": "error",
     "traceback": [
      "\u001b[1;31m---------------------------------------------------------------------------\u001b[0m",
      "\u001b[1;31mIndexError\u001b[0m                                Traceback (most recent call last)",
      "\u001b[1;32m<ipython-input-40-64d9ed3b9f77>\u001b[0m in \u001b[0;36m<module>\u001b[1;34m\u001b[0m\n\u001b[0;32m      1\u001b[0m \u001b[0ma\u001b[0m \u001b[1;33m=\u001b[0m \u001b[1;33m[\u001b[0m\u001b[1;36m4\u001b[0m\u001b[1;33m,\u001b[0m\u001b[1;36m3\u001b[0m\u001b[1;33m,\u001b[0m\u001b[1;36m2\u001b[0m\u001b[1;33m,\u001b[0m\u001b[1;36m1\u001b[0m\u001b[1;33m,\u001b[0m\u001b[1;36m7\u001b[0m\u001b[1;33m,\u001b[0m\u001b[1;36m9\u001b[0m\u001b[1;33m,\u001b[0m\u001b[1;33m-\u001b[0m\u001b[1;36m1\u001b[0m\u001b[1;33m,\u001b[0m\u001b[1;36m4\u001b[0m\u001b[1;33m,\u001b[0m\u001b[1;36m12\u001b[0m\u001b[1;33m]\u001b[0m\u001b[1;33m\u001b[0m\u001b[1;33m\u001b[0m\u001b[0m\n\u001b[1;32m----> 2\u001b[1;33m \u001b[0mmerge_sort\u001b[0m\u001b[1;33m(\u001b[0m\u001b[0ma\u001b[0m\u001b[1;33m,\u001b[0m\u001b[1;36m0\u001b[0m\u001b[1;33m,\u001b[0m\u001b[0mlen\u001b[0m\u001b[1;33m(\u001b[0m\u001b[0ma\u001b[0m\u001b[1;33m)\u001b[0m\u001b[1;33m)\u001b[0m\u001b[1;33m\u001b[0m\u001b[1;33m\u001b[0m\u001b[0m\n\u001b[0m",
      "\u001b[1;32m<ipython-input-37-30925b92d733>\u001b[0m in \u001b[0;36mmerge_sort\u001b[1;34m(arr, l, h)\u001b[0m\n\u001b[0;32m     28\u001b[0m \u001b[1;33m\u001b[0m\u001b[0m\n\u001b[0;32m     29\u001b[0m         \u001b[0mmerge_sort\u001b[0m\u001b[1;33m(\u001b[0m\u001b[0marr\u001b[0m\u001b[1;33m,\u001b[0m \u001b[0ml\u001b[0m\u001b[1;33m,\u001b[0m \u001b[0mmid\u001b[0m\u001b[1;33m)\u001b[0m\u001b[1;33m\u001b[0m\u001b[1;33m\u001b[0m\u001b[0m\n\u001b[1;32m---> 30\u001b[1;33m         \u001b[0mmerge_sort\u001b[0m\u001b[1;33m(\u001b[0m\u001b[0marr\u001b[0m\u001b[1;33m,\u001b[0m \u001b[0mmid\u001b[0m\u001b[1;33m+\u001b[0m\u001b[1;36m1\u001b[0m\u001b[1;33m,\u001b[0m \u001b[0mh\u001b[0m\u001b[1;33m)\u001b[0m\u001b[1;33m\u001b[0m\u001b[1;33m\u001b[0m\u001b[0m\n\u001b[0m\u001b[0;32m     31\u001b[0m         \u001b[0mtemp\u001b[0m \u001b[1;33m=\u001b[0m \u001b[0mmerge\u001b[0m\u001b[1;33m(\u001b[0m\u001b[0marr\u001b[0m\u001b[1;33m,\u001b[0m\u001b[0marr\u001b[0m\u001b[1;33m,\u001b[0m\u001b[0ml\u001b[0m\u001b[1;33m,\u001b[0m\u001b[0mmid\u001b[0m\u001b[1;33m+\u001b[0m\u001b[1;36m1\u001b[0m\u001b[1;33m,\u001b[0m\u001b[0mmid\u001b[0m\u001b[1;33m,\u001b[0m\u001b[0mh\u001b[0m\u001b[1;33m+\u001b[0m\u001b[1;36m1\u001b[0m\u001b[1;33m)\u001b[0m\u001b[1;33m\u001b[0m\u001b[1;33m\u001b[0m\u001b[0m\n\u001b[0;32m     32\u001b[0m         \u001b[0mprint\u001b[0m\u001b[1;33m(\u001b[0m\u001b[0ml\u001b[0m\u001b[1;33m,\u001b[0m\u001b[0mmid\u001b[0m\u001b[1;33m,\u001b[0m\u001b[0mh\u001b[0m\u001b[1;33m)\u001b[0m\u001b[1;33m\u001b[0m\u001b[1;33m\u001b[0m\u001b[0m\n",
      "\u001b[1;32m<ipython-input-37-30925b92d733>\u001b[0m in \u001b[0;36mmerge_sort\u001b[1;34m(arr, l, h)\u001b[0m\n\u001b[0;32m     27\u001b[0m     \u001b[1;32mif\u001b[0m\u001b[1;33m(\u001b[0m\u001b[0ml\u001b[0m\u001b[1;33m<\u001b[0m\u001b[0mh\u001b[0m\u001b[1;33m)\u001b[0m\u001b[1;33m:\u001b[0m\u001b[1;33m\u001b[0m\u001b[1;33m\u001b[0m\u001b[0m\n\u001b[0;32m     28\u001b[0m \u001b[1;33m\u001b[0m\u001b[0m\n\u001b[1;32m---> 29\u001b[1;33m         \u001b[0mmerge_sort\u001b[0m\u001b[1;33m(\u001b[0m\u001b[0marr\u001b[0m\u001b[1;33m,\u001b[0m \u001b[0ml\u001b[0m\u001b[1;33m,\u001b[0m \u001b[0mmid\u001b[0m\u001b[1;33m)\u001b[0m\u001b[1;33m\u001b[0m\u001b[1;33m\u001b[0m\u001b[0m\n\u001b[0m\u001b[0;32m     30\u001b[0m         \u001b[0mmerge_sort\u001b[0m\u001b[1;33m(\u001b[0m\u001b[0marr\u001b[0m\u001b[1;33m,\u001b[0m \u001b[0mmid\u001b[0m\u001b[1;33m+\u001b[0m\u001b[1;36m1\u001b[0m\u001b[1;33m,\u001b[0m \u001b[0mh\u001b[0m\u001b[1;33m)\u001b[0m\u001b[1;33m\u001b[0m\u001b[1;33m\u001b[0m\u001b[0m\n\u001b[0;32m     31\u001b[0m         \u001b[0mtemp\u001b[0m \u001b[1;33m=\u001b[0m \u001b[0mmerge\u001b[0m\u001b[1;33m(\u001b[0m\u001b[0marr\u001b[0m\u001b[1;33m,\u001b[0m\u001b[0marr\u001b[0m\u001b[1;33m,\u001b[0m\u001b[0ml\u001b[0m\u001b[1;33m,\u001b[0m\u001b[0mmid\u001b[0m\u001b[1;33m+\u001b[0m\u001b[1;36m1\u001b[0m\u001b[1;33m,\u001b[0m\u001b[0mmid\u001b[0m\u001b[1;33m,\u001b[0m\u001b[0mh\u001b[0m\u001b[1;33m+\u001b[0m\u001b[1;36m1\u001b[0m\u001b[1;33m)\u001b[0m\u001b[1;33m\u001b[0m\u001b[1;33m\u001b[0m\u001b[0m\n",
      "\u001b[1;32m<ipython-input-37-30925b92d733>\u001b[0m in \u001b[0;36mmerge_sort\u001b[1;34m(arr, l, h)\u001b[0m\n\u001b[0;32m     29\u001b[0m         \u001b[0mmerge_sort\u001b[0m\u001b[1;33m(\u001b[0m\u001b[0marr\u001b[0m\u001b[1;33m,\u001b[0m \u001b[0ml\u001b[0m\u001b[1;33m,\u001b[0m \u001b[0mmid\u001b[0m\u001b[1;33m)\u001b[0m\u001b[1;33m\u001b[0m\u001b[1;33m\u001b[0m\u001b[0m\n\u001b[0;32m     30\u001b[0m         \u001b[0mmerge_sort\u001b[0m\u001b[1;33m(\u001b[0m\u001b[0marr\u001b[0m\u001b[1;33m,\u001b[0m \u001b[0mmid\u001b[0m\u001b[1;33m+\u001b[0m\u001b[1;36m1\u001b[0m\u001b[1;33m,\u001b[0m \u001b[0mh\u001b[0m\u001b[1;33m)\u001b[0m\u001b[1;33m\u001b[0m\u001b[1;33m\u001b[0m\u001b[0m\n\u001b[1;32m---> 31\u001b[1;33m         \u001b[0mtemp\u001b[0m \u001b[1;33m=\u001b[0m \u001b[0mmerge\u001b[0m\u001b[1;33m(\u001b[0m\u001b[0marr\u001b[0m\u001b[1;33m,\u001b[0m\u001b[0marr\u001b[0m\u001b[1;33m,\u001b[0m\u001b[0ml\u001b[0m\u001b[1;33m,\u001b[0m\u001b[0mmid\u001b[0m\u001b[1;33m+\u001b[0m\u001b[1;36m1\u001b[0m\u001b[1;33m,\u001b[0m\u001b[0mmid\u001b[0m\u001b[1;33m,\u001b[0m\u001b[0mh\u001b[0m\u001b[1;33m+\u001b[0m\u001b[1;36m1\u001b[0m\u001b[1;33m)\u001b[0m\u001b[1;33m\u001b[0m\u001b[1;33m\u001b[0m\u001b[0m\n\u001b[0m\u001b[0;32m     32\u001b[0m         \u001b[0mprint\u001b[0m\u001b[1;33m(\u001b[0m\u001b[0ml\u001b[0m\u001b[1;33m,\u001b[0m\u001b[0mmid\u001b[0m\u001b[1;33m,\u001b[0m\u001b[0mh\u001b[0m\u001b[1;33m)\u001b[0m\u001b[1;33m\u001b[0m\u001b[1;33m\u001b[0m\u001b[0m\n\u001b[0;32m     33\u001b[0m         \u001b[0mprint\u001b[0m\u001b[1;33m(\u001b[0m\u001b[0mtemp\u001b[0m\u001b[1;33m)\u001b[0m\u001b[1;33m\u001b[0m\u001b[1;33m\u001b[0m\u001b[0m\n",
      "\u001b[1;32m<ipython-input-37-30925b92d733>\u001b[0m in \u001b[0;36mmerge\u001b[1;34m(arr1, arr2, low1, length1, low2, length2)\u001b[0m\n\u001b[0;32m      6\u001b[0m     \u001b[0mk\u001b[0m \u001b[1;33m=\u001b[0m \u001b[1;36m0\u001b[0m\u001b[1;33m\u001b[0m\u001b[1;33m\u001b[0m\u001b[0m\n\u001b[0;32m      7\u001b[0m     \u001b[1;32mwhile\u001b[0m\u001b[1;33m(\u001b[0m\u001b[0mi\u001b[0m\u001b[1;33m<\u001b[0m\u001b[0mlength1\u001b[0m \u001b[1;32mand\u001b[0m \u001b[0mj\u001b[0m\u001b[1;33m<\u001b[0m\u001b[0mlength2\u001b[0m\u001b[1;33m)\u001b[0m\u001b[1;33m:\u001b[0m\u001b[1;33m\u001b[0m\u001b[1;33m\u001b[0m\u001b[0m\n\u001b[1;32m----> 8\u001b[1;33m         \u001b[1;32mif\u001b[0m\u001b[1;33m(\u001b[0m\u001b[0marr1\u001b[0m\u001b[1;33m[\u001b[0m\u001b[0mi\u001b[0m\u001b[1;33m]\u001b[0m\u001b[1;33m>=\u001b[0m\u001b[0marr2\u001b[0m\u001b[1;33m[\u001b[0m\u001b[0mj\u001b[0m\u001b[1;33m]\u001b[0m\u001b[1;33m)\u001b[0m\u001b[1;33m:\u001b[0m\u001b[1;33m\u001b[0m\u001b[1;33m\u001b[0m\u001b[0m\n\u001b[0m\u001b[0;32m      9\u001b[0m             \u001b[0mstor\u001b[0m\u001b[1;33m.\u001b[0m\u001b[0mappend\u001b[0m\u001b[1;33m(\u001b[0m\u001b[0marr2\u001b[0m\u001b[1;33m[\u001b[0m\u001b[0mj\u001b[0m\u001b[1;33m]\u001b[0m\u001b[1;33m)\u001b[0m\u001b[1;33m\u001b[0m\u001b[1;33m\u001b[0m\u001b[0m\n\u001b[0;32m     10\u001b[0m             \u001b[0mj\u001b[0m\u001b[1;33m+=\u001b[0m\u001b[1;36m1\u001b[0m\u001b[1;33m\u001b[0m\u001b[1;33m\u001b[0m\u001b[0m\n",
      "\u001b[1;31mIndexError\u001b[0m: list index out of range"
     ]
    }
   ],
   "source": [
    "a = [4,3,2,1,7,9,-1,4,12]\n",
    "merge_sort(a,0,len(a))"
   ]
  },
  {
   "cell_type": "code",
   "execution_count": null,
   "metadata": {},
   "outputs": [],
   "source": [
    "def quicksort(arr, l = 0, h = len(arr)):\n",
    "    pivot = arr[l]\n",
    "    i=l\n",
    "    j=h\n",
    "    "
   ]
  },
  {
   "cell_type": "code",
   "execution_count": 3,
   "metadata": {},
   "outputs": [],
   "source": [
    "def wierd(arr1, arr2):\n",
    "    summ = 0\n",
    "    n = len(arr1)\n",
    "    for i in range(n):\n",
    "        summ+=(arr1[i] * arr2[n-i-1])\n",
    "    return summ"
   ]
  },
  {
   "cell_type": "code",
   "execution_count": 26,
   "metadata": {},
   "outputs": [],
   "source": [
    "l = [1,9,2,3,0,6,7,8]"
   ]
  },
  {
   "cell_type": "code",
   "execution_count": 27,
   "metadata": {},
   "outputs": [],
   "source": [
    "def make_table(arr):\n",
    "    table = []\n",
    "    n = len(arr)\n",
    "    \n",
    "    for i in range(n):\n",
    "        b = []\n",
    "        for j in range(n):\n",
    "            if(i<j):\n",
    "                b.append(arr[i]*arr[j])\n",
    "            else:\n",
    "                b.append(-1)\n",
    "        table.append(b)\n",
    "    return table"
   ]
  },
  {
   "cell_type": "code",
   "execution_count": 28,
   "metadata": {},
   "outputs": [
    {
     "data": {
      "text/plain": [
       "[[-1, 9, 2, 3, 0, 6, 7, 8],\n",
       " [-1, -1, 18, 27, 0, 54, 63, 72],\n",
       " [-1, -1, -1, 6, 0, 12, 14, 16],\n",
       " [-1, -1, -1, -1, 0, 18, 21, 24],\n",
       " [-1, -1, -1, -1, -1, 0, 0, 0],\n",
       " [-1, -1, -1, -1, -1, -1, 42, 48],\n",
       " [-1, -1, -1, -1, -1, -1, -1, 56],\n",
       " [-1, -1, -1, -1, -1, -1, -1, -1]]"
      ]
     },
     "execution_count": 28,
     "metadata": {},
     "output_type": "execute_result"
    }
   ],
   "source": [
    "make_table(l)"
   ]
  },
  {
   "cell_type": "code",
   "execution_count": 1,
   "metadata": {},
   "outputs": [
    {
     "name": "stdout",
     "output_type": "stream",
     "text": [
      " [0, 1, 5, 6] \n",
      " [0, 0, 0, 0] \n",
      " [0, 0, 1, 1, -1, 2, 2, 2, 3, 3, 3, 3] \n",
      " [2, 4, 8, 12]\n",
      "[2, 3, 3, 6]\n"
     ]
    }
   ],
   "source": [
    "#FCFS\n",
    "AT = [0,1,5,6]\n",
    "BT = [2,2,3,4]\n",
    "GANT_CHAT = []\n",
    "CT = []\n",
    "time = 0\n",
    "\n",
    "def run(BT):\n",
    "    for i in BT:\n",
    "        if(i != 0):\n",
    "            return 1\n",
    "    return 0\n",
    "    \n",
    "while(run(BT)):\n",
    "    for i in range(len(AT)):\n",
    "        found = 0\n",
    "        if(AT[i] <= time and BT[i] != 0):\n",
    "            GANT_CHAT.append(i)\n",
    "            \n",
    "            BT[i] -= 1\n",
    "            \n",
    "            found = 1\n",
    "            break\n",
    "    if found == 0:GANT_CHAT.append(-1)\n",
    "    time += 1   \n",
    "    \n",
    "for i in range(len(AT)):\n",
    "    maxx = -1\n",
    "    for j in range(len(GANT_CHAT)):\n",
    "        if(i == GANT_CHAT[j]):maxx = j+1\n",
    "    CT.append(maxx)\n",
    "    \n",
    "print(\"\",AT,\"\\n\",BT,\"\\n\",GANT_CHAT,\"\\n\", CT)\n",
    "print(list(map(lambda i:i[1]-i[0], list(zip(AT, CT)))))"
   ]
  },
  {
   "cell_type": "code",
   "execution_count": 1,
   "metadata": {},
   "outputs": [
    {
     "name": "stdout",
     "output_type": "stream",
     "text": [
      "[1, 3, 0, 2] [1, 3, 0, 2] [4, 5, 8, 9]\n",
      " [1, 3, 0, 2] \n",
      " [0, 0, 0, 0] \n",
      " [0, 1, 1, 1, 1, 3, 3, 3, 3, 3, 0, 0, 0, 0, 0, 0, 0, 2, 2, 2, 2, 2, 2, 2, 2, 2] \n",
      " [17, 5, 26, 10]\n",
      "[16, 2, 26, 8]\n"
     ]
    }
   ],
   "source": [
    "#SJF\n",
    "p = [0,1,2,3]\n",
    "AT = [0,1,2,3]\n",
    "BT = [8,4,9,5]\n",
    "GANT_CHAT = []\n",
    "CT = []\n",
    "time = 0\n",
    "\n",
    "def sort(p, AT, BT):\n",
    "    for i in range(len(BT)):\n",
    "        for j in range(len(BT) - 1):\n",
    "            if BT[j] > BT[j+1]:\n",
    "                BT[j], BT[j+1] = BT[j+1], BT[j]\n",
    "                p[j], p[j+1] = p[j+1], p[j]\n",
    "                AT[j], AT[j+1] = AT[j+1], AT[j]\n",
    "    return p,AT,BT\n",
    "def run(BT):\n",
    "    for i in BT:\n",
    "        if(i != 0):\n",
    "            return 1\n",
    "    return 0\n",
    "\n",
    "p,AT,BT = sort(p, AT,BT)\n",
    "print(p,AT,BT)\n",
    "\n",
    "while(run(BT)):\n",
    "    for i in range(len(AT)):\n",
    "        found = 0\n",
    "        if(AT[i] <= time and BT[i] != 0):\n",
    "            GANT_CHAT.append(p[i])\n",
    "            \n",
    "            BT[i] -= 1\n",
    "            \n",
    "            found = 1\n",
    "            break\n",
    "    if found == 0:GANT_CHAT.append(-1)\n",
    "    time += 1   \n",
    "    \n",
    "for i in range(len(AT)):\n",
    "    maxx = -1\n",
    "    for j in range(len(GANT_CHAT)):\n",
    "        if(i == GANT_CHAT[j]):maxx = j+1\n",
    "    CT.append(maxx)\n",
    "    \n",
    "print(\"\",AT,\"\\n\",BT,\"\\n\",GANT_CHAT,\"\\n\", CT)\n",
    "print(list(map(lambda i:i[1]-i[0], list(zip(AT, CT)))))"
   ]
  },
  {
   "cell_type": "code",
   "execution_count": 4,
   "metadata": {},
   "outputs": [
    {
     "name": "stdout",
     "output_type": "stream",
     "text": [
      "[1, 1, 2, 2, 1, 1, 1, 1, 1, 1, 1]\n",
      " [0, 2] \n",
      " [0, 0] \n",
      " [11, 4]\n",
      "[11, 2]\n"
     ]
    }
   ],
   "source": [
    "#SRTF\n",
    "AT = [0,2]\n",
    "BT = [9,2]\n",
    "GANT_CHAT = []\n",
    "CT = []\n",
    "available_queue = [0]*len(BT)\n",
    "time = 0\n",
    "\n",
    "def run(BT):\n",
    "    for i in BT:\n",
    "        if(i != 0):\n",
    "            return 1\n",
    "    return 0\n",
    "\n",
    "while(run(BT) ):\n",
    "    for i in range(len(AT)):\n",
    "        if(AT[i] <= time):\n",
    "            \n",
    "            available_queue[i] = BT[i]\n",
    "            \n",
    "    time += 1 \n",
    "    \n",
    "    minn = 999999\n",
    "    minn_index = -1\n",
    "    for i in range(len(available_queue)):\n",
    "        if(available_queue[i] != 0):\n",
    "            if available_queue[i]<minn:\n",
    "                minn = available_queue[i]\n",
    "                minn_index = i\n",
    "            \n",
    "                \n",
    "    if(minn_index != -1):\n",
    "        GANT_CHAT.append(minn_index+1)\n",
    "        BT[minn_index] -= 1 \n",
    "    else:\n",
    "        GANT_CHAT.append(-1)\n",
    "    \n",
    "            \n",
    "print(GANT_CHAT)\n",
    "\n",
    "for i in range(len(AT)):\n",
    "    maxx = -1\n",
    "    for j in range(len(GANT_CHAT)):\n",
    "        if(i == GANT_CHAT[j]-1):maxx = j+1\n",
    "    CT.append(maxx)\n",
    "    \n",
    "print(\"\",AT,\"\\n\",BT,\"\\n\", CT)\n",
    "print(list(map(lambda i:i[1]-i[0], list(zip(AT, CT)))))"
   ]
  },
  {
   "cell_type": "code",
   "execution_count": null,
   "metadata": {},
   "outputs": [],
   "source": []
  }
 ],
 "metadata": {
  "kernelspec": {
   "display_name": "Python 3",
   "language": "python",
   "name": "python3"
  },
  "language_info": {
   "codemirror_mode": {
    "name": "ipython",
    "version": 3
   },
   "file_extension": ".py",
   "mimetype": "text/x-python",
   "name": "python",
   "nbconvert_exporter": "python",
   "pygments_lexer": "ipython3",
   "version": "3.7.4"
  }
 },
 "nbformat": 4,
 "nbformat_minor": 2
}
